{
 "cells": [
  {
   "cell_type": "markdown",
   "id": "8f7bbd58-af66-456a-85e9-9781e232c191",
   "metadata": {},
   "source": [
    "<img src=\"../../images/banners/python-basics.png\" width=\"600\"/>"
   ]
  },
  {
   "cell_type": "markdown",
   "id": "6b5557e4-760a-48f5-ad6c-eb0fbbf2e708",
   "metadata": {},
   "source": [
    "# <img src=\"../../images/logos/python.png\" width=\"23\"/> Defining Your Own Python Function, Part #2"
   ]
  },
  {
   "cell_type": "markdown",
   "id": "c8c4dba3-bba0-4fd4-8668-4961399cd4f0",
   "metadata": {},
   "source": [
    "## <img src=\"../../images/logos/toc.png\" width=\"20\"/> Table of Contents \n",
    "* [Variable-Length Argument Lists](#variable-length_argument_lists)\n",
    "    * [Argument Tuple Packing](#argument_tuple_packing)\n",
    "    * [Argument Tuple Unpacking](#argument_tuple_unpacking)\n",
    "    * [Argument Dictionary Packing](#argument_dictionary_packing)\n",
    "    * [Argument Dictionary Unpacking](#argument_dictionary_unpacking)\n",
    "    * [Putting It All Together](#putting_it_all_together)\n",
    "    * [Multiple Unpackings in a Python Function Call](#multiple_unpackings_in_a_python_function_call)\n",
    "* [Keyword-Only Arguments](#keyword-only_arguments)\n",
    "* [Positional-Only Arguments](#positional-only_arguments)\n",
    "* [Docstrings](#docstrings)\n",
    "* [Python Function Annotations](#python_function_annotations)\n",
    "* [Conclusion](#conclusion)\n",
    "\n",
    "---"
   ]
  },
  {
   "cell_type": "markdown",
   "id": "3302b130-88cb-4beb-9e7e-8f38e4af891a",
   "metadata": {},
   "source": [
    "Now that you've learned the basics of functions, let's explore how we can make it more flexible and advanced."
   ]
  },
  {
   "cell_type": "markdown",
   "id": "c386b1b5-78e1-4d6f-936c-54ac1e747352",
   "metadata": {},
   "source": [
    "<a class=\"anchor\" id=\"variable-length_argument_lists\"></a>\n",
    "## Variable-Length Argument Lists"
   ]
  },
  {
   "cell_type": "markdown",
   "id": "cd67e3af-94a6-413f-b117-d54ce8649f4c",
   "metadata": {},
   "source": [
    "In some cases, when you’re defining a function, you may not know beforehand how many arguments you’ll want it to take. Suppose, for example, that you want to write a Python function that computes the average of several values. You could start with something like this:"
   ]
  },
  {
   "cell_type": "code",
   "execution_count": null,
   "id": "31065df4-9464-4f45-a1f8-ac283b55827e",
   "metadata": {},
   "outputs": [],
   "source": [
    "def avg(a, b, c):\n",
    "    return (a + b + c) / 3"
   ]
  },
  {
   "cell_type": "markdown",
   "id": "8abf81c5-748d-428f-8177-5c50b1572b9d",
   "metadata": {},
   "source": [
    "All is well if you want to average three values:"
   ]
  },
  {
   "cell_type": "code",
   "execution_count": null,
   "id": "84b9f157-6e12-475f-a995-ee35d3fd06f7",
   "metadata": {},
   "outputs": [
    {
     "data": {
      "text/plain": [
       "2.0"
      ]
     },
     "execution_count": 301,
     "metadata": {},
     "output_type": "execute_result"
    }
   ],
   "source": [
    "avg(1, 2, 3)"
   ]
  },
  {
   "cell_type": "markdown",
   "id": "e3b4db65-e563-4694-bf28-9fe3656922e6",
   "metadata": {},
   "source": [
    "However, as you’ve already seen, when positional arguments are used, the number of arguments passed must agree with the number of parameters declared. Clearly then, all isn’t well with this implementation of `avg()` for any number of values other than three:"
   ]
  },
  {
   "cell_type": "code",
   "execution_count": null,
   "id": "44bfc9e8-6dbc-469a-b705-2562102769cd",
   "metadata": {},
   "outputs": [
    {
     "ename": "TypeError",
     "evalue": "avg() takes 3 positional arguments but 4 were given",
     "output_type": "error",
     "traceback": [
      "\u001b[0;31m---------------------------------------------------------------------------\u001b[0m",
      "\u001b[0;31mTypeError\u001b[0m                                 Traceback (most recent call last)",
      "\u001b[0;32m/var/folders/b4/tsp68dlx1gz9xlnpgbx21ytc0000gn/T/ipykernel_42366/1612909575.py\u001b[0m in \u001b[0;36m<module>\u001b[0;34m\u001b[0m\n\u001b[0;32m----> 1\u001b[0;31m \u001b[0mavg\u001b[0m\u001b[0;34m(\u001b[0m\u001b[0;36m1\u001b[0m\u001b[0;34m,\u001b[0m \u001b[0;36m2\u001b[0m\u001b[0;34m,\u001b[0m \u001b[0;36m3\u001b[0m\u001b[0;34m,\u001b[0m \u001b[0;36m4\u001b[0m\u001b[0;34m)\u001b[0m\u001b[0;34m\u001b[0m\u001b[0;34m\u001b[0m\u001b[0m\n\u001b[0m",
      "\u001b[0;31mTypeError\u001b[0m: avg() takes 3 positional arguments but 4 were given"
     ]
    }
   ],
   "source": [
    "avg(1, 2, 3, 4)"
   ]
  },
  {
   "cell_type": "markdown",
   "id": "0443b204-8338-4402-a5d6-7bac69110d14",
   "metadata": {},
   "source": [
    "You could try to define `avg()` with optional parameters:\n",
    "```python\n",
    "def avg(a, b=0, c=0, d=0, e=0):\n",
    "    .\n",
    "    .\n",
    "    .\n",
    "```"
   ]
  },
  {
   "cell_type": "markdown",
   "id": "3d17de62-eb82-482f-9b99-95b74eb108b9",
   "metadata": {},
   "source": [
    "This allows for a variable number of arguments to be specified. The following calls are at least syntactically correct:\n",
    "\n",
    "```python\n",
    "avg(1)\n",
    "avg(1, 2)\n",
    "avg(1, 2, 3)\n",
    "avg(1, 2, 3, 4)\n",
    "avg(1, 2, 3, 4, 5)\n",
    "```"
   ]
  },
  {
   "cell_type": "markdown",
   "id": "b75c33e0-31ed-43de-8ca5-b7012bb6bf0c",
   "metadata": {},
   "source": [
    "But this approach still suffers from a couple of problems. For starters, it still only allows up to five arguments, not an arbitrary number. Worse yet, there’s no way to distinguish between the arguments that were specified and those that were allowed to default. The function has no way to know how many arguments were actually passed, so it doesn’t know what to divide by:\n",
    "\n",
    "```python\n",
    "def avg(a, b=0, c=0, d=0, e=0):\n",
    "    return (a + b + c + d + e) / # Divided by what???\n",
    "```"
   ]
  },
  {
   "cell_type": "markdown",
   "id": "9ddc4e22-8aa3-447f-9595-3d2f3bf3870a",
   "metadata": {},
   "source": [
    "Evidently, this won’t do either."
   ]
  },
  {
   "cell_type": "markdown",
   "id": "a74eb16f-167f-47ba-bd9c-159b5aa6f7db",
   "metadata": {},
   "source": [
    "You could write `avg()` to take a single list argument:"
   ]
  },
  {
   "cell_type": "code",
   "execution_count": null,
   "id": "2de0559b-58c9-43e7-85b8-e4f23cd35684",
   "metadata": {},
   "outputs": [],
   "source": [
    "def avg(a):\n",
    "    total = 0\n",
    "    for v in a:\n",
    "        total += v\n",
    "    return total / len(a)"
   ]
  },
  {
   "cell_type": "code",
   "execution_count": null,
   "id": "1c61672a-e174-4a91-9f35-29f5b5e11921",
   "metadata": {},
   "outputs": [
    {
     "data": {
      "text/plain": [
       "2.0"
      ]
     },
     "execution_count": 304,
     "metadata": {},
     "output_type": "execute_result"
    }
   ],
   "source": [
    "avg([1, 2, 3])"
   ]
  },
  {
   "cell_type": "code",
   "execution_count": null,
   "id": "6c5e3107-86a3-4adf-90f4-7e56fcb09c79",
   "metadata": {},
   "outputs": [
    {
     "data": {
      "text/plain": [
       "3.0"
      ]
     },
     "execution_count": 305,
     "metadata": {},
     "output_type": "execute_result"
    }
   ],
   "source": [
    "avg([1, 2, 3, 4, 5])"
   ]
  },
  {
   "cell_type": "markdown",
   "id": "fab56445-d050-4d5e-ab91-1c5e17b8d03f",
   "metadata": {},
   "source": [
    "At least this works. It allows an arbitrary number of values and produces a correct result. As an added bonus, it works when the argument is a tuple as well:\n",
    "\n"
   ]
  },
  {
   "cell_type": "code",
   "execution_count": null,
   "id": "ca8c937e-b347-4ae5-9efc-92d8abd765c3",
   "metadata": {},
   "outputs": [
    {
     "data": {
      "text/plain": [
       "3.0"
      ]
     },
     "execution_count": 132,
     "metadata": {},
     "output_type": "execute_result"
    }
   ],
   "source": [
    "t = (1, 2, 3, 4, 5)\n",
    "avg(t)"
   ]
  },
  {
   "cell_type": "markdown",
   "id": "27c14c6e-0a4f-4229-8078-d887960e0df3",
   "metadata": {},
   "source": [
    "The drawback is that the added step of having to group the values into a list or tuple is probably not something the user of the function would expect, and it isn’t very elegant. Whenever you find Python code that looks inelegant, there’s probably a better option."
   ]
  },
  {
   "cell_type": "markdown",
   "id": "e77ae1eb-2a6e-499e-b01c-ff3490e25962",
   "metadata": {},
   "source": [
    "In this case, indeed there is! Python provides a way to pass a function a variable number of arguments with argument tuple packing and unpacking using the asterisk (`*`) operator."
   ]
  },
  {
   "cell_type": "markdown",
   "id": "dfa6f885-1e30-4941-9508-9122c5fcf3d4",
   "metadata": {},
   "source": [
    "<a class=\"anchor\" id=\"argument_tuple_packing\"></a>\n",
    "### Argument Tuple Packing"
   ]
  },
  {
   "cell_type": "markdown",
   "id": "0b74889d-6dd5-48a9-a1a8-fc9fa01f999d",
   "metadata": {},
   "source": [
    "When a parameter name in a Python function definition is preceded by an asterisk (`*`), it indicates **argument tuple packing**. Any corresponding arguments in the function call are packed into a tuple that the function can refer to by the given parameter name. Here’s an example:"
   ]
  },
  {
   "cell_type": "code",
   "execution_count": null,
   "id": "af92ea66-189d-4d35-a2dc-9be00f17f7d5",
   "metadata": {},
   "outputs": [],
   "source": [
    "def f(*args):\n",
    "    print(args)\n",
    "    print(type(args), len(args))\n",
    "    for x in args:\n",
    "        print(x)"
   ]
  },
  {
   "cell_type": "code",
   "execution_count": null,
   "id": "78e99668-7e28-41d8-a289-06188de102aa",
   "metadata": {},
   "outputs": [
    {
     "name": "stdout",
     "output_type": "stream",
     "text": [
      "(1, 2, 3)\n",
      "<class 'tuple'> 3\n",
      "1\n",
      "2\n",
      "3\n"
     ]
    }
   ],
   "source": [
    "f(1, 2, 3)"
   ]
  },
  {
   "cell_type": "code",
   "execution_count": null,
   "id": "24d7d0b6-23f8-4a21-aa21-a62bff76477c",
   "metadata": {},
   "outputs": [
    {
     "name": "stdout",
     "output_type": "stream",
     "text": [
      "('foo', 'bar', 'baz', 'qux', 'quux')\n",
      "<class 'tuple'> 5\n",
      "foo\n",
      "bar\n",
      "baz\n",
      "qux\n",
      "quux\n"
     ]
    }
   ],
   "source": [
    "f('foo', 'bar', 'baz', 'qux', 'quux')"
   ]
  },
  {
   "cell_type": "markdown",
   "id": "fbffbe87-5276-40d5-80d7-254bac60d58f",
   "metadata": {},
   "source": [
    "In the definition of `f()`, the parameter specification `*args` indicates tuple packing. In each call to `f()`, the arguments are packed into a tuple that the function can refer to by the name `args`. Any name can be used, but `args` is so commonly chosen that it’s practically a standard."
   ]
  },
  {
   "cell_type": "markdown",
   "id": "afcffa5f-0e83-4b90-a300-3701a4b48153",
   "metadata": {},
   "source": [
    "Using tuple packing, you can clean up `avg()` like this:"
   ]
  },
  {
   "cell_type": "code",
   "execution_count": null,
   "id": "a6c4295c-02c3-4b70-be1b-5bafc73ed7b1",
   "metadata": {},
   "outputs": [],
   "source": [
    "def avg(*args):\n",
    "    total = 0\n",
    "    for i in args:\n",
    "        total += i\n",
    "    return total / len(args)"
   ]
  },
  {
   "cell_type": "code",
   "execution_count": null,
   "id": "01ff4c4b-0d71-485d-af22-85b8e9edf9a1",
   "metadata": {},
   "outputs": [
    {
     "data": {
      "text/plain": [
       "2.0"
      ]
     },
     "execution_count": 137,
     "metadata": {},
     "output_type": "execute_result"
    }
   ],
   "source": [
    "avg(1, 2, 3)"
   ]
  },
  {
   "cell_type": "code",
   "execution_count": null,
   "id": "a51e3f65-6a82-4981-88b2-b378c4092184",
   "metadata": {},
   "outputs": [
    {
     "data": {
      "text/plain": [
       "3.0"
      ]
     },
     "execution_count": 138,
     "metadata": {},
     "output_type": "execute_result"
    }
   ],
   "source": [
    "avg(1, 2, 3, 4, 5)"
   ]
  },
  {
   "cell_type": "markdown",
   "id": "f01ddcef-cc61-4214-9c02-1a5d5392364b",
   "metadata": {},
   "source": [
    "Better still, you can tidy it up even further by replacing the `for` loop with the built-in Python function `sum()`, which sums the numeric values in any iterable:"
   ]
  },
  {
   "cell_type": "code",
   "execution_count": null,
   "id": "fae629f1-785f-4d60-8d5e-d6108e8353fc",
   "metadata": {},
   "outputs": [],
   "source": [
    "def avg(*args):\n",
    "    return sum(args) / len(args)"
   ]
  },
  {
   "cell_type": "code",
   "execution_count": null,
   "id": "37705d7c-3b08-4b7f-be33-2fbd27aafbb1",
   "metadata": {},
   "outputs": [
    {
     "data": {
      "text/plain": [
       "2.0"
      ]
     },
     "execution_count": 140,
     "metadata": {},
     "output_type": "execute_result"
    }
   ],
   "source": [
    "avg(1, 2, 3)"
   ]
  },
  {
   "cell_type": "code",
   "execution_count": null,
   "id": "1d590b42-725f-48f7-a5b3-7b2bfb2a40c0",
   "metadata": {},
   "outputs": [
    {
     "data": {
      "text/plain": [
       "3.0"
      ]
     },
     "execution_count": 141,
     "metadata": {},
     "output_type": "execute_result"
    }
   ],
   "source": [
    "avg(1, 2, 3, 4, 5)"
   ]
  },
  {
   "cell_type": "markdown",
   "id": "d93419e4-dcf6-4174-b5c5-1d483fc721d1",
   "metadata": {},
   "source": [
    "Now, `avg()` is concisely written and works as intended."
   ]
  },
  {
   "cell_type": "markdown",
   "id": "4d7690ab-95ea-41ae-b76e-35264629705b",
   "metadata": {},
   "source": [
    "Still, depending on how this code will be used, there may still be work to do. As written, `avg()` will produce a `TypeError` exception if any arguments are non-numeric:"
   ]
  },
  {
   "cell_type": "code",
   "execution_count": null,
   "id": "37ca0e60-b824-47de-8ec9-141650b9934b",
   "metadata": {},
   "outputs": [
    {
     "ename": "TypeError",
     "evalue": "unsupported operand type(s) for +: 'int' and 'str'",
     "output_type": "error",
     "traceback": [
      "\u001b[0;31m---------------------------------------------------------------------------\u001b[0m",
      "\u001b[0;31mTypeError\u001b[0m                                 Traceback (most recent call last)",
      "\u001b[0;32m<ipython-input-142-7d3caea08374>\u001b[0m in \u001b[0;36m<module>\u001b[0;34m\u001b[0m\n\u001b[0;32m----> 1\u001b[0;31m \u001b[0mavg\u001b[0m\u001b[0;34m(\u001b[0m\u001b[0;36m1\u001b[0m\u001b[0;34m,\u001b[0m \u001b[0;34m'foo'\u001b[0m\u001b[0;34m,\u001b[0m \u001b[0;36m3\u001b[0m\u001b[0;34m)\u001b[0m\u001b[0;34m\u001b[0m\u001b[0;34m\u001b[0m\u001b[0m\n\u001b[0m",
      "\u001b[0;32m<ipython-input-139-6bb660ff1b81>\u001b[0m in \u001b[0;36mavg\u001b[0;34m(*args)\u001b[0m\n\u001b[1;32m      1\u001b[0m \u001b[0;32mdef\u001b[0m \u001b[0mavg\u001b[0m\u001b[0;34m(\u001b[0m\u001b[0;34m*\u001b[0m\u001b[0margs\u001b[0m\u001b[0;34m)\u001b[0m\u001b[0;34m:\u001b[0m\u001b[0;34m\u001b[0m\u001b[0;34m\u001b[0m\u001b[0m\n\u001b[0;32m----> 2\u001b[0;31m     \u001b[0;32mreturn\u001b[0m \u001b[0msum\u001b[0m\u001b[0;34m(\u001b[0m\u001b[0margs\u001b[0m\u001b[0;34m)\u001b[0m \u001b[0;34m/\u001b[0m \u001b[0mlen\u001b[0m\u001b[0;34m(\u001b[0m\u001b[0margs\u001b[0m\u001b[0;34m)\u001b[0m\u001b[0;34m\u001b[0m\u001b[0;34m\u001b[0m\u001b[0m\n\u001b[0m",
      "\u001b[0;31mTypeError\u001b[0m: unsupported operand type(s) for +: 'int' and 'str'"
     ]
    }
   ],
   "source": [
    "avg(1, 'foo', 3)"
   ]
  },
  {
   "cell_type": "markdown",
   "id": "07f7a0ad-695b-45cc-8891-5fa94f745940",
   "metadata": {},
   "source": [
    "To be as robust as possible, you should add code to check that the arguments are of the proper type. Later in this tutorial series, you’ll learn how to catch exceptions like `TypeError` and handle them appropriately. "
   ]
  },
  {
   "cell_type": "markdown",
   "id": "72c3fda9-f70c-4ba3-8a24-c2fe3b427c88",
   "metadata": {},
   "source": [
    "<a class=\"anchor\" id=\"argument_tuple_unpacking\"></a>\n",
    "### Argument Tuple Unpacking"
   ]
  },
  {
   "cell_type": "markdown",
   "id": "1df4646a-0d1d-453a-8339-b2347e02964d",
   "metadata": {},
   "source": [
    "An analogous operation is available on the other side of the equation in a Python function call. When an argument in a function call is preceded by an asterisk (`*`), it indicates that the argument is a tuple that should be **unpacked** and passed to the function as separate values:"
   ]
  },
  {
   "cell_type": "code",
   "execution_count": null,
   "id": "b85cecf2-a500-48c1-a76f-d3184ea64905",
   "metadata": {},
   "outputs": [],
   "source": [
    "def f(x, y, z):\n",
    "    print(f'x = {x}')\n",
    "    print(f'y = {y}')\n",
    "    print(f'z = {z}')"
   ]
  },
  {
   "cell_type": "code",
   "execution_count": null,
   "id": "97d1c446-ad7f-4927-b235-165e451f4e71",
   "metadata": {},
   "outputs": [
    {
     "name": "stdout",
     "output_type": "stream",
     "text": [
      "x = 1\n",
      "y = 2\n",
      "z = 3\n"
     ]
    }
   ],
   "source": [
    "f(1, 2, 3)"
   ]
  },
  {
   "cell_type": "code",
   "execution_count": null,
   "id": "5db490b7-3f14-4f5b-a865-74d1edbf2496",
   "metadata": {},
   "outputs": [],
   "source": [
    "t = ('foo', 'bar', 'baz')"
   ]
  },
  {
   "cell_type": "code",
   "execution_count": null,
   "id": "8513507b-60f8-4b3b-841a-f707477a6823",
   "metadata": {},
   "outputs": [
    {
     "name": "stdout",
     "output_type": "stream",
     "text": [
      "x = foo\n",
      "y = bar\n",
      "z = baz\n"
     ]
    }
   ],
   "source": [
    "f(*t)"
   ]
  },
  {
   "cell_type": "markdown",
   "id": "23676266-e764-4403-b77b-6f3f4302c977",
   "metadata": {},
   "source": [
    "In this example, `*t` in the function call indicates that `t` is a tuple that should be unpacked. The unpacked values `'foo'`, `'bar'`, and `'baz'` are assigned to the parameters `x`, `y`, and `z`, respectively."
   ]
  },
  {
   "cell_type": "markdown",
   "id": "d8259749-5572-4992-abc9-857396f19ee4",
   "metadata": {},
   "source": [
    "Although this type of unpacking is called **tuple** unpacking, it doesn’t only work with tuples. The asterisk (`*`) operator can be applied to any iterable in a Python function call. For example, a list or set can be unpacked as well:"
   ]
  },
  {
   "cell_type": "code",
   "execution_count": null,
   "id": "5271ab63-3e66-4e2d-bf42-330f257763c6",
   "metadata": {},
   "outputs": [
    {
     "data": {
      "text/plain": [
       "list"
      ]
     },
     "execution_count": 147,
     "metadata": {},
     "output_type": "execute_result"
    }
   ],
   "source": [
    "a = ['foo', 'bar', 'baz']\n",
    "type(a)"
   ]
  },
  {
   "cell_type": "code",
   "execution_count": null,
   "id": "c7d2c3ed-4648-429c-a6ac-4b57530c631c",
   "metadata": {},
   "outputs": [
    {
     "name": "stdout",
     "output_type": "stream",
     "text": [
      "x = foo\n",
      "y = bar\n",
      "z = baz\n"
     ]
    }
   ],
   "source": [
    "f(*a)"
   ]
  },
  {
   "cell_type": "code",
   "execution_count": null,
   "id": "5ccba3de-8d9a-4407-86a4-f1236355f90a",
   "metadata": {},
   "outputs": [
    {
     "data": {
      "text/plain": [
       "set"
      ]
     },
     "execution_count": 149,
     "metadata": {},
     "output_type": "execute_result"
    }
   ],
   "source": [
    "s = {1, 2, 3}\n",
    "type(s)"
   ]
  },
  {
   "cell_type": "code",
   "execution_count": null,
   "id": "5cdfbb66-2398-4349-a84a-ea41755587bc",
   "metadata": {},
   "outputs": [
    {
     "name": "stdout",
     "output_type": "stream",
     "text": [
      "x = 1\n",
      "y = 2\n",
      "z = 3\n"
     ]
    }
   ],
   "source": [
    "f(*s)"
   ]
  },
  {
   "cell_type": "markdown",
   "id": "9b258be7-374a-43af-898a-4e17022d9dbf",
   "metadata": {},
   "source": [
    "You can even use tuple packing and unpacking at the same time:"
   ]
  },
  {
   "cell_type": "code",
   "execution_count": null,
   "id": "337b1452-26c6-47b4-84af-d9f6d86bd877",
   "metadata": {},
   "outputs": [],
   "source": [
    "def f(*args):\n",
    "    print(type(args), args)"
   ]
  },
  {
   "cell_type": "code",
   "execution_count": null,
   "id": "fdc4388b-ba55-4551-a54d-fd05c0665c62",
   "metadata": {},
   "outputs": [
    {
     "name": "stdout",
     "output_type": "stream",
     "text": [
      "<class 'tuple'> ('foo', 'bar', 'baz', 'qux')\n"
     ]
    }
   ],
   "source": [
    "a = ['foo', 'bar', 'baz', 'qux']\n",
    "f(*a)"
   ]
  },
  {
   "cell_type": "markdown",
   "id": "e1a89536-42e2-4880-8bf7-5cb301c5db4c",
   "metadata": {},
   "source": [
    "Here, `f(*a)` indicates that list a should be unpacked and the items passed to `f()` as individual values. The parameter specification `*args` causes the values to be packed back up into the tuple args."
   ]
  },
  {
   "cell_type": "markdown",
   "id": "1eae2c81-42ba-4101-969f-872c03def85b",
   "metadata": {},
   "source": [
    "<a class=\"anchor\" id=\"argument_dictionary_packing\"></a>\n",
    "### Argument Dictionary Packing"
   ]
  },
  {
   "cell_type": "markdown",
   "id": "c5007f8f-b9c9-4321-8644-bc7a64b024ce",
   "metadata": {},
   "source": [
    "Python has a similar operator, the double asterisk (`**`), which can be used with Python function parameters and arguments to specify **dictionary packing and unpacking**. Preceding a parameter in a Python function definition by a double asterisk (`**`) indicates that the corresponding arguments, which are expected to be `key=value` pairs, should be packed into a dictionary:"
   ]
  },
  {
   "cell_type": "code",
   "execution_count": null,
   "id": "a28dafa5-0076-4972-84f6-8c3afdbd8ff5",
   "metadata": {},
   "outputs": [],
   "source": [
    "def f(**kwargs):\n",
    "    print(kwargs)\n",
    "    print(type(kwargs))\n",
    "    for key, val in kwargs.items():\n",
    "        print(key, '->', val)"
   ]
  },
  {
   "cell_type": "code",
   "execution_count": null,
   "id": "674eecdf-ce97-4bdc-9a06-2fafabd09af3",
   "metadata": {},
   "outputs": [
    {
     "name": "stdout",
     "output_type": "stream",
     "text": [
      "{'foo': 1, 'bar': 2, 'baz': 3}\n",
      "<class 'dict'>\n",
      "foo -> 1\n",
      "bar -> 2\n",
      "baz -> 3\n"
     ]
    }
   ],
   "source": [
    "f(foo=1, bar=2, baz=3)"
   ]
  },
  {
   "cell_type": "markdown",
   "id": "f770a2c9-3dc2-42bc-9c3e-e46d53eff345",
   "metadata": {},
   "source": [
    "In this case, the arguments `foo=1`, `bar=2`, and `baz=3` are packed into a dictionary that the function can reference by the name `kwargs`. Again, any name can be used, but the peculiar `kwargs` (which is short for **keyword args**) is nearly standard. You don’t have to adhere to it, but if you do, then anyone familiar with Python coding conventions will know straightaway what you mean."
   ]
  },
  {
   "cell_type": "markdown",
   "id": "3ce9efba-d8a6-4c28-900f-cc50773bd20b",
   "metadata": {},
   "source": [
    "<a class=\"anchor\" id=\"argument_dictionary_unpacking\"></a>\n",
    "### Argument Dictionary Unpacking"
   ]
  },
  {
   "cell_type": "markdown",
   "id": "ade2eec0-9c5e-4db8-b385-704b2f4efae5",
   "metadata": {},
   "source": [
    "**Argument dictionary unpacking** is analogous to argument tuple unpacking. When the double asterisk (`**`) precedes an argument in a Python function call, it specifies that the argument is a dictionary that should be unpacked, with the resulting items passed to the function as keyword arguments:"
   ]
  },
  {
   "cell_type": "code",
   "execution_count": null,
   "id": "aa181bd8-2d03-40b1-96f2-ec07e2e61879",
   "metadata": {},
   "outputs": [],
   "source": [
    "def f(a, b, c):\n",
    "    print(F'a = {a}')\n",
    "    print(F'b = {b}')\n",
    "    print(F'c = {c}')"
   ]
  },
  {
   "cell_type": "code",
   "execution_count": null,
   "id": "23eab210-6b58-4f37-8258-5ccc996cc034",
   "metadata": {},
   "outputs": [],
   "source": [
    "d = {'a': 'foo', 'b': 25, 'c': 'qux'}"
   ]
  },
  {
   "cell_type": "code",
   "execution_count": null,
   "id": "e9cf5d74-a789-4bc8-a086-ecb629464131",
   "metadata": {},
   "outputs": [
    {
     "name": "stdout",
     "output_type": "stream",
     "text": [
      "a = foo\n",
      "b = 25\n",
      "c = qux\n"
     ]
    }
   ],
   "source": [
    "f(**d)"
   ]
  },
  {
   "cell_type": "markdown",
   "id": "171aa289-0155-47da-903c-ded70b7ca168",
   "metadata": {},
   "source": [
    "The items in the dictionary `d` are unpacked and passed to `f()` as keyword arguments. So, `f(**d)` is equivalent to `f(a='foo', b=25, c='qux')`:"
   ]
  },
  {
   "cell_type": "code",
   "execution_count": null,
   "id": "cef86ddf-9a85-4749-aa73-f4b02d086cec",
   "metadata": {},
   "outputs": [
    {
     "name": "stdout",
     "output_type": "stream",
     "text": [
      "a = foo\n",
      "b = 25\n",
      "c = qux\n"
     ]
    }
   ],
   "source": [
    "f(a='foo', b=25, c='qux')"
   ]
  },
  {
   "cell_type": "markdown",
   "id": "ad83988f-d10d-4342-849e-c056430dd97b",
   "metadata": {},
   "source": [
    "In fact, check this out:"
   ]
  },
  {
   "cell_type": "code",
   "execution_count": null,
   "id": "b4acdeac-38bb-44a5-8ede-da756ad790ad",
   "metadata": {},
   "outputs": [
    {
     "name": "stdout",
     "output_type": "stream",
     "text": [
      "a = foo\n",
      "b = 25\n",
      "c = qux\n"
     ]
    }
   ],
   "source": [
    "f(**dict(a='foo', b=25, c='qux'))"
   ]
  },
  {
   "cell_type": "markdown",
   "id": "bda35f71-2e7c-4997-ab69-3c3c32fab0ae",
   "metadata": {},
   "source": [
    "Here, `dict(a='foo', b=25, c='qux')` creates a dictionary from the specified key/value pairs. Then, the double asterisk operator (`**`) unpacks it and passes the keywords to `f()`."
   ]
  },
  {
   "cell_type": "markdown",
   "id": "d17ac567-ba8f-49cd-b2a5-1f0a92a99073",
   "metadata": {},
   "source": [
    "<a class=\"anchor\" id=\"putting_it_all_together\"></a>\n",
    "### Putting It All Together"
   ]
  },
  {
   "cell_type": "markdown",
   "id": "c58a2188-c853-4cb3-9f2c-5be27b0151cd",
   "metadata": {},
   "source": [
    "Think of `*args` as a variable-length positional argument list, and `**kwargs` as a variable-length keyword argument list."
   ]
  },
  {
   "cell_type": "markdown",
   "id": "70ad4e8a-349d-435d-84e5-5551026ffd07",
   "metadata": {},
   "source": [
    "All three—standard positional parameters, `*args`, and `**kwargs`—can be used in one Python function definition. If so, then they should be specified in that order:"
   ]
  },
  {
   "cell_type": "code",
   "execution_count": null,
   "id": "5f45d4ed-a4a3-4fde-9c77-601038303958",
   "metadata": {},
   "outputs": [],
   "source": [
    "def f(a, b, *args, **kwargs):\n",
    "    print(F'a = {a}')\n",
    "    print(F'b = {b}')\n",
    "    print(F'args = {args}')\n",
    "    print(F'kwargs = {kwargs}')"
   ]
  },
  {
   "cell_type": "code",
   "execution_count": null,
   "id": "ad8b5c89-0859-48c1-9166-cab8dc52b635",
   "metadata": {},
   "outputs": [
    {
     "name": "stdout",
     "output_type": "stream",
     "text": [
      "a = 1\n",
      "b = 2\n",
      "args = ('foo', 'bar', 'baz', 'qux')\n",
      "kwargs = {'x': 100, 'y': 200, 'z': 300}\n"
     ]
    }
   ],
   "source": [
    "f(1, 2, 'foo', 'bar', 'baz', 'qux', x=100, y=200, z=300)"
   ]
  },
  {
   "cell_type": "markdown",
   "id": "eb468800-833c-4cab-b9d1-718d4c7e2d9b",
   "metadata": {},
   "source": [
    "This provides just about as much flexibility as you could ever need in a function interface!"
   ]
  },
  {
   "cell_type": "markdown",
   "id": "6959edbd-b6a4-497d-843e-42d977b412d9",
   "metadata": {},
   "source": [
    "<a class=\"anchor\" id=\"multiple_unpackings_in_a_python_function_call\"></a>\n",
    "### Multiple Unpackings in a Python Function Call"
   ]
  },
  {
   "cell_type": "markdown",
   "id": "f75dfb6f-c1ac-4b9e-a51b-648fb3613da3",
   "metadata": {},
   "source": [
    "Python `version 3.5` introduced support for additional unpacking generalizations, as outlined in [PEP 448](https://www.python.org/dev/peps/pep-0448). One thing these enhancements allow is **multiple unpackings** in a single Python function call:"
   ]
  },
  {
   "cell_type": "code",
   "execution_count": null,
   "id": "03bed3e8-08ec-4abd-bead-bda489bdbadd",
   "metadata": {},
   "outputs": [],
   "source": [
    "def f(*args):\n",
    "    for i in args:\n",
    "        print(i)"
   ]
  },
  {
   "cell_type": "code",
   "execution_count": null,
   "id": "2db68e30-c3f4-4fc6-9598-288f18be71a1",
   "metadata": {},
   "outputs": [],
   "source": [
    "a = [1, 2, 3]\n",
    "t = (4, 5, 6)\n",
    "s = {7, 8, 9}"
   ]
  },
  {
   "cell_type": "code",
   "execution_count": null,
   "id": "a3ed2f58-ad75-4690-95ab-6c752900734e",
   "metadata": {},
   "outputs": [
    {
     "name": "stdout",
     "output_type": "stream",
     "text": [
      "1\n",
      "2\n",
      "3\n",
      "4\n",
      "5\n",
      "6\n",
      "8\n",
      "9\n",
      "7\n"
     ]
    }
   ],
   "source": [
    "f(*a, *t, *s)"
   ]
  },
  {
   "cell_type": "markdown",
   "id": "45c0b594-9b88-4c5d-b687-ef7052a67a4d",
   "metadata": {},
   "source": [
    "You can specify multiple dictionary unpackings in a Python function call as well:"
   ]
  },
  {
   "cell_type": "code",
   "execution_count": null,
   "id": "83cfa1b8-8660-43c3-9d33-0d578994303d",
   "metadata": {},
   "outputs": [],
   "source": [
    "def f(**kwargs):\n",
    "    for k, v in kwargs.items():\n",
    "        print(k, '->', v)"
   ]
  },
  {
   "cell_type": "code",
   "execution_count": null,
   "id": "0c37cbeb-64ea-4f05-abfe-4028e33ae492",
   "metadata": {},
   "outputs": [],
   "source": [
    "d1 = {'a': 1, 'b': 2}\n",
    "d2 = {'x': 3, 'y': 4}"
   ]
  },
  {
   "cell_type": "code",
   "execution_count": null,
   "id": "136e3749-5794-404e-a287-1a209a751f29",
   "metadata": {},
   "outputs": [
    {
     "name": "stdout",
     "output_type": "stream",
     "text": [
      "a -> 1\n",
      "b -> 2\n",
      "x -> 3\n",
      "y -> 4\n"
     ]
    }
   ],
   "source": [
    "f(**d1, **d2)"
   ]
  },
  {
   "cell_type": "markdown",
   "id": "8ca38f75-25b5-44c8-827c-37c072be9c99",
   "metadata": {},
   "source": [
    "> **Note:** This enhancement is available only in Python `version 3.5` or later. If you try this in an earlier version, then you’ll get a `SyntaxError` exception."
   ]
  },
  {
   "cell_type": "markdown",
   "id": "aaac1063-1242-49cc-b95e-0e526d0f5c27",
   "metadata": {},
   "source": [
    "By the way, the unpacking operators `*` and `**` don’t apply only to variables, as in the examples above. You can also use them with literals that are iterable:"
   ]
  },
  {
   "cell_type": "code",
   "execution_count": null,
   "id": "e422f2d4-f4a7-473a-92c1-4934720f12c5",
   "metadata": {},
   "outputs": [],
   "source": [
    "def f(*args):\n",
    "    for i in args:\n",
    "        print(i)"
   ]
  },
  {
   "cell_type": "code",
   "execution_count": null,
   "id": "5d531b1d-a363-49cb-a435-f7ec4337fdf0",
   "metadata": {},
   "outputs": [
    {
     "name": "stdout",
     "output_type": "stream",
     "text": [
      "1\n",
      "2\n",
      "3\n",
      "4\n",
      "5\n",
      "6\n"
     ]
    }
   ],
   "source": [
    "f(*[1, 2, 3], *[4, 5, 6])"
   ]
  },
  {
   "cell_type": "code",
   "execution_count": null,
   "id": "089baf7a-83a5-4a3c-a043-40cf041d7a24",
   "metadata": {},
   "outputs": [],
   "source": [
    "def f(**kwargs):\n",
    "    for k, v in kwargs.items():\n",
    "        print(k, '->', v)"
   ]
  },
  {
   "cell_type": "code",
   "execution_count": null,
   "id": "bd6461b3-abb1-42a8-9595-f0c2905c5e97",
   "metadata": {},
   "outputs": [
    {
     "name": "stdout",
     "output_type": "stream",
     "text": [
      "a -> 1\n",
      "b -> 2\n",
      "x -> 3\n",
      "y -> 4\n"
     ]
    }
   ],
   "source": [
    "f(**{'a': 1, 'b': 2}, **{'x': 3, 'y': 4})"
   ]
  },
  {
   "cell_type": "markdown",
   "id": "de47345b-1c3e-46fd-b70a-fd558abc5fb3",
   "metadata": {},
   "source": [
    "Here, the literal lists `[1, 2, 3]` and `[4, 5, 6]` are specified for tuple unpacking, and the literal dictionaries `{'a': 1, 'b': 2}` and `{'x': 3, 'y': 4}` are specified for dictionary unpacking."
   ]
  },
  {
   "cell_type": "markdown",
   "id": "dbaeca4b-8243-4437-9591-914aba13bf81",
   "metadata": {},
   "source": [
    "<a class=\"anchor\" id=\"keyword-only_arguments\"></a>\n",
    "## Keyword-Only Arguments"
   ]
  },
  {
   "cell_type": "markdown",
   "id": "bfa4ed97-1251-4eaa-abd2-919159e97cef",
   "metadata": {},
   "source": [
    "A Python function in `version 3.x` can be defined so that it takes **keyword-only arguments**. These are function arguments that must be specified by keyword. Let’s explore a situation where this might be beneficial."
   ]
  },
  {
   "cell_type": "markdown",
   "id": "ecdf8da4-be86-45f9-a386-effceffeb18f",
   "metadata": {},
   "source": [
    "Suppose you want to write a Python function that takes a variable number of string arguments, concatenates them together separated by a dot (`\".\"`), and prints them to the console. Something like this will do to start:"
   ]
  },
  {
   "cell_type": "code",
   "execution_count": null,
   "id": "ae303855-4b42-423f-a956-2558dca714f1",
   "metadata": {},
   "outputs": [],
   "source": [
    "def concat(*args):\n",
    "    print(f'-> {\".\".join(args)}')"
   ]
  },
  {
   "cell_type": "code",
   "execution_count": null,
   "id": "d979cd32-5cd5-4bb0-8321-012a2b54eee1",
   "metadata": {},
   "outputs": [
    {
     "name": "stdout",
     "output_type": "stream",
     "text": [
      "-> a.b.c.d\n"
     ]
    }
   ],
   "source": [
    "concat('a', 'b', 'c', 'd')"
   ]
  },
  {
   "cell_type": "code",
   "execution_count": null,
   "id": "6ce97fdb-8b8d-4f47-b4dd-3af10531576a",
   "metadata": {},
   "outputs": [
    {
     "name": "stdout",
     "output_type": "stream",
     "text": [
      "-> foo.bar.baz.qux\n"
     ]
    }
   ],
   "source": [
    "concat('foo', 'bar', 'baz', 'qux')"
   ]
  },
  {
   "cell_type": "markdown",
   "id": "9962f8fd-5908-4432-9ca3-5e054dbbc4b4",
   "metadata": {},
   "source": [
    "As it stands, the output prefix is hard-coded to the string `'-> '`. What if you want to modify the function to accept this as an argument as well, so the user can specify something else? This is one possibility:"
   ]
  },
  {
   "cell_type": "code",
   "execution_count": null,
   "id": "76548381-4417-4a7d-adef-6017413da5c9",
   "metadata": {},
   "outputs": [],
   "source": [
    "def concat(*args):\n",
    "    print(f'-> {\".\".join(args)}')"
   ]
  },
  {
   "cell_type": "code",
   "execution_count": null,
   "id": "dbc9a686-ff43-4159-a8be-24e1ed6c03e3",
   "metadata": {},
   "outputs": [
    {
     "name": "stdout",
     "output_type": "stream",
     "text": [
      "-> a.b.c\n"
     ]
    }
   ],
   "source": [
    "concat('a', 'b', 'c')"
   ]
  },
  {
   "cell_type": "code",
   "execution_count": null,
   "id": "0bf2cceb-9e89-41bc-9304-1ca071963cbc",
   "metadata": {},
   "outputs": [
    {
     "name": "stdout",
     "output_type": "stream",
     "text": [
      "-> foo.bar.baz.qux\n"
     ]
    }
   ],
   "source": [
    "concat('foo', 'bar', 'baz', 'qux')"
   ]
  },
  {
   "cell_type": "markdown",
   "id": "d58f9215-6971-45f4-9e59-1dcd4dcdc6e1",
   "metadata": {},
   "source": [
    "As it stands, the output prefix is hard-coded to the string `'-> '`. What if you want to modify the function to accept this as an argument as well, so the user can specify something else? This is one possibility:"
   ]
  },
  {
   "cell_type": "code",
   "execution_count": null,
   "id": "e1c75c8f-28ca-4131-b3d2-3ad887bc9557",
   "metadata": {},
   "outputs": [],
   "source": [
    "def concat(prefix, *args):\n",
    "    print(f'{prefix}{\".\".join(args)}')"
   ]
  },
  {
   "cell_type": "code",
   "execution_count": null,
   "id": "8f727995-ec88-4629-93d3-bed14629e30a",
   "metadata": {},
   "outputs": [
    {
     "name": "stdout",
     "output_type": "stream",
     "text": [
      "//a.b.c\n"
     ]
    }
   ],
   "source": [
    "concat('//', 'a', 'b', 'c')"
   ]
  },
  {
   "cell_type": "code",
   "execution_count": null,
   "id": "6adf58c9-890a-4770-b7db-fedcb0959992",
   "metadata": {},
   "outputs": [
    {
     "name": "stdout",
     "output_type": "stream",
     "text": [
      "... foo.bar.baz.qux\n"
     ]
    }
   ],
   "source": [
    "concat('... ', 'foo', 'bar', 'baz', 'qux')"
   ]
  },
  {
   "cell_type": "markdown",
   "id": "c04f4353-8e26-4464-b11a-f4ee7c33ea78",
   "metadata": {},
   "source": [
    "This works as advertised, but there are a couple of undesirable things about this solution:\n",
    "\n",
    "- The `prefix` string is lumped together with the strings to be concatenated. Just from looking at the function call, it isn’t clear that the first argument is treated differently from the rest. To know that, you’d have to go back and look at the function definition.\n",
    "\n",
    "- `prefix` isn’t optional. It always has to be included, and there’s no way to assume a default value."
   ]
  },
  {
   "cell_type": "markdown",
   "id": "e6f94932-f107-492f-8cae-d956d3b47f63",
   "metadata": {},
   "source": [
    "You might think you could overcome the second issue by specifying a parameter with a default value, like this, perhaps:"
   ]
  },
  {
   "cell_type": "code",
   "execution_count": null,
   "id": "962901f8-82ca-43f1-b9a5-b1259bf27a93",
   "metadata": {},
   "outputs": [],
   "source": [
    "def concat(prefix='-> ', *args):\n",
    "    print(f'{prefix}{\".\".join(args)}')"
   ]
  },
  {
   "cell_type": "markdown",
   "id": "23397bed-2299-4edc-98c1-e1dd942d45a9",
   "metadata": {},
   "source": [
    "Unfortunately, this doesn’t work quite right. `prefix` is a **positional parameter**, so the interpreter assumes that the first argument specified in the function call is the intended output prefix. This means there isn’t any way to omit it and obtain the default value:"
   ]
  },
  {
   "cell_type": "code",
   "execution_count": null,
   "id": "468e0f1d-f8e4-4ec3-8bd4-3e7cb70a19ab",
   "metadata": {},
   "outputs": [
    {
     "name": "stdout",
     "output_type": "stream",
     "text": [
      "ab.c\n"
     ]
    }
   ],
   "source": [
    "concat('a', 'b', 'c')"
   ]
  },
  {
   "cell_type": "markdown",
   "id": "30a572de-9a55-4835-a9be-df018fec290e",
   "metadata": {},
   "source": [
    "What if you try to specify `prefix` as a keyword argument? Well, you can’t specify it first:"
   ]
  },
  {
   "cell_type": "code",
   "execution_count": null,
   "id": "67cfc525-59ec-4a88-bd3a-b0db0c722a32",
   "metadata": {},
   "outputs": [
    {
     "ename": "SyntaxError",
     "evalue": "positional argument follows keyword argument (<ipython-input-191-7b5f3b0f3981>, line 1)",
     "output_type": "error",
     "traceback": [
      "\u001b[0;36m  File \u001b[0;32m\"<ipython-input-191-7b5f3b0f3981>\"\u001b[0;36m, line \u001b[0;32m1\u001b[0m\n\u001b[0;31m    concat(prefix='//', 'a', 'b', 'c')\u001b[0m\n\u001b[0m                       ^\u001b[0m\n\u001b[0;31mSyntaxError\u001b[0m\u001b[0;31m:\u001b[0m positional argument follows keyword argument\n"
     ]
    }
   ],
   "source": [
    "concat(prefix='//', 'a', 'b', 'c')"
   ]
  },
  {
   "cell_type": "markdown",
   "id": "12172938-2be3-45ed-96c6-e193322a6024",
   "metadata": {},
   "source": [
    "As you’ve seen previously, when both types of arguments are given, all positional arguments must come before any keyword arguments."
   ]
  },
  {
   "cell_type": "markdown",
   "id": "ee21dba9-78cd-489c-aa3d-f8207dba14ce",
   "metadata": {},
   "source": [
    "However, you can’t specify it last either:"
   ]
  },
  {
   "cell_type": "code",
   "execution_count": null,
   "id": "b8c03f45-6255-4eef-810f-fc6e0f5a43e4",
   "metadata": {},
   "outputs": [
    {
     "ename": "TypeError",
     "evalue": "concat() got multiple values for argument 'prefix'",
     "output_type": "error",
     "traceback": [
      "\u001b[0;31m---------------------------------------------------------------------------\u001b[0m",
      "\u001b[0;31mTypeError\u001b[0m                                 Traceback (most recent call last)",
      "\u001b[0;32m<ipython-input-192-54128260ee94>\u001b[0m in \u001b[0;36m<module>\u001b[0;34m\u001b[0m\n\u001b[0;32m----> 1\u001b[0;31m \u001b[0mconcat\u001b[0m\u001b[0;34m(\u001b[0m\u001b[0;34m'a'\u001b[0m\u001b[0;34m,\u001b[0m \u001b[0;34m'b'\u001b[0m\u001b[0;34m,\u001b[0m \u001b[0;34m'c'\u001b[0m\u001b[0;34m,\u001b[0m \u001b[0mprefix\u001b[0m\u001b[0;34m=\u001b[0m\u001b[0;34m'... '\u001b[0m\u001b[0;34m)\u001b[0m\u001b[0;34m\u001b[0m\u001b[0;34m\u001b[0m\u001b[0m\n\u001b[0m",
      "\u001b[0;31mTypeError\u001b[0m: concat() got multiple values for argument 'prefix'"
     ]
    }
   ],
   "source": [
    "concat('a', 'b', 'c', prefix='... ')"
   ]
  },
  {
   "cell_type": "markdown",
   "id": "da788b0d-6c32-47ff-b6b5-ad2230d789db",
   "metadata": {},
   "source": [
    "Again, `prefix` is a positional parameter, so it’s assigned the first argument specified in the call (which is `'a'` in this case). Then, when it’s specified again as a keyword argument at the end, Python thinks it’s been assigned twice."
   ]
  },
  {
   "cell_type": "markdown",
   "id": "2d58e5d5-ad22-4f08-8d88-5847e342a961",
   "metadata": {},
   "source": [
    "**Keyword-only parameters** help solve this dilemma. In the function definition, specify `*args` to indicate a variable number of positional arguments, and then specify `prefix` after that:"
   ]
  },
  {
   "cell_type": "code",
   "execution_count": null,
   "id": "54f2f2a6-9ec3-4363-b16e-dd33ed04f73d",
   "metadata": {},
   "outputs": [],
   "source": [
    "def concat(*args, prefix='-> '):\n",
    "    print(f'{prefix}{\".\".join(args)}')"
   ]
  },
  {
   "cell_type": "markdown",
   "id": "be9012b6-c42f-4d49-be25-4410442e3ed3",
   "metadata": {},
   "source": [
    "In that case, `prefix` becomes a keyword-only parameter. Its value will never be filled by a positional argument. It can only be specified by a named keyword argument:"
   ]
  },
  {
   "cell_type": "code",
   "execution_count": null,
   "id": "aa3b7535-531e-43d4-9877-7f9bf75b1a0f",
   "metadata": {},
   "outputs": [
    {
     "name": "stdout",
     "output_type": "stream",
     "text": [
      "... a.b.c\n"
     ]
    }
   ],
   "source": [
    "concat('a', 'b', 'c', prefix='... ')"
   ]
  },
  {
   "cell_type": "markdown",
   "id": "f452956a-9df0-4c89-be9d-9b3c429679d0",
   "metadata": {},
   "source": [
    "Note that this is only possible in Python 3. In versions 2.x of Python, specifying additional parameters after the `*args` variable arguments parameter raises an error."
   ]
  },
  {
   "cell_type": "markdown",
   "id": "9cba6751-855c-47d4-8005-1cdeada7b812",
   "metadata": {},
   "source": [
    "Keyword-only arguments allow a Python function to take a variable number of arguments, followed by one or more additional **options** as keyword arguments. If you wanted to modify `concat()` so that the separator character can optionally be specified as well, then you could add an additional keyword-only argument:"
   ]
  },
  {
   "cell_type": "code",
   "execution_count": null,
   "id": "e74eddfa-d11f-4091-8224-7b394eb3be1a",
   "metadata": {},
   "outputs": [],
   "source": [
    "def concat(*args, prefix='-> ', sep='.'):\n",
    "    print(f'{prefix}{sep.join(args)}')"
   ]
  },
  {
   "cell_type": "code",
   "execution_count": null,
   "id": "036c9c5d-23aa-44e7-975c-f8e46cedc9c9",
   "metadata": {},
   "outputs": [
    {
     "name": "stdout",
     "output_type": "stream",
     "text": [
      "-> a.b.c\n"
     ]
    }
   ],
   "source": [
    "concat('a', 'b', 'c')"
   ]
  },
  {
   "cell_type": "code",
   "execution_count": null,
   "id": "bb785c11-377e-427d-b517-1408902a9b91",
   "metadata": {},
   "outputs": [
    {
     "name": "stdout",
     "output_type": "stream",
     "text": [
      "//a.b.c\n"
     ]
    }
   ],
   "source": [
    "concat('a', 'b', 'c', prefix='//')"
   ]
  },
  {
   "cell_type": "code",
   "execution_count": null,
   "id": "8431e322-82be-49ca-bc69-f02ac7453e3f",
   "metadata": {},
   "outputs": [
    {
     "name": "stdout",
     "output_type": "stream",
     "text": [
      "//a-b-c\n"
     ]
    }
   ],
   "source": [
    "concat('a', 'b', 'c', prefix='//', sep='-')"
   ]
  },
  {
   "cell_type": "markdown",
   "id": "7a7bbf25-bd34-4b25-a5f7-2e78d37d88a2",
   "metadata": {},
   "source": [
    "If a keyword-only parameter is given a default value in the function definition (as it is in the example above), and the keyword is omitted when the function is called, then the default value is supplied:"
   ]
  },
  {
   "cell_type": "code",
   "execution_count": null,
   "id": "7047ded7-a16d-427a-bd23-b594357c78bc",
   "metadata": {},
   "outputs": [
    {
     "name": "stdout",
     "output_type": "stream",
     "text": [
      "-> a.b.c\n"
     ]
    }
   ],
   "source": [
    "concat('a', 'b', 'c')"
   ]
  },
  {
   "cell_type": "markdown",
   "id": "f8fe4aa7-7c8d-491a-ba7f-f1efbdd53315",
   "metadata": {},
   "source": [
    "If, on the other hand, the parameter isn’t given a default value, then it becomes required, and failure to specify it results in an error:"
   ]
  },
  {
   "cell_type": "code",
   "execution_count": null,
   "id": "447340d8-f09d-4ea8-97f0-7abf15fc60ba",
   "metadata": {},
   "outputs": [],
   "source": [
    "def concat(*args, prefix):\n",
    "    print(f'{prefix}{\".\".join(args)}')"
   ]
  },
  {
   "cell_type": "code",
   "execution_count": null,
   "id": "112bc5f1-f5fd-413c-acae-51885bef2428",
   "metadata": {},
   "outputs": [
    {
     "name": "stdout",
     "output_type": "stream",
     "text": [
      "... a.b.c\n"
     ]
    }
   ],
   "source": [
    "concat('a', 'b', 'c', prefix='... ')"
   ]
  },
  {
   "cell_type": "code",
   "execution_count": null,
   "id": "5d9c03a1-be06-4a65-8771-e7322ef1e5a1",
   "metadata": {},
   "outputs": [
    {
     "ename": "TypeError",
     "evalue": "concat() missing 1 required keyword-only argument: 'prefix'",
     "output_type": "error",
     "traceback": [
      "\u001b[0;31m---------------------------------------------------------------------------\u001b[0m",
      "\u001b[0;31mTypeError\u001b[0m                                 Traceback (most recent call last)",
      "\u001b[0;32m<ipython-input-202-d45105692e38>\u001b[0m in \u001b[0;36m<module>\u001b[0;34m\u001b[0m\n\u001b[0;32m----> 1\u001b[0;31m \u001b[0mconcat\u001b[0m\u001b[0;34m(\u001b[0m\u001b[0;34m'a'\u001b[0m\u001b[0;34m,\u001b[0m \u001b[0;34m'b'\u001b[0m\u001b[0;34m,\u001b[0m \u001b[0;34m'c'\u001b[0m\u001b[0;34m)\u001b[0m\u001b[0;34m\u001b[0m\u001b[0;34m\u001b[0m\u001b[0m\n\u001b[0m",
      "\u001b[0;31mTypeError\u001b[0m: concat() missing 1 required keyword-only argument: 'prefix'"
     ]
    }
   ],
   "source": [
    "concat('a', 'b', 'c')"
   ]
  },
  {
   "cell_type": "markdown",
   "id": "cfea794f-2bf9-459f-806f-191a97813aaa",
   "metadata": {},
   "source": [
    "What if you want to define a Python function that takes a keyword-only argument but doesn’t take a variable number of positional arguments? For example, the following function performs the specified operation on two numerical arguments:"
   ]
  },
  {
   "cell_type": "code",
   "execution_count": null,
   "id": "76f55843-66fa-49cb-bdea-04d0c536fc43",
   "metadata": {},
   "outputs": [],
   "source": [
    "def oper(x, y, op='+'):\n",
    "    if op == '+':\n",
    "        return x + y\n",
    "    elif op == '-':\n",
    "        return x - y\n",
    "    elif op == '/':\n",
    "        return x / y\n",
    "    else:\n",
    "        return None"
   ]
  },
  {
   "cell_type": "code",
   "execution_count": null,
   "id": "be9326ba-8901-4bea-8393-5a409a76c97e",
   "metadata": {},
   "outputs": [
    {
     "data": {
      "text/plain": [
       "7"
      ]
     },
     "execution_count": 206,
     "metadata": {},
     "output_type": "execute_result"
    }
   ],
   "source": [
    "oper(3, 4)"
   ]
  },
  {
   "cell_type": "code",
   "execution_count": null,
   "id": "bcaf0e3c-46a1-4d10-a3b3-e6f53bc3a5ee",
   "metadata": {},
   "outputs": [
    {
     "data": {
      "text/plain": [
       "7"
      ]
     },
     "execution_count": 207,
     "metadata": {},
     "output_type": "execute_result"
    }
   ],
   "source": [
    "oper(3, 4, '+')"
   ]
  },
  {
   "cell_type": "code",
   "execution_count": null,
   "id": "b5bb48a3-1e0a-4a98-b7bd-4dbdc4bf1009",
   "metadata": {},
   "outputs": [
    {
     "data": {
      "text/plain": [
       "0.75"
      ]
     },
     "execution_count": 208,
     "metadata": {},
     "output_type": "execute_result"
    }
   ],
   "source": [
    "oper(3, 4, '/')"
   ]
  },
  {
   "cell_type": "markdown",
   "id": "5aa30738-25f1-4cb1-8cf0-47d53cfbb106",
   "metadata": {},
   "source": [
    "If you wanted to make op a keyword-only parameter, then you could add an extraneous dummy variable argument parameter and just ignore it:"
   ]
  },
  {
   "cell_type": "code",
   "execution_count": null,
   "id": "463ac825-a8cd-42e5-81aa-2d4cd37fa519",
   "metadata": {},
   "outputs": [],
   "source": [
    "def oper(x, y, *ignore, op='+'):\n",
    "    if op == '+':\n",
    "        return x + y\n",
    "    elif op == '-':\n",
    "        return x - y\n",
    "    elif op == '/':\n",
    "        return x / y\n",
    "    else:\n",
    "        return None"
   ]
  },
  {
   "cell_type": "code",
   "execution_count": null,
   "id": "f94cf4d9-2ae3-4ca9-88f7-5b53396dc2b7",
   "metadata": {},
   "outputs": [
    {
     "data": {
      "text/plain": [
       "7"
      ]
     },
     "execution_count": 210,
     "metadata": {},
     "output_type": "execute_result"
    }
   ],
   "source": [
    "oper(3, 4, op='+')"
   ]
  },
  {
   "cell_type": "code",
   "execution_count": null,
   "id": "999defbe-6e24-4184-9860-f5ea2b9b0477",
   "metadata": {},
   "outputs": [
    {
     "data": {
      "text/plain": [
       "0.75"
      ]
     },
     "execution_count": 211,
     "metadata": {},
     "output_type": "execute_result"
    }
   ],
   "source": [
    "oper(3, 4, op='/')"
   ]
  },
  {
   "cell_type": "markdown",
   "id": "ce0f4a7d-77b0-419f-b8fb-c9045c49d2d8",
   "metadata": {},
   "source": [
    "The problem with this solution is that `*ignore` absorbs any extraneous positional arguments that might happen to be included:"
   ]
  },
  {
   "cell_type": "code",
   "execution_count": null,
   "id": "f482fa87-0b23-4d64-8297-b91674c292cf",
   "metadata": {},
   "outputs": [
    {
     "data": {
      "text/plain": [
       "7"
      ]
     },
     "execution_count": 212,
     "metadata": {},
     "output_type": "execute_result"
    }
   ],
   "source": [
    "oper(3, 4, \"I don't belong here\")"
   ]
  },
  {
   "cell_type": "code",
   "execution_count": null,
   "id": "79ad175d-9062-4d7f-87a7-26cfeda438aa",
   "metadata": {},
   "outputs": [
    {
     "data": {
      "text/plain": [
       "0.75"
      ]
     },
     "execution_count": 213,
     "metadata": {},
     "output_type": "execute_result"
    }
   ],
   "source": [
    "oper(3, 4, \"I don't belong here\", op='/')"
   ]
  },
  {
   "cell_type": "markdown",
   "id": "3fd42035-f6de-4fb8-a9b3-cdf27604e247",
   "metadata": {},
   "source": [
    "In this example, the extra argument shouldn’t be there (as the argument itself announces). Instead of quietly succeeding, it should really result in an error. The fact that it doesn’t is untidy at best. At worst, it may cause a result that appears misleading:"
   ]
  },
  {
   "cell_type": "code",
   "execution_count": null,
   "id": "514e5016-e049-413f-90d6-07305aee5f1a",
   "metadata": {},
   "outputs": [
    {
     "data": {
      "text/plain": [
       "7"
      ]
     },
     "execution_count": 214,
     "metadata": {},
     "output_type": "execute_result"
    }
   ],
   "source": [
    "oper(3, 4, '/')"
   ]
  },
  {
   "cell_type": "markdown",
   "id": "18dbcde5-5264-4da6-a884-618d543c8b3b",
   "metadata": {},
   "source": [
    "To remedy this, version 3 allows a **variable argument parameter** in a Python function definition to be just a bare asterisk (`*`), with the name omitted:"
   ]
  },
  {
   "cell_type": "code",
   "execution_count": null,
   "id": "b4131eb2-4666-4399-b535-f1f123fe8424",
   "metadata": {},
   "outputs": [],
   "source": [
    "def oper(x, y, *, op='+'):\n",
    "    if op == '+':\n",
    "        return x + y\n",
    "    elif op == '-':\n",
    "        return x - y\n",
    "    elif op == '/':\n",
    "        return x / y\n",
    "    else:\n",
    "        return None"
   ]
  },
  {
   "cell_type": "code",
   "execution_count": null,
   "id": "d6ceda2b-2421-474f-aa72-b5425621ec7a",
   "metadata": {},
   "outputs": [
    {
     "data": {
      "text/plain": [
       "7"
      ]
     },
     "execution_count": 216,
     "metadata": {},
     "output_type": "execute_result"
    }
   ],
   "source": [
    "oper(3, 4, op='+')"
   ]
  },
  {
   "cell_type": "code",
   "execution_count": null,
   "id": "9803547a-e5fe-4538-b08a-cecc81ab9a03",
   "metadata": {},
   "outputs": [
    {
     "data": {
      "text/plain": [
       "0.75"
      ]
     },
     "execution_count": 217,
     "metadata": {},
     "output_type": "execute_result"
    }
   ],
   "source": [
    "oper(3, 4, op='/')"
   ]
  },
  {
   "cell_type": "code",
   "execution_count": null,
   "id": "ddfbdbfc-8fb0-4106-83d3-fa03040c1cda",
   "metadata": {},
   "outputs": [
    {
     "ename": "TypeError",
     "evalue": "oper() takes 2 positional arguments but 3 were given",
     "output_type": "error",
     "traceback": [
      "\u001b[0;31m---------------------------------------------------------------------------\u001b[0m",
      "\u001b[0;31mTypeError\u001b[0m                                 Traceback (most recent call last)",
      "\u001b[0;32m<ipython-input-218-45eac5a5aef5>\u001b[0m in \u001b[0;36m<module>\u001b[0;34m\u001b[0m\n\u001b[0;32m----> 1\u001b[0;31m \u001b[0moper\u001b[0m\u001b[0;34m(\u001b[0m\u001b[0;36m3\u001b[0m\u001b[0;34m,\u001b[0m \u001b[0;36m4\u001b[0m\u001b[0;34m,\u001b[0m \u001b[0;34m\"I don't belong here\"\u001b[0m\u001b[0;34m)\u001b[0m\u001b[0;34m\u001b[0m\u001b[0;34m\u001b[0m\u001b[0m\n\u001b[0m",
      "\u001b[0;31mTypeError\u001b[0m: oper() takes 2 positional arguments but 3 were given"
     ]
    }
   ],
   "source": [
    "oper(3, 4, \"I don't belong here\")"
   ]
  },
  {
   "cell_type": "code",
   "execution_count": null,
   "id": "75f34a12-ea49-4ba8-8b62-d9e46a3cc368",
   "metadata": {},
   "outputs": [
    {
     "ename": "TypeError",
     "evalue": "oper() takes 2 positional arguments but 3 were given",
     "output_type": "error",
     "traceback": [
      "\u001b[0;31m---------------------------------------------------------------------------\u001b[0m",
      "\u001b[0;31mTypeError\u001b[0m                                 Traceback (most recent call last)",
      "\u001b[0;32m<ipython-input-219-2d4e52bc321e>\u001b[0m in \u001b[0;36m<module>\u001b[0;34m\u001b[0m\n\u001b[0;32m----> 1\u001b[0;31m \u001b[0moper\u001b[0m\u001b[0;34m(\u001b[0m\u001b[0;36m3\u001b[0m\u001b[0;34m,\u001b[0m \u001b[0;36m4\u001b[0m\u001b[0;34m,\u001b[0m \u001b[0;34m'+'\u001b[0m\u001b[0;34m)\u001b[0m\u001b[0;34m\u001b[0m\u001b[0;34m\u001b[0m\u001b[0m\n\u001b[0m",
      "\u001b[0;31mTypeError\u001b[0m: oper() takes 2 positional arguments but 3 were given"
     ]
    }
   ],
   "source": [
    "oper(3, 4, '+')"
   ]
  },
  {
   "cell_type": "markdown",
   "id": "920f7e44-5f80-47d6-8909-f0dccfce9e1c",
   "metadata": {},
   "source": [
    "The **bare variable argument parameter** `*` indicates that there aren’t any more positional parameters. This behavior generates appropriate error messages if extra ones are specified. It allows keyword-only parameters to follow."
   ]
  },
  {
   "cell_type": "markdown",
   "id": "b622b9ac-917c-4042-be89-aa0912e9ea86",
   "metadata": {},
   "source": [
    "<a class=\"anchor\" id=\"positional-only_arguments\"></a>\n",
    "## Positional-Only Arguments"
   ]
  },
  {
   "cell_type": "markdown",
   "id": "21e41163-fb0e-4d81-a57f-8f84b11c6c91",
   "metadata": {},
   "source": [
    "As of Python 3.8, function parameters can also be declared **positional-only**, meaning the corresponding arguments must be supplied positionally and can’t be specified by keyword."
   ]
  },
  {
   "cell_type": "markdown",
   "id": "28358dbe-18cf-4b9e-92cd-ee42ffb4d5e8",
   "metadata": {},
   "source": [
    "To designate some parameters as positional-only, you specify a bare slash (`/`) in the parameter list of a function definition. Any parameters to the left of the slash (`/`) must be specified positionally. For example, in the following function definition, `x` and `y` are positional-only parameters, but `z` may be specified by keyword:"
   ]
  },
  {
   "cell_type": "code",
   "execution_count": null,
   "id": "f7991d4a-fdc8-4c23-bac9-ed9833440252",
   "metadata": {},
   "outputs": [],
   "source": [
    "# This is Python 3.8\n",
    "def f(x, y, /, z):\n",
    "    print(f'x: {x}')\n",
    "    print(f'y: {y}')\n",
    "    print(f'z: {z}')"
   ]
  },
  {
   "cell_type": "markdown",
   "id": "11f0c4a8-95b8-4399-a6e5-627b0823a3e9",
   "metadata": {},
   "source": [
    "This means that the following calls are valid:"
   ]
  },
  {
   "cell_type": "code",
   "execution_count": null,
   "id": "ba783ad0-8a81-4fd4-96ef-763f04f94487",
   "metadata": {},
   "outputs": [
    {
     "name": "stdout",
     "output_type": "stream",
     "text": [
      "x: 1\n",
      "y: 2\n",
      "z: 3\n"
     ]
    }
   ],
   "source": [
    "f(1, 2, 3)"
   ]
  },
  {
   "cell_type": "code",
   "execution_count": null,
   "id": "2c6a31db-b3cf-4f81-931a-0b633bf54aae",
   "metadata": {},
   "outputs": [
    {
     "name": "stdout",
     "output_type": "stream",
     "text": [
      "x: 1\n",
      "y: 2\n",
      "z: 3\n"
     ]
    }
   ],
   "source": [
    "f(1, 2, z=3)"
   ]
  },
  {
   "cell_type": "markdown",
   "id": "4345ac76-80ab-4e1f-be4e-7df31d033ae5",
   "metadata": {},
   "source": [
    "The following call to `f()`, however, is not valid:"
   ]
  },
  {
   "cell_type": "code",
   "execution_count": null,
   "id": "1efdf7d4-808e-4f84-b371-486d98695c07",
   "metadata": {},
   "outputs": [
    {
     "ename": "TypeError",
     "evalue": "f() got some positional-only arguments passed as keyword arguments: 'x, y'",
     "output_type": "error",
     "traceback": [
      "\u001b[0;31m---------------------------------------------------------------------------\u001b[0m",
      "\u001b[0;31mTypeError\u001b[0m                                 Traceback (most recent call last)",
      "\u001b[0;32m<ipython-input-4-ae17ac4cb3d4>\u001b[0m in \u001b[0;36m<module>\u001b[0;34m\u001b[0m\n\u001b[0;32m----> 1\u001b[0;31m \u001b[0mf\u001b[0m\u001b[0;34m(\u001b[0m\u001b[0mx\u001b[0m\u001b[0;34m=\u001b[0m\u001b[0;36m1\u001b[0m\u001b[0;34m,\u001b[0m \u001b[0my\u001b[0m\u001b[0;34m=\u001b[0m\u001b[0;36m2\u001b[0m\u001b[0;34m,\u001b[0m \u001b[0mz\u001b[0m\u001b[0;34m=\u001b[0m\u001b[0;36m3\u001b[0m\u001b[0;34m)\u001b[0m\u001b[0;34m\u001b[0m\u001b[0;34m\u001b[0m\u001b[0m\n\u001b[0m",
      "\u001b[0;31mTypeError\u001b[0m: f() got some positional-only arguments passed as keyword arguments: 'x, y'"
     ]
    }
   ],
   "source": [
    "f(x=1, y=2, z=3)"
   ]
  },
  {
   "cell_type": "markdown",
   "id": "56ee0dcd-af7c-4c1c-a61b-7a3fa239cc1a",
   "metadata": {},
   "source": [
    "The positional-only and keyword-only designators may both be used in the same function definition:"
   ]
  },
  {
   "cell_type": "code",
   "execution_count": null,
   "id": "d74e0f90-11fe-42b0-90b9-86be9c2c185c",
   "metadata": {},
   "outputs": [],
   "source": [
    "# This is Python 3.8\n",
    "def f(x, y, /, z, w, *, a, b):\n",
    "    print(x, y, z, w, a, b)"
   ]
  },
  {
   "cell_type": "code",
   "execution_count": null,
   "id": "5db11e16-a62b-43a3-a5a9-d07e2c8ad18f",
   "metadata": {},
   "outputs": [
    {
     "name": "stdout",
     "output_type": "stream",
     "text": [
      "1 2 3 4 5 6\n"
     ]
    }
   ],
   "source": [
    "f(1, 2, z=3, w=4, a=5, b=6)"
   ]
  },
  {
   "cell_type": "code",
   "execution_count": null,
   "id": "2418205b-1bcb-45d4-bb16-de227d4d699a",
   "metadata": {},
   "outputs": [
    {
     "name": "stdout",
     "output_type": "stream",
     "text": [
      "1 2 3 4 5 6\n"
     ]
    }
   ],
   "source": [
    "f(1, 2, 3, w=4, a=5, b=6)"
   ]
  },
  {
   "cell_type": "markdown",
   "id": "24d6107b-cca0-41d1-b9cc-6f69d2877e25",
   "metadata": {},
   "source": [
    "In this example:\n",
    "\n",
    "- `x` **and** `y` are positional-only.\n",
    "- `a` **and** `b` are keyword-only.\n",
    "- `z` **and** `w` may be specified positionally or by keyword."
   ]
  },
  {
   "cell_type": "markdown",
   "id": "57020e8d-bc54-4286-95fb-4c873c9cc172",
   "metadata": {},
   "source": [
    "<a class=\"anchor\" id=\"docstrings\"></a>\n",
    "## Docstrings"
   ]
  },
  {
   "cell_type": "markdown",
   "id": "33af8008-d0ef-4b37-919f-8cc761fb1856",
   "metadata": {},
   "source": [
    "When the first statement in the body of a Python function is a string literal, it’s known as the function’s **docstring**. A docstring is used to supply documentation for a function. It can contain the function’s purpose, what arguments it takes, information about return values, or any other information you think would be useful."
   ]
  },
  {
   "cell_type": "markdown",
   "id": "60df3d0e-4cdb-4140-a07a-1bba0926316a",
   "metadata": {},
   "source": [
    "The following is an example of a function definition with a docstring:"
   ]
  },
  {
   "cell_type": "code",
   "execution_count": null,
   "id": "aaecc024-1f4b-4bca-a225-9ab8157aca66",
   "metadata": {},
   "outputs": [],
   "source": [
    "def avg(*args):\n",
    "    \"\"\"Returns the average of a list of numeric values.\"\"\"\n",
    "    return sum(args) / len(args)"
   ]
  },
  {
   "cell_type": "markdown",
   "id": "aca01cf7-408d-4f17-9886-79afa4312301",
   "metadata": {},
   "source": [
    "Technically, docstrings can use any of Python’s quoting mechanisms, but the recommended convention is to **triple-quote** using double-quote characters (`\"\"\"`), as shown above. If the docstring fits on one line, then the closing quotes should be on the same line as the opening quotes."
   ]
  },
  {
   "cell_type": "markdown",
   "id": "1dd936b2-88f7-47e4-a5f8-668e4c2d57a4",
   "metadata": {},
   "source": [
    "**Multi-line docstrings** are used for lengthier documentation. A multi-line docstring should consist of a summary line, followed by a blank line, followed by a more detailed description. The closing quotes should be on a line by themselves:"
   ]
  },
  {
   "cell_type": "code",
   "execution_count": null,
   "id": "f4cf5b4e-91c5-4b20-897c-bfe2a42484c3",
   "metadata": {},
   "outputs": [],
   "source": [
    "def foo(bar=0, baz=1):\n",
    "    \"\"\"Perform a foo transformation.\n",
    "\n",
    "    Keyword arguments:\n",
    "    bar -- magnitude along the bar axis (default=0)\n",
    "    baz -- magnitude along the baz axis (default=1)\n",
    "    \"\"\"\n",
    "    # <function_body>"
   ]
  },
  {
   "cell_type": "markdown",
   "id": "785d853a-f5a6-449c-aa08-58a13aea791f",
   "metadata": {},
   "source": [
    "Docstring formatting and semantic conventions are detailed in [PEP 257](https://www.python.org/dev/peps/pep-0257)."
   ]
  },
  {
   "cell_type": "markdown",
   "id": "14c36d24-7630-4694-959d-da6f238d4a41",
   "metadata": {},
   "source": [
    "When a docstring is defined, the Python interpreter assigns it to a special attribute of the function called `__doc__`. This attribute is one of a set of specialized identifiers in Python that are sometimes called **magic attributes** or **magic methods** because they provide special language functionality."
   ]
  },
  {
   "cell_type": "markdown",
   "id": "65f6d894-291e-4d8c-8fa6-3b06ee8be719",
   "metadata": {},
   "source": [
    "> **Note:** These attributes are also referred to by the colorful nickname dunder attributes and dunder methods. The word **dunder** combines the **d** from double and **under** from the underscore character (`_`). You’ll encounter many more dunder attributes and methods in future tutorials in this series."
   ]
  },
  {
   "cell_type": "markdown",
   "id": "362c7a4b-4eae-4bbc-97da-89b6883e0a04",
   "metadata": {},
   "source": [
    "You can access a function’s docstring with the expression `<function_name>.__doc__`. The docstrings for the above examples can be displayed as follows:"
   ]
  },
  {
   "cell_type": "code",
   "execution_count": null,
   "id": "afe568fb-8a87-4030-a971-7960f2f38d87",
   "metadata": {},
   "outputs": [
    {
     "name": "stdout",
     "output_type": "stream",
     "text": [
      "Returns the average of a list of numeric values.\n"
     ]
    }
   ],
   "source": [
    "print(avg.__doc__)"
   ]
  },
  {
   "cell_type": "code",
   "execution_count": null,
   "id": "f596b052-c70a-455d-bbbb-760bf99b9cfe",
   "metadata": {},
   "outputs": [
    {
     "name": "stdout",
     "output_type": "stream",
     "text": [
      "Perform a foo transformation.\n",
      "\n",
      "    Keyword arguments:\n",
      "    bar -- magnitude along the bar axis (default=0)\n",
      "    baz -- magnitude along the baz axis (default=1)\n",
      "    \n"
     ]
    }
   ],
   "source": [
    "print(foo.__doc__)"
   ]
  },
  {
   "cell_type": "markdown",
   "id": "dcf852a3-ca4d-46b6-84da-8921b72296fd",
   "metadata": {},
   "source": [
    "In the interactive Python interpreter, you can type `help(<function_name>)` to display the docstring for `<function_name>`:"
   ]
  },
  {
   "cell_type": "code",
   "execution_count": null,
   "id": "762bb97b-6fcd-4a70-9967-70c80fef2441",
   "metadata": {},
   "outputs": [
    {
     "name": "stdout",
     "output_type": "stream",
     "text": [
      "Help on function avg in module __main__:\n",
      "\n",
      "avg(*args)\n",
      "    Returns the average of a list of numeric values.\n",
      "\n"
     ]
    }
   ],
   "source": [
    "help(avg)"
   ]
  },
  {
   "cell_type": "code",
   "execution_count": null,
   "id": "994c4ff1-788d-4e03-9ee8-32e57c659840",
   "metadata": {},
   "outputs": [
    {
     "name": "stdout",
     "output_type": "stream",
     "text": [
      "Help on function foo in module __main__:\n",
      "\n",
      "foo(bar=0, baz=1)\n",
      "    Perform a foo transformation.\n",
      "    \n",
      "    Keyword arguments:\n",
      "    bar -- magnitude along the bar axis (default=0)\n",
      "    baz -- magnitude along the baz axis (default=1)\n",
      "\n"
     ]
    }
   ],
   "source": [
    "help(foo)"
   ]
  },
  {
   "cell_type": "markdown",
   "id": "daf9cfc7-db08-442d-9042-29569dda3022",
   "metadata": {},
   "source": [
    "It’s considered good coding practice to specify a docstring for each Python function you define. Documenting Python Code will be covered later."
   ]
  },
  {
   "cell_type": "markdown",
   "id": "c4601a00-3689-4c7b-9951-a1bc254fbabd",
   "metadata": {},
   "source": [
    "<a class=\"anchor\" id=\"python_function_annotations\"></a>\n",
    "## Python Function Annotations"
   ]
  },
  {
   "cell_type": "markdown",
   "id": "e8a93c33-2666-4a97-a646-a18a049df254",
   "metadata": {},
   "source": [
    "As of version 3.0, Python provides an additional feature for documenting a function called a **function annotation**. Annotations provide a way to attach metadata to a function’s parameters and return value."
   ]
  },
  {
   "cell_type": "code",
   "execution_count": null,
   "id": "0ddfad8f-0b81-4da6-afc6-68bb061831c4",
   "metadata": {},
   "outputs": [],
   "source": [
    "def f(a: float, b: float = 8) -> int:\n",
    "    \"\"\"Add two number.\n",
    "\n",
    "    :param a: First input\n",
    "    :param b: Second input\n",
    "    :return: Sum of two numbers.\n",
    "    \"\"\"\n",
    "    \n",
    "    return a + b"
   ]
  },
  {
   "cell_type": "markdown",
   "id": "ec981934-4a58-4a99-be78-57239278d1c6",
   "metadata": {},
   "source": [
    "To add an annotation to a Python function parameter, insert a colon (`:`) followed by any expression after the parameter name in the function definition. To add an annotation to the return value, add the characters `->` and any expression between the closing parenthesis of the parameter list and the colon that terminates the function header. Here’s an example:\n",
    "\n",
    "```python\n",
    "def f(a: '<a>', b: '<b>') -> '<ret_value>':\n",
    "    pass\n",
    "```"
   ]
  },
  {
   "cell_type": "markdown",
   "id": "7aab6d83-c637-4794-86f9-6f49c9611436",
   "metadata": {},
   "source": [
    "The annotation for parameter `a` is the string `'<a>'`, for `b` the string `'<b>'`, and for the function return value the string `'<ret_value>'`."
   ]
  },
  {
   "cell_type": "markdown",
   "id": "9078ca46-8bb4-4cab-9ac2-e552d1485b4c",
   "metadata": {},
   "source": [
    "The Python interpreter creates a dictionary from the annotations and assigns them to another special dunder attribute of the function called `__annotations__`. The annotations for the Python function `f()` shown above can be displayed as follows:"
   ]
  },
  {
   "cell_type": "code",
   "execution_count": null,
   "id": "302b2e93-10b2-4a6f-a4cb-d2f4a331b256",
   "metadata": {},
   "outputs": [
    {
     "data": {
      "text/plain": [
       "{'a': int, 'b': int, 'return': int}"
      ]
     },
     "execution_count": 71,
     "metadata": {},
     "output_type": "execute_result"
    }
   ],
   "source": [
    "f.__annotations__"
   ]
  },
  {
   "cell_type": "markdown",
   "id": "2baba27d-6c3b-48eb-99b1-28ed389fdb91",
   "metadata": {},
   "source": [
    "The keys for the parameters are the parameter names. The key for the return value is the string `'return'`:"
   ]
  },
  {
   "cell_type": "code",
   "execution_count": null,
   "id": "9a75e8d4-4ffb-47ce-831d-120b528e1ba3",
   "metadata": {},
   "outputs": [
    {
     "data": {
      "text/plain": [
       "int"
      ]
     },
     "execution_count": 72,
     "metadata": {},
     "output_type": "execute_result"
    }
   ],
   "source": [
    "f.__annotations__['a']"
   ]
  },
  {
   "cell_type": "code",
   "execution_count": null,
   "id": "574e7e99-07ea-4212-a757-1cc8af26fa43",
   "metadata": {},
   "outputs": [
    {
     "data": {
      "text/plain": [
       "int"
      ]
     },
     "execution_count": 73,
     "metadata": {},
     "output_type": "execute_result"
    }
   ],
   "source": [
    "f.__annotations__['b']"
   ]
  },
  {
   "cell_type": "code",
   "execution_count": null,
   "id": "50444197-c3d1-42ea-a911-57057e9fc3c6",
   "metadata": {},
   "outputs": [
    {
     "data": {
      "text/plain": [
       "int"
      ]
     },
     "execution_count": 74,
     "metadata": {},
     "output_type": "execute_result"
    }
   ],
   "source": [
    "f.__annotations__['return']"
   ]
  },
  {
   "cell_type": "markdown",
   "id": "ff52b019-fa95-410d-916e-385ffd31d6f0",
   "metadata": {},
   "source": [
    "Note that annotations aren’t restricted to string values. They can be any expression or object. For example, you might annotate with type objects:"
   ]
  },
  {
   "cell_type": "code",
   "execution_count": null,
   "id": "c3197803-69f7-4bdd-8260-bbc46d765dac",
   "metadata": {},
   "outputs": [],
   "source": [
    "def f(a: int, b: str) -> float:\n",
    "    print(a, b)\n",
    "    return(3.5)"
   ]
  },
  {
   "cell_type": "code",
   "execution_count": null,
   "id": "71aa497f-78e7-457e-9df4-697fa8fc929a",
   "metadata": {},
   "outputs": [
    {
     "name": "stdout",
     "output_type": "stream",
     "text": [
      "1 foo\n"
     ]
    },
    {
     "data": {
      "text/plain": [
       "3.5"
      ]
     },
     "execution_count": 23,
     "metadata": {},
     "output_type": "execute_result"
    }
   ],
   "source": [
    "f(1, 'foo')"
   ]
  },
  {
   "cell_type": "code",
   "execution_count": null,
   "id": "f190fad8-6d67-407b-a560-cd761b316cc9",
   "metadata": {},
   "outputs": [
    {
     "data": {
      "text/plain": [
       "{'a': int, 'b': str, 'return': float}"
      ]
     },
     "execution_count": 24,
     "metadata": {},
     "output_type": "execute_result"
    }
   ],
   "source": [
    "f.__annotations__"
   ]
  },
  {
   "cell_type": "markdown",
   "id": "1ea97c62-1254-4493-a9f4-08f586da4e5f",
   "metadata": {},
   "source": [
    "An annotation can even be a composite object like a list or a dictionary, so it’s possible to attach multiple items of metadata to the parameters and return value:"
   ]
  },
  {
   "cell_type": "code",
   "execution_count": null,
   "id": "17682912-9446-46e7-93f6-e40cbfeb0400",
   "metadata": {},
   "outputs": [],
   "source": [
    "def area(\n",
    "    r: {\n",
    "           'desc': 'radius of circle',\n",
    "           'type': float\n",
    "       }) -> \\\n",
    "       {\n",
    "           'desc': 'area of circle',\n",
    "           'type': float\n",
    "       }:\n",
    "    return 3.14159 * (r ** 2)"
   ]
  },
  {
   "cell_type": "code",
   "execution_count": null,
   "id": "0f40b7fb-5a1c-4ed0-8ed7-838c262aa589",
   "metadata": {},
   "outputs": [
    {
     "data": {
      "text/plain": [
       "19.6349375"
      ]
     },
     "execution_count": 26,
     "metadata": {},
     "output_type": "execute_result"
    }
   ],
   "source": [
    "area(2.5)"
   ]
  },
  {
   "cell_type": "code",
   "execution_count": null,
   "id": "c315d853-1f32-4d65-ae39-eec357746714",
   "metadata": {},
   "outputs": [
    {
     "data": {
      "text/plain": [
       "{'r': {'desc': 'radius of circle', 'type': float},\n",
       " 'return': {'desc': 'area of circle', 'type': float}}"
      ]
     },
     "execution_count": 27,
     "metadata": {},
     "output_type": "execute_result"
    }
   ],
   "source": [
    "area.__annotations__"
   ]
  },
  {
   "cell_type": "code",
   "execution_count": null,
   "id": "ef5cbe49-8a00-4eb4-bebf-885b012fa5a9",
   "metadata": {},
   "outputs": [
    {
     "data": {
      "text/plain": [
       "'radius of circle'"
      ]
     },
     "execution_count": 28,
     "metadata": {},
     "output_type": "execute_result"
    }
   ],
   "source": [
    "area.__annotations__['r']['desc']"
   ]
  },
  {
   "cell_type": "code",
   "execution_count": null,
   "id": "8860fe16-8894-45c8-8607-09cfa0661d5d",
   "metadata": {},
   "outputs": [
    {
     "data": {
      "text/plain": [
       "float"
      ]
     },
     "execution_count": 29,
     "metadata": {},
     "output_type": "execute_result"
    }
   ],
   "source": [
    "area.__annotations__['return']['type']"
   ]
  },
  {
   "cell_type": "markdown",
   "id": "420a6d5d-eebb-4ce9-89e9-4cbadc9560c0",
   "metadata": {},
   "source": [
    "In the example above, an annotation is attached to the parameter `r` and to the return value. Each annotation is a dictionary containing a string description and a type object."
   ]
  },
  {
   "cell_type": "markdown",
   "id": "58151932-001d-45d6-8ad4-7aeed8fea759",
   "metadata": {},
   "source": [
    "If you want to assign a default value to a parameter that has an annotation, then the default value goes after the annotation:"
   ]
  },
  {
   "cell_type": "code",
   "execution_count": null,
   "id": "d6bc9eb8-43d9-42b1-8f79-a30661c8eb55",
   "metadata": {},
   "outputs": [],
   "source": [
    "def f(a: int = 12, b: str = 'baz') -> float:\n",
    "    print(a, b)\n",
    "    return(3.5)"
   ]
  },
  {
   "cell_type": "code",
   "execution_count": null,
   "id": "5f3f3ab6-377c-4b14-916f-3fa5c032da13",
   "metadata": {},
   "outputs": [
    {
     "data": {
      "text/plain": [
       "{'a': int, 'b': str, 'return': float}"
      ]
     },
     "execution_count": 31,
     "metadata": {},
     "output_type": "execute_result"
    }
   ],
   "source": [
    "f.__annotations__"
   ]
  },
  {
   "cell_type": "code",
   "execution_count": null,
   "id": "6bcb2801-37ce-4bf9-9bc7-403eb3af257f",
   "metadata": {},
   "outputs": [
    {
     "name": "stdout",
     "output_type": "stream",
     "text": [
      "12 baz\n"
     ]
    },
    {
     "data": {
      "text/plain": [
       "3.5"
      ]
     },
     "execution_count": 32,
     "metadata": {},
     "output_type": "execute_result"
    }
   ],
   "source": [
    "f()"
   ]
  },
  {
   "cell_type": "markdown",
   "id": "8c292fc8-e93d-4e17-bea3-e25ad9c430b7",
   "metadata": {},
   "source": [
    "What do annotations do? Frankly, they don’t do much of anything. They’re just kind of there. Let’s look at one of the examples from above again, but with a few minor modifications:"
   ]
  },
  {
   "cell_type": "code",
   "execution_count": null,
   "id": "9cc9a470-531a-43a2-9b21-3e1e7ff5fdc3",
   "metadata": {},
   "outputs": [],
   "source": [
    "def f(a: int, b: str) -> float:\n",
    "    print(a, b)\n",
    "    return 1, 2, 3"
   ]
  },
  {
   "cell_type": "code",
   "execution_count": null,
   "id": "4b719576-08b7-4a14-86d2-9a04704cacbc",
   "metadata": {},
   "outputs": [
    {
     "name": "stdout",
     "output_type": "stream",
     "text": [
      "foo 2.5\n"
     ]
    },
    {
     "data": {
      "text/plain": [
       "(1, 2, 3)"
      ]
     },
     "execution_count": 34,
     "metadata": {},
     "output_type": "execute_result"
    }
   ],
   "source": [
    "f('foo', 2.5)"
   ]
  },
  {
   "cell_type": "markdown",
   "id": "3e772967-3373-413a-8a7a-db09d714574e",
   "metadata": {},
   "source": [
    "What’s going on here? The annotations for `f()` indicate that the first argument is `int`, the second argument `str`, and the return value `float`. But the subsequent call to `f()` breaks all the rules! The arguments are `str` and `float`, respectively, and the return value is a `tuple`. Yet the interpreter lets it all slide with no complaint at all."
   ]
  },
  {
   "cell_type": "markdown",
   "id": "5af73ea2-6168-4558-8c78-3164256bd90e",
   "metadata": {},
   "source": [
    "Annotations don’t impose any **semantic restrictions** on the code whatsoever. They’re simply bits of metadata attached to the Python function parameters and return value. Python dutifully stashes them in a dictionary, assigns the dictionary to the function’s `__annotations__` dunder attribute, and that’s it. Annotations are completely optional and don’t have any impact on Python function execution at all."
   ]
  },
  {
   "cell_type": "markdown",
   "id": "6d561545-c8c0-42a7-86e2-ef5aa5ec626e",
   "metadata": {},
   "source": [
    "For starters, annotations make good **documentation**. You can specify the same information in the docstring, of course, but placing it directly in the function definition adds clarity. The types of the arguments and the return value are obvious on sight for a function header like this:\n",
    "\n",
    "```python\n",
    "def f(a: int, b: str) -> float:\n",
    "```"
   ]
  },
  {
   "cell_type": "markdown",
   "id": "cf82707d-d6b1-4341-bed3-ab76cb16cce5",
   "metadata": {},
   "source": [
    "Granted, the interpreter doesn’t enforce adherence to the types specified, but at least they’re clear to someone reading the function definition."
   ]
  },
  {
   "cell_type": "markdown",
   "id": "d305c04b-500e-4ef7-ad73-f5e30948db5d",
   "metadata": {},
   "source": [
    "There’s another benefit to using annotations as well. The standardized format in which annotation information is stored in the `__annotations__` attribute lends itself to the parsing of function signatures by automated tools."
   ]
  },
  {
   "cell_type": "markdown",
   "id": "2f7588a7-f896-455e-9ddf-7fcd96583cbb",
   "metadata": {},
   "source": [
    "Python function annotations are nothing more than dictionaries of metadata. It just happens that you can create them with convenient syntax that’s supported by the interpreter. They’re whatever you choose to make of them."
   ]
  },
  {
   "attachments": {},
   "cell_type": "markdown",
   "id": "22d600f3-ae4b-4546-88fa-3f739688a71e",
   "metadata": {},
   "source": [
    "<a class=\"anchor\" id=\"conclusion\"></a>\n",
    "## <img src=\"../../images/logos/checkmark.png\" width=\"20\"/> Conclusion \n",
    "As applications grow larger, it becomes increasingly important to modularize code by breaking it up into smaller functions of manageable size. You now hopefully have all the tools you need to do this."
   ]
  },
  {
   "cell_type": "markdown",
   "id": "d77d659e-42ea-4f29-8608-ed92ce725c19",
   "metadata": {},
   "source": [
    "You’ve learned:\n",
    "\n",
    "- How to create variable length arguments for functions\n",
    "- Keyword only and positional only arguments\n",
    "- How to add documentation to functions with **docstrings** and **annotations**"
   ]
  },
  {
   "cell_type": "markdown",
   "id": "b8689588-13e0-47e6-9028-cdf0accf04b0",
   "metadata": {},
   "source": [
    "Next up in this series, you’ll explore how Python avoids conflict between identifiers in different areas of code. As you’ve already seen, each function in Python has its own namespace, distinct from those of other functions. In the next tutorial, you’ll learn how namespaces are implemented in Python and how they define variable **scope**."
   ]
  }
 ],
 "metadata": {
  "kernelspec": {
   "display_name": "Python 3",
   "language": "python",
   "name": "python3"
  },
  "language_info": {
   "codemirror_mode": {
    "name": "ipython",
    "version": 3
   },
   "file_extension": ".py",
   "mimetype": "text/x-python",
   "name": "python",
   "nbconvert_exporter": "python",
   "pygments_lexer": "ipython3",
   "version": "3.8.11"
  }
 },
 "nbformat": 4,
 "nbformat_minor": 5
}
