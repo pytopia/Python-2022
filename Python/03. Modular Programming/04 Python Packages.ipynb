{
 "cells": [
  {
   "cell_type": "markdown",
   "id": "0309da50",
   "metadata": {},
   "source": [
    "<img src=\"../../images/banners/python-modular.png\" width=\"600\"/>"
   ]
  },
  {
   "cell_type": "markdown",
   "id": "bf25f23e-92e2-423d-9be0-f1656ad1c7b2",
   "metadata": {},
   "source": [
    "# <img src=\"../../images/logos/python.png\" width=\"23\"/> Python Packages\n"
   ]
  },
  {
   "cell_type": "markdown",
   "id": "a633459d",
   "metadata": {},
   "source": [
    "## <img src=\"../../images/logos/toc.png\" width=\"20\"/> Table of Contents \n",
    "* [Package Initialization](#package_initialization)\n",
    "* [Importing `*` From a Package](#importing_`*`_from_a_package)\n",
    "* [Subpackages](#subpackages)\n",
    "* [Conclusion](#conclusion)\n",
    "\n",
    "---"
   ]
  },
  {
   "cell_type": "markdown",
   "id": "4a328a9d",
   "metadata": {},
   "source": [
    "Suppose you have developed a very large application that includes many modules. As the number of modules grows, it becomes difficult to keep track of them all if they are dumped into one location. This is particularly so if they have similar names or functionality. You might wish for a means of grouping and organizing them."
   ]
  },
  {
   "cell_type": "markdown",
   "id": "565c8c9e",
   "metadata": {},
   "source": [
    "**Packages** allow for a hierarchical structuring of the module namespace using **dot notation**. In the same way that **modules** help avoid collisions between global variable names, **packages** help avoid collisions between module names."
   ]
  },
  {
   "cell_type": "markdown",
   "id": "eac355a7",
   "metadata": {},
   "source": [
    "Creating a **package** is quite straightforward, since it makes use of the operating system’s inherent hierarchical file structure. Consider the following arrangement:"
   ]
  },
  {
   "cell_type": "markdown",
   "id": "81a37f8a",
   "metadata": {},
   "source": [
    "<img src=\"images/pkg.svg\" width=\"150px\">"
   ]
  },
  {
   "cell_type": "markdown",
   "id": "1403bd8b",
   "metadata": {},
   "source": [
    "Here, there is a directory named `pkg` that contains two modules, `mod1.py` and `mod2.py`. The contents of the modules are:"
   ]
  },
  {
   "cell_type": "markdown",
   "id": "7ce5d120",
   "metadata": {},
   "source": [
    "***mod1.py***\n",
    "\n",
    "```python\n",
    "def foo():\n",
    "    print('[mod1] foo()')\n",
    "\n",
    "class Foo:\n",
    "    pass\n",
    "```"
   ]
  },
  {
   "cell_type": "markdown",
   "id": "5697df24",
   "metadata": {},
   "source": [
    "***mod2.py***\n",
    "```python\n",
    "def bar():\n",
    "    print('[mod2] bar()')\n",
    "\n",
    "class Bar:\n",
    "    pass\n",
    "```"
   ]
  },
  {
   "cell_type": "markdown",
   "id": "ac22dd3e",
   "metadata": {},
   "source": [
    "Given this structure, if the `pkg` directory resides in a location where it can be found (in one of the directories contained in `sys.path`), you can refer to the two **modules** with **dot notation** (`pkg.mod1`, `pkg.mod2`) and import them with the syntax you are already familiar with:\n",
    "\n",
    "```python\n",
    "import <module_name>[, <module_name> ...]\n",
    "```"
   ]
  },
  {
   "cell_type": "markdown",
   "id": "24d1f209-23fa-455a-943d-6be31cc0c309",
   "metadata": {},
   "source": [
    "```python\n",
    ">>> import pkg.mod1, pkg.mod2\n",
    ">>> pkg.mod1.foo()\n",
    "[mod1] foo()\n",
    ">>> x = pkg.mod2.Bar()\n",
    ">>> x\n",
    "<pkg.mod2.Bar object at 0x033F7290>\n",
    "```"
   ]
  },
  {
   "cell_type": "markdown",
   "id": "8530f65c-18b9-4c3d-bfc4-273f0b9badea",
   "metadata": {},
   "source": [
    "```python\n",
    "from <module_name> import <name(s)>\n",
    "```"
   ]
  },
  {
   "cell_type": "markdown",
   "id": "d6d107b5-5ec9-413a-8a62-98441bf40a21",
   "metadata": {},
   "source": [
    "```python\n",
    ">>> from pkg.mod1 import foo\n",
    ">>> foo()\n",
    "[mod1] foo()\n",
    "```"
   ]
  },
  {
   "cell_type": "markdown",
   "id": "c0c3df94-85a7-47bf-baa1-f2a28fb776a2",
   "metadata": {},
   "source": [
    "```python\n",
    "from <module_name> import <name> as <alt_name>\n",
    "```"
   ]
  },
  {
   "cell_type": "markdown",
   "id": "e3ba4b8a-e692-4975-b967-2e3a2412b9b0",
   "metadata": {},
   "source": [
    "```python\n",
    ">>> from pkg.mod2 import Bar as Qux\n",
    ">>> x = Qux()\n",
    ">>> x\n",
    "<pkg.mod2.Bar object at 0x036DFFD0>\n",
    "```"
   ]
  },
  {
   "cell_type": "markdown",
   "id": "26f4ca50",
   "metadata": {},
   "source": [
    "You can import modules with these statements as well:"
   ]
  },
  {
   "cell_type": "markdown",
   "id": "8854a624-ca23-4b03-a0b0-a30af8540acd",
   "metadata": {},
   "source": [
    "```python\n",
    "from <package_name> import <modules_name>[, <module_name> ...]\n",
    "from <package_name> import <module_name> as <alt_name>\n",
    "```"
   ]
  },
  {
   "cell_type": "markdown",
   "id": "da2c5d60-f069-42fd-a6da-d4cfa6d76602",
   "metadata": {},
   "source": [
    "```python\n",
    ">>> from pkg import mod1\n",
    ">>> mod1.foo()\n",
    "[mod1] foo()\n",
    "\n",
    ">>> from pkg import mod2 as quux\n",
    ">>> quux.bar()\n",
    "[mod2] bar()\n",
    "```"
   ]
  },
  {
   "cell_type": "markdown",
   "id": "75c39932",
   "metadata": {},
   "source": [
    "You can technically import the package as well:"
   ]
  },
  {
   "cell_type": "markdown",
   "id": "86d50227-8cff-40d8-97b7-bec0d8c3fb3a",
   "metadata": {},
   "source": [
    "```python\n",
    ">>> import pkg\n",
    ">>> pkg\n",
    "<module 'pkg' (namespace)>\n",
    "```"
   ]
  },
  {
   "cell_type": "markdown",
   "id": "cf7fa20e",
   "metadata": {},
   "source": [
    "But this is of little avail. Though this is, strictly speaking, a syntactically correct Python statement, it doesn’t do much of anything useful. In particular, **it *does not place* any of the modules in `pkg` into the local namespace**:"
   ]
  },
  {
   "cell_type": "markdown",
   "id": "d090b1fd-0f44-4db6-b838-5613315b94b5",
   "metadata": {},
   "source": [
    "```python\n",
    ">>> pkg.mod1\n",
    "Traceback (most recent call last):\n",
    "  File \"<pyshell#34>\", line 1, in <module>\n",
    "    pkg.mod1\n",
    "AttributeError: module 'pkg' has no attribute 'mod1'\n",
    ">>> pkg.mod1.foo()\n",
    "Traceback (most recent call last):\n",
    "  File \"<pyshell#35>\", line 1, in <module>\n",
    "    pkg.mod1.foo()\n",
    "AttributeError: module 'pkg' has no attribute 'mod1'\n",
    ">>> pkg.mod2.Bar()\n",
    "Traceback (most recent call last):\n",
    "  File \"<pyshell#36>\", line 1, in <module>\n",
    "    pkg.mod2.Bar()\n",
    "AttributeError: module 'pkg' has no attribute 'mod2'\n",
    "```"
   ]
  },
  {
   "cell_type": "markdown",
   "id": "02b4c437",
   "metadata": {},
   "source": [
    "To actually import the modules or their contents, you need to use one of the forms shown above."
   ]
  },
  {
   "cell_type": "markdown",
   "id": "827a046c",
   "metadata": {},
   "source": [
    "<a class=\"anchor\" id=\"package_initialization\"></a>\n",
    "\n",
    "## Package Initialization"
   ]
  },
  {
   "cell_type": "markdown",
   "id": "50ce51e9",
   "metadata": {},
   "source": [
    "If a file named `__init__.py` is present in a package directory, it is invoked when the package or a module in the package is imported. This can be used for execution of package initialization code, such as initialization of package-level data."
   ]
  },
  {
   "cell_type": "markdown",
   "id": "bb8618b4",
   "metadata": {},
   "source": [
    "For example, consider the following `__init__.py` file:"
   ]
  },
  {
   "cell_type": "markdown",
   "id": "56871ab7",
   "metadata": {},
   "source": [
    "**`__init__.py`**\n",
    "\n",
    "```python\n",
    "print(f'Invoking __init__.py for {__name__}')\n",
    "A = ['quux', 'corge', 'grault']\n",
    "```"
   ]
  },
  {
   "cell_type": "markdown",
   "id": "bab33223",
   "metadata": {},
   "source": [
    "Let’s add this file to the `pkg` directory from the above example:"
   ]
  },
  {
   "cell_type": "markdown",
   "id": "fb5d6a4c",
   "metadata": {},
   "source": [
    "<img src=\"images/package_init.svg\" width=\"150px\">"
   ]
  },
  {
   "cell_type": "markdown",
   "id": "bab004f8",
   "metadata": {},
   "source": [
    "Now when the package is imported, the global list `A` is initialized:"
   ]
  },
  {
   "cell_type": "markdown",
   "id": "33c213c2-ce5b-4664-ba42-561edb70bc04",
   "metadata": {},
   "source": [
    "```python\n",
    ">>> import pkg\n",
    "Invoking __init__.py for pkg\n",
    ">>> pkg.A\n",
    "['quux', 'corge', 'grault']\n",
    "```"
   ]
  },
  {
   "cell_type": "markdown",
   "id": "c75a1db8",
   "metadata": {},
   "source": [
    "A **module** in the package can access the global variable by importing it in turn:"
   ]
  },
  {
   "cell_type": "markdown",
   "id": "6bbf16c5",
   "metadata": {},
   "source": [
    "***mod1.py***\n",
    "\n",
    "```python\n",
    "def foo():\n",
    "    from pkg import A\n",
    "    print('[mod1] foo() / A = ', A)\n",
    "\n",
    "class Foo:\n",
    "    pass\n",
    "```"
   ]
  },
  {
   "cell_type": "markdown",
   "id": "14d3d1eb-cb40-4bc5-9950-2f65553a5356",
   "metadata": {},
   "source": [
    "```python\n",
    ">>> from pkg import mod1\n",
    "Invoking __init__.py for pkg\n",
    ">>> mod1.foo()\n",
    "[mod1] foo() / A =  ['quux', 'corge', 'grault']\n",
    "```"
   ]
  },
  {
   "cell_type": "markdown",
   "id": "e2e1b5f1",
   "metadata": {},
   "source": [
    "`__init__.py` can also be used to effect automatic importing of modules from a package. For example, earlier you saw that the statement `import pkg` only places the name `pkg` in the caller’s local symbol table and doesn’t import any modules. But if `__init__.py` in the `pkg` directory contains the following:"
   ]
  },
  {
   "cell_type": "markdown",
   "id": "03c51047",
   "metadata": {},
   "source": [
    "**`__init__.py`**\n",
    "\n",
    "```python\n",
    "print(f'Invoking __init__.py for {__name__}')\n",
    "import pkg.mod1, pkg.mod2\n",
    "```"
   ]
  },
  {
   "cell_type": "markdown",
   "id": "14671d9c",
   "metadata": {},
   "source": [
    "then when you execute `import pkg`, modules `mod1` and `mod2` are imported automatically:"
   ]
  },
  {
   "cell_type": "markdown",
   "id": "b7ccd78a-01f1-4f34-af40-9617ca98d97e",
   "metadata": {},
   "source": [
    "```python\n",
    ">>> import pkg\n",
    "Invoking __init__.py for pkg\n",
    ">>> pkg.mod1.foo()\n",
    "[mod1] foo()\n",
    ">>> pkg.mod2.bar()\n",
    "[mod2] bar()\n",
    "```"
   ]
  },
  {
   "cell_type": "markdown",
   "id": "c9b99694-8102-467b-94f6-ebc66d2dedd3",
   "metadata": {},
   "source": [
    "> **Note:** Much of the Python documentation states that an `__init__.py` file **must** be present in the package directory when creating a package. This was once true. It used to be that the very presence of `__init__.py` signified to Python that a package was being defined. The file could contain initialization code or even be empty, but it **had** to be present.\n",
    "> \n",
    "> Starting with **Python 3.3**, [Implicit Namespace Packages](https://www.python.org/dev/peps/pep-0420) were introduced. These allow for the creation of a package without any `__init__.py` file. Of course, it **can** still be present if package initialization is needed. But it is no longer required."
   ]
  },
  {
   "cell_type": "markdown",
   "id": "05618f67",
   "metadata": {},
   "source": [
    "<a class=\"anchor\" id=\"importing_`*`_from_a_package\"></a>\n",
    "\n",
    "## Importing `*` From a Package"
   ]
  },
  {
   "cell_type": "markdown",
   "id": "92ab000d",
   "metadata": {},
   "source": [
    "For the purposes of the following discussion, the previously defined package is expanded to contain some additional modules:"
   ]
  },
  {
   "cell_type": "markdown",
   "id": "2ac673cd",
   "metadata": {},
   "source": [
    "<img src=\"images/package_4.svg\" width=\"150px\">"
   ]
  },
  {
   "cell_type": "markdown",
   "id": "748c9586",
   "metadata": {},
   "source": [
    "There are now four modules defined in the `pkg` directory. Their contents are as shown below:"
   ]
  },
  {
   "cell_type": "markdown",
   "id": "3a9ad0d8",
   "metadata": {},
   "source": [
    "**mod1.py**\n",
    "\n",
    "```python\n",
    "def foo():\n",
    "    print('[mod1] foo()')\n",
    "\n",
    "class Foo:\n",
    "    pass\n",
    "```"
   ]
  },
  {
   "cell_type": "markdown",
   "id": "00f4b1e9",
   "metadata": {},
   "source": [
    "**mod2.py**\n",
    "\n",
    "```python\n",
    "def bar():\n",
    "    print('[mod2] bar()')\n",
    "\n",
    "class Bar:\n",
    "    pass\n",
    "```"
   ]
  },
  {
   "cell_type": "markdown",
   "id": "b9e15536",
   "metadata": {},
   "source": [
    "**mod3.py**\n",
    "\n",
    "```python\n",
    "def baz():\n",
    "    print('[mod3] baz()')\n",
    "\n",
    "class Baz:\n",
    "    pass\n",
    "```"
   ]
  },
  {
   "cell_type": "markdown",
   "id": "826f6bc9",
   "metadata": {},
   "source": [
    "**mod4.py**\n",
    "\n",
    "```python\n",
    "def qux():\n",
    "    print('[mod4] qux()')\n",
    "\n",
    "class Qux:\n",
    "    pass\n",
    "```"
   ]
  },
  {
   "cell_type": "markdown",
   "id": "261a2f06",
   "metadata": {},
   "source": [
    "(Imaginative, aren’t they?)"
   ]
  },
  {
   "cell_type": "markdown",
   "id": "75984b24",
   "metadata": {},
   "source": [
    "You have already seen that when `import *` is used for a **module**, *all* objects from the module are imported into the local symbol table, except those whose names begin with an underscore, as always:"
   ]
  },
  {
   "cell_type": "markdown",
   "id": "bb43176c-f3ee-4e86-8981-0a54a8e9a60d",
   "metadata": {},
   "source": [
    "```python\n",
    ">>> dir()\n",
    "['__annotations__', '__builtins__', '__doc__', '__loader__', '__name__',\n",
    "'__package__', '__spec__']\n",
    "\n",
    ">>> from pkg.mod3 import *\n",
    "\n",
    ">>> dir()\n",
    "['Baz', '__annotations__', '__builtins__', '__doc__', '__loader__', '__name__',\n",
    "'__package__', '__spec__', 'baz']\n",
    ">>> baz()\n",
    "[mod3] baz()\n",
    ">>> Baz\n",
    "<class 'pkg.mod3.Baz'>\n",
    "```"
   ]
  },
  {
   "cell_type": "markdown",
   "id": "7ebcbfe0",
   "metadata": {},
   "source": [
    "The analogous statement for a **package** is this:\n",
    "\n",
    "```python\n",
    "from <package_name> import *\n",
    "```"
   ]
  },
  {
   "cell_type": "markdown",
   "id": "b39e3b4e",
   "metadata": {},
   "source": [
    "What does that do?"
   ]
  },
  {
   "cell_type": "markdown",
   "id": "8b964875-44c3-4863-ab40-667716f7967c",
   "metadata": {},
   "source": [
    "```python\n",
    ">>> dir()\n",
    "['__annotations__', '__builtins__', '__doc__', '__loader__', '__name__',\n",
    "'__package__', '__spec__']\n",
    "\n",
    ">>> from pkg import *\n",
    ">>> dir()\n",
    "['__annotations__', '__builtins__', '__doc__', '__loader__', '__name__',\n",
    "'__package__', '__spec__']\n",
    "```"
   ]
  },
  {
   "cell_type": "markdown",
   "id": "d4b4bae4",
   "metadata": {},
   "source": [
    "Hmph. Not much. You might have expected (assuming you had any expectations at all) that Python would dive down into the package directory, find all the modules it could, and import them all. But as you can see, by default that is not what happens."
   ]
  },
  {
   "cell_type": "markdown",
   "id": "4eca5254",
   "metadata": {},
   "source": [
    "Instead, Python follows this convention: if the `__init__.py` file in the **package** directory contains a **list** named `__all__`, it is taken to be a list of modules that should be imported when the statement `from <package_name> import *` is encountered."
   ]
  },
  {
   "cell_type": "markdown",
   "id": "0c841c71",
   "metadata": {},
   "source": [
    "For the present example, suppose you create an `__init__.py` in the `pkg` directory like this:"
   ]
  },
  {
   "cell_type": "markdown",
   "id": "d08305c4",
   "metadata": {},
   "source": [
    "**`pkg/__init__.py`**\n",
    "\n",
    "```python\n",
    "__all__ = [\n",
    "    'mod1',\n",
    "    'mod2',\n",
    "    'mod3',\n",
    "    'mod4'\n",
    "]\n",
    "```"
   ]
  },
  {
   "cell_type": "markdown",
   "id": "b1f9a890",
   "metadata": {},
   "source": [
    "Now `from pkg import *` imports all four modules:"
   ]
  },
  {
   "cell_type": "markdown",
   "id": "21fe8f41-9d24-422d-8c8f-66e6c335cb46",
   "metadata": {},
   "source": [
    "```python\n",
    ">>> dir()\n",
    "['__annotations__', '__builtins__', '__doc__', '__loader__', '__name__',\n",
    "'__package__', '__spec__']\n",
    "\n",
    ">>> from pkg import *\n",
    ">>> dir()\n",
    "['__annotations__', '__builtins__', '__doc__', '__loader__', '__name__',\n",
    "'__package__', '__spec__', 'mod1', 'mod2', 'mod3', 'mod4']\n",
    ">>> mod2.bar()\n",
    "[mod2] bar()\n",
    ">>> mod4.Qux\n",
    "<class 'pkg.mod4.Qux'>\n",
    "```"
   ]
  },
  {
   "cell_type": "markdown",
   "id": "d9feaefc",
   "metadata": {},
   "source": [
    "Using `import *` still isn’t considered terrific form, any more for **packages** than for **modules**. But this facility at least gives the creator of the package some control over what happens when `import *` is specified. (In fact, it provides the capability to disallow it entirely, simply by declining to define `__all__` at all. As you have seen, the default behavior for packages is to import nothing.)"
   ]
  },
  {
   "cell_type": "markdown",
   "id": "efb09eaa",
   "metadata": {},
   "source": [
    "By the way, `__all__` can be defined in a **module** as well and serves the same purpose: to control what is imported with `import *`. For example, modify `mod1.py` as follows:"
   ]
  },
  {
   "cell_type": "markdown",
   "id": "aa5c0503",
   "metadata": {},
   "source": [
    "**pkg/mod1.py**\n",
    "\n",
    "```python\n",
    "__all__ = ['foo']\n",
    "\n",
    "def foo():\n",
    "    print('[mod1] foo()')\n",
    "\n",
    "class Foo:\n",
    "    pass\n",
    "```"
   ]
  },
  {
   "cell_type": "markdown",
   "id": "bbee4aa0",
   "metadata": {},
   "source": [
    "Now an `import *` statement from `pkg.mod1` will only import what is contained in `__all__`:"
   ]
  },
  {
   "cell_type": "markdown",
   "id": "e8a1b72f-0b28-45fc-8f5e-1dceffecfa7b",
   "metadata": {},
   "source": [
    "```python\n",
    ">>> dir()\n",
    "['__annotations__', '__builtins__', '__doc__', '__loader__', '__name__',\n",
    "'__package__', '__spec__']\n",
    "\n",
    ">>> from pkg.mod1 import *\n",
    ">>> dir()\n",
    "['__annotations__', '__builtins__', '__doc__', '__loader__', '__name__',\n",
    "'__package__', '__spec__', 'foo']\n",
    "\n",
    ">>> foo()\n",
    "[mod1] foo()\n",
    ">>> Foo\n",
    "Traceback (most recent call last):\n",
    "  File \"<pyshell#37>\", line 1, in <module>\n",
    "    Foo\n",
    "NameError: name 'Foo' is not defined\n",
    "```"
   ]
  },
  {
   "cell_type": "markdown",
   "id": "e65e9fd4",
   "metadata": {},
   "source": [
    "`foo()` (the function) is now defined in the local namespace, but `Foo` (the class) is not, because the latter is not in `__all__`."
   ]
  },
  {
   "cell_type": "markdown",
   "id": "c5751d66",
   "metadata": {},
   "source": [
    "In summary, `__all__` is used by both **packages** and **modules** to control what is imported when `import *` is specified. But *the default behavior differs*:"
   ]
  },
  {
   "cell_type": "markdown",
   "id": "232933a7",
   "metadata": {},
   "source": [
    "- For a package, when `__all__` is not defined, `import *` does not import anything.\n",
    "- For a module, when `__all__` is not defined, `import *` imports everything (except—you guessed it—names starting with an underscore, this is covered later in details in advanced sections).\n"
   ]
  },
  {
   "cell_type": "markdown",
   "id": "9260d39a",
   "metadata": {},
   "source": [
    "<a class=\"anchor\" id=\"subpackages\"></a>\n",
    "\n",
    "## Subpackages"
   ]
  },
  {
   "cell_type": "markdown",
   "id": "037617fd",
   "metadata": {},
   "source": [
    "Packages can contain nested **subpackages** to arbitrary depth. For example, let’s make one more modification to the example **package** directory as follows:"
   ]
  },
  {
   "cell_type": "markdown",
   "id": "a83ed9d9",
   "metadata": {},
   "source": [
    "<img src=\"images/sub_pkg.svg\" width=\"200px\">"
   ]
  },
  {
   "cell_type": "markdown",
   "id": "cb591312",
   "metadata": {},
   "source": [
    "The four modules (`mod1.py`, `mod2.py`, `mod3.py` and `mod4.py`) are defined as previously. But now, instead of being lumped together into the `pkg` directory, they are split out into two **subpackage** directories, `sub_pkg1` and `sub_pkg2`."
   ]
  },
  {
   "cell_type": "markdown",
   "id": "6f7d72b6",
   "metadata": {},
   "source": [
    "Importing still works the same as shown previously. Syntax is similar, but additional **dot notation** is used to separate **package** name from **subpackage** name:"
   ]
  },
  {
   "cell_type": "markdown",
   "id": "410de919-7ca2-4d34-a1d4-9269507f96c6",
   "metadata": {},
   "source": [
    "```python\n",
    ">>> import pkg.sub_pkg1.mod1\n",
    ">>> pkg.sub_pkg1.mod1.foo()\n",
    "[mod1] foo()\n",
    "\n",
    ">>> from pkg.sub_pkg1 import mod2\n",
    ">>> mod2.bar()\n",
    "[mod2] bar()\n",
    "\n",
    ">>> from pkg.sub_pkg2.mod3 import baz\n",
    ">>> baz()\n",
    "[mod3] baz()\n",
    "\n",
    ">>> from pkg.sub_pkg2.mod4 import qux as grault\n",
    ">>> grault()\n",
    "[mod4] qux()\n",
    "```"
   ]
  },
  {
   "cell_type": "markdown",
   "id": "f4db1936",
   "metadata": {},
   "source": [
    "In addition, a module in one **subpackage** can reference objects in a **sibling subpackage** (in the event that the sibling contains some functionality that you need). For example, suppose you want to import and execute function `foo()` (defined in module `mod1`) from within module `mod3`. You can either use an **absolute import**:"
   ]
  },
  {
   "cell_type": "markdown",
   "id": "8492820b",
   "metadata": {},
   "source": [
    "**pkg/sub__pkg2/mod3.py**\n",
    "\n",
    "```python\n",
    "def baz():\n",
    "    print('[mod3] baz()')\n",
    "\n",
    "class Baz:\n",
    "    pass\n",
    "\n",
    "from pkg.sub_pkg1.mod1 import foo\n",
    "foo()\n",
    "```"
   ]
  },
  {
   "cell_type": "markdown",
   "id": "cbd81368-e77d-4261-9f4a-d9881b842c8e",
   "metadata": {},
   "source": [
    "```python\n",
    ">>> from pkg.sub_pkg2 import mod3\n",
    "[mod1] foo()\n",
    ">>> mod3.foo()\n",
    "[mod1] foo()\n",
    "```"
   ]
  },
  {
   "cell_type": "markdown",
   "id": "49b2f297",
   "metadata": {},
   "source": [
    "Or you can use a **relative import**, where `..` refers to the package one level up. From within `mod3.py`, which is in subpackage `sub_pkg2`,"
   ]
  },
  {
   "cell_type": "markdown",
   "id": "e67a3fd4",
   "metadata": {},
   "source": [
    "- `..` evaluates to the parent package (`pkg`), and\n",
    "- `..sub_pkg1` evaluates to subpackage `sub_pkg1` of the parent package.\n"
   ]
  },
  {
   "cell_type": "markdown",
   "id": "696fb8a5",
   "metadata": {},
   "source": [
    "**pkg/sub__pkg2/mod3.py**\n",
    "\n",
    "```python\n",
    "def baz():\n",
    "    print('[mod3] baz()')\n",
    "\n",
    "class Baz:\n",
    "    pass\n",
    "\n",
    "from .. import sub_pkg1\n",
    "print(sub_pkg1)\n",
    "\n",
    "from ..sub_pkg1.mod1 import foo\n",
    "foo()\n",
    "```"
   ]
  },
  {
   "cell_type": "markdown",
   "id": "d201eb47-8d00-4a7f-84cc-9dd4953aead1",
   "metadata": {},
   "source": [
    "```python\n",
    ">>> from pkg.sub_pkg2 import mod3\n",
    "<module 'pkg.sub_pkg1' (namespace)>\n",
    "[mod1] foo()\n",
    "```"
   ]
  },
  {
   "attachments": {},
   "cell_type": "markdown",
   "id": "e2422044",
   "metadata": {},
   "source": [
    "<a class=\"anchor\" id=\"conclusion\"></a>\n",
    "\n",
    "## <img src=\"../../images/logos/checkmark.png\" width=\"20\"/> Conclusion "
   ]
  },
  {
   "cell_type": "markdown",
   "id": "bf8d4872-9ce2-4fcf-9786-e516e7eca77f",
   "metadata": {},
   "source": [
    "In this tutorial, you covered the following topics:\n",
    "\n",
    "- How to organize modules into **packages** and **subpackages**\n",
    "- How to control package initialization"
   ]
  },
  {
   "cell_type": "markdown",
   "id": "f67ea58e",
   "metadata": {},
   "source": [
    "If you are developing your own application, creating your own **modules** and **packages** will help you organize and modularize your code, which makes coding, maintenance, and debugging easier."
   ]
  },
  {
   "cell_type": "markdown",
   "id": "9a3c1e5f-1a9a-461e-81ab-51a3df2dc009",
   "metadata": {},
   "source": [
    "If you want to learn more, check out the following documentation at **Python.org**:\n",
    "\n",
    "- [The `import` system](https://docs.python.org/3/reference/import.html)\n",
    "- [The Python tutorial: Modules](https://docs.python.org/3/tutorial/modules.html)\n"
   ]
  }
 ],
 "metadata": {
  "kernelspec": {
   "display_name": "Python 3",
   "language": "python",
   "name": "python3"
  },
  "language_info": {
   "codemirror_mode": {
    "name": "ipython",
    "version": 3
   },
   "file_extension": ".py",
   "mimetype": "text/x-python",
   "name": "python",
   "nbconvert_exporter": "python",
   "pygments_lexer": "ipython3",
   "version": "3.8.11"
  }
 },
 "nbformat": 4,
 "nbformat_minor": 5
}
