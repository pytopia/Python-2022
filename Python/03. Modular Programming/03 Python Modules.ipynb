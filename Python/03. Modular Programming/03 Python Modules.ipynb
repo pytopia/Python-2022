{
 "cells": [
  {
   "cell_type": "markdown",
   "id": "0309da50",
   "metadata": {},
   "source": [
    "<img src=\"../../images/banners/python-modular.png\" width=\"600\"/>"
   ]
  },
  {
   "cell_type": "markdown",
   "id": "bf25f23e-92e2-423d-9be0-f1656ad1c7b2",
   "metadata": {},
   "source": [
    "# <img src=\"../../images/logos/python.png\" width=\"23\"/> Python Modules\n"
   ]
  },
  {
   "cell_type": "markdown",
   "id": "a633459d",
   "metadata": {},
   "source": [
    "## <img src=\"../../images/logos/toc.png\" width=\"20\"/> Table of Contents \n",
    "* [Python Modules: Overview](#python_modules:_overview)\n",
    "* [The Module Search Path](#the_module_search_path)\n",
    "* [The `import` Statement](#the_`import`_statement)\n",
    "    * [`import <module_name>`](#`import_<module_name>`)\n",
    "    * [`from <module_name> import <name(s)>`](#`from_<module_name>_import_<name(s)>`)\n",
    "    * [`from <module_name> import <name> as <alt_name>`](#`from_<module_name>_import_<name>_as_<alt_name>`)\n",
    "    * [`import <module_name> as <alt_name>`](#`import_<module_name>_as_<alt_name>`)\n",
    "* [The `dir()` Function](#the_`dir()`_function)\n",
    "* [Executing a Module as a Script](#executing_a_module_as_a_script)\n",
    "* [Reloading a Module](#reloading_a_module)\n",
    "* [Conclusion](#conclusion)\n",
    "\n",
    "---"
   ]
  },
  {
   "cell_type": "markdown",
   "id": "f36b647e",
   "metadata": {},
   "source": [
    "This section explores Python **modules** and Python **packages**, two mechanisms that facilitate **modular programming**."
   ]
  },
  {
   "cell_type": "markdown",
   "id": "f93f8e04",
   "metadata": {},
   "source": [
    "**Modular programming** refers to the process of breaking a large, unwieldy programming task into separate, smaller, more manageable subtasks or **modules**. Individual modules can then be cobbled together like building blocks to create a larger application."
   ]
  },
  {
   "cell_type": "markdown",
   "id": "8b490cc5",
   "metadata": {},
   "source": [
    "There are several advantages to **modularizing** code in a large application:\n",
    "- **Simplicity:** Rather than focusing on the entire problem at hand, a module typically focuses on one relatively small portion of the problem. If you’re working on a single module, you’ll have a smaller problem domain to wrap your head around. This makes development easier and less error-prone.\n",
    "\n",
    "- **Maintainability:** Modules are typically designed so that they enforce logical boundaries between different problem domains. If modules are written in a way that minimizes interdependency, there is decreased likelihood that modifications to a single module will have an impact on other parts of the program. (You may even be able to make changes to a module without having any knowledge of the application outside that module.) This makes it more viable for a team of many programmers to work collaboratively on a large application.\n",
    "\n",
    "- **Reusability:** Functionality defined in a single module can be easily reused (through an appropriately defined interface) by other parts of the application. This eliminates the need to duplicate code.\n",
    "\n",
    "- **Scoping:** Modules typically define a separate [**namespace**](https://realpython.com/python-namespaces-scope/), which helps avoid collisions between identifiers in different areas of a program. (One of the tenets in the [Zen of Python](https://www.python.org/dev/peps/pep-0020) is *Namespaces are one honking great idea—let’s do more of those!*)"
   ]
  },
  {
   "cell_type": "markdown",
   "id": "6565019f",
   "metadata": {},
   "source": [
    "**Functions**, **modules** and **packages** are all constructs in Python that promote code modularization."
   ]
  },
  {
   "cell_type": "markdown",
   "id": "921f8efc",
   "metadata": {},
   "source": [
    "<a class=\"anchor\" id=\"python_modules:_overview\"></a>\n",
    "\n",
    "## Python Modules: Overview"
   ]
  },
  {
   "cell_type": "markdown",
   "id": "1a95fe77",
   "metadata": {},
   "source": [
    "There are actually three different ways to define a **module** in Python:\n",
    "1. A module can be written in Python itself.\n",
    "2. A module can be written in **C** and loaded dynamically at run-time, like the `re` ([**regular expression**](https://realpython.com/regex-python/)) module.\n",
    "3. A **built-in** module is intrinsically contained in the interpreter, like the [`itertools` module](https://realpython.com/python-itertools/).\n"
   ]
  },
  {
   "cell_type": "markdown",
   "id": "cb41281c",
   "metadata": {},
   "source": [
    "A module’s contents are accessed the same way in all three cases: with the `import` statement."
   ]
  },
  {
   "cell_type": "markdown",
   "id": "aae4ca32",
   "metadata": {},
   "source": [
    "Here, the focus will mostly be on modules that are written in Python. The cool thing about modules written in Python is that they are exceedingly straightforward to build. All you need to do is create a file that contains legitimate Python code and then give the file a name with a `.py` extension. That’s it! No special syntax or voodoo is necessary."
   ]
  },
  {
   "cell_type": "markdown",
   "id": "9594aa18",
   "metadata": {},
   "source": [
    "For example, suppose you have created a file called `mod.py` containing the following:"
   ]
  },
  {
   "cell_type": "markdown",
   "id": "050468df-7135-491a-94f6-fdf3786fe028",
   "metadata": {},
   "source": [
    "> `mod.py`\n",
    "> ```python\n",
    "> s = \"If Comrade Napoleon says it, it must be right.\"\n",
    "> a = [100, 200, 300]\n",
    "> \n",
    "> def foo(arg):\n",
    ">     print(f'arg = {arg}')\n",
    "> \n",
    "> class Foo:\n",
    ">     pass\n",
    "```"
   ]
  },
  {
   "cell_type": "markdown",
   "id": "dfd4d10d",
   "metadata": {},
   "source": [
    "Several objects are defined in `mod.py`:"
   ]
  },
  {
   "cell_type": "markdown",
   "id": "0e5f2717",
   "metadata": {},
   "source": [
    "- `s` (a string)\n",
    "- `a` (a list)\n",
    "- `foo()` (a function)\n",
    "- `Foo` (a class)\n"
   ]
  },
  {
   "cell_type": "markdown",
   "id": "930f8c03",
   "metadata": {},
   "source": [
    "Assuming `mod.py` is in an appropriate location, which you will learn more about shortly, these objects can be accessed by **importing** the module as follows:"
   ]
  },
  {
   "cell_type": "code",
   "execution_count": 1,
   "id": "e3f59f35-162c-4998-94ff-10ef9052eeb9",
   "metadata": {},
   "outputs": [
    {
     "name": "stdout",
     "output_type": "stream",
     "text": [
      "If Comrade Napoleon says it, it must be right.\n"
     ]
    }
   ],
   "source": [
    "import mod\n",
    "print(mod.s)"
   ]
  },
  {
   "cell_type": "code",
   "execution_count": 2,
   "id": "4b999abc-8dec-414c-8a5d-22e3adf6417c",
   "metadata": {},
   "outputs": [
    {
     "data": {
      "text/plain": [
       "[100, 200, 300]"
      ]
     },
     "execution_count": 2,
     "metadata": {},
     "output_type": "execute_result"
    }
   ],
   "source": [
    "mod.a"
   ]
  },
  {
   "cell_type": "code",
   "execution_count": 3,
   "id": "2fc1ded9-243a-4c99-a5dc-34af61bc9654",
   "metadata": {},
   "outputs": [
    {
     "name": "stdout",
     "output_type": "stream",
     "text": [
      "arg = ['quux', 'corge', 'grault']\n"
     ]
    }
   ],
   "source": [
    "mod.foo(['quux', 'corge', 'grault'])"
   ]
  },
  {
   "cell_type": "code",
   "execution_count": 4,
   "id": "074dcef3-e259-4775-9f5f-9185d93efe33",
   "metadata": {},
   "outputs": [
    {
     "data": {
      "text/plain": [
       "<mod.Foo at 0x7fc3302653d0>"
      ]
     },
     "execution_count": 4,
     "metadata": {},
     "output_type": "execute_result"
    }
   ],
   "source": [
    "x = mod.Foo()\n",
    "x"
   ]
  },
  {
   "cell_type": "markdown",
   "id": "924bab38-1770-4bdf-b9b2-258610f07f2f",
   "metadata": {},
   "source": [
    "Similarly, you can import `re` module and access it's attributes and methods:"
   ]
  },
  {
   "cell_type": "code",
   "execution_count": 5,
   "id": "6f3f8ea1-24b8-4b8e-9e1f-b8232c8d8966",
   "metadata": {},
   "outputs": [
    {
     "data": {
      "text/plain": [
       "['A', 'ASCII', 'DEBUG', 'DOTALL', 'I']"
      ]
     },
     "execution_count": 5,
     "metadata": {},
     "output_type": "execute_result"
    }
   ],
   "source": [
    "import re\n",
    "dir(re)[:5]"
   ]
  },
  {
   "cell_type": "markdown",
   "id": "9d27b9a1",
   "metadata": {},
   "source": [
    "<a class=\"anchor\" id=\"the_module_search_path\"></a>\n",
    "\n",
    "## The Module Search Path"
   ]
  },
  {
   "cell_type": "markdown",
   "id": "f796f63d-0456-4d70-82b1-f668087c0219",
   "metadata": {},
   "source": [
    "Continuing with the above example, let’s take a look at what happens when Python executes the statement:\n",
    "\n",
    "> ```python\n",
    "> import mod\n",
    "> ```"
   ]
  },
  {
   "cell_type": "markdown",
   "id": "e4bb5ef7",
   "metadata": {},
   "source": [
    "When the interpreter executes the above `import` statement, it searches for `mod.py` in a list of directories assembled from the following sources:"
   ]
  },
  {
   "cell_type": "markdown",
   "id": "98c64915",
   "metadata": {},
   "source": [
    "- The directory from which the input script was run or the **current directory** if the interpreter is being run interactively\n",
    "- The list of directories contained in the [`PYTHONPATH`](https://docs.python.org/3/using/cmdline.html#envvar-PYTHONPATH) environment variable, if it is set. (The format for `PYTHONPATH` is OS-dependent but should mimic the [`PATH`](https://realpython.com/add-python-to-path/) environment variable.)\n",
    "- An installation-dependent list of directories configured at the time Python is installed\n"
   ]
  },
  {
   "cell_type": "markdown",
   "id": "507c4723",
   "metadata": {},
   "source": [
    "The resulting search path is accessible in the Python variable `sys.path`, which is obtained from a module named `sys`:"
   ]
  },
  {
   "cell_type": "code",
   "execution_count": 6,
   "id": "8e18a16f",
   "metadata": {},
   "outputs": [
    {
     "data": {
      "text/plain": [
       "['/Users/ali/PERSONAL_DIR/github/pytopia/content/Python/Python/03. Modular Programming',\n",
       " '/Users/ali/opt/anaconda3/envs/py38/lib/python38.zip',\n",
       " '/Users/ali/opt/anaconda3/envs/py38/lib/python3.8',\n",
       " '/Users/ali/opt/anaconda3/envs/py38/lib/python3.8/lib-dynload',\n",
       " '',\n",
       " '/Users/ali/opt/anaconda3/envs/py38/lib/python3.8/site-packages',\n",
       " '/Users/ali/opt/anaconda3/envs/py38/lib/python3.8/site-packages/IPython/extensions',\n",
       " '/Users/ali/.ipython']"
      ]
     },
     "execution_count": 6,
     "metadata": {},
     "output_type": "execute_result"
    }
   ],
   "source": [
    "import sys\n",
    "sys.path"
   ]
  },
  {
   "cell_type": "markdown",
   "id": "cdb7a8fc-7eb3-4995-9b45-53ac9a54c273",
   "metadata": {},
   "source": [
    "Thus, to ensure your module is found, you need to do one of the following:\n",
    "\n",
    "- Put `mod.py` in the directory where the input script is located or the **current directory**, if interactive\n",
    "- Modify the `PYTHONPATH` environment variable to contain the directory where `mod.py` is located before starting the interpreter* **Or:** Put `mod.py` in one of the directories already contained in the `PYTHONPATH` variable\n",
    "\n",
    "\n",
    "\n",
    "- Put `mod.py` in one of the installation-dependent directories, which you may or may not have write-access to, depending on the OS\n"
   ]
  },
  {
   "cell_type": "markdown",
   "id": "76e8dc3f",
   "metadata": {},
   "source": [
    "There is actually one additional option: you can put the module file in any directory of your choice and then modify `sys.path` at run-time so that it contains that directory. For example, in this case, you could put `mod.py` in directory `/Users/ali` and then issue the following statements:"
   ]
  },
  {
   "cell_type": "code",
   "execution_count": 7,
   "id": "4cb9a867-88fa-4519-a23b-d8f9a5dd9ae1",
   "metadata": {},
   "outputs": [
    {
     "data": {
      "text/plain": [
       "['/Users/ali/PERSONAL_DIR/github/pytopia/content/Python/Python/03. Modular Programming',\n",
       " '/Users/ali/opt/anaconda3/envs/py38/lib/python38.zip',\n",
       " '/Users/ali/opt/anaconda3/envs/py38/lib/python3.8',\n",
       " '/Users/ali/opt/anaconda3/envs/py38/lib/python3.8/lib-dynload',\n",
       " '',\n",
       " '/Users/ali/opt/anaconda3/envs/py38/lib/python3.8/site-packages',\n",
       " '/Users/ali/opt/anaconda3/envs/py38/lib/python3.8/site-packages/IPython/extensions',\n",
       " '/Users/ali/.ipython',\n",
       " '/Users/ali']"
      ]
     },
     "execution_count": 7,
     "metadata": {},
     "output_type": "execute_result"
    }
   ],
   "source": [
    "sys.path.append(r'/Users/ali')\n",
    "sys.path"
   ]
  },
  {
   "cell_type": "markdown",
   "id": "0e1f25f3-11d0-4b52-9a75-0a4192e1e48b",
   "metadata": {},
   "source": [
    "Once a module has been imported, you can determine the location where it was found with the module’s `__file__` attribute:"
   ]
  },
  {
   "cell_type": "code",
   "execution_count": 8,
   "id": "12ac3219-1049-4759-9b9a-75af4e44283e",
   "metadata": {},
   "outputs": [
    {
     "data": {
      "text/plain": [
       "'/Users/ali/PERSONAL_DIR/github/pytopia/content/Python/Python/03. Modular Programming/mod.py'"
      ]
     },
     "execution_count": 8,
     "metadata": {},
     "output_type": "execute_result"
    }
   ],
   "source": [
    "import mod\n",
    "mod.__file__"
   ]
  },
  {
   "cell_type": "code",
   "execution_count": 9,
   "id": "0bfd8b3c-5ab4-4fa7-893f-efcd986380f8",
   "metadata": {},
   "outputs": [
    {
     "data": {
      "text/plain": [
       "'/Users/ali/opt/anaconda3/envs/py38/lib/python3.8/re.py'"
      ]
     },
     "execution_count": 9,
     "metadata": {},
     "output_type": "execute_result"
    }
   ],
   "source": [
    "import re\n",
    "re.__file__"
   ]
  },
  {
   "cell_type": "markdown",
   "id": "3e5e150c",
   "metadata": {},
   "source": [
    "The directory portion of `__file__` should be one of the directories in `sys.path`."
   ]
  },
  {
   "cell_type": "markdown",
   "id": "dc7f0eec",
   "metadata": {},
   "source": [
    "<a class=\"anchor\" id=\"the_`import`_statement\"></a>\n",
    "\n",
    "## The `import` Statement"
   ]
  },
  {
   "cell_type": "markdown",
   "id": "68a9070e",
   "metadata": {},
   "source": [
    "**Module** contents are made available to the caller with the `import` statement. The `import` statement takes many different forms, shown below."
   ]
  },
  {
   "cell_type": "markdown",
   "id": "18775b1d",
   "metadata": {},
   "source": [
    "<a class=\"anchor\" id=\"`import_<module_name>`\"></a>\n",
    "\n",
    "### `import <module_name>`"
   ]
  },
  {
   "cell_type": "markdown",
   "id": "556c1ba7-5dd0-4e90-8de7-06bc64bb022a",
   "metadata": {},
   "source": [
    "The simplest form is the one already shown above:\n",
    "\n",
    "```python\n",
    "import <module_name>\n",
    "```"
   ]
  },
  {
   "cell_type": "markdown",
   "id": "f6c4a04e",
   "metadata": {},
   "source": [
    "Note that this *does not* make the module contents *directly* accessible to the caller. Each module has its own **private symbol table**, which serves as the global symbol table for all objects defined *in the module*. Thus, a module creates a separate **namespace**, as already noted."
   ]
  },
  {
   "cell_type": "markdown",
   "id": "761f3ddd-2ad2-4639-a4df-011c35eea500",
   "metadata": {},
   "source": [
    "> A **symbol table** is a data structure maintained and constructed by the Python compiler that contains all of the essential information about each identifier found in the source code of the program. This data pertains to an identifier's type, value, scope level, and its position (also called symbol)."
   ]
  },
  {
   "cell_type": "markdown",
   "id": "a8ebb0ec",
   "metadata": {},
   "source": [
    "The statement `import <module_name>` only places `<module_name>` in the caller’s symbol table. The *objects* that are defined in the module *remain in the module’s private symbol table*."
   ]
  },
  {
   "cell_type": "markdown",
   "id": "887ead6d",
   "metadata": {},
   "source": [
    "From the caller, objects in the module are only accessible when prefixed with `<module_name>` via **dot notation**, as illustrated below."
   ]
  },
  {
   "cell_type": "markdown",
   "id": "f5b67fb0-bd36-449d-abc1-de61f0074fe9",
   "metadata": {},
   "source": [
    "After the following `import` statement, `mod` is placed into the local symbol table. Thus, `mod` has meaning in the caller’s local context:"
   ]
  },
  {
   "cell_type": "code",
   "execution_count": 10,
   "id": "f75aa11b-5f04-4a24-a9d4-754a19815fe2",
   "metadata": {},
   "outputs": [],
   "source": [
    "import mod"
   ]
  },
  {
   "cell_type": "markdown",
   "id": "0791482e-1792-4912-b40e-c1666aa84ee3",
   "metadata": {},
   "source": [
    "But `s` and `foo` remain in the module’s private symbol table and are not meaningful in the local context:"
   ]
  },
  {
   "cell_type": "code",
   "execution_count": 11,
   "id": "c4d3466e-d97b-4a31-8185-4fd1d62e6650",
   "metadata": {},
   "outputs": [
    {
     "ename": "NameError",
     "evalue": "name 's' is not defined",
     "output_type": "error",
     "traceback": [
      "\u001b[0;31m---------------------------------------------------------------------------\u001b[0m",
      "\u001b[0;31mNameError\u001b[0m                                 Traceback (most recent call last)",
      "\u001b[0;32m<ipython-input-11-ded5ba42480f>\u001b[0m in \u001b[0;36m<module>\u001b[0;34m\u001b[0m\n\u001b[0;32m----> 1\u001b[0;31m \u001b[0ms\u001b[0m\u001b[0;34m\u001b[0m\u001b[0;34m\u001b[0m\u001b[0m\n\u001b[0m",
      "\u001b[0;31mNameError\u001b[0m: name 's' is not defined"
     ]
    }
   ],
   "source": [
    "s"
   ]
  },
  {
   "cell_type": "code",
   "execution_count": 12,
   "id": "238fb1e1-f835-4051-8196-91b53775a53b",
   "metadata": {},
   "outputs": [
    {
     "ename": "NameError",
     "evalue": "name 'foo' is not defined",
     "output_type": "error",
     "traceback": [
      "\u001b[0;31m---------------------------------------------------------------------------\u001b[0m",
      "\u001b[0;31mNameError\u001b[0m                                 Traceback (most recent call last)",
      "\u001b[0;32m<ipython-input-12-9146dbce68a0>\u001b[0m in \u001b[0;36m<module>\u001b[0;34m\u001b[0m\n\u001b[0;32m----> 1\u001b[0;31m \u001b[0mfoo\u001b[0m\u001b[0;34m(\u001b[0m\u001b[0;34m'quux'\u001b[0m\u001b[0;34m)\u001b[0m\u001b[0;34m\u001b[0m\u001b[0;34m\u001b[0m\u001b[0m\n\u001b[0m",
      "\u001b[0;31mNameError\u001b[0m: name 'foo' is not defined"
     ]
    }
   ],
   "source": [
    "foo('quux')"
   ]
  },
  {
   "cell_type": "markdown",
   "id": "ba1a8a59-8257-4172-b05c-f4151622abc4",
   "metadata": {},
   "source": [
    "To be accessed in the local context, names of objects defined in the module must be prefixed by `mod`:"
   ]
  },
  {
   "cell_type": "code",
   "execution_count": 13,
   "id": "d34d91e6-654a-461e-886c-b98074d84fb1",
   "metadata": {},
   "outputs": [
    {
     "data": {
      "text/plain": [
       "'If Comrade Napoleon says it, it must be right.'"
      ]
     },
     "execution_count": 13,
     "metadata": {},
     "output_type": "execute_result"
    }
   ],
   "source": [
    "mod.s"
   ]
  },
  {
   "cell_type": "code",
   "execution_count": 14,
   "id": "97541175-eb8f-4105-b1e0-55d2747e0cb2",
   "metadata": {},
   "outputs": [
    {
     "name": "stdout",
     "output_type": "stream",
     "text": [
      "arg = quux\n"
     ]
    }
   ],
   "source": [
    "mod.foo('quux')"
   ]
  },
  {
   "cell_type": "markdown",
   "id": "a51addd8",
   "metadata": {},
   "source": [
    "Several comma-separated modules may be specified in a single `import` statement:\n",
    "\n",
    "```python\n",
    "import <module_name>[, <module_name> ...]\n",
    "```"
   ]
  },
  {
   "cell_type": "code",
   "execution_count": 15,
   "id": "34d01735-ce26-46dd-b704-1afd1289f0aa",
   "metadata": {},
   "outputs": [],
   "source": [
    "import re, math, json"
   ]
  },
  {
   "cell_type": "markdown",
   "id": "d01a976f",
   "metadata": {},
   "source": [
    "<a class=\"anchor\" id=\"`from_<module_name>_import_<name(s)>`\"></a>\n",
    "\n",
    "### `from <module_name> import <name(s)>`"
   ]
  },
  {
   "cell_type": "markdown",
   "id": "54591154",
   "metadata": {},
   "source": [
    "An alternate form of the `import` statement allows individual objects from the module to be imported *directly into the caller’s symbol table*:\n",
    "\n",
    "```python\n",
    "from <module_name> import <name(s)>\n",
    "```"
   ]
  },
  {
   "cell_type": "markdown",
   "id": "96c999d0-4339-40bb-b9ff-c3ec8888e988",
   "metadata": {},
   "source": [
    "Following execution of the above statement, `<name(s)>` can be referenced in the caller’s environment without the `<module_name>` prefix:"
   ]
  },
  {
   "cell_type": "code",
   "execution_count": 16,
   "id": "9a9fc416-1be1-48c8-8a6c-8fe1bc30cb77",
   "metadata": {},
   "outputs": [],
   "source": [
    "from mod import s, foo"
   ]
  },
  {
   "cell_type": "code",
   "execution_count": 17,
   "id": "810eb9a0-7a9a-429b-bdc4-6a245cbe0593",
   "metadata": {},
   "outputs": [
    {
     "data": {
      "text/plain": [
       "'If Comrade Napoleon says it, it must be right.'"
      ]
     },
     "execution_count": 17,
     "metadata": {},
     "output_type": "execute_result"
    }
   ],
   "source": [
    "s"
   ]
  },
  {
   "cell_type": "code",
   "execution_count": 18,
   "id": "a0b07933-3477-47be-b332-fb692b22fa85",
   "metadata": {},
   "outputs": [
    {
     "name": "stdout",
     "output_type": "stream",
     "text": [
      "arg = quux\n"
     ]
    }
   ],
   "source": [
    "foo('quux')"
   ]
  },
  {
   "cell_type": "code",
   "execution_count": 19,
   "id": "4d9bb965-1e57-4085-9eb4-86303caaaaa6",
   "metadata": {},
   "outputs": [
    {
     "data": {
      "text/plain": [
       "<mod.Foo at 0x7fc3603233a0>"
      ]
     },
     "execution_count": 19,
     "metadata": {},
     "output_type": "execute_result"
    }
   ],
   "source": [
    "from mod import Foo\n",
    "x = Foo()\n",
    "x"
   ]
  },
  {
   "cell_type": "markdown",
   "id": "14032901-2a2c-43ce-bf17-27e4f8a1d1fb",
   "metadata": {},
   "source": [
    "Because this form of `import` places the object names directly into the caller’s symbol table, any objects that already exist with the same name will be *overwritten*:"
   ]
  },
  {
   "cell_type": "code",
   "execution_count": 20,
   "id": "9e331e71-2b98-4488-a956-b7fd7e18481f",
   "metadata": {},
   "outputs": [
    {
     "data": {
      "text/plain": [
       "['foo', 'bar', 'baz']"
      ]
     },
     "execution_count": 20,
     "metadata": {},
     "output_type": "execute_result"
    }
   ],
   "source": [
    "a = ['foo', 'bar', 'baz']\n",
    "a"
   ]
  },
  {
   "cell_type": "code",
   "execution_count": 21,
   "id": "56853ba6-84b8-4504-ad11-f03cde48b23a",
   "metadata": {},
   "outputs": [
    {
     "data": {
      "text/plain": [
       "[100, 200, 300]"
      ]
     },
     "execution_count": 21,
     "metadata": {},
     "output_type": "execute_result"
    }
   ],
   "source": [
    "from mod import a\n",
    "a"
   ]
  },
  {
   "cell_type": "markdown",
   "id": "7ca2aa26",
   "metadata": {},
   "source": [
    "It is even possible to indiscriminately `import` everything from a module at one fell swoop:"
   ]
  },
  {
   "cell_type": "code",
   "execution_count": 22,
   "id": "1d798cf6",
   "metadata": {},
   "outputs": [
    {
     "ename": "SyntaxError",
     "evalue": "invalid syntax (<ipython-input-22-74b4e3baffe6>, line 1)",
     "output_type": "error",
     "traceback": [
      "\u001b[0;36m  File \u001b[0;32m\"<ipython-input-22-74b4e3baffe6>\"\u001b[0;36m, line \u001b[0;32m1\u001b[0m\n\u001b[0;31m    from <module_name> import *\u001b[0m\n\u001b[0m         ^\u001b[0m\n\u001b[0;31mSyntaxError\u001b[0m\u001b[0;31m:\u001b[0m invalid syntax\n"
     ]
    }
   ],
   "source": [
    "from <module_name> import *"
   ]
  },
  {
   "cell_type": "markdown",
   "id": "cd459b7c",
   "metadata": {},
   "source": [
    "This will place the names of *all* objects from `<module_name>` into the local symbol table, with the exception of any that begin with the underscore (`_`) character."
   ]
  },
  {
   "cell_type": "markdown",
   "id": "9e4935be",
   "metadata": {},
   "source": [
    "For example:"
   ]
  },
  {
   "cell_type": "code",
   "execution_count": 23,
   "id": "846d13bf-24c9-42bc-8b55-27b51d6c542d",
   "metadata": {},
   "outputs": [
    {
     "data": {
      "text/plain": [
       "'If Comrade Napoleon says it, it must be right.'"
      ]
     },
     "execution_count": 23,
     "metadata": {},
     "output_type": "execute_result"
    }
   ],
   "source": [
    "from mod import *\n",
    "s"
   ]
  },
  {
   "cell_type": "code",
   "execution_count": 24,
   "id": "3211014a-7309-4cf1-bb86-fe9d884d1292",
   "metadata": {},
   "outputs": [
    {
     "data": {
      "text/plain": [
       "[100, 200, 300]"
      ]
     },
     "execution_count": 24,
     "metadata": {},
     "output_type": "execute_result"
    }
   ],
   "source": [
    "a"
   ]
  },
  {
   "cell_type": "code",
   "execution_count": 25,
   "id": "0b317325-64a7-4419-8d8a-f26a17b1dcee",
   "metadata": {},
   "outputs": [
    {
     "data": {
      "text/plain": [
       "<function mod.foo(arg)>"
      ]
     },
     "execution_count": 25,
     "metadata": {},
     "output_type": "execute_result"
    }
   ],
   "source": [
    "foo"
   ]
  },
  {
   "cell_type": "code",
   "execution_count": 26,
   "id": "0dfc9048-67d3-4116-8d4a-0a0f0cb6bddf",
   "metadata": {},
   "outputs": [
    {
     "data": {
      "text/plain": [
       "mod.Foo"
      ]
     },
     "execution_count": 26,
     "metadata": {},
     "output_type": "execute_result"
    }
   ],
   "source": [
    "Foo"
   ]
  },
  {
   "cell_type": "markdown",
   "id": "0a4ed884",
   "metadata": {},
   "source": [
    "> **Note:** **This isn’t recommended.** It’s a bit dangerous because you are entering names into the local symbol table *en masse*. Unless you know them all well and can be confident there won’t be a conflict, you have a decent chance of overwriting an existing name inadvertently. However, this syntax is quite handy when you are just mucking around with the interactive interpreter, for testing or discovery purposes, because it quickly gives you access to everything a module has to offer without a lot of typing."
   ]
  },
  {
   "cell_type": "markdown",
   "id": "06c764a7",
   "metadata": {},
   "source": [
    "<a class=\"anchor\" id=\"`from_<module_name>_import_<name>_as_<alt_name>`\"></a>\n",
    "\n",
    "### `from <module_name> import <name> as <alt_name>`"
   ]
  },
  {
   "cell_type": "markdown",
   "id": "ea1ca417",
   "metadata": {},
   "source": [
    "It is also possible to `import` individual objects but enter them into the local symbol table with alternate names:\n",
    "\n",
    "```python\n",
    "from <module_name> import <name> as <alt_name>[, <name> as <alt_name> …]\n",
    "```"
   ]
  },
  {
   "cell_type": "markdown",
   "id": "0373b101",
   "metadata": {},
   "source": [
    "This makes it possible to place names directly into the local symbol table but avoid conflicts with previously existing names:"
   ]
  },
  {
   "cell_type": "code",
   "execution_count": 27,
   "id": "567e0424-9ed8-431c-aad0-719c778e6761",
   "metadata": {},
   "outputs": [],
   "source": [
    "s = 'foo'\n",
    "a = ['foo', 'bar', 'baz']"
   ]
  },
  {
   "cell_type": "code",
   "execution_count": 28,
   "id": "5a14146c-16e3-492e-9af5-b80a750efb15",
   "metadata": {},
   "outputs": [],
   "source": [
    "from mod import s as string, a as alist"
   ]
  },
  {
   "cell_type": "code",
   "execution_count": 29,
   "id": "0be33fc1-b68f-4585-b214-7669a40b69c7",
   "metadata": {},
   "outputs": [
    {
     "data": {
      "text/plain": [
       "'foo'"
      ]
     },
     "execution_count": 29,
     "metadata": {},
     "output_type": "execute_result"
    }
   ],
   "source": [
    "s"
   ]
  },
  {
   "cell_type": "code",
   "execution_count": 30,
   "id": "b72eb8e5-aa36-44f1-92cf-8570f7b732ca",
   "metadata": {},
   "outputs": [
    {
     "data": {
      "text/plain": [
       "'If Comrade Napoleon says it, it must be right.'"
      ]
     },
     "execution_count": 30,
     "metadata": {},
     "output_type": "execute_result"
    }
   ],
   "source": [
    "string"
   ]
  },
  {
   "cell_type": "code",
   "execution_count": 31,
   "id": "10851729-d23e-4dbb-ad7d-13869123b3e6",
   "metadata": {},
   "outputs": [
    {
     "data": {
      "text/plain": [
       "['foo', 'bar', 'baz']"
      ]
     },
     "execution_count": 31,
     "metadata": {},
     "output_type": "execute_result"
    }
   ],
   "source": [
    "a"
   ]
  },
  {
   "cell_type": "code",
   "execution_count": 32,
   "id": "15afef34-fe3e-4cd1-a215-894bca0054a6",
   "metadata": {},
   "outputs": [
    {
     "data": {
      "text/plain": [
       "[100, 200, 300]"
      ]
     },
     "execution_count": 32,
     "metadata": {},
     "output_type": "execute_result"
    }
   ],
   "source": [
    "alist"
   ]
  },
  {
   "cell_type": "markdown",
   "id": "0b459243",
   "metadata": {},
   "source": [
    "<a class=\"anchor\" id=\"`import_<module_name>_as_<alt_name>`\"></a>\n",
    "\n",
    "### `import <module_name> as <alt_name>`"
   ]
  },
  {
   "cell_type": "markdown",
   "id": "64ba2d0f",
   "metadata": {},
   "source": [
    "You can also import an entire module under an alternate name:\n",
    "\n",
    "```python\n",
    "import <module_name> as <alt_name>\n",
    "```"
   ]
  },
  {
   "cell_type": "code",
   "execution_count": 33,
   "id": "6aa7a2ef-1a0d-415d-9861-9649ac5852c6",
   "metadata": {},
   "outputs": [
    {
     "data": {
      "text/plain": [
       "[100, 200, 300]"
      ]
     },
     "execution_count": 33,
     "metadata": {},
     "output_type": "execute_result"
    }
   ],
   "source": [
    "import mod as my_module\n",
    "my_module.a"
   ]
  },
  {
   "cell_type": "code",
   "execution_count": 34,
   "id": "d63c8a13-5bdb-4afa-845b-7e05f52d0c9d",
   "metadata": {},
   "outputs": [
    {
     "name": "stdout",
     "output_type": "stream",
     "text": [
      "arg = qux\n"
     ]
    }
   ],
   "source": [
    "my_module.foo('qux')"
   ]
  },
  {
   "cell_type": "markdown",
   "id": "f8b4cd7e",
   "metadata": {},
   "source": [
    "Module contents can be imported from within a [function definition](https://realpython.com/defining-your-own-python-function/). In that case, the `import` does not occur until the function is *called*:"
   ]
  },
  {
   "cell_type": "code",
   "execution_count": 35,
   "id": "ddf6c651-ee80-43c1-892c-4c9f3a7f12aa",
   "metadata": {},
   "outputs": [],
   "source": [
    "def bar():\n",
    "    from mod import foo\n",
    "    foo('corge')"
   ]
  },
  {
   "cell_type": "code",
   "execution_count": 36,
   "id": "b4759187-ddb8-411a-8099-8cf82956e808",
   "metadata": {},
   "outputs": [
    {
     "name": "stdout",
     "output_type": "stream",
     "text": [
      "arg = corge\n"
     ]
    }
   ],
   "source": [
    "bar()"
   ]
  },
  {
   "cell_type": "markdown",
   "id": "d232c724",
   "metadata": {},
   "source": [
    "However, **Python 3** does not allow the indiscriminate `import *` syntax from within a function:"
   ]
  },
  {
   "cell_type": "code",
   "execution_count": 37,
   "id": "a1d04b53",
   "metadata": {},
   "outputs": [
    {
     "ename": "SyntaxError",
     "evalue": "import * only allowed at module level (<ipython-input-37-86f331738b46>, line 1)",
     "output_type": "error",
     "traceback": [
      "\u001b[0;36m  File \u001b[0;32m\"<ipython-input-37-86f331738b46>\"\u001b[0;36m, line \u001b[0;32m1\u001b[0m\n\u001b[0;31m    def bar():\u001b[0m\n\u001b[0m    ^\u001b[0m\n\u001b[0;31mSyntaxError\u001b[0m\u001b[0;31m:\u001b[0m import * only allowed at module level\n"
     ]
    }
   ],
   "source": [
    "def bar():\n",
    "    from mod import *"
   ]
  },
  {
   "cell_type": "markdown",
   "id": "7f6b7071",
   "metadata": {},
   "source": [
    "Lastly, a [`try` statement with an `except ImportError`](https://realpython.com/python-exceptions/) clause can be used to guard against unsuccessful `import` attempts:"
   ]
  },
  {
   "cell_type": "code",
   "execution_count": 38,
   "id": "1bc5b722",
   "metadata": {},
   "outputs": [
    {
     "name": "stdout",
     "output_type": "stream",
     "text": [
      "Module not found\n"
     ]
    }
   ],
   "source": [
    "try:\n",
    "    # Non-existent module\n",
    "    import baz\n",
    "except ImportError:\n",
    "    print('Module not found')"
   ]
  },
  {
   "cell_type": "code",
   "execution_count": 39,
   "id": "db7f94ec",
   "metadata": {},
   "outputs": [
    {
     "name": "stdout",
     "output_type": "stream",
     "text": [
      "Object not found in module\n"
     ]
    }
   ],
   "source": [
    "try:\n",
    "    # Existing module, but non-existent object\n",
    "    from mod import baz\n",
    "except ImportError:\n",
    "    print('Object not found in module')"
   ]
  },
  {
   "cell_type": "markdown",
   "id": "de8b8cf4",
   "metadata": {},
   "source": [
    "<a class=\"anchor\" id=\"the_`dir()`_function\"></a>\n",
    "\n",
    "## The `dir()` Function"
   ]
  },
  {
   "cell_type": "markdown",
   "id": "97ec4af4",
   "metadata": {},
   "source": [
    "The built-in function `dir()` returns a list of defined names in a namespace. Without arguments, it produces an alphabetically sorted list of names in the current **local symbol table**:"
   ]
  },
  {
   "cell_type": "code",
   "execution_count": 40,
   "id": "432ca785-8b76-471e-a2da-279c1d3966b0",
   "metadata": {},
   "outputs": [
    {
     "data": {
      "text/plain": [
       "['Foo', 'In', 'Out', '_', '_13', '_17', '_19', '_2', '_20', '_21']"
      ]
     },
     "execution_count": 40,
     "metadata": {},
     "output_type": "execute_result"
    }
   ],
   "source": [
    "# taking the top 10 as dir() output is too long\n",
    "dir()[:10]"
   ]
  },
  {
   "cell_type": "code",
   "execution_count": 41,
   "id": "25a7c4d2-3b1d-469c-92e6-e2490c7c8a56",
   "metadata": {},
   "outputs": [
    {
     "data": {
      "text/plain": [
       "False"
      ]
     },
     "execution_count": 41,
     "metadata": {},
     "output_type": "execute_result"
    }
   ],
   "source": [
    "'qux' in dir()"
   ]
  },
  {
   "cell_type": "code",
   "execution_count": 42,
   "id": "18e4f74e-584a-462f-b2eb-80bad0a441ab",
   "metadata": {},
   "outputs": [
    {
     "data": {
      "text/plain": [
       "True"
      ]
     },
     "execution_count": 42,
     "metadata": {},
     "output_type": "execute_result"
    }
   ],
   "source": [
    "qux = [1, 2, 3, 4, 5]\n",
    "'qux' in dir()"
   ]
  },
  {
   "cell_type": "code",
   "execution_count": 43,
   "id": "e4756780-3b6d-409d-a642-87c8a5778d81",
   "metadata": {},
   "outputs": [],
   "source": [
    "class Bar():\n",
    "    pass"
   ]
  },
  {
   "cell_type": "code",
   "execution_count": 44,
   "id": "deff28ff-5b62-4831-8581-f4b3680c7b53",
   "metadata": {},
   "outputs": [
    {
     "data": {
      "text/plain": [
       "(True, True)"
      ]
     },
     "execution_count": 44,
     "metadata": {},
     "output_type": "execute_result"
    }
   ],
   "source": [
    "x = Bar()\n",
    "'Bar' in dir(), 'x' in dir()"
   ]
  },
  {
   "cell_type": "markdown",
   "id": "889ce3a4",
   "metadata": {},
   "source": [
    "Note how the first call to `dir()` above lists several names that are automatically defined and already in the namespace when the interpreter starts. As new names are defined (`qux`, `Bar`, `x`), they appear on subsequent invocations of `dir()`."
   ]
  },
  {
   "cell_type": "markdown",
   "id": "b5e2147f",
   "metadata": {},
   "source": [
    "This can be useful for identifying what exactly has been added to the namespace by an import statement:"
   ]
  },
  {
   "cell_type": "code",
   "execution_count": 45,
   "id": "0ca02bc6-e498-4a3a-9aac-4c2886f5dafa",
   "metadata": {},
   "outputs": [
    {
     "data": {
      "text/plain": [
       "['Bar', 'Foo', 'In', 'Out', '_', '_13', '_17', '_19', '_2', '_20']"
      ]
     },
     "execution_count": 45,
     "metadata": {},
     "output_type": "execute_result"
    }
   ],
   "source": [
    "dir()[:10]"
   ]
  },
  {
   "cell_type": "code",
   "execution_count": 46,
   "id": "00f58ea9-449c-4a1e-a015-773ee50d217f",
   "metadata": {},
   "outputs": [
    {
     "data": {
      "text/plain": [
       "True"
      ]
     },
     "execution_count": 46,
     "metadata": {},
     "output_type": "execute_result"
    }
   ],
   "source": [
    "import mod\n",
    "'mod' in dir()"
   ]
  },
  {
   "cell_type": "code",
   "execution_count": 47,
   "id": "2f9552e5-d0a5-42f1-b3b8-754d7667b1a1",
   "metadata": {},
   "outputs": [
    {
     "data": {
      "text/plain": [
       "'If Comrade Napoleon says it, it must be right.'"
      ]
     },
     "execution_count": 47,
     "metadata": {},
     "output_type": "execute_result"
    }
   ],
   "source": [
    "mod.s"
   ]
  },
  {
   "cell_type": "code",
   "execution_count": 48,
   "id": "7ffd10c6-fb11-4b5d-b00d-ce5f9b14047a",
   "metadata": {},
   "outputs": [
    {
     "name": "stdout",
     "output_type": "stream",
     "text": [
      "arg = [1, 2, 3]\n"
     ]
    }
   ],
   "source": [
    "mod.foo([1, 2, 3])"
   ]
  },
  {
   "cell_type": "code",
   "execution_count": 49,
   "id": "01157e68-f162-4e7c-b2bb-3dabe931204c",
   "metadata": {},
   "outputs": [
    {
     "data": {
      "text/plain": [
       "(True, True)"
      ]
     },
     "execution_count": 49,
     "metadata": {},
     "output_type": "execute_result"
    }
   ],
   "source": [
    "from mod import a, Foo\n",
    "'a' in dir(), 'Foo' in dir()"
   ]
  },
  {
   "cell_type": "code",
   "execution_count": 50,
   "id": "961c116b-824a-4a6c-aee9-469778dc31a4",
   "metadata": {},
   "outputs": [
    {
     "data": {
      "text/plain": [
       "[100, 200, 300]"
      ]
     },
     "execution_count": 50,
     "metadata": {},
     "output_type": "execute_result"
    }
   ],
   "source": [
    "a"
   ]
  },
  {
   "cell_type": "code",
   "execution_count": 51,
   "id": "c1d11d1b-77c0-4c7d-89f6-facbcaac34cc",
   "metadata": {},
   "outputs": [
    {
     "data": {
      "text/plain": [
       "<mod.Foo at 0x7fc330242580>"
      ]
     },
     "execution_count": 51,
     "metadata": {},
     "output_type": "execute_result"
    }
   ],
   "source": [
    "x = Foo()\n",
    "x"
   ]
  },
  {
   "cell_type": "code",
   "execution_count": 52,
   "id": "adcaaaa3-b895-4a29-b062-cbf1972cc414",
   "metadata": {},
   "outputs": [
    {
     "data": {
      "text/plain": [
       "True"
      ]
     },
     "execution_count": 52,
     "metadata": {},
     "output_type": "execute_result"
    }
   ],
   "source": [
    "from mod import s as string\n",
    "'string' in dir()"
   ]
  },
  {
   "cell_type": "code",
   "execution_count": 53,
   "id": "a5ea5fa5-26e3-4847-b056-2308328062e4",
   "metadata": {},
   "outputs": [
    {
     "data": {
      "text/plain": [
       "'If Comrade Napoleon says it, it must be right.'"
      ]
     },
     "execution_count": 53,
     "metadata": {},
     "output_type": "execute_result"
    }
   ],
   "source": [
    "string"
   ]
  },
  {
   "cell_type": "markdown",
   "id": "e53cc136",
   "metadata": {},
   "source": [
    "When given an argument that is the name of a module, `dir()` lists the names defined in the module:"
   ]
  },
  {
   "cell_type": "code",
   "execution_count": 54,
   "id": "72ec582a",
   "metadata": {},
   "outputs": [
    {
     "data": {
      "text/plain": [
       "['Foo',\n",
       " '__builtins__',\n",
       " '__cached__',\n",
       " '__doc__',\n",
       " '__file__',\n",
       " '__loader__',\n",
       " '__name__',\n",
       " '__package__',\n",
       " '__spec__',\n",
       " 'a',\n",
       " 'foo',\n",
       " 's']"
      ]
     },
     "execution_count": 54,
     "metadata": {},
     "output_type": "execute_result"
    }
   ],
   "source": [
    "import mod\n",
    "dir(mod)"
   ]
  },
  {
   "cell_type": "code",
   "execution_count": 55,
   "id": "792a5d2b-7f80-416d-9694-278acca50874",
   "metadata": {},
   "outputs": [
    {
     "name": "stdout",
     "output_type": "stream",
     "text": [
      "True\n",
      "True\n",
      "False\n",
      "True\n",
      "False\n",
      "True\n",
      "True\n",
      "True\n",
      "True\n",
      "True\n",
      "True\n",
      "True\n"
     ]
    }
   ],
   "source": [
    "from mod import *\n",
    "\n",
    "for attr in dir(mod):\n",
    "    print(attr in dir())"
   ]
  },
  {
   "cell_type": "markdown",
   "id": "fce85896-7206-4f72-bf07-b5598711445f",
   "metadata": {},
   "source": [
    "> Note how `__cache__` and `__file__` are not imported."
   ]
  },
  {
   "cell_type": "markdown",
   "id": "54c57cb7",
   "metadata": {},
   "source": [
    "<a class=\"anchor\" id=\"executing_a_module_as_a_script\"></a>\n",
    "\n",
    "## Executing a Module as a Script"
   ]
  },
  {
   "cell_type": "markdown",
   "id": "429c5b8b",
   "metadata": {},
   "source": [
    "Any `.py` file that contains a **module** is essentially also a Python **script**, and there isn’t any reason it can’t be executed like one."
   ]
  },
  {
   "cell_type": "markdown",
   "id": "39984839",
   "metadata": {},
   "source": [
    "Here again is `mod.py` as it was defined above:"
   ]
  },
  {
   "cell_type": "markdown",
   "id": "e624a0b7-452d-4802-a4db-f78127ee3f47",
   "metadata": {},
   "source": [
    "> ***mod.py***\n",
    "\n",
    "> ```python\n",
    "> s = \"If Comrade Napoleon says it, it must be right.\"\n",
    "> a = [100, 200, 300]\n",
    "> \n",
    "> def foo(arg):\n",
    ">     print(f'arg = {arg}')\n",
    "> \n",
    "> class Foo:\n",
    ">     pass\n",
    "```"
   ]
  },
  {
   "cell_type": "markdown",
   "id": "75d7c857",
   "metadata": {},
   "source": [
    "This can be run as a script:"
   ]
  },
  {
   "cell_type": "markdown",
   "id": "a75a50a6",
   "metadata": {},
   "source": [
    "``` bash\n",
    "$ /Users/john/Documents> python mod.py\n",
    "```"
   ]
  },
  {
   "cell_type": "markdown",
   "id": "9396d2a7",
   "metadata": {},
   "source": [
    "There are no errors, so it apparently worked. Granted, it’s not very interesting. As it is written, it only *defines* objects. It doesn’t *do* anything with them, and it doesn’t generate any output."
   ]
  },
  {
   "cell_type": "markdown",
   "id": "3d6593cd",
   "metadata": {},
   "source": [
    "Let’s modify the above Python module so it does generate some output when run as a script:"
   ]
  },
  {
   "cell_type": "markdown",
   "id": "0825ffcf",
   "metadata": {},
   "source": [
    "> ***mod2.py***\n",
    "\n",
    "> ```python\n",
    "> s = \"If Comrade Napoleon says it, it must be right.\"\n",
    "> a = [100, 200, 300]\n",
    "> \n",
    "> def foo(arg):\n",
    ">     print(f'arg = {arg}')\n",
    "> \n",
    "> class Foo:\n",
    ">     pass\n",
    "> \n",
    "> print(s)\n",
    "> print(a)\n",
    "> foo('quux')\n",
    "> x = Foo()\n",
    "> print(x)\n",
    "> ```"
   ]
  },
  {
   "cell_type": "markdown",
   "id": "d26e2b10-4a33-43e6-aa4f-5e41ecf47dfb",
   "metadata": {},
   "source": [
    "Now it should be a little more interesting:\n",
    "\n",
    "```bash\n",
    "$ /Users/john/Documents> python mod.py\n",
    "If Comrade Napoleon says it, it must be right.\n",
    "[100, 200, 300]\n",
    "arg = quux\n",
    "<__main__.Foo object at 0x02F101D0>\n",
    "```"
   ]
  },
  {
   "cell_type": "markdown",
   "id": "02ff1468",
   "metadata": {},
   "source": [
    "Unfortunately, now it also generates output when imported as a module:"
   ]
  },
  {
   "cell_type": "code",
   "execution_count": 56,
   "id": "df1457e9",
   "metadata": {},
   "outputs": [
    {
     "name": "stdout",
     "output_type": "stream",
     "text": [
      "If Comrade Napoleon says it, it must be right.\n",
      "[100, 200, 300]\n",
      "arg = quux\n",
      "<mod2.Foo object at 0x7fc3384f28b0>\n"
     ]
    }
   ],
   "source": [
    "import mod2"
   ]
  },
  {
   "cell_type": "markdown",
   "id": "936f5f91",
   "metadata": {},
   "source": [
    "This is probably not what you want. It isn’t usual for a module to generate output when it is imported."
   ]
  },
  {
   "cell_type": "markdown",
   "id": "cbace0de",
   "metadata": {},
   "source": [
    "Wouldn’t it be nice if you could distinguish between when the file is loaded as a module and when it is run as a standalone script?"
   ]
  },
  {
   "cell_type": "markdown",
   "id": "cf9d8277",
   "metadata": {},
   "source": [
    "Ask and ye shall receive."
   ]
  },
  {
   "cell_type": "markdown",
   "id": "cf524e8a",
   "metadata": {},
   "source": [
    "When a `.py` file is imported as a module, Python sets the special **dunder** variable [`__name__`](https://realpython.com/python-main-function/) to the name of the module. However, if a file is run as a standalone script, `__name__` is (creatively) set to the string `'__main__'`. Using this fact, you can discern which is the case at run-time and alter behavior accordingly:"
   ]
  },
  {
   "cell_type": "markdown",
   "id": "9a1d311a-5474-468f-8e25-6f3c72e0556e",
   "metadata": {},
   "source": [
    "> ***mod3.py***\n",
    "\n",
    "> ```python\n",
    "> s = \"If Comrade Napoleon says it, it must be right.\"\n",
    "> a = [100, 200, 300]\n",
    "> \n",
    "> def foo(arg):\n",
    ">     print(f'arg = {arg}')\n",
    "> \n",
    "> class Foo:\n",
    ">     pass\n",
    "> \n",
    "> if (__name__ == '__main__'):\n",
    ">     print('Executing as standalone script')\n",
    ">     print(s)\n",
    ">     print(a)\n",
    ">     foo('quux')\n",
    ">     x = Foo()\n",
    ">     print(x)\n",
    "> ```"
   ]
  },
  {
   "cell_type": "markdown",
   "id": "69ab2dfa",
   "metadata": {},
   "source": [
    "Now, if you run as a script, you get output:"
   ]
  },
  {
   "cell_type": "markdown",
   "id": "ef4c84e6",
   "metadata": {},
   "source": [
    "```bash\n",
    "C:\\Users\\john\\Documents>python mod.py\n",
    "Executing as standalone script\n",
    "If Comrade Napoleon says it, it must be right.\n",
    "[100, 200, 300]\n",
    "arg = quux\n",
    "<__main__.Foo object at 0x03450690>\n",
    "```"
   ]
  },
  {
   "cell_type": "markdown",
   "id": "9460abd9",
   "metadata": {},
   "source": [
    "But if you import as a module, you don’t:"
   ]
  },
  {
   "cell_type": "code",
   "execution_count": 57,
   "id": "5deb1045",
   "metadata": {},
   "outputs": [
    {
     "name": "stdout",
     "output_type": "stream",
     "text": [
      "arg = grault\n"
     ]
    }
   ],
   "source": [
    "import mod3\n",
    "mod.foo('grault')"
   ]
  },
  {
   "cell_type": "markdown",
   "id": "7c8d6d05",
   "metadata": {},
   "source": [
    "Modules are often designed with the capability to run as a standalone script for purposes of testing the functionality that is contained within the module. This is referred to as **[unit testing](https://realpython.com/python-testing/).** For example, suppose you have created a module `fact.py` containing a **factorial** function, as follows:"
   ]
  },
  {
   "cell_type": "markdown",
   "id": "0bbd9e52-d519-4d2e-9091-798dd86c7ce3",
   "metadata": {},
   "source": [
    "> ***fact.py***\n",
    "\n",
    "> ```python\n",
    "> def fact(n):\n",
    ">     return 1 if n == 1 else n * fact(n-1)\n",
    "> \n",
    "> if (__name__ == '__main__'):\n",
    ">     import sys\n",
    ">     if len(sys.argv) > 1:\n",
    ">         print(fact(int(sys.argv[1])))\n",
    "> ```"
   ]
  },
  {
   "cell_type": "markdown",
   "id": "b704a410",
   "metadata": {},
   "source": [
    "The file can be treated as a module, and the `fact()` function imported:"
   ]
  },
  {
   "cell_type": "code",
   "execution_count": 58,
   "id": "70a71de1",
   "metadata": {},
   "outputs": [
    {
     "data": {
      "text/plain": [
       "720"
      ]
     },
     "execution_count": 58,
     "metadata": {},
     "output_type": "execute_result"
    }
   ],
   "source": [
    "from fact import fact\n",
    "fact(6)"
   ]
  },
  {
   "cell_type": "markdown",
   "id": "36452f4e",
   "metadata": {},
   "source": [
    "But it can also be run as a standalone by passing an integer argument on the command-line for testing:"
   ]
  },
  {
   "cell_type": "markdown",
   "id": "77b519a8",
   "metadata": {},
   "source": [
    "```bash\n",
    "$ /Users/john/Documents python fact.py 6\n",
    "720\n",
    "```"
   ]
  },
  {
   "cell_type": "markdown",
   "id": "c873fcd6",
   "metadata": {},
   "source": [
    "<a class=\"anchor\" id=\"reloading_a_module\"></a>\n",
    "\n",
    "## Reloading a Module"
   ]
  },
  {
   "cell_type": "markdown",
   "id": "9301c6d8",
   "metadata": {},
   "source": [
    "For reasons of efficiency, a module is only loaded once per interpreter session. That is fine for function and class definitions, which typically make up the bulk of a module’s contents. But a module can contain executable statements as well, usually for initialization. Be aware that these statements will only be executed the *first time* a module is imported."
   ]
  },
  {
   "cell_type": "markdown",
   "id": "8bcfe3b9",
   "metadata": {},
   "source": [
    "Consider the following file `mod.py`:"
   ]
  },
  {
   "cell_type": "markdown",
   "id": "b2d9738e",
   "metadata": {},
   "source": [
    "> ***mod4.py***\n",
    "\n",
    "> ```python\n",
    "> a = [100, 200, 300]\n",
    "> print('a =', a)\n",
    "> ```"
   ]
  },
  {
   "cell_type": "code",
   "execution_count": 59,
   "id": "c657af9f-2d0f-40cb-bcde-1a11d2709818",
   "metadata": {},
   "outputs": [
    {
     "name": "stdout",
     "output_type": "stream",
     "text": [
      "a = [100, 200, 300]\n"
     ]
    }
   ],
   "source": [
    "import mod4"
   ]
  },
  {
   "cell_type": "code",
   "execution_count": 60,
   "id": "70312d8f-3eae-4025-a36c-7128b91605d4",
   "metadata": {},
   "outputs": [],
   "source": [
    "import mod4"
   ]
  },
  {
   "cell_type": "code",
   "execution_count": 61,
   "id": "0d8df80e-66c1-490a-a3d1-994445dd1f1b",
   "metadata": {},
   "outputs": [],
   "source": [
    "import mod4"
   ]
  },
  {
   "cell_type": "code",
   "execution_count": 62,
   "id": "d8acf844-05c7-422e-ae52-1a951633b795",
   "metadata": {},
   "outputs": [
    {
     "data": {
      "text/plain": [
       "[100, 200, 300]"
      ]
     },
     "execution_count": 62,
     "metadata": {},
     "output_type": "execute_result"
    }
   ],
   "source": [
    "mod4.a"
   ]
  },
  {
   "cell_type": "markdown",
   "id": "cb47c55a",
   "metadata": {},
   "source": [
    "The `print()` statement is not executed on subsequent imports. (For that matter, neither is the assignment statement, but as the final display of the value of `mod.a` shows, that doesn’t matter. Once the assignment is made, it sticks.)"
   ]
  },
  {
   "cell_type": "markdown",
   "id": "cd20ae40",
   "metadata": {},
   "source": [
    "If you make a change to a module and need to reload it, you need to either restart the interpreter or use a function called `reload()` from module `importlib`:"
   ]
  },
  {
   "cell_type": "code",
   "execution_count": 63,
   "id": "75e1dff2-865d-440f-b43a-1e6cb1f416f6",
   "metadata": {},
   "outputs": [],
   "source": [
    "import mod4"
   ]
  },
  {
   "cell_type": "code",
   "execution_count": 64,
   "id": "d4dbed47-aac1-4747-a183-363bdf16e6cb",
   "metadata": {},
   "outputs": [],
   "source": [
    "import mod4"
   ]
  },
  {
   "cell_type": "code",
   "execution_count": 65,
   "id": "eae72ea3-3c51-4aac-a962-0ca8f60f9368",
   "metadata": {},
   "outputs": [
    {
     "name": "stdout",
     "output_type": "stream",
     "text": [
      "a = [100, 200, 300]\n"
     ]
    }
   ],
   "source": [
    "import importlib\n",
    "mod4 = importlib.reload(mod4)"
   ]
  },
  {
   "cell_type": "code",
   "execution_count": 66,
   "id": "f9da8481-83a1-4c47-b14c-03528f9d97fe",
   "metadata": {},
   "outputs": [
    {
     "data": {
      "text/plain": [
       "[100, 200, 300]"
      ]
     },
     "execution_count": 66,
     "metadata": {},
     "output_type": "execute_result"
    }
   ],
   "source": [
    "mod4.a"
   ]
  },
  {
   "cell_type": "markdown",
   "id": "b1bdc32c-e335-4c5e-ac83-3a4329cbeb6b",
   "metadata": {},
   "source": [
    "### Autoreload"
   ]
  },
  {
   "cell_type": "markdown",
   "id": "b9634c72-ad9b-4374-97db-eae50cf22d66",
   "metadata": {},
   "source": [
    "You can also use an IPython extension to reload modules before executing user code. `autoreload` reloads modules automatically before entering the execution of code typed at the IPython prompt."
   ]
  },
  {
   "cell_type": "markdown",
   "id": "3c1859df-211a-405b-ae81-c7fe6e7cacc6",
   "metadata": {},
   "source": [
    "This makes for example the following workflow possible:\n",
    "\n",
    "```python\n",
    ">>> %load_ext autoreload\n",
    ">>> %autoreload 2\n",
    ">>> from foo import some_function\n",
    ">>> some_function()\n",
    "# open foo.py in an editor and change some_function to return 43\n",
    ">>> some_function()\n",
    "43\n",
    "```"
   ]
  },
  {
   "cell_type": "markdown",
   "id": "185c793f-7574-4b46-b395-9962e6266963",
   "metadata": {},
   "source": [
    "The module was reloaded without reloading it explicitly, and the object imported with from foo import ... was also updated."
   ]
  },
  {
   "cell_type": "markdown",
   "id": "6b991d15-e182-45df-b69a-5abd7ac92c61",
   "metadata": {},
   "source": [
    "**Usage:**\n",
    "The following magic commands are provided:\n",
    "\n",
    "- `%autoreload`\n",
    "Reload all modules (except those excluded by `%aimport`) automatically now.\n",
    "- `%autoreload 0`\n",
    "Disable automatic reloading.\n",
    "- `%autoreload 1`\n",
    "Reload all modules imported with %aimport every time before executing the Python code typed.\n",
    "- `%autoreload 2`\n",
    "Reload all modules (except those excluded by %aimport) every time before executing the Python code typed.\n",
    "- `%aimport`\n",
    "List modules which are to be automatically imported or not to be imported.\n",
    "- `%aimport foo`\n",
    "Import module `foo` and mark it to be autoreloaded for `%autoreload 1`\n",
    "- `%aimport -foo`\n",
    "Mark module `foo` to not be autoreloaded."
   ]
  },
  {
   "cell_type": "markdown",
   "id": "3a33bdc9-4fe9-47fb-8b05-5344658d93ee",
   "metadata": {},
   "source": [
    "Let's write a foo module with a function `f` that returns 42:"
   ]
  },
  {
   "cell_type": "code",
   "execution_count": 67,
   "id": "26a8947e-86a8-451e-a8a3-1096bf085d81",
   "metadata": {},
   "outputs": [
    {
     "name": "stdout",
     "output_type": "stream",
     "text": [
      "Overwriting foo.py\n"
     ]
    }
   ],
   "source": [
    "%%writefile foo.py\n",
    "# write a function that returns 42\n",
    "def f():\n",
    "    return 42"
   ]
  },
  {
   "cell_type": "code",
   "execution_count": 68,
   "id": "15976e48-16b1-4888-bd8b-1e2a445c844c",
   "metadata": {},
   "outputs": [],
   "source": [
    "from foo import f"
   ]
  },
  {
   "cell_type": "code",
   "execution_count": 69,
   "id": "3d7d9f28-6f4a-4617-a080-9b5127c6c9d4",
   "metadata": {},
   "outputs": [
    {
     "data": {
      "text/plain": [
       "42"
      ]
     },
     "execution_count": 69,
     "metadata": {},
     "output_type": "execute_result"
    }
   ],
   "source": [
    "f()"
   ]
  },
  {
   "cell_type": "markdown",
   "id": "910bf14d-79d6-4629-b55d-529f332c01ec",
   "metadata": {},
   "source": [
    "Using `autoreload`, we can reload the `foo` module automatically everytime we make some changes to `foo.py` without restarting the kernel or using `importlib` :"
   ]
  },
  {
   "cell_type": "code",
   "execution_count": 70,
   "id": "910bf47d-d178-4361-a555-60d48f51afc4",
   "metadata": {},
   "outputs": [],
   "source": [
    "# autoreload foo module\n",
    "%load_ext autoreload\n",
    "%autoreload 1\n",
    "%aimport foo"
   ]
  },
  {
   "cell_type": "markdown",
   "id": "544090b9-ac9c-4ece-b1dc-5a738501fc93",
   "metadata": {},
   "source": [
    "Let's change the `f` function return value to 43:"
   ]
  },
  {
   "cell_type": "code",
   "execution_count": 71,
   "id": "a1e3441c-4d9b-4eb0-8f5b-e5722a420972",
   "metadata": {},
   "outputs": [
    {
     "name": "stdout",
     "output_type": "stream",
     "text": [
      "Overwriting foo.py\n"
     ]
    }
   ],
   "source": [
    "%%writefile foo.py\n",
    "# Change the f function in foo module to return 43\n",
    "def f():\n",
    "    return 43"
   ]
  },
  {
   "cell_type": "markdown",
   "id": "dcc95827-4a88-4ce6-83d1-ed18c78eb839",
   "metadata": {},
   "source": [
    "The module is automatically reloaded and `f` now returns 43:"
   ]
  },
  {
   "cell_type": "code",
   "execution_count": 72,
   "id": "b0718586-da95-4da5-926c-d7491f57530c",
   "metadata": {},
   "outputs": [
    {
     "data": {
      "text/plain": [
       "43"
      ]
     },
     "execution_count": 72,
     "metadata": {},
     "output_type": "execute_result"
    }
   ],
   "source": [
    "f()"
   ]
  },
  {
   "attachments": {},
   "cell_type": "markdown",
   "id": "e2422044",
   "metadata": {},
   "source": [
    "<a class=\"anchor\" id=\"conclusion\"></a>\n",
    "\n",
    "## <img src=\"../../images/logos/checkmark.png\" width=\"20\"/> Conclusion "
   ]
  },
  {
   "cell_type": "markdown",
   "id": "579fd862-b7dd-4246-9ddf-50a8843e65e2",
   "metadata": {},
   "source": [
    "In this tutorial, you covered the following topics:\n",
    "\n",
    "- How to create a Python **module**\n",
    "- Locations where the Python interpreter searches for a module\n",
    "- How to obtain access to the objects defined in a module with the `import` statement\n",
    "- How to create a module that is executable as a standalone script"
   ]
  },
  {
   "cell_type": "markdown",
   "id": "385c9c3c",
   "metadata": {},
   "source": [
    "This will hopefully allow you to better understand how to gain access to the functionality available in the many third-party and built-in modules available in Python."
   ]
  },
  {
   "cell_type": "markdown",
   "id": "36e5719a-4a57-4d44-a0ce-f2fa18a85828",
   "metadata": {},
   "source": [
    "In the next section, we will learn how Packages allow for a hierarchical structuring of the module namespace using dot notation."
   ]
  }
 ],
 "metadata": {
  "kernelspec": {
   "display_name": "Python 3",
   "language": "python",
   "name": "python3"
  },
  "language_info": {
   "codemirror_mode": {
    "name": "ipython",
    "version": 3
   },
   "file_extension": ".py",
   "mimetype": "text/x-python",
   "name": "python",
   "nbconvert_exporter": "python",
   "pygments_lexer": "ipython3",
   "version": "3.8.11"
  }
 },
 "nbformat": 4,
 "nbformat_minor": 5
}
