{
 "cells": [
  {
   "cell_type": "markdown",
   "id": "bc6b21a7",
   "metadata": {},
   "source": [
    "<img src=\"../../images/banners/python-before-start.png\" width=\"600\"/>"
   ]
  },
  {
   "cell_type": "markdown",
   "id": "d4a95e9d",
   "metadata": {},
   "source": [
    "# <img src=\"../../images/logos/python.png\" width=\"23\"/> Conda Environments \n"
   ]
  },
  {
   "cell_type": "markdown",
   "id": "5ab60da2",
   "metadata": {},
   "source": [
    "## <img src=\"../../images/logos/toc.png\" width=\"20\"/> Table of Contents \n",
    "* [Managing environments](#managing_environments)\n",
    "    * [Adding a new environment](#adding_a_new_environment)\n",
    "    * [Activating and leaving (deactivating) an environment](#activating_and_leaving_(deactivating)_an_environment)\n",
    "* [How do you learn the version of your Conda?](#how_do_you_learn_the_version_of_your_conda?)\n",
    "* [Managing packages](#managing_packages)\n",
    "    * [Package channels](#package_channels)\n",
    "    * [Searching, installing and removing packages](#searching,_installing_and_removing_packages)\n",
    "    * [Changing an environment’s Python version](#changing_an_environment’s_python_version)\n",
    "    * [Adding PIP packages](#adding_pip_packages)\n",
    "* [Cheat Sheet](#cheat_sheet)\n",
    "* [Read More](#read_more)\n",
    "\n",
    "---"
   ]
  },
  {
   "cell_type": "markdown",
   "id": "7e8eed31-fd3d-440a-b81f-d8d03915dc03",
   "metadata": {},
   "source": [
    "So now you’ve picked an appropriate installer for yourself, well done! Now let’s take a look at the different types of environments and how they are created. From now on, I’m going to describe how Miniconda works (in the case of using Anaconda, the process is almost the same)."
   ]
  },
  {
   "cell_type": "markdown",
   "id": "753bd059-38f6-4f34-9de0-c8dc6ffd2afe",
   "metadata": {},
   "source": [
    "Miniconda sets up two things for you: **Conda** and the **root environment**."
   ]
  },
  {
   "cell_type": "markdown",
   "id": "de0f1ea3-63fb-48e0-88e3-7ece94f930ed",
   "metadata": {},
   "source": [
    "The process looks like this: the installer installs Conda first, which is — as I already mentioned — the package and environment management tool. Then, Conda creates **a root environment that contains two things**:\n",
    "\n",
    "- A certain version of Python\n",
    "- some basic packages"
   ]
  },
  {
   "cell_type": "markdown",
   "id": "daafbec4-4e8e-44f9-a198-0cd58c93c3f2",
   "metadata": {},
   "source": [
    "Next to the root environment, you can create as many **additional environments** as you want. And the whole point is that these additional environments **can contain different versions of Pythons and other packages**. So it means that, for example, if your precious little application is not working anymore in the newest, state-of-the-art environment you’ve just set up, you can always go “back” and use some another version(s) of some packages (including Python— Python itself is a package, more on that later)."
   ]
  },
  {
   "cell_type": "markdown",
   "id": "de506205-4b8d-4df6-8e31-18faa5040011",
   "metadata": {},
   "source": [
    "As we already summarized at the beginning of the article, the main use cases of applying an additional environment are these:\n",
    "\n",
    "- You **develop applications** with different Python or package version requirements\n",
    "- You **use applications** with different Python or package version requirements\n",
    "- You **collaborate** with other developers\n",
    "- You create Python applications **for clients**"
   ]
  },
  {
   "cell_type": "markdown",
   "id": "65b33142-bfab-46c4-813f-4c85f01de94e",
   "metadata": {},
   "source": [
    "<img src=\"./images/conda/environments.jpeg\" width=\"500\"/> "
   ]
  },
  {
   "cell_type": "markdown",
   "id": "e0ed13fa-0568-48ed-8ae0-688a88e567cb",
   "metadata": {},
   "source": [
    "So now let's dive into the basics of environment management."
   ]
  },
  {
   "cell_type": "markdown",
   "id": "0d3925c2-6926-42ee-b7e3-581381d5cc00",
   "metadata": {},
   "source": [
    "<a class=\"anchor\" id=\"managing_environments\"></a>\n",
    "\n",
    "## Managing environments"
   ]
  },
  {
   "cell_type": "markdown",
   "id": "34083f5f-ddef-4970-8fa0-0c97a665f7bf",
   "metadata": {},
   "source": [
    "<a class=\"anchor\" id=\"adding_a_new_environment\"></a>\n",
    "\n",
    "### Adding a new environment"
   ]
  },
  {
   "cell_type": "markdown",
   "id": "50ea6b56-8600-4148-943e-fe081c9573e1",
   "metadata": {},
   "source": [
    "To create a new environment named, for instance `mynewenv` (you can name it what ever you like), that includes, let’s say, a Python version 3.10., run:\n",
    "\n",
    "```bash\n",
    "$ conda create --name mynewenv python=3.4\n",
    "```"
   ]
  },
  {
   "cell_type": "markdown",
   "id": "767c025c-79fa-4fc2-b2e2-d9c85c71ee71",
   "metadata": {},
   "source": [
    "You can change an environment’s Python version by using the package management commands I describe in the next section."
   ]
  },
  {
   "cell_type": "markdown",
   "id": "297b447b-0c17-470d-b4e6-3daf11838642",
   "metadata": {},
   "source": [
    "<a class=\"anchor\" id=\"activating_and_leaving_(deactivating)_an_environment\"></a>\n",
    "\n",
    "### Activating and leaving (deactivating) an environment"
   ]
  },
  {
   "cell_type": "markdown",
   "id": "0fb063e4-d8ba-4d39-aa45-e1999dd88f10",
   "metadata": {},
   "source": [
    "Inside a new Conda installation, the root environment is activated by default, so you can use it without activation."
   ]
  },
  {
   "cell_type": "markdown",
   "id": "0bb362bb-ac0e-4e8f-984b-bc69617a990a",
   "metadata": {},
   "source": [
    "In other cases, if you want to use an environment (for instance manage packages, or run Python scripts inside it) you need to first **activate** it."
   ]
  },
  {
   "cell_type": "markdown",
   "id": "e4327f5f-5e64-4091-aa78-c544ffa53ada",
   "metadata": {},
   "source": [
    "Here is a step by step guide of the activation process:"
   ]
  },
  {
   "cell_type": "markdown",
   "id": "55aceaeb-3c64-4d40-9d3e-483cac4c6d57",
   "metadata": {},
   "source": [
    "First, open the command line (or the Terminal on Linux/Mac OS X). To activate the mynewenv environment, use the following commands depending on the operating system you have:\n",
    "\n",
    "```bash\n",
    "$ conda activate mynewenv\n",
    "```"
   ]
  },
  {
   "cell_type": "markdown",
   "id": "946ad209-e961-49ed-b8a6-7f62b56ca0b3",
   "metadata": {},
   "source": [
    "The command prompt changes upon the environment’s activation. It becomes, for example, `(mynewenv) ~$` or `(base) ~ $`, so as a result of the activation, it now contains the active environment’s name."
   ]
  },
  {
   "cell_type": "markdown",
   "id": "a1d021fc-34b7-4a89-8c82-660d4fe9f390",
   "metadata": {},
   "source": [
    "The directories of the active environment’s executable files are added to the system path (this means that you can now access them more easily). You can leave an environment with this command:\n",
    "\n",
    "```bash\n",
    "$ conda deactivate\n",
    "```"
   ]
  },
  {
   "cell_type": "markdown",
   "id": "6a03ed69-1d54-4cee-80b8-d0c9d17c3077",
   "metadata": {},
   "source": [
    "It needs to be mentioned that upon deactivating an environment, the root environment becomes active automatically."
   ]
  },
  {
   "cell_type": "markdown",
   "id": "ba513cc7-3485-4ccc-9ea5-24bb4fab9cd3",
   "metadata": {},
   "source": [
    "To list out the available environments in a Conda installation, run:\n",
    "\n",
    "```bash\n",
    "$ conda env list \n",
    "```"
   ]
  },
  {
   "cell_type": "markdown",
   "id": "a5a5c1c6-d0d8-4c53-918f-d526e0ca7b8a",
   "metadata": {},
   "source": [
    "Example result:\n",
    "\n",
    "```\n",
    "base                     /Users/ali/opt/anaconda3\n",
    "py38                  *  /Users/ali/opt/anaconda3/envs/py38\n",
    "py39                     /Users/ali/opt/anaconda3/envs/py39\n",
    "```"
   ]
  },
  {
   "cell_type": "markdown",
   "id": "392c9527-106d-42f8-9712-27dc8234e122",
   "metadata": {},
   "source": [
    "Thanks to this command, you can list out all your environments (the root and all the additional ones). The **active** environment is marked with an **asterisk** (at each given moment, there can be only one active environment)."
   ]
  },
  {
   "cell_type": "markdown",
   "id": "5a1d0c15-230d-4df2-a565-e57c7dca729b",
   "metadata": {},
   "source": [
    "It is possible to remove an environment by running `conda remove --name <environment name> --all`. Since it is not possible to remove an activated environment, you should first deactivate the active environment, to remove it:\n",
    "\n",
    "```bash\n",
    "(py38) ~ $ conda deactivate\n",
    "(base) ~ $ conda remove --name py38 --all\n",
    "```"
   ]
  },
  {
   "cell_type": "markdown",
   "id": "d2e9797d-726f-4544-b7fe-bd2019cd51f3",
   "metadata": {},
   "source": [
    "You may instead use `conda env remove --name myenv`."
   ]
  },
  {
   "cell_type": "markdown",
   "id": "7fdaa103-a145-40c0-ad17-15cb3a418e12",
   "metadata": {},
   "source": [
    "<a class=\"anchor\" id=\"how_do_you_learn_the_version_of_your_conda?\"></a>\n",
    "\n",
    "## How do you learn the version of your Conda?"
   ]
  },
  {
   "cell_type": "markdown",
   "id": "7a046b37-cf9b-4560-b5b7-03344512cdca",
   "metadata": {},
   "source": [
    "It can be useful to check **what version of Conda you are using**, and also what are the other parameters of your environment. I’m going to show you below how to easily list out this information."
   ]
  },
  {
   "cell_type": "markdown",
   "id": "ebc295f0-2b14-4f0b-b16f-fd3d2ab3110c",
   "metadata": {},
   "source": [
    "To **get the Conda version** of the currently active environment, run this command:\n",
    "\n",
    "```bash\n",
    "$ conda --version\n",
    "```"
   ]
  },
  {
   "cell_type": "markdown",
   "id": "ac5a7854-c490-429f-b6eb-0dc0cb88109b",
   "metadata": {},
   "source": [
    "Example result:\n",
    "    \n",
    "```bash\n",
    "conda 4.10.1\n",
    "```"
   ]
  },
  {
   "cell_type": "markdown",
   "id": "ca52966a-4fb4-42d4-80bb-39d192c1d387",
   "metadata": {},
   "source": [
    "To get a **detailed list of information** about the environment, for instance:\n",
    "\n",
    "- Conda version,\n",
    "- platform (operating system and bit count — 32- or 64-bit),\n",
    "- Python version,\n",
    "- environment directories,"
   ]
  },
  {
   "cell_type": "markdown",
   "id": "5b1ca2f7-528d-4c68-808d-190cb2dbddd5",
   "metadata": {},
   "source": [
    "run this command:\n",
    "\n",
    "```bash\n",
    "$ conda info\n",
    "```"
   ]
  },
  {
   "cell_type": "markdown",
   "id": "a1e2f35b-4113-4b84-9bb2-a420394b3cda",
   "metadata": {},
   "source": [
    "Example result:\n",
    "\n",
    "```bash\n",
    "     active environment : py38\n",
    "    active env location : /Users/ali/opt/anaconda3/envs/py38\n",
    "            shell level : 2\n",
    "       user config file : /Users/ali/.condarc\n",
    " populated config files : /Users/ali/.condarc\n",
    "          conda version : 4.10.1\n",
    "    conda-build version : 3.21.4\n",
    "         python version : 3.8.8.final.0\n",
    "       virtual packages : __osx=10.16=0\n",
    "                          __unix=0=0\n",
    "                          __archspec=1=x86_64\n",
    "       base environment : /Users/ali/opt/anaconda3  (writable)\n",
    "      conda av data dir : /Users/ali/opt/anaconda3/etc/conda\n",
    "  conda av metadata url : https://repo.anaconda.com/pkgs/main\n",
    "           channel URLs : https://repo.anaconda.com/pkgs/main/osx-64\n",
    "                          https://repo.anaconda.com/pkgs/main/noarch\n",
    "                          https://repo.anaconda.com/pkgs/r/osx-64\n",
    "                          https://repo.anaconda.com/pkgs/r/noarch\n",
    "          package cache : /Users/ali/opt/anaconda3/pkgs\n",
    "                          /Users/ali/.conda/pkgs\n",
    "       envs directories : /Users/ali/opt/anaconda3/envs\n",
    "                          /Users/ali/.conda/envs\n",
    "               platform : osx-64\n",
    "             user-agent : conda/4.10.1 requests/2.25.1 CPython/3.8.8 Darwin/21.4.0 OSX/10.16\n",
    "                UID:GID : 501:20\n",
    "             netrc file : None\n",
    "           offline mode : False\n",
    "```"
   ]
  },
  {
   "cell_type": "markdown",
   "id": "11158d27-53e2-4928-86e4-bdbc71453fd4",
   "metadata": {},
   "source": [
    "Now you know some basic commands for managing your environment. Let’s take a look at managing the packages inside the environment."
   ]
  },
  {
   "cell_type": "markdown",
   "id": "0a6b75b3-e339-4441-8e42-a1a8f5dc52ed",
   "metadata": {},
   "source": [
    "<a class=\"anchor\" id=\"managing_packages\"></a>\n",
    "\n",
    "## Managing packages"
   ]
  },
  {
   "cell_type": "markdown",
   "id": "d435f042-1026-41cf-bc02-d226b40570e7",
   "metadata": {},
   "source": [
    "Depending on the installer you chose, you’re going to end up with some basic (in case of using Miniconda) or a lot of (in case of using Anaconda) packages to start with. But what happens if you need\n",
    "\n",
    "- a new package or\n",
    "- another version of an already installed package?"
   ]
  },
  {
   "cell_type": "markdown",
   "id": "178dcbb7-ac99-4392-b9e3-319af49bf624",
   "metadata": {},
   "source": [
    "Conda — your environment and package management tool — will come to the rescue. Let’s look at this in more detail."
   ]
  },
  {
   "cell_type": "markdown",
   "id": "5640791a-731b-4849-9bc2-7b012678a588",
   "metadata": {},
   "source": [
    "<a class=\"anchor\" id=\"package_channels\"></a>\n",
    "\n",
    "### Package channels"
   ]
  },
  {
   "cell_type": "markdown",
   "id": "b853c1eb-d2ca-4a8e-a088-dcccf4c21a2f",
   "metadata": {},
   "source": [
    "**Channels are the locations** of the repositories (on the illustration I call them storages) **where Conda looks for packages**. Upon Conda’s installation, Continuum’s (Conda’s developer) channels are set by default, so without any further modification, these are the locations where your Conda will start searching for packages."
   ]
  },
  {
   "cell_type": "markdown",
   "id": "1ef5876f-dd9d-4fe7-99dd-b630ce2b8f19",
   "metadata": {},
   "source": [
    "**Channels exist in a hierarchical order**. The channel with the highest priority is the first one that Conda checks, looking for the package you asked for. You can change this order, and also add channels to it (and set their priority as well)."
   ]
  },
  {
   "cell_type": "markdown",
   "id": "f9cb50a3-bee3-4d8d-8e52-9e40e850e33e",
   "metadata": {},
   "source": [
    "It is a **good practice to add a channel** to the channel list as **the lowest priority item**. That way, you can include “special” packages that are not part of the ones that are set by default (~Continuum’s channels). As a result, you’ll end up with all the default packages — without the risk of overwriting them by a lower priority channel — AND that “special” one you need."
   ]
  },
  {
   "cell_type": "markdown",
   "id": "51d5a6a8-1a41-4d65-afc3-25a16dbbf1f9",
   "metadata": {},
   "source": [
    "<img src=\"./images/conda/conda-channels.jpeg\" width=\"500\"/> "
   ]
  },
  {
   "cell_type": "markdown",
   "id": "bf84938f-0b8c-406d-a4b7-aa082fa71111",
   "metadata": {},
   "source": [
    "To install a certain package that cannot be found inside these default channels, you can search for that **“special” package on this [website](https://anaconda.org/anaconda/repo)**. Not all packages are available on all platforms (=operating system & bit count, for example 64-bit Windows), however, you can **narrow down your search** to a specific platform. If you find a channel that contains the package you’re looking for, you can append it to your channel list."
   ]
  },
  {
   "cell_type": "markdown",
   "id": "2d58b376-a76c-40ba-b2bf-332385706a86",
   "metadata": {},
   "source": [
    "To add a channel (named for instance newchannel) with the lowest priority, run:\n",
    "\n",
    "```bash\n",
    "$ conda config --append channels newchannel\n",
    "```"
   ]
  },
  {
   "cell_type": "markdown",
   "id": "b18444fc-c764-47c3-af6a-55b4375a5c58",
   "metadata": {},
   "source": [
    "For exmaple, to enable `conda-forge` channel, run the following command from the Terminal:\n",
    "\n",
    "```bash\n",
    "$ conda config --add channels conda-forge\n",
    "```"
   ]
  },
  {
   "cell_type": "markdown",
   "id": "d8de86d9-8215-4d57-b094-65ebe2308d3a",
   "metadata": {},
   "source": [
    "To add a channel (named newchannel) with the highest priority, run:\n",
    "\n",
    "```bash\n",
    "$ conda config --prepend channels newchannel\n",
    "```"
   ]
  },
  {
   "cell_type": "markdown",
   "id": "eb202e37-74ed-4c68-8735-d7c063afdf30",
   "metadata": {},
   "source": [
    "It needs to be mentioned that in practice you’ll most likely set channels with the lowest priority. For a beginner, adding a channel with the highest priority is an edge case."
   ]
  },
  {
   "cell_type": "markdown",
   "id": "caaa11cf-4e55-4917-916d-3d2a847cc3e1",
   "metadata": {},
   "source": [
    "To **list out the active channels and their priorities**, use the following command:\n",
    "\n",
    "```bash\n",
    "$ conda config --get channels\n",
    "```"
   ]
  },
  {
   "cell_type": "markdown",
   "id": "34f47325-2286-4cce-8384-4be017d99a05",
   "metadata": {},
   "source": [
    "Example result:\n",
    "\n",
    "```\n",
    "--add channels 'conda-forge'   # lowest priority\n",
    "--add channels 'defaults'   # highest priority\n",
    "```"
   ]
  },
  {
   "cell_type": "markdown",
   "id": "ab1c4b78-2aff-45f2-91b1-bcd42bc57fef",
   "metadata": {},
   "source": [
    "There is one more aspect that I’d like to summarize here. If multiple channels contain a package, and one channel contains a newer version than the other one, the channels’ hierarchical order determines which one of these two versions are going to be installed, even if the higher priority channel contains the older version."
   ]
  },
  {
   "cell_type": "markdown",
   "id": "68787278-661a-4619-8355-76ae85fd5412",
   "metadata": {},
   "source": [
    "<img src=\"./images/conda/version_priority.jpeg\" width=\"500\"/> "
   ]
  },
  {
   "cell_type": "markdown",
   "id": "0172f145-a679-4582-8e89-7210828b1d9e",
   "metadata": {},
   "source": [
    "The version inside the higher priority channel is going to be installed."
   ]
  },
  {
   "cell_type": "markdown",
   "id": "7c167be9-33d6-4702-acb0-4b4ea10705a7",
   "metadata": {},
   "source": [
    "<a class=\"anchor\" id=\"searching,_installing_and_removing_packages\"></a>\n",
    "\n",
    "### Searching, installing and removing packages"
   ]
  },
  {
   "cell_type": "markdown",
   "id": "e66e6ab2-3b08-4ee9-8f1b-6c96d6d71278",
   "metadata": {},
   "source": [
    "To list out all the installed packages in the currently active environment, run:\n",
    "\n",
    "```bash\n",
    "$ conda list\n",
    "```"
   ]
  },
  {
   "cell_type": "markdown",
   "id": "748e46e1-5fb9-4212-88bb-34f6bb3243fe",
   "metadata": {},
   "source": [
    "The command results in a list of the matching package names, versions, and channels:\n",
    "\n",
    "```\n",
    "# Name                    Version                   Build  Channel\n",
    "bzip2                     1.0.8                h1de35cc_0\n",
    "ca-certificates           2022.4.26            hecd8cb5_0\n",
    "certifi                   2022.5.18.1              pypi_0    pypi\n",
    "libcxx                    12.0.0               h2f01273_0\n",
    "libffi                    3.3                  hb1e8313_2\n",
    "ncurses                   6.3                  hca72f7f_2\n",
    "openssl                   1.1.1o               hca72f7f_0\n",
    "pip                       21.2.4                   pypi_0    pypi\n",
    "python                    3.10.4               hdfd78df_0\n",
    "readline                  8.1.2                hca72f7f_1\n",
    "setuptools                61.2.0                   pypi_0    pypi\n",
    "sqlite                    3.38.3               h707629a_0\n",
    "tk                        8.6.12               h5d9f67b_0\n",
    "tzdata                    2022a                hda174b7_0\n",
    "wheel                     0.37.1             pyhd3eb1b0_0\n",
    "xz                        5.2.5                hca72f7f_1\n",
    "zlib                      1.2.12               h4dc903c_2\n",
    "```"
   ]
  },
  {
   "cell_type": "markdown",
   "id": "dd96d66d-61c9-4e67-a8cb-ea28f73000c9",
   "metadata": {},
   "source": [
    "To **search** for all the **available versions of a certain package**, you can use the `search` command. For instance, to list out all the versions of the `seaborn` package (it is a tool for data visualization), run:\n",
    "\n",
    "```bash\n",
    "$ conda search seaborn\n",
    "```"
   ]
  },
  {
   "cell_type": "markdown",
   "id": "1301fd59-01c2-4237-8bd8-5417ac7fbc2d",
   "metadata": {},
   "source": [
    "Similarly to the conda listcommand, this one results in a list of the matching package names, versions, and channels:\n",
    "\n",
    "```\n",
    "Loading channels: done\n",
    "# Name                       Version           Build  Channel\n",
    "seaborn                        0.7.1          py27_0  conda-forge\n",
    "seaborn                        0.7.1          py34_0  conda-forge\n",
    "seaborn                        0.7.1          py35_0  conda-forge\n",
    "seaborn                        0.7.1          py36_0  conda-forge\n",
    "seaborn                        0.8.0          py27_0  conda-forge\n",
    "seaborn                        0.8.0  py27h92884e4_0  pkgs/main\n",
    "seaborn                        0.8.0          py35_0  conda-forge\n",
    "seaborn                        0.8.0  py35h997229a_0  pkgs/main\n",
    "seaborn                        0.8.0          py36_0  conda-forge\n",
    "seaborn                        0.8.0  py36h74df97e_0  pkgs/main\n",
    "```"
   ]
  },
  {
   "cell_type": "markdown",
   "id": "598391be-7201-46d4-bd62-f5b819448883",
   "metadata": {},
   "source": [
    "To **install** a package (for instance `seaborn`) that is **inside a channel that is on your channel list**, run this command (if you don’t specify which version you want, it’ll automatically install the latest available version from the highest priority channel):\n",
    "\n",
    "```bash\n",
    "$ conda install seaborn\n",
    "```"
   ]
  },
  {
   "cell_type": "markdown",
   "id": "078ac5ac-0eeb-450f-ae51-a4a99bbae7e7",
   "metadata": {},
   "source": [
    "You can also specify the package’s version:\n",
    "\n",
    "```bash\n",
    "$ conda install seaborn=0.7.0\n",
    "```"
   ]
  },
  {
   "cell_type": "markdown",
   "id": "cb446a2b-434a-48f7-a9af-949a0edfb269",
   "metadata": {},
   "source": [
    "To install a package (for example `yaml`— that is, btw. a YAML parser and emitter) from a channel (for instance a channel named `conda-forge`), that is **inside a channel that is not on your channel list**, run:\n",
    "\n",
    "```bash\n",
    "$ conda install -c conda-forge yaml\n",
    "```"
   ]
  },
  {
   "cell_type": "markdown",
   "id": "904ea012-c287-494e-a06d-3412624f0974",
   "metadata": {},
   "source": [
    "To **update all the installed packages** (it only affects the active environment), use this command:\n",
    "\n",
    "```bash\n",
    "$ conda update\n",
    "```"
   ]
  },
  {
   "cell_type": "markdown",
   "id": "8e903af3-14d0-4726-acc8-3adf47e40ca5",
   "metadata": {},
   "source": [
    "To update one specific package, for example the seaborn package, run:\n",
    "\n",
    "```bash\n",
    "$ conda update seaborn\n",
    "```"
   ]
  },
  {
   "cell_type": "markdown",
   "id": "4d105e91-6e71-472d-b6c0-37d6d932f64c",
   "metadata": {},
   "source": [
    "To remove the seaborn package, run:\n",
    "\n",
    "```bash\n",
    "$ conda remove seaborn\n",
    "```"
   ]
  },
  {
   "cell_type": "markdown",
   "id": "4d3af18f-b7d9-4d9e-99e7-e58a22d42202",
   "metadata": {},
   "source": [
    "<a class=\"anchor\" id=\"changing_an_environment’s_python_version\"></a>\n",
    "\n",
    "### Changing an environment’s Python version"
   ]
  },
  {
   "cell_type": "markdown",
   "id": "82ca27fc-63cf-44ab-be7b-9c4b327c0e1d",
   "metadata": {},
   "source": [
    "And how can you change the Python version of an environment?"
   ]
  },
  {
   "cell_type": "markdown",
   "id": "5facd857-4f70-4dfc-8d36-30bf0e6495b3",
   "metadata": {},
   "source": [
    "Python is also a package. Why is that relevant for you? Because you’re going to use the same command for replacing the currently installed version of Python with another version that you use when you replace any other package with another version of that same package."
   ]
  },
  {
   "cell_type": "markdown",
   "id": "07bd8edf-e7ad-4795-a475-a5b5474114b4",
   "metadata": {},
   "source": [
    "First, you should list out the available Python versions:\n",
    "\n",
    "```bash\n",
    "$ conda search python\n",
    "```"
   ]
  },
  {
   "cell_type": "markdown",
   "id": "e63cd76b-c087-495d-811a-ae43c8954a8f",
   "metadata": {},
   "source": [
    "Example result (the list contains the available versions and channels):\n",
    "\n",
    "```\n",
    "python                         1.0.1               0  conda-forge\n",
    "python                           1.2               0  conda-forge\n",
    "python                           1.3               0  conda-forge\n",
    "python                           1.4               0  conda-forge\n",
    "python                         1.5.2               0  conda-forge\n",
    "python                           1.6               0  conda-forge\n",
    "python                           2.0               0  conda-forge\n",
    "...\n",
    "python                         3.6.6      hc167b69_0  pkgs/main\n",
    "python                         3.6.7   h4285619_1006  conda-forge\n",
    "python                         3.6.7 h4285619_1008_cpython  conda-forge\n",
    "python                         3.6.7   h4a56312_1000  conda-forge\n",
    "python                         3.6.7   h4a56312_1001  conda-forge\n",
    "python                         3.6.7   h4a56312_1002  conda-forge\n",
    "python                         3.6.7      h5001a0f_1  conda-forge\n",
    "python                         3.6.7   h8dc6b48_1004  conda-forge\n",
    "...\n",
    "python                        3.10.2 hea1dfa3_4_cpython  conda-forge\n",
    "python                        3.10.3      hdfd78df_5  pkgs/main\n",
    "python                        3.10.4 h1cc4136_0_cpython  conda-forge\n",
    "python                        3.10.4 h8b4d769_0_cpython  conda-forge\n",
    "python                        3.10.4      hdfd78df_0  pkgs/main\n",
    "python                        3.10.5 hdaaf3db_0_cpython  conda-forge\n",
    "python                        3.10.5 hdd68b96_0_cpython  conda-forge\n",
    "```"
   ]
  },
  {
   "cell_type": "markdown",
   "id": "4c386822-4227-456d-ba2d-953bfd75dac1",
   "metadata": {},
   "source": [
    "To replace the current Python version with, for example, 3.4.2, run:\n",
    "\n",
    "```bash\n",
    "$ conda install python=3.4.2\n",
    "```"
   ]
  },
  {
   "cell_type": "markdown",
   "id": "ba65ba6d-8960-4c49-8407-84f07d545f52",
   "metadata": {},
   "source": [
    "To update the Python version to the latest version of its branch (for instance updating the `3.4.2` to the `3.4.5` from the `3.4` branch), run:\n",
    "\n",
    "```bash\n",
    "$ conda update python\n",
    "```"
   ]
  },
  {
   "cell_type": "markdown",
   "id": "288c4925-cf5b-4663-b97d-e7a818d709d7",
   "metadata": {},
   "source": [
    "<a class=\"anchor\" id=\"adding_pip_packages\"></a>\n",
    "\n",
    "### Adding PIP packages"
   ]
  },
  {
   "cell_type": "markdown",
   "id": "61572ca8-3542-4d47-b35f-6b94f5479acc",
   "metadata": {},
   "source": [
    "We recommended using Conda as your package and environment manager (and not PIP). And as we mentioned earlier, **PIP packages are also installable into Conda environments**."
   ]
  },
  {
   "cell_type": "markdown",
   "id": "ab62385b-8973-4013-8acf-0e1731367d8a",
   "metadata": {},
   "source": [
    "Therefore, if a package is unavailable through the Conda channels, you can try to install it from the [PyPI package index](https://pypi.python.org/pypi). You can do this by using the `pip` **command** (this command is made available by the Conda installer by default, so you can apply it in any active environment). For instance if you want to install the `lightgbm` package (it is a gradient boosting framework), run:\n",
    "\n",
    "```bash\n",
    "$ pip install lightgbm\n",
    "```"
   ]
  },
  {
   "cell_type": "markdown",
   "id": "satisfactory-fourth",
   "metadata": {},
   "source": [
    "<a class=\"anchor\" id=\"cheat_sheet\"></a>\n",
    "\n",
    "## Cheat Sheet\n",
    "\n",
    "[Click here to get access to a Conda cheat sheet](https://static.realpython.com/conda-cheatsheet.pdf) with handy usage examples for managing your Python environment and packages."
   ]
  },
  {
   "attachments": {},
   "cell_type": "markdown",
   "id": "confident-dynamics",
   "metadata": {},
   "source": [
    "<a class=\"anchor\" id=\"read_more\"></a>\n",
    "\n",
    "##  Read More \n"
   ]
  },
  {
   "cell_type": "markdown",
   "id": "silent-hawaii",
   "metadata": {},
   "source": [
    "Also, if you’d like a deeper understanding of Anaconda and Conda, check out the following links:\n",
    "\n",
    "- [Why you need Python environments and how to manage them with Conda](https://medium.freecodecamp.org/why-you-need-python-environments-and-how-to-manage-them-with-conda-85f155f4353c)\n",
    "- [Conda: Myths and Misconceptions](http://jakevdp.github.io/blog/2016/08/25/conda-myths-and-misconceptions/)"
   ]
  }
 ],
 "metadata": {
  "kernelspec": {
   "display_name": "Python 3",
   "language": "python",
   "name": "python3"
  },
  "language_info": {
   "codemirror_mode": {
    "name": "ipython",
    "version": 3
   },
   "file_extension": ".py",
   "mimetype": "text/x-python",
   "name": "python",
   "nbconvert_exporter": "python",
   "pygments_lexer": "ipython3",
   "version": "3.8.11"
  }
 },
 "nbformat": 4,
 "nbformat_minor": 5
}
