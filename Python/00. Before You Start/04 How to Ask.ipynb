{
 "cells": [
  {
   "cell_type": "markdown",
   "id": "3d586d62-6be3-4d39-963c-b7e9f4e892b3",
   "metadata": {},
   "source": [
    "<img src=\"../../images/banners/python-before-start.png\" width=\"600\"/>"
   ]
  },
  {
   "cell_type": "markdown",
   "id": "29ac1ac3-4d2a-4acb-8ab0-07213a1ec44d",
   "metadata": {},
   "source": [
    "# <img src=\"../../images/logos/python.png\" width=\"23\"/> How to Ask a Question\n"
   ]
  },
  {
   "cell_type": "markdown",
   "id": "a08739bb-b70b-40a9-ada9-d73b7ad85f49",
   "metadata": {},
   "source": [
    "## Don't Ask to Ask, Just Ask!"
   ]
  },
  {
   "cell_type": "markdown",
   "id": "1938d926-7081-4e65-a072-379eac4bf304",
   "metadata": {},
   "source": [
    "Don't ask to ask, just ask!"
   ]
  },
  {
   "cell_type": "markdown",
   "id": "08b9cb10-8429-4662-9d4d-46da6a180599",
   "metadata": {},
   "source": [
    "> user: Any Java experts around who are willing to commit into looking into my problem, whatever that may turn out to be, even if it's not actually related to Java or if someone who doesn't know anything about Java could actually answer my question?"
   ]
  },
  {
   "cell_type": "markdown",
   "id": "6241da35-17da-4b50-baf1-c8d561e00fe8",
   "metadata": {},
   "source": [
    "There are plenty of reasons why people who DO have the knowledge would not admit to it. By asking, you're asking for more than what you think you're asking."
   ]
  },
  {
   "cell_type": "markdown",
   "id": "4b6a4cf1-cba7-429c-9ea4-21c305e6089c",
   "metadata": {},
   "source": [
    "You're asking people to take responsibility. You're questioning people's confidence in their abilities. You're also unnecessarily walling other people out. I often answer questions related to languages or libraries I have never used, because the answers are (in a programmer kind of way) common sense.\n",
    "\n",
    "Alternatively, it can be seen as..\n",
    "\n",
    "> user:I have a question about Java but I'm too lazy to actually formalize it in words unless there's someone on the channel who might be able to answer it"
   ]
  },
  {
   "cell_type": "markdown",
   "id": "2f018370-75e7-49b9-86a2-dc9bbe3cf261",
   "metadata": {},
   "source": [
    "... which is just lazy. If you're not willing to do the work to solve your problem, why should we?"
   ]
  },
  {
   "cell_type": "markdown",
   "id": "1fd11d48-195e-4caf-94e6-5f6949591887",
   "metadata": {},
   "source": [
    "The solution is not to ask to ask, but just to ask. Someone who is idling on the channel and only every now and then glances what's going on is unlikely to answer to your \"asking to ask\" question, but your actual problem description may pique their interest and get them to answer."
   ]
  },
  {
   "cell_type": "markdown",
   "id": "55dde9e6-6ef3-4686-9389-26a3938c2df6",
   "metadata": {},
   "source": [
    "So, to summarize, don't ask \"Any Java experts around?\", but rather ask\n",
    "\n",
    "> **How do I do [problem] with Java and [other relevant info]?**"
   ]
  },
  {
   "cell_type": "markdown",
   "id": "db9a0073-bce9-4cbf-8314-1d5a2ae262c5",
   "metadata": {},
   "source": [
    "## The XY Problem"
   ]
  },
  {
   "cell_type": "markdown",
   "id": "b4475bae-1410-474d-8b7f-8b4140ac2c86",
   "metadata": {},
   "source": [
    "The XY problem is asking about your attempted solution rather than your actual problem. This leads to enormous amounts of wasted time and energy, both on the part of people asking for help, and on the part of those providing help."
   ]
  },
  {
   "cell_type": "markdown",
   "id": "3b5c761c-e97d-4642-9f20-76f4261ef7c0",
   "metadata": {},
   "source": [
    "- User wants to do X.\n",
    "- User doesn't know how to do X, but thinks they can fumble their way to a solution if they can just manage to do Y.\n",
    "- User doesn't know how to do Y either.\n",
    "- User asks for help with Y.\n",
    "- Others try to help user with Y, but are confused because Y seems like a strange problem to want to solve.\n",
    "- After much interaction and wasted time, it finally becomes clear that the user really wants help with X, and that Y wasn't even a suitable solution for X.\n",
    "- The problem occurs when people get stuck on what they believe is the solution and are unable step back and explain the issue in full."
   ]
  },
  {
   "cell_type": "markdown",
   "id": "f18ea52f-e4f0-4fee-8b24-677033e872b6",
   "metadata": {},
   "source": [
    "### What to do about it?"
   ]
  },
  {
   "cell_type": "markdown",
   "id": "4e356ec1-fb6c-4db2-bdac-46fb1ec80002",
   "metadata": {},
   "source": [
    "- Always include information about a broader picture along with any attempted solution.\n",
    "- If someone asks for more information, do provide details.\n",
    "- If there are other solutions you've already ruled out, share why you've ruled them out. This gives more information about your requirements.\n",
    "- Remember that if your diagnostic theories were accurate, you wouldn't be asking for help right?"
   ]
  },
  {
   "cell_type": "markdown",
   "id": "26ca2a90-d4ee-4d5c-853a-c6f9006eeeaf",
   "metadata": {},
   "source": [
    "### Example"
   ]
  },
  {
   "cell_type": "markdown",
   "id": "4bb6e3d3-999b-4fa0-a75a-d0ba48f36d03",
   "metadata": {},
   "source": [
    ">\n",
    "- How can I echo the last three characters in a filename? If they're in a variable.\n",
    "- Why 3 characters? What do you REALLY want? Do you want the extension?\n",
    "- Yes.\n",
    "- There's no guarantee that every filename will have a three-letter extension, so blindly grabbing three characters does not solve the problem."
   ]
  },
  {
   "cell_type": "markdown",
   "id": "c413a3c5-3399-4755-be98-3ea5be2fb164",
   "metadata": {},
   "source": [
    "A user doesn't actually want the last 3 chracters in a filename, he wants the file extensions, so why ask for the last 3 characters?"
   ]
  },
  {
   "cell_type": "markdown",
   "id": "35e34fbc-c3fc-49a2-afa0-a556ab3124f9",
   "metadata": {},
   "source": [
    "## No Hello, Namaste, Привет, you got a sec?, greetings, aloha, こんにちは, olà, مرحبا"
   ]
  },
  {
   "cell_type": "markdown",
   "id": "a13260a2-7b79-4bad-8df2-e18d372e1263",
   "metadata": {},
   "source": [
    "Please don't say just hello in chat. Imagine calling someone on the phone, going hello! then putting them on hold... 🤦"
   ]
  },
  {
   "cell_type": "markdown",
   "id": "cc24e754-ca61-4891-be38-4160e18ba053",
   "metadata": {},
   "source": [
    "<img src=\"./images/how-to-ask-questions/wrong.png\" alt=\"notebook\" width=300 align=\"center\" />"
   ]
  },
  {
   "cell_type": "markdown",
   "id": "4b605067-a4fd-4bf7-b8e5-2c91d36754d8",
   "metadata": {},
   "source": [
    "Note that Keith could have got his answer minutes sooner, and needn't have kept Tim waiting. In fact, Tim could have started thinking about the question right away!"
   ]
  },
  {
   "cell_type": "markdown",
   "id": "73d6aeef-115d-415b-b47e-20dc4bd6fd5b",
   "metadata": {},
   "source": [
    "People who do this are generally trying to be polite by not jumping right into the request, like one would in person or on the phone - and that's great! But it's 2022 and chat is neither of those things. For most people, typing is much slower than talking. So despite best intentions, you're actually just making the other person wait for you to phrase your question, which is lost productivity (and kinda annoying)."
   ]
  },
  {
   "cell_type": "markdown",
   "id": "d9b31eef-5464-4fb7-b48b-ab83af0237a2",
   "metadata": {},
   "source": [
    "The same goes for:\n",
    "\n",
    "- Hello, are you around?\n",
    "- hi sophie - quick question.\n",
    "- You got a sec?\n",
    "- yo?\n",
    "- ping\n",
    "\n",
    "Just ask the question! 😫"
   ]
  },
  {
   "cell_type": "markdown",
   "id": "975ef307-3794-4699-8d77-6515eb9f9c9e",
   "metadata": {},
   "source": [
    "<img src=\"./images/how-to-ask-questions/right.png\" alt=\"notebook\" width=300 align=\"center\" />"
   ]
  },
  {
   "cell_type": "markdown",
   "id": "e2473031-5ec9-46db-be49-00894990c15c",
   "metadata": {},
   "source": [
    "If you feel it's a bit brusque to simply say \"Hi\" and ask the question, you can still preface your message with as many pleasantries as you see fit."
   ]
  },
  {
   "cell_type": "markdown",
   "id": "656e21af-2cd1-4d90-87fb-e6bacfbc6d8c",
   "metadata": {},
   "source": [
    "For example:\n",
    "\n",
    "- hey man, what's up? also, any idea when that thing's due?\n",
    "- Hi there! Hope you're well. I'm after the latest deck, when you get a sec :)\n",
    "- hey, if you're not busy, could you update those NFRs?"
   ]
  },
  {
   "cell_type": "markdown",
   "id": "cff9f859-9752-4c77-b329-402b24eeafb6",
   "metadata": {},
   "source": [
    "It may seem trivial, but asking your question before getting that initial salutatory reply also allows for asynchronous communication. If the other party is away, and you leave before they come back, they can still answer your question, instead of just staring at a \"Hello\" and wondering what they missed."
   ]
  },
  {
   "cell_type": "markdown",
   "id": "eda965b0-93d5-4872-b8f7-6cdb2b2ea824",
   "metadata": {},
   "source": [
    "## Question Format"
   ]
  },
  {
   "cell_type": "markdown",
   "id": "bc4a0aad-363d-4983-8938-932300a180a2",
   "metadata": {},
   "source": [
    "Write a title that summarizes the specific problem. The title is the first thing potential answerers will see, and if your title isn't interesting, they won't read the rest. So make it count:\n",
    "\n",
    "- **Pretend you're talking to a busy colleague** and have to sum up your entire question in one sentence: what details can you include that will help someone identify and solve your problem? Include any error messages, key APIs, or unusual circumstances that make your question different from similar questions already on the site.\n",
    "- **Spelling, grammar and punctuation are important!** Remember, this is the first part of your question others will see - you want to make a good impression. If you're not comfortable writing in English, ask a friend to proof-read it for you.\n",
    "\n",
    "If you're having trouble summarizing the problem, **write the title last** - sometimes writing the rest of the question first can make it easier to describe the problem."
   ]
  },
  {
   "cell_type": "markdown",
   "id": "35a81732-8eaa-4f38-96aa-8fec7fedc28c",
   "metadata": {},
   "source": [
    "Examples:\n",
    "\n",
    "- Bad: C# Math Confusion\n",
    "- Good: Why does using float instead of int give me different results when all of my inputs are integers?"
   ]
  },
  {
   "cell_type": "markdown",
   "id": "ac5fc989-c21f-4991-b6d3-469d6680f505",
   "metadata": {},
   "source": [
    "- Bad: [php] session doubt\n",
    "- Good: How can I redirect users to different pages based on session data in PHP?"
   ]
  },
  {
   "cell_type": "markdown",
   "id": "2575f675-6a38-4227-b21f-32db9c68623b",
   "metadata": {},
   "source": [
    "- Bad: android if else problems\n",
    "- Good: Why does str == \"value\" evaluate to false when str is set to \"value\"?"
   ]
  },
  {
   "cell_type": "markdown",
   "id": "d089b00a-ac67-4786-bacd-9c9b71322709",
   "metadata": {},
   "source": [
    "### Help others reproduce the problem"
   ]
  },
  {
   "cell_type": "markdown",
   "id": "3799338b-fc74-4692-ba64-7547b93a28f8",
   "metadata": {},
   "source": [
    "Not all questions benefit from including code, but if your problem is with code you've written, you should include some. But don't just copy in your entire program! Not only is this likely to get you in trouble if you're posting your employer's code, it likely includes a lot of irrelevant details that readers will need to ignore when trying to reproduce the problem. Here are some guidelines:"
   ]
  },
  {
   "cell_type": "markdown",
   "id": "b047de71-57f7-4f18-b16a-3b613c8901a8",
   "metadata": {},
   "source": [
    "- Include just enough code to allow others to reproduce the problem. For help with this, read [How to create a Minimal, Complete, and Verifiable example](https://stackoverflow.com/help/minimal-reproducible-example).\n",
    "- If it is possible to create a live example of the problem that you can link to (for example, on https://codeshare.io/, http://sqlfiddle.com/ or http://jsbin.com/ depending on what you're sharing) then do so - but also copy the code into the question itself. Not everyone can access external sites, and the links may break over time.\n",
    "- DO NOT post images of code, data, error messages, etc. - copy or type the text into the question. Please reserve the use of images for diagrams or demonstrating rendering bugs, things that are impossible to describe accurately via text. For more information please see [Why not upload images of code/errors when asking a question?](https://meta.stackoverflow.com/questions/285551/why-should-i-not-upload-images-of-code-data-errors-when-asking-a-question/285557#285557)"
   ]
  },
  {
   "cell_type": "markdown",
   "id": "c307e146-b5ad-4e20-88f0-b9a9df153d68",
   "metadata": {},
   "source": [
    "> **Read More:** [How To Ask Questions The Smart Way](http://www.catb.org/~esr/faqs/smart-questions.html)"
   ]
  }
 ],
 "metadata": {
  "kernelspec": {
   "display_name": "Python 3",
   "language": "python",
   "name": "python3"
  },
  "language_info": {
   "codemirror_mode": {
    "name": "ipython",
    "version": 3
   },
   "file_extension": ".py",
   "mimetype": "text/x-python",
   "name": "python",
   "nbconvert_exporter": "python",
   "pygments_lexer": "ipython3",
   "version": "3.8.2 (default, Mar 13 2020, 10:14:16) \n[GCC 9.3.0]"
  },
  "vscode": {
   "interpreter": {
    "hash": "916dbcbb3f70747c44a77c7bcd40155683ae19c65e1c03b4aa3499c5328201f1"
   }
  }
 },
 "nbformat": 4,
 "nbformat_minor": 5
}
