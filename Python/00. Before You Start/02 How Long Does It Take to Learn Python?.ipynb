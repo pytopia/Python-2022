{
 "cells": [
  {
   "cell_type": "markdown",
   "id": "bed748b9",
   "metadata": {},
   "source": [
    "<img src=\"../../images/banners/python-before-start.png\" width=\"600\"/>"
   ]
  },
  {
   "cell_type": "markdown",
   "id": "37bf7e9c",
   "metadata": {},
   "source": [
    "# <img src=\"../../images/logos/python.png\" width=\"23\"/> How Long Does It Take to Learn Python? \n"
   ]
  },
  {
   "cell_type": "markdown",
   "id": "6043ef89",
   "metadata": {},
   "source": [
    "## <img src=\"../../images/logos/toc.png\" width=\"20\"/> Table of Contents \n",
    "* [Why Would You Learn Python?](#why_would_you_learn_python?)\n",
    "* [What Does “Learning Python” Mean?](#what_does_“learning_python”_mean?)\n",
    "* [How Can You Measure Your Learning Progress?](#how_can_you_measure_your_learning_progress?)\n",
    "    * [The Four Stages of Competence](#the_four_stages_of_competence)\n",
    "    * [Stage 1: Unconscious Incompetence (Unawareness)](#stage_1:_unconscious_incompetence_(unawareness))\n",
    "    * [Stage 2: Conscious Incompetence (Awareness)](#stage_2:_conscious_incompetence_(awareness))\n",
    "    * [Stage 3: Conscious Competence (Ability)](#stage_3:_conscious_competence_(ability))\n",
    "    * [Stage 4: Unconscious Competence (Expertise)](#stage_4:_unconscious_competence_(expertise))\n",
    "* [What Factors Influence Your Learning Journey?](#what_factors_influence_your_learning_journey?)\n",
    "* [How Long Does It Take to Learn Python?](#how_long_does_it_take_to_learn_python?)\n",
    "    * [From Unawareness to Awareness](#from_unawareness_to_awareness)\n",
    "    * [From Awareness to Ability](#from_awareness_to_ability)\n",
    "    * [From Ability to Expertise](#from_ability_to_expertise)\n",
    "* [Which Resources Can Help You Learn Python Faster?](#which_resources_can_help_you_learn_python_faster?)\n",
    "* [Conclusion](#conclusion)\n",
    "\n",
    "---"
   ]
  },
  {
   "cell_type": "markdown",
   "id": "449488a2",
   "metadata": {},
   "source": [
    "You’ve probably found at least one blog post where the author reveals that they learned Python in a handful of days and quickly transitioned into a high-paying job. Some of these stories may be true, but they don’t help you prepare for a steady learning marathon. So, how long does it *really* take to learn Python, and is it worth your time investment?"
   ]
  },
  {
   "cell_type": "markdown",
   "id": "8b0e0ec3",
   "metadata": {},
   "source": [
    "**In this section, you’ll learn:**"
   ]
  },
  {
   "cell_type": "markdown",
   "id": "1c071e55",
   "metadata": {},
   "source": [
    "- What “learning Python” means and how you can **measure your progress**\n",
    "- What different **reasons** there are for learning Python\n",
    "- What **background factors** affect your learning approach and outcome\n",
    "- **How much time** you’ll want to invest in learning Python at **different skill levels**\n",
    "- Which **resources** you can use to improve your learning process\n"
   ]
  },
  {
   "cell_type": "markdown",
   "id": "805d82f9",
   "metadata": {},
   "source": [
    "To get started, you’ll go over some different reasons people want to learn to program in Python. Keep your personal motivations in mind and identify where you place yourself. Your reasons for learning Python will impact both your approach and the amount of time you’ll need to set aside."
   ]
  },
  {
   "cell_type": "markdown",
   "id": "67c25466",
   "metadata": {},
   "source": [
    "<a class=\"anchor\" id=\"why_would_you_learn_python?\"></a>\n",
    "\n",
    "## Why Would You Learn Python?"
   ]
  },
  {
   "cell_type": "markdown",
   "id": "600dbc3d",
   "metadata": {},
   "source": [
    "You might be completely new to programming and on the fence about whether or not you should invest your time into learning Python. In this first section, you’ll think about the different reasons people want to learn this programming language. Take note of the one you identify with the most:"
   ]
  },
  {
   "cell_type": "markdown",
   "id": "ca42b454",
   "metadata": {},
   "source": [
    "- **Career and job opportunities:** Maybe you want to start a new career as a software developer. Maybe you want to keep working at your current company and transition into a more technical role, such as data analysis. Programming proficiency is an excellent addition to any skill set you already have. Once you have the Python skills you need, you can ace your [Python coding interview](https://realpython.com/learning-paths/python-interview/) to get your dream job.\n",
    "\n",
    "\n",
    "\n",
    "- **Automation:** Python can help you automate repetitive tasks that you regularly do in your job and private life. You could learn to automate your work with [Excel spreadsheets](https://realpython.com/openpyxl-excel-spreadsheets-python/), [build a web scraper](https://realpython.com/beautiful-soup-web-scraper-python/) to access public data from the Internet, create [command-line interfaces](https://realpython.com/command-line-interfaces-python-argparse/), or build bots for [Twitter](https://realpython.com/twitter-bot-python-tweepy/) or [Discord](https://realpython.com/how-to-make-a-discord-bot-python/) that take work off your plate.\n",
    "\n",
    "\n",
    "\n",
    "- **Curiosity:** Digital products are everywhere, and you probably use them daily. You might want to know how your digital thermometer works, how a popular website is built, or how your favorite computer game would look if you digitally took it apart.\n",
    "\n",
    "\n",
    "\n",
    "- **Creativity:** You might have some fantastic ideas for your own games, and you could build them [with Arcade](https://realpython.com/platformer-python-arcade/) or [with Pygame](https://realpython.com/asteroids-game-python/). Or you may want to get started with [programming hardware](https://realpython.com/micropython/) for home automation, Internet of Things (IoT), or [embedded game development](https://realpython.com/embedded-python/).\n",
    "\n",
    "\n",
    "\n"
   ]
  },
  {
   "cell_type": "markdown",
   "id": "532a26b6",
   "metadata": {},
   "source": [
    "All of these are great reasons to get into programming! Your personal motivation for starting on this journey will affect how fast and how deeply you’ll learn Python. It’ll also influence which aspects of the language will require your focus. If you’re looking for inspiration on topics to tackle, then you can read about [what you can do with Python](https://realpython.com/what-can-i-do-with-python/)."
   ]
  },
  {
   "cell_type": "markdown",
   "id": "7bd54022",
   "metadata": {},
   "source": [
    "<a class=\"anchor\" id=\"what_does_“learning_python”_mean?\"></a>\n",
    "\n",
    "## What Does “Learning Python” Mean?"
   ]
  },
  {
   "cell_type": "markdown",
   "id": "a0db4523",
   "metadata": {},
   "source": [
    "Learning Python means more than just learning the Python programming language. You’ll need to know more than just the specifics of a single programming language to do something useful with your programming skills. At the same time, you don’t need to understand every single aspect of Python to be productive."
   ]
  },
  {
   "cell_type": "markdown",
   "id": "561fc93e",
   "metadata": {},
   "source": [
    "Learning Python is about learning how to accomplish practical tasks with Python programming. It’s about a skill set that you can use to build projects for yourself or an employer."
   ]
  },
  {
   "cell_type": "markdown",
   "id": "e2cd4938",
   "metadata": {},
   "source": [
    "<a class=\"anchor\" id=\"how_can_you_measure_your_learning_progress?\"></a>\n",
    "\n",
    "## How Can You Measure Your Learning Progress?"
   ]
  },
  {
   "cell_type": "markdown",
   "id": "3c6d3ac5",
   "metadata": {},
   "source": [
    "It’s often hard to say at what point you’ve fully learned something. Do you know Python when you know its syntax? Have you learned it when you know how to use a popular library without looking it up online? Or do you need to know all the ins and outs of the Python ecosystem to be able to say that you’ve learned Python?"
   ]
  },
  {
   "cell_type": "markdown",
   "id": "0c09345a",
   "metadata": {},
   "source": [
    "Realistically, you’ll probably never learn all there is to know about the Python ecosystem. There’s too much to know! Therefore, it’s helpful to separate your journey into different segments. This approach makes it easier for you to keep moving in the right direction."
   ]
  },
  {
   "cell_type": "markdown",
   "id": "afc327e4",
   "metadata": {},
   "source": [
    "When you think about different skill levels, you might think of three traditional categories:"
   ]
  },
  {
   "cell_type": "markdown",
   "id": "eb4baa81",
   "metadata": {},
   "source": [
    "1. Beginner\n",
    "2. Intermediate\n",
    "3. Expert\n"
   ]
  },
  {
   "cell_type": "markdown",
   "id": "25814efb",
   "metadata": {},
   "source": [
    "However, it’s hard to define when someone stops being a beginner, and even experienced programmers often don’t consider themselves experts. On the other hand, some programmers with low ability may think of themselves as experts, a cognitive bias known as the **[Dunning-Kruger effect](https://en.wikipedia.org/wiki/Dunning–Kruger_effect)**. With that in mind, mapping out your progress following this type of traditional classification might not be that useful for you."
   ]
  },
  {
   "attachments": {},
   "cell_type": "markdown",
   "id": "18b108c0-fdb3-45aa-9111-f98f206b349f",
   "metadata": {},
   "source": [
    "<img src=\"./images/how-long-does-it-take-to-learn-python/dunning-kruger-effect.jpeg\" width=\"500px\" >"
   ]
  },
  {
   "cell_type": "markdown",
   "id": "13d05691",
   "metadata": {},
   "source": [
    "<a class=\"anchor\" id=\"the_four_stages_of_competence\"></a>\n",
    "\n",
    "### The Four Stages of Competence"
   ]
  },
  {
   "cell_type": "markdown",
   "id": "0a664029",
   "metadata": {},
   "source": [
    "Instead, you’ll use a different framework that follows the [four stages of competence](https://en.wikipedia.org/wiki/Four_stages_of_competence) for assessing your learning progress:"
   ]
  },
  {
   "attachments": {},
   "cell_type": "markdown",
   "id": "fff8809c",
   "metadata": {},
   "source": [
    "<img src=\"./images/how-long-does-it-take-to-learn-python/four-stages.d678c620edb0.png\" width=\"600px\">"
   ]
  },
  {
   "cell_type": "markdown",
   "id": "745561bc",
   "metadata": {},
   "source": [
    "To make the four stages of competence more accessible, you’ll see the following short names to refer to each of the four stages:"
   ]
  },
  {
   "cell_type": "markdown",
   "id": "37716665",
   "metadata": {},
   "source": [
    "1. **Unawareness** for **unconscious incompetence**\n",
    "2. **Awareness** for **conscious incompetence**\n",
    "3. **Ability** for **conscious competence**\n",
    "4. **Expertise** for **unconscious competence**\n"
   ]
  },
  {
   "cell_type": "markdown",
   "id": "d0ef4305",
   "metadata": {},
   "source": [
    "You can read about what each of the stages stands for further down in this section. When you learn about time estimates for learning Python later on in this article, you’ll use the four stages of competence as a framework. But there’s a twist! You’ll shift your focus to the learning process that takes place *in between* the different stages and concentrate on the mind shift that takes you from one phase to the next. You’ll read about how to get from:"
   ]
  },
  {
   "cell_type": "markdown",
   "id": "5c95cb74",
   "metadata": {},
   "source": [
    "1. [Unawareness to awareness](#from-unawareness-to-awareness)\n",
    "2. [Awareness to ability](#from-awareness-to-ability)\n",
    "3. [Ability to expertise](#from-ability-to-expertise)\n"
   ]
  },
  {
   "cell_type": "markdown",
   "id": "e71c008b",
   "metadata": {},
   "source": [
    "You’ll see that each of the four stages of competence covers similar grounds as the classic beginner-intermediate-expert model. However, this alternate framework makes it easier for you to find your spot on the progression right now, which can give you actionable insight about how to keep moving from unawareness towards expertise:"
   ]
  },
  {
   "attachments": {},
   "cell_type": "markdown",
   "id": "9cb60ed4",
   "metadata": {},
   "source": [
    "<img src=\"images/how-long-does-it-take-to-learn-python/expertise_spectrum-2.faf28f6fecf9.png\" width=\"600px\">"
   ]
  },
  {
   "cell_type": "markdown",
   "id": "b6eb0092",
   "metadata": {},
   "source": [
    "To identify when you’ve moved from one phase to the next, you should primarily rely on your self-assessment of your progress. Time estimates can support you in that, but you shouldn’t use them as rigid rules. Many factors influence each person’s learning progress, and you’ll go over some of these factors [later on](#what-factors-influence-your-learning-journey) in this article."
   ]
  },
  {
   "cell_type": "markdown",
   "id": "886185e5",
   "metadata": {},
   "source": [
    "To improve the time estimates a bit, you’ll find an additional measure of progress based on how many projects you’ve completed. Try to assess your progress from one learning phase to the next as a combination of the time you’ve spent and the number of projects you’ve completed."
   ]
  },
  {
   "cell_type": "markdown",
   "id": "6cc0805f",
   "metadata": {},
   "source": [
    "Remember that these are only estimates. You’ll likely see yourself going faster or slower than described. As your ultimate self-assessment, focus on keeping track of transitions in your state of mind, which can indicate a switch from one phase to another. In the end, it’s essential that you keep working on projects, keep track of your progress, and enjoy yourself while you do. You’ll see your skills grow over time."
   ]
  },
  {
   "cell_type": "markdown",
   "id": "22cbf975",
   "metadata": {},
   "source": [
    "<a class=\"anchor\" id=\"stage_1:_unconscious_incompetence_(unawareness)\"></a>\n",
    "\n",
    "### Stage 1: Unconscious Incompetence (Unawareness)"
   ]
  },
  {
   "cell_type": "markdown",
   "id": "af291d93",
   "metadata": {},
   "source": [
    "For every skill that’s new to you, you’ll start at the stage of unconscious incompetence. That term probably doesn’t sound very encouraging. However, once you read Wikipedia’s definition of this stage, you see that it’s just a practical term to describe a familiar state of mind:"
   ]
  },
  {
   "cell_type": "markdown",
   "id": "5c961d66",
   "metadata": {},
   "source": [
    "You don’t know what you don’t know. You won’t learn something if you don’t accept that you don’t know it, and you also probably won’t understand what you don’t want to learn."
   ]
  },
  {
   "cell_type": "markdown",
   "id": "4f5ba3c1",
   "metadata": {},
   "source": [
    "Graduating from this first stage might take only a couple of moments. Nevertheless, it’s a crucial step for learning anything new and it often doesn’t get enough attention."
   ]
  },
  {
   "cell_type": "markdown",
   "id": "a49e7b7b",
   "metadata": {},
   "source": [
    "<a class=\"anchor\" id=\"stage_2:_conscious_incompetence_(awareness)\"></a>\n",
    "\n",
    "### Stage 2: Conscious Incompetence (Awareness)"
   ]
  },
  {
   "cell_type": "markdown",
   "id": "96fca5f4",
   "metadata": {},
   "source": [
    "Once you’re aware that Python is a programming language that you want to learn more about, your active time investment begins. At this point, you’re at the stage of conscious incompetence:"
   ]
  },
  {
   "cell_type": "markdown",
   "id": "ffd2abe2",
   "metadata": {},
   "source": [
    "It’ll take time and effort to progress through this stage. This investment is what people often think about when they talk about learning something new."
   ]
  },
  {
   "cell_type": "markdown",
   "id": "c7357ebf",
   "metadata": {},
   "source": [
    "<a class=\"anchor\" id=\"stage_3:_conscious_competence_(ability)\"></a>\n",
    "\n",
    "### Stage 3: Conscious Competence (Ability)"
   ]
  },
  {
   "cell_type": "markdown",
   "id": "105bba4a",
   "metadata": {},
   "source": [
    "If you think that you’ve successfully graduated from the previous phase of the four stages of competence, then you’ve achieved conscious competence:"
   ]
  },
  {
   "cell_type": "markdown",
   "id": "2f92b46c",
   "metadata": {},
   "source": [
    "You’ll have a working ability in Python at this stage, which might already be enough for your needs. You can apply programming knowledge to improve workflows in your current job or to build your own projects. You probably have enough Python knowledge to get an entry-level position as a software developer. While programming with Python will still take you a lot of conscious effort, you can get stuff to work."
   ]
  },
  {
   "cell_type": "markdown",
   "id": "f631c370",
   "metadata": {},
   "source": [
    "During this stage, however, you don’t have enough practice to be fluent and proficient. Moving to unconscious competence in Python will require even more time and effort from your side."
   ]
  },
  {
   "cell_type": "markdown",
   "id": "2392e85e",
   "metadata": {},
   "source": [
    "<a class=\"anchor\" id=\"stage_4:_unconscious_competence_(expertise)\"></a>\n",
    "\n",
    "### Stage 4: Unconscious Competence (Expertise)"
   ]
  },
  {
   "cell_type": "markdown",
   "id": "2598b972",
   "metadata": {},
   "source": [
    "Once you’ve reached unconscious competence, you’re able to use your tools seemingly without any effort. In this stage, you can use Python in the same way that a great musician uses their instrument. A proficient guitarist doesn’t focus on holding their guitar but instead focuses on the music they create. They can wield their instrument precisely and playfully."
   ]
  },
  {
   "cell_type": "markdown",
   "id": "c2377669",
   "metadata": {},
   "source": [
    "Once you can move the tools you’re using into the background and you realize that your focus is primarily on creating, you’ve achieved unconscious competence:"
   ]
  },
  {
   "cell_type": "markdown",
   "id": "d616c8f2",
   "metadata": {},
   "source": [
    "True expertise in Python programming might feel far away from where you’re standing right now. That’s completely normal and okay! No musician starts as an expert handler of their instrument. Expertise requires years of consistent training. And even once they reach expertise in one topic, many people return to the previous stage of the four stages of competence to develop their skills in another area."
   ]
  },
  {
   "cell_type": "markdown",
   "id": "8644d55e",
   "metadata": {},
   "source": [
    "When some programmers talk about how they never stop learning, they’re describing their progress from ability towards expertise in just one area of their work. While you might eventually gain expertise in one field where Python is used, there are many more where you’ll keep working and slowly progress from ability onwards."
   ]
  },
  {
   "cell_type": "markdown",
   "id": "41d42551",
   "metadata": {},
   "source": [
    "<a class=\"anchor\" id=\"what_factors_influence_your_learning_journey?\"></a>\n",
    "\n",
    "## What Factors Influence Your Learning Journey?"
   ]
  },
  {
   "cell_type": "markdown",
   "id": "9054815e",
   "metadata": {},
   "source": [
    "Now that you know how to break down your learning path into different steps, you might want to hear a specific number of hours it’ll take you to move between the four stages. You’ll find some time estimates below, but remember that learning is a personal process. Multiple factors determine how much time and effort learning Python will take for *you*. Here are some individual factors to consider:"
   ]
  },
  {
   "cell_type": "markdown",
   "id": "cd0829df",
   "metadata": {},
   "source": [
    "1. **Background:** What previous experience do you have? If you know English well, if you have programmed in another language before, or if you have experience with mathematical logic and [language learning](https://www.nature.com/articles/s41598-020-60661-8), then you might progress more quickly.\n",
    "\n",
    "\n",
    "\n",
    "2. **Motivation:** What do you want to use Python for, and how urgently do you want to learn it? If you have a clearly defined aim, such as a specific challenge you want to tackle, then it’ll be more straightforward to stay focused and motivated, and you might progress more quickly.\n",
    "\n",
    "\n",
    "\n",
    "3. **Aim:** What skill level are you aiming for, and what goal do you hope to achieve by learning Python? Suppose you’re planning to get a full-time position as a Python developer. You’ll probably have to dive deeper into more aspects of the language than you would if you were planning to complete a personal project as a hobby.\n",
    "\n",
    "\n",
    "\n",
    "4. **Availability:** How much time can you invest in learning Python? Are you a student or in between jobs? Can you dedicate a significant amount of each day to study programming? Do you have a full-time job, meaning you can only study outside of work? Do you take care of kids or other people? If you have more time to invest, then you’ll progress faster.\n",
    "\n",
    "\n",
    "\n",
    "5. **Mentorship:** Do you have someone who can teach you? You’ll learn faster with a knowledgeable friend or mentor who’s been through the process themselves and is ready to share their knowledge with you. You can get your mentorship support from a dedicated mentor at your job or online. If you don’t have a mentor in mind, try to get involved in a [learning community](https://t.me/pytopia_ai).\n",
    "\n",
    "\n",
    "\n",
    "6. **Learning Resources:** Do you have access to quality learning resources? They can help you decide what to learn first and how to continue. If your learning resources have high didactic quality as well as accuracy, then you’ll learn the right things more quickly."
   ]
  },
  {
   "cell_type": "markdown",
   "id": "40455a6b",
   "metadata": {},
   "source": [
    "This list isn’t exhaustive, and there may be other factors that’ll influence *your* learning journey. However, if you thoroughly consider these additional factors and think about your personal situation, you’re in a better position to assess the time you’ll need accurately."
   ]
  },
  {
   "cell_type": "markdown",
   "id": "f314b5cc",
   "metadata": {},
   "source": [
    "<a class=\"anchor\" id=\"how_long_does_it_take_to_learn_python?\"></a>\n",
    "\n",
    "## How Long Does It Take to Learn Python?"
   ]
  },
  {
   "cell_type": "markdown",
   "id": "fe8233bd",
   "metadata": {},
   "source": [
    "You now know [what “learning Python” means](#what-does-learning-python-mean) and [what learning framework](#how-can-you-measure-your-learning-progress) you can use to split the learning process into stages. You also learned about [background factors](#what-factors-influence-your-learning-journey) that can influence your learning journey. In this section, you’ll get familiar with guidelines that can help you plan how long it might take you to learn Python at different skill levels."
   ]
  },
  {
   "cell_type": "markdown",
   "id": "ff219d45",
   "metadata": {},
   "source": [
    "<a class=\"anchor\" id=\"from_unawareness_to_awareness\"></a>\n",
    "\n",
    "### From Unawareness to Awareness"
   ]
  },
  {
   "cell_type": "markdown",
   "id": "f2726075",
   "metadata": {},
   "source": [
    "To step from unawareness into awareness, you’ll need to accept that you don’t know Python yet and that you *want* to know it. You’ll need to be ready to invest your time and effort into studying the Python ecosystem:"
   ]
  },
  {
   "cell_type": "markdown",
   "id": "c3634fbc",
   "metadata": {},
   "source": [
    "| | |\n",
    "|:--|:--|\n",
    "|**Goal**|Accept you don’t know Python and that you want to learn it|\n",
    "|**Time Requirement**|Probably a few seconds or minutes|\n",
    "|**Workload**|Common curiosity|\n"
   ]
  },
  {
   "cell_type": "markdown",
   "id": "c8799bc2",
   "metadata": {},
   "source": [
    "The good news is that you’ve already taken this step. You already know Python exists and that you want to invest in learning it, and you know [why you should learn Python](#why-would-you-learn-python). Therefore, you’ll most likely find yourself somewhere in the next step of your progression through the four stages of competence."
   ]
  },
  {
   "cell_type": "markdown",
   "id": "98b48b86",
   "metadata": {},
   "source": [
    "<a class=\"anchor\" id=\"from_awareness_to_ability\"></a>\n",
    "\n",
    "### From Awareness to Ability"
   ]
  },
  {
   "cell_type": "markdown",
   "id": "0db65265",
   "metadata": {},
   "source": [
    "To move from awareness to ability, you need to work through online tutorials and courses, grapple with many new concepts, and introduce yourself to the world of programming and the Python ecosystem. That includes thinking, reading, listening, building, creating, and often also arduously hacking away on your keyboard without much immediate reward. Building your Python ability requires determination and focus."
   ]
  },
  {
   "cell_type": "markdown",
   "id": "e25a0994",
   "metadata": {},
   "source": [
    "However, Python can help you get up to speed relatively quickly because it’s a beginner-friendly language that reads similarly to English. If you have proficiency in English, you can start writing basic Python code logic in just a few days."
   ]
  },
  {
   "cell_type": "markdown",
   "id": "bab0b0de",
   "metadata": {},
   "source": [
    "You won’t build fully-fledged programs in only a few days, but you might be able to run small scripts that you wrote yourself. At this point, however, you haven’t reached the stage of **ability** yet. For this, you’ll need to build an understanding of at least the following Python programming concepts:"
   ]
  },
  {
   "cell_type": "markdown",
   "id": "6075402e",
   "metadata": {},
   "source": [
    "- [Python’s syntax](https://realpython.com/python-first-steps/#the-basic-python-syntax)\n",
    "- [Data types](https://realpython.com/python-data-types/)\n",
    "- Flow control structures, such as the [`for` loop](https://realpython.com/python-for-loop/), the [`while` loop](https://realpython.com/python-while-loop/), and [conditional statements](https://realpython.com/python-conditional-statements/)\n",
    "- [Functions](https://realpython.com/defining-your-own-python-function/) and [scopes](https://realpython.com/python-scope-legb-rule/)\n",
    "- [Decorators](https://realpython.com/primer-on-python-decorators/), [generators](https://realpython.com/introduction-to-python-generators/), and iterators\n",
    "- Classes and [object-oriented programming](https://realpython.com/learning-paths/object-oriented-programming-oop-python/)\n",
    "- Best practices for [writing Pythonic code](https://realpython.com/learning-paths/writing-pythonic-code/)\n",
    "- Popular packages in the [standard library](https://docs.python.org/3/library/), such as [`pathlib`](https://realpython.com/python-pathlib/) and [`collections`](https://realpython.com/python-collections-module/)\n"
   ]
  },
  {
   "cell_type": "markdown",
   "id": "1489175a",
   "metadata": {},
   "source": [
    "You’ll also need to learn more than just Python if you want to build functioning programs or apply for a job. You’ll need to understand some fundamental software development principles and how to use them in Python."
   ]
  },
  {
   "cell_type": "markdown",
   "id": "5b0a3cdc",
   "metadata": {},
   "source": [
    "You should know how to:"
   ]
  },
  {
   "cell_type": "markdown",
   "id": "ba62ce7d",
   "metadata": {},
   "source": [
    "- [Set up your Python development environment](https://realpython.com/learning-paths/perfect-your-python-development-setup/)\n",
    "- [Manage Python dependencies](https://realpython.com/products/managing-python-dependencies/)\n",
    "- [Debug your code](https://realpython.com/python-debug-idle/) to find and fix errors\n",
    "- Write and handle [exceptions](https://realpython.com/python-exceptions/)\n",
    "- [Test your Python apps](https://realpython.com/learning-paths/test-your-python-apps/)\n",
    "- Understand [modules and packages](https://realpython.com/python-modules-packages/) and how to use [popular packages](https://realpython.com/python-packages/) in Python’s extensive third-party ecosystem\n"
   ]
  },
  {
   "cell_type": "markdown",
   "id": "ac978f63",
   "metadata": {},
   "source": [
    "Tackling all of these topics and understanding these concepts requires a lot of training and time investment. How much *exactly* is hard to say and will be different for everyone. As a guideline, you can likely get there in about four months of consistent and focused study of at least four hours each day:"
   ]
  },
  {
   "cell_type": "markdown",
   "id": "d23ae095",
   "metadata": {},
   "source": [
    "| | |\n",
    "|:--|:--|\n",
    "|**Goal**|Learn Python’s syntax and fundamental programming and software development concepts|\n",
    "|**Time Requirement**|Approximately four months of four hours each day|\n",
    "|**Workload**|Approximately ten large projects|\n"
   ]
  },
  {
   "cell_type": "markdown",
   "id": "52616e42",
   "metadata": {},
   "source": [
    "Start by learning Python’s syntax and fundamental programming concepts, then focus on a specific library that you need to solve your challenge. Having a particular task to tackle can help you keep your direction, consistently practice what you’re learning, and move faster from awareness towards ability in Python."
   ]
  },
  {
   "cell_type": "markdown",
   "id": "0b5663a0",
   "metadata": {},
   "source": [
    "If you read online that someone learned Python quickly, then they were probably talking about this phase. Depending on your prior experience, you can learn enough Python relatively quickly that you’ll have the ability to work with the language. After you’ve gained this ability, you’ll step into the next phase, which is where most programmers spend most of their time."
   ]
  },
  {
   "cell_type": "markdown",
   "id": "59683341",
   "metadata": {},
   "source": [
    "<a class=\"anchor\" id=\"from_ability_to_expertise\"></a>\n",
    "\n",
    "### From Ability to Expertise"
   ]
  },
  {
   "cell_type": "markdown",
   "id": "4d7f4216",
   "metadata": {},
   "source": [
    "Moving from ability to expertise takes a lot of time and practice, and the idea of becoming a “Python expert” is a little misleading. You’ll probably never be an expert in *all* of Python, and that’s okay! Most seasoned Python developers are only experts in a specific field:"
   ]
  },
  {
   "cell_type": "markdown",
   "id": "3e6b52ca",
   "metadata": {},
   "source": [
    "- Web development\n",
    "- REST API programming\n",
    "- Data science, Machine learning\n",
    "- GUI programming\n",
    "- Pygame game development\n",
    "- DevOps\n",
    "- Embedded programming"
   ]
  },
  {
   "cell_type": "markdown",
   "id": "07d744f3",
   "metadata": {},
   "source": [
    "This list isn’t exhaustive, and for each field, there’s a lot to learn. Your progression from ability to expertise will be separate for each area. You can be an expert in any of these topics while still being a complete beginner in another area."
   ]
  },
  {
   "cell_type": "markdown",
   "id": "749e23bd",
   "metadata": {},
   "source": [
    "Continuously practicing the libraries and concepts that you need for your chosen field allows you to become an expert in that niche."
   ]
  },
  {
   "cell_type": "markdown",
   "id": "5b4ef99f",
   "metadata": {},
   "source": [
    "A Django expert, for example, will have enough proficiency with the framework to code an application without consulting the documentation, or perhaps they’ll just need to search for particular topics. It’ll be similar for any other field."
   ]
  },
  {
   "cell_type": "markdown",
   "id": "18fc7d3f",
   "metadata": {},
   "source": [
    "Coding at this level of fluency requires a lot of practice. With practice, the skill becomes second nature, and the Python syntax, code logic, and libraries you’re using will fade into the background. Once you’re there, you can focus your cognitive effort on solving the problems at hand without needing to think about the tools you’re using to solve them."
   ]
  },
  {
   "cell_type": "markdown",
   "id": "fe6d3f3c",
   "metadata": {},
   "source": [
    "Keep practicing what you’re most interested in and train the programming concepts and Python libraries that you find the most helpful for your tasks. Adopt a mindset of working towards expertise in one field for which Python is used, and stay comfortable with the idea that there’s always more to learn:"
   ]
  },
  {
   "cell_type": "markdown",
   "id": "db756f03",
   "metadata": {},
   "source": [
    "| | |\n",
    "|:--|:--|\n",
    "|**Goal**|Become really good at one field for which Python is used|\n",
    "|**Time Requirement**|Continuous practice over years|\n",
    "|**Workload**|Approximately twenty large projects|\n"
   ]
  },
  {
   "cell_type": "markdown",
   "id": "7bde12f0",
   "metadata": {},
   "source": [
    "There’s no end to your learning journey when studying with Python. You may want to make yourself comfortable in this phase of the four stages of competence because you’ll likely spend a good amount of your time here."
   ]
  },
  {
   "cell_type": "markdown",
   "id": "86ec6367",
   "metadata": {},
   "source": [
    "<a class=\"anchor\" id=\"which_resources_can_help_you_learn_python_faster?\"></a>\n",
    "\n",
    "## Which Resources Can Help You Learn Python Faster?"
   ]
  },
  {
   "cell_type": "markdown",
   "id": "8e2e7f9e",
   "metadata": {},
   "source": [
    "Once you know why you want to learn Python, what skill level you’re aiming for, and how to factor in your personal background, then you can think about making your learning process more fun and more effective."
   ]
  },
  {
   "cell_type": "markdown",
   "id": "79f35081",
   "metadata": {},
   "source": [
    "The good news is that you have a lot of help at your disposal! Below, you’ll find a list of the types of learning aids that you can try out:"
   ]
  },
  {
   "cell_type": "markdown",
   "id": "e35782d8",
   "metadata": {},
   "source": [
    "- **Learning Resources:** You can learn from online content ranging from [tutorials](https://realpython.com), [video courses](https://realpython.com/courses/), [quizzes](https://realpython.com/quizzes/), and [projects](https://realpython.com/tutorials/projects/). Online content is most helpful if you have a specific project in mind for which you can [find existing tutorials](https://realpython.com/search) or if you follow a [learning path](https://realpython.com/learning-paths/) about a topic that interests you. You’ll find *Real Python* content labeled as [basics](https://realpython.com/tutorials/basics/), [intermediate](https://realpython.com/tutorials/intermediate/), and [advanced](https://realpython.com/tutorials/advanced/) to help you find the best learning resource for your skill level.\n",
    "\n",
    "\n",
    "\n",
    "- **Books:** There are many [great Python books](https://realpython.com/best-python-books/) that can help you learn the language at different levels of depth and complexity. If you’re just getting started, check out the [Python Basics Book](https://realpython.com/products/python-basics-book/). If you’re already writing Python programs and looking to improve your language skills, then you might enjoy [Python Tricks](https://realpython.com/products/python-tricks-book/).\n",
    "\n",
    "\n",
    "\n",
    "- **Challenges:** You might enjoy challenging yourself with code examples and competing on leaderboards. Complete puzzles and keep training your coding skills at [CodingBat](https://codingbat.com/), [HackerRank](https://www.hackerrank.com/auth/signup), [LeetCode](https://leetcode.com/), [Advent Of Code](https://adventofcode.com/), or [CodinGame](https://www.codingame.com/start).\n",
    "\n",
    "\n",
    "\n",
    "- **Communities:** Many people learn better with social interactions. A good learning community can keep you engaged and accountable. You can join a friendly community of [Pytopia](https://www.t.me/pytopia_ai)."
   ]
  },
  {
   "cell_type": "markdown",
   "id": "02d4d468",
   "metadata": {},
   "source": [
    "All of these different types of resources are available to you online. It’s worth spending some time picking and choosing which ones are most engaging and effective for you personally. That said, when learning anything new, there’s no way around two essential factors:"
   ]
  },
  {
   "cell_type": "markdown",
   "id": "d39bc97d",
   "metadata": {},
   "source": [
    "1. Time investment\n",
    "2. Consistent practice\n"
   ]
  },
  {
   "cell_type": "markdown",
   "id": "831233fd",
   "metadata": {},
   "source": [
    "The most important aspect is to keep showing up and make programming part of a consistent routine. To learn Python at any level, you’ll need to invest time and effort."
   ]
  },
  {
   "cell_type": "markdown",
   "id": "f0df7d9d",
   "metadata": {},
   "source": [
    "<a class=\"anchor\" id=\"conclusion\"></a>\n",
    "\n",
    "## Conclusion"
   ]
  },
  {
   "cell_type": "markdown",
   "id": "7b72aca2",
   "metadata": {},
   "source": [
    "You learned about the different phases of learning Python. You considered reasons why you might want to learn to program, as well as [what stages](#the-four-stages-of-competence) you’re likely to go through during that process."
   ]
  },
  {
   "cell_type": "markdown",
   "id": "59b2d663",
   "metadata": {},
   "source": [
    "While you can start to write [small scripts](https://realpython.com/run-python-scripts/) in Python after just a few days of study, you’ll probably spend around four months gaining an essential ability in programming with Python. You’ll have to spend years and [build many projects](https://realpython.com/tutorials/projects/) to become a Python expert in even just one field."
   ]
  },
  {
   "cell_type": "markdown",
   "id": "808512d4",
   "metadata": {},
   "source": [
    "**In this article, you learned:**"
   ]
  },
  {
   "cell_type": "markdown",
   "id": "9ffe228f",
   "metadata": {},
   "source": [
    "- What “learning Python” means and how you can **measure your progress**\n",
    "- What different **reasons** there are for learning Python\n",
    "- What external **factors** influence how fast you’ll learn Python\n",
    "- Why learning Python at **different skill levels** takes different amounts of **time and effort**\n",
    "- Which **resources** you can use to improve your learning process\n"
   ]
  },
  {
   "cell_type": "markdown",
   "id": "76cb7e2e",
   "metadata": {},
   "source": [
    "Learning to program in Python can be an excellent investment of your time. If you keep showing up and make it exciting and fun for yourself, then you’re more likely to find ways to integrate it into your regular habits."
   ]
  }
 ],
 "metadata": {
  "kernelspec": {
   "display_name": "Python 3",
   "language": "python",
   "name": "python3"
  },
  "language_info": {
   "codemirror_mode": {
    "name": "ipython",
    "version": 3
   },
   "file_extension": ".py",
   "mimetype": "text/x-python",
   "name": "python",
   "nbconvert_exporter": "python",
   "pygments_lexer": "ipython3",
   "version": "3.8.2 (default, Mar 13 2020, 10:14:16) \n[GCC 9.3.0]"
  },
  "vscode": {
   "interpreter": {
    "hash": "916dbcbb3f70747c44a77c7bcd40155683ae19c65e1c03b4aa3499c5328201f1"
   }
  }
 },
 "nbformat": 4,
 "nbformat_minor": 5
}
