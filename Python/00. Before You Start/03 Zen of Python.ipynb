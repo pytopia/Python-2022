{
 "cells": [
  {
   "cell_type": "markdown",
   "id": "c2b4dde9-6813-4fc2-865b-a0002bcfc936",
   "metadata": {},
   "source": [
    "<img src=\"../../images/banners/python-before-start.png\" width=\"600\"/>"
   ]
  },
  {
   "cell_type": "markdown",
   "id": "90e1eaee-13f9-4323-b90d-1a1986849a8a",
   "metadata": {},
   "source": [
    "# <img src=\"../../images/logos/python.png\" width=\"23\"/> Zen of Python"
   ]
  },
  {
   "cell_type": "markdown",
   "id": "2bb4f032-e438-4d6e-a876-e2eb5ad913e8",
   "metadata": {},
   "source": [
    "The Zen of Python is a collection of 19 \"guiding principles\" for writing computer programs that influence the design of the Python programming language. Software engineer Tim Peters wrote this set of principles and posted it on the Python mailing list in 1999. Peters's list left open a 20th principle \"for Guido to fill in\", referring to Guido van Rossum, the original author of the Python language. The vacancy for a 20th principle has not been filled."
   ]
  },
  {
   "cell_type": "markdown",
   "id": "f547db06-0e44-4947-90a7-69f807149d15",
   "metadata": {},
   "source": [
    "## The Zen of Python"
   ]
  },
  {
   "cell_type": "markdown",
   "id": "692272a3-75e4-4d89-8a89-d9c261bae617",
   "metadata": {},
   "source": [
    "- Beautiful is better than ugly.\n",
    "- Explicit is better than implicit.\n",
    "- Simple is better than complex.\n",
    "- Complex is better than complicated.\n",
    "- Flat is better than nested.\n",
    "- Sparse is better than dense.\n",
    "- Readability counts.\n",
    "- Special cases aren't special enough to break the rules.\n",
    "- Although practicality beats purity.\n",
    "- Errors should never pass silently.\n",
    "- Unless explicitly silenced.\n",
    "- In the face of ambiguity, refuse the temptation to guess.\n",
    "- There should be one-- and preferably only one --obvious way to do it.\n",
    "- Although that way may not be obvious at first unless you're Dutch.\n",
    "- Now is better than never.\n",
    "- Although never is often better than *right* now.\n",
    "- If the implementation is hard to explain, it's a bad idea.\n",
    "- If the implementation is easy to explain, it may be a good idea.\n",
    "- Namespaces are one honking great idea -- let's do more of those!"
   ]
  },
  {
   "cell_type": "markdown",
   "id": "8e81c78c-0e7e-4d4e-b137-078f23e8b1c6",
   "metadata": {},
   "source": [
    "Python also embeds a library for displaying its Zen of Python. This is called an [Easter Egg](https://en.wikipedia.org/wiki/Easter_egg_(media)). In computer software, Easter eggs are secret responses that occur as a result of an undocumented set of commands. The results can vary from a simple printed message or image to a page of programmer credits or a small video game hidden inside an otherwise serious piece of software."
   ]
  },
  {
   "cell_type": "code",
   "execution_count": 2,
   "id": "d9f04472-f7a5-47ff-9418-bce5a5568269",
   "metadata": {},
   "outputs": [
    {
     "name": "stdout",
     "output_type": "stream",
     "text": [
      "The Zen of Python, by Tim Peters\n",
      "\n",
      "Beautiful is better than ugly.\n",
      "Explicit is better than implicit.\n",
      "Simple is better than complex.\n",
      "Complex is better than complicated.\n",
      "Flat is better than nested.\n",
      "Sparse is better than dense.\n",
      "Readability counts.\n",
      "Special cases aren't special enough to break the rules.\n",
      "Although practicality beats purity.\n",
      "Errors should never pass silently.\n",
      "Unless explicitly silenced.\n",
      "In the face of ambiguity, refuse the temptation to guess.\n",
      "There should be one-- and preferably only one --obvious way to do it.\n",
      "Although that way may not be obvious at first unless you're Dutch.\n",
      "Now is better than never.\n",
      "Although never is often better than *right* now.\n",
      "If the implementation is hard to explain, it's a bad idea.\n",
      "If the implementation is easy to explain, it may be a good idea.\n",
      "Namespaces are one honking great idea -- let's do more of those!\n"
     ]
    }
   ],
   "source": [
    "import this"
   ]
  },
  {
   "cell_type": "markdown",
   "id": "81acb55b-4b03-44ba-9ec5-782bad2ce17c",
   "metadata": {},
   "source": [
    "Thus, the stated purpose of this module is to spell out guidelines to related to the development of Python code."
   ]
  },
  {
   "cell_type": "markdown",
   "id": "1028f29c-6b97-41ce-a5af-c1454093a2c6",
   "metadata": {},
   "source": [
    "Following these guidelines will likely improve the readability, usability and maintainability of Python code. None of which seem \"useless\"."
   ]
  }
 ],
 "metadata": {
  "kernelspec": {
   "display_name": "Python 3",
   "language": "python",
   "name": "python3"
  },
  "language_info": {
   "codemirror_mode": {
    "name": "ipython",
    "version": 3
   },
   "file_extension": ".py",
   "mimetype": "text/x-python",
   "name": "python",
   "nbconvert_exporter": "python",
   "pygments_lexer": "ipython3",
   "version": "3.8.2 (default, Mar 13 2020, 10:14:16) \n[GCC 9.3.0]"
  },
  "vscode": {
   "interpreter": {
    "hash": "916dbcbb3f70747c44a77c7bcd40155683ae19c65e1c03b4aa3499c5328201f1"
   }
  }
 },
 "nbformat": 4,
 "nbformat_minor": 5
}
