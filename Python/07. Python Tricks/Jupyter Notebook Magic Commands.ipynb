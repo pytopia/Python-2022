{
 "cells": [
  {
   "cell_type": "markdown",
   "id": "686b0c0d-3ec2-4c1a-b204-bfe094c30e7c",
   "metadata": {},
   "source": [
    "# Jupyter Notebook Magic Commands"
   ]
  },
  {
   "cell_type": "code",
   "execution_count": null,
   "id": "a7c327ec-8b92-4e26-98da-39ddf7879ec0",
   "metadata": {},
   "outputs": [],
   "source": []
  }
 ],
 "metadata": {
  "kernelspec": {
   "display_name": "Python 3",
   "language": "python",
   "name": "python3"
  },
  "language_info": {
   "codemirror_mode": {
    "name": "ipython",
    "version": 3
   },
   "file_extension": ".py",
   "mimetype": "text/x-python",
   "name": "python",
   "nbconvert_exporter": "python",
   "pygments_lexer": "ipython3",
   "version": "3.8.2 (default, Mar 13 2020, 10:14:16) \n[GCC 9.3.0]"
  },
  "vscode": {
   "interpreter": {
    "hash": "916dbcbb3f70747c44a77c7bcd40155683ae19c65e1c03b4aa3499c5328201f1"
   }
  }
 },
 "nbformat": 4,
 "nbformat_minor": 5
}
