{
 "cells": [
  {
   "cell_type": "markdown",
   "id": "0b6f20d4",
   "metadata": {},
   "source": [
    "<img src=\"../../images/banners/python-oop.png\" width=\"600\"/>"
   ]
  },
  {
   "cell_type": "markdown",
   "id": "green-microwave",
   "metadata": {},
   "source": [
    "# <img src=\"../../images/logos/python.png\" width=\"23\"/> Composition"
   ]
  },
  {
   "cell_type": "markdown",
   "id": "46328d7f",
   "metadata": {},
   "source": [
    "## <img src=\"../../images/logos/toc.png\" width=\"20\"/> Table of Contents \n",
    "* [What is Composition?](#what-is-composition)\n",
    "* [Implementation Inheritance vs Interface Inheritance](#implementation_inheritance_vs_interface_inheritance)\n",
    "* [The Class Explosion Problem\n",
    "](#class-explosion)\n",
    "* [Composition](#composition)\n",
    "* [Flexible Designs With Composition](#flexible_designs_with_composition)\n",
    "* [Choosing Between Inheritance and Composition in Python](#choosing_between_inheritance_and_composition_in_python)\n",
    "    * [Inheritance to Model **\"Is A\"** Relationship](#inheritance-model-is-a)\n",
    "    * [Composition to Model **\"Has A\"** Relationship](#composition-model-has-a)\n",
    "* [Conclusion](#conclusion) \n",
    "---"
   ]
  },
  {
   "cell_type": "markdown",
   "id": "43969575-3516-430b-9b14-fbfe41b9c887",
   "metadata": {},
   "source": [
    "**Inheritance** and **composition** are two important concepts in object oriented programming that model the relationship between two classes. They are the building blocks of object oriented design, and they help programmers to write reusable code."
   ]
  },
  {
   "cell_type": "markdown",
   "id": "37f4cf0d-4fc7-4a83-a26a-193242e392b5",
   "metadata": {},
   "source": [
    "They drive the design of an application and determine how the application should evolve as new features are added or requirements change."
   ]
  },
  {
   "cell_type": "markdown",
   "id": "14fd0cb2-c73f-4484-a240-ab3a06474caa",
   "metadata": {},
   "source": [
    "Inheritance models what is called an is a relationship. This means that when you have a Derived class that inherits from a Base class, you created a relationship where Derived is a specialized version of Base."
   ]
  },
  {
   "cell_type": "markdown",
   "id": "e9c7dbf7-18a3-4ad2-9a02-636d9498b5c0",
   "metadata": {},
   "source": [
    "Inheritance is represented using the [Unified Modeling Language](https://www.uml.org/) or UML in the following way:"
   ]
  },
  {
   "cell_type": "markdown",
   "id": "9795ecba-2719-43ea-9a34-d7e383ccd953",
   "metadata": {},
   "source": [
    "<img src=\"./images/inheritance-uml.svg\" width=\"200\"/>"
   ]
  },
  {
   "cell_type": "markdown",
   "id": "fd61a3f1-521b-4dfb-b077-f1147b347eb7",
   "metadata": {},
   "source": [
    "Classes are represented as boxes with the class name on top. The inheritance relationship is represented by an arrow from the derived class pointing to the base class. The word **extends** is usually added to the arrow."
   ]
  },
  {
   "cell_type": "markdown",
   "id": "22cc80b9-7968-4b74-8112-54ce7900142f",
   "metadata": {},
   "source": [
    "Let’s say you have a base class Animal and you derive from it to create a Horse class. The inheritance relationship states that a Horse **is an** Animal. This means that Horse inherits the interface and implementation of Animal, and Horse objects can be used to replace Animal objects in the application."
   ]
  },
  {
   "cell_type": "markdown",
   "id": "10c49ef7-b4c2-4f9e-9da4-bbd3db4d9cd2",
   "metadata": {},
   "source": [
    "This is known as the **Liskov substitution principle**. The principle states that “in a computer program, if `S` is a subtype of `T`, then objects of type `T` may be replaced with objects of type `S` without altering any of the desired properties of the program”."
   ]
  },
  {
   "cell_type": "markdown",
   "id": "5efa0c0f-69bd-48b8-9157-5f86699f772a",
   "metadata": {},
   "source": [
    "<a class=\"anchor\" id=\"what-is-composition\"></a>\n",
    "## What is Composition"
   ]
  },
  {
   "cell_type": "markdown",
   "id": "f6b6d3e7-fb1f-4112-8660-bee627dce554",
   "metadata": {},
   "source": [
    "Composition is a concept that models a **has a** relationship. It enables creating complex types by combining objects of other types. This means that a class Composite can contain an object of another class `Component`. This relationship means that a `Composite` **has a** `Component`."
   ]
  },
  {
   "cell_type": "markdown",
   "id": "571ce98f-9026-4269-be1b-453a31914488",
   "metadata": {},
   "source": [
    "UML represents composition as follows:"
   ]
  },
  {
   "cell_type": "markdown",
   "id": "05bedbff-be81-42ff-8879-08c2bad44a53",
   "metadata": {},
   "source": [
    "<img src=\"./images/composition-uml.svg\" width=\"200\"/>"
   ]
  },
  {
   "cell_type": "markdown",
   "id": "3ac22e69-1239-4413-9765-6b1076a01a44",
   "metadata": {},
   "source": [
    "Composition is represented through a line with a diamond at the composite class pointing to the component class. The composite side can express the cardinality of the relationship. The cardinality indicates the number or valid range of Component instances the Composite class will contain."
   ]
  },
  {
   "cell_type": "markdown",
   "id": "90970905-0239-4c10-bd90-448dab20c40f",
   "metadata": {},
   "source": [
    "In the diagram above, the 1 represents that the Composite class contains one object of type Component. Cardinality can be expressed in the following ways:\n",
    "\n",
    "- **A number** indicates the number of Component instances that are contained in the Composite.\n",
    "- **The * symbol** indicates that the Composite class can contain a variable number of Component instances.\n",
    "- **A range 1..4** indicates that the Composite class can contain a range of Component instances. The range is indicated with the minimum and maximum number of instances, or minimum and many instances like in **1..***."
   ]
  },
  {
   "cell_type": "markdown",
   "id": "70cc2ee5-f2c4-4e3c-a922-f704d8e554a4",
   "metadata": {},
   "source": [
    "> **Note:** Classes that contain objects of other classes are usually referred to as composites, where classes that are used to create more complex types are referred to as components."
   ]
  },
  {
   "cell_type": "markdown",
   "id": "3eea9ce1-f86a-4892-a827-8bd89d0e9070",
   "metadata": {},
   "source": [
    "For example, your `Horse` class can be composed by another object of type `Tail`. Composition allows you to express that relationship by saying a `Horse` **has a** `Tail`."
   ]
  },
  {
   "cell_type": "markdown",
   "id": "f6263ad8-3507-4879-881b-a68708aeefbe",
   "metadata": {},
   "source": [
    "Composition enables you to reuse code by adding objects to other objects, as opposed to inheriting the interface and implementation of other classes. Both Horse and Dog classes can leverage the functionality of Tail through composition without deriving one class from the other."
   ]
  },
  {
   "cell_type": "markdown",
   "id": "9d244e65-989a-47b4-b5d7-b946f0ab6d0e",
   "metadata": {},
   "source": [
    "<a class=\"anchor\" id=\"implementation_inheritance_vs_interface_inheritance\"></a>\n",
    "## Implementation Inheritance vs Interface Inheritance"
   ]
  },
  {
   "cell_type": "markdown",
   "id": "0571a1f4-97be-478b-95a2-8ed0d85ab29b",
   "metadata": {},
   "source": [
    "When you derive one class from another, the derived class inherits both:\n",
    "\n",
    "1. **The base class interface**: The derived class inherits all the methods, properties, and attributes of the base class.\n",
    "2. **The base class implementation**: The derived class inherits the code that implements the class interface."
   ]
  },
  {
   "cell_type": "markdown",
   "id": "virgin-stations",
   "metadata": {},
   "source": [
    "Most of the time, you’ll want to inherit the implementation of a class, but you will want to implement multiple interfaces, so your objects can be used in different situations. Modern programming languages are designed with this basic concept in mind. They allow you to inherit from a single class, but you can implement multiple interfaces."
   ]
  },
  {
   "cell_type": "markdown",
   "id": "chinese-designation",
   "metadata": {},
   "source": [
    "In Python, you don’t have to explicitly declare an interface. Any object that implements the desired interface can be used in place of another object. This is known as [duck typing](https://realpython.com/python-type-checking/#duck-typing). Duck typing is usually explained as “if it behaves like a duck, then it’s a duck.”"
   ]
  },
  {
   "cell_type": "code",
   "execution_count": 2,
   "id": "incorporate-coupon",
   "metadata": {},
   "outputs": [],
   "source": [
    "from abc import ABC, abstractmethod\n",
    "\n",
    "class Shape(ABC):\n",
    "    shape_id = 0\n",
    "    \n",
    "    def __init__(self, color='Black'):\n",
    "        print(\"Shape constructor called!\")\n",
    "        self.color = color\n",
    "        \n",
    "    def __str__(self, ):\n",
    "        return f\"Shape is {self.color}\"\n",
    "    \n",
    "    @abstractmethod\n",
    "    def area(self):\n",
    "        pass\n",
    "    \n",
    "    @abstractmethod\n",
    "    def perimeter(self):\n",
    "        pass"
   ]
  },
  {
   "cell_type": "code",
   "execution_count": 3,
   "id": "virtual-margin",
   "metadata": {},
   "outputs": [],
   "source": [
    "class Rectangle(Shape):\n",
    "    def __init__(self, width, height, color='Black'):\n",
    "        # You can also type `super(Rectangle, self)`\n",
    "        super().__init__(color)\n",
    "\n",
    "        print(\"Rectangle constructor called!\")\n",
    "        self.width = width\n",
    "        self.height = height\n",
    "        \n",
    "    def area(self):\n",
    "        return self.width * self.height\n",
    "    \n",
    "    def perimeter(self,):\n",
    "        return 2 * self.width + 2 * self.height\n",
    "    \n",
    "    def calculate_areas(self, rectangles_list):\n",
    "        areas = []\n",
    "        for r in rectangles_list:\n",
    "            areas.append()\n",
    "            \n",
    "        return areas\n",
    "            \n",
    "    def __str__(self,):\n",
    "        return f\"Rectangle is {self.color}\""
   ]
  },
  {
   "cell_type": "code",
   "execution_count": 41,
   "id": "shared-nickel",
   "metadata": {},
   "outputs": [
    {
     "name": "stdout",
     "output_type": "stream",
     "text": [
      "Rectangle constructor called!\n"
     ]
    }
   ],
   "source": [
    "r = Rectangle(3, 4)"
   ]
  },
  {
   "cell_type": "markdown",
   "id": "antique-liberty",
   "metadata": {},
   "source": [
    "To illustrate this, you will now add a `Temporary` class to the example above which doesn’t derive from `Shape`:"
   ]
  },
  {
   "cell_type": "code",
   "execution_count": 5,
   "id": "given-hindu",
   "metadata": {},
   "outputs": [],
   "source": [
    "class Temporary:\n",
    "    def __init__(self, width, height):\n",
    "        self.width = width\n",
    "        self.height = height\n",
    "\n",
    "    def area(self):\n",
    "        return 999"
   ]
  },
  {
   "cell_type": "markdown",
   "id": "corrected-parker",
   "metadata": {},
   "source": [
    "The `Temporary` class doesn’t derive from `Shape` or `Rectangle`, but it exposes the same interface required by the `.calculate_areas()`. The `Rectangle.calculate_areas()` requires a list of objects that implement the following interface:\n",
    "\n",
    "- A width property.\n",
    "- A height property.\n",
    "\n",
    "All these requirements are met by the `Temporary` class, so the `Rectangle` can still calculate its area."
   ]
  },
  {
   "cell_type": "code",
   "execution_count": 6,
   "id": "referenced-river",
   "metadata": {},
   "outputs": [
    {
     "data": {
      "text/plain": [
       "12"
      ]
     },
     "execution_count": 6,
     "metadata": {},
     "output_type": "execute_result"
    }
   ],
   "source": [
    "Rectangle.area(Temporary(3, 4))"
   ]
  },
  {
   "cell_type": "code",
   "execution_count": 7,
   "id": "medium-decision",
   "metadata": {},
   "outputs": [
    {
     "name": "stdout",
     "output_type": "stream",
     "text": [
      "Shape constructor called!\n",
      "Rectangle constructor called!\n"
     ]
    },
    {
     "data": {
      "text/plain": [
       "12"
      ]
     },
     "execution_count": 7,
     "metadata": {},
     "output_type": "execute_result"
    }
   ],
   "source": [
    "Rectangle.area(Rectangle(3, 4))"
   ]
  },
  {
   "cell_type": "markdown",
   "id": "3439c9a6-3a65-459a-b37f-5eac0064a026",
   "metadata": {},
   "source": [
    "As you can see, the `Rectangle` can still process the new object of `Temporary` class because it meets the desired interface (having width and height)."
   ]
  },
  {
   "cell_type": "markdown",
   "id": "optimum-scottish",
   "metadata": {},
   "source": [
    "Since you don’t have to derive from a specific class for your objects to be reusable by the program, you may be asking why you should use inheritance instead of just implementing the desired interface. The following rules may help you:\n",
    "\n",
    "- **Use inheritance to reuse an implementation**: Your derived classes should leverage most of their base class implementation. They must also model an **is a** relationship. A `Temporary` class might also have a width and a height, but a `Temporary` **is not** a `Shape`, so you should not use inheritance.\n",
    "\n",
    "- **Implement an interface to be reused**: When you want your class to be reused by a specific part of your application, you implement the required interface in your class, but you don’t need to provide a base class, or inherit from another class."
   ]
  },
  {
   "cell_type": "markdown",
   "id": "0414e86d-f291-4bc7-bd42-d0574ed571aa",
   "metadata": {},
   "source": [
    "<a class=\"anchor\" id=\"class-explosion\"></a>\n",
    "## The Class Explosion Problem"
   ]
  },
  {
   "cell_type": "markdown",
   "id": "0d90a1cd-a3b0-4f99-980a-033f61e2f72e",
   "metadata": {},
   "source": [
    "If you are not careful, inheritance can lead you to a huge hierarchical structure of classes that is hard to understand and maintain. This is known as the **class explosion problem**."
   ]
  },
  {
   "cell_type": "markdown",
   "id": "de976899-5398-46ff-9401-92c1173ecfd5",
   "metadata": {},
   "source": [
    "<img src=\"./images/class-explosion.webp\" width=\"500\"/>"
   ]
  },
  {
   "cell_type": "markdown",
   "id": "3fdb027f-05cb-42d1-8fd4-2b01db43435e",
   "metadata": {},
   "source": [
    "The diagram shows how the class hierarchy is growing. Additional requirements might have an exponential effect in the number of classes with this design."
   ]
  },
  {
   "cell_type": "markdown",
   "id": "0b53a5aa-d1c3-4c59-8ec4-44783994a2af",
   "metadata": {},
   "source": [
    "<a class=\"anchor\" id=\"composition\"></a>\n",
    "## Composition"
   ]
  },
  {
   "cell_type": "markdown",
   "id": "1b0da0b2-cddd-4c5e-b3fb-31fbf953d928",
   "metadata": {},
   "source": [
    "**Composition**is an object oriented design concept that models a **has a** relationship. In composition, a class known as **composite** contains an object of another class known to as **component**. In other words, a composite class **has a** component of another class.\n",
    "\n",
    "Composition allows composite classes to reuse the implementation of the components it contains. The composite class doesn’t inherit the component class interface, but it can leverage its implementation."
   ]
  },
  {
   "cell_type": "markdown",
   "id": "technical-jason",
   "metadata": {},
   "source": [
    "The composition relation between two classes is considered **loosely coupled**. That means that changes to the component class rarely affect the composite class, and changes to the composite class never affect the component class. This provides better adaptability to change and allows applications to introduce new requirements without affecting existing code. When looking at two competing software designs, one based on inheritance and another based on composition, the composition solution usually is the most flexible. You can now look at how composition works."
   ]
  },
  {
   "cell_type": "markdown",
   "id": "c90ad1f7-806c-445e-9ed6-2a7ca35c4e79",
   "metadata": {},
   "source": [
    "We’ve already used composition in our examples. If you look at the Shape class, you’ll see that it contains `color` attribute which is of string type. We can make the color more complex and define a class for it that contains hex code, rgb, etc."
   ]
  },
  {
   "cell_type": "code",
   "execution_count": 25,
   "id": "aware-pride",
   "metadata": {},
   "outputs": [],
   "source": [
    "class Color:\n",
    "    def __init__(self, name, hex, rgb):\n",
    "        self.name = name\n",
    "        self.hex = hex\n",
    "        self.rgb = rgb\n",
    "        \n",
    "    def __str__(self):\n",
    "        return f\"{self.name} - HEX({self.hex}) - RGB{self.rgb}\""
   ]
  },
  {
   "cell_type": "code",
   "execution_count": 26,
   "id": "premium-evaluation",
   "metadata": {},
   "outputs": [],
   "source": [
    "red_color = Color(\"Red\", \"D33817\", (211, 56, 23))"
   ]
  },
  {
   "cell_type": "markdown",
   "id": "through-express",
   "metadata": {},
   "source": [
    "We implemented `__str__()` to provide a pretty representation of an Address. When you `print()` the address variable, the special method `__str__()` is invoked. Since you overloaded the method to return a string formatted as an address, you get a nice, readable representation:"
   ]
  },
  {
   "cell_type": "code",
   "execution_count": 27,
   "id": "southeast-radical",
   "metadata": {},
   "outputs": [
    {
     "name": "stdout",
     "output_type": "stream",
     "text": [
      "Red - HEX(D33817) - RGB(211, 56, 23)\n"
     ]
    }
   ],
   "source": [
    "print(red_color)"
   ]
  },
  {
   "cell_type": "markdown",
   "id": "ordinary-jurisdiction",
   "metadata": {},
   "source": [
    "You can now add the `Color` to the `Rectangle` class through composition:"
   ]
  },
  {
   "cell_type": "code",
   "execution_count": 28,
   "id": "annual-radiation",
   "metadata": {},
   "outputs": [
    {
     "name": "stdout",
     "output_type": "stream",
     "text": [
      "Shape constructor called!\n",
      "Rectangle constructor called!\n"
     ]
    }
   ],
   "source": [
    "r = Rectangle(3, 4, color=Color(\"Red\", \"D33817\", (211, 56, 23)))"
   ]
  },
  {
   "cell_type": "code",
   "execution_count": 29,
   "id": "attended-gathering",
   "metadata": {},
   "outputs": [
    {
     "name": "stdout",
     "output_type": "stream",
     "text": [
      "Red - HEX(D33817) - RGB(211, 56, 23)\n"
     ]
    }
   ],
   "source": [
    "print(r.color)"
   ]
  },
  {
   "cell_type": "markdown",
   "id": "first-level",
   "metadata": {},
   "source": [
    "Composition is a loosely coupled relationship that often doesn’t require the composite class to have knowledge of the component."
   ]
  },
  {
   "cell_type": "markdown",
   "id": "medieval-renewal",
   "metadata": {},
   "source": [
    "The `Rectangle` class leverages the implementation of the `Color` class without any knowledge of what an `Color` object is or how it’s represented. This type of design is so flexible that you can change the `Color` class without any impact to the `Rectangle` class."
   ]
  },
  {
   "cell_type": "markdown",
   "id": "50888571-4e3e-4bf0-a993-10b92d047d99",
   "metadata": {},
   "source": [
    "<img src=\"./images/color-shape-uml.svg\" width=\"200\"/>"
   ]
  },
  {
   "cell_type": "markdown",
   "id": "intellectual-granny",
   "metadata": {},
   "source": [
    "<a class=\"anchor\" id=\"flexible_designs_with_composition\"></a>\n",
    "## Flexible Designs With Composition\n",
    "\n",
    "Composition is more flexible than inheritance because it models a loosely coupled relationship. Changes to a component class have minimal or no effects on the composite class. Designs based on composition are more suitable to change.\n",
    "\n",
    "You change behavior by providing new components that implement those behaviors instead of adding new classes to your hierarchy."
   ]
  },
  {
   "cell_type": "markdown",
   "id": "595f51b1-86a9-4b18-aa36-9d7fcb8630b5",
   "metadata": {},
   "source": [
    "<a class=\"anchor\" id=\"choosing_between_inheritance_and_composition_in_python\"></a>\n",
    "## Choosing Between Inheritance and Composition in Python"
   ]
  },
  {
   "cell_type": "markdown",
   "id": "38b476cd-1750-4438-b865-ed75b616515b",
   "metadata": {},
   "source": [
    "So far, you’ve seen how inheritance and composition work in Python. You’ve seen that derived classes inherit the interface and implementation of their base classes. You’ve also seen that composition allows you to reuse the implementation of another class."
   ]
  },
  {
   "cell_type": "markdown",
   "id": "517ff153-adcb-46d2-9036-a03c91fbe5bf",
   "metadata": {},
   "source": [
    "You’ve also seen that **Python’s duck typing** allows you to reuse objects with existing parts of a program by implementing the desired interface. In Python, it isn’t necessary to derive from a base class for your classes to be reused."
   ]
  },
  {
   "cell_type": "markdown",
   "id": "6fbbebf7-df3a-4af9-8afe-c461b4f50e66",
   "metadata": {},
   "source": [
    "At this point, you might be asking when to use inheritance vs composition in Python. They both enable code reuse. Inheritance and composition can tackle similar problems in your Python programs."
   ]
  },
  {
   "cell_type": "markdown",
   "id": "541b7865-04af-4ad5-9b54-9d3007b33f28",
   "metadata": {},
   "source": [
    "The general advice is to **use the relationship that creates fewer dependencies** between two classes. This relation is composition. Still, there will be times where inheritance will make more sense."
   ]
  },
  {
   "cell_type": "markdown",
   "id": "5b335a40-2a82-4016-9f93-e2253642ccdd",
   "metadata": {},
   "source": [
    "The following sections provide some guidelines to help you make the right choice between inheritance and composition in Python."
   ]
  },
  {
   "cell_type": "markdown",
   "id": "96cac4c9-45ed-4dd6-9a76-e1fb4be8bdf8",
   "metadata": {},
   "source": [
    "<a class=\"anchor\" id=\"inheritance-model-is-a\"></a>\n",
    "### Inheritance to Model **\"Is A\"** Relationship"
   ]
  },
  {
   "cell_type": "markdown",
   "id": "001b51b3-454a-439b-a6cc-03149fb34add",
   "metadata": {},
   "source": [
    "Inheritance should only be used to model an **is a** relationship. Liskov’s substitution principle says that an object of type Derived, which inherits from Base, can replace an object of type Base without altering the desirable properties of a program."
   ]
  },
  {
   "cell_type": "markdown",
   "id": "0aa8bcbf-7671-41b2-8afe-67bfb1e20f5c",
   "metadata": {},
   "source": [
    "Liskov’s substitution principle is the most important guideline to determine if inheritance is the appropriate design solution. Still, the answer might not be straightforward in all situations. Fortunately, there is a simple test you can use to determine if your design follows Liskov’s substitution principle."
   ]
  },
  {
   "cell_type": "markdown",
   "id": "e5b514fb-86b5-40c9-89b5-af5c1e7c408f",
   "metadata": {},
   "source": [
    "Let’s say you have a class A that provides an implementation and interface you want to reuse in another class B. Your initial thought is that you can derive B from A and inherit both the interface and implementation. To be sure this is the right design, you follow theses steps:\n",
    "1. **Evaluate B is an A:** Think about this relationship and justify it. Does it make sense?\n",
    "2. **Evaluate A is a B:** Reverse the relationship and justify it. Does it also make sense?"
   ]
  },
  {
   "cell_type": "markdown",
   "id": "386b16cd-f2de-4df1-9ab8-ae3a193e778a",
   "metadata": {},
   "source": [
    "If you can justify both relationships, then you should never inherit those classes from one another. Let’s look at a more concrete example."
   ]
  },
  {
   "cell_type": "markdown",
   "id": "9d958c77-b45f-43fc-a679-989a1f5e37ca",
   "metadata": {},
   "source": [
    "You have a class `Rectangle` which exposes an .area property. You need a class `Square`, which also has an .area. It seems that a `Square` is a special type of `Rectangle`, so maybe you can derive from it and leverage both the interface and implementation."
   ]
  },
  {
   "cell_type": "markdown",
   "id": "b3fdec09-f983-4b1e-b456-edacd8807fb0",
   "metadata": {},
   "source": [
    "Before you jump into the implementation, you use Liskov’s substitution principle to evaluate the relationship."
   ]
  },
  {
   "cell_type": "markdown",
   "id": "5b3a7579-ecb1-42cd-81ee-6043e54cc23a",
   "metadata": {},
   "source": [
    "A Square **is a** Rectangle because its area is calculated from the product of its `height` times its `length`. The constraint is that `Square.height` and `Square.length` must be equal."
   ]
  },
  {
   "cell_type": "markdown",
   "id": "f47968d6-80c5-494f-855e-9b7ee3b1e71b",
   "metadata": {},
   "source": [
    "It makes sense. You can justify the relationship and explain why a `Square` **is a** `Rectangle`. Let’s reverse the relationship to see if it makes sense."
   ]
  },
  {
   "cell_type": "markdown",
   "id": "94c319b2-ecd8-4063-bf36-797e83dbf296",
   "metadata": {},
   "source": [
    "A `Rectangle` is a `Square` because its area is calculated from the product of its `height` times its `length`. The difference is that `Rectangle.height` and `Rectangle.width` can change independently."
   ]
  },
  {
   "cell_type": "markdown",
   "id": "8227010e-2a46-4854-8ab7-7789b1f1b054",
   "metadata": {},
   "source": [
    "It also makes sense. You can justify the relationship and describe the special constraints for each class. This is a good sign that these two classes should never derive from each other."
   ]
  },
  {
   "cell_type": "markdown",
   "id": "f9cc0091-0161-4edc-9238-07fc27693668",
   "metadata": {},
   "source": [
    "You might have seen other examples that derive `Square` from `Rectangle` to explain inheritance. You might be skeptical with the little test you just did. Fair enough. Let’s write a program that illustrates the problem with deriving `Square` from `Rectangle`."
   ]
  },
  {
   "cell_type": "code",
   "execution_count": 38,
   "id": "8a4b0702-9197-4ccb-b59e-fa434c71ee7e",
   "metadata": {},
   "outputs": [],
   "source": [
    "class Rectangle:\n",
    "    def __init__(self, length, height):\n",
    "        self._length = length\n",
    "        self._height = height\n",
    "\n",
    "    @property\n",
    "    def area(self):\n",
    "        return self._length * self._height"
   ]
  },
  {
   "cell_type": "markdown",
   "id": "0cb88c4f-d08a-4108-9f5d-0b30dbefac7a",
   "metadata": {},
   "source": [
    "The Rectangle class is initialized with a `length` and a `height`, and it provides an `.area` property that returns the area."
   ]
  },
  {
   "cell_type": "code",
   "execution_count": 39,
   "id": "1a87666d-e888-4286-8c45-beae191a6508",
   "metadata": {},
   "outputs": [],
   "source": [
    "class Square(Rectangle):\n",
    "    def __init__(self, side_size):\n",
    "        super().__init__(side_size, side_size)"
   ]
  },
  {
   "cell_type": "markdown",
   "id": "d90e5c5f-d9b6-4afb-8bac-85e9b3f456e3",
   "metadata": {},
   "source": [
    "The `Square` class is initialized with a `side_size`, which is used to initialize both components of the base class. Now, you write a small program to test the behavior:"
   ]
  },
  {
   "cell_type": "code",
   "execution_count": 40,
   "id": "1b66968b-7a06-42d9-ba08-c8fcf0d60715",
   "metadata": {},
   "outputs": [],
   "source": [
    "rectangle = Rectangle(2, 4)\n",
    "assert rectangle.area == 8"
   ]
  },
  {
   "cell_type": "code",
   "execution_count": 41,
   "id": "8eaf32f0-f906-4314-99a4-5ebf8d2f5a64",
   "metadata": {},
   "outputs": [],
   "source": [
    "square = Square(2)\n",
    "assert square.area == 4"
   ]
  },
  {
   "cell_type": "markdown",
   "id": "94c4b364-5163-49f2-8540-caef6d77d8df",
   "metadata": {},
   "source": [
    "The program creates a `Rectangle` and a `Square` and asserts that their `.area` is calculated correctly. You can run the program and see that everything is OK so far."
   ]
  },
  {
   "cell_type": "markdown",
   "id": "98bcc910-0c20-446c-b596-1397652bd805",
   "metadata": {},
   "source": [
    "The program executes correctly, so it seems that `Square` is just a special case of a `Rectangle`."
   ]
  },
  {
   "cell_type": "markdown",
   "id": "6d0510b0-ce3b-4e5f-b3c0-766b7fb97393",
   "metadata": {},
   "source": [
    "Later on, you need to support resizing `Rectangle` objects, so you make the appropriate changes to the class:"
   ]
  },
  {
   "cell_type": "code",
   "execution_count": 42,
   "id": "fd735c2f-1a6a-4e2e-8fbb-f09f864f53ab",
   "metadata": {},
   "outputs": [],
   "source": [
    "class Rectangle:\n",
    "    def __init__(self, length, height):\n",
    "        self._length = length\n",
    "        self._height = height\n",
    "\n",
    "    @property\n",
    "    def area(self):\n",
    "        return self._length * self._height\n",
    "\n",
    "    def resize(self, new_length, new_height):\n",
    "        self._length = new_length\n",
    "        self._height = new_height"
   ]
  },
  {
   "cell_type": "markdown",
   "id": "a20b01db-5418-48b9-a0d9-88e2b5e57150",
   "metadata": {},
   "source": [
    "`.resize()` takes the `new_length` and `new_width` for the object. You can add the following code to the program to verify that it works correctly:"
   ]
  },
  {
   "cell_type": "code",
   "execution_count": 46,
   "id": "93e0958d-362e-4792-a492-9f66cb9c19b2",
   "metadata": {},
   "outputs": [],
   "source": [
    "rectangle.resize(3, 5)\n",
    "assert rectangle.area == 15"
   ]
  },
  {
   "cell_type": "markdown",
   "id": "c47f8438-23ec-42aa-aff0-4fafe187e06a",
   "metadata": {},
   "source": [
    "You resize the rectangle object and assert that the new area is correct. You can run the program to verify the behavior."
   ]
  },
  {
   "cell_type": "markdown",
   "id": "fc532058-29ab-45c1-bab3-e3273dda2b9e",
   "metadata": {},
   "source": [
    "So, what happens if you resize a `square`? Modify the program, and try to modify the square object."
   ]
  },
  {
   "cell_type": "code",
   "execution_count": 51,
   "id": "e98407b8-5071-4d3d-9d7c-2b20738e35b8",
   "metadata": {},
   "outputs": [],
   "source": [
    "square.resize(3, 5)"
   ]
  },
  {
   "cell_type": "markdown",
   "id": "3175b5f1-8abb-4337-9cd3-f3d52b79d09f",
   "metadata": {},
   "source": [
    "You pass the same parameters to `square.resize()` that you used with `rectangle`, and print the `area`. When you run the program you see:"
   ]
  },
  {
   "cell_type": "code",
   "execution_count": 52,
   "id": "87893119-1dfa-4ad6-8e70-38d6940596df",
   "metadata": {},
   "outputs": [
    {
     "name": "stdout",
     "output_type": "stream",
     "text": [
      "Square area: 15\n"
     ]
    }
   ],
   "source": [
    "print(f'Square area: {square.area}')"
   ]
  },
  {
   "cell_type": "markdown",
   "id": "9b135f12-046c-4ed6-a39b-07e92ed1ab84",
   "metadata": {},
   "source": [
    "The program shows that the new area is 15 like the `rectangle` object. The problem now is that the `square` object no longer meets the `Square` class constraint that the `length` and `height` must be equal."
   ]
  },
  {
   "cell_type": "markdown",
   "id": "3cd6c9b8-f22d-484c-af62-1e801cc735e9",
   "metadata": {},
   "source": [
    "How can you fix that problem? You can try several approaches, but all of them will be awkward. You can override `.resize()` in square and ignore the height parameter, but that will be confusing for people looking at other parts of the program where rectangles are being resized and some of them are not getting the expected areas because they are really squares."
   ]
  },
  {
   "cell_type": "markdown",
   "id": "8eeece10-6921-47fa-a379-b56b75e439c1",
   "metadata": {},
   "source": [
    "In a small program like this one, it might be easy to spot the causes of the weird behavior, but in a more complex program, the problem will be harder to find."
   ]
  },
  {
   "cell_type": "markdown",
   "id": "5701a77c-c775-4090-836d-a06e56198219",
   "metadata": {},
   "source": [
    "The reality is that if you’re able to justify an inheritance relationship between two classes both ways, you should not derive one class from another."
   ]
  },
  {
   "cell_type": "markdown",
   "id": "31fd821b-48c0-4e00-871f-021dd6921e52",
   "metadata": {},
   "source": [
    "In the example, it doesn’t make sense that Square inherits the interface and implementation of `.resize()` from `Rectangle`. That doesn’t mean that `Square` objects can’t be resized. It means that the interface is different because it only needs a `side_size` parameter."
   ]
  },
  {
   "cell_type": "markdown",
   "id": "242b8f3a-782e-421a-99dd-248535f0d82d",
   "metadata": {},
   "source": [
    "This difference in interface justifies not deriving `Square` from `Rectangle` like the test above advised."
   ]
  },
  {
   "cell_type": "markdown",
   "id": "b6f5585e-745e-42f9-a4e1-b36442decd9d",
   "metadata": {},
   "source": [
    "<a class=\"anchor\" id=\"composition-model-has-a\"></a>\n",
    "\n",
    "### Composition to Model **\"Has A\"** Relationship"
   ]
  },
  {
   "cell_type": "markdown",
   "id": "f243caa2-4baa-4c25-8d76-0458a58216b7",
   "metadata": {},
   "source": [
    "Composition models a **has a** relationship. With composition, a class `Composite` **has an** instance of class `Component` and can leverage its implementation. The Component class can be reused in other classes completely unrelated to the Composite."
   ]
  },
  {
   "cell_type": "markdown",
   "id": "f3adba98-935f-4410-90a9-319a0a369659",
   "metadata": {},
   "source": [
    "A problem you may run into when using composition is that some of your classes may start growing by using multiple components. Your classes may require multiple parameters in the constructor just to pass in the components they are made of. This can make your classes hard to use."
   ]
  },
  {
   "cell_type": "markdown",
   "id": "3c954806-3ebc-4b6d-b2e4-5a842c68cde1",
   "metadata": {},
   "source": [
    "A way to avoid the problem is by using the **Factory Method** to construct your objects. You did that with the composition example. We will cover this later."
   ]
  },
  {
   "attachments": {},
   "cell_type": "markdown",
   "id": "e3148744-b03c-4623-acbd-606767c48292",
   "metadata": {},
   "source": [
    "<a class=\"anchor\" id=\"conclusion\"></a>\n",
    "\n",
    "## <img src=\"../../images/logos/checkmark.png\" width=\"20\"/> Conclusion "
   ]
  },
  {
   "cell_type": "markdown",
   "id": "a95d62d8-3688-4fa0-b4e4-32470e35de20",
   "metadata": {},
   "source": [
    "Python, as an object oriented programming language, supports both inheritance and composition. You saw that inheritance is best used to model an **is a** relationship, whereas composition models a **has a** relationship.\n",
    "\n",
    "Sometimes, it’s hard to see what the relationship between two classes should be, but you can follow these guidelines:\n",
    "\n",
    "- **Use inheritance over composition in Python** to model a clear **is a** relationship. First, justify the relationship between the derived class and its base. Then, reverse the relationship and try to justify it. If you can justify the relationship in both directions, then you should not use inheritance between them.\n",
    "\n",
    "- **Use inheritance over composition in Python** to leverage both the interface and implementation of the base class.\n",
    "\n",
    "- **Use composition over inheritance in Python** to model a **has a** relationship that leverages the implementation of the component class.\n",
    "\n",
    "- **Use composition over inheritance in Python** to create components that can be reused by multiple classes in your Python applications.\n",
    "\n",
    "- **Use composition over inheritance in Python** to implement groups of behaviors and policies that can be applied interchangeably to other classes to customize their behavior.\n",
    "\n",
    "- **Use composition over inheritance in Python** to enable run-time behavior changes without affecting existing classes."
   ]
  }
 ],
 "metadata": {
  "kernelspec": {
   "display_name": "Python 3",
   "language": "python",
   "name": "python3"
  },
  "language_info": {
   "codemirror_mode": {
    "name": "ipython",
    "version": 3
   },
   "file_extension": ".py",
   "mimetype": "text/x-python",
   "name": "python",
   "nbconvert_exporter": "python",
   "pygments_lexer": "ipython3",
   "version": "3.8.11"
  }
 },
 "nbformat": 4,
 "nbformat_minor": 5
}
