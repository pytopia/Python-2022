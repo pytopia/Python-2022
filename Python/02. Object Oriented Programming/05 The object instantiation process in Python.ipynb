{
 "cells": [
  {
   "cell_type": "markdown",
   "id": "5d4fc5fd-1a7d-43ff-9e8c-457fcc3c0f03",
   "metadata": {},
   "source": [
    "<img src=\"../../images/banners/python-oop.png\" width=\"600\"/>"
   ]
  },
  {
   "cell_type": "markdown",
   "id": "9ea398b3-0528-4f13-9f38-dd688f171324",
   "metadata": {},
   "source": [
    "# <img src=\"../../images/logos/python.png\" width=\"23\"/> Object Creation and Initialization Process in Python"
   ]
  },
  {
   "cell_type": "markdown",
   "id": "8fb014c0-98b7-4e31-b01b-3e1beb0ecd9d",
   "metadata": {
    "tags": []
   },
   "source": [
    "## <img src=\"../../images/logos/toc.png\" width=\"20\"/> Table of Contents \n",
    "* [The `__new__` method](#new-method)\n",
    "* [The `__init__` method](#init-method)\n",
    "* [The `__call__` method](#call-method)\n",
    "* [Conclusion](#conclusion)\n",
    "\n",
    "---"
   ]
  },
  {
   "cell_type": "markdown",
   "id": "c9a3807d-8876-4373-a323-e6eca7a704fa",
   "metadata": {},
   "source": [
    "With a basic understanding of the Metaclass and objects in Python, let's now understand the object creation and initialization process in Python. Consider the `Human` class, as defined below:"
   ]
  },
  {
   "cell_type": "code",
   "execution_count": 18,
   "id": "9c88f3e7-dd98-4973-b9fd-f2afe79ac240",
   "metadata": {},
   "outputs": [],
   "source": [
    "class Human:\n",
    "    def __init__(self, first_name, last_name):\n",
    "        self.first_name = first_name\n",
    "        self.last_name = last_name"
   ]
  },
  {
   "cell_type": "code",
   "execution_count": 19,
   "id": "21a9081c-2067-42ed-80ca-bb2a6e469660",
   "metadata": {},
   "outputs": [],
   "source": [
    "human_obj = Human(\"Kian\", \"Pirfalak\")"
   ]
  },
  {
   "cell_type": "code",
   "execution_count": 20,
   "id": "e01fad09-65a3-4c31-bca6-5c78352e3659",
   "metadata": {},
   "outputs": [
    {
     "data": {
      "text/plain": [
       "True"
      ]
     },
     "execution_count": 20,
     "metadata": {},
     "output_type": "execute_result"
    }
   ],
   "source": [
    "isinstance(human_obj, Human)"
   ]
  },
  {
   "cell_type": "code",
   "execution_count": 21,
   "id": "19028002-5bf8-472b-b08b-a825135421b3",
   "metadata": {},
   "outputs": [
    {
     "data": {
      "text/plain": [
       "True"
      ]
     },
     "execution_count": 21,
     "metadata": {},
     "output_type": "execute_result"
    }
   ],
   "source": [
    "isinstance(human_obj, object)"
   ]
  },
  {
   "cell_type": "markdown",
   "id": "2cf63807-98df-4e64-b52a-04784f344a4c",
   "metadata": {},
   "source": [
    "The output of the above code shows that `human_obj` is an instance of class `Human` with the `first_name` as Kian and the `last_name` as Pirfalak. If we look at the above code closely, it's natural to have some questions:\n",
    "\n",
    "1. Per the definition of the `Human` class, we don't return anything from the `__init__` method; how does calling the `Human` class return the `human_obj`?\n",
    "2. We know that the `__init__` method is used for initializing the object, but how does the `__init__` method get self?"
   ]
  },
  {
   "cell_type": "markdown",
   "id": "af97af65-d516-4593-a0b6-8cf7b8a6df20",
   "metadata": {},
   "source": [
    "In this section, we will discuss each of these questions in detail and answer them."
   ]
  },
  {
   "cell_type": "markdown",
   "id": "b00a6591-b234-4615-8116-fc641e1af995",
   "metadata": {},
   "source": [
    "**Object creation in Python is a two-step process**. In the first step, Python creates the object, and in the second step, it initializes the object. Most of the time, we are only interested in the second step (i.e., the initialization step). Python uses the `__new__` method in the first step (i.e., object creation) and uses the `__init__` method in the second step (i.e., initialization)."
   ]
  },
  {
   "cell_type": "markdown",
   "id": "de38c208-dde3-4d41-8eab-4badfa16ea66",
   "metadata": {},
   "source": [
    "If the class does not define these methods, they are inherited from the object base class. As the `Human` class does not define the `__new__` method, during the object instantiation process, the `__new__` method of the object's class is called, while for initialization, the `__init__` method of the Human class is called. Next, we'll cover each of these methods in detail."
   ]
  },
  {
   "cell_type": "markdown",
   "id": "7d3d98e5-2868-40f2-93c5-b89e383eeb59",
   "metadata": {},
   "source": [
    "<a class=\"anchor\" id=\"new-method\"></a>\n",
    "## The `__new__` method"
   ]
  },
  {
   "cell_type": "markdown",
   "id": "59af22b1-da6f-4dd3-858d-c040685c15d4",
   "metadata": {},
   "source": [
    "The __new__ method is the first step in the object instantiation process. It is a static method (we will cover static methods in detail later, but you can think of it as a method that doesn't receive `self` in arguments) on the object class and accepts `cls` or the class reference as the first parameter. The remaining arguments (Kian and Pirfalak) are passed while calling the class - `Human('Kian', 'Pirfalak')`. The `__new__` method creates an instance of type `cls` (i.e., it allocates memory for the object by invoking the superclass' i.e. object class' `__new__` method using `super().__new__(cls))`. It then returns the instance of type `cls`."
   ]
  },
  {
   "cell_type": "markdown",
   "id": "5bbba915-7679-4ce1-a3c8-368cca8bdc35",
   "metadata": {},
   "source": [
    "Usually, it does not do any initialization, as that is the job of the `__init_`_ method. However, when you override the `__new__` method, you can also use it to initialize the object or modify it as required before returning it."
   ]
  },
  {
   "cell_type": "markdown",
   "id": "c07875a8-a9a5-41ef-bf5e-87574b795b12",
   "metadata": {},
   "source": [
    "`__new__` method signature:\n",
    "\n",
    "```python\n",
    "# cls - is the mandatory argument. Object returned by the __new__ method is of type cls\n",
    "@staticmethod\n",
    "def __new__(cls[,...]):\n",
    "    pass\n",
    "```"
   ]
  },
  {
   "cell_type": "markdown",
   "id": "416ac99b-bd20-4874-a86d-9fd2da331dc6",
   "metadata": {},
   "source": [
    "We can modify the object creation process by overriding the `__new__` method of the object class. Consider the example below:"
   ]
  },
  {
   "cell_type": "code",
   "execution_count": 24,
   "id": "7b4b8ec5-8b1b-4c52-be8d-bbee2e8317d9",
   "metadata": {},
   "outputs": [],
   "source": [
    "class Human:\n",
    "    def __new__(cls, first_name=None):\n",
    "        # cls = Human. cls is the class using which the object will be created.\n",
    "        # Created object will be of type cls.\n",
    "        # We must call the object class' __new__ to allocate memory\n",
    "        obj = super().__new__(cls) # This is equivalent to object.__new__(cls)\n",
    "\n",
    "        # Modify the object created\n",
    "        if first_name:\n",
    "            obj.name = first_name\n",
    "        else:\n",
    "            obj.name = \"Kian\"\n",
    "\n",
    "        print(type(obj)) # Prints: <__main__.Human object at 0x103665668>\n",
    "        # likely with a different memory location on your machine\n",
    "\n",
    "        # return the object\n",
    "        return obj"
   ]
  },
  {
   "cell_type": "code",
   "execution_count": 25,
   "id": "a7985e26-3e31-4fcf-be2f-29a07c8c67ec",
   "metadata": {},
   "outputs": [
    {
     "name": "stdout",
     "output_type": "stream",
     "text": [
      "<class '__main__.Human'>\n"
     ]
    },
    {
     "data": {
      "text/plain": [
       "'Kian'"
      ]
     },
     "execution_count": 25,
     "metadata": {},
     "output_type": "execute_result"
    }
   ],
   "source": [
    "# Create an object\n",
    "# __init__ method of `object` class will be called.\n",
    "k = Human()\n",
    "\n",
    "k.name"
   ]
  },
  {
   "cell_type": "code",
   "execution_count": 26,
   "id": "c2c908c4-b280-4949-9b3f-94630cb32b95",
   "metadata": {},
   "outputs": [
    {
     "name": "stdout",
     "output_type": "stream",
     "text": [
      "<class '__main__.Human'>\n"
     ]
    },
    {
     "data": {
      "text/plain": [
       "'Mahsa'"
      ]
     },
     "execution_count": 26,
     "metadata": {},
     "output_type": "execute_result"
    }
   ],
   "source": [
    "m = Human(\"Mahsa\")\n",
    "m.name"
   ]
  },
  {
   "cell_type": "markdown",
   "id": "f7d53160-60df-424a-8de6-9ba9c69a912d",
   "metadata": {},
   "source": [
    "In the above example, we have overridden the `__new__` method of the object class. It accepts the first arguments as `cls` - a class reference to the `Human` class."
   ]
  },
  {
   "cell_type": "markdown",
   "id": "d5f0eb5c-eebf-41d5-aa47-7021e84ce21e",
   "metadata": {},
   "source": [
    "> If you know `staticmethods` already, note that the `__new__` method is a special case in Python. Although it's a static method of the object class, on overriding it, we do not have to decorate it with the `staticmethod` decorator"
   ]
  },
  {
   "cell_type": "markdown",
   "id": "b814d241-8736-417a-aefe-90985c3e35b6",
   "metadata": {},
   "source": [
    "Inside the `__new__` method of the `Human` class, we are first calling the `__new__` method of the object class using `super().__new__(cls)`. The object class `__new__` method creates and returns the instance of the class, which is passed as an argument to the `__new__` method. Here, as we are passing `cls` (i.e., the `Human` class reference); the object's `__new__` method will return an instance of type `Human`."
   ]
  },
  {
   "cell_type": "markdown",
   "id": "7150b41a-fc3a-4886-9940-909100d5d58f",
   "metadata": {},
   "source": [
    "> We must call the object class `__new__` method inside the overridden `__new__` method to create the object and allocate memory to the object."
   ]
  },
  {
   "cell_type": "markdown",
   "id": "bb766553-a03b-4dad-96ad-c9003f00e673",
   "metadata": {},
   "source": [
    "> The `__new__` method of the `Human` class modifies the `obj` returned from the `__new__` method of the object class and adds the `name` property to it. Thus, all objects created using the `Human` class will have a name property. Voila! We have modified the object instantiation process of the `Human` class."
   ]
  },
  {
   "cell_type": "markdown",
   "id": "abe64550-f7f1-4cf8-ab39-47d54dcfaacf",
   "metadata": {},
   "source": [
    "Let's consider another example. In this example, we are creating a new class called `Animal` and overriding the `__new__` method. Here, when we are calling the `__new__` method of the object class from the `__new__` method of the `Animal` class, instead of passing the `Animal` class reference as an argument to the `__new__` method of the object class, we are passing the `Human` class reference. Hence, the object returned from the `__new__` method of the object class will be of type `Human` and not `Animal`. As a result, the object returned from calling the `Animal` class (i.e., `Animal()`) will be of type `Human`."
   ]
  },
  {
   "cell_type": "code",
   "execution_count": 27,
   "id": "4e0c3cb4-d32e-4703-a974-d96d796b1153",
   "metadata": {},
   "outputs": [],
   "source": [
    "class Animal:\n",
    "    def __new__(cls):\n",
    "        # Passing Human class reference instead of Animal class reference\n",
    "        obj = super().__new__(Human) # This is equivalent to object.__new__(Human)\n",
    "\n",
    "        print(f\"Type of obj: {type(obj)}\") # Prints: Type of obj: <class '__main__.Human'>\n",
    "\n",
    "        # return the object\n",
    "        return obj"
   ]
  },
  {
   "cell_type": "code",
   "execution_count": 30,
   "id": "b224e49f-9822-4ed4-a2bb-36c3d5a5bc27",
   "metadata": {},
   "outputs": [
    {
     "name": "stdout",
     "output_type": "stream",
     "text": [
      "Type of obj: <class '__main__.Human'>\n"
     ]
    }
   ],
   "source": [
    "cat = Animal()"
   ]
  },
  {
   "cell_type": "code",
   "execution_count": 31,
   "id": "d043af3c-511b-4b9c-8fd0-0c3b8714dfad",
   "metadata": {},
   "outputs": [
    {
     "data": {
      "text/plain": [
       "__main__.Human"
      ]
     },
     "execution_count": 31,
     "metadata": {},
     "output_type": "execute_result"
    }
   ],
   "source": [
    "type(cat)"
   ]
  },
  {
   "cell_type": "markdown",
   "id": "fbcd4c5e-dd2f-4d22-bb9a-1862863fc9ed",
   "metadata": {},
   "source": [
    "<a class=\"anchor\" id=\"init-method\"></a>\n",
    "## The `__init__` method"
   ]
  },
  {
   "cell_type": "markdown",
   "id": "38992f51-d706-41a7-9656-45495fb821a3",
   "metadata": {},
   "source": [
    "The `__init__` method is the second step of the object instantiation process in Python. It takes the first argument as an object or instance returned from the `__new__` method. The remaining arguments are the arguments passed while calling the class (`Human(\"Kian\", \"Pirfalak\")`). These arguments are used for initializing the object. The `__init__` method must not return anything. If you try to return anything using the `__init__` method, it will raise an exception, as shown below:"
   ]
  },
  {
   "cell_type": "code",
   "execution_count": 32,
   "id": "aed3b80e-28ed-4c38-9351-2635a140c36a",
   "metadata": {},
   "outputs": [],
   "source": [
    "class Human:\n",
    "    def __init__(self, first_name):\n",
    "        self.first_name = first_name\n",
    "        return self"
   ]
  },
  {
   "cell_type": "code",
   "execution_count": 33,
   "id": "7840af8b-295d-4399-b5f9-549306e2e354",
   "metadata": {},
   "outputs": [
    {
     "ename": "TypeError",
     "evalue": "__init__() should return None, not 'Human'",
     "output_type": "error",
     "traceback": [
      "\u001b[0;31m---------------------------------------------------------------------------\u001b[0m",
      "\u001b[0;31mTypeError\u001b[0m                                 Traceback (most recent call last)",
      "\u001b[0;32m<ipython-input-33-039807789dc0>\u001b[0m in \u001b[0;36m<module>\u001b[0;34m\u001b[0m\n\u001b[0;32m----> 1\u001b[0;31m \u001b[0mhuman_obj\u001b[0m \u001b[0;34m=\u001b[0m \u001b[0mHuman\u001b[0m\u001b[0;34m(\u001b[0m\u001b[0;34m'Kian'\u001b[0m\u001b[0;34m)\u001b[0m\u001b[0;34m\u001b[0m\u001b[0;34m\u001b[0m\u001b[0m\n\u001b[0m",
      "\u001b[0;31mTypeError\u001b[0m: __init__() should return None, not 'Human'"
     ]
    }
   ],
   "source": [
    "human_obj = Human('Kian')"
   ]
  },
  {
   "cell_type": "markdown",
   "id": "a852da08-f45a-4303-a9ff-2ac623a2659a",
   "metadata": {},
   "source": [
    "Consider a simple example to understand both the `__new__` and `__init__` method."
   ]
  },
  {
   "cell_type": "code",
   "execution_count": 34,
   "id": "b299f768-7134-45a6-ad8f-65d4c5f4e4fa",
   "metadata": {},
   "outputs": [],
   "source": [
    "class Human:\n",
    "    def __new__(cls, *args, **kwargs):\n",
    "        # Here, the __new__ method of the object class must be called to create\n",
    "        # and allocate the memory to the object\n",
    "        print(\"Inside new method\")\n",
    "        print(f\"args arguments {args}\")\n",
    "        print(f\"kwargs arguments {kwargs}\")\n",
    "\n",
    "        # The code below calls the __new__ method of the object's class.\n",
    "        # Object class' __new__ method allocates a memory\n",
    "        # for the instance and returns that instance\n",
    "        human_obj = super(Human, cls).__new__(cls)\n",
    "\n",
    "        print(f\"human_obj instance - {human_obj}\")\n",
    "        return human_obj\n",
    "\n",
    "    # As we have overridden the __init__ method, the __init__ method of the object class will not be called\n",
    "    def __init__(self, first_name, last_name):\n",
    "        print(\"Inside __init__ method\")\n",
    "        # self = human_obj returned from the __new__ method\n",
    "\n",
    "        self.first_name = first_name\n",
    "        self.last_name = last_name\n",
    "\n",
    "        print(f\"human_obj instance inside __init__ {self}: {self.first_name}, {self.last_name}\")"
   ]
  },
  {
   "cell_type": "code",
   "execution_count": 35,
   "id": "8c2503d2-d519-4880-8b1d-7ba489c0b891",
   "metadata": {},
   "outputs": [
    {
     "name": "stdout",
     "output_type": "stream",
     "text": [
      "Inside new method\n",
      "args arguments ('Kian', 'Pirfalak')\n",
      "kwargs arguments {}\n",
      "human_obj instance - <__main__.Human object at 0x7faba024b490>\n",
      "Inside __init__ method\n",
      "human_obj instance inside __init__ <__main__.Human object at 0x7faba024b490>: Kian, Pirfalak\n"
     ]
    }
   ],
   "source": [
    "human_obj = Human(\"Kian\", \"Pirfalak\")"
   ]
  },
  {
   "cell_type": "markdown",
   "id": "e9b54fcf-8c35-494b-868d-e4d6b3d5a56a",
   "metadata": {},
   "source": [
    "In the above code, we have overridden both the `__new__` and `__init__` method of the object's class. `__new__` creates the object (`human_obj`) of type `Human` class and returns it. Once the `__new__` method is complete, Python calls the `__init__` method with the `human_obj` object as the first argument. The `__init__` method initializes the `human_obj` with `first_name` as Kian and `last_name` as Pirfalak. As object creation is the first step, and initialization is the second step, the `__new__` method will always be called before the `__init__` method"
   ]
  },
  {
   "cell_type": "markdown",
   "id": "5ed0a338-c15a-4f8d-9003-7c4e47e250fe",
   "metadata": {},
   "source": [
    "Both `__init__` and `__new__` are called magic methods in Python. Magic methods have names that begin and end with `__` (double underscores or \"dunder\"). Magic methods are called implicitly by the Python; you do not have to call them explicitly. For example, both the `__new__` and `__init__` method are called implicitly by Python. Let's cover one more magic method, `__call__`."
   ]
  },
  {
   "cell_type": "markdown",
   "id": "8bf8421e-0c44-4c79-9853-7f1c9024c92d",
   "metadata": {},
   "source": [
    "<a class=\"anchor\" id=\"call-method\"></a>\n",
    "## The `__call__` method"
   ]
  },
  {
   "cell_type": "markdown",
   "id": "d5458dd6-5dbe-417a-9dcb-7f07a1a2ad20",
   "metadata": {},
   "source": [
    "The `__call__` method is a magic method in Python that is used to make the objects callable. Callable objects are objects that can be called. For example, functions are callable objects, as they can be called using the round parenthesis."
   ]
  },
  {
   "cell_type": "markdown",
   "id": "aed4bae9-8942-4004-9211-20bc33ee2dc4",
   "metadata": {},
   "source": [
    "Consider an example to better understand callable objects:"
   ]
  },
  {
   "cell_type": "code",
   "execution_count": 36,
   "id": "2fb9ab06-7eb9-4e76-a07d-08bf12ca34ec",
   "metadata": {},
   "outputs": [
    {
     "name": "stdout",
     "output_type": "stream",
     "text": [
      "I am a callable object\n"
     ]
    }
   ],
   "source": [
    "def print_function():\n",
    "    print(\"I am a callable object\")\n",
    "\n",
    "# print_function is callable as it can be called using round parentheses\n",
    "print_function()"
   ]
  },
  {
   "cell_type": "markdown",
   "id": "3bb694a5-feab-42fd-8cb3-05cf3bb26d48",
   "metadata": {},
   "source": [
    "Let's try to call an integer object. As integer objects are not callable, calling them will raise an exception."
   ]
  },
  {
   "cell_type": "code",
   "execution_count": 37,
   "id": "4f25acb9-9127-464c-b3a6-839efda6c26e",
   "metadata": {},
   "outputs": [],
   "source": [
    "a = 10"
   ]
  },
  {
   "cell_type": "code",
   "execution_count": 38,
   "id": "5c2eb3b4-52f1-40e5-a607-3da9f66183e2",
   "metadata": {},
   "outputs": [
    {
     "ename": "TypeError",
     "evalue": "'int' object is not callable",
     "output_type": "error",
     "traceback": [
      "\u001b[0;31m---------------------------------------------------------------------------\u001b[0m",
      "\u001b[0;31mTypeError\u001b[0m                                 Traceback (most recent call last)",
      "\u001b[0;32m<ipython-input-38-8d7b4527e81d>\u001b[0m in \u001b[0;36m<module>\u001b[0;34m\u001b[0m\n\u001b[0;32m----> 1\u001b[0;31m \u001b[0ma\u001b[0m\u001b[0;34m(\u001b[0m\u001b[0;34m)\u001b[0m\u001b[0;34m\u001b[0m\u001b[0;34m\u001b[0m\u001b[0m\n\u001b[0m",
      "\u001b[0;31mTypeError\u001b[0m: 'int' object is not callable"
     ]
    }
   ],
   "source": [
    "a()"
   ]
  },
  {
   "cell_type": "markdown",
   "id": "737ab35b-c071-4ea3-9c47-e219c2cf2e14",
   "metadata": {},
   "source": [
    "The `callable` function is used to determine whether an object is callable. The `callable` function takes the object reference as an argument and returns `True` if the object appears to be callable or `False` if the object is not callable. If the callable function returns `True`, the object might not be callable; however, if it returns `False`, then the object is certainly not callable."
   ]
  },
  {
   "cell_type": "code",
   "execution_count": 39,
   "id": "859b5371-0ac2-4096-8bfd-8241589aa0d6",
   "metadata": {},
   "outputs": [
    {
     "data": {
      "text/plain": [
       "True"
      ]
     },
     "execution_count": 39,
     "metadata": {},
     "output_type": "execute_result"
    }
   ],
   "source": [
    "# Functions are callable\n",
    "callable(print_function)"
   ]
  },
  {
   "cell_type": "code",
   "execution_count": 40,
   "id": "f43bba04-5150-4a38-8880-4a0925489bd7",
   "metadata": {},
   "outputs": [
    {
     "data": {
      "text/plain": [
       "False"
      ]
     },
     "execution_count": 40,
     "metadata": {},
     "output_type": "execute_result"
    }
   ],
   "source": [
    "# Interger object is not callable\n",
    "callable(a)"
   ]
  },
  {
   "cell_type": "markdown",
   "id": "a6def14a-2d56-4086-9268-735479807477",
   "metadata": {},
   "source": [
    "Let's determine whether the classes in Python are callable. Here, we will determine whether the `Human` class defined earlier is callable."
   ]
  },
  {
   "cell_type": "code",
   "execution_count": 41,
   "id": "6f46a340-ee17-44de-acad-82efc92fc49d",
   "metadata": {},
   "outputs": [
    {
     "data": {
      "text/plain": [
       "True"
      ]
     },
     "execution_count": 41,
     "metadata": {},
     "output_type": "execute_result"
    }
   ],
   "source": [
    "callable(Human)"
   ]
  },
  {
   "cell_type": "markdown",
   "id": "d9809321-a87b-4617-809b-8feb09b1f98c",
   "metadata": {},
   "source": [
    "Yes, classes in Python are callable, and they should be! Don't you think so? When we call the class, it returns the instance of that class. Let's find out whether the objects created from the class are callable."
   ]
  },
  {
   "cell_type": "code",
   "execution_count": 42,
   "id": "67f62614-829a-41e4-a608-a68dee3e53a2",
   "metadata": {},
   "outputs": [
    {
     "name": "stdout",
     "output_type": "stream",
     "text": [
      "Inside new method\n",
      "args arguments ('Virat', 'Kohli')\n",
      "kwargs arguments {}\n",
      "human_obj instance - <__main__.Human object at 0x7faba024bb80>\n",
      "Inside __init__ method\n",
      "human_obj instance inside __init__ <__main__.Human object at 0x7faba024bb80>: Virat, Kohli\n"
     ]
    }
   ],
   "source": [
    "human_obj = Human(\"Virat\", \"Kohli\")"
   ]
  },
  {
   "cell_type": "code",
   "execution_count": 44,
   "id": "44c24ffd-0079-45b2-b51e-464d0ff01c27",
   "metadata": {},
   "outputs": [
    {
     "data": {
      "text/plain": [
       "False"
      ]
     },
     "execution_count": 44,
     "metadata": {},
     "output_type": "execute_result"
    }
   ],
   "source": [
    "# Let's try calling the human_obj\n",
    "callable(human_obj)"
   ]
  },
  {
   "cell_type": "markdown",
   "id": "c9c5f8fd-d9ed-4b32-8c79-ff52e4a25d1d",
   "metadata": {},
   "source": [
    "So, `human_obj` is not callable though the class of `human_obj` (i.e., the `Human` class is callable)"
   ]
  },
  {
   "cell_type": "markdown",
   "id": "8c3bb869-006c-428b-8edb-2ad826a9a18f",
   "metadata": {},
   "source": [
    "To make any object in Python callable, Python provides the `__call__` method that needs to be implemented by the object's class. For example, to make `human_obj` object callable, the `Human` class has to implement the `__call__` method. Once the `Human` class implements the `__call__` method, all the objects of the `Human` class can be invoked like functions (i.e., using round parentheses)"
   ]
  },
  {
   "cell_type": "code",
   "execution_count": 45,
   "id": "ec8264d1-0406-41d8-aa2e-7945a66a7e0c",
   "metadata": {},
   "outputs": [],
   "source": [
    "class Human:\n",
    "    def __init__(self, first_name, last_name):\n",
    "        print(\"I am inside __init__ method\")\n",
    "        self.first_name = first_name\n",
    "        self.last_name = last_name\n",
    "\n",
    "    def __call__(cls):\n",
    "        print(\"I am inside __call__ method\")"
   ]
  },
  {
   "cell_type": "code",
   "execution_count": 46,
   "id": "daa340a5-652e-4f89-901a-12b12d1651bd",
   "metadata": {},
   "outputs": [
    {
     "name": "stdout",
     "output_type": "stream",
     "text": [
      "I am inside __init__ method\n"
     ]
    }
   ],
   "source": [
    "human_obj = Human(\"Kian\", \"Pirfalak\")"
   ]
  },
  {
   "cell_type": "code",
   "execution_count": 47,
   "id": "d7d1d02c-6bd2-46cf-b8f2-878f34896091",
   "metadata": {},
   "outputs": [
    {
     "name": "stdout",
     "output_type": "stream",
     "text": [
      "I am inside __call__ method\n"
     ]
    }
   ],
   "source": [
    "human_obj()"
   ]
  },
  {
   "cell_type": "code",
   "execution_count": 48,
   "id": "62d0312c-fce9-42d4-9a3b-3aa2bd80664e",
   "metadata": {},
   "outputs": [
    {
     "name": "stdout",
     "output_type": "stream",
     "text": [
      "I am inside __call__ method\n"
     ]
    }
   ],
   "source": [
    "human_obj.__call__()"
   ]
  },
  {
   "cell_type": "code",
   "execution_count": 49,
   "id": "3998bb22-caff-46d4-b1d0-24888553e441",
   "metadata": {},
   "outputs": [
    {
     "data": {
      "text/plain": [
       "True"
      ]
     },
     "execution_count": 49,
     "metadata": {},
     "output_type": "execute_result"
    }
   ],
   "source": [
    "callable(human_obj)"
   ]
  },
  {
   "cell_type": "markdown",
   "id": "12e16b81-b797-42a4-bb6a-b6c888825ea9",
   "metadata": {},
   "source": [
    "The above code output shows that after implementing the `__call__` method on the `Human` class, `human_obj` becomes a callable object. We can call the `human_obj` using round parentheses (i.e., `human_obj()`). When we use `human_obj()`, in the background, Python calls the `__call__` method of the `Human` class. So, instead of calling `human_obj` as `human_obj()`, we can directly invoke the `__call__` method on `human_obj` (i.e., `human_obj.__call__()`). Both `human_obj()` and `human_obj.__call__()` are equivalent, and they are the same thing."
   ]
  },
  {
   "cell_type": "markdown",
   "id": "630cd1f0-abc4-413a-8d45-8e98fbf4874a",
   "metadata": {},
   "source": [
    "> For all objects that are callable, their classes must implement the `__call__` method."
   ]
  },
  {
   "cell_type": "markdown",
   "id": "7faec10b-4dfc-4fef-b899-9cab13a9a86c",
   "metadata": {},
   "source": [
    "We know that functions are a callable object, so its class (i.e., function) must implement the `__call__` method. Let's invoke the `__call__` method on the `print_function` defined earlier."
   ]
  },
  {
   "cell_type": "code",
   "execution_count": 52,
   "id": "d778a3f8-199c-4bc1-9519-5db0867ad71d",
   "metadata": {},
   "outputs": [],
   "source": [
    "def print_function():\n",
    "    print(\"I am a callable object\")"
   ]
  },
  {
   "cell_type": "code",
   "execution_count": 53,
   "id": "cfb24b43-77ba-4bc4-b769-59294f4748d4",
   "metadata": {},
   "outputs": [
    {
     "name": "stdout",
     "output_type": "stream",
     "text": [
      "I am a callable object\n"
     ]
    }
   ],
   "source": [
    "print_function.__call__()"
   ]
  },
  {
   "cell_type": "markdown",
   "id": "4cb4980e-9c85-4c2e-be3f-59e19c4b91e4",
   "metadata": {},
   "source": [
    "> In Python, class is also a callable object; therefore, it is a class's class (metaclass) (i.e., the `type` class must have a call method defined on it). Hence, when we call `Human()`, in the background, Python calls the call method of the `type` class."
   ]
  },
  {
   "cell_type": "markdown",
   "id": "7cc2e426-ded4-4fa4-8227-c694944296ad",
   "metadata": {},
   "source": [
    "Roughly, the `__call__` method on the types class looks something like shown below. This is just for explanation purposes; we will cover the actual definition of the `__call__` method later in the tutorial.\n",
    "\n",
    "```python\n",
    "class type:\n",
    "    def __call__():\n",
    "        # Called when class is called i.e. Human()\n",
    "        print(\"type's call method\")\n",
    "```"
   ]
  },
  {
   "cell_type": "markdown",
   "id": "695c4b34-41a6-47d0-a97e-f6b4e5809d1e",
   "metadata": {},
   "source": [
    "We know that when we call the class (i.e., `Human(\"Kian\", \"Pirfalak\")`), the `__call__` method of the `type` class is called. However, what is the definition of the types class `__call__` method? As we are talking about CPython, the type class `__call__` method definition is defined in C language. If we convert it into Python and simplify it, it will look somewhat like this:\n",
    "\n",
    "```python\n",
    "# type's __call__ method which gets called when Human class is called i.e. Human()\n",
    "def __call__(cls, *args, **kwargs):\n",
    "    # cls = Human class\n",
    "    # args = [\"Virat\", \"Kohli\"]\n",
    "    # Calling __new__ method of the Human class, as __new__ method is not defined\n",
    "    # on Human, __new__ method of the object class is called\n",
    "    human_obj = cls.__new__(*args, **kwargs)\n",
    "\n",
    "    # After __new__ method returns the object, __init__ method will only be called if\n",
    "    # 1. human_obj is not None\n",
    "    # 2. human_obj is an instance of class Human\n",
    "    # 3. __init__ method is defined on the Human class\n",
    "    if human_obj is not None and isinstance(human_obj, cls) and hasattr(human_obj, '__init__'):\n",
    "        # As __init__ is called on human_obj, self will be equal to human_obj in __init__ method\n",
    "        human_obj.init(*args, **kwargs)\n",
    "\n",
    "    return human_obj\n",
    "```"
   ]
  },
  {
   "cell_type": "markdown",
   "id": "f6536cdf-2e79-4e13-a404-b64c4dc1571a",
   "metadata": {},
   "source": [
    "Let's understand the above code; when we do Human(\"Kian\", \"Pirfalak\"), in the background, Python will call the type class `__call__` method, which is defined like the above code snippet. As shown above, the type class `__call__` method accepts `Human` class as the first argument (`cls` is `Human` class), and the remaining arguments are passed while calling the `Human` class. The type class `__call__` method will first call the `__new__` method defined on the `Human` class, if any; otherwise, the `__new__` method of the `Human` class parent class (i.e. the object's `__new__` method) is called. The `__new__` method will return the `human_obj`. Now, the `__call__` method of the type class will call the `__init__` method defined on the `Human` class with `human_obj` as the first argument. `__init__` will initialize the `human_obj` with the passed arguments, and finally, the `__call__` method will return the `human_obj`."
   ]
  },
  {
   "cell_type": "markdown",
   "id": "5c431428-d7d2-4d62-a697-231ca3cd19b9",
   "metadata": {},
   "source": [
    "<img src=\"./images/callable-sequence.svg\" width=\"500\"/>"
   ]
  },
  {
   "cell_type": "markdown",
   "id": "7cb3f314-e513-4729-8638-568b7ed0c475",
   "metadata": {},
   "source": [
    "So, following steps are followed while creating and initializing an object in Python:\n",
    "\n",
    "1. Call the `Human` class - `Human()`; this internally calls the `__call__` method of the type class (i.e., `type.__call__(Human, \"Kian\", \"Pirfalak\")`).\n",
    "2. `type.__call__` will first call the `__new__` method defined on the `Human` class. If the `__new__` method is not defined on the `Human` class, the `__new__` method of the object class will be called.\n",
    "3. The `__new__` method will the return the object of type `Human` i.e. `human_obj`\n",
    "4. Now, `type.__call__` will call the `__init__` method defined on the `Human` class with `human_obj` as the first argument. This `human_obj` will be `self` in the `__init__` method.\n",
    "5. The `__init__` method will initialize the `human_obj` with the `first_name` as Kian and the `last_name` as Pirfalak. The `__init__` method will not return anything.\n",
    "6. In the end, `type.__call__` will return the `human_obj` object."
   ]
  },
  {
   "cell_type": "markdown",
   "id": "28a4f007-deaf-4205-a965-8569ee994953",
   "metadata": {},
   "source": [
    "As per the `type.__call__` definition, whenever we create a new object, the `__new__` method will always be called, but calling the `__init__` method depends on the output of the `__new__` method. The `__init__` method will be called only if the `__new__` method returns an object of type `Human` class or a subclass of the `Human` class."
   ]
  },
  {
   "attachments": {},
   "cell_type": "markdown",
   "id": "368de231-fca0-4f29-bf52-29e8cbe732de",
   "metadata": {},
   "source": [
    "## <img src=\"../../images/logos/checkmark.png\" width=\"20\"/> Conclusion "
   ]
  },
  {
   "cell_type": "markdown",
   "id": "6f31c08d-b44e-460c-a738-52b666670d19",
   "metadata": {},
   "source": [
    "In this article, we explored the `__new__`, `__init__`, and `__call__` magic methods and discussed Metaclass in Python. In doing so, we have a better understanding of the object creation and initialization processes in Python."
   ]
  }
 ],
 "metadata": {
  "kernelspec": {
   "display_name": "Python 3",
   "language": "python",
   "name": "python3"
  },
  "language_info": {
   "codemirror_mode": {
    "name": "ipython",
    "version": 3
   },
   "file_extension": ".py",
   "mimetype": "text/x-python",
   "name": "python",
   "nbconvert_exporter": "python",
   "pygments_lexer": "ipython3",
   "version": "3.8.11"
  }
 },
 "nbformat": 4,
 "nbformat_minor": 5
}
