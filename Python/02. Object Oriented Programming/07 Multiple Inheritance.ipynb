{
 "cells": [
  {
   "cell_type": "markdown",
   "id": "d41c18ae-17b0-42c7-8cf3-2a96d28d01ff",
   "metadata": {},
   "source": [
    "<img src=\"../../images/banners/python-oop.png\" width=\"600\"/>"
   ]
  },
  {
   "cell_type": "markdown",
   "id": "f64de2bc-b59d-456c-869c-247e1337c2d7",
   "metadata": {},
   "source": [
    "# <img src=\"../../images/logos/python.png\" width=\"23\"/> Multiple Inheritance\n"
   ]
  },
  {
   "cell_type": "markdown",
   "id": "7ac3dbfc-c49b-4df5-ba80-c3f2aa003e10",
   "metadata": {},
   "source": [
    "## <img src=\"../../images/logos/toc.png\" width=\"20\"/> Table of Contents \n",
    "* [Multiple Inheritance using `super()`](#multiple-inheritance-using-super)\n",
    "* [Method Resolution Order](#method_resolution_order)\n",
    "* [Multiple Inheritance Alternatives](#multiple_inheritance_alternatives)\n",
    "* [Conclusion](#conclusion)\n",
    "\n",
    "---"
   ]
  },
  {
   "cell_type": "markdown",
   "id": "85dfba99-db85-4cf3-9017-e333dc7103f8",
   "metadata": {},
   "source": [
    "Now that you’ve worked through an overview and some examples of `super()` and single inheritance, you will be introduced to an overview and some examples that will demonstrate how multiple inheritance works and how `super()` enables that functionality. "
   ]
  },
  {
   "cell_type": "markdown",
   "id": "5b9c423d-49a0-4878-8812-d09ea617a26a",
   "metadata": {},
   "source": [
    "<a class=\"anchor\" id=\"multiple-inheritance-using-super\"></a>\n",
    "## Multiple Inheritance using `super()`"
   ]
  },
  {
   "cell_type": "markdown",
   "id": "b2212964-bf61-4eb0-87dc-0c5c162e5bae",
   "metadata": {},
   "source": [
    "There is another use case in which `super()` really shines, and this one isn’t as common as the single inheritance scenario. In addition to single inheritance, Python supports multiple inheritance, in which a subclass can inherit from multiple superclasses that don’t necessarily inherit from each other (also known as **sibling classes**). "
   ]
  },
  {
   "cell_type": "markdown",
   "id": "0f7ad44b-1fa3-41b2-9db7-9ef1cb6794db",
   "metadata": {},
   "source": [
    "The image below shows a very simple multiple inheritance scenario, where one class inherits from two unrelated (sibling) superclasses:"
   ]
  },
  {
   "cell_type": "markdown",
   "id": "9b4eacee-98bc-4754-b68a-ece5a076cee7",
   "metadata": {},
   "source": [
    "<img src=\"./images/multiple-inheritance.svg\" width=\"300\"/>"
   ]
  },
  {
   "cell_type": "markdown",
   "id": "f3b982b0-a447-4338-900f-d35666870d5e",
   "metadata": {},
   "source": [
    "To better illustrate multiple inheritance in action, here is some code for you to try out, showing how you can build a right pyramid (a pyramid with a square base) out of a `Triangle` and a `Square`:"
   ]
  },
  {
   "cell_type": "markdown",
   "id": "9fdbed28-3ffe-4019-9439-5cae6851d9cc",
   "metadata": {},
   "source": [
    "<img src=\"./images/square-triangle-pyramid.svg\" width=\"200\"/>"
   ]
  },
  {
   "cell_type": "code",
   "execution_count": 1,
   "id": "68c82fa5-f072-4116-af65-1ab32f5599b3",
   "metadata": {},
   "outputs": [],
   "source": [
    "# Here we declare that the Square class inherits from the Rectangle class\n",
    "class Square:\n",
    "    def __init__(self, length):\n",
    "        self.length = length\n",
    "\n",
    "    def area(self):\n",
    "        return self.length ** 2\n",
    "\n",
    "    def perimeter(self):\n",
    "        return 4 * self.length"
   ]
  },
  {
   "cell_type": "code",
   "execution_count": 2,
   "id": "00fb6d58-5744-46ee-a7d9-9d7f319e7b53",
   "metadata": {},
   "outputs": [],
   "source": [
    "class Triangle:\n",
    "    def __init__(self, base, height):\n",
    "        self.base = base\n",
    "        self.height = height\n",
    "\n",
    "    def area(self):\n",
    "        return 0.5 * self.base * self.height"
   ]
  },
  {
   "cell_type": "code",
   "execution_count": 3,
   "id": "e181324e-7e11-454d-bfc0-e8ec85502a10",
   "metadata": {},
   "outputs": [],
   "source": [
    "class RightPyramid(Triangle, Square):\n",
    "    def __init__(self, base, slant_height):\n",
    "        self.base = base\n",
    "        self.slant_height = slant_height\n",
    "\n",
    "    def area(self):\n",
    "        base_area = super().area()\n",
    "        perimeter = super().perimeter()\n",
    "        return 0.5 * perimeter * self.slant_height + base_area"
   ]
  },
  {
   "cell_type": "markdown",
   "id": "76922b1f-3bd8-4554-b89e-8f1dbebbb2db",
   "metadata": {},
   "source": [
    "This example declares a `Triangle` class and a `RightPyramid` class that inherits from both `Square` and `Triangle`. "
   ]
  },
  {
   "cell_type": "markdown",
   "id": "c3c9b51a-b051-456e-b4c4-ca857c3a63b4",
   "metadata": {},
   "source": [
    "You’ll see another `.area()` method that uses `super()` just like in single inheritance, with the aim of it reaching the `.perimeter()` and `.area()` methods defined all the way up in the `Rectangle` class. "
   ]
  },
  {
   "cell_type": "markdown",
   "id": "ccf3bfe6-8322-49cb-90c6-e2a0cf01b9ab",
   "metadata": {},
   "source": [
    "> **Note:** You may notice that the code above isn’t using any inherited properties from the `Triangle` class yet. Later examples will fully take advantage of inheritance from both `Triangle` and `Square`."
   ]
  },
  {
   "cell_type": "markdown",
   "id": "85e954b4-555e-4742-8241-5abd35920e8f",
   "metadata": {},
   "source": [
    "The problem, though, is that both superclasses (`Triangle` and `Square`) define a `.area()`. Take a second and think about what might happen when you call `.area()` on `RightPyramid`, and then try calling it like below:"
   ]
  },
  {
   "cell_type": "code",
   "execution_count": 5,
   "id": "dc565984-d1d6-40bd-847c-a30f3aa39a2d",
   "metadata": {},
   "outputs": [
    {
     "ename": "AttributeError",
     "evalue": "'RightPyramid' object has no attribute 'height'",
     "output_type": "error",
     "traceback": [
      "\u001b[0;31m---------------------------------------------------------------------------\u001b[0m",
      "\u001b[0;31mAttributeError\u001b[0m                            Traceback (most recent call last)",
      "\u001b[0;32m<ipython-input-5-bc97e396aa36>\u001b[0m in \u001b[0;36m<module>\u001b[0;34m\u001b[0m\n\u001b[1;32m      1\u001b[0m \u001b[0mpyramid\u001b[0m \u001b[0;34m=\u001b[0m \u001b[0mRightPyramid\u001b[0m\u001b[0;34m(\u001b[0m\u001b[0;36m2\u001b[0m\u001b[0;34m,\u001b[0m \u001b[0;36m4\u001b[0m\u001b[0;34m)\u001b[0m\u001b[0;34m\u001b[0m\u001b[0;34m\u001b[0m\u001b[0m\n\u001b[0;32m----> 2\u001b[0;31m \u001b[0mpyramid\u001b[0m\u001b[0;34m.\u001b[0m\u001b[0marea\u001b[0m\u001b[0;34m(\u001b[0m\u001b[0;34m)\u001b[0m\u001b[0;34m\u001b[0m\u001b[0;34m\u001b[0m\u001b[0m\n\u001b[0m",
      "\u001b[0;32m<ipython-input-4-75be8304e95a>\u001b[0m in \u001b[0;36marea\u001b[0;34m(self)\u001b[0m\n\u001b[1;32m     13\u001b[0m \u001b[0;34m\u001b[0m\u001b[0m\n\u001b[1;32m     14\u001b[0m     \u001b[0;32mdef\u001b[0m \u001b[0marea\u001b[0m\u001b[0;34m(\u001b[0m\u001b[0mself\u001b[0m\u001b[0;34m)\u001b[0m\u001b[0;34m:\u001b[0m\u001b[0;34m\u001b[0m\u001b[0;34m\u001b[0m\u001b[0m\n\u001b[0;32m---> 15\u001b[0;31m         \u001b[0mbase_area\u001b[0m \u001b[0;34m=\u001b[0m \u001b[0msuper\u001b[0m\u001b[0;34m(\u001b[0m\u001b[0;34m)\u001b[0m\u001b[0;34m.\u001b[0m\u001b[0marea\u001b[0m\u001b[0;34m(\u001b[0m\u001b[0;34m)\u001b[0m\u001b[0;34m\u001b[0m\u001b[0;34m\u001b[0m\u001b[0m\n\u001b[0m\u001b[1;32m     16\u001b[0m         \u001b[0mperimeter\u001b[0m \u001b[0;34m=\u001b[0m \u001b[0msuper\u001b[0m\u001b[0;34m(\u001b[0m\u001b[0;34m)\u001b[0m\u001b[0;34m.\u001b[0m\u001b[0mperimeter\u001b[0m\u001b[0;34m(\u001b[0m\u001b[0;34m)\u001b[0m\u001b[0;34m\u001b[0m\u001b[0;34m\u001b[0m\u001b[0m\n\u001b[1;32m     17\u001b[0m         \u001b[0;32mreturn\u001b[0m \u001b[0;36m0.5\u001b[0m \u001b[0;34m*\u001b[0m \u001b[0mperimeter\u001b[0m \u001b[0;34m*\u001b[0m \u001b[0mself\u001b[0m\u001b[0;34m.\u001b[0m\u001b[0mslant_height\u001b[0m \u001b[0;34m+\u001b[0m \u001b[0mbase_area\u001b[0m\u001b[0;34m\u001b[0m\u001b[0;34m\u001b[0m\u001b[0m\n",
      "\u001b[0;32m<ipython-input-4-75be8304e95a>\u001b[0m in \u001b[0;36marea\u001b[0;34m(self)\u001b[0m\n\u001b[1;32m      5\u001b[0m \u001b[0;34m\u001b[0m\u001b[0m\n\u001b[1;32m      6\u001b[0m     \u001b[0;32mdef\u001b[0m \u001b[0marea\u001b[0m\u001b[0;34m(\u001b[0m\u001b[0mself\u001b[0m\u001b[0;34m)\u001b[0m\u001b[0;34m:\u001b[0m\u001b[0;34m\u001b[0m\u001b[0;34m\u001b[0m\u001b[0m\n\u001b[0;32m----> 7\u001b[0;31m         \u001b[0;32mreturn\u001b[0m \u001b[0;36m0.5\u001b[0m \u001b[0;34m*\u001b[0m \u001b[0mself\u001b[0m\u001b[0;34m.\u001b[0m\u001b[0mbase\u001b[0m \u001b[0;34m*\u001b[0m \u001b[0mself\u001b[0m\u001b[0;34m.\u001b[0m\u001b[0mheight\u001b[0m\u001b[0;34m\u001b[0m\u001b[0;34m\u001b[0m\u001b[0m\n\u001b[0m\u001b[1;32m      8\u001b[0m \u001b[0;34m\u001b[0m\u001b[0m\n\u001b[1;32m      9\u001b[0m \u001b[0;32mclass\u001b[0m \u001b[0mRightPyramid\u001b[0m\u001b[0;34m(\u001b[0m\u001b[0mTriangle\u001b[0m\u001b[0;34m,\u001b[0m \u001b[0mSquare\u001b[0m\u001b[0;34m)\u001b[0m\u001b[0;34m:\u001b[0m\u001b[0;34m\u001b[0m\u001b[0;34m\u001b[0m\u001b[0m\n",
      "\u001b[0;31mAttributeError\u001b[0m: 'RightPyramid' object has no attribute 'height'"
     ]
    }
   ],
   "source": [
    "pyramid = RightPyramid(2, 4)\n",
    "pyramid.area()"
   ]
  },
  {
   "cell_type": "markdown",
   "id": "42bda8e1-4713-4158-a1f7-bb83c4a28c80",
   "metadata": {},
   "source": [
    "Did you guess that Python will try to call `Triangle.area()`? This is because of something called the **method resolution order**."
   ]
  },
  {
   "cell_type": "markdown",
   "id": "64346b32-a369-4db9-b2ca-78eb8004ebd7",
   "metadata": {},
   "source": [
    "<a class=\"anchor\" id=\"method_resolution_order\"></a>\n",
    "\n",
    "## Method Resolution Order"
   ]
  },
  {
   "cell_type": "markdown",
   "id": "ae8668d5-c666-45b8-beb1-e293c51958ed",
   "metadata": {},
   "source": [
    "The method resolution order (or **MRO**) tells Python how to search for inherited methods. This comes in handy when you’re using `super()` because the MRO tells you exactly where Python will look for a method you’re calling with `super()` and in what order."
   ]
  },
  {
   "cell_type": "markdown",
   "id": "8f46d5de-8a6e-4f9e-b8dc-caf4b7051338",
   "metadata": {},
   "source": [
    "Every class has an `.__mro__` attribute that allows us to inspect the order, so let’s do that:"
   ]
  },
  {
   "cell_type": "code",
   "execution_count": 6,
   "id": "d920c482-6e05-4345-9828-1f95f5fa96b4",
   "metadata": {},
   "outputs": [
    {
     "data": {
      "text/plain": [
       "(__main__.RightPyramid, __main__.Triangle, __main__.Square, object)"
      ]
     },
     "execution_count": 6,
     "metadata": {},
     "output_type": "execute_result"
    }
   ],
   "source": [
    "RightPyramid.__mro__"
   ]
  },
  {
   "cell_type": "markdown",
   "id": "b7b085fe-ab40-4f5d-b007-5b4e49966e22",
   "metadata": {},
   "source": [
    "This tells us that methods will be searched first in `Rightpyramid`, then in `Triangle`, then in `Square`, then `Rectangle`, and then, if nothing is found, in `object`, from which all classes originate. "
   ]
  },
  {
   "cell_type": "markdown",
   "id": "4fb1939e-e0bd-4930-83b7-5e79363f69e9",
   "metadata": {},
   "source": [
    "The problem here is that the interpreter is searching for `.area()` in `Triangle` before `Square` and `Rectangle`, and upon finding `.area()` in `Triangle`, Python calls it instead of the one you want. Because `Triangle.area()` expects there to be a `.height` and a `.base` attribute, Python throws an `AttributeError`. "
   ]
  },
  {
   "cell_type": "markdown",
   "id": "ea524e33-d92a-4740-8aa8-4259c8b6c91c",
   "metadata": {},
   "source": [
    "Luckily, you have some control over how the MRO is constructed. Just by changing the signature of the `RightPyramid` class, you can search in the order you want, and the methods will resolve correctly:"
   ]
  },
  {
   "cell_type": "code",
   "execution_count": 9,
   "id": "5d3c0bd9-05a4-4227-b7de-d75bb0fd3c1c",
   "metadata": {},
   "outputs": [],
   "source": [
    "class RightPyramid(Square, Triangle):\n",
    "    def __init__(self, base, slant_height):\n",
    "        self.base = base\n",
    "        self.slant_height = slant_height\n",
    "        super().__init__(self.base)\n",
    "\n",
    "    def area(self):\n",
    "        base_area = super().area()\n",
    "        perimeter = super().perimeter()\n",
    "        return 0.5 * perimeter * self.slant_height + base_area"
   ]
  },
  {
   "cell_type": "markdown",
   "id": "d702da38-7c83-4737-a063-77b5da9580ba",
   "metadata": {},
   "source": [
    "Notice that `RightPyramid` initializes partially with the `.__init__()` from the `Square` class. This allows `.area()` to use the `.length` on the object, as is designed. "
   ]
  },
  {
   "cell_type": "markdown",
   "id": "e365ff8c-3859-423b-a13d-55493a467e1e",
   "metadata": {},
   "source": [
    "Now, you can build a pyramid, inspect the MRO, and calculate the surface area:"
   ]
  },
  {
   "cell_type": "code",
   "execution_count": 10,
   "id": "6c3ee0cb-1834-47c5-8734-1e3f936ab1a2",
   "metadata": {},
   "outputs": [
    {
     "data": {
      "text/plain": [
       "(__main__.RightPyramid, __main__.Square, __main__.Triangle, object)"
      ]
     },
     "execution_count": 10,
     "metadata": {},
     "output_type": "execute_result"
    }
   ],
   "source": [
    "pyramid = RightPyramid(2, 4)\n",
    "RightPyramid.__mro__"
   ]
  },
  {
   "cell_type": "code",
   "execution_count": 11,
   "id": "c44fa598-5358-4537-8c1b-5ff21ce929b5",
   "metadata": {},
   "outputs": [
    {
     "data": {
      "text/plain": [
       "20.0"
      ]
     },
     "execution_count": 11,
     "metadata": {},
     "output_type": "execute_result"
    }
   ],
   "source": [
    "pyramid.area()"
   ]
  },
  {
   "cell_type": "markdown",
   "id": "bf11d933-9297-458b-b825-5e90fb5bee1c",
   "metadata": {},
   "source": [
    "You see that the MRO is now what you’d expect, and you can inspect the area of the pyramid as well, thanks to `.area()` and `.perimeter()`. "
   ]
  },
  {
   "cell_type": "markdown",
   "id": "72447b7b-276b-46df-a723-4a59f1bb0add",
   "metadata": {},
   "source": [
    "There’s still a problem here, though. For the sake of simplicity, I did a few things wrong in this example: the first, and arguably most importantly, was that I had two separate classes with the same method name and signature. "
   ]
  },
  {
   "cell_type": "markdown",
   "id": "697ecfd7-6021-4b3c-a7af-0f2f7b538a1e",
   "metadata": {},
   "source": [
    "This causes issues with method resolution, because the first instance of `.area()` that is encountered in the MRO list will be called. "
   ]
  },
  {
   "cell_type": "markdown",
   "id": "0ad494db-8f02-4fdc-9a13-4b68b05463eb",
   "metadata": {},
   "source": [
    "When you’re using `super()` with multiple inheritance, it’s imperative to design your classes to **cooperate**. Part of this is ensuring that your methods are unique so that they get resolved in the MRO, by making sure method signatures are unique—whether by using method names or method parameters."
   ]
  },
  {
   "cell_type": "markdown",
   "id": "63250c8d-6ed3-411d-9c6c-2ce123529957",
   "metadata": {},
   "source": [
    "In this case, to avoid a complete overhaul of your code, you can rename the `Triangle` class’s `.area()` method to `.tri_area()`. This way, the area methods can continue using class properties rather than taking external parameters:"
   ]
  },
  {
   "cell_type": "code",
   "execution_count": null,
   "id": "cf650f48",
   "metadata": {},
   "outputs": [],
   "source": [
    "class Triangle:\n",
    "    def __init__(self, base, height):\n",
    "        self.base = base\n",
    "        self.height = height\n",
    "        super().__init__()\n",
    "\n",
    "    def tri_area(self):\n",
    "        return 0.5 * self.base * self.height"
   ]
  },
  {
   "cell_type": "markdown",
   "id": "75869fc3-d08a-4713-83ef-e3ccbd40fbec",
   "metadata": {},
   "source": [
    "Let’s also go ahead and use this in the `RightPyramid` class:"
   ]
  },
  {
   "cell_type": "code",
   "execution_count": null,
   "id": "b4b13275",
   "metadata": {},
   "outputs": [],
   "source": [
    "class RightPyramid(Square, Triangle):\n",
    "    def __init__(self, base, slant_height):\n",
    "        self.base = base\n",
    "        self.slant_height = slant_height\n",
    "        super().__init__(self.base)\n",
    "\n",
    "    def area(self):\n",
    "        base_area = super().area()\n",
    "        perimeter = super().perimeter()\n",
    "        return 0.5 * perimeter * self.slant_height + base_area\n",
    "\n",
    "    def area_2(self):\n",
    "        base_area = super().area()\n",
    "        triangle_area = super().tri_area()\n",
    "        return triangle_area * 4 + base_area"
   ]
  },
  {
   "cell_type": "markdown",
   "id": "1d601da8-cc37-4fec-aabe-3f25a1956bf0",
   "metadata": {},
   "source": [
    "The next issue here is that the code doesn’t have a delegated `Triangle` object like it does for a `Square` object, so calling `.area_2()` will give us an `AttributeError` since `.base` and `.height` don’t have any values. "
   ]
  },
  {
   "cell_type": "markdown",
   "id": "a781a52b-e44f-41f9-8983-637fd8a5796d",
   "metadata": {},
   "source": [
    "You need to do two things to fix this:"
   ]
  },
  {
   "cell_type": "markdown",
   "id": "624f1610-1251-4e5a-b58f-82bbd6cfdfe8",
   "metadata": {},
   "source": [
    "1. All methods that are called with `super()` need to have a call to their superclass’s version of that method. This means that you will need to add `super().__init__()` to the `.__init__()` methods of `Triangle` and `Square`.\n",
    "\n",
    "2. Redesign all the `.__init__()` calls to take a keyword dictionary. See the complete code below."
   ]
  },
  {
   "cell_type": "code",
   "execution_count": 23,
   "id": "f050e28e-f0b1-4cf6-9741-5d36b1c93b89",
   "metadata": {},
   "outputs": [],
   "source": [
    "class Rectangle:\n",
    "    def __init__(self, length, width, **kwargs):\n",
    "        self.length = length\n",
    "        self.width = width\n",
    "        super().__init__(**kwargs)\n",
    "\n",
    "    def area(self):\n",
    "        return self.length * self.width\n",
    "\n",
    "    def perimeter(self):\n",
    "        return 2 * self.length + 2 * self.width"
   ]
  },
  {
   "cell_type": "code",
   "execution_count": 24,
   "id": "52d0583d-1358-40e6-9593-4e895da9a0b4",
   "metadata": {},
   "outputs": [],
   "source": [
    "# Here we declare that the Square class inherits from \n",
    "# the Rectangle class\n",
    "class Square(Rectangle):\n",
    "    def __init__(self, length, **kwargs):\n",
    "        print('Square calling...')\n",
    "        super().__init__(length=length, width=length, **kwargs)"
   ]
  },
  {
   "cell_type": "code",
   "execution_count": 25,
   "id": "06197861-82c7-40c4-b59d-5f83c6329f51",
   "metadata": {},
   "outputs": [],
   "source": [
    "class Cube(Square):\n",
    "    def surface_area(self):\n",
    "        face_area = super().area()\n",
    "        return face_area * 6\n",
    "\n",
    "    def volume(self):\n",
    "        face_area = super().area()\n",
    "        return face_area * self.length"
   ]
  },
  {
   "cell_type": "code",
   "execution_count": 26,
   "id": "a065148c-3bb1-4764-a282-f8e3008a8611",
   "metadata": {},
   "outputs": [],
   "source": [
    "class Triangle:\n",
    "    def __init__(self, base, height, **kwargs):\n",
    "        print('Triangle calling...')\n",
    "        self.base = base\n",
    "        self.height = height\n",
    "        super().__init__(**kwargs)\n",
    "\n",
    "    def tri_area(self):\n",
    "        return 0.5 * self.base * self.height"
   ]
  },
  {
   "cell_type": "code",
   "execution_count": 27,
   "id": "b37aef7a-3dbc-4e6c-bbef-bff7865772b0",
   "metadata": {},
   "outputs": [],
   "source": [
    "class RightPyramid(Square, Triangle):\n",
    "    def __init__(self, base, slant_height, **kwargs):\n",
    "        self.base = base\n",
    "        self.slant_height = slant_height\n",
    "        kwargs[\"height\"] = slant_height\n",
    "        kwargs[\"length\"] = base\n",
    "        super().__init__(base=base, **kwargs)\n",
    "\n",
    "    def area(self):\n",
    "        base_area = super().area()\n",
    "        perimeter = super().perimeter()\n",
    "        return 0.5 * perimeter * self.slant_height + base_area\n",
    "\n",
    "    def area_2(self):\n",
    "        base_area = super().area()\n",
    "        triangle_area = super().tri_area()\n",
    "        return triangle_area * 4 + base_area"
   ]
  },
  {
   "cell_type": "markdown",
   "id": "3962044c-1443-422b-8214-c304cdd1abad",
   "metadata": {},
   "source": [
    "There are a number of important differences in this code:"
   ]
  },
  {
   "cell_type": "markdown",
   "id": "ad55d706-ba8b-43d3-80c8-2a02248ac00a",
   "metadata": {},
   "source": [
    "- `kwargs` is modified in some places (such as `RightPyramid.__init__()`: This will allow users of these objects to instantiate them only with the arguments that make sense for that particular object.\n",
    "\n",
    "- **Setting up named arguments before `**kwargs`:** You can see this in `RightPyramid.__init__()`. This has the neat effect of popping that key right out of the `**kwargs` dictionary, so that by the time that it ends up at the end of the MRO in the `object` class, `**kwargs` is empty."
   ]
  },
  {
   "cell_type": "markdown",
   "id": "8a953068-59ab-4d7b-b44c-0fde0fbeeb83",
   "metadata": {},
   "source": [
    "Now, when you use these updated classes, you have this:"
   ]
  },
  {
   "cell_type": "code",
   "execution_count": 28,
   "id": "12bff5b4-19b3-40bd-a4db-9ba1b48561e2",
   "metadata": {},
   "outputs": [
    {
     "name": "stdout",
     "output_type": "stream",
     "text": [
      "Square calling...\n",
      "Triangle calling...\n"
     ]
    }
   ],
   "source": [
    "pyramid = RightPyramid(base=2, slant_height=4)"
   ]
  },
  {
   "cell_type": "code",
   "execution_count": 29,
   "id": "6d1d3b8a-6f12-448c-90f9-07d3b10d7e53",
   "metadata": {},
   "outputs": [
    {
     "data": {
      "text/plain": [
       "20.0"
      ]
     },
     "execution_count": 29,
     "metadata": {},
     "output_type": "execute_result"
    }
   ],
   "source": [
    "pyramid.area()"
   ]
  },
  {
   "cell_type": "code",
   "execution_count": 30,
   "id": "cf95ac4a-9d2f-423c-931d-ddd1d461c706",
   "metadata": {},
   "outputs": [
    {
     "data": {
      "text/plain": [
       "20.0"
      ]
     },
     "execution_count": 30,
     "metadata": {},
     "output_type": "execute_result"
    }
   ],
   "source": [
    "pyramid.area_2()"
   ]
  },
  {
   "cell_type": "markdown",
   "id": "d9962953-4dc5-4853-b732-6c97c86e15a6",
   "metadata": {},
   "source": [
    "It works! You’ve used `super()` to successfully navigate a complicated class hierarchy while using both inheritance and composition to create new classes with minimal reimplementation."
   ]
  },
  {
   "cell_type": "markdown",
   "id": "12e9e4fa-bec6-45dc-84d8-17387e9c48da",
   "metadata": {},
   "source": [
    "<a class=\"anchor\" id=\"multiple_inheritance_alternatives\"></a>\n",
    "\n",
    "## Multiple Inheritance Alternatives"
   ]
  },
  {
   "cell_type": "markdown",
   "id": "5bbe07df-84cf-4dab-9ad0-f8966ad242d0",
   "metadata": {},
   "source": [
    "As you can see, multiple inheritance can be useful but also lead to very complicated situations and code that is hard to read. It’s also rare to have objects that neatly inherit everything from more than multiple other objects. "
   ]
  },
  {
   "cell_type": "markdown",
   "id": "454beb07-21d1-4f81-b126-9623f25a90c4",
   "metadata": {},
   "source": [
    "If you see yourself beginning to use multiple inheritance and a complicated class hierarchy, it’s worth asking yourself if you can achieve code that is cleaner and easier to understand by using **composition** instead of inheritance."
   ]
  },
  {
   "cell_type": "markdown",
   "id": "1c48b232-6fc5-4b0e-9d61-9b3a597d4c67",
   "metadata": {},
   "source": [
    "There’s another technique that can help you get around the complexity of multiple inheritance while still providing many of the benefits. This technique is in the form of a specialized, simple class called a **mixin**. "
   ]
  },
  {
   "cell_type": "markdown",
   "id": "2fc3122b-db51-43d8-8ed8-37ded1cbe9fb",
   "metadata": {},
   "source": [
    "A mixin works as a kind of inheritance, but instead of defining an is-a relationship it may be more accurate to say that it defines an **includes-a** relationship. With a mix-in you can write a behavior that can be directly included in any number of other classes."
   ]
  },
  {
   "cell_type": "markdown",
   "id": "e41df97d-c708-4104-b93e-f1b55504974e",
   "metadata": {},
   "source": [
    "Below, you will see a short example using `VolumeMixin` to give specific functionality to our 3D objects—in this case, a volume calculation:"
   ]
  },
  {
   "cell_type": "code",
   "execution_count": 36,
   "id": "c4ef5682-0d84-43c7-b47a-66c93a359912",
   "metadata": {},
   "outputs": [],
   "source": [
    "class Rectangle:\n",
    "    def __init__(self, length, width):\n",
    "        self.length = length\n",
    "        self.width = width\n",
    "\n",
    "    def area(self):\n",
    "        return self.length * self.width\n",
    "\n",
    "class Square(Rectangle):\n",
    "    def __init__(self, length):\n",
    "        super().__init__(length, length)\n",
    "\n",
    "class VolumeMixin:\n",
    "    def volume(self):\n",
    "        return self.area() * self.height\n",
    "\n",
    "class Cube(VolumeMixin, Square):\n",
    "    def __init__(self, length):\n",
    "        super().__init__(length)\n",
    "        self.height = length\n",
    "\n",
    "    def face_area(self):\n",
    "        return super().area()\n",
    "\n",
    "    def surface_area(self):\n",
    "        return super().area() * 6"
   ]
  },
  {
   "cell_type": "markdown",
   "id": "2c0d201b-10af-4591-b60b-14796d9e50a4",
   "metadata": {},
   "source": [
    "In this example, the code was reworked to include a mixin called `VolumeMixin`. The mixin is then used by `Cube` and gives `Cube` the ability to calculate its volume, which is shown below:"
   ]
  },
  {
   "cell_type": "code",
   "execution_count": 37,
   "id": "546bb894-fc24-4c03-b9c5-807615c47c45",
   "metadata": {},
   "outputs": [],
   "source": [
    "cube = Cube(2)"
   ]
  },
  {
   "cell_type": "code",
   "execution_count": 38,
   "id": "db6c4406-0ead-4bcb-a8ff-fd4b0e6af60c",
   "metadata": {},
   "outputs": [
    {
     "data": {
      "text/plain": [
       "24"
      ]
     },
     "execution_count": 38,
     "metadata": {},
     "output_type": "execute_result"
    }
   ],
   "source": [
    "cube.surface_area()"
   ]
  },
  {
   "cell_type": "code",
   "execution_count": 39,
   "id": "494149b4-4e2d-44b2-bad0-1b094e129476",
   "metadata": {},
   "outputs": [
    {
     "data": {
      "text/plain": [
       "8"
      ]
     },
     "execution_count": 39,
     "metadata": {},
     "output_type": "execute_result"
    }
   ],
   "source": [
    "cube.volume()"
   ]
  },
  {
   "cell_type": "markdown",
   "id": "fb639651-4589-415b-8125-56807a7da19d",
   "metadata": {},
   "source": [
    "This mixin can be used the same way in any other class that has an area defined for it and for which the formula `area * height` returns the correct volume."
   ]
  },
  {
   "attachments": {},
   "cell_type": "markdown",
   "id": "41fc26f8-204b-4059-8351-55eff2781bd7",
   "metadata": {
    "tags": []
   },
   "source": [
    "<a class=\"anchor\" id=\"conclusion\"></a>\n",
    "## <img src=\"../../images/logos/checkmark.png\" width=\"20\"/> Conclusion "
   ]
  },
  {
   "cell_type": "markdown",
   "id": "680d4732-3fb5-4c25-8dc2-6968f05ce2cb",
   "metadata": {},
   "source": [
    "In this section, you learned how multiple inheritance works in Python, and techniques to combine `super()` with multiple inheritance. You also learned about how Python resolves method calls using the method resolution order (MRO), as well as how to inspect and modify the MRO to ensure appropriate methods are called at appropriate times. "
   ]
  },
  {
   "cell_type": "markdown",
   "id": "bc990928-61ab-4089-b443-1d82f1bf5577",
   "metadata": {},
   "source": [
    "For more information about object-oriented programming in Python and using `super()`, check out these resources:"
   ]
  },
  {
   "cell_type": "markdown",
   "id": "fd780bdf-84df-4d93-b0f6-7a31e48ade10",
   "metadata": {},
   "source": [
    "- [Official `super()` documentation](https://docs.python.org/3/library/functions.html#super)\n",
    "- [Python’s `super()` Considered Super by Raymond Hettinger](https://rhettinger.wordpress.com/2011/05/26/super-considered-super/)\n",
    "- [Object-Oriented Programming in Python 3](https://realpython.com/python3-object-oriented-programming/)\n"
   ]
  }
 ],
 "metadata": {
  "kernelspec": {
   "display_name": "Python 3",
   "language": "python",
   "name": "python3"
  },
  "language_info": {
   "codemirror_mode": {
    "name": "ipython",
    "version": 3
   },
   "file_extension": ".py",
   "mimetype": "text/x-python",
   "name": "python",
   "nbconvert_exporter": "python",
   "pygments_lexer": "ipython3",
   "version": "3.8.2 (default, Mar 13 2020, 10:14:16) \n[GCC 9.3.0]"
  },
  "vscode": {
   "interpreter": {
    "hash": "916dbcbb3f70747c44a77c7bcd40155683ae19c65e1c03b4aa3499c5328201f1"
   }
  }
 },
 "nbformat": 4,
 "nbformat_minor": 5
}
