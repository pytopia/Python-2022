{
 "cells": [
  {
   "cell_type": "markdown",
   "id": "a4d73d80",
   "metadata": {},
   "source": [
    "<img src=\"../../images/banners/python-modules.png\" width=\"600\"/>"
   ]
  },
  {
   "cell_type": "markdown",
   "id": "26fd7e4f",
   "metadata": {},
   "source": [
    "# <img src=\"../../images/logos/python.png\" width=\"23\"/> Regular Expressions: Regexes in Python (Part 1) \n"
   ]
  },
  {
   "cell_type": "markdown",
   "id": "f5eb4d7f",
   "metadata": {},
   "source": [
    "## <img src=\"../../images/logos/toc.png\" width=\"20\"/> Table of Contents \n",
    "* [Regexes in Python and Their Uses](#regexes_in_python_and_their_uses)\n",
    "    * [A (Very Brief) History of Regular Expressions](#a_(very_brief)_history_of_regular_expressions)\n",
    "    * [The `re` Module](#the_`re`_module)\n",
    "    * [How to Import `re.search()`](#how_to_import_`re.search()`)\n",
    "    * [First Pattern-Matching Example](#first_pattern-matching_example)\n",
    "    * [Python Regex Metacharacters](#python_regex_metacharacters)\n",
    "* [Metacharacters Supported by the `re` Module](#metacharacters_supported_by_the_`re`_module)\n",
    "    * [Metacharacters That Match a Single Character](#metacharacters_that_match_a_single_character)\n",
    "    * [Escaping Metacharacters](#escaping_metacharacters)\n",
    "    * [Anchors](#anchors)\n",
    "    * [Quantifiers](#quantifiers)\n",
    "    * [Grouping Constructs and Backreferences](#grouping_constructs_and_backreferences)\n",
    "        * [Treating a Group as a Unit](#treating_a_group_as_a_unit)\n",
    "        * [Capturing Groups](#capturing_groups)\n",
    "        * [Backreferences](#backreferences)\n",
    "        * [Other Grouping Constructs](#other_grouping_constructs)\n",
    "    * [Lookahead and Lookbehind Assertions](#lookahead_and_lookbehind_assertions)\n",
    "    * [Miscellaneous Metacharacters](#miscellaneous_metacharacters)\n",
    "* [Modified Regular Expression Matching With Flags](#modified_regular_expression_matching_with_flags)\n",
    "    * [Supported Regular Expression Flags](#supported_regular_expression_flags)\n",
    "    * [Combining `<flags>` Arguments in a Function Call](#combining_`<flags>`_arguments_in_a_function_call)\n",
    "    * [Setting and Clearing Flags Within a Regular Expression](#setting_and_clearing_flags_within_a_regular_expression)\n",
    "* [Conclusion](#conclusion)\n",
    "\n",
    "---"
   ]
  },
  {
   "cell_type": "markdown",
   "id": "dec94265",
   "metadata": {},
   "source": [
    "In this tutorial, you’ll explore **regular expressions**, also known as **regexes**, in Python. A regex is a special sequence of characters that defines a pattern for complex string-matching functionality."
   ]
  },
  {
   "cell_type": "markdown",
   "id": "572c8f0a",
   "metadata": {},
   "source": [
    "Earlier in this series, in the tutorial [Strings and Character Data in Python](https://realpython.com/python-strings), you learned how to define and manipulate string objects. Since then, you’ve seen some ways to determine whether two strings match each other:"
   ]
  },
  {
   "cell_type": "markdown",
   "id": "eb80eef4",
   "metadata": {},
   "source": [
    "- \n",
    "You can test whether two strings are equal using the [equality (`==`)](https://realpython.com/python-operators-expressions/#comparison-operators) operator.\n",
    "\n",
    "\n",
    "\n",
    "- \n",
    "You can test whether one string is a substring of another with the [`in`](https://realpython.com/python-strings/#string-operators) operator or the [built-in string methods](https://realpython.com/python-strings/#built-in-string-methods) `.find()` and `.index()`.\n",
    "\n",
    "\n",
    "\n"
   ]
  },
  {
   "cell_type": "markdown",
   "id": "1bbb67f3",
   "metadata": {},
   "source": [
    "String matching like this is a common task in programming, and you can get a lot done with string operators and built-in methods. At times, though, you may need more sophisticated pattern-matching capabilities."
   ]
  },
  {
   "cell_type": "markdown",
   "id": "4a7574ea",
   "metadata": {},
   "source": [
    "**In this tutorial, you’ll learn:**"
   ]
  },
  {
   "cell_type": "markdown",
   "id": "e81961bd",
   "metadata": {},
   "source": [
    "- How to access the **`re` module**, which implements regex matching in Python\n",
    "- How to use **`re.search()`** to match a pattern against a string\n",
    "- How to create complex matching pattern with regex **metacharacters**\n"
   ]
  },
  {
   "cell_type": "markdown",
   "id": "99e79f79",
   "metadata": {},
   "source": [
    "Fasten your seat belt! Regex syntax takes a little getting used to. But once you get comfortable with it, you’ll find regexes almost indispensable in your Python programming."
   ]
  },
  {
   "cell_type": "markdown",
   "id": "459ce87f",
   "metadata": {},
   "source": [
    "<a class=\"anchor\" id=\"regexes_in_python_and_their_uses\"></a>\n",
    "\n",
    "## Regexes in Python and Their Uses"
   ]
  },
  {
   "cell_type": "markdown",
   "id": "56ccdaeb",
   "metadata": {},
   "source": [
    "Imagine you have a string object `s`. Now suppose you need to write Python code to find out whether `s` contains the substring `'123'`. There are at least a couple ways to do this. You could use the `in` operator:"
   ]
  },
  {
   "cell_type": "code",
   "execution_count": 1,
   "id": "27339297",
   "metadata": {},
   "outputs": [
    {
     "data": {
      "text/plain": [
       "True"
      ]
     },
     "execution_count": 1,
     "metadata": {},
     "output_type": "execute_result"
    }
   ],
   "source": [
    "s = 'foo123bar'\n",
    "'123' in s"
   ]
  },
  {
   "cell_type": "markdown",
   "id": "85196d13",
   "metadata": {},
   "source": [
    "If you want to know not only *whether* `'123'` exists in `s` but also *where* it exists, then you can use `.find()` or `.index()`. Each of these returns the character position within `s` where the substring resides:"
   ]
  },
  {
   "cell_type": "code",
   "execution_count": 2,
   "id": "eeddcf98-4982-4568-abc6-0d9152977e79",
   "metadata": {},
   "outputs": [
    {
     "data": {
      "text/plain": [
       "3"
      ]
     },
     "execution_count": 2,
     "metadata": {},
     "output_type": "execute_result"
    }
   ],
   "source": [
    "s = 'foo123bar'\n",
    "s.find('123')"
   ]
  },
  {
   "cell_type": "code",
   "execution_count": 3,
   "id": "f208adaf-c0b6-412c-8971-229810947247",
   "metadata": {},
   "outputs": [
    {
     "data": {
      "text/plain": [
       "3"
      ]
     },
     "execution_count": 3,
     "metadata": {},
     "output_type": "execute_result"
    }
   ],
   "source": [
    "s.index('123')"
   ]
  },
  {
   "cell_type": "markdown",
   "id": "bae66884",
   "metadata": {},
   "source": [
    "In these examples, the matching is done by a straightforward character-by-character comparison. That will get the job done in many cases. But sometimes, the problem is more complicated than that."
   ]
  },
  {
   "cell_type": "markdown",
   "id": "a8baf566",
   "metadata": {},
   "source": [
    "For example, rather than searching for a fixed substring like `'123'`, suppose you wanted to determine whether a string contains *any* three consecutive decimal digit characters, as in the strings `'foo123bar'`, `'foo456bar'`, `'234baz'`, and `'qux678'`."
   ]
  },
  {
   "cell_type": "markdown",
   "id": "bf84180d",
   "metadata": {},
   "source": [
    "Strict character comparisons won’t cut it here. This is where regexes in Python come to the rescue."
   ]
  },
  {
   "cell_type": "markdown",
   "id": "168d237e",
   "metadata": {},
   "source": [
    "<a class=\"anchor\" id=\"a_(very_brief)_history_of_regular_expressions\"></a>\n",
    "\n",
    "### A (Very Brief) History of Regular Expressions"
   ]
  },
  {
   "cell_type": "markdown",
   "id": "fdcad8eb",
   "metadata": {},
   "source": [
    "In 1951, mathematician Stephen Cole Kleene described the concept of a [regular language](https://en.wikipedia.org/wiki/Regular_language), a language that is recognizable by a finite automaton and formally expressible using [regular expressions](https://en.wikipedia.org/wiki/Regular_expression). In the mid-1960s, computer science pioneer [Ken Thompson](https://en.wikipedia.org/wiki/Ken_Thompson), one of the original designers of Unix, implemented pattern matching in the [QED text editor](https://en.wikipedia.org/wiki/QED_(text_editor)) using Kleene’s notation."
   ]
  },
  {
   "cell_type": "markdown",
   "id": "568d2447",
   "metadata": {},
   "source": [
    "Since then, regexes have appeared in many programming languages, editors, and other tools as a means of determining whether a string matches a specified pattern. Python, [Java](https://realpython.com/oop-in-python-vs-java/), and Perl all support regex functionality, as do most Unix tools and many text editors."
   ]
  },
  {
   "cell_type": "markdown",
   "id": "02b341e2",
   "metadata": {},
   "source": [
    "<a class=\"anchor\" id=\"the_`re`_module\"></a>\n",
    "\n",
    "### The `re` Module"
   ]
  },
  {
   "cell_type": "markdown",
   "id": "8d37fd82",
   "metadata": {},
   "source": [
    "Regex functionality in Python resides in a module named `re`. The `re` module contains many useful functions and methods, most of which you’ll learn about in the next tutorial in this series."
   ]
  },
  {
   "cell_type": "markdown",
   "id": "8ca63b09",
   "metadata": {},
   "source": [
    "For now, you’ll focus predominantly on one function, `re.search()`."
   ]
  },
  {
   "cell_type": "markdown",
   "id": "e152f4b1",
   "metadata": {},
   "source": [
    "`re.search(<regex>, <string>)`"
   ]
  },
  {
   "cell_type": "markdown",
   "id": "749704eb",
   "metadata": {},
   "source": [
    "`re.search(<regex>, <string>)` scans `<string>` looking for the first location where the pattern `<regex>` matches. If a match is found, then `re.search()` returns a **match object**. Otherwise, it returns [`None`](https://realpython.com/null-in-python/)."
   ]
  },
  {
   "cell_type": "markdown",
   "id": "11579467",
   "metadata": {},
   "source": [
    "`re.search()` takes an optional third `<flags>` argument that you’ll learn about at the end of this tutorial."
   ]
  },
  {
   "cell_type": "markdown",
   "id": "2ffccfc9",
   "metadata": {},
   "source": [
    "<a class=\"anchor\" id=\"how_to_import_`re.search()`\"></a>\n",
    "\n",
    "### How to Import `re.search()`"
   ]
  },
  {
   "cell_type": "markdown",
   "id": "ce575cfd",
   "metadata": {},
   "source": [
    "Because `search()` resides in the `re` module, you need to [import](https://realpython.com/lessons/import-statement/) it before you can use it. One way to do this is to import the entire module and then use the module name as a prefix when calling the function:\n",
    "\n",
    "```python\n",
    "import re\n",
    "re.search(...)\n",
    "```"
   ]
  },
  {
   "cell_type": "markdown",
   "id": "407782ec",
   "metadata": {},
   "source": [
    "Alternatively, you can import the function from the module by name and then refer to it without the module name prefix:\n",
    "\n",
    "```python\n",
    "from re import search\n",
    "search(...)\n",
    "```"
   ]
  },
  {
   "cell_type": "markdown",
   "id": "9f3f5ee6",
   "metadata": {},
   "source": [
    "You’ll always need to import `re.search()` by one means or another before you’ll be able to use it."
   ]
  },
  {
   "cell_type": "markdown",
   "id": "397d4d23",
   "metadata": {},
   "source": [
    "The examples in the remainder of this tutorial will assume the first approach shown—importing the `re` module and then referring to the function with the module name prefix: `re.search()`."
   ]
  },
  {
   "cell_type": "markdown",
   "id": "6b5042dd",
   "metadata": {},
   "source": [
    "<a class=\"anchor\" id=\"first_pattern-matching_example\"></a>\n",
    "\n",
    "### First Pattern-Matching Example"
   ]
  },
  {
   "cell_type": "markdown",
   "id": "6b75370f",
   "metadata": {},
   "source": [
    "Now that you know how to gain access to `re.search()`, you can give it a try:"
   ]
  },
  {
   "cell_type": "code",
   "execution_count": 7,
   "id": "26d1d233-ac6d-4111-88c3-44dfcc8be5ea",
   "metadata": {},
   "outputs": [],
   "source": [
    "# One last reminder to import!\n",
    "import re"
   ]
  },
  {
   "cell_type": "code",
   "execution_count": 8,
   "id": "9b2be92a-05a3-4b1b-9838-90965c34d01d",
   "metadata": {},
   "outputs": [],
   "source": [
    "s = 'foo123bar'"
   ]
  },
  {
   "cell_type": "code",
   "execution_count": 9,
   "id": "80ce7f9d-28d0-413e-94a7-83734071b732",
   "metadata": {},
   "outputs": [
    {
     "data": {
      "text/plain": [
       "<re.Match object; span=(3, 6), match='123'>"
      ]
     },
     "execution_count": 9,
     "metadata": {},
     "output_type": "execute_result"
    }
   ],
   "source": [
    "re.search('123', s)"
   ]
  },
  {
   "cell_type": "markdown",
   "id": "4d590722",
   "metadata": {},
   "source": [
    "Here, the search pattern `<regex>` is `123` and `<string>` is `s`. Match objects contain a wealth of useful information that you’ll explore soon."
   ]
  },
  {
   "cell_type": "markdown",
   "id": "8af3381d",
   "metadata": {},
   "source": [
    "For the moment, the important point is that `re.search()` did in fact return a match object rather than `None`. That tells you that it found a match. In other words, the specified `<regex>` pattern `123` is present in `s`."
   ]
  },
  {
   "cell_type": "markdown",
   "id": "80877d02",
   "metadata": {},
   "source": [
    "A match object is [**truthy**](https://realpython.com/python-data-types/#boolean-type-boolean-context-and-truthiness), so you can use it in a [Boolean context](https://realpython.com/python-boolean/) like a conditional statement:"
   ]
  },
  {
   "cell_type": "code",
   "execution_count": 10,
   "id": "b8916adb",
   "metadata": {},
   "outputs": [
    {
     "name": "stdout",
     "output_type": "stream",
     "text": [
      "Found a match.\n"
     ]
    }
   ],
   "source": [
    "if re.search('123', s):\n",
    "    print('Found a match.')\n",
    "else:\n",
    "    print('No match.')"
   ]
  },
  {
   "cell_type": "markdown",
   "id": "2848ae6c",
   "metadata": {},
   "source": [
    "The interpreter displays the match object as `<_sre.SRE_Match object; span=(3, 6), match='123'>`. This contains some useful information."
   ]
  },
  {
   "cell_type": "markdown",
   "id": "1be47be8",
   "metadata": {},
   "source": [
    "`span=(3, 6)` indicates the portion of `<string>` in which the match was found. This means the same thing as it would in [slice notation](https://realpython.com/python-strings/#string-slicing):"
   ]
  },
  {
   "cell_type": "code",
   "execution_count": 11,
   "id": "5b652599",
   "metadata": {},
   "outputs": [
    {
     "data": {
      "text/plain": [
       "'123'"
      ]
     },
     "execution_count": 11,
     "metadata": {},
     "output_type": "execute_result"
    }
   ],
   "source": [
    "s[3:6]"
   ]
  },
  {
   "cell_type": "markdown",
   "id": "830c78b3",
   "metadata": {},
   "source": [
    "In this example, the match starts at character position `3` and extends up to but not including position `6`."
   ]
  },
  {
   "cell_type": "markdown",
   "id": "1c58a127",
   "metadata": {},
   "source": [
    "`match='123'` indicates which characters from `<string>` matched."
   ]
  },
  {
   "cell_type": "markdown",
   "id": "23c3ec4e",
   "metadata": {},
   "source": [
    "This is a good start. But in this case, the `<regex>` pattern is just the plain string `'123'`. The pattern matching here is still just character-by-character comparison, pretty much the same as the `in` operator and `.find()` examples shown earlier. The match object helpfully tells you that the matching characters were `'123'`, but that’s not much of a revelation since those were exactly the characters you searched for."
   ]
  },
  {
   "cell_type": "markdown",
   "id": "b1b52419",
   "metadata": {},
   "source": [
    "You’re just getting warmed up."
   ]
  },
  {
   "cell_type": "markdown",
   "id": "5102df15",
   "metadata": {},
   "source": [
    "<a class=\"anchor\" id=\"python_regex_metacharacters\"></a>\n",
    "\n",
    "### Python Regex Metacharacters"
   ]
  },
  {
   "cell_type": "markdown",
   "id": "761a8d52",
   "metadata": {},
   "source": [
    "The real power of regex matching in Python emerges when `<regex>` contains special characters called **metacharacters**. These have a unique meaning to the regex matching engine and vastly enhance the capability of the search."
   ]
  },
  {
   "cell_type": "markdown",
   "id": "dc292e27",
   "metadata": {},
   "source": [
    "Consider again the problem of how to determine whether a string contains any three consecutive decimal digit characters."
   ]
  },
  {
   "cell_type": "markdown",
   "id": "e0478b36",
   "metadata": {},
   "source": [
    "In a regex, a set of characters specified in square brackets (`[]`) makes up a **character class**. This metacharacter sequence matches any single character that is in the class, as demonstrated in the following example:"
   ]
  },
  {
   "cell_type": "code",
   "execution_count": 12,
   "id": "0c4a3e12",
   "metadata": {},
   "outputs": [
    {
     "data": {
      "text/plain": [
       "<re.Match object; span=(3, 6), match='123'>"
      ]
     },
     "execution_count": 12,
     "metadata": {},
     "output_type": "execute_result"
    }
   ],
   "source": [
    "s = 'foo123bar'\n",
    "re.search('[0-9][0-9][0-9]', s)"
   ]
  },
  {
   "cell_type": "markdown",
   "id": "b66941ea",
   "metadata": {},
   "source": [
    "`[0-9]` matches any single decimal digit character—any character between `'0'` and `'9'`, inclusive. The full expression `[0-9][0-9][0-9]` matches any sequence of three decimal digit characters. In this case, `s` matches because it contains three consecutive decimal digit characters, `'123'`."
   ]
  },
  {
   "cell_type": "markdown",
   "id": "59e75814",
   "metadata": {},
   "source": [
    "These strings also match:"
   ]
  },
  {
   "cell_type": "code",
   "execution_count": 13,
   "id": "76fb134b-9e0c-40ab-b74b-7e4ece749ed8",
   "metadata": {},
   "outputs": [
    {
     "data": {
      "text/plain": [
       "<re.Match object; span=(3, 6), match='456'>"
      ]
     },
     "execution_count": 13,
     "metadata": {},
     "output_type": "execute_result"
    }
   ],
   "source": [
    "re.search('[0-9][0-9][0-9]', 'foo456bar')"
   ]
  },
  {
   "cell_type": "code",
   "execution_count": 14,
   "id": "c39e6c3f-baad-4cc7-8d0e-f3391283732f",
   "metadata": {},
   "outputs": [
    {
     "data": {
      "text/plain": [
       "<re.Match object; span=(0, 3), match='234'>"
      ]
     },
     "execution_count": 14,
     "metadata": {},
     "output_type": "execute_result"
    }
   ],
   "source": [
    "re.search('[0-9][0-9][0-9]', '234baz')"
   ]
  },
  {
   "cell_type": "code",
   "execution_count": 15,
   "id": "66eeadd7-990f-4163-b734-bfd708fb1643",
   "metadata": {},
   "outputs": [
    {
     "data": {
      "text/plain": [
       "<re.Match object; span=(3, 6), match='678'>"
      ]
     },
     "execution_count": 15,
     "metadata": {},
     "output_type": "execute_result"
    }
   ],
   "source": [
    "re.search('[0-9][0-9][0-9]', 'qux678')"
   ]
  },
  {
   "cell_type": "markdown",
   "id": "b845b869",
   "metadata": {},
   "source": [
    "On the other hand, a string that doesn’t contain three consecutive digits won’t match:"
   ]
  },
  {
   "cell_type": "code",
   "execution_count": 16,
   "id": "01c33826",
   "metadata": {},
   "outputs": [
    {
     "name": "stdout",
     "output_type": "stream",
     "text": [
      "None\n"
     ]
    }
   ],
   "source": [
    "print(re.search('[0-9][0-9][0-9]', '12foo34'))"
   ]
  },
  {
   "cell_type": "markdown",
   "id": "216736d2",
   "metadata": {},
   "source": [
    "With regexes in Python, you can identify patterns in a string that you wouldn’t be able to find with the `in` operator or with string methods."
   ]
  },
  {
   "cell_type": "markdown",
   "id": "40c05109",
   "metadata": {},
   "source": [
    "Take a look at another regex metacharacter. The dot (`.`) metacharacter matches any character except a newline, so it functions like a wildcard:"
   ]
  },
  {
   "cell_type": "code",
   "execution_count": 17,
   "id": "4f6348be-6b8b-45ec-b72b-9b633c86b2d4",
   "metadata": {},
   "outputs": [
    {
     "data": {
      "text/plain": [
       "<re.Match object; span=(3, 6), match='123'>"
      ]
     },
     "execution_count": 17,
     "metadata": {},
     "output_type": "execute_result"
    }
   ],
   "source": [
    "s = 'foo123bar'\n",
    "re.search('1.3', s)"
   ]
  },
  {
   "cell_type": "code",
   "execution_count": 18,
   "id": "cbec50bc-a248-470c-877d-7bd813c8c186",
   "metadata": {},
   "outputs": [
    {
     "name": "stdout",
     "output_type": "stream",
     "text": [
      "None\n"
     ]
    }
   ],
   "source": [
    "s = 'foo13bar'\n",
    "print(re.search('1.3', s))"
   ]
  },
  {
   "cell_type": "markdown",
   "id": "959977f1",
   "metadata": {},
   "source": [
    "In the first example, the regex `1.3` matches `'123'` because the `'1'` and `'3'` match literally, and the `.` matches the `'2'`. Here, you’re essentially asking, “Does `s` contain a `'1'`, then any character (except a newline), then a `'3'`?” The answer is yes for `'foo123bar'` but no for `'foo13bar'`."
   ]
  },
  {
   "cell_type": "markdown",
   "id": "7ee5fecd",
   "metadata": {},
   "source": [
    "These examples provide a quick illustration of the power of regex metacharacters. Character class and dot are but two of the metacharacters supported by the `re` module. There are many more. Next, you’ll explore them fully."
   ]
  },
  {
   "cell_type": "markdown",
   "id": "5e0ed639",
   "metadata": {},
   "source": [
    "<a class=\"anchor\" id=\"metacharacters_supported_by_the_`re`_module\"></a>\n",
    "\n",
    "## Metacharacters Supported by the `re` Module"
   ]
  },
  {
   "cell_type": "markdown",
   "id": "d9d5634e",
   "metadata": {},
   "source": [
    "The following table briefly summarizes all the metacharacters supported by the `re` module. Some characters serve more than one purpose:"
   ]
  },
  {
   "cell_type": "markdown",
   "id": "20de1308",
   "metadata": {},
   "source": [
    "|Character(s)|Meaning|\n",
    "|:--|:--|\n",
    "|`.`|Matches any single character except newline|\n",
    "|`^`|∙ Anchors a match at the start of a string <br />∙ Complements a character class <br />|\n",
    "|`$`|Anchors a match at the end of a string|\n",
    "|`*`|Matches zero or more repetitions|\n",
    "|`+`|Matches one or more repetitions|\n",
    "|`?`|∙ Matches zero or one repetition  <br />∙ Specifies the non-greedy versions of `*`, `+`, and `?`  <br />∙ Introduces a lookahead or lookbehind assertion  <br />∙ Creates a named group|\n",
    "|`{}`|Matches an explicitly specified number of repetitions|\n",
    "|`\\`|∙ Escapes a metacharacter of its special meaning  <br />∙ Introduces a special character class  <br />∙ Introduces a grouping backreference|\n",
    "|`[]`|Specifies a character class|\n",
    "|`\\|`|Designates alternation|\n",
    "|`()`|Creates a group|\n",
    "|`:`  <br />`#`  <br />`=`  <br />`!`|Designate a specialized group|\n",
    "|`<>`|Creates a named group|\n"
   ]
  },
  {
   "cell_type": "markdown",
   "id": "21ccc3f7",
   "metadata": {},
   "source": [
    "This may seem like an overwhelming amount of information, but [don’t panic!](https://en.wikipedia.org/wiki/Phrases_from_The_Hitchhiker%27s_Guide_to_the_Galaxy#Don%27t_Panic) The following sections go over each one of these in detail."
   ]
  },
  {
   "cell_type": "markdown",
   "id": "edbe35b9",
   "metadata": {},
   "source": [
    "The regex parser regards any character not listed above as an ordinary character that matches only itself. For example, in the [first pattern-matching example](#first-pattern-matching-example) shown above, you saw this:"
   ]
  },
  {
   "cell_type": "code",
   "execution_count": 19,
   "id": "43b57ff0",
   "metadata": {},
   "outputs": [
    {
     "data": {
      "text/plain": [
       "<re.Match object; span=(3, 6), match='123'>"
      ]
     },
     "execution_count": 19,
     "metadata": {},
     "output_type": "execute_result"
    }
   ],
   "source": [
    "s = 'foo123bar'\n",
    "re.search('123', s)"
   ]
  },
  {
   "cell_type": "markdown",
   "id": "c026e48d",
   "metadata": {},
   "source": [
    "In this case, `123` is technically a regex, but it’s not a very interesting one because it doesn’t contain any metacharacters. It just matches the string `'123'`."
   ]
  },
  {
   "cell_type": "markdown",
   "id": "f0145478",
   "metadata": {},
   "source": [
    "Things get much more exciting when you throw metacharacters into the mix. The following sections explain in detail how you can use each metacharacter or metacharacter sequence to enhance pattern-matching functionality."
   ]
  },
  {
   "cell_type": "markdown",
   "id": "413cc42f",
   "metadata": {},
   "source": [
    "<a class=\"anchor\" id=\"metacharacters_that_match_a_single_character\"></a>\n",
    "\n",
    "### Metacharacters That Match a Single Character"
   ]
  },
  {
   "cell_type": "markdown",
   "id": "4a005d22",
   "metadata": {},
   "source": [
    "The metacharacter sequences in this section try to match a single character from the search string. When the regex parser encounters one of these metacharacter sequences, a match happens if the character at the current parsing position fits the description that the sequence describes."
   ]
  },
  {
   "cell_type": "markdown",
   "id": "a702c726",
   "metadata": {},
   "source": [
    "`[]`"
   ]
  },
  {
   "cell_type": "markdown",
   "id": "22344a96",
   "metadata": {},
   "source": [
    "Characters contained in square brackets (`[]`) represent a **character class**—an enumerated set of characters to match from. A character class metacharacter sequence will match any single character contained in the class."
   ]
  },
  {
   "cell_type": "markdown",
   "id": "a25a81f9",
   "metadata": {},
   "source": [
    "You can enumerate the characters individually like this:"
   ]
  },
  {
   "cell_type": "code",
   "execution_count": 20,
   "id": "a9831154-7cee-4900-aaea-8df352fde822",
   "metadata": {},
   "outputs": [
    {
     "data": {
      "text/plain": [
       "<re.Match object; span=(3, 6), match='bar'>"
      ]
     },
     "execution_count": 20,
     "metadata": {},
     "output_type": "execute_result"
    }
   ],
   "source": [
    "re.search('ba[artz]', 'foobarqux')"
   ]
  },
  {
   "cell_type": "code",
   "execution_count": 21,
   "id": "728d6fe4-6b03-4a03-8a23-9ea1c808db05",
   "metadata": {},
   "outputs": [
    {
     "data": {
      "text/plain": [
       "<re.Match object; span=(3, 6), match='baz'>"
      ]
     },
     "execution_count": 21,
     "metadata": {},
     "output_type": "execute_result"
    }
   ],
   "source": [
    "re.search('ba[artz]', 'foobazqux')"
   ]
  },
  {
   "cell_type": "markdown",
   "id": "9e867d79",
   "metadata": {},
   "source": [
    "The metacharacter sequence `[artz]` matches any single `'a'`, `'r'`, `'t'`, or `'z'` character. In the example, the regex `ba[artz]` matches both `'bar'` and `'baz'` (and would also match `'baa'` and `'bat'`)."
   ]
  },
  {
   "cell_type": "markdown",
   "id": "d6ebf91b",
   "metadata": {},
   "source": [
    "A character class can also contain a range of characters separated by a hyphen (`-`), in which case it matches any single character within the range. For example, `[a-z]` matches any lowercase alphabetic character between `'a'` and `'z'`, inclusive:"
   ]
  },
  {
   "cell_type": "code",
   "execution_count": 22,
   "id": "1d3fdc35",
   "metadata": {},
   "outputs": [
    {
     "data": {
      "text/plain": [
       "<re.Match object; span=(3, 4), match='b'>"
      ]
     },
     "execution_count": 22,
     "metadata": {},
     "output_type": "execute_result"
    }
   ],
   "source": [
    "re.search('[a-z]', 'FOObar')"
   ]
  },
  {
   "cell_type": "markdown",
   "id": "bceb88c8",
   "metadata": {},
   "source": [
    "`[0-9]` matches any digit character:"
   ]
  },
  {
   "cell_type": "code",
   "execution_count": 23,
   "id": "3d560720",
   "metadata": {},
   "outputs": [
    {
     "data": {
      "text/plain": [
       "<re.Match object; span=(3, 5), match='12'>"
      ]
     },
     "execution_count": 23,
     "metadata": {},
     "output_type": "execute_result"
    }
   ],
   "source": [
    "re.search('[0-9][0-9]', 'foo123bar')"
   ]
  },
  {
   "cell_type": "markdown",
   "id": "a8006191",
   "metadata": {},
   "source": [
    "In this case, `[0-9][0-9]` matches a sequence of two digits. The first portion of the string `'foo123bar'` that matches is `'12'`."
   ]
  },
  {
   "cell_type": "markdown",
   "id": "ee68dd94",
   "metadata": {},
   "source": [
    "`[0-9a-fA-F]` matches any [hexadecimal](https://en.wikipedia.org/wiki/Hexadecimal) digit character:"
   ]
  },
  {
   "cell_type": "code",
   "execution_count": 24,
   "id": "3498e5ad",
   "metadata": {},
   "outputs": [
    {
     "data": {
      "text/plain": [
       "<re.Match object; span=(4, 5), match='a'>"
      ]
     },
     "execution_count": 24,
     "metadata": {},
     "output_type": "execute_result"
    }
   ],
   "source": [
    "re.search('[0-9a-fA-f]', '--- a0 ---')"
   ]
  },
  {
   "cell_type": "markdown",
   "id": "bba462b6",
   "metadata": {},
   "source": [
    "Here, `[0-9a-fA-F]` matches the first hexadecimal digit character in the search string, `'a'`. "
   ]
  },
  {
   "cell_type": "markdown",
   "id": "d2efd09b",
   "metadata": {},
   "source": [
    "You can complement a character class by specifying `^` as the first character, in which case it matches any character that *isn’t* in the set. In the following example, `[^0-9]` matches any character that isn’t a digit:"
   ]
  },
  {
   "cell_type": "code",
   "execution_count": 25,
   "id": "a943663b",
   "metadata": {},
   "outputs": [
    {
     "data": {
      "text/plain": [
       "<re.Match object; span=(5, 6), match='f'>"
      ]
     },
     "execution_count": 25,
     "metadata": {},
     "output_type": "execute_result"
    }
   ],
   "source": [
    "re.search('[^0-9]', '12345foo')"
   ]
  },
  {
   "cell_type": "markdown",
   "id": "3006e5cb",
   "metadata": {},
   "source": [
    "Here, the match object indicates that the first character in the string that isn’t a digit is `'f'`."
   ]
  },
  {
   "cell_type": "markdown",
   "id": "8f2d9439",
   "metadata": {},
   "source": [
    "If a `^` character appears in a character class but isn’t the first character, then it has no special meaning and matches a literal `'^'` character:"
   ]
  },
  {
   "cell_type": "code",
   "execution_count": 26,
   "id": "938c2713",
   "metadata": {},
   "outputs": [
    {
     "data": {
      "text/plain": [
       "<re.Match object; span=(3, 4), match='^'>"
      ]
     },
     "execution_count": 26,
     "metadata": {},
     "output_type": "execute_result"
    }
   ],
   "source": [
    "re.search('[#:^]', 'foo^bar:baz#qux')"
   ]
  },
  {
   "cell_type": "markdown",
   "id": "fd3869b6-eba9-4cb8-a115-b8dce0495525",
   "metadata": {},
   "source": [
    "If you are looking to search for exactly `^` then excape `^` metachracter with a `\\`:"
   ]
  },
  {
   "cell_type": "code",
   "execution_count": 29,
   "id": "1c9f131e-4a93-4f07-843f-865a41b7425e",
   "metadata": {},
   "outputs": [
    {
     "data": {
      "text/plain": [
       "<re.Match object; span=(3, 4), match='^'>"
      ]
     },
     "execution_count": 29,
     "metadata": {},
     "output_type": "execute_result"
    }
   ],
   "source": [
    "re.search('[\\^]', 'foo^bar:baz#qux')"
   ]
  },
  {
   "cell_type": "markdown",
   "id": "e5f18652",
   "metadata": {},
   "source": [
    "As you’ve seen, you can specify a range of characters in a character class by separating characters with a hyphen. What if you want the character class to include a literal hyphen character? You can place it as the first or last character or escape it with a backslash (`\\`):"
   ]
  },
  {
   "cell_type": "code",
   "execution_count": 30,
   "id": "a9b65138-4d95-4dc9-9655-ebf6369b5b7c",
   "metadata": {},
   "outputs": [
    {
     "data": {
      "text/plain": [
       "<re.Match object; span=(3, 4), match='-'>"
      ]
     },
     "execution_count": 30,
     "metadata": {},
     "output_type": "execute_result"
    }
   ],
   "source": [
    "re.search('[-abc]', '123-456')"
   ]
  },
  {
   "cell_type": "code",
   "execution_count": 31,
   "id": "699f0d69-371e-4ec0-93a8-e91c96b0b020",
   "metadata": {},
   "outputs": [
    {
     "data": {
      "text/plain": [
       "<re.Match object; span=(3, 4), match='-'>"
      ]
     },
     "execution_count": 31,
     "metadata": {},
     "output_type": "execute_result"
    }
   ],
   "source": [
    "re.search('[abc-]', '123-456')"
   ]
  },
  {
   "cell_type": "code",
   "execution_count": 32,
   "id": "d3632bff-d5e0-4f83-ad7e-24088cebbffc",
   "metadata": {},
   "outputs": [
    {
     "data": {
      "text/plain": [
       "<re.Match object; span=(3, 4), match='-'>"
      ]
     },
     "execution_count": 32,
     "metadata": {},
     "output_type": "execute_result"
    }
   ],
   "source": [
    "re.search('[ab\\-c]', '123-456')"
   ]
  },
  {
   "cell_type": "markdown",
   "id": "f4c375e9",
   "metadata": {},
   "source": [
    "If you want to include a literal `']'` in a character class, then you can place it as the first character or escape it with backslash:"
   ]
  },
  {
   "cell_type": "code",
   "execution_count": 33,
   "id": "0fa74d6b-7c71-42e7-81bd-5e690afc84c4",
   "metadata": {},
   "outputs": [
    {
     "data": {
      "text/plain": [
       "<re.Match object; span=(5, 6), match=']'>"
      ]
     },
     "execution_count": 33,
     "metadata": {},
     "output_type": "execute_result"
    }
   ],
   "source": [
    "re.search('[]]', 'foo[1]')"
   ]
  },
  {
   "cell_type": "code",
   "execution_count": 34,
   "id": "fc219bf4-5c61-45fc-b1d8-d49436c3d96d",
   "metadata": {},
   "outputs": [
    {
     "data": {
      "text/plain": [
       "<re.Match object; span=(5, 6), match=']'>"
      ]
     },
     "execution_count": 34,
     "metadata": {},
     "output_type": "execute_result"
    }
   ],
   "source": [
    "re.search('[ab\\]cd]', 'foo[1]')"
   ]
  },
  {
   "cell_type": "markdown",
   "id": "4356661c",
   "metadata": {},
   "source": [
    "Other regex metacharacters lose their special meaning inside a character class:"
   ]
  },
  {
   "cell_type": "code",
   "execution_count": 35,
   "id": "c43c177e-b185-4e60-99cd-56d79ddd2d29",
   "metadata": {},
   "outputs": [
    {
     "data": {
      "text/plain": [
       "<re.Match object; span=(3, 4), match='*'>"
      ]
     },
     "execution_count": 35,
     "metadata": {},
     "output_type": "execute_result"
    }
   ],
   "source": [
    "re.search('[)*+|]', '123*456')"
   ]
  },
  {
   "cell_type": "code",
   "execution_count": 36,
   "id": "a16474c2-328d-4e1b-862e-ffd75f17ea8e",
   "metadata": {},
   "outputs": [
    {
     "data": {
      "text/plain": [
       "<re.Match object; span=(3, 4), match='+'>"
      ]
     },
     "execution_count": 36,
     "metadata": {},
     "output_type": "execute_result"
    }
   ],
   "source": [
    "re.search('[)*+|]', '123+456')"
   ]
  },
  {
   "cell_type": "markdown",
   "id": "d4ad5634",
   "metadata": {},
   "source": [
    "As you saw in the table above, `*` and `+` have special meanings in a regex in Python. They designate repetition, which you’ll learn more about shortly. But in this example, they’re inside a character class, so they match themselves literally."
   ]
  },
  {
   "cell_type": "markdown",
   "id": "7dabd5e7",
   "metadata": {},
   "source": [
    "dot (`.`)"
   ]
  },
  {
   "cell_type": "markdown",
   "id": "e32cf0da",
   "metadata": {},
   "source": [
    "The `.` metacharacter matches any single character except a newline:"
   ]
  },
  {
   "cell_type": "code",
   "execution_count": 37,
   "id": "cac13434-f750-46bf-839a-97525d5959cd",
   "metadata": {},
   "outputs": [
    {
     "data": {
      "text/plain": [
       "<re.Match object; span=(0, 7), match='fooxbar'>"
      ]
     },
     "execution_count": 37,
     "metadata": {},
     "output_type": "execute_result"
    }
   ],
   "source": [
    "re.search('foo.bar', 'fooxbar')"
   ]
  },
  {
   "cell_type": "code",
   "execution_count": 38,
   "id": "0244df8d-6b6e-475a-85e8-114aeb611833",
   "metadata": {},
   "outputs": [
    {
     "name": "stdout",
     "output_type": "stream",
     "text": [
      "None\n"
     ]
    }
   ],
   "source": [
    "print(re.search('foo.bar', 'foobar'))"
   ]
  },
  {
   "cell_type": "code",
   "execution_count": 39,
   "id": "a6ac3d2b-fd7b-4291-82c4-fe968337c5d5",
   "metadata": {},
   "outputs": [
    {
     "name": "stdout",
     "output_type": "stream",
     "text": [
      "None\n"
     ]
    }
   ],
   "source": [
    "print(re.search('foo.bar', 'foo\\nbar'))"
   ]
  },
  {
   "cell_type": "markdown",
   "id": "5244a40a",
   "metadata": {},
   "source": [
    "As a regex, `foo.bar` essentially means the characters `'foo'`, then any character except newline, then the characters `'bar'`. The first string shown above, `'fooxbar'`, fits the bill because the `.` metacharacter matches the `'x'`."
   ]
  },
  {
   "cell_type": "markdown",
   "id": "3a2e33b0",
   "metadata": {},
   "source": [
    "The second and third strings fail to match. In the last case, although there’s a character between `'foo'` and `'bar'`, it’s a newline, and by default, the `.` metacharacter doesn’t match a newline. There is, however, a way to force `.` to match a newline, which you’ll learn about at the end of this tutorial."
   ]
  },
  {
   "cell_type": "markdown",
   "id": "677b6c1c",
   "metadata": {},
   "source": [
    "`\\w`  \n",
    "`\\W`"
   ]
  },
  {
   "cell_type": "markdown",
   "id": "75c664db",
   "metadata": {},
   "source": [
    "`\\w` matches any alphanumeric word character. Word characters are uppercase and lowercase letters, digits, and the underscore (`_`) character, so `\\w` is essentially shorthand for `[a-zA-Z0-9_]`:"
   ]
  },
  {
   "cell_type": "code",
   "execution_count": 40,
   "id": "5307007c-3d0d-4c7c-8f73-8045a787e05c",
   "metadata": {},
   "outputs": [
    {
     "data": {
      "text/plain": [
       "<re.Match object; span=(3, 4), match='a'>"
      ]
     },
     "execution_count": 40,
     "metadata": {},
     "output_type": "execute_result"
    }
   ],
   "source": [
    "re.search('\\w', '#(.a$@&')"
   ]
  },
  {
   "cell_type": "code",
   "execution_count": 41,
   "id": "79c0a06f-30ba-457f-b1b9-cdffe100dee2",
   "metadata": {},
   "outputs": [
    {
     "data": {
      "text/plain": [
       "<re.Match object; span=(3, 4), match='a'>"
      ]
     },
     "execution_count": 41,
     "metadata": {},
     "output_type": "execute_result"
    }
   ],
   "source": [
    "re.search('[a-zA-Z0-9_]', '#(.a$@&')"
   ]
  },
  {
   "cell_type": "markdown",
   "id": "e904f665",
   "metadata": {},
   "source": [
    "In this case, the first word character in the string `'#(.a$@&'` is `'a'`."
   ]
  },
  {
   "cell_type": "markdown",
   "id": "0e917617",
   "metadata": {},
   "source": [
    "`\\W` is the opposite. It matches any non-word character and is equivalent to `[^a-zA-Z0-9_]`:"
   ]
  },
  {
   "cell_type": "code",
   "execution_count": 42,
   "id": "37f0976c-4e68-4e39-b240-4bf9cae3812a",
   "metadata": {},
   "outputs": [
    {
     "data": {
      "text/plain": [
       "<re.Match object; span=(3, 4), match='*'>"
      ]
     },
     "execution_count": 42,
     "metadata": {},
     "output_type": "execute_result"
    }
   ],
   "source": [
    "re.search('\\W', 'a_1*3Qb')"
   ]
  },
  {
   "cell_type": "code",
   "execution_count": 43,
   "id": "ac5b8950-9759-482d-bb30-f829cd80a447",
   "metadata": {},
   "outputs": [
    {
     "data": {
      "text/plain": [
       "<re.Match object; span=(3, 4), match='*'>"
      ]
     },
     "execution_count": 43,
     "metadata": {},
     "output_type": "execute_result"
    }
   ],
   "source": [
    "re.search('[^a-zA-Z0-9_]', 'a_1*3Qb')"
   ]
  },
  {
   "cell_type": "markdown",
   "id": "eb3e62d8",
   "metadata": {},
   "source": [
    "Here, the first non-word character in `'a_1*3!b'` is `'*'`."
   ]
  },
  {
   "cell_type": "markdown",
   "id": "a24568ea",
   "metadata": {},
   "source": [
    "`\\d`  \n",
    "`\\D`"
   ]
  },
  {
   "cell_type": "markdown",
   "id": "2b5e403c",
   "metadata": {},
   "source": [
    "`\\d` matches any decimal digit character. `\\D` is the opposite. It matches any character that *isn’t* a decimal digit:"
   ]
  },
  {
   "cell_type": "code",
   "execution_count": 44,
   "id": "2846e2bf-bf2f-4bd9-925f-5dcb7e059a98",
   "metadata": {},
   "outputs": [
    {
     "data": {
      "text/plain": [
       "<re.Match object; span=(3, 4), match='4'>"
      ]
     },
     "execution_count": 44,
     "metadata": {},
     "output_type": "execute_result"
    }
   ],
   "source": [
    "re.search('\\d', 'abc4def')"
   ]
  },
  {
   "cell_type": "code",
   "execution_count": 45,
   "id": "d6d6f444-33dc-4f7d-93c1-963db7541c05",
   "metadata": {},
   "outputs": [
    {
     "data": {
      "text/plain": [
       "<re.Match object; span=(3, 4), match='Q'>"
      ]
     },
     "execution_count": 45,
     "metadata": {},
     "output_type": "execute_result"
    }
   ],
   "source": [
    "re.search('\\D', '234Q678')"
   ]
  },
  {
   "cell_type": "markdown",
   "id": "c7f39cd7",
   "metadata": {},
   "source": [
    "`\\d` is essentially equivalent to `[0-9]`, and `\\D` is equivalent to `[^0-9]`."
   ]
  },
  {
   "cell_type": "markdown",
   "id": "78d6947a",
   "metadata": {},
   "source": [
    "`\\s`  \n",
    "`\\S`"
   ]
  },
  {
   "cell_type": "markdown",
   "id": "b94012c3",
   "metadata": {},
   "source": [
    "`\\s` matches any whitespace character:"
   ]
  },
  {
   "cell_type": "code",
   "execution_count": 46,
   "id": "2b2e9d5e",
   "metadata": {},
   "outputs": [
    {
     "data": {
      "text/plain": [
       "<re.Match object; span=(3, 4), match='\\n'>"
      ]
     },
     "execution_count": 46,
     "metadata": {},
     "output_type": "execute_result"
    }
   ],
   "source": [
    "re.search('\\s', 'foo\\nbar baz')"
   ]
  },
  {
   "cell_type": "markdown",
   "id": "585421e5",
   "metadata": {},
   "source": [
    "Note that, unlike the dot wildcard metacharacter, `\\s` does match a newline character."
   ]
  },
  {
   "cell_type": "markdown",
   "id": "04ff55c2",
   "metadata": {},
   "source": [
    "`\\S` is the opposite of `\\s`. It matches any character that *isn’t* whitespace:"
   ]
  },
  {
   "cell_type": "code",
   "execution_count": 47,
   "id": "e043f35c",
   "metadata": {},
   "outputs": [
    {
     "data": {
      "text/plain": [
       "<re.Match object; span=(4, 5), match='f'>"
      ]
     },
     "execution_count": 47,
     "metadata": {},
     "output_type": "execute_result"
    }
   ],
   "source": [
    "re.search('\\S', '  \\n foo  \\n  ')"
   ]
  },
  {
   "cell_type": "markdown",
   "id": "e29876c1",
   "metadata": {},
   "source": [
    "Again, `\\s` and `\\S` consider a newline to be whitespace. In the example above, the first non-whitespace character is `'f'`."
   ]
  },
  {
   "cell_type": "markdown",
   "id": "3fd02a68",
   "metadata": {},
   "source": [
    "The character class sequences `\\w`, `\\W`, `\\d`, `\\D`, `\\s`, and `\\S` can appear inside a square bracket character class as well:"
   ]
  },
  {
   "cell_type": "code",
   "execution_count": 48,
   "id": "0efa834b-6ffc-419d-a647-023d2513517b",
   "metadata": {},
   "outputs": [
    {
     "data": {
      "text/plain": [
       "<re.Match object; span=(3, 4), match='3'>"
      ]
     },
     "execution_count": 48,
     "metadata": {},
     "output_type": "execute_result"
    }
   ],
   "source": [
    "re.search('[\\d\\w\\s]', '---3---')"
   ]
  },
  {
   "cell_type": "code",
   "execution_count": 49,
   "id": "e6171446-86ee-4b03-b1e2-6137252f03ce",
   "metadata": {},
   "outputs": [
    {
     "data": {
      "text/plain": [
       "<re.Match object; span=(3, 4), match='a'>"
      ]
     },
     "execution_count": 49,
     "metadata": {},
     "output_type": "execute_result"
    }
   ],
   "source": [
    "re.search('[\\d\\w\\s]', '---a---')"
   ]
  },
  {
   "cell_type": "code",
   "execution_count": 50,
   "id": "b856b897-9319-412e-9771-39dad3bb8b04",
   "metadata": {},
   "outputs": [
    {
     "data": {
      "text/plain": [
       "<re.Match object; span=(3, 4), match=' '>"
      ]
     },
     "execution_count": 50,
     "metadata": {},
     "output_type": "execute_result"
    }
   ],
   "source": [
    "re.search('[\\d\\w\\s]', '--- ---')"
   ]
  },
  {
   "cell_type": "markdown",
   "id": "bc75e78a",
   "metadata": {},
   "source": [
    "In this case, `[\\d\\w\\s]` matches any digit, word, or whitespace character. And since `\\w` includes `\\d`, the same character class could also be expressed slightly shorter as `[\\w\\s]`."
   ]
  },
  {
   "cell_type": "markdown",
   "id": "30eda452",
   "metadata": {},
   "source": [
    "<a class=\"anchor\" id=\"escaping_metacharacters\"></a>\n",
    "\n",
    "### Escaping Metacharacters"
   ]
  },
  {
   "cell_type": "markdown",
   "id": "a82a5d30",
   "metadata": {},
   "source": [
    "Occasionally, you’ll want to include a metacharacter in your regex, except you won’t want it to carry its special meaning. Instead, you’ll want it to represent itself as a literal character."
   ]
  },
  {
   "cell_type": "markdown",
   "id": "00b9c208",
   "metadata": {},
   "source": [
    "backslash (`\\`)"
   ]
  },
  {
   "cell_type": "markdown",
   "id": "8c4f06c9",
   "metadata": {},
   "source": [
    "As you’ve just seen, the backslash character can introduce special character classes like word, digit, and whitespace. There are also special metacharacter sequences called **anchors** that begin with a backslash, which you’ll learn about below."
   ]
  },
  {
   "cell_type": "markdown",
   "id": "4ef1bd6c",
   "metadata": {},
   "source": [
    "When it’s not serving either of these purposes, the backslash **escapes** metacharacters. A metacharacter preceded by a backslash loses its special meaning and matches the literal character instead. Consider the following examples:"
   ]
  },
  {
   "cell_type": "code",
   "execution_count": 51,
   "id": "fe401b2d-009a-438e-9c46-156cab4dcd5a",
   "metadata": {},
   "outputs": [
    {
     "data": {
      "text/plain": [
       "<re.Match object; span=(0, 1), match='f'>"
      ]
     },
     "execution_count": 51,
     "metadata": {},
     "output_type": "execute_result"
    }
   ],
   "source": [
    "re.search('.', 'foo.bar')"
   ]
  },
  {
   "cell_type": "code",
   "execution_count": 52,
   "id": "85ec852c-2fe6-4d31-809d-0919161c6ec1",
   "metadata": {},
   "outputs": [
    {
     "data": {
      "text/plain": [
       "<re.Match object; span=(3, 4), match='.'>"
      ]
     },
     "execution_count": 52,
     "metadata": {},
     "output_type": "execute_result"
    }
   ],
   "source": [
    "re.search('\\.', 'foo.bar')"
   ]
  },
  {
   "cell_type": "markdown",
   "id": "f5c9d2e0",
   "metadata": {},
   "source": [
    "In the `<regex>` on **line 1**, the dot (`.`) functions as a wildcard metacharacter, which matches the first character in the string (`'f'`). The `.` character in the `<regex>` on **line 4** is escaped by a backslash, so it isn’t a wildcard. It’s interpreted literally and matches the `'.'` at index `3` of the search string."
   ]
  },
  {
   "cell_type": "markdown",
   "id": "3b5201ed",
   "metadata": {},
   "source": [
    "Using backslashes for escaping can get messy. Suppose you have a string that contains a single backslash:"
   ]
  },
  {
   "cell_type": "code",
   "execution_count": 53,
   "id": "9c85513f",
   "metadata": {},
   "outputs": [
    {
     "name": "stdout",
     "output_type": "stream",
     "text": [
      "foo\\bar\n"
     ]
    }
   ],
   "source": [
    "s = r'foo\\bar'\n",
    "print(s)"
   ]
  },
  {
   "cell_type": "markdown",
   "id": "c807f04a",
   "metadata": {},
   "source": [
    "Now suppose you want to create a `<regex>` that will match the backslash between `'foo'` and `'bar'`. The backslash is itself a special character in a regex, so to specify a literal backslash, you need to escape it with another backslash. If that’s that case, then the following should work:\n",
    "\n",
    "```python\n",
    "re.search('\\\\', s)\n",
    "```"
   ]
  },
  {
   "cell_type": "markdown",
   "id": "a7f4d803",
   "metadata": {},
   "source": [
    "Not quite. This is what you get if you try it:"
   ]
  },
  {
   "cell_type": "markdown",
   "id": "0bdda227-42db-4075-b995-f48e588377a7",
   "metadata": {},
   "source": [
    "```python\n",
    ">>> re.search('\\\\', s)\n",
    "Traceback (most recent call last):\n",
    "  File \"<pyshell#3>\", line 1, in <module>\n",
    "    re.search('\\\\', s)\n",
    "  File \"C:\\Python36\\lib\\re.py\", line 182, in search\n",
    "    return _compile(pattern, flags).search(string)\n",
    "  File \"C:\\Python36\\lib\\re.py\", line 301, in _compile\n",
    "    p = sre_compile.compile(pattern, flags)\n",
    "  File \"C:\\Python36\\lib\\sre_compile.py\", line 562, in compile\n",
    "    p = sre_parse.parse(p, flags)\n",
    "  File \"C:\\Python36\\lib\\sre_parse.py\", line 848, in parse\n",
    "    source = Tokenizer(str)\n",
    "  File \"C:\\Python36\\lib\\sre_parse.py\", line 231, in __init__\n",
    "    self.__next()\n",
    "  File \"C:\\Python36\\lib\\sre_parse.py\", line 245, in __next\n",
    "    self.string, len(self.string) - 1) from None\n",
    "sre_constants.error: bad escape (end of pattern) at position 0\n",
    "```"
   ]
  },
  {
   "cell_type": "markdown",
   "id": "c0a1a371",
   "metadata": {},
   "source": [
    "Oops. What happened?"
   ]
  },
  {
   "cell_type": "markdown",
   "id": "8cbb2d26",
   "metadata": {},
   "source": [
    "The problem here is that the backslash escaping happens twice, first by the Python interpreter on the string literal and then again by the regex parser on the regex it receives."
   ]
  },
  {
   "cell_type": "markdown",
   "id": "e24edc1e",
   "metadata": {},
   "source": [
    "Here’s the sequence of events:"
   ]
  },
  {
   "cell_type": "markdown",
   "id": "ac08bf21",
   "metadata": {},
   "source": [
    "1. The Python interpreter is the first to process the string literal `'\\\\'`. It interprets that as an escaped backslash and passes only a single backslash to `re.search()`.\n",
    "2. The regex parser receives just a single backslash, which isn’t a meaningful regex, so the messy error ensues.\n"
   ]
  },
  {
   "cell_type": "markdown",
   "id": "dfdc1bc0",
   "metadata": {},
   "source": [
    "There are two ways around this. First, you can escape *both* backslashes in the original string literal:"
   ]
  },
  {
   "cell_type": "code",
   "execution_count": 55,
   "id": "761fe45c",
   "metadata": {},
   "outputs": [
    {
     "data": {
      "text/plain": [
       "<re.Match object; span=(3, 4), match='\\\\'>"
      ]
     },
     "execution_count": 55,
     "metadata": {},
     "output_type": "execute_result"
    }
   ],
   "source": [
    "re.search('\\\\\\\\', s)"
   ]
  },
  {
   "cell_type": "markdown",
   "id": "2ea36240",
   "metadata": {},
   "source": [
    "Doing so causes the following to happen:"
   ]
  },
  {
   "cell_type": "markdown",
   "id": "6b3e65a1",
   "metadata": {},
   "source": [
    "1. The interpreter sees `'\\\\\\\\'` as a pair of escaped backslashes. It reduces each pair to a single backslash and passes `'\\\\'` to the regex parser.\n",
    "2. The regex parser then sees `\\\\` as one escaped backslash. As a `<regex>`, that matches a single backslash character. You can see from the match object that it matched the backslash at index `3` in `s` as intended. It’s cumbersome, but it works.\n"
   ]
  },
  {
   "cell_type": "markdown",
   "id": "3cd3e0e9",
   "metadata": {},
   "source": [
    "The second, and probably cleaner, way to handle this is to specify the `<regex>` using a [raw string](https://realpython.com/lessons/raw-strings/):"
   ]
  },
  {
   "cell_type": "code",
   "execution_count": 56,
   "id": "45b19b23",
   "metadata": {},
   "outputs": [
    {
     "data": {
      "text/plain": [
       "<re.Match object; span=(3, 4), match='\\\\'>"
      ]
     },
     "execution_count": 56,
     "metadata": {},
     "output_type": "execute_result"
    }
   ],
   "source": [
    "re.search(r'\\\\', s)"
   ]
  },
  {
   "cell_type": "markdown",
   "id": "49f75604",
   "metadata": {},
   "source": [
    "This suppresses the escaping at the interpreter level. The string `'\\\\'` gets passed unchanged to the regex parser, which again sees one escaped backslash as desired."
   ]
  },
  {
   "cell_type": "markdown",
   "id": "e41780a2-1d0c-4bf9-9b30-b17ac54a96d1",
   "metadata": {},
   "source": [
    "<div class=\"alert alert-success\">\n",
    "    It’s good practice to use a <strong>raw string</strong> to specify a regex in Python whenever it contains backslashes.\n",
    "</div>"
   ]
  },
  {
   "cell_type": "markdown",
   "id": "7e00e621",
   "metadata": {},
   "source": [
    "<a class=\"anchor\" id=\"anchors\"></a>\n",
    "\n",
    "### Anchors"
   ]
  },
  {
   "cell_type": "markdown",
   "id": "97137697",
   "metadata": {},
   "source": [
    "Anchors are zero-width matches. They don’t match any actual characters in the search string, and they don’t consume any of the search string during parsing. Instead, an anchor dictates a particular location in the search string where a match must occur."
   ]
  },
  {
   "cell_type": "markdown",
   "id": "826b84d1",
   "metadata": {},
   "source": [
    "`^`  \n",
    "`\\A`"
   ]
  },
  {
   "cell_type": "markdown",
   "id": "245c59de",
   "metadata": {},
   "source": [
    "When the regex parser encounters `^` or `\\A`, the parser’s current position must be at the beginning of the search string for it to find a match."
   ]
  },
  {
   "cell_type": "markdown",
   "id": "ac3f411f",
   "metadata": {},
   "source": [
    "In other words, regex `^foo` stipulates that `'foo'` must be present not just any old place in the search string, but at the beginning:"
   ]
  },
  {
   "cell_type": "code",
   "execution_count": 57,
   "id": "bb2f7635-33e4-4a7e-8e09-867cc47bcad3",
   "metadata": {},
   "outputs": [
    {
     "data": {
      "text/plain": [
       "<re.Match object; span=(0, 3), match='foo'>"
      ]
     },
     "execution_count": 57,
     "metadata": {},
     "output_type": "execute_result"
    }
   ],
   "source": [
    "re.search('^foo', 'foobar')"
   ]
  },
  {
   "cell_type": "code",
   "execution_count": 58,
   "id": "89ddfa39-3034-47fa-b4b3-b0f41f0cad86",
   "metadata": {},
   "outputs": [
    {
     "name": "stdout",
     "output_type": "stream",
     "text": [
      "None\n"
     ]
    }
   ],
   "source": [
    "print(re.search('^foo', 'barfoo'))"
   ]
  },
  {
   "cell_type": "markdown",
   "id": "befe1d64",
   "metadata": {},
   "source": [
    "`\\A` functions similarly:"
   ]
  },
  {
   "cell_type": "code",
   "execution_count": null,
   "id": "0a702353",
   "metadata": {},
   "outputs": [],
   "source": [
    ">>>>>> re.search('\\Afoo', 'foobar')\n",
    "<_sre.SRE_Match object; span=(0, 3), match='foo'>\n",
    ">>> print(re.search('\\Afoo', 'barfoo'))\n",
    "None"
   ]
  },
  {
   "cell_type": "markdown",
   "id": "85122673",
   "metadata": {},
   "source": [
    "`^` and `\\A` behave slightly differently from each other in `MULTILINE` mode. You’ll learn more about `MULTILINE` mode below in the section on [flags](https://realpython.com/regex-python/#modified-regular-expression-matching-with-flags)."
   ]
  },
  {
   "cell_type": "markdown",
   "id": "189e6e2f",
   "metadata": {},
   "source": [
    "`$`  \n",
    "`\\Z`"
   ]
  },
  {
   "cell_type": "markdown",
   "id": "debb9a64",
   "metadata": {},
   "source": [
    "When the regex parser encounters `$` or `\\Z`, the parser’s current position must be at the end of the search string for it to find a match. Whatever precedes `$` or `\\Z` must constitute the end of the search string:"
   ]
  },
  {
   "cell_type": "code",
   "execution_count": null,
   "id": "e6f67182",
   "metadata": {},
   "outputs": [],
   "source": [
    ">>>>>> re.search('bar$', 'foobar')\n",
    "<_sre.SRE_Match object; span=(3, 6), match='bar'>\n",
    ">>> print(re.search('bar$', 'barfoo'))\n",
    "None\n",
    "\n",
    ">>> re.search('bar\\Z', 'foobar')\n",
    "<_sre.SRE_Match object; span=(3, 6), match='bar'>\n",
    ">>> print(re.search('bar\\Z', 'barfoo'))\n",
    "None"
   ]
  },
  {
   "cell_type": "markdown",
   "id": "3104858c",
   "metadata": {},
   "source": [
    "As a special case, `$` (but not `\\Z`) also matches just before a single newline at the end of the search string:"
   ]
  },
  {
   "cell_type": "code",
   "execution_count": null,
   "id": "d78e61ba",
   "metadata": {},
   "outputs": [],
   "source": [
    ">>>>>> re.search('bar$', 'foobar\\n')\n",
    "<_sre.SRE_Match object; span=(3, 6), match='bar'>"
   ]
  },
  {
   "cell_type": "markdown",
   "id": "eae5d907",
   "metadata": {},
   "source": [
    "In this example, `'bar'` isn’t technically at the end of the search string because it’s followed by one additional newline character. But the regex parser lets it slide and calls it a match anyway. This exception doesn’t apply to `\\Z`."
   ]
  },
  {
   "cell_type": "markdown",
   "id": "dd8f6442",
   "metadata": {},
   "source": [
    "`$` and `\\Z` behave slightly differently from each other in `MULTILINE` mode. See the section below on [flags](https://realpython.com/regex-python/#modified-regular-expression-matching-with-flags) for more information on `MULTILINE` mode."
   ]
  },
  {
   "cell_type": "markdown",
   "id": "0900ccd4",
   "metadata": {},
   "source": [
    "`\\b`"
   ]
  },
  {
   "cell_type": "markdown",
   "id": "2e64089f",
   "metadata": {},
   "source": [
    "`\\b` asserts that the regex parser’s current position must be at the beginning or end of a word. A word consists of a sequence of alphanumeric characters or underscores (`[a-zA-Z0-9_]`), the same as for the `\\w` character class:"
   ]
  },
  {
   "cell_type": "code",
   "execution_count": null,
   "id": "d9576059",
   "metadata": {},
   "outputs": [],
   "source": [
    ">>> 1>>> re.search(r'\\bbar', 'foo bar')\n",
    " 2<_sre.SRE_Match object; span=(4, 7), match='bar'>\n",
    " 3>>> re.search(r'\\bbar', 'foo.bar')\n",
    " 4<_sre.SRE_Match object; span=(4, 7), match='bar'>\n",
    " 5\n",
    " 6>>> print(re.search(r'\\bbar', 'foobar'))\n",
    " 7None\n",
    " 8\n",
    " 9>>> re.search(r'foo\\b', 'foo bar')\n",
    "10<_sre.SRE_Match object; span=(0, 3), match='foo'>\n",
    "11>>> re.search(r'foo\\b', 'foo.bar')\n",
    "12<_sre.SRE_Match object; span=(0, 3), match='foo'>\n",
    "13\n",
    "14>>> print(re.search(r'foo\\b', 'foobar'))\n",
    "15None"
   ]
  },
  {
   "cell_type": "markdown",
   "id": "03bced32",
   "metadata": {},
   "source": [
    "In the above examples, a match happens on **lines 1 and 3** because there’s a word boundary at the start of `'bar'`. This isn’t the case on **line 6**, so the match fails there."
   ]
  },
  {
   "cell_type": "markdown",
   "id": "50d5e46a",
   "metadata": {},
   "source": [
    "Similarly, there are matches on **lines 9 and 11** because a word boundary exists at the end of `'foo'`, but not on **line 14**."
   ]
  },
  {
   "cell_type": "markdown",
   "id": "43573371",
   "metadata": {},
   "source": [
    "Using the `\\b` anchor on both ends of the `<regex>` will cause it to match when it’s present in the search string as a whole word:"
   ]
  },
  {
   "cell_type": "code",
   "execution_count": null,
   "id": "d93fab08",
   "metadata": {},
   "outputs": [],
   "source": [
    ">>>>>> re.search(r'\\bbar\\b', 'foo bar baz')\n",
    "<_sre.SRE_Match object; span=(4, 7), match='bar'>\n",
    ">>> re.search(r'\\bbar\\b', 'foo(bar)baz')\n",
    "<_sre.SRE_Match object; span=(4, 7), match='bar'>\n",
    "\n",
    ">>> print(re.search(r'\\bbar\\b', 'foobarbaz'))\n",
    "None"
   ]
  },
  {
   "cell_type": "markdown",
   "id": "6a824849",
   "metadata": {},
   "source": [
    "This is another instance in which it pays to specify the `<regex>` as a raw string, as the above examples have done."
   ]
  },
  {
   "cell_type": "markdown",
   "id": "71f21b2d",
   "metadata": {},
   "source": [
    "Because `'\\b'` is an escape sequence for both string literals and regexes in Python, each use above would need to be double escaped as `'\\\\b'` if you didn’t use raw strings. That wouldn’t be the end of the world, but raw strings are tidier."
   ]
  },
  {
   "cell_type": "markdown",
   "id": "fe53c91d",
   "metadata": {},
   "source": [
    "`\\B`"
   ]
  },
  {
   "cell_type": "markdown",
   "id": "42beb688",
   "metadata": {},
   "source": [
    "`\\B` does the opposite of `\\b`. It asserts that the regex parser’s current position must *not* be at the start or end of a word:"
   ]
  },
  {
   "cell_type": "code",
   "execution_count": null,
   "id": "2205d392",
   "metadata": {},
   "outputs": [],
   "source": [
    ">>> 1>>> print(re.search(r'\\Bfoo\\B', 'foo'))\n",
    " 2None\n",
    " 3>>> print(re.search(r'\\Bfoo\\B', '.foo.'))\n",
    " 4None\n",
    " 5\n",
    " 6>>> re.search(r'\\Bfoo\\B', 'barfoobaz')\n",
    " 7<_sre.SRE_Match object; span=(3, 6), match='foo'>"
   ]
  },
  {
   "cell_type": "markdown",
   "id": "e3c3638f",
   "metadata": {},
   "source": [
    "In this case, a match happens on **line 7** because no word boundary exists at the start or end of `'foo'` in the search string `'barfoobaz'`."
   ]
  },
  {
   "cell_type": "markdown",
   "id": "5fc10616",
   "metadata": {},
   "source": [
    "<a class=\"anchor\" id=\"quantifiers\"></a>\n",
    "\n",
    "### Quantifiers"
   ]
  },
  {
   "cell_type": "markdown",
   "id": "7fc68785",
   "metadata": {},
   "source": [
    "A **quantifier** metacharacter immediately follows a portion of a `<regex>` and indicates how many times that portion must occur for the match to succeed."
   ]
  },
  {
   "cell_type": "markdown",
   "id": "5419e6da",
   "metadata": {},
   "source": [
    "`*`"
   ]
  },
  {
   "cell_type": "markdown",
   "id": "6dfceb29",
   "metadata": {},
   "source": [
    "For example, `a*` matches zero or more `'a'` characters. That means it would match an empty string, `'a'`, `'aa'`, `'aaa'`, and so on."
   ]
  },
  {
   "cell_type": "markdown",
   "id": "039213c4",
   "metadata": {},
   "source": [
    "Consider these examples:"
   ]
  },
  {
   "cell_type": "code",
   "execution_count": null,
   "id": "408fee01",
   "metadata": {},
   "outputs": [],
   "source": [
    ">>> 1>>> re.search('foo-*bar', 'foobar')                     # Zero dashes\n",
    " 2<_sre.SRE_Match object; span=(0, 6), match='foobar'>\n",
    " 3>>> re.search('foo-*bar', 'foo-bar')                    # One dash\n",
    " 4<_sre.SRE_Match object; span=(0, 7), match='foo-bar'>\n",
    " 5>>> re.search('foo-*bar', 'foo--bar')                   # Two dashes\n",
    " 6<_sre.SRE_Match object; span=(0, 8), match='foo--bar'>"
   ]
  },
  {
   "cell_type": "markdown",
   "id": "0584642a",
   "metadata": {},
   "source": [
    "On **line 1**, there are zero `'-'` characters between `'foo'` and `'bar'`. On **line 3** there’s one, and on **line 5** there are two. The metacharacter sequence `-*` matches in all three cases."
   ]
  },
  {
   "cell_type": "markdown",
   "id": "8ae88646",
   "metadata": {},
   "source": [
    "You’ll probably encounter the regex `.*` in a Python program at some point. This matches zero or more occurrences of any character. In other words, it essentially matches any character sequence up to a line break. (Remember that the `.` wildcard metacharacter doesn’t match a newline.)"
   ]
  },
  {
   "cell_type": "markdown",
   "id": "105b51f1",
   "metadata": {},
   "source": [
    "In this example, `.*` matches everything between `'foo'` and `'bar'`:"
   ]
  },
  {
   "cell_type": "code",
   "execution_count": null,
   "id": "5c302041",
   "metadata": {},
   "outputs": [],
   "source": [
    ">>>>>> re.search('foo.*bar', '# foo $qux@grault % bar #')\n",
    "<_sre.SRE_Match object; span=(2, 23), match='foo $qux@grault % bar'>"
   ]
  },
  {
   "cell_type": "markdown",
   "id": "35bcd97d",
   "metadata": {},
   "source": [
    "Did you notice the `span=` and `match=` information contained in the match object?"
   ]
  },
  {
   "cell_type": "markdown",
   "id": "f13609d9",
   "metadata": {},
   "source": [
    "Until now, the regexes in the examples you’ve seen have specified matches of predictable length. Once you start using quantifiers like `*`, the number of characters matched can be quite variable, and the information in the match object becomes more useful."
   ]
  },
  {
   "cell_type": "markdown",
   "id": "081a4e0a",
   "metadata": {},
   "source": [
    "You’ll learn more about how to access the information stored in a match object in the next tutorial in the series."
   ]
  },
  {
   "cell_type": "markdown",
   "id": "63adc74f",
   "metadata": {},
   "source": [
    "`+`"
   ]
  },
  {
   "cell_type": "markdown",
   "id": "8e810dc9",
   "metadata": {},
   "source": [
    "This is similar to `*`, but the quantified regex must occur at least once:"
   ]
  },
  {
   "cell_type": "code",
   "execution_count": null,
   "id": "8bc9be0e",
   "metadata": {},
   "outputs": [],
   "source": [
    ">>> 1>>> print(re.search('foo-+bar', 'foobar'))              # Zero dashes\n",
    " 2None\n",
    " 3>>> re.search('foo-+bar', 'foo-bar')                    # One dash\n",
    " 4<_sre.SRE_Match object; span=(0, 7), match='foo-bar'>\n",
    " 5>>> re.search('foo-+bar', 'foo--bar')                   # Two dashes\n",
    " 6<_sre.SRE_Match object; span=(0, 8), match='foo--bar'>"
   ]
  },
  {
   "cell_type": "markdown",
   "id": "c7ae29ab",
   "metadata": {},
   "source": [
    "Remember from above that `foo-*bar` matched the string `'foobar'` because the `*` metacharacter allows for zero occurrences of `'-'`. The `+` metacharacter, on the other hand, requires at least one occurrence of `'-'`. That means there isn’t a match on **line 1** in this case."
   ]
  },
  {
   "cell_type": "markdown",
   "id": "c69818c9",
   "metadata": {},
   "source": [
    "`?`"
   ]
  },
  {
   "cell_type": "markdown",
   "id": "57428f03",
   "metadata": {},
   "source": [
    "Again, this is similar to `*` and `+`, but in this case there’s only a match if the preceding regex occurs once or not at all:"
   ]
  },
  {
   "cell_type": "code",
   "execution_count": null,
   "id": "4bd087bc",
   "metadata": {},
   "outputs": [],
   "source": [
    ">>> 1>>> re.search('foo-?bar', 'foobar')                     # Zero dashes\n",
    " 2<_sre.SRE_Match object; span=(0, 6), match='foobar'>\n",
    " 3>>> re.search('foo-?bar', 'foo-bar')                    # One dash\n",
    " 4<_sre.SRE_Match object; span=(0, 7), match='foo-bar'>\n",
    " 5>>> print(re.search('foo-?bar', 'foo--bar'))            # Two dashes\n",
    " 6None"
   ]
  },
  {
   "cell_type": "markdown",
   "id": "14d64b3f",
   "metadata": {},
   "source": [
    "In this example, there are matches on **lines 1 and 3**. But on **line 5**, where there are two `'-'` characters, the match fails."
   ]
  },
  {
   "cell_type": "markdown",
   "id": "af826050",
   "metadata": {},
   "source": [
    "Here are some more examples showing the use of all three quantifier metacharacters:"
   ]
  },
  {
   "cell_type": "code",
   "execution_count": null,
   "id": "3842d57a",
   "metadata": {},
   "outputs": [],
   "source": [
    ">>>>>> re.match('foo[1-9]*bar', 'foobar')\n",
    "<_sre.SRE_Match object; span=(0, 6), match='foobar'>\n",
    ">>> re.match('foo[1-9]*bar', 'foo42bar')\n",
    "<_sre.SRE_Match object; span=(0, 8), match='foo42bar'>\n",
    "\n",
    ">>> print(re.match('foo[1-9]+bar', 'foobar'))\n",
    "None\n",
    ">>> re.match('foo[1-9]+bar', 'foo42bar')\n",
    "<_sre.SRE_Match object; span=(0, 8), match='foo42bar'>\n",
    "\n",
    ">>> re.match('foo[1-9]?bar', 'foobar')\n",
    "<_sre.SRE_Match object; span=(0, 6), match='foobar'>\n",
    ">>> print(re.match('foo[1-9]?bar', 'foo42bar'))\n",
    "None"
   ]
  },
  {
   "cell_type": "markdown",
   "id": "d9b90a14",
   "metadata": {},
   "source": [
    "This time, the quantified regex is the character class `[1-9]` instead of the simple character `'-'`."
   ]
  },
  {
   "cell_type": "markdown",
   "id": "45ff0da4",
   "metadata": {},
   "source": [
    "`*?`  \n",
    "`+?`  \n",
    "`??`"
   ]
  },
  {
   "cell_type": "markdown",
   "id": "cbc1c9b6",
   "metadata": {},
   "source": [
    "When used alone, the quantifier metacharacters `*`, `+`, and `?` are all **greedy**, meaning they produce the longest possible match. Consider this example:"
   ]
  },
  {
   "cell_type": "code",
   "execution_count": null,
   "id": "5dc318fb",
   "metadata": {},
   "outputs": [],
   "source": [
    ">>>>>> re.search('<.*>', '%<foo> <bar> <baz>%')\n",
    "<_sre.SRE_Match object; span=(1, 18), match='<foo> <bar> <baz>'>"
   ]
  },
  {
   "cell_type": "markdown",
   "id": "e73734e2",
   "metadata": {},
   "source": [
    "The regex `<.*>` effectively means:"
   ]
  },
  {
   "cell_type": "markdown",
   "id": "05992020",
   "metadata": {},
   "source": [
    "- A `'<'` character\n",
    "- Then any sequence of characters\n",
    "- Then a `'>'` character\n"
   ]
  },
  {
   "cell_type": "markdown",
   "id": "1e73ab4c",
   "metadata": {},
   "source": [
    "But which `'>'` character? There are three possibilities: "
   ]
  },
  {
   "cell_type": "markdown",
   "id": "8c68ce1b",
   "metadata": {},
   "source": [
    "1. The one just after `'foo'` \n",
    "2. The one just after `'bar'`\n",
    "3. The one just after `'baz'`\n"
   ]
  },
  {
   "cell_type": "markdown",
   "id": "f7a01015",
   "metadata": {},
   "source": [
    "Since the `*` metacharacter is greedy, it dictates the longest possible match, which includes everything up to and including the `'>'` character that follows `'baz'`. You can see from the match object that this is the match produced."
   ]
  },
  {
   "cell_type": "markdown",
   "id": "f9222276",
   "metadata": {},
   "source": [
    "If you want the shortest possible match instead, then use the non-greedy metacharacter sequence `*?`:"
   ]
  },
  {
   "cell_type": "code",
   "execution_count": null,
   "id": "55ff694d",
   "metadata": {},
   "outputs": [],
   "source": [
    ">>>>>> re.search('<.*?>', '%<foo> <bar> <baz>%')\n",
    "<_sre.SRE_Match object; span=(1, 6), match='<foo>'>"
   ]
  },
  {
   "cell_type": "markdown",
   "id": "3d16e087",
   "metadata": {},
   "source": [
    "In this case, the match ends with the `'>'` character following `'foo'`."
   ]
  },
  {
   "cell_type": "markdown",
   "id": "a6b1acdc",
   "metadata": {},
   "source": [
    "There are lazy versions of the `+` and `?` quantifiers as well:"
   ]
  },
  {
   "cell_type": "code",
   "execution_count": null,
   "id": "5b0d67bb",
   "metadata": {},
   "outputs": [],
   "source": [
    ">>> 1>>> re.search('<.+>', '%<foo> <bar> <baz>%')\n",
    " 2<_sre.SRE_Match object; span=(1, 18), match='<foo> <bar> <baz>'>\n",
    " 3>>> re.search('<.+?>', '%<foo> <bar> <baz>%')\n",
    " 4<_sre.SRE_Match object; span=(1, 6), match='<foo>'>\n",
    " 5\n",
    " 6>>> re.search('ba?', 'baaaa')\n",
    " 7<_sre.SRE_Match object; span=(0, 2), match='ba'>\n",
    " 8>>> re.search('ba??', 'baaaa')\n",
    " 9<_sre.SRE_Match object; span=(0, 1), match='b'>"
   ]
  },
  {
   "cell_type": "markdown",
   "id": "2fba601e",
   "metadata": {},
   "source": [
    "The first two examples on **lines 1 and 3** are similar to the examples shown above, only using `+` and `+?` instead of `*` and `*?`."
   ]
  },
  {
   "cell_type": "markdown",
   "id": "19a60844",
   "metadata": {},
   "source": [
    "The last examples on **lines 6 and 8** are a little different. In general, the `?` metacharacter matches zero or one occurrences of the preceding regex. The greedy version, `?`, matches one occurrence, so `ba?` matches `'b'` followed by a single `'a'`. The non-greedy version, `??`, matches zero occurrences, so `ba??` matches just `'b'`."
   ]
  },
  {
   "cell_type": "markdown",
   "id": "68bfb903",
   "metadata": {},
   "source": [
    "`{m}`"
   ]
  },
  {
   "cell_type": "markdown",
   "id": "0ef36dfa",
   "metadata": {},
   "source": [
    "This is similar to `*` or `+`, but it specifies exactly how many times the preceding regex must occur for a match to succeed:"
   ]
  },
  {
   "cell_type": "code",
   "execution_count": null,
   "id": "a288168d",
   "metadata": {},
   "outputs": [],
   "source": [
    ">>>>>> print(re.search('x-{3}x', 'x--x'))                # Two dashes\n",
    "None\n",
    "\n",
    ">>> re.search('x-{3}x', 'x---x')                      # Three dashes\n",
    "<_sre.SRE_Match object; span=(0, 5), match='x---x'>\n",
    "\n",
    ">>> print(re.search('x-{3}x', 'x----x'))              # Four dashes\n",
    "None"
   ]
  },
  {
   "cell_type": "markdown",
   "id": "88bedf91",
   "metadata": {},
   "source": [
    "Here, `x-{3}x` matches `'x'`, followed by exactly three instances of the `'-'` character, followed by another `'x'`. The match fails when there are fewer or more than three dashes between the `'x'` characters."
   ]
  },
  {
   "cell_type": "markdown",
   "id": "74ccd010",
   "metadata": {},
   "source": [
    "`{m,n}`"
   ]
  },
  {
   "cell_type": "markdown",
   "id": "9a601f2f",
   "metadata": {},
   "source": [
    "In the following example, the quantified `<regex>` is `-{2,4}`. The match succeeds when there are two, three, or four dashes between the `'x'` characters but fails otherwise:"
   ]
  },
  {
   "cell_type": "code",
   "execution_count": null,
   "id": "15982c6a",
   "metadata": {},
   "outputs": [],
   "source": [
    ">>>>>> for i in range(1, 6):\n",
    "...     s = f\"x{'-' * i}x\"\n",
    "...     print(f'{i}  {s:10}', re.search('x-{2,4}x', s))\n",
    "...\n",
    "1  x-x        None\n",
    "2  x--x       <_sre.SRE_Match object; span=(0, 4), match='x--x'>\n",
    "3  x---x      <_sre.SRE_Match object; span=(0, 5), match='x---x'>\n",
    "4  x----x     <_sre.SRE_Match object; span=(0, 6), match='x----x'>\n",
    "5  x-----x    None"
   ]
  },
  {
   "cell_type": "markdown",
   "id": "709ad7ea",
   "metadata": {},
   "source": [
    "Omitting `m` implies a lower bound of `0`, and omitting `n` implies an unlimited upper bound:"
   ]
  },
  {
   "cell_type": "markdown",
   "id": "99bbd9ed",
   "metadata": {},
   "source": [
    "|Regular Expression|Matches|Identical to|\n",
    "|:--|:--|:--|\n",
    "|`<regex>{,n}`|Any number of repetitions of `<regex>` less than or equal to `n`|`<regex>{0,n}`|\n",
    "|`<regex>{m,}`|Any number of repetitions of `<regex>` greater than or equal to `m`|`----`|\n",
    "|`<regex>{,}`|Any number of repetitions of `<regex>`|`<regex>{0,}`   \n",
    " `<regex>*`|\n"
   ]
  },
  {
   "cell_type": "markdown",
   "id": "a4738aa0",
   "metadata": {},
   "source": [
    "If you omit all of `m`, `n`, and the comma, then the curly braces no longer function as metacharacters. `{}` matches just the literal string `'{}'`:"
   ]
  },
  {
   "cell_type": "code",
   "execution_count": null,
   "id": "df00e13e",
   "metadata": {},
   "outputs": [],
   "source": [
    ">>>>>> re.search('x{}y', 'x{}y')\n",
    "<_sre.SRE_Match object; span=(0, 4), match='x{}y'>"
   ]
  },
  {
   "cell_type": "markdown",
   "id": "7ec23d47",
   "metadata": {},
   "source": [
    "In fact, to have any special meaning, a sequence with curly braces must fit one of the following patterns in which `m` and `n` are nonnegative integers:"
   ]
  },
  {
   "cell_type": "markdown",
   "id": "0dac2575",
   "metadata": {},
   "source": [
    "- `{m,n}`\n",
    "- `{m,}`\n",
    "- `{,n}`\n",
    "- `{,}`\n"
   ]
  },
  {
   "cell_type": "markdown",
   "id": "883c2ad8",
   "metadata": {},
   "source": [
    "Otherwise, it matches literally:"
   ]
  },
  {
   "cell_type": "code",
   "execution_count": null,
   "id": "e6da0d43",
   "metadata": {},
   "outputs": [],
   "source": [
    ">>>>>> re.search('x{foo}y', 'x{foo}y')\n",
    "<_sre.SRE_Match object; span=(0, 7), match='x{foo}y'>\n",
    ">>> re.search('x{a:b}y', 'x{a:b}y')\n",
    "<_sre.SRE_Match object; span=(0, 7), match='x{a:b}y'>\n",
    ">>> re.search('x{1,3,5}y', 'x{1,3,5}y')\n",
    "<_sre.SRE_Match object; span=(0, 9), match='x{1,3,5}y'>\n",
    ">>> re.search('x{foo,bar}y', 'x{foo,bar}y')\n",
    "<_sre.SRE_Match object; span=(0, 11), match='x{foo,bar}y'>"
   ]
  },
  {
   "cell_type": "markdown",
   "id": "7edf0655",
   "metadata": {},
   "source": [
    "Later in this tutorial, when you learn about the `DEBUG` flag, you’ll see how you can confirm this."
   ]
  },
  {
   "cell_type": "markdown",
   "id": "8bc9218f",
   "metadata": {},
   "source": [
    "`{m,n}?`"
   ]
  },
  {
   "cell_type": "markdown",
   "id": "dd1f86f3",
   "metadata": {},
   "source": [
    "`{m,n}` will match as many characters as possible, and `{m,n}?` will match as few as possible:"
   ]
  },
  {
   "cell_type": "code",
   "execution_count": null,
   "id": "1ec0bb2f",
   "metadata": {},
   "outputs": [],
   "source": [
    ">>>>>> re.search('a{3,5}', 'aaaaaaaa')\n",
    "<_sre.SRE_Match object; span=(0, 5), match='aaaaa'>\n",
    "\n",
    ">>> re.search('a{3,5}?', 'aaaaaaaa')\n",
    "<_sre.SRE_Match object; span=(0, 3), match='aaa'>"
   ]
  },
  {
   "cell_type": "markdown",
   "id": "5516bb16",
   "metadata": {},
   "source": [
    "In this case, `a{3,5}` produces the longest possible match, so it matches five `'a'` characters. `a{3,5}?` produces the shortest match, so it matches three."
   ]
  },
  {
   "cell_type": "markdown",
   "id": "c1fa1f46",
   "metadata": {},
   "source": [
    "<a class=\"anchor\" id=\"grouping_constructs_and_backreferences\"></a>\n",
    "\n",
    "### Grouping Constructs and Backreferences"
   ]
  },
  {
   "cell_type": "markdown",
   "id": "6deaefdc",
   "metadata": {},
   "source": [
    "Grouping constructs break up a regex in Python into subexpressions or groups. This serves two purposes:"
   ]
  },
  {
   "cell_type": "markdown",
   "id": "29fcedc2",
   "metadata": {},
   "source": [
    "1. **Grouping:** A group represents a single syntactic entity. Additional metacharacters apply to the entire group as a unit.\n",
    "2. **Capturing:** Some grouping constructs also capture the portion of the search string that matches the subexpression in the group. You can retrieve captured matches later through several different mechanisms.\n"
   ]
  },
  {
   "cell_type": "markdown",
   "id": "c2578fbb",
   "metadata": {},
   "source": [
    "Here’s a look at how grouping and capturing work."
   ]
  },
  {
   "cell_type": "markdown",
   "id": "2d09de89",
   "metadata": {},
   "source": [
    "`(<regex>)`"
   ]
  },
  {
   "cell_type": "markdown",
   "id": "418188e3",
   "metadata": {},
   "source": [
    "This is the most basic grouping construct. A regex in parentheses just matches the contents of the parentheses:"
   ]
  },
  {
   "cell_type": "code",
   "execution_count": null,
   "id": "483c6d29",
   "metadata": {},
   "outputs": [],
   "source": [
    ">>>>>> re.search('(bar)', 'foo bar baz')\n",
    "<_sre.SRE_Match object; span=(4, 7), match='bar'>\n",
    "\n",
    ">>> re.search('bar', 'foo bar baz')\n",
    "<_sre.SRE_Match object; span=(4, 7), match='bar'>"
   ]
  },
  {
   "cell_type": "markdown",
   "id": "fa35b982",
   "metadata": {},
   "source": [
    "As a regex, `(bar)` matches the string `'bar'`, the same as the regex `bar` would without the parentheses."
   ]
  },
  {
   "cell_type": "markdown",
   "id": "05007418",
   "metadata": {},
   "source": [
    "<a class=\"anchor\" id=\"treating_a_group_as_a_unit\"></a>\n",
    "\n",
    "#### Treating a Group as a Unit"
   ]
  },
  {
   "cell_type": "markdown",
   "id": "b054ef89",
   "metadata": {},
   "source": [
    "A quantifier metacharacter that follows a group operates on the entire subexpression specified in the group as a single unit."
   ]
  },
  {
   "cell_type": "markdown",
   "id": "ee88c5df",
   "metadata": {},
   "source": [
    "For instance, the following example matches one or more occurrences of the string `'bar'`:"
   ]
  },
  {
   "cell_type": "code",
   "execution_count": null,
   "id": "9b86abf8",
   "metadata": {},
   "outputs": [],
   "source": [
    ">>>>>> re.search('(bar)+', 'foo bar baz')\n",
    "<_sre.SRE_Match object; span=(4, 7), match='bar'>\n",
    ">>> re.search('(bar)+', 'foo barbar baz')\n",
    "<_sre.SRE_Match object; span=(4, 10), match='barbar'>\n",
    ">>> re.search('(bar)+', 'foo barbarbarbar baz')\n",
    "<_sre.SRE_Match object; span=(4, 16), match='barbarbarbar'>"
   ]
  },
  {
   "cell_type": "markdown",
   "id": "ba0cdce6",
   "metadata": {},
   "source": [
    "Here’s a breakdown of the difference between the two regexes with and without grouping parentheses:"
   ]
  },
  {
   "cell_type": "markdown",
   "id": "a71477fa",
   "metadata": {},
   "source": [
    "|Regex|Interpretation|Matches|Examples|\n",
    "|:--|:--|:--|:--|\n",
    "|`bar+`|The `+` metacharacter applies only to the character `'r'`.|`'ba'` followed by one or more occurrences of `'r'`|`'bar'`  \n",
    "`'barr'`  \n",
    "`'barrr'`|\n",
    "|`(bar)+`|The `+` metacharacter applies to the entire string `'bar'`.|One or more occurrences of `'bar'`|`'bar'`  \n",
    "`'barbar'`  \n",
    " `'barbarbar'`|\n"
   ]
  },
  {
   "cell_type": "markdown",
   "id": "fa17ca49",
   "metadata": {},
   "source": [
    "Now take a look at a more complicated example. The regex `(ba[rz]){2,4}(qux)?` matches `2` to `4` occurrences of either `'bar'` or `'baz'`, optionally followed by `'qux'`:"
   ]
  },
  {
   "cell_type": "code",
   "execution_count": null,
   "id": "2ba14013",
   "metadata": {},
   "outputs": [],
   "source": [
    ">>>>>> re.search('(ba[rz]){2,4}(qux)?', 'bazbarbazqux')\n",
    "<_sre.SRE_Match object; span=(0, 12), match='bazbarbazqux'>\n",
    ">>> re.search('(ba[rz]){2,4}(qux)?', 'barbar')\n",
    "<_sre.SRE_Match object; span=(0, 6), match='barbar'>"
   ]
  },
  {
   "cell_type": "markdown",
   "id": "a10a941d",
   "metadata": {},
   "source": [
    "The following example shows that you can nest grouping parentheses:"
   ]
  },
  {
   "cell_type": "code",
   "execution_count": null,
   "id": "14e9dd4e",
   "metadata": {},
   "outputs": [],
   "source": [
    ">>>>>> re.search('(foo(bar)?)+(\\d\\d\\d)?', 'foofoobar')\n",
    "<_sre.SRE_Match object; span=(0, 9), match='foofoobar'>\n",
    ">>> re.search('(foo(bar)?)+(\\d\\d\\d)?', 'foofoobar123')\n",
    "<_sre.SRE_Match object; span=(0, 12), match='foofoobar123'>\n",
    ">>> re.search('(foo(bar)?)+(\\d\\d\\d)?', 'foofoo123')\n",
    "<_sre.SRE_Match object; span=(0, 9), match='foofoo123'>"
   ]
  },
  {
   "cell_type": "markdown",
   "id": "ea6a3246",
   "metadata": {},
   "source": [
    "The regex `(foo(bar)?)+(\\d\\d\\d)?` is pretty elaborate, so let’s break it down into smaller pieces:"
   ]
  },
  {
   "cell_type": "markdown",
   "id": "bcfc4b1e",
   "metadata": {},
   "source": [
    "|Regex|Matches|\n",
    "|:--|:--|\n",
    "|`foo(bar)?`|`'foo'` optionally followed by `'bar'`|\n",
    "|`(foo(bar)?)+`|One or more occurrences of the above|\n",
    "|`\\d\\d\\d`|Three decimal digit characters|\n",
    "|`(\\d\\d\\d)?`|Zero or one occurrences of the above|\n"
   ]
  },
  {
   "cell_type": "markdown",
   "id": "07da8899",
   "metadata": {},
   "source": [
    "String it all together and you get: at least one occurrence of `'foo'` optionally followed by `'bar'`, all optionally followed by three decimal digit characters."
   ]
  },
  {
   "cell_type": "markdown",
   "id": "26105f56",
   "metadata": {},
   "source": [
    "As you can see, you can construct very complicated regexes in Python using grouping parentheses."
   ]
  },
  {
   "cell_type": "markdown",
   "id": "34bd2c7b",
   "metadata": {},
   "source": [
    "<a class=\"anchor\" id=\"capturing_groups\"></a>\n",
    "\n",
    "#### Capturing Groups"
   ]
  },
  {
   "cell_type": "markdown",
   "id": "a0fe444f",
   "metadata": {},
   "source": [
    "Grouping isn’t the only useful purpose that grouping constructs serve. Most (but not quite all) grouping constructs also capture the part of the search string that matches the group. You can retrieve the captured portion or refer to it later in several different ways."
   ]
  },
  {
   "cell_type": "markdown",
   "id": "f61f69bd",
   "metadata": {},
   "source": [
    "Remember the match object that `re.search()` returns? There are two methods defined for a match object that provide access to captured groups: `.groups()` and `.group()`."
   ]
  },
  {
   "cell_type": "markdown",
   "id": "a6357549",
   "metadata": {},
   "source": [
    "`m.groups()`"
   ]
  },
  {
   "cell_type": "markdown",
   "id": "4afab6e3",
   "metadata": {},
   "source": [
    "Consider this example:"
   ]
  },
  {
   "cell_type": "code",
   "execution_count": null,
   "id": "18fc5781",
   "metadata": {},
   "outputs": [],
   "source": [
    ">>>>>> m = re.search('(\\w+),(\\w+),(\\w+)', 'foo,quux,baz')\n",
    ">>> m\n",
    "<_sre.SRE_Match object; span=(0, 12), match='foo:quux:baz'>"
   ]
  },
  {
   "cell_type": "markdown",
   "id": "c967412f",
   "metadata": {},
   "source": [
    "Each of the three `(\\w+)` expressions matches a sequence of word characters. The full regex `(\\w+),(\\w+),(\\w+)` breaks the search string into three comma-separated tokens."
   ]
  },
  {
   "cell_type": "markdown",
   "id": "d611044c",
   "metadata": {},
   "source": [
    "Because the `(\\w+)` expressions use grouping parentheses, the corresponding matching tokens are **captured**. To access the captured matches, you can use `.groups()`, which returns a [tuple](https://realpython.com/python-lists-tuples/#python-tuples) containing all the captured matches in order:"
   ]
  },
  {
   "cell_type": "code",
   "execution_count": null,
   "id": "7b8d8547",
   "metadata": {},
   "outputs": [],
   "source": [
    ">>>>>> m.groups()\n",
    "('foo', 'quux', 'baz')"
   ]
  },
  {
   "cell_type": "markdown",
   "id": "4b2ddfb5",
   "metadata": {},
   "source": [
    "Notice that the tuple contains the tokens but not the commas that appeared in the search string. That’s because the word characters that make up the tokens are inside the grouping parentheses but the commas aren’t. The commas that you see between the returned tokens are the standard delimiters used to separate values in a tuple."
   ]
  },
  {
   "cell_type": "markdown",
   "id": "a37907c0",
   "metadata": {},
   "source": [
    "`m.group(<n>)`"
   ]
  },
  {
   "cell_type": "markdown",
   "id": "9564f7a2",
   "metadata": {},
   "source": [
    "With one argument, `.group()` returns a single captured match. Note that the arguments are one-based, not zero-based. So, `m.group(1)` refers to the first captured match, `m.group(2)` to the second, and so on:"
   ]
  },
  {
   "cell_type": "code",
   "execution_count": null,
   "id": "aefb9344",
   "metadata": {},
   "outputs": [],
   "source": [
    ">>>>>> m = re.search('(\\w+),(\\w+),(\\w+)', 'foo,quux,baz')\n",
    ">>> m.groups()\n",
    "('foo', 'quux', 'baz')\n",
    "\n",
    ">>> m.group(1)\n",
    "'foo'\n",
    ">>> m.group(2)\n",
    "'quux'\n",
    ">>> m.group(3)\n",
    "'baz'"
   ]
  },
  {
   "cell_type": "markdown",
   "id": "22a913a5",
   "metadata": {},
   "source": [
    "Since the numbering of captured matches is one-based, and there isn’t any group numbered zero, `m.group(0)` has a special meaning:"
   ]
  },
  {
   "cell_type": "code",
   "execution_count": null,
   "id": "08ecf9e0",
   "metadata": {},
   "outputs": [],
   "source": [
    ">>>>>> m.group(0)\n",
    "'foo,quux,baz'\n",
    ">>> m.group()\n",
    "'foo,quux,baz'"
   ]
  },
  {
   "cell_type": "markdown",
   "id": "8fd009e8",
   "metadata": {},
   "source": [
    "`m.group(0)` returns the entire match, and `m.group()` does the same."
   ]
  },
  {
   "cell_type": "markdown",
   "id": "b4cb9645",
   "metadata": {},
   "source": [
    "`m.group(<n1>, <n2>, ...)`"
   ]
  },
  {
   "cell_type": "markdown",
   "id": "5e990108",
   "metadata": {},
   "source": [
    "With multiple arguments, `.group()` returns a tuple containing the specified captured matches in the given order:"
   ]
  },
  {
   "cell_type": "code",
   "execution_count": null,
   "id": "141d08f7",
   "metadata": {},
   "outputs": [],
   "source": [
    ">>>>>> m.groups()\n",
    "('foo', 'quux', 'baz')\n",
    "\n",
    ">>> m.group(2, 3)\n",
    "('quux', 'baz')\n",
    ">>> m.group(3, 2, 1)\n",
    "('baz', 'quux', 'foo')"
   ]
  },
  {
   "cell_type": "markdown",
   "id": "7eefe342",
   "metadata": {},
   "source": [
    "This is just convenient shorthand. You could create the tuple of matches yourself instead:"
   ]
  },
  {
   "cell_type": "code",
   "execution_count": null,
   "id": "2301406a",
   "metadata": {},
   "outputs": [],
   "source": [
    ">>>>>> m.group(3, 2, 1)\n",
    "('baz', 'qux', 'foo')\n",
    ">>> (m.group(3), m.group(2), m.group(1))\n",
    "('baz', 'qux', 'foo')"
   ]
  },
  {
   "cell_type": "markdown",
   "id": "9f8f4ac8",
   "metadata": {},
   "source": [
    "The two statements shown are functionally equivalent."
   ]
  },
  {
   "cell_type": "markdown",
   "id": "09f788b9",
   "metadata": {},
   "source": [
    "<a class=\"anchor\" id=\"backreferences\"></a>\n",
    "\n",
    "#### Backreferences"
   ]
  },
  {
   "cell_type": "markdown",
   "id": "be5a95d1",
   "metadata": {},
   "source": [
    "You can match a previously captured group later within the same regex using a special metacharacter sequence called a **backreference**."
   ]
  },
  {
   "cell_type": "markdown",
   "id": "47bb0a85",
   "metadata": {},
   "source": [
    "`\\<n>`"
   ]
  },
  {
   "cell_type": "markdown",
   "id": "3bcc60eb",
   "metadata": {},
   "source": [
    "Within a regex in Python, the sequence `\\<n>`, where `<n>` is an integer from `1` to `99`, matches the contents of the `<n>``th` captured group."
   ]
  },
  {
   "cell_type": "markdown",
   "id": "63128a57",
   "metadata": {},
   "source": [
    "Here’s a regex that matches a word, followed by a comma, followed by the same word again:"
   ]
  },
  {
   "cell_type": "code",
   "execution_count": null,
   "id": "a1323acf",
   "metadata": {},
   "outputs": [],
   "source": [
    ">>> 1>>> regex = r'(\\w+),\\1'\n",
    " 2\n",
    " 3>>> m = re.search(regex, 'foo,foo')\n",
    " 4>>> m\n",
    " 5<_sre.SRE_Match object; span=(0, 7), match='foo,foo'>\n",
    " 6>>> m.group(1)\n",
    " 7'foo'\n",
    " 8\n",
    " 9>>> m = re.search(regex, 'qux,qux')\n",
    "10>>> m\n",
    "11<_sre.SRE_Match object; span=(0, 7), match='qux,qux'>\n",
    "12>>> m.group(1)\n",
    "13'qux'\n",
    "14\n",
    "15>>> m = re.search(regex, 'foo,qux')\n",
    "16>>> print(m)\n",
    "17None"
   ]
  },
  {
   "cell_type": "markdown",
   "id": "32ed0bb4",
   "metadata": {},
   "source": [
    "In the first example, on **line 3**, `(\\w+)` matches the first instance of the string `'foo'` and saves it as the first captured group. The comma matches literally. Then `\\1` is a backreference to the first captured group and matches `'foo'` again. The second example, on **line 9**, is identical except that the `(\\w+)` matches `'qux'` instead."
   ]
  },
  {
   "cell_type": "markdown",
   "id": "d3c777d1",
   "metadata": {},
   "source": [
    "The last example, on **line 15**, doesn’t have a match because what comes before the comma isn’t the same as what comes after it, so the `\\1` backreference doesn’t match."
   ]
  },
  {
   "cell_type": "markdown",
   "id": "6b7c1aa7",
   "metadata": {},
   "source": [
    "Numbered backreferences are one-based like the arguments to `.group()`. Only the first ninety-nine captured groups are accessible by backreference. The interpreter will regard `\\100` as the `'@'` character, whose octal value is 100."
   ]
  },
  {
   "cell_type": "markdown",
   "id": "53be1d84",
   "metadata": {},
   "source": [
    "<a class=\"anchor\" id=\"other_grouping_constructs\"></a>\n",
    "\n",
    "#### Other Grouping Constructs"
   ]
  },
  {
   "cell_type": "markdown",
   "id": "cd5a2d7e",
   "metadata": {},
   "source": [
    "The `(<regex>)` metacharacter sequence shown above is the most straightforward way to perform grouping within a regex in Python. The next section introduces you to some enhanced grouping constructs that allow you to tweak when and how grouping occurs."
   ]
  },
  {
   "cell_type": "markdown",
   "id": "90dfdf9d",
   "metadata": {},
   "source": [
    "`(?P<name><regex>)`"
   ]
  },
  {
   "cell_type": "markdown",
   "id": "072cd0c3",
   "metadata": {},
   "source": [
    "This metacharacter sequence is similar to grouping parentheses in that it creates a group matching `<regex>` that is accessible through the match object or a subsequent backreference. The difference in this case is that you reference the matched group by its given symbolic `<name>` instead of by its number."
   ]
  },
  {
   "cell_type": "markdown",
   "id": "5212b667",
   "metadata": {},
   "source": [
    "Earlier, you saw this example with three captured groups numbered `1`, `2`, and `3`:"
   ]
  },
  {
   "cell_type": "code",
   "execution_count": null,
   "id": "fb9a7d66",
   "metadata": {},
   "outputs": [],
   "source": [
    ">>>>>> m = re.search('(\\w+),(\\w+),(\\w+)', 'foo,quux,baz')\n",
    ">>> m.groups()\n",
    "('foo', 'quux', 'baz')\n",
    "\n",
    ">>> m.group(1, 2, 3)\n",
    "('foo', 'quux', 'baz')"
   ]
  },
  {
   "cell_type": "markdown",
   "id": "fff5eaa5",
   "metadata": {},
   "source": [
    "The following effectively does the same thing except that the groups have the symbolic names `w1`, `w2`, and `w3`:"
   ]
  },
  {
   "cell_type": "code",
   "execution_count": null,
   "id": "070f7a50",
   "metadata": {},
   "outputs": [],
   "source": [
    ">>>>>> m = re.search('(?P<w1>\\w+),(?P<w2>\\w+),(?P<w3>\\w+)', 'foo,quux,baz')\n",
    ">>> m.groups()\n",
    "('foo', 'quux', 'baz')"
   ]
  },
  {
   "cell_type": "markdown",
   "id": "a5577729",
   "metadata": {},
   "source": [
    "You can refer to these captured groups by their symbolic names:"
   ]
  },
  {
   "cell_type": "code",
   "execution_count": null,
   "id": "7f96fdbe",
   "metadata": {},
   "outputs": [],
   "source": [
    ">>>>>> m.group('w1')\n",
    "'foo'\n",
    ">>> m.group('w3')\n",
    "'baz'\n",
    ">>> m.group('w1', 'w2', 'w3')\n",
    "('foo', 'quux', 'baz')"
   ]
  },
  {
   "cell_type": "markdown",
   "id": "64becdd0",
   "metadata": {},
   "source": [
    "You can still access groups with symbolic names by number if you wish:"
   ]
  },
  {
   "cell_type": "code",
   "execution_count": null,
   "id": "4951a877",
   "metadata": {},
   "outputs": [],
   "source": [
    ">>>>>> m = re.search('(?P<w1>\\w+),(?P<w2>\\w+),(?P<w3>\\w+)', 'foo,quux,baz')\n",
    "\n",
    ">>> m.group('w1')\n",
    "'foo'\n",
    ">>> m.group(1)\n",
    "'foo'\n",
    "\n",
    ">>> m.group('w1', 'w2', 'w3')\n",
    "('foo', 'quux', 'baz')\n",
    ">>> m.group(1, 2, 3)\n",
    "('foo', 'quux', 'baz')"
   ]
  },
  {
   "cell_type": "markdown",
   "id": "36e7bdaa",
   "metadata": {},
   "source": [
    "Any `<name>` specified with this construct must conform to the rules for a [Python identifier](https://realpython.com/python-variables/#variable-names), and each `<name>` can only appear once per regex."
   ]
  },
  {
   "cell_type": "markdown",
   "id": "71904340",
   "metadata": {},
   "source": [
    "`(?P=<name>)`"
   ]
  },
  {
   "cell_type": "markdown",
   "id": "0f80b30e",
   "metadata": {},
   "source": [
    "The `(?P=<name>)` metacharacter sequence is a backreference, similar to `\\<n>`, except that it refers to a named group rather than a numbered group."
   ]
  },
  {
   "cell_type": "markdown",
   "id": "bf5cb357",
   "metadata": {},
   "source": [
    "Here again is the example from above, which uses a numbered backreference to match a word, followed by a comma, followed by the same word again:"
   ]
  },
  {
   "cell_type": "code",
   "execution_count": null,
   "id": "8a18bcfd",
   "metadata": {},
   "outputs": [],
   "source": [
    ">>>>>> m = re.search(r'(\\w+),\\1', 'foo,foo')\n",
    ">>> m\n",
    "<_sre.SRE_Match object; span=(0, 7), match='foo,foo'>\n",
    ">>> m.group(1)\n",
    "'foo'"
   ]
  },
  {
   "cell_type": "markdown",
   "id": "1797f66d",
   "metadata": {},
   "source": [
    "The following code does the same thing using a named group and a backreference instead:"
   ]
  },
  {
   "cell_type": "code",
   "execution_count": null,
   "id": "32eaf9ec",
   "metadata": {},
   "outputs": [],
   "source": [
    ">>>>>> m = re.search(r'(?P<word>\\w+),(?P=word)', 'foo,foo')\n",
    ">>> m\n",
    "<_sre.SRE_Match object; span=(0, 7), match='foo,foo'>\n",
    ">>> m.group('word')\n",
    "'foo'"
   ]
  },
  {
   "cell_type": "markdown",
   "id": "e13bf28c",
   "metadata": {},
   "source": [
    "`(?P=<word>\\w+)` matches `'foo'` and saves it as a captured group named `word`. Again, the comma matches literally. Then `(?P=word)` is a backreference to the named capture and matches `'foo'` again."
   ]
  },
  {
   "cell_type": "markdown",
   "id": "3be802af",
   "metadata": {},
   "source": [
    "`(?:<regex>)`"
   ]
  },
  {
   "cell_type": "markdown",
   "id": "f021c4e2",
   "metadata": {},
   "source": [
    "`(?:<regex>)` is just like `(<regex>)` in that it matches the specified `<regex>`. But `(?:<regex>)` doesn’t capture the match for later retrieval:"
   ]
  },
  {
   "cell_type": "code",
   "execution_count": null,
   "id": "2f58db22",
   "metadata": {},
   "outputs": [],
   "source": [
    ">>>>>> m = re.search('(\\w+),(?:\\w+),(\\w+)', 'foo,quux,baz')\n",
    ">>> m.groups()\n",
    "('foo', 'baz')\n",
    "\n",
    ">>> m.group(1)\n",
    "'foo'\n",
    ">>> m.group(2)\n",
    "'baz'"
   ]
  },
  {
   "cell_type": "markdown",
   "id": "9682c3d9",
   "metadata": {},
   "source": [
    "In this example, the middle word `'quux'` sits inside non-capturing parentheses, so it’s missing from the tuple of captured groups. It isn’t retrievable from the match object, nor would it be referable by backreference."
   ]
  },
  {
   "cell_type": "markdown",
   "id": "a525dccd",
   "metadata": {},
   "source": [
    "Why would you want to define a group but not capture it?"
   ]
  },
  {
   "cell_type": "markdown",
   "id": "98eb6bf2",
   "metadata": {},
   "source": [
    "Remember that the regex parser will treat the `<regex>` inside grouping parentheses as a single unit. You may have a situation where you need this grouping feature, but you don’t need to do anything with the value later, so you don’t really need to capture it. If you use non-capturing grouping, then the tuple of captured groups won’t be cluttered with values you don’t actually need to keep."
   ]
  },
  {
   "cell_type": "markdown",
   "id": "250def6f",
   "metadata": {},
   "source": [
    "Additionally, it takes some time and memory to capture a group. If the code that performs the match executes many times and you don’t capture groups that you aren’t going to use later, then you may see a slight performance advantage."
   ]
  },
  {
   "cell_type": "markdown",
   "id": "bd98efe1",
   "metadata": {},
   "source": [
    "`(?(<n>)<yes-regex>|<no-regex>)`  \n",
    "`(?(<name>)<yes-regex>|<no-regex>)`"
   ]
  },
  {
   "cell_type": "markdown",
   "id": "8672e160",
   "metadata": {},
   "source": [
    "A conditional match matches against one of two specified regexes depending on whether the given group exists:"
   ]
  },
  {
   "cell_type": "markdown",
   "id": "53ed55f3",
   "metadata": {},
   "source": [
    "- \n",
    "`(?(<n>)<yes-regex>|<no-regex>)` matches against `<yes-regex>` if a group numbered `<n>` exists. Otherwise, it matches against `<no-regex>`.\n",
    "\n",
    "\n",
    "\n",
    "- \n",
    "`(?(<name>)<yes-regex>|<no-regex>)` matches against `<yes-regex>` if a group named `<name>` exists. Otherwise, it matches against `<no-regex>`.\n",
    "\n",
    "\n",
    "\n"
   ]
  },
  {
   "cell_type": "markdown",
   "id": "7db180a1",
   "metadata": {},
   "source": [
    "Conditional matches are better illustrated with an example. Consider this regex:"
   ]
  },
  {
   "cell_type": "code",
   "execution_count": null,
   "id": "26897476",
   "metadata": {},
   "outputs": [],
   "source": [
    "regex = r'^(###)?foo(?(1)bar|baz)'"
   ]
  },
  {
   "cell_type": "markdown",
   "id": "9b2ae93f",
   "metadata": {},
   "source": [
    "Here are the parts of this regex broken out with some explanation:"
   ]
  },
  {
   "cell_type": "markdown",
   "id": "ef6c7f2f",
   "metadata": {},
   "source": [
    "1. `^(###)?` indicates that the search string optionally begins with `'###'`. If it does, then the grouping parentheses around `###` will create a group numbered `1`. Otherwise, no such group will exist.\n",
    "2. The next portion, `foo`, literally matches the string `'foo'`.\n",
    "3. Lastly, `(?(1)bar|baz)` matches against `'bar'` if group `1` exists and `'baz'` if it doesn’t.\n"
   ]
  },
  {
   "cell_type": "markdown",
   "id": "642b56fb",
   "metadata": {},
   "source": [
    "The following code blocks demonstrate the use of the above regex in several different Python code snippets:"
   ]
  },
  {
   "cell_type": "markdown",
   "id": "9727da70",
   "metadata": {},
   "source": [
    "Example 1:"
   ]
  },
  {
   "cell_type": "code",
   "execution_count": null,
   "id": "f709b979",
   "metadata": {},
   "outputs": [],
   "source": [
    ">>>>>> re.search(regex, '###foobar')\n",
    "<_sre.SRE_Match object; span=(0, 9), match='###foobar'>"
   ]
  },
  {
   "cell_type": "markdown",
   "id": "6c65ca00",
   "metadata": {},
   "source": [
    "The search string `'###foobar'` does start with `'###'`, so the parser creates a group numbered `1`. The conditional match is then against `'bar'`, which matches."
   ]
  },
  {
   "cell_type": "markdown",
   "id": "960202a4",
   "metadata": {},
   "source": [
    "Example 2:"
   ]
  },
  {
   "cell_type": "code",
   "execution_count": null,
   "id": "8c905061",
   "metadata": {},
   "outputs": [],
   "source": [
    ">>>>>> print(re.search(regex, '###foobaz'))\n",
    "None"
   ]
  },
  {
   "cell_type": "markdown",
   "id": "f2847cab",
   "metadata": {},
   "source": [
    "The search string `'###foobaz'` does start with `'###'`, so the parser creates a group numbered `1`. The conditional match is then against `'bar'`, which doesn’t match."
   ]
  },
  {
   "cell_type": "markdown",
   "id": "e5d11a0e",
   "metadata": {},
   "source": [
    "Example 3:"
   ]
  },
  {
   "cell_type": "code",
   "execution_count": null,
   "id": "f8177167",
   "metadata": {},
   "outputs": [],
   "source": [
    ">>>>>> print(re.search(regex, 'foobar'))\n",
    "None"
   ]
  },
  {
   "cell_type": "markdown",
   "id": "00325579",
   "metadata": {},
   "source": [
    "The search string `'foobar'` doesn’t start with `'###'`, so there isn’t a group numbered `1`. The conditional match is then against `'baz'`, which doesn’t match."
   ]
  },
  {
   "cell_type": "markdown",
   "id": "8c83feee",
   "metadata": {},
   "source": [
    "Example 4:"
   ]
  },
  {
   "cell_type": "code",
   "execution_count": null,
   "id": "62d3b9c4",
   "metadata": {},
   "outputs": [],
   "source": [
    ">>>>>> re.search(regex, 'foobaz')\n",
    "<_sre.SRE_Match object; span=(0, 6), match='foobaz'>"
   ]
  },
  {
   "cell_type": "markdown",
   "id": "b7ec8a53",
   "metadata": {},
   "source": [
    "The search string `'foobaz'` doesn’t start with `'###'`, so there isn’t a group numbered `1`. The conditional match is then against `'baz'`, which matches."
   ]
  },
  {
   "cell_type": "markdown",
   "id": "00a7b99a",
   "metadata": {},
   "source": [
    "Here’s another conditional match using a named group instead of a numbered group:"
   ]
  },
  {
   "cell_type": "code",
   "execution_count": null,
   "id": "65a843e8",
   "metadata": {},
   "outputs": [],
   "source": [
    ">>>>>> regex = r'^(?P<ch>\\W)?foo(?(ch)(?P=ch)|)$'"
   ]
  },
  {
   "cell_type": "markdown",
   "id": "26c04276",
   "metadata": {},
   "source": [
    "This regex matches the string `'foo'`, preceded by a single non-word character and followed by the same non-word character, or the string `'foo'` by itself."
   ]
  },
  {
   "cell_type": "markdown",
   "id": "0b2abc64",
   "metadata": {},
   "source": [
    "Again, let’s break this down into pieces:"
   ]
  },
  {
   "cell_type": "markdown",
   "id": "8066d653",
   "metadata": {},
   "source": [
    "|Regex|Matches|\n",
    "|:--|:--|\n",
    "|`^`|The start of the string|\n",
    "|`(?P<ch>\\W)`|A single non-word character, captured in a group named `ch`|\n",
    "|`(?P<ch>\\W)?`|Zero or one occurrences of the above|\n",
    "|`foo`|The literal string `'foo'`|\n",
    "|`(?(ch)(?P=ch)|)`|The contents of the group named `ch` if it exists, or the empty string if it doesn’t|\n",
    "|`$`|The end of the string|\n"
   ]
  },
  {
   "cell_type": "markdown",
   "id": "3a95c398",
   "metadata": {},
   "source": [
    "If a non-word character precedes `'foo'`, then the parser creates a group named `ch` which contains that character. The conditional match then matches against `<yes-regex>`, which is `(?P=ch)`, the same character again. That means the same character must also follow `'foo'` for the entire match to succeed."
   ]
  },
  {
   "cell_type": "markdown",
   "id": "3129b1b0",
   "metadata": {},
   "source": [
    "If `'foo'` isn’t preceded by a non-word character, then the parser doesn’t create group `ch`. `<no-regex>` is the empty string, which means there must not be anything following `'foo'` for the entire match to succeed. Since `^` and `$` anchor the whole regex, the string must equal `'foo'` exactly."
   ]
  },
  {
   "cell_type": "markdown",
   "id": "4accda0e",
   "metadata": {},
   "source": [
    "Here are some examples of searches using this regex in Python code:"
   ]
  },
  {
   "cell_type": "code",
   "execution_count": null,
   "id": "2806f13b",
   "metadata": {},
   "outputs": [],
   "source": [
    ">>> 1>>> re.search(regex, 'foo')\n",
    " 2<_sre.SRE_Match object; span=(0, 3), match='foo'>\n",
    " 3>>> re.search(regex, '#foo#')\n",
    " 4<_sre.SRE_Match object; span=(0, 5), match='#foo#'>\n",
    " 5>>> re.search(regex, '@foo@')\n",
    " 6<_sre.SRE_Match object; span=(0, 5), match='@foo@'>\n",
    " 7\n",
    " 8>>> print(re.search(regex, '#foo'))\n",
    " 9None\n",
    "10>>> print(re.search(regex, 'foo@'))\n",
    "11None\n",
    "12>>> print(re.search(regex, '#foo@'))\n",
    "13None\n",
    "14>>> print(re.search(regex, '@foo#'))\n",
    "15None"
   ]
  },
  {
   "cell_type": "markdown",
   "id": "82f1306c",
   "metadata": {},
   "source": [
    "On **line 1**, `'foo'` is by itself. On **lines 3 and 5**, the same non-word character precedes and follows `'foo'`. As advertised, these matches succeed."
   ]
  },
  {
   "cell_type": "markdown",
   "id": "42645cc6",
   "metadata": {},
   "source": [
    "In the remaining cases, the matches fail."
   ]
  },
  {
   "cell_type": "markdown",
   "id": "a97604af",
   "metadata": {},
   "source": [
    "Conditional regexes in Python are pretty esoteric and challenging to work through. If you ever do find a reason to use one, then you could probably accomplish the same goal with multiple separate `re.search()` calls, and your code would be less complicated to read and understand."
   ]
  },
  {
   "cell_type": "markdown",
   "id": "180d4d52",
   "metadata": {},
   "source": [
    "<a class=\"anchor\" id=\"lookahead_and_lookbehind_assertions\"></a>\n",
    "\n",
    "### Lookahead and Lookbehind Assertions"
   ]
  },
  {
   "cell_type": "markdown",
   "id": "569290ac",
   "metadata": {},
   "source": [
    "**Lookahead** and **lookbehind** assertions determine the success or failure of a regex match in Python based on what is just behind (to the left) or ahead (to the right) of the parser’s current position in the search string."
   ]
  },
  {
   "cell_type": "markdown",
   "id": "79b68c00",
   "metadata": {},
   "source": [
    "Like anchors, lookahead and lookbehind assertions are zero-width assertions, so they don’t consume any of the search string. Also, even though they contain parentheses and perform grouping, they don’t capture what they match."
   ]
  },
  {
   "cell_type": "markdown",
   "id": "2966612e",
   "metadata": {},
   "source": [
    "`(?=<lookahead_regex>)`"
   ]
  },
  {
   "cell_type": "markdown",
   "id": "5e981d8e",
   "metadata": {},
   "source": [
    "`(?=<lookahead_regex>)` asserts that what follows the regex parser’s current position must match `<lookahead_regex>`:"
   ]
  },
  {
   "cell_type": "code",
   "execution_count": null,
   "id": "5dc1a0fe",
   "metadata": {},
   "outputs": [],
   "source": [
    ">>>>>> re.search('foo(?=[a-z])', 'foobar')\n",
    "<_sre.SRE_Match object; span=(0, 3), match='foo'>"
   ]
  },
  {
   "cell_type": "markdown",
   "id": "f1dee942",
   "metadata": {},
   "source": [
    "The lookahead assertion `(?=[a-z])` specifies that what follows `'foo'` must be a lowercase alphabetic character. In this case, it’s the character `'b'`, so a match is found."
   ]
  },
  {
   "cell_type": "markdown",
   "id": "e88245b8",
   "metadata": {},
   "source": [
    "In the next example, on the other hand, the lookahead fails. The next character after `'foo'` is `'1'`, so there isn’t a match:"
   ]
  },
  {
   "cell_type": "code",
   "execution_count": null,
   "id": "73827c76",
   "metadata": {},
   "outputs": [],
   "source": [
    ">>>>>> print(re.search('foo(?=[a-z])', 'foo123'))\n",
    "None"
   ]
  },
  {
   "cell_type": "markdown",
   "id": "c076e666",
   "metadata": {},
   "source": [
    "What’s unique about a lookahead is that the portion of the search string that matches `<lookahead_regex>` isn’t consumed, and it isn’t part of the returned match object."
   ]
  },
  {
   "cell_type": "markdown",
   "id": "d4690be5",
   "metadata": {},
   "source": [
    "Take another look at the first example:"
   ]
  },
  {
   "cell_type": "code",
   "execution_count": null,
   "id": "dfd2bc4f",
   "metadata": {},
   "outputs": [],
   "source": [
    ">>>>>> re.search('foo(?=[a-z])', 'foobar')\n",
    "<_sre.SRE_Match object; span=(0, 3), match='foo'>"
   ]
  },
  {
   "cell_type": "markdown",
   "id": "8668c6ec",
   "metadata": {},
   "source": [
    "The regex parser looks ahead only to the `'b'` that follows `'foo'` but doesn’t pass over it yet. You can tell that `'b'` isn’t considered part of the match because the match object displays `match='foo'`."
   ]
  },
  {
   "cell_type": "markdown",
   "id": "f984f2ad",
   "metadata": {},
   "source": [
    "Compare that to a similar example that uses grouping parentheses without a lookahead:"
   ]
  },
  {
   "cell_type": "code",
   "execution_count": null,
   "id": "782fe297",
   "metadata": {},
   "outputs": [],
   "source": [
    ">>>>>> re.search('foo([a-z])', 'foobar')\n",
    "<_sre.SRE_Match object; span=(0, 4), match='foob'>"
   ]
  },
  {
   "cell_type": "markdown",
   "id": "1f159c0b",
   "metadata": {},
   "source": [
    "This time, the regex consumes the `'b'`, and it becomes a part of the eventual match."
   ]
  },
  {
   "cell_type": "markdown",
   "id": "e18b08b1",
   "metadata": {},
   "source": [
    "Here’s another example illustrating how a lookahead differs from a conventional regex in Python:"
   ]
  },
  {
   "cell_type": "code",
   "execution_count": null,
   "id": "f0287b4d",
   "metadata": {},
   "outputs": [],
   "source": [
    ">>> 1>>> m = re.search('foo(?=[a-z])(?P<ch>.)', 'foobar')\n",
    " 2>>> m.group('ch')\n",
    " 3'b'\n",
    " 4\n",
    " 5>>> m = re.search('foo([a-z])(?P<ch>.)', 'foobar')\n",
    " 6>>> m.group('ch')\n",
    " 7'a'"
   ]
  },
  {
   "cell_type": "markdown",
   "id": "248722c3",
   "metadata": {},
   "source": [
    "In the first search, on **line 1**, the parser proceeds as follows:"
   ]
  },
  {
   "cell_type": "markdown",
   "id": "f41d1ece",
   "metadata": {},
   "source": [
    "1. The first portion of the regex, `foo`, matches and consumes `'foo'` from the search string `'foobar'`.\n",
    "2. The next portion, `(?=[a-z])`, is a lookahead that matches `'b'`, but the parser doesn’t advance past the `'b'`.\n",
    "3. Lastly, `(?P<ch>.)` matches the next single character available, which is `'b'`, and captures it in a group named `ch`.\n"
   ]
  },
  {
   "cell_type": "markdown",
   "id": "8e65ace2",
   "metadata": {},
   "source": [
    "The `m.group('ch')` call confirms that the group named `ch` contains `'b'`."
   ]
  },
  {
   "cell_type": "markdown",
   "id": "48a48b25",
   "metadata": {},
   "source": [
    "Compare that to the search on **line 5**, which doesn’t contain a lookahead:"
   ]
  },
  {
   "cell_type": "markdown",
   "id": "0c45358a",
   "metadata": {},
   "source": [
    "1. As in the first example, the first portion of the regex, `foo`, matches and consumes `'foo'` from the search string `'foobar'`.\n",
    "2. The next portion, `([a-z])`, matches and consumes `'b'`, and the parser advances past `'b'`.\n",
    "3. Lastly, `(?P<ch>.)` matches the next single character available, which is now `'a'`.\n"
   ]
  },
  {
   "cell_type": "markdown",
   "id": "d991d458",
   "metadata": {},
   "source": [
    "`m.group('ch')` confirms that, in this case, the group named `ch` contains `'a'`."
   ]
  },
  {
   "cell_type": "markdown",
   "id": "a05419bc",
   "metadata": {},
   "source": [
    "`(?!<lookahead_regex>)`"
   ]
  },
  {
   "cell_type": "markdown",
   "id": "56721920",
   "metadata": {},
   "source": [
    "`(?!<lookahead_regex>)` asserts that what follows the regex parser’s current position must *not* match `<lookahead_regex>`."
   ]
  },
  {
   "cell_type": "markdown",
   "id": "1059b045",
   "metadata": {},
   "source": [
    "Here are the positive lookahead examples you saw earlier, along with their negative lookahead counterparts:"
   ]
  },
  {
   "cell_type": "code",
   "execution_count": null,
   "id": "8df13fa5",
   "metadata": {},
   "outputs": [],
   "source": [
    ">>> 1>>> re.search('foo(?=[a-z])', 'foobar')\n",
    " 2<_sre.SRE_Match object; span=(0, 3), match='foo'>\n",
    " 3>>> print(re.search('foo(?![a-z])', 'foobar'))\n",
    " 4None\n",
    " 5\n",
    " 6>>> print(re.search('foo(?=[a-z])', 'foo123'))\n",
    " 7None\n",
    " 8>>> re.search('foo(?![a-z])', 'foo123')\n",
    " 9<_sre.SRE_Match object; span=(0, 3), match='foo'>"
   ]
  },
  {
   "cell_type": "markdown",
   "id": "492ef672",
   "metadata": {},
   "source": [
    "The negative lookahead assertions on **lines 3 and 8** stipulate that what follows `'foo'` should not be a lowercase alphabetic character. This fails on **line 3** but succeeds on **line 8**. This is the opposite of what happened with the corresponding positive lookahead assertions."
   ]
  },
  {
   "cell_type": "markdown",
   "id": "97e69e98",
   "metadata": {},
   "source": [
    "As with a positive lookahead, what matches a negative lookahead isn’t part of the returned match object and isn’t consumed."
   ]
  },
  {
   "cell_type": "markdown",
   "id": "eef701f5",
   "metadata": {},
   "source": [
    "`(?<=<lookbehind_regex>)`"
   ]
  },
  {
   "cell_type": "markdown",
   "id": "5d8c3f76",
   "metadata": {},
   "source": [
    "`(?<=<lookbehind_regex>)` asserts that what precedes the regex parser’s current position must match `<lookbehind_regex>`."
   ]
  },
  {
   "cell_type": "markdown",
   "id": "0e870fe0",
   "metadata": {},
   "source": [
    "In the following example, the lookbehind assertion specifies that `'foo'` must precede `'bar'`:"
   ]
  },
  {
   "cell_type": "code",
   "execution_count": null,
   "id": "8544ebdf",
   "metadata": {},
   "outputs": [],
   "source": [
    ">>>>>> re.search('(?<=foo)bar', 'foobar')\n",
    "<_sre.SRE_Match object; span=(3, 6), match='bar'>"
   ]
  },
  {
   "cell_type": "markdown",
   "id": "0f756f38",
   "metadata": {},
   "source": [
    "This is the case here, so the match succeeds. As with lookahead assertions, the part of the search string that matches the lookbehind doesn’t become part of the eventual match."
   ]
  },
  {
   "cell_type": "markdown",
   "id": "7a08a85c",
   "metadata": {},
   "source": [
    "The next example fails to match because the lookbehind requires that `'qux'` precede `'bar'`:"
   ]
  },
  {
   "cell_type": "code",
   "execution_count": null,
   "id": "b18fb7fb",
   "metadata": {},
   "outputs": [],
   "source": [
    ">>>>>> print(re.search('(?<=qux)bar', 'foobar'))\n",
    "None"
   ]
  },
  {
   "cell_type": "markdown",
   "id": "9fb96b4e",
   "metadata": {},
   "source": [
    "There’s a restriction on lookbehind assertions that doesn’t apply to lookahead assertions. The `<lookbehind_regex>` in a lookbehind assertion must specify a match of fixed length."
   ]
  },
  {
   "cell_type": "markdown",
   "id": "e755b1ef",
   "metadata": {},
   "source": [
    "For example, the following isn’t allowed because the length of the string matched by `a+` is indeterminate:"
   ]
  },
  {
   "cell_type": "code",
   "execution_count": null,
   "id": "26a8b6fa",
   "metadata": {},
   "outputs": [],
   "source": [
    ">>>>>> re.search('(?<=a+)def', 'aaadef')\n",
    "Traceback (most recent call last):\n",
    "  File \"<pyshell#72>\", line 1, in <module>\n",
    "    re.search('(?<=a+)def', 'aaadef')\n",
    "  File \"C:\\Python36\\lib\\re.py\", line 182, in search\n",
    "    return _compile(pattern, flags).search(string)\n",
    "  File \"C:\\Python36\\lib\\re.py\", line 301, in _compile\n",
    "    p = sre_compile.compile(pattern, flags)\n",
    "  File \"C:\\Python36\\lib\\sre_compile.py\", line 566, in compile\n",
    "    code = _code(p, flags)\n",
    "  File \"C:\\Python36\\lib\\sre_compile.py\", line 551, in _code\n",
    "    _compile(code, p.data, flags)\n",
    "  File \"C:\\Python36\\lib\\sre_compile.py\", line 160, in _compile\n",
    "    raise error(\"look-behind requires fixed-width pattern\")\n",
    "sre_constants.error: look-behind requires fixed-width pattern"
   ]
  },
  {
   "cell_type": "markdown",
   "id": "7f771692",
   "metadata": {},
   "source": [
    "This, however, is okay:"
   ]
  },
  {
   "cell_type": "code",
   "execution_count": null,
   "id": "c6bba87b",
   "metadata": {},
   "outputs": [],
   "source": [
    ">>>>>> re.search('(?<=a{3})def', 'aaadef')\n",
    "<_sre.SRE_Match object; span=(3, 6), match='def'>"
   ]
  },
  {
   "cell_type": "markdown",
   "id": "0345e969",
   "metadata": {},
   "source": [
    "Anything that matches `a{3}` will have a fixed length of three, so `a{3}` is valid in a lookbehind assertion."
   ]
  },
  {
   "cell_type": "markdown",
   "id": "8a6566c6",
   "metadata": {},
   "source": [
    "`(?<!--<lookbehind_regex-->)`"
   ]
  },
  {
   "cell_type": "markdown",
   "id": "2b8594f6",
   "metadata": {},
   "source": [
    "`(?<!--<lookbehind_regex-->)` asserts that what precedes the regex parser’s current position must *not* match `<lookbehind_regex>`:"
   ]
  },
  {
   "cell_type": "code",
   "execution_count": null,
   "id": "f9387986",
   "metadata": {},
   "outputs": [],
   "source": [
    ">>>>>> print(re.search('(?<!foo)bar', 'foobar'))\n",
    "None\n",
    "\n",
    ">>> re.search('(?<!qux)bar', 'foobar')\n",
    "<_sre.SRE_Match object; span=(3, 6), match='bar'>"
   ]
  },
  {
   "cell_type": "markdown",
   "id": "0d4fdb3b",
   "metadata": {},
   "source": [
    "As with the positive lookbehind assertion, `<lookbehind_regex>` must specify a match of fixed length."
   ]
  },
  {
   "cell_type": "markdown",
   "id": "2093bc6b",
   "metadata": {},
   "source": [
    "<a class=\"anchor\" id=\"miscellaneous_metacharacters\"></a>\n",
    "\n",
    "### Miscellaneous Metacharacters"
   ]
  },
  {
   "cell_type": "markdown",
   "id": "f897373f",
   "metadata": {},
   "source": [
    "There are a couple more metacharacter sequences to cover. These are stray metacharacters that don’t obviously fall into any of the categories already discussed."
   ]
  },
  {
   "cell_type": "markdown",
   "id": "5822cf65",
   "metadata": {},
   "source": [
    "`(?#...)`"
   ]
  },
  {
   "cell_type": "markdown",
   "id": "77bafe2b",
   "metadata": {},
   "source": [
    "The regex parser ignores anything contained in the sequence `(?#...)`:"
   ]
  },
  {
   "cell_type": "code",
   "execution_count": null,
   "id": "b606bf8e",
   "metadata": {},
   "outputs": [],
   "source": [
    ">>>>>> re.search('bar(?#This is a comment) *baz', 'foo bar baz qux')\n",
    "<_sre.SRE_Match object; span=(4, 11), match='bar baz'>"
   ]
  },
  {
   "cell_type": "markdown",
   "id": "cdf4d3d7",
   "metadata": {},
   "source": [
    "This allows you to specify documentation inside a regex in Python, which can be especially useful if the regex is particularly long."
   ]
  },
  {
   "cell_type": "markdown",
   "id": "41eb67aa",
   "metadata": {},
   "source": [
    "Vertical bar, or pipe (`|`)"
   ]
  },
  {
   "cell_type": "markdown",
   "id": "21f1b728",
   "metadata": {},
   "source": [
    "An expression of the form `<regex``1``>|<regex``2``>|...|<regex``n``>` matches at most one of the specified `<regex``i``>` expressions:"
   ]
  },
  {
   "cell_type": "code",
   "execution_count": null,
   "id": "2cc442ff",
   "metadata": {},
   "outputs": [],
   "source": [
    ">>>>>> re.search('foo|bar|baz', 'bar')\n",
    "<_sre.SRE_Match object; span=(0, 3), match='bar'>\n",
    "\n",
    ">>> re.search('foo|bar|baz', 'baz')\n",
    "<_sre.SRE_Match object; span=(0, 3), match='baz'>\n",
    "\n",
    ">>> print(re.search('foo|bar|baz', 'quux'))\n",
    "None"
   ]
  },
  {
   "cell_type": "markdown",
   "id": "ad74b1df",
   "metadata": {},
   "source": [
    "Here, `foo|bar|baz` will match any of `'foo'`, `'bar'`, or `'baz'`. You can separate any number of regexes using `|`."
   ]
  },
  {
   "cell_type": "markdown",
   "id": "2a57ec5c",
   "metadata": {},
   "source": [
    "Alternation is non-greedy. The regex parser looks at the expressions separated by `|` in left-to-right order and returns the first match that it finds. The remaining expressions aren’t tested, even if one of them would produce a longer match:"
   ]
  },
  {
   "cell_type": "code",
   "execution_count": null,
   "id": "1988ec7e",
   "metadata": {},
   "outputs": [],
   "source": [
    ">>> 1>>> re.search('foo', 'foograult')\n",
    " 2<_sre.SRE_Match object; span=(0, 3), match='foo'>\n",
    " 3>>> re.search('grault', 'foograult')\n",
    " 4<_sre.SRE_Match object; span=(3, 9), match='grault'>\n",
    " 5\n",
    " 6>>> re.search('foo|grault', 'foograult')\n",
    " 7<_sre.SRE_Match object; span=(0, 3), match='foo'>"
   ]
  },
  {
   "cell_type": "markdown",
   "id": "bee4038d",
   "metadata": {},
   "source": [
    "In this case, the pattern specified on **line 6**, `'foo|grault'`, would match on either `'foo'` or `'grault'`. The match returned is `'foo'` because that appears first when scanning from left to right, even though `'grault'` would be a longer match."
   ]
  },
  {
   "cell_type": "markdown",
   "id": "e468bf87",
   "metadata": {},
   "source": [
    "You can combine alternation, grouping, and any other metacharacters to achieve whatever level of complexity you need. In the following example, `(foo|bar|baz)+` means a sequence of one or more of the strings `'foo'`, `'bar'`, or `'baz'`:"
   ]
  },
  {
   "cell_type": "code",
   "execution_count": null,
   "id": "0a890a9b",
   "metadata": {},
   "outputs": [],
   "source": [
    ">>>>>> re.search('(foo|bar|baz)+', 'foofoofoo')\n",
    "<_sre.SRE_Match object; span=(0, 9), match='foofoofoo'>\n",
    ">>> re.search('(foo|bar|baz)+', 'bazbazbazbaz')\n",
    "<_sre.SRE_Match object; span=(0, 12), match='bazbazbazbaz'>\n",
    ">>> re.search('(foo|bar|baz)+', 'barbazfoo')\n",
    "<_sre.SRE_Match object; span=(0, 9), match='barbazfoo'>"
   ]
  },
  {
   "cell_type": "markdown",
   "id": "d6a2c167",
   "metadata": {},
   "source": [
    "In the next example, `([0-9]+|[a-f]+)` means a sequence of one or more decimal digit characters or a sequence of one or more of the characters `'a-f'`:"
   ]
  },
  {
   "cell_type": "code",
   "execution_count": null,
   "id": "2a510312",
   "metadata": {},
   "outputs": [],
   "source": [
    ">>>>>> re.search('([0-9]+|[a-f]+)', '456')\n",
    "<_sre.SRE_Match object; span=(0, 3), match='456'>\n",
    ">>> re.search('([0-9]+|[a-f]+)', 'ffda')\n",
    "<_sre.SRE_Match object; span=(0, 4), match='ffda'>"
   ]
  },
  {
   "cell_type": "markdown",
   "id": "de01a769",
   "metadata": {},
   "source": [
    "With all the metacharacters that the `re` module supports, the sky is practically the limit."
   ]
  },
  {
   "cell_type": "markdown",
   "id": "bfe6b953",
   "metadata": {},
   "source": [
    "That’s All, Folks!"
   ]
  },
  {
   "cell_type": "markdown",
   "id": "2c3b9cc8",
   "metadata": {},
   "source": [
    "That completes our tour of the regex metacharacters supported by Python’s `re` module. (Actually, it doesn’t quite—there are a couple more stragglers you’ll learn about below in the discussion on flags.)"
   ]
  },
  {
   "cell_type": "markdown",
   "id": "025c080a",
   "metadata": {},
   "source": [
    "It’s a lot to digest, but once you become familiar with regex syntax in Python, the complexity of pattern matching that you can perform is almost limitless. These tools come in very handy when you’re writing code to process textual data."
   ]
  },
  {
   "cell_type": "markdown",
   "id": "27a2fb8c",
   "metadata": {},
   "source": [
    "If you’re new to regexes and want more practice working with them, or if you’re developing an application that uses a regex and you want to test it interactively, then check out the [Regular Expressions 101](https://regex101.com) website. It’s seriously cool!"
   ]
  },
  {
   "cell_type": "markdown",
   "id": "27143dbd",
   "metadata": {},
   "source": [
    "<a class=\"anchor\" id=\"modified_regular_expression_matching_with_flags\"></a>\n",
    "\n",
    "## Modified Regular Expression Matching With Flags"
   ]
  },
  {
   "cell_type": "markdown",
   "id": "67f60ebf",
   "metadata": {},
   "source": [
    "Most of the functions in the `re` module take an optional `<flags>` argument. This includes the function you’re now very familiar with, `re.search()`."
   ]
  },
  {
   "cell_type": "markdown",
   "id": "11042737",
   "metadata": {},
   "source": [
    "`re.search(<regex>, <string>, <flags>)`"
   ]
  },
  {
   "cell_type": "markdown",
   "id": "acc02716",
   "metadata": {},
   "source": [
    "Flags modify regex parsing behavior, allowing you to refine your pattern matching even further."
   ]
  },
  {
   "cell_type": "markdown",
   "id": "aed4604f",
   "metadata": {},
   "source": [
    "<a class=\"anchor\" id=\"supported_regular_expression_flags\"></a>\n",
    "\n",
    "### Supported Regular Expression Flags"
   ]
  },
  {
   "cell_type": "markdown",
   "id": "0747d9cc",
   "metadata": {},
   "source": [
    "The table below briefly summarizes the available flags. All flags except `re.DEBUG` have a short, single-letter name and also a longer, full-word name:"
   ]
  },
  {
   "cell_type": "markdown",
   "id": "49615bca",
   "metadata": {},
   "source": [
    "|Short Name|Long Name|Effect|\n",
    "|:--|:--|:--|\n",
    "|`re.I`|`re.IGNORECASE`|Makes matching of alphabetic characters case-insensitive|\n",
    "|`re.M`|`re.MULTILINE`|Causes start-of-string and end-of-string anchors to match embedded newlines|\n",
    "|`re.S`|`re.DOTALL`|Causes the dot metacharacter to match a newline|\n",
    "|`re.X`|`re.VERBOSE`|Allows inclusion of whitespace and comments within a regular expression|\n",
    "|`----`|`re.DEBUG`|Causes the regex parser to display debugging information to the console|\n",
    "|`re.A`|`re.ASCII`|Specifies ASCII encoding for character classification|\n",
    "|`re.U`|`re.UNICODE`|Specifies Unicode encoding for character classification|\n",
    "|`re.L`                            |`re.LOCALE`|Specifies encoding for character classification based on the current locale|\n"
   ]
  },
  {
   "cell_type": "markdown",
   "id": "984a59f0",
   "metadata": {},
   "source": [
    "The following sections describe in more detail how these flags affect matching behavior."
   ]
  },
  {
   "cell_type": "markdown",
   "id": "9b28eb04",
   "metadata": {},
   "source": [
    "`re.I`  \n",
    "`re.IGNORECASE`"
   ]
  },
  {
   "cell_type": "markdown",
   "id": "420576f2",
   "metadata": {},
   "source": [
    "When `IGNORECASE` is in effect, character matching is case insensitive:"
   ]
  },
  {
   "cell_type": "code",
   "execution_count": null,
   "id": "e4b86013",
   "metadata": {},
   "outputs": [],
   "source": [
    ">>> 1>>> re.search('a+', 'aaaAAA')\n",
    " 2<_sre.SRE_Match object; span=(0, 3), match='aaa'>\n",
    " 3>>> re.search('A+', 'aaaAAA')\n",
    " 4<_sre.SRE_Match object; span=(3, 6), match='AAA'>\n",
    " 5\n",
    " 6>>> re.search('a+', 'aaaAAA', re.I)\n",
    " 7<_sre.SRE_Match object; span=(0, 6), match='aaaAAA'>\n",
    " 8>>> re.search('A+', 'aaaAAA', re.IGNORECASE)\n",
    " 9<_sre.SRE_Match object; span=(0, 6), match='aaaAAA'>"
   ]
  },
  {
   "cell_type": "markdown",
   "id": "9cce25e6",
   "metadata": {},
   "source": [
    "In the search on **line 1**, `a+` matches only the first three characters of `'aaaAAA'`. Similarly, on **line 3**, `A+` matches only the last three characters. But in the subsequent searches, the parser ignores case, so both `a+` and `A+` match the entire string."
   ]
  },
  {
   "cell_type": "markdown",
   "id": "55e53337",
   "metadata": {},
   "source": [
    "`IGNORECASE` affects alphabetic matching involving character classes as well:"
   ]
  },
  {
   "cell_type": "code",
   "execution_count": null,
   "id": "55a14fb6",
   "metadata": {},
   "outputs": [],
   "source": [
    ">>>>>> re.search('[a-z]+', 'aBcDeF')\n",
    "<_sre.SRE_Match object; span=(0, 1), match='a'>\n",
    ">>> re.search('[a-z]+', 'aBcDeF', re.I)\n",
    "<_sre.SRE_Match object; span=(0, 6), match='aBcDeF'>"
   ]
  },
  {
   "cell_type": "markdown",
   "id": "546f2a93",
   "metadata": {},
   "source": [
    "When case is significant, the longest portion of `'aBcDeF'` that `[a-z]+` matches is just the initial `'a'`. Specifying `re.I` makes the search case insensitive, so `[a-z]+` matches the entire string."
   ]
  },
  {
   "cell_type": "markdown",
   "id": "3626b20b",
   "metadata": {},
   "source": [
    "`re.M`  \n",
    "`re.MULTILINE`"
   ]
  },
  {
   "cell_type": "markdown",
   "id": "858149e4",
   "metadata": {},
   "source": [
    "By default, the `^` (start-of-string) and `$` (end-of-string) anchors match only at the beginning and end of the search string:"
   ]
  },
  {
   "cell_type": "code",
   "execution_count": null,
   "id": "dda3c49b",
   "metadata": {},
   "outputs": [],
   "source": [
    ">>>>>> s = 'foo\\nbar\\nbaz'\n",
    "\n",
    ">>> re.search('^foo', s)\n",
    "<_sre.SRE_Match object; span=(0, 3), match='foo'>\n",
    ">>> print(re.search('^bar', s))\n",
    "None\n",
    ">>> print(re.search('^baz', s))\n",
    "None\n",
    "\n",
    ">>> print(re.search('foo$', s))\n",
    "None\n",
    ">>> print(re.search('bar$', s))\n",
    "None\n",
    ">>> re.search('baz$', s)\n",
    "<_sre.SRE_Match object; span=(8, 11), match='baz'>"
   ]
  },
  {
   "cell_type": "markdown",
   "id": "49043f51",
   "metadata": {},
   "source": [
    "In this case, even though the search string `'foo\\nbar\\nbaz'` contains embedded newline characters, only `'foo'` matches when anchored at the beginning of the string, and only `'baz'` matches when anchored at the end."
   ]
  },
  {
   "cell_type": "markdown",
   "id": "0d4566ef",
   "metadata": {},
   "source": [
    "If a string has embedded newlines, however, you can think of it as consisting of multiple internal lines. In that case, if the `MULTILINE` flag is set, the `^` and `$` anchor metacharacters match internal lines as well:"
   ]
  },
  {
   "cell_type": "markdown",
   "id": "f770ac35",
   "metadata": {},
   "source": [
    "- **`^`** matches at the beginning of the string or at the beginning of any line within the string (that is, immediately following a newline).\n",
    "- **`$`** matches at the end of the string or at the end of any line within the string (immediately preceding a newline).\n"
   ]
  },
  {
   "cell_type": "markdown",
   "id": "cf45c1bd",
   "metadata": {},
   "source": [
    "The following are the same searches as shown above:"
   ]
  },
  {
   "cell_type": "code",
   "execution_count": null,
   "id": "e16f1025",
   "metadata": {},
   "outputs": [],
   "source": [
    ">>>>>> s = 'foo\\nbar\\nbaz'\n",
    ">>> print(s)\n",
    "foo\n",
    "bar\n",
    "baz\n",
    "\n",
    ">>> re.search('^foo', s, re.MULTILINE)\n",
    "<_sre.SRE_Match object; span=(0, 3), match='foo'>\n",
    ">>> re.search('^bar', s, re.MULTILINE)\n",
    "<_sre.SRE_Match object; span=(4, 7), match='bar'>\n",
    ">>> re.search('^baz', s, re.MULTILINE)\n",
    "<_sre.SRE_Match object; span=(8, 11), match='baz'>\n",
    "\n",
    ">>> re.search('foo$', s, re.M)\n",
    "<_sre.SRE_Match object; span=(0, 3), match='foo'>\n",
    ">>> re.search('bar$', s, re.M)\n",
    "<_sre.SRE_Match object; span=(4, 7), match='bar'>\n",
    ">>> re.search('baz$', s, re.M)\n",
    "<_sre.SRE_Match object; span=(8, 11), match='baz'>"
   ]
  },
  {
   "cell_type": "markdown",
   "id": "cb83b5f7",
   "metadata": {},
   "source": [
    "In the string `'foo\\nbar\\nbaz'`, all three of `'foo'`, `'bar'`, and `'baz'` occur at either the start or end of the string or at the start or end of a line within the string. With the `MULTILINE` flag set, all three match when anchored with either `^` or `$`."
   ]
  },
  {
   "cell_type": "markdown",
   "id": "bc618034",
   "metadata": {},
   "source": [
    "`re.S`  \n",
    "`re.DOTALL`"
   ]
  },
  {
   "cell_type": "markdown",
   "id": "edf8fe20",
   "metadata": {},
   "source": [
    "Remember that by default, the dot metacharacter matches any character except the newline character. The `DOTALL` flag lifts this restriction:"
   ]
  },
  {
   "cell_type": "code",
   "execution_count": null,
   "id": "41e6c272",
   "metadata": {},
   "outputs": [],
   "source": [
    ">>> 1>>> print(re.search('foo.bar', 'foo\\nbar'))\n",
    " 2None\n",
    " 3>>> re.search('foo.bar', 'foo\\nbar', re.DOTALL)\n",
    " 4<_sre.SRE_Match object; span=(0, 7), match='foo\\nbar'>\n",
    " 5>>> re.search('foo.bar', 'foo\\nbar', re.S)\n",
    " 6<_sre.SRE_Match object; span=(0, 7), match='foo\\nbar'>"
   ]
  },
  {
   "cell_type": "markdown",
   "id": "5ae91cfd",
   "metadata": {},
   "source": [
    "In this example, on **line 1** the dot metacharacter doesn’t match the newline in `'foo\\nbar'`. On **lines 3 and 5**, `DOTALL` is in effect, so the dot does match the newline. Note that the short name of the `DOTALL` flag is `re.S`, not `re.D` as you might expect."
   ]
  },
  {
   "cell_type": "markdown",
   "id": "c9733d86",
   "metadata": {},
   "source": [
    "`re.X`  \n",
    "`re.VERBOSE`"
   ]
  },
  {
   "cell_type": "markdown",
   "id": "3408c5a4",
   "metadata": {},
   "source": [
    "The `VERBOSE` flag specifies a few special behaviors:"
   ]
  },
  {
   "cell_type": "markdown",
   "id": "067e3167",
   "metadata": {},
   "source": [
    "- \n",
    "The regex parser ignores all whitespace unless it’s within a character class or escaped with a backslash.\n",
    "\n",
    "\n",
    "\n",
    "- \n",
    "If the regex contains a `#` character that isn’t contained within a character class or escaped with a backslash, then the parser ignores it and all characters to the right of it.\n",
    "\n",
    "\n",
    "\n"
   ]
  },
  {
   "cell_type": "markdown",
   "id": "ea0c2b89",
   "metadata": {},
   "source": [
    "What’s the use of this? It allows you to format a regex in Python so that it’s more readable and self-documenting."
   ]
  },
  {
   "cell_type": "markdown",
   "id": "ce8ce86c",
   "metadata": {},
   "source": [
    "Here’s an example showing how you might put this to use. Suppose you want to parse phone numbers that have the following format:"
   ]
  },
  {
   "cell_type": "markdown",
   "id": "abd2f799",
   "metadata": {},
   "source": [
    "- Optional three-digit area code, in parentheses\n",
    "- Optional whitespace\n",
    "- Three-digit prefix\n",
    "- Separator (either `'-'` or `'.'`)\n",
    "- Four-digit line number\n"
   ]
  },
  {
   "cell_type": "markdown",
   "id": "d513e84a",
   "metadata": {},
   "source": [
    "The following regex does the trick:"
   ]
  },
  {
   "cell_type": "code",
   "execution_count": null,
   "id": "0194bee9",
   "metadata": {},
   "outputs": [],
   "source": [
    ">>>>>> regex = r'^(\\(\\d{3}\\))?\\s*\\d{3}[-.]\\d{4}$'\n",
    "\n",
    ">>> re.search(regex, '414.9229')\n",
    "<_sre.SRE_Match object; span=(0, 8), match='414.9229'>\n",
    ">>> re.search(regex, '414-9229')\n",
    "<_sre.SRE_Match object; span=(0, 8), match='414-9229'>\n",
    ">>> re.search(regex, '(712)414-9229')\n",
    "<_sre.SRE_Match object; span=(0, 13), match='(712)414-9229'>\n",
    ">>> re.search(regex, '(712) 414-9229')\n",
    "<_sre.SRE_Match object; span=(0, 14), match='(712) 414-9229'>"
   ]
  },
  {
   "cell_type": "markdown",
   "id": "f1ce1f4b",
   "metadata": {},
   "source": [
    "But `r'^(\\(\\d{3}\\))?\\s*\\d{3}[-.]\\d{4}$'` is an eyeful, isn’t it? Using the `VERBOSE` flag, you can write the same regex in Python like this instead:"
   ]
  },
  {
   "cell_type": "code",
   "execution_count": null,
   "id": "6ef83f81",
   "metadata": {},
   "outputs": [],
   "source": [
    ">>>>>> regex = r'''^               # Start of string\n",
    "...             (\\(\\d{3}\\))?    # Optional area code\n",
    "...             \\s*             # Optional whitespace\n",
    "...             \\d{3}           # Three-digit prefix\n",
    "...             [-.]            # Separator character\n",
    "...             \\d{4}           # Four-digit line number\n",
    "...             $               # Anchor at end of string\n",
    "...             '''\n",
    "\n",
    ">>> re.search(regex, '414.9229', re.VERBOSE)\n",
    "<_sre.SRE_Match object; span=(0, 8), match='414.9229'>\n",
    ">>> re.search(regex, '414-9229', re.VERBOSE)\n",
    "<_sre.SRE_Match object; span=(0, 8), match='414-9229'>\n",
    ">>> re.search(regex, '(712)414-9229', re.X)\n",
    "<_sre.SRE_Match object; span=(0, 13), match='(712)414-9229'>\n",
    ">>> re.search(regex, '(712) 414-9229', re.X)\n",
    "<_sre.SRE_Match object; span=(0, 14), match='(712) 414-9229'>"
   ]
  },
  {
   "cell_type": "markdown",
   "id": "d303d0d2",
   "metadata": {},
   "source": [
    "The `re.search()` calls are the same as those shown above, so you can see that this regex works the same as the one specified earlier. But it’s less difficult to understand at first glance."
   ]
  },
  {
   "cell_type": "markdown",
   "id": "c9890369",
   "metadata": {},
   "source": [
    "Note that [triple quoting](https://realpython.com/lessons/triple-quoted-strings/) makes it particularly convenient to include embedded newlines, which qualify as ignored whitespace in `VERBOSE` mode."
   ]
  },
  {
   "cell_type": "markdown",
   "id": "237ea535",
   "metadata": {},
   "source": [
    "When using the `VERBOSE` flag, be mindful of whitespace that you do intend to be significant. Consider these examples:"
   ]
  },
  {
   "cell_type": "code",
   "execution_count": null,
   "id": "50d8b053",
   "metadata": {},
   "outputs": [],
   "source": [
    ">>> 1>>> re.search('foo bar', 'foo bar')\n",
    " 2<_sre.SRE_Match object; span=(0, 7), match='foo bar'>\n",
    " 3\n",
    " 4>>> print(re.search('foo bar', 'foo bar', re.VERBOSE))\n",
    " 5None\n",
    " 6\n",
    " 7>>> re.search('foo\\ bar', 'foo bar', re.VERBOSE)\n",
    " 8<_sre.SRE_Match object; span=(0, 7), match='foo bar'>\n",
    " 9>>> re.search('foo[ ]bar', 'foo bar', re.VERBOSE)\n",
    "10<_sre.SRE_Match object; span=(0, 7), match='foo bar'>"
   ]
  },
  {
   "cell_type": "markdown",
   "id": "582663ec",
   "metadata": {},
   "source": [
    "After all you’ve seen to this point, you may be wondering why on **line 4** the regex `foo bar` doesn’t match the string `'foo bar'`. It doesn’t because the `VERBOSE` flag causes the parser to ignore the space character."
   ]
  },
  {
   "cell_type": "markdown",
   "id": "70874c26",
   "metadata": {},
   "source": [
    "To make this match as expected, escape the space character with a backslash or include it in a character class, as shown on **lines 7 and 9**."
   ]
  },
  {
   "cell_type": "markdown",
   "id": "bc61bbfd",
   "metadata": {},
   "source": [
    "As with the `DOTALL` flag, note that the `VERBOSE` flag has a non-intuitive short name: `re.X`, not `re.V`."
   ]
  },
  {
   "cell_type": "markdown",
   "id": "791d5238",
   "metadata": {},
   "source": [
    "`re.DEBUG`"
   ]
  },
  {
   "cell_type": "markdown",
   "id": "d1109ae6",
   "metadata": {},
   "source": [
    "The `DEBUG` flag causes the regex parser in Python to display debugging information about the parsing process to the console:"
   ]
  },
  {
   "cell_type": "code",
   "execution_count": null,
   "id": "78229500",
   "metadata": {},
   "outputs": [],
   "source": [
    ">>>>>> re.search('foo.bar', 'fooxbar', re.DEBUG)\n",
    "LITERAL 102\n",
    "LITERAL 111\n",
    "LITERAL 111\n",
    "ANY None\n",
    "LITERAL 98\n",
    "LITERAL 97\n",
    "LITERAL 114\n",
    "<_sre.SRE_Match object; span=(0, 7), match='fooxbar'>"
   ]
  },
  {
   "cell_type": "markdown",
   "id": "debd4fa0",
   "metadata": {},
   "source": [
    "When the parser displays `LITERAL nnn` in the debugging output, it’s showing the ASCII code of a literal character in the regex. In this case, the literal characters are `'f'`, `'o'`, `'o'` and `'b'`, `'a'`, `'r'`."
   ]
  },
  {
   "cell_type": "markdown",
   "id": "6d1b3a52",
   "metadata": {},
   "source": [
    "Here’s a more complicated example. This is the phone number regex shown in the discussion on the `VERBOSE` flag earlier:"
   ]
  },
  {
   "cell_type": "code",
   "execution_count": null,
   "id": "4feea777",
   "metadata": {},
   "outputs": [],
   "source": [
    ">>>>>> regex = r'^(\\(\\d{3}\\))?\\s*\\d{3}[-.]\\d{4}$'\n",
    "\n",
    ">>> re.search(regex, '414.9229', re.DEBUG)\n",
    "AT AT_BEGINNING\n",
    "MAX_REPEAT 0 1\n",
    "  SUBPATTERN 1 0 0\n",
    "    LITERAL 40\n",
    "    MAX_REPEAT 3 3\n",
    "      IN\n",
    "        CATEGORY CATEGORY_DIGIT\n",
    "    LITERAL 41\n",
    "MAX_REPEAT 0 MAXREPEAT\n",
    "  IN\n",
    "    CATEGORY CATEGORY_SPACE\n",
    "MAX_REPEAT 3 3\n",
    "  IN\n",
    "    CATEGORY CATEGORY_DIGIT\n",
    "IN\n",
    "  LITERAL 45\n",
    "  LITERAL 46\n",
    "MAX_REPEAT 4 4\n",
    "  IN\n",
    "    CATEGORY CATEGORY_DIGIT\n",
    "AT AT_END\n",
    "<_sre.SRE_Match object; span=(0, 8), match='414.9229'>"
   ]
  },
  {
   "cell_type": "markdown",
   "id": "9c903720",
   "metadata": {},
   "source": [
    "This looks like a lot of esoteric information that you’d never need, but it can be useful. See the Deep Dive below for a practical application."
   ]
  },
  {
   "cell_type": "markdown",
   "id": "a9b5314c",
   "metadata": {},
   "source": [
    "Curiously, the `re` module doesn’t define a single-letter version of the `DEBUG` flag. You could define your own if you wanted to:"
   ]
  },
  {
   "cell_type": "code",
   "execution_count": null,
   "id": "31453104",
   "metadata": {},
   "outputs": [],
   "source": [
    ">>>>>> import re\n",
    ">>> re.D\n",
    "Traceback (most recent call last):\n",
    "  File \"<stdin>\", line 1, in <module>\n",
    "AttributeError: module 're' has no attribute 'D'\n",
    "\n",
    ">>> re.D = re.DEBUG\n",
    ">>> re.search('foo', 'foo', re.D)\n",
    "LITERAL 102\n",
    "LITERAL 111\n",
    "LITERAL 111\n",
    "<_sre.SRE_Match object; span=(0, 3), match='foo'>"
   ]
  },
  {
   "cell_type": "markdown",
   "id": "445cc815",
   "metadata": {},
   "source": [
    "But this might be more confusing than helpful, as readers of your code might misconstrue it as an abbreviation for the `DOTALL` flag. If you did make this assignment, it would be a good idea to document it thoroughly."
   ]
  },
  {
   "cell_type": "markdown",
   "id": "8bff8d65",
   "metadata": {},
   "source": [
    "`re.A`  \n",
    "`re.ASCII`  \n",
    "`re.U`  \n",
    "`re.UNICODE`  \n",
    "`re.L`  \n",
    "`re.LOCALE`"
   ]
  },
  {
   "cell_type": "markdown",
   "id": "f10f8c19",
   "metadata": {},
   "source": [
    "Several of the regex metacharacter sequences (`\\w`, `\\W`, `\\b`, `\\B`, `\\d`, `\\D`, `\\s`, and `\\S`) require you to assign characters to certain classes like word, digit, or whitespace. The flags in this group determine the encoding scheme used to assign characters to these classes. The possible encodings are ASCII, Unicode, or according to the current locale."
   ]
  },
  {
   "cell_type": "markdown",
   "id": "74877e87",
   "metadata": {},
   "source": [
    "You had a brief introduction to character encoding and Unicode in the tutorial on Strings and Character Data in Python, under the discussion of the [`ord()` built-in function](https://realpython.com/python-strings/#built-in-string-functions). For more in-depth information, check out these resources:"
   ]
  },
  {
   "cell_type": "markdown",
   "id": "a6e95dfe",
   "metadata": {},
   "source": [
    "- [Unicode & Character Encodings in Python: A Painless Guide](https://realpython.com/python-encodings-guide)\n",
    "- [Python’s Unicode Support](https://docs.python.org/3/howto/unicode.html#python-s-unicode-support)\n"
   ]
  },
  {
   "cell_type": "markdown",
   "id": "9ec4b9b2",
   "metadata": {},
   "source": [
    "Why is character encoding so important in the context of regexes in Python? Here’s a quick example."
   ]
  },
  {
   "cell_type": "markdown",
   "id": "439dc3ac",
   "metadata": {},
   "source": [
    "You learned earlier that `\\d` specifies a single digit character. The description of the `\\d` metacharacter sequence states that it’s equivalent to the character class `[0-9]`. That happens to be true for English and Western European languages, but for most of the world’s languages, the characters `'0'` through `'9'` don’t represent all or even *any* of the digits."
   ]
  },
  {
   "cell_type": "markdown",
   "id": "3b1fdd63",
   "metadata": {},
   "source": [
    "For example, here’s a string that consists of three [Devanagari digit characters](https://en.wikipedia.org/wiki/Devanagari#Numerals):"
   ]
  },
  {
   "cell_type": "code",
   "execution_count": null,
   "id": "180af6ea",
   "metadata": {},
   "outputs": [],
   "source": [
    ">>>>>> s = '\\u0967\\u096a\\u096c'\n",
    ">>> s\n",
    "'१४६'"
   ]
  },
  {
   "cell_type": "markdown",
   "id": "194a801d",
   "metadata": {},
   "source": [
    "For the regex parser to properly account for the Devanagari script, the digit metacharacter sequence `\\d` must match each of these characters as well."
   ]
  },
  {
   "cell_type": "markdown",
   "id": "88e98037",
   "metadata": {},
   "source": [
    "The [Unicode Consortium](https://en.wikipedia.org/wiki/Unicode_Consortium) created Unicode to handle this problem. Unicode is a character-encoding standard designed to represent all the world’s writing systems. All strings in Python 3, including regexes, are Unicode by default."
   ]
  },
  {
   "cell_type": "markdown",
   "id": "e15b0974",
   "metadata": {},
   "source": [
    "So then, back to the flags listed above. These flags help to determine whether a character falls into a given class by specifying whether the encoding used is ASCII, Unicode, or the current locale:"
   ]
  },
  {
   "cell_type": "markdown",
   "id": "cb9f6023",
   "metadata": {},
   "source": [
    "- **`re.U`** and **`re.UNICODE`** specify Unicode encoding. Unicode is the default, so these flags are superfluous. They’re mainly supported for backward compatibility.\n",
    "- **`re.A`** and **`re.ASCII`** force a determination based on ASCII encoding. If you happen to be operating in English, then this is happening anyway, so the flag won’t affect whether or not a match is found.\n",
    "- **`re.L`** and **`re.LOCALE`** make the determination based on the current locale. Locale is an outdated concept and isn’t considered reliable. Except in rare circumstances, you’re not likely to need it.\n"
   ]
  },
  {
   "cell_type": "markdown",
   "id": "8d359962",
   "metadata": {},
   "source": [
    "Using the default Unicode encoding, the regex parser should be able to handle any language you throw at it. In the following example, it correctly recognizes each of the characters in the string `'१४६'` as a digit:"
   ]
  },
  {
   "cell_type": "code",
   "execution_count": null,
   "id": "2e6d9e4f",
   "metadata": {},
   "outputs": [],
   "source": [
    ">>>>>> s = '\\u0967\\u096a\\u096c'\n",
    ">>> s\n",
    "'१४६'\n",
    ">>> re.search('\\d+', s)\n",
    "<_sre.SRE_Match object; span=(0, 3), match='१४६'>"
   ]
  },
  {
   "cell_type": "markdown",
   "id": "37e5b283",
   "metadata": {},
   "source": [
    "Here’s another example that illustrates how character encoding can affect a regex match in Python. Consider this string:"
   ]
  },
  {
   "cell_type": "code",
   "execution_count": null,
   "id": "436386ba",
   "metadata": {},
   "outputs": [],
   "source": [
    ">>>>>> s = 'sch\\u00f6n'\n",
    ">>> s\n",
    "'schön'"
   ]
  },
  {
   "cell_type": "markdown",
   "id": "c2e1b4af",
   "metadata": {},
   "source": [
    "`'schön'` (the German word for *pretty* or *nice*) contains the `'ö'` character, which has the 16-bit hexadecimal Unicode value `00f6`. This character isn’t representable in traditional 7-bit ASCII."
   ]
  },
  {
   "cell_type": "markdown",
   "id": "2e1b1260",
   "metadata": {},
   "source": [
    "If you’re working in German, then you should reasonably expect the regex parser to consider all of the characters in `'schön'` to be word characters. But take a look at what happens if you search `s` for word characters using the `\\w` character class and force an ASCII encoding:"
   ]
  },
  {
   "cell_type": "code",
   "execution_count": null,
   "id": "f74daf15",
   "metadata": {},
   "outputs": [],
   "source": [
    ">>>>>> re.search('\\w+', s, re.ASCII)\n",
    "<_sre.SRE_Match object; span=(0, 3), match='sch'>"
   ]
  },
  {
   "cell_type": "markdown",
   "id": "a44fe57a",
   "metadata": {},
   "source": [
    "When you restrict the encoding to ASCII, the regex parser recognizes only the first three characters as word characters. The match stops at `'ö'`."
   ]
  },
  {
   "cell_type": "markdown",
   "id": "a6dd707e",
   "metadata": {},
   "source": [
    "On the other hand, if you specify `re.UNICODE` or allow the encoding to default to Unicode, then all the characters in `'schön'` qualify as word characters:"
   ]
  },
  {
   "cell_type": "code",
   "execution_count": null,
   "id": "a77ae906",
   "metadata": {},
   "outputs": [],
   "source": [
    ">>>>>> re.search('\\w+', s, re.UNICODE)\n",
    "<_sre.SRE_Match object; span=(0, 5), match='schön'>\n",
    ">>> re.search('\\w+', s)\n",
    "<_sre.SRE_Match object; span=(0, 5), match='schön'>"
   ]
  },
  {
   "cell_type": "markdown",
   "id": "97e5d336",
   "metadata": {},
   "source": [
    "The `ASCII` and `LOCALE` flags are available in case you need them for special circumstances. But in general, the best strategy is to use the default Unicode encoding. This should handle any world language correctly."
   ]
  },
  {
   "cell_type": "markdown",
   "id": "1d26f642",
   "metadata": {},
   "source": [
    "<a class=\"anchor\" id=\"combining_`<flags>`_arguments_in_a_function_call\"></a>\n",
    "\n",
    "### Combining `<flags>` Arguments in a Function Call"
   ]
  },
  {
   "cell_type": "markdown",
   "id": "d2eb95a7",
   "metadata": {},
   "source": [
    "Flag values are defined so that you can combine them using the [bitwise OR](https://realpython.com/python-operators-expressions/#bitwise-operators) (`|`) operator. This allows you to specify several flags in a single function call:"
   ]
  },
  {
   "cell_type": "code",
   "execution_count": null,
   "id": "178d26a9",
   "metadata": {},
   "outputs": [],
   "source": [
    ">>>>>> re.search('^bar', 'FOO\\nBAR\\nBAZ', re.I|re.M)\n",
    "<_sre.SRE_Match object; span=(4, 7), match='BAR'>"
   ]
  },
  {
   "cell_type": "markdown",
   "id": "bef5a170",
   "metadata": {},
   "source": [
    "This `re.search()` call uses bitwise OR to specify both the `IGNORECASE` and `MULTILINE` flags at once."
   ]
  },
  {
   "cell_type": "markdown",
   "id": "dbe521a0",
   "metadata": {},
   "source": [
    "<a class=\"anchor\" id=\"setting_and_clearing_flags_within_a_regular_expression\"></a>\n",
    "\n",
    "### Setting and Clearing Flags Within a Regular Expression"
   ]
  },
  {
   "cell_type": "markdown",
   "id": "f1e47d15",
   "metadata": {},
   "source": [
    "In addition to being able to pass a `<flags>` argument to most `re` module function calls, you can also modify flag values within a regex in Python. There are two regex metacharacter sequences that provide this capability."
   ]
  },
  {
   "cell_type": "markdown",
   "id": "ed851552",
   "metadata": {},
   "source": [
    "`(?<flags>)`"
   ]
  },
  {
   "cell_type": "markdown",
   "id": "fd860cdd",
   "metadata": {},
   "source": [
    "Within a regex, the metacharacter sequence `(?<flags>)` sets the specified flags for the entire expression."
   ]
  },
  {
   "cell_type": "markdown",
   "id": "0085759b",
   "metadata": {},
   "source": [
    "The value of `<flags>` is one or more letters from the set `a`, `i`, `L`, `m`, `s`, `u`, and `x`. Here’s how they correspond to the `re` module flags:"
   ]
  },
  {
   "cell_type": "markdown",
   "id": "95dc7845",
   "metadata": {},
   "source": [
    "|Letter|Flags|\n",
    "|:--|:--|\n",
    "|`a`|`re.A`     `re.ASCII`|\n",
    "|`i`|`re.I`     `re.IGNORECASE`|\n",
    "|`L`|`re.L`     `re.LOCALE`|\n",
    "|`m`|`re.M`     `re.MULTILINE`|\n",
    "|`s`|`re.S`     `re.DOTALL`|\n",
    "|`u`|`re.U`     `re.UNICODE`|\n",
    "|`x`|`re.X`     `re.VERBOSE`|\n"
   ]
  },
  {
   "cell_type": "markdown",
   "id": "a122957c",
   "metadata": {},
   "source": [
    "The `(?<flags>)` metacharacter sequence as a whole matches the empty string. It always matches successfully and doesn’t consume any of the search string."
   ]
  },
  {
   "cell_type": "markdown",
   "id": "7dcb8d6e",
   "metadata": {},
   "source": [
    "The following examples are equivalent ways of setting the `IGNORECASE` and `MULTILINE` flags:"
   ]
  },
  {
   "cell_type": "code",
   "execution_count": null,
   "id": "d673fd40",
   "metadata": {},
   "outputs": [],
   "source": [
    ">>>>>> re.search('^bar', 'FOO\\nBAR\\nBAZ\\n', re.I|re.M)\n",
    "<_sre.SRE_Match object; span=(4, 7), match='BAR'>\n",
    "\n",
    ">>> re.search('(?im)^bar', 'FOO\\nBAR\\nBAZ\\n')\n",
    "<_sre.SRE_Match object; span=(4, 7), match='BAR'>"
   ]
  },
  {
   "cell_type": "markdown",
   "id": "8dd0b9d0",
   "metadata": {},
   "source": [
    "Note that a `(?<flags>)` metacharacter sequence sets the given flag(s) for the entire regex no matter where you place it in the expression:"
   ]
  },
  {
   "cell_type": "code",
   "execution_count": null,
   "id": "be64f1c7",
   "metadata": {},
   "outputs": [],
   "source": [
    ">>>>>> re.search('foo.bar(?s).baz', 'foo\\nbar\\nbaz')\n",
    "<_sre.SRE_Match object; span=(0, 11), match='foo\\nbar\\nbaz'>\n",
    "\n",
    ">>> re.search('foo.bar.baz(?s)', 'foo\\nbar\\nbaz')\n",
    "<_sre.SRE_Match object; span=(0, 11), match='foo\\nbar\\nbaz'>"
   ]
  },
  {
   "cell_type": "markdown",
   "id": "87633f9a",
   "metadata": {},
   "source": [
    "In the above examples, both dot metacharacters match newlines because the `DOTALL` flag is in effect. This is true even when `(?s)` appears in the middle or at the end of the expression."
   ]
  },
  {
   "cell_type": "markdown",
   "id": "5aff2b16",
   "metadata": {},
   "source": [
    "As of Python 3.7, it’s deprecated to specify `(?<flags>)` anywhere in a regex other than at the beginning:"
   ]
  },
  {
   "cell_type": "code",
   "execution_count": null,
   "id": "7cfcec57",
   "metadata": {},
   "outputs": [],
   "source": [
    ">>>>>> import sys\n",
    ">>> sys.version\n",
    "'3.8.0 (default, Oct 14 2019, 21:29:03) \\n[GCC 7.4.0]'\n",
    "\n",
    ">>> re.search('foo.bar.baz(?s)', 'foo\\nbar\\nbaz')\n",
    "<stdin>:1: DeprecationWarning: Flags not at the start\n",
    "    of the expression 'foo.bar.baz(?s)'\n",
    "<re.Match object; span=(0, 11), match='foo\\nbar\\nbaz'>"
   ]
  },
  {
   "cell_type": "markdown",
   "id": "a01afa4e",
   "metadata": {},
   "source": [
    "It still produces the appropriate match, but you’ll get a warning message."
   ]
  },
  {
   "cell_type": "markdown",
   "id": "e42f0090",
   "metadata": {},
   "source": [
    "`(?<set_flags>-<remove_flags>:<regex>)`"
   ]
  },
  {
   "cell_type": "markdown",
   "id": "3f1d6408",
   "metadata": {},
   "source": [
    "`(?<set_flags>-<remove_flags>:<regex>)` defines a non-capturing group that matches against `<regex>`. For the `<regex>` contained in the group, the regex parser sets any flags specified in `<set_flags>` and clears any flags specified in `<remove_flags>`."
   ]
  },
  {
   "cell_type": "markdown",
   "id": "b7845596",
   "metadata": {},
   "source": [
    "Values for `<set_flags>` and `<remove_flags>` are most commonly `i`, `m`, `s` or `x`."
   ]
  },
  {
   "cell_type": "markdown",
   "id": "52ae2e0d",
   "metadata": {},
   "source": [
    "In the following example, the `IGNORECASE` flag is set for the specified group:"
   ]
  },
  {
   "cell_type": "code",
   "execution_count": null,
   "id": "f0c5515b",
   "metadata": {},
   "outputs": [],
   "source": [
    ">>>>>> re.search('(?i:foo)bar', 'FOObar')\n",
    "<re.Match object; span=(0, 6), match='FOObar'>"
   ]
  },
  {
   "cell_type": "markdown",
   "id": "0539845a",
   "metadata": {},
   "source": [
    "This produces a match because `(?i:foo)` dictates that the match against `'FOO'` is case insensitive."
   ]
  },
  {
   "cell_type": "markdown",
   "id": "6882a50e",
   "metadata": {},
   "source": [
    "Now contrast that with this example:"
   ]
  },
  {
   "cell_type": "code",
   "execution_count": null,
   "id": "1b3bed22",
   "metadata": {},
   "outputs": [],
   "source": [
    ">>>>>> print(re.search('(?i:foo)bar', 'FOOBAR'))\n",
    "None"
   ]
  },
  {
   "cell_type": "markdown",
   "id": "904b552c",
   "metadata": {},
   "source": [
    "As in the previous example, the match against `'FOO'` would succeed because it’s case insensitive. But once outside the group, `IGNORECASE` is no longer in effect, so the match against `'BAR'` is case sensitive and fails."
   ]
  },
  {
   "cell_type": "markdown",
   "id": "4f0cd99e",
   "metadata": {},
   "source": [
    "Here’s an example that demonstrates turning a flag off for a group:"
   ]
  },
  {
   "cell_type": "code",
   "execution_count": null,
   "id": "97f0c726",
   "metadata": {},
   "outputs": [],
   "source": [
    ">>>>>> print(re.search('(?-i:foo)bar', 'FOOBAR', re.IGNORECASE))\n",
    "None"
   ]
  },
  {
   "cell_type": "markdown",
   "id": "5b28f9fc",
   "metadata": {},
   "source": [
    "Again, there’s no match. Although `re.IGNORECASE` enables case-insensitive matching for the entire call, the metacharacter sequence `(?-i:foo)` turns off `IGNORECASE` for the duration of that group, so the match against `'FOO'` fails."
   ]
  },
  {
   "cell_type": "markdown",
   "id": "b7acf3d5",
   "metadata": {},
   "source": [
    "As of Python 3.7, you can specify `u`, `a`, or `L` as `<set_flags>` to override the default encoding for the specified group:"
   ]
  },
  {
   "cell_type": "code",
   "execution_count": null,
   "id": "f6c378a5",
   "metadata": {},
   "outputs": [],
   "source": [
    ">>>>>> s = 'sch\\u00f6n'\n",
    ">>> s\n",
    "'schön'\n",
    "\n",
    ">>> # Requires Python 3.7 or later\n",
    ">>> re.search('(?a:\\w+)', s)\n",
    "<re.Match object; span=(0, 3), match='sch'>\n",
    ">>> re.search('(?u:\\w+)', s)\n",
    "<re.Match object; span=(0, 5), match='schön'>"
   ]
  },
  {
   "cell_type": "markdown",
   "id": "5c147a2f",
   "metadata": {},
   "source": [
    "You can only set encoding this way, though. You can’t remove it:"
   ]
  },
  {
   "cell_type": "code",
   "execution_count": null,
   "id": "0556cf1c",
   "metadata": {},
   "outputs": [],
   "source": [
    ">>>>>> re.search('(?-a:\\w+)', s)\n",
    "Traceback (most recent call last):\n",
    "  File \"<stdin>\", line 1, in <module>\n",
    "  File \"/usr/lib/python3.8/re.py\", line 199, in search\n",
    "    return _compile(pattern, flags).search(string)\n",
    "  File \"/usr/lib/python3.8/re.py\", line 302, in _compile\n",
    "    p = sre_compile.compile(pattern, flags)\n",
    "  File \"/usr/lib/python3.8/sre_compile.py\", line 764, in compile\n",
    "    p = sre_parse.parse(p, flags)\n",
    "  File \"/usr/lib/python3.8/sre_parse.py\", line 948, in parse\n",
    "    p = _parse_sub(source, state, flags & SRE_FLAG_VERBOSE, 0)\n",
    "  File \"/usr/lib/python3.8/sre_parse.py\", line 443, in _parse_sub\n",
    "    itemsappend(_parse(source, state, verbose, nested + 1,\n",
    "  File \"/usr/lib/python3.8/sre_parse.py\", line 805, in _parse\n",
    "    flags = _parse_flags(source, state, char)\n",
    "  File \"/usr/lib/python3.8/sre_parse.py\", line 904, in _parse_flags\n",
    "    raise source.error(msg)\n",
    "re.error: bad inline flags: cannot turn off flags 'a', 'u' and 'L' at\n",
    "position 4"
   ]
  },
  {
   "cell_type": "markdown",
   "id": "cf8a53d1",
   "metadata": {},
   "source": [
    "`u`, `a`, and `L` are mutually exclusive. Only one of them may appear per group."
   ]
  },
  {
   "attachments": {},
   "cell_type": "markdown",
   "id": "a352ba42",
   "metadata": {},
   "source": [
    "<a class=\"anchor\" id=\"conclusion\"></a>\n",
    "\n",
    "## <img src=\"../../images/logos/checkmark.png\" width=\"20\"/> Conclusion"
   ]
  },
  {
   "cell_type": "markdown",
   "id": "c22166df",
   "metadata": {},
   "source": [
    "This concludes your introduction to regular expression matching and Python’s `re` module. Congratulations! You’ve mastered a tremendous amount of material. "
   ]
  },
  {
   "cell_type": "markdown",
   "id": "839eafc8",
   "metadata": {},
   "source": [
    "**You now know how to:**"
   ]
  },
  {
   "cell_type": "markdown",
   "id": "ac00ffab",
   "metadata": {},
   "source": [
    "- Use **`re.search()`** to perform regex matching in Python\n",
    "- Create complex pattern matching searches with regex **metacharacters**\n",
    "- Tweak regex parsing behavior with **flags**\n"
   ]
  },
  {
   "cell_type": "markdown",
   "id": "b80989f6",
   "metadata": {},
   "source": [
    "But you’ve still seen only one function in the module: `re.search()`! The `re` module has many more useful functions and objects to add to your pattern-matching toolkit. The next tutorial in the series will introduce you to what else the regex module in Python has to offer."
   ]
  }
 ],
 "metadata": {
  "kernelspec": {
   "display_name": "Python 3",
   "language": "python",
   "name": "python3"
  },
  "language_info": {
   "codemirror_mode": {
    "name": "ipython",
    "version": 3
   },
   "file_extension": ".py",
   "mimetype": "text/x-python",
   "name": "python",
   "nbconvert_exporter": "python",
   "pygments_lexer": "ipython3",
   "version": "3.8.2 (default, Mar 13 2020, 10:14:16) \n[GCC 9.3.0]"
  },
  "vscode": {
   "interpreter": {
    "hash": "916dbcbb3f70747c44a77c7bcd40155683ae19c65e1c03b4aa3499c5328201f1"
   }
  }
 },
 "nbformat": 4,
 "nbformat_minor": 5
}
