{
 "cells": [
  {
   "cell_type": "markdown",
   "id": "824cca27",
   "metadata": {},
   "source": [
    "<img src=\"../../images/banners/python-modules.png\" width=\"600\"/>"
   ]
  },
  {
   "cell_type": "markdown",
   "id": "fc93a19c",
   "metadata": {},
   "source": [
    "# <img src=\"../../images/logos/python.png\" width=\"23\"/> How to Build Command Line Interfaces in Python With argparse \n"
   ]
  },
  {
   "cell_type": "markdown",
   "id": "20219de3",
   "metadata": {},
   "source": [
    "## <img src=\"../../images/logos/toc.png\" width=\"20\"/> Table of Contents \n",
    "* [What Is a Command Line Interface?](#what_is_a_command_line_interface?)\n",
    "* [When to Use a Command Line Interface](#when_to_use_a_command_line_interface)\n",
    "* [How to Use the Python `argparse` Library to Create a Command Line Interface](#how_to_use_the_python_`argparse`_library_to_create_a_command_line_interface)\n",
    "* [The Advanced Use of the Python `argparse` Library](#the_advanced_use_of_the_python_`argparse`_library)\n",
    "    * [Setting the Name of the Program](#setting_the_name_of_the_program)\n",
    "    * [Displaying a Custom Program Usage Help](#displaying_a_custom_program_usage_help)\n",
    "    * [Displaying Text Before and After the Arguments Help](#displaying_text_before_and_after_the_arguments_help)\n",
    "    * [Customizing the Allowed Prefix Chars](#customizing_the_allowed_prefix_chars)\n",
    "    * [Setting Prefix Chars for Files That Contain Arguments to Be Included](#setting_prefix_chars_for_files_that_contain_arguments_to_be_included)\n",
    "    * [Allowing or Disallowing Abbreviations](#allowing_or_disallowing_abbreviations)\n",
    "    * [Using Auto Help](#using_auto_help)\n",
    "    * [Setting the Name or Flags of the Arguments](#setting_the_name_or_flags_of_the_arguments)\n",
    "    * [Setting the Action to Be Taken for an Argument](#setting_the_action_to_be_taken_for_an_argument)\n",
    "    * [Setting the Number of Values That Should Be Consumed by the Option](#setting_the_number_of_values_that_should_be_consumed_by_the_option)\n",
    "    * [Setting a Default Value Produced if the Argument Is Missing](#setting_a_default_value_produced_if_the_argument_is_missing)\n",
    "    * [Setting the Type of the Argument](#setting_the_type_of_the_argument)\n",
    "    * [Setting a Domain of Allowed Values for a Specific Argument](#setting_a_domain_of_allowed_values_for_a_specific_argument)\n",
    "    * [Setting Whether the Argument Is Required](#setting_whether_the_argument_is_required)\n",
    "    * [Showing a Brief Description of What an Argument Does](#showing_a_brief_description_of_what_an_argument_does)\n",
    "    * [Defining Mutually Exclusive Groups](#defining_mutually_exclusive_groups)\n",
    "    * [Setting the Argument Name in Usage Messages](#setting_the_argument_name_in_usage_messages)\n",
    "    * [Setting the Name of the Attribute to Be Added to the Object Once Parsed](#setting_the_name_of_the_attribute_to_be_added_to_the_object_once_parsed)\n",
    "* [Conclusion](#conclusion)\n",
    "\n",
    "---"
   ]
  },
  {
   "cell_type": "markdown",
   "id": "4bc03032",
   "metadata": {},
   "source": [
    "One of the strengths of Python is that it comes with batteries included: it has a rich and versatile standard library that makes it one of the best programming languages for writing scripts for the [command line](https://realpython.com/comparing-python-command-line-parsing-libraries-argparse-docopt-click/).\n",
    "But, if you write [scripts](https://realpython.com/run-python-scripts/) for the command line, then you also need to provide a good command line interface, which you can create with the Python `argparse` library."
   ]
  },
  {
   "cell_type": "markdown",
   "id": "52425666",
   "metadata": {},
   "source": [
    "**In this article, you’ll learn:**"
   ]
  },
  {
   "cell_type": "markdown",
   "id": "4975e2e9",
   "metadata": {},
   "source": [
    "- What the Python `argparse` library is, and why it’s important to use it if you need to write command line scripts in Python\n",
    "- How to use the Python `argparse` library to quickly create a simple CLI in Python\n",
    "- What the advanced usage of the Python `argparse` library is\n"
   ]
  },
  {
   "cell_type": "markdown",
   "id": "55abdec1",
   "metadata": {},
   "source": [
    "This article is written for early [intermediate](https://realpython.com/intermediate-python-project-ideas/) Pythonistas who probably write scripts in Python for their everyday work but have never implemented a command line interface for their scripts. "
   ]
  },
  {
   "cell_type": "markdown",
   "id": "934f022a",
   "metadata": {},
   "source": [
    "If that sounds like you, and you’re used to setting [variable](https://realpython.com/python-variables/) values at the beginning of your scripts or manually parsing the `sys.argv` system list instead of using a more robust CLI development tool, then this article is for you."
   ]
  },
  {
   "cell_type": "markdown",
   "id": "1d4f0c70",
   "metadata": {},
   "source": [
    "<a class=\"anchor\" id=\"what_is_a_command_line_interface?\"></a>\n",
    "\n",
    "## What Is a Command Line Interface?"
   ]
  },
  {
   "cell_type": "markdown",
   "id": "5a89825b",
   "metadata": {},
   "source": [
    "The command line interface (also known as **CLI**) is a means to interact with a command line script. Python comes with several different libraries that allow you to write a command line interface for your scripts, but the standard way for creating a CLI in Python is currently the Python `argparse` library."
   ]
  },
  {
   "cell_type": "markdown",
   "id": "53c00b00",
   "metadata": {},
   "source": [
    "The [Python `argparse` library](https://docs.python.org/3/library/argparse.html) was released as part of the standard library with Python 3.2 on February the 20th, 2011. It was introduced with [Python Enhancement Proposal 389](https://www.python.org/dev/peps/pep-0389/) and is now the standard way to create a CLI in Python, both in 2.7 and 3.2+ versions."
   ]
  },
  {
   "cell_type": "markdown",
   "id": "68c73740",
   "metadata": {},
   "source": [
    "This new module was released as a replacement for the older [`getopt`](https://docs.python.org/3/library/getopt.html) and [`optparse`](https://docs.python.org/3/library/optparse.html) modules because they were lacking some important features."
   ]
  },
  {
   "cell_type": "markdown",
   "id": "35cecf85",
   "metadata": {},
   "source": [
    "The Python `argparse` library:"
   ]
  },
  {
   "cell_type": "markdown",
   "id": "4898543f",
   "metadata": {},
   "source": [
    "- Allows the use of positional arguments\n",
    "- Allows the customization of the prefix chars\n",
    "- Supports variable numbers of parameters for a single option\n",
    "- Supports subcommands (A main command line parser can use other command line parsers depending on some arguments.)\n"
   ]
  },
  {
   "cell_type": "markdown",
   "id": "d26265ab",
   "metadata": {},
   "source": [
    "Before getting started, you need to know how a command line interface works, so open a terminal on your computer and execute the command `ls` to get the list of the files contained in the current directory like this:"
   ]
  },
  {
   "cell_type": "markdown",
   "id": "d45b0e7c",
   "metadata": {},
   "source": [
    "```sh\n",
    "$ ls\n",
    "dcdb_20180201.sg4    mastro35.sg4        openings.sg4\n",
    "dcdb_20180201.si4    mastro35.si4        openings.si4\n",
    "dcdb_20180201.sn4    mastro35.sn4        openings.sn4\n",
    "```"
   ]
  },
  {
   "cell_type": "markdown",
   "id": "981b899a",
   "metadata": {},
   "source": [
    "As you can see, there are a bunch of files in the current directory, but the command didn’t return a lot of information about these files."
   ]
  },
  {
   "cell_type": "markdown",
   "id": "2beda876",
   "metadata": {},
   "source": [
    "The good news is that you don’t need to look around for another program to have a richer list of the files contained in the current directory. You also don’t need to modify the `ls` command yourself, because it adopts a command line interface, that is just a set of tokens (called **arguments**) that you can use to configure the behavior of this command."
   ]
  },
  {
   "cell_type": "markdown",
   "id": "3b57787e",
   "metadata": {},
   "source": [
    "Now try to execute the command `ls` again, but with adding the `-l` option to the command line as in the example below:"
   ]
  },
  {
   "cell_type": "markdown",
   "id": "70c11df6",
   "metadata": {},
   "source": [
    "```sh\n",
    "$ ls -l\n",
    "total 641824\n",
    "-rw-------  1 dave  staff  204558286  5 Mar  2018 dcdb_20180201.sg4\n",
    "-rw-------  1 dave  staff  110588409  5 Mar  2018 dcdb_20180201.si4\n",
    "-rw-------  1 dave  staff    2937516  5 Mar  2018 dcdb_20180201.sn4\n",
    "-rw-------  1 dave  staff     550127 27 Mar  2018 mastro35.sg4\n",
    "-rw-------  1 dave  staff      15974 11 Gen 17:01 mastro35.si4\n",
    "-rw-------  1 dave  staff       3636 27 Mar  2018 mastro35.sn4\n",
    "-rw-------  1 dave  staff      29128 17 Apr  2018 openings.sg4\n",
    "-rw-------  1 dave  staff        276 17 Apr  2018 openings.si4\n",
    "-rw-------  1 dave  staff         86 18 Apr  2018 openings.sn4\n",
    "```"
   ]
  },
  {
   "cell_type": "markdown",
   "id": "f90c92f2",
   "metadata": {},
   "source": [
    "The output is very different now. The command has returned a lot of information about the permissions, owner, group, and size of each file and the total directory occupation on the disk."
   ]
  },
  {
   "cell_type": "markdown",
   "id": "613debb6",
   "metadata": {},
   "source": [
    "This is because you used the command line interface of the `ls` command and specified the `-l` option that enables the long format, a special format that returns a lot more information for every single file listed."
   ]
  },
  {
   "cell_type": "markdown",
   "id": "a73f5627",
   "metadata": {},
   "source": [
    "In order to familiarize yourself with this topic, you’re going to read a lot about arguments, options, and parameters, so let’s clarify the terminology right away:"
   ]
  },
  {
   "cell_type": "markdown",
   "id": "4003b6f4",
   "metadata": {},
   "source": [
    "- An **argument** is a single part of a command line, delimited by blanks.\n",
    "- An **option** is a particular type of argument (or a part of an argument) that can modify the behavior of the command line.\n",
    "- A **parameter** is a particular type of argument that provides additional information to a single option or command.\n"
   ]
  },
  {
   "cell_type": "markdown",
   "id": "d901c1f6",
   "metadata": {},
   "source": [
    "Consider the following command:"
   ]
  },
  {
   "cell_type": "markdown",
   "id": "658e6d71",
   "metadata": {},
   "source": [
    "```sh\n",
    "$ ls -l -s -k /var/log\n",
    "```"
   ]
  },
  {
   "cell_type": "markdown",
   "id": "4651690e",
   "metadata": {},
   "source": [
    "In this example, you have five different arguments:"
   ]
  },
  {
   "cell_type": "markdown",
   "id": "c98877b0",
   "metadata": {},
   "source": [
    "1. **`ls`:** the name of the command you are executing\n",
    "2. **`-l`:** an option to enable the long list format\n",
    "3. **`-s`:** an option to print the allocated size of each file\n",
    "4. **`-k`:** an option to have the size in kilobytes\n",
    "5. **`/var/log`:** a parameter that provides additional information (the path to list) to the command\n"
   ]
  },
  {
   "cell_type": "markdown",
   "id": "7f91e8f2",
   "metadata": {},
   "source": [
    "Note that, if you have multiple options in a single command line, then you can combine them into a single argument like this:"
   ]
  },
  {
   "cell_type": "markdown",
   "id": "acde3bd3",
   "metadata": {},
   "source": [
    "```sh\n",
    "$ ls -lsk /var/log\n",
    "```"
   ]
  },
  {
   "cell_type": "markdown",
   "id": "22815849",
   "metadata": {},
   "source": [
    "Here you have only three arguments:"
   ]
  },
  {
   "cell_type": "markdown",
   "id": "6ce4c35a",
   "metadata": {},
   "source": [
    "1. **`ls` :** the name of the command you are executing\n",
    "2. **`-lsk`:** the three different options you want to enable (a combination of `-l`, `-s`, and `-k`)\n",
    "3. **`/var/log`:** a parameter that provides additional information (the path to list) to the command\n"
   ]
  },
  {
   "cell_type": "markdown",
   "id": "8f9c1bb9",
   "metadata": {},
   "source": [
    "<a class=\"anchor\" id=\"when_to_use_a_command_line_interface\"></a>\n",
    "\n",
    "## When to Use a Command Line Interface"
   ]
  },
  {
   "cell_type": "markdown",
   "id": "87da7eb5",
   "metadata": {},
   "source": [
    "Now that you know what a command line interface is, you may be wondering when it’s a good idea to implement one in your programs. The rule of thumb is that, if you want to provide a user-friendly approach to configuring your program, then you should consider a command line interface, and the standard way to do it is by using the Python `argparse` library."
   ]
  },
  {
   "cell_type": "markdown",
   "id": "c4f0bd1a",
   "metadata": {},
   "source": [
    "Even if you’re creating a complex command line program that needs a configuration file to work, if you want to let your user specify which configuration file to use, it’s a good idea to accept this value by creating a command line interface with the Python `argparse` library."
   ]
  },
  {
   "cell_type": "markdown",
   "id": "c9220e25",
   "metadata": {},
   "source": [
    "<a class=\"anchor\" id=\"how_to_use_the_python_`argparse`_library_to_create_a_command_line_interface\"></a>\n",
    "\n",
    "## How to Use the Python `argparse` Library to Create a Command Line Interface"
   ]
  },
  {
   "cell_type": "markdown",
   "id": "99f191c7",
   "metadata": {},
   "source": [
    "Using the Python `argparse` library has four steps:"
   ]
  },
  {
   "cell_type": "markdown",
   "id": "b79f03e8",
   "metadata": {},
   "source": [
    "1. Import the Python `argparse` library\n",
    "2. Create the parser\n",
    "3. Add optional and positional arguments to the parser\n",
    "4. Execute `.parse_args()`\n"
   ]
  },
  {
   "cell_type": "markdown",
   "id": "ecb95f72",
   "metadata": {},
   "source": [
    "After you execute `.parse_args()`, what you get is a [`Namespace` object](https://docs.python.org/dev/library/argparse.html#argparse.Namespace) that contains a simple property for each input argument received from the command line."
   ]
  },
  {
   "cell_type": "markdown",
   "id": "27ef8c03",
   "metadata": {},
   "source": [
    "In order to see these four steps in detail with an example, let’s pretend you’re creating a program named `myls.py` that lists the files contained in the current directory.\n",
    "Here’s a possible implementation of your command line interface without using the Python `argparse` library:"
   ]
  },
  {
   "cell_type": "code",
   "execution_count": null,
   "id": "1cdcfdc4",
   "metadata": {},
   "outputs": [],
   "source": [
    "# myls.py\n",
    "import os\n",
    "import sys\n",
    "\n",
    "if len(sys.argv) > 2:\n",
    "    print('You have specified too many arguments')\n",
    "    sys.exit()\n",
    "\n",
    "if len(sys.argv) < 2:\n",
    "    print('You need to specify the path to be listed')\n",
    "    sys.exit()\n",
    "\n",
    "input_path = sys.argv[1]\n",
    "\n",
    "if not os.path.isdir(input_path):\n",
    "    print('The path specified does not exist')\n",
    "    sys.exit()\n",
    "\n",
    "print('\\n'.join(os.listdir(input_path)))"
   ]
  },
  {
   "cell_type": "markdown",
   "id": "2fb53f1a",
   "metadata": {},
   "source": [
    "This is a possible implementation of the command line interface for your program that doesn’t use the Python `argparse` library, but if you try to execute it, then you’ll see that it works:"
   ]
  },
  {
   "cell_type": "markdown",
   "id": "05acb06a",
   "metadata": {},
   "source": [
    "```sh\n",
    "$ python myls.py\n",
    "You need to specify the path to be listed\n",
    "\n",
    "$ python myls.py /mnt /proc /dev\n",
    "You have specified too many arguments\n",
    "\n",
    "$ python myls.py /mnt\n",
    "dir1\n",
    "dir2\n",
    "```"
   ]
  },
  {
   "cell_type": "markdown",
   "id": "5720ab64",
   "metadata": {},
   "source": [
    "As you can see, the script does work, but the output is quite different from the output you’d expect from a standard built-in command."
   ]
  },
  {
   "cell_type": "markdown",
   "id": "4a6159a6",
   "metadata": {},
   "source": [
    "Now, let’s see how the Python `argparse` library can improve this code:"
   ]
  },
  {
   "cell_type": "code",
   "execution_count": null,
   "id": "303c979d",
   "metadata": {},
   "outputs": [],
   "source": [
    "# myls.py\n",
    "# Import the argparse library\n",
    "import argparse\n",
    "\n",
    "import os\n",
    "import sys\n",
    "\n",
    "# Create the parser\n",
    "my_parser = argparse.ArgumentParser(description='List the content of a folder')\n",
    "\n",
    "# Add the arguments\n",
    "my_parser.add_argument(\n",
    "    'Path',\n",
    "    metavar='path',\n",
    "    type=str,\n",
    "    help='the path to list'\n",
    ")\n",
    "\n",
    "# Execute the parse_args() method\n",
    "args = my_parser.parse_args()\n",
    "\n",
    "input_path = args.Path\n",
    "\n",
    "if not os.path.isdir(input_path):\n",
    "    print('The path specified does not exist')\n",
    "    sys.exit()\n",
    "\n",
    "print('\\n'.join(os.listdir(input_path)))"
   ]
  },
  {
   "cell_type": "markdown",
   "id": "a927d16d",
   "metadata": {},
   "source": [
    "The code has changed a lot with the introduction of the Python `argparse` library."
   ]
  },
  {
   "cell_type": "markdown",
   "id": "5fdada7f",
   "metadata": {},
   "source": [
    "The first big difference compared to the previous version is that the `if` statements to check the arguments provided by the user are gone because the library will check the presence of the arguments for us."
   ]
  },
  {
   "cell_type": "markdown",
   "id": "338f8598",
   "metadata": {},
   "source": [
    "We’ve imported the Python `argparse` library, created a simple parser with a brief description of the program’s goal, and defined the positional argument we want to get from the user.\n",
    "Lastly, we have executed `.parse_args()` to parse the input arguments and get a `Namespace` object that contains the user input."
   ]
  },
  {
   "cell_type": "markdown",
   "id": "cd01fe35",
   "metadata": {},
   "source": [
    "Now, if you run this code, you’ll see that with just four lines of code. You have a very different output:"
   ]
  },
  {
   "cell_type": "markdown",
   "id": "27d66d9b",
   "metadata": {},
   "source": [
    "```sh\n",
    "$ python myls.py\n",
    "usage: myls.py [-h] path\n",
    "myls.py: error: the following arguments are required: path\n",
    "```"
   ]
  },
  {
   "cell_type": "markdown",
   "id": "8cf94cd6",
   "metadata": {},
   "source": [
    "As you can see, the program has detected that you needed at least a positional argument (`path`), and so the execution of the program has been interrupted with a specific error message."
   ]
  },
  {
   "cell_type": "markdown",
   "id": "6fb68578",
   "metadata": {},
   "source": [
    "You may also have noticed that now your program accepts an optional `-h` flag, like in the example below:"
   ]
  },
  {
   "cell_type": "markdown",
   "id": "76c674e4",
   "metadata": {},
   "source": [
    "```sh\n",
    "$ python myls.py -h\n",
    "usage: myls.py [-h] path\n",
    "\n",
    "List the content of a folder\n",
    "\n",
    "positional arguments:\n",
    "path        the path to list\n",
    "\n",
    "optional arguments:\n",
    "-h, --help  show this help message and exit\n",
    "```"
   ]
  },
  {
   "cell_type": "markdown",
   "id": "48b7e523",
   "metadata": {},
   "source": [
    "Good, now the program responds to the `-h` flag, displaying a help message that tells the user how to use the program. Isn’t that neat, considering that you didn’t even need to ask for that feature?"
   ]
  },
  {
   "cell_type": "markdown",
   "id": "ca83a187",
   "metadata": {},
   "source": [
    "Lastly, with just four lines of code, now the `args` variable is a `Namespace` object, which has a property for each argument that has been gathered from the command line. That’s super convenient."
   ]
  },
  {
   "cell_type": "markdown",
   "id": "35eee187",
   "metadata": {},
   "source": [
    "<a class=\"anchor\" id=\"the_advanced_use_of_the_python_`argparse`_library\"></a>\n",
    "\n",
    "## The Advanced Use of the Python `argparse` Library"
   ]
  },
  {
   "cell_type": "markdown",
   "id": "ca1caa6e",
   "metadata": {},
   "source": [
    "In the previous section, you learned the basic usage of the Python `argparse` library, and now you can implement a simple command line interfaces for all your programs. However, there’s a lot more that you can achieve with this library. In this section, you’ll see almost everything this library can offer you."
   ]
  },
  {
   "cell_type": "markdown",
   "id": "0437b3ac",
   "metadata": {},
   "source": [
    "<a class=\"anchor\" id=\"setting_the_name_of_the_program\"></a>\n",
    "\n",
    "### Setting the Name of the Program"
   ]
  },
  {
   "cell_type": "markdown",
   "id": "904e408e",
   "metadata": {},
   "source": [
    "By default, the library uses the value of the `sys.argv[0]` element to set the name of the program, which as you probably already know is the name of the Python script you have executed. However, you can specify the name of your program just by using the `prog` keyword:"
   ]
  },
  {
   "cell_type": "code",
   "execution_count": null,
   "id": "eb80fec6",
   "metadata": {},
   "outputs": [],
   "source": [
    "# Create the parser\n",
    "my_parser = argparse.ArgumentParser(\n",
    "    prog='myls',\n",
    "    description='List the content of a folder'\n",
    ")"
   ]
  },
  {
   "cell_type": "markdown",
   "id": "78634ea2",
   "metadata": {},
   "source": [
    "With the `prog` keyword, you specify the name of the program that will be used in the help text: "
   ]
  },
  {
   "cell_type": "markdown",
   "id": "2ac0b788",
   "metadata": {},
   "source": [
    "```sh\n",
    "$ python myls.py\n",
    "usage: myls [-h] path\n",
    "myls.py: error: the following arguments are required: path\n",
    "```"
   ]
  },
  {
   "cell_type": "markdown",
   "id": "5f8169e6",
   "metadata": {},
   "source": [
    "As you can see, now the program name is just `myls` instead of `myls.py`."
   ]
  },
  {
   "cell_type": "markdown",
   "id": "ed8a4e33",
   "metadata": {},
   "source": [
    "<a class=\"anchor\" id=\"displaying_a_custom_program_usage_help\"></a>\n",
    "\n",
    "### Displaying a Custom Program Usage Help"
   ]
  },
  {
   "cell_type": "markdown",
   "id": "dd032225",
   "metadata": {},
   "source": [
    "By default, the program usage help has a standard format defined by the Python `argparse` library.\n",
    "However, you can customize it with the `usage` keyword like this:"
   ]
  },
  {
   "cell_type": "code",
   "execution_count": null,
   "id": "e2b3030c",
   "metadata": {},
   "outputs": [],
   "source": [
    "# Create the parser\n",
    "my_parser = argparse.ArgumentParser(\n",
    "    prog='myls',                                \n",
    "    usage='%(prog)s [options] path',                                \n",
    "    description='List the content of a folder'\n",
    ")"
   ]
  },
  {
   "cell_type": "markdown",
   "id": "a707d3b6",
   "metadata": {},
   "source": [
    "Note that, at runtime, the `%(prog)s` token is automatically replaced with the name of your program:"
   ]
  },
  {
   "cell_type": "markdown",
   "id": "a85068ff",
   "metadata": {},
   "source": [
    "```sh\n",
    "$ python myls.py\n",
    "usage: myls [options] path\n",
    "myls: error: too few arguments\n",
    "```"
   ]
  },
  {
   "cell_type": "markdown",
   "id": "3365fb89",
   "metadata": {},
   "source": [
    "As you can see, the help of the program now shows a different usage string, where the `[-h]` option has been replaced by a generic `[options]` token."
   ]
  },
  {
   "cell_type": "markdown",
   "id": "76d72e3f",
   "metadata": {},
   "source": [
    "<a class=\"anchor\" id=\"displaying_text_before_and_after_the_arguments_help\"></a>\n",
    "\n",
    "### Displaying Text Before and After the Arguments Help"
   ]
  },
  {
   "cell_type": "markdown",
   "id": "5b0a7870",
   "metadata": {},
   "source": [
    "To customize the text displayed before and after the arguments help text, you can use two different keywords:"
   ]
  },
  {
   "cell_type": "markdown",
   "id": "39f149dd",
   "metadata": {},
   "source": [
    "1. **`description`:** for the text that is shown before the help text\n",
    "2. **`epilog`:** for the text shown after the help text\n"
   ]
  },
  {
   "cell_type": "markdown",
   "id": "851d6754",
   "metadata": {},
   "source": [
    "You’ve already seen the `description` keyword in the previous chapter, so let’s see an example of how the `epilog` keyword works:"
   ]
  },
  {
   "cell_type": "code",
   "execution_count": null,
   "id": "df3893c8",
   "metadata": {},
   "outputs": [],
   "source": [
    "# Create the parser\n",
    "my_parser = argparse.ArgumentParser(\n",
    "    description='List the content of a folder',\n",
    "    epilog='Enjoy the program! :)'\n",
    ")"
   ]
  },
  {
   "cell_type": "markdown",
   "id": "37fdc377",
   "metadata": {},
   "source": [
    "The `epilog` keyword here has customized the text that will be shown after the standard help text:"
   ]
  },
  {
   "cell_type": "markdown",
   "id": "e0298866",
   "metadata": {},
   "source": [
    "```sh\n",
    "$ python myls.py -h\n",
    "usage: myls.py [-h] path\n",
    "\n",
    "List the content of a folder\n",
    "\n",
    "positional arguments:\n",
    "path        the path to list\n",
    "\n",
    "optional arguments:\n",
    "-h, --help  show this help message and exit\n",
    "\n",
    "Enjoy the program! :)\n",
    "```"
   ]
  },
  {
   "cell_type": "markdown",
   "id": "b9c2c8bd",
   "metadata": {},
   "source": [
    "Now the output shows the extra text that has been customized by the `epilog` keyword."
   ]
  },
  {
   "cell_type": "markdown",
   "id": "5c5083b0",
   "metadata": {},
   "source": [
    "<a class=\"anchor\" id=\"customizing_the_allowed_prefix_chars\"></a>\n",
    "\n",
    "### Customizing the Allowed Prefix Chars"
   ]
  },
  {
   "cell_type": "markdown",
   "id": "41916df5",
   "metadata": {},
   "source": [
    "Another feature that the Python `argparse` library offers you is the ability to customize the **prefix chars**, which are the chars that you can use to pass optional arguments to the command line interface."
   ]
  },
  {
   "cell_type": "markdown",
   "id": "67c1c756",
   "metadata": {},
   "source": [
    "By default, the standard prefix char is the dash (`-`) character, but if you want to use a different character, then you can customize it by using the `prefix_chars` keyword while defining the parser like this:"
   ]
  },
  {
   "cell_type": "code",
   "execution_count": null,
   "id": "3b0c5e17",
   "metadata": {},
   "outputs": [],
   "source": [
    "# Create the parser\n",
    "my_parser = argparse.ArgumentParser(\n",
    "    description='List the content of a folder',\n",
    "    epilog='Enjoy the program! :)',\n",
    "    prefix_chars='/'\n",
    ")"
   ]
  },
  {
   "cell_type": "markdown",
   "id": "63f8296b",
   "metadata": {},
   "source": [
    "After the redefinition, the program now supports a completely different prefix char, and the help text has changed accordingly:"
   ]
  },
  {
   "cell_type": "markdown",
   "id": "2ba14195",
   "metadata": {},
   "source": [
    "```sh\n",
    "$ python myls.py\n",
    "usage: myls.py [/h] path\n",
    "myls.py: error: too few arguments\n",
    "```"
   ]
  },
  {
   "cell_type": "markdown",
   "id": "c2e697aa",
   "metadata": {},
   "source": [
    "As you can see, now your program does not support the `-h` flag but the `/h` flag. That’s especially useful when you’re coding for Microsoft Windows because Windows users are used to these prefix chars when working with the command line."
   ]
  },
  {
   "cell_type": "markdown",
   "id": "ea1555ed",
   "metadata": {},
   "source": [
    "<a class=\"anchor\" id=\"setting_prefix_chars_for_files_that_contain_arguments_to_be_included\"></a>\n",
    "\n",
    "### Setting Prefix Chars for Files That Contain Arguments to Be Included"
   ]
  },
  {
   "cell_type": "markdown",
   "id": "ee22bb54",
   "metadata": {},
   "source": [
    "When you are dealing with a very long or complicated command line, it can be a good idea to save the arguments to an external file and ask your program to load arguments from it. The Python `argparse` library can do this work for you out of the box."
   ]
  },
  {
   "cell_type": "markdown",
   "id": "de3ac495",
   "metadata": {},
   "source": [
    "To test this feature, create the following Python program:"
   ]
  },
  {
   "cell_type": "code",
   "execution_count": null,
   "id": "d388d937",
   "metadata": {},
   "outputs": [],
   "source": [
    "# fromfile_example.py\n",
    "import argparse\n",
    "\n",
    "my_parser = argparse.ArgumentParser(fromfile_prefix_chars='@')\n",
    "\n",
    "my_parser.add_argument('a', help='a first argument')\n",
    "my_parser.add_argument('b', help='a second argument')\n",
    "my_parser.add_argument('c', help='a third argument')\n",
    "my_parser.add_argument('d', help='a fourth argument')\n",
    "my_parser.add_argument('e', help='a fifth argument')\n",
    "my_parser.add_argument('-v', '--verbose', action='store_true', help='an optional argument')\n",
    "\n",
    "# Execute parse_args()\n",
    "args = my_parser.parse_args()\n",
    "\n",
    "print('If you read this line it means that you have provided all the parameters')"
   ]
  },
  {
   "cell_type": "markdown",
   "id": "84149ffb",
   "metadata": {},
   "source": [
    "Note that we have used the `fromfile_prefix_chars` keyword while creating the parser."
   ]
  },
  {
   "cell_type": "markdown",
   "id": "22441c16",
   "metadata": {},
   "source": [
    "Now, if you try to execute your program without passing any arguments, then you’ll get an error message:"
   ]
  },
  {
   "cell_type": "markdown",
   "id": "08c781fd",
   "metadata": {},
   "source": [
    "```sh\n",
    "$ python fromfile_example.py\n",
    "usage: fromfile_example.py [-h] [-v] a b c d e\n",
    "fromfile_example.py: error: the following arguments are required: a, b, c, d, e\n",
    "```"
   ]
  },
  {
   "cell_type": "markdown",
   "id": "cbdc1125",
   "metadata": {},
   "source": [
    "Here you can see that the Python `argparse` library is complaining because you have not provided enough arguments."
   ]
  },
  {
   "cell_type": "markdown",
   "id": "bbbe9bc6",
   "metadata": {},
   "source": [
    "So let’s create a file named `args.txt` that contains all the necessary parameters, with an argument on each line like this:"
   ]
  },
  {
   "cell_type": "markdown",
   "id": "c11ad676",
   "metadata": {},
   "source": [
    "```text\n",
    "first\n",
    "second\n",
    "third\n",
    "fourth\n",
    "fifth\n",
    "```"
   ]
  },
  {
   "cell_type": "markdown",
   "id": "3d44fa78",
   "metadata": {},
   "source": [
    "Now that you have specified a prefix char to get arguments from an external file, open a terminal and try to execute the previous program:"
   ]
  },
  {
   "cell_type": "markdown",
   "id": "782b0472",
   "metadata": {},
   "source": [
    "```sh\n",
    "$ python fromfile_example.py @args.txt\n",
    "If you read this line it means that you have provided all the parameters\n",
    "```"
   ]
  },
  {
   "cell_type": "markdown",
   "id": "01cca48a",
   "metadata": {},
   "source": [
    "In this example, you can see that `argparse` has read the arguments from the `args.txt` file."
   ]
  },
  {
   "cell_type": "markdown",
   "id": "1e03c167",
   "metadata": {},
   "source": [
    "<a class=\"anchor\" id=\"allowing_or_disallowing_abbreviations\"></a>\n",
    "\n",
    "### Allowing or Disallowing Abbreviations"
   ]
  },
  {
   "cell_type": "markdown",
   "id": "df716afe",
   "metadata": {},
   "source": [
    "One of the features that the Python `argparse` library provides out of the box is the ability to handle abbreviations. Consider the following program, which [prints](https://realpython.com/python-print/) out the value you specify on the command line interface for the `--input` argument:"
   ]
  },
  {
   "cell_type": "code",
   "execution_count": null,
   "id": "c52106dc",
   "metadata": {},
   "outputs": [],
   "source": [
    "# abbrev_example.py\n",
    "import argparse\n",
    "\n",
    "my_parser = argparse.ArgumentParser()\n",
    "my_parser.add_argument('--input', action='store', type=int, required=True)\n",
    "my_parser.add_argument('--id', action='store', type=int)\n",
    "\n",
    "args = my_parser.parse_args()\n",
    "\n",
    "print(args.input)"
   ]
  },
  {
   "cell_type": "markdown",
   "id": "bb04a259",
   "metadata": {},
   "source": [
    "This program prints out the value you specify for the `--input` argument. We haven’t looked at the optional arguments yet, but don’t worry, we will discuss them in depth in just a moment. For now, just consider this argument like any other positional argument we already saw, with the difference that the name starts with a couple of dashes."
   ]
  },
  {
   "cell_type": "markdown",
   "id": "396fc204",
   "metadata": {},
   "source": [
    "Now let’s see how the Python `argparse` library can handle abbreviations, by calling our program multiple times, specifying a different abbreviation of the `input` argument at each run:"
   ]
  },
  {
   "cell_type": "markdown",
   "id": "2e1e5b33",
   "metadata": {},
   "source": [
    "```sh\n",
    "$ python abbrev_example.py --input 42\n",
    "42\n",
    "\n",
    "$ python abbrev_example.py --inpu 42\n",
    "42\n",
    "\n",
    "$ python abbrev_example.py --inp 42\n",
    "42\n",
    "\n",
    "$ python abbrev_example.py --in 42\n",
    "42\n",
    "```"
   ]
  },
  {
   "cell_type": "markdown",
   "id": "88fe8c84",
   "metadata": {},
   "source": [
    "As you can see, the optional parameters can always be shortened unless the abbreviation can lead to an incorrect interpretation.\n",
    "But what happens if you try to execute the program specifying just `--i 42`?\n",
    "In this case, `argparse` doesn’t know if you want to pass the value `42` to the `--input` argument or to the `--id` argument, so it exits the program with a specific error message:"
   ]
  },
  {
   "cell_type": "markdown",
   "id": "0fe0969c",
   "metadata": {},
   "source": [
    "```sh\n",
    "$ python abbrev_example.py --i 42\n",
    "usage: abbrev_example.py [-h] --input INPUT [--id ID]\n",
    "abbrev_example.py: error: ambiguous option: --i could match --input, --id\n",
    "```"
   ]
  },
  {
   "cell_type": "markdown",
   "id": "421b7826",
   "metadata": {},
   "source": [
    "However, if you don’t like this behavior, and you want to force your users to specify the full name of the options they use, then you can just disable this feature with the keyword `allow_abbrev` set to `False` during the creation of the parser:"
   ]
  },
  {
   "cell_type": "code",
   "execution_count": null,
   "id": "ffab5fac",
   "metadata": {},
   "outputs": [],
   "source": [
    "# abbrev_example.py\n",
    "import argparse\n",
    "\n",
    "my_parser = argparse.ArgumentParser(allow_abbrev=False)\n",
    "my_parser.add_argument('--input', action='store', type=int, required=True)\n",
    "\n",
    "args = my_parser.parse_args()\n",
    "\n",
    "print(args.input)"
   ]
  },
  {
   "cell_type": "markdown",
   "id": "286e424a",
   "metadata": {},
   "source": [
    "Now, if you try the code above, you’ll see that the abbreviations are no longer permitted:"
   ]
  },
  {
   "cell_type": "markdown",
   "id": "33206e0b",
   "metadata": {},
   "source": [
    "```sh\n",
    "$ python abbrev_example.py --inp 42\n",
    "usage: abbrev_example.py [-h] --input INPUT\n",
    "abbrev_example.py: error: the following arguments are required: --input\n",
    "```"
   ]
  },
  {
   "cell_type": "markdown",
   "id": "12a97114",
   "metadata": {},
   "source": [
    "The error message tells the user that the `--input` parameter has not been specified because the `--inp` abbreviation has not been recognized."
   ]
  },
  {
   "cell_type": "markdown",
   "id": "10e2fd61",
   "metadata": {},
   "source": [
    "<a class=\"anchor\" id=\"using_auto_help\"></a>\n",
    "\n",
    "### Using Auto Help"
   ]
  },
  {
   "cell_type": "markdown",
   "id": "a821a3c0",
   "metadata": {},
   "source": [
    "In some of the previous examples, you used the `-h` flag to get a help text.\n",
    "This is a very convenient feature that the Python `argparse` library allows you to use without having to code anything. However, sometimes you may want to disable this feature.\n",
    "To do that, just use the `add_help` keyword when creating the parser:"
   ]
  },
  {
   "cell_type": "code",
   "execution_count": null,
   "id": "63aa5831",
   "metadata": {},
   "outputs": [],
   "source": [
    "# Create the parser\n",
    "my_parser = argparse.ArgumentParser(\n",
    "    description='List the content of a folder',\n",
    "    add_help=False\n",
    ")"
   ]
  },
  {
   "cell_type": "markdown",
   "id": "5153b95b",
   "metadata": {},
   "source": [
    "The code in the example above specifies the `add_help` keyword set to `False`, so now if you run the code, you’ll see that the `-h` flag isn’t accepted anymore:"
   ]
  },
  {
   "cell_type": "markdown",
   "id": "4bbe2373",
   "metadata": {},
   "source": [
    "```sh\n",
    "$ myls.py\n",
    "usage: myls.py path\n",
    "myls.py: error: unrecognized arguments: -h\n",
    "```"
   ]
  },
  {
   "cell_type": "markdown",
   "id": "e2c62f07",
   "metadata": {},
   "source": [
    "As you can see, the `-h` flag is no longer shown or accepted."
   ]
  },
  {
   "cell_type": "markdown",
   "id": "7b3c0b61",
   "metadata": {},
   "source": [
    "<a class=\"anchor\" id=\"setting_the_name_or_flags_of_the_arguments\"></a>\n",
    "\n",
    "### Setting the Name or Flags of the Arguments"
   ]
  },
  {
   "cell_type": "markdown",
   "id": "540c34bb",
   "metadata": {},
   "source": [
    "There are basically two different types of arguments that you can add to your command line interface:"
   ]
  },
  {
   "cell_type": "markdown",
   "id": "ed9ac54c",
   "metadata": {},
   "source": [
    "1. Positional arguments\n",
    "2. Optional arguments\n"
   ]
  },
  {
   "cell_type": "markdown",
   "id": "c5728732",
   "metadata": {},
   "source": [
    "Positional arguments are the ones your command needs to operate."
   ]
  },
  {
   "cell_type": "markdown",
   "id": "a45b38fe",
   "metadata": {},
   "source": [
    "In the previous example, the argument `path` was a positional argument, and our program couldn’t work without it. They are called **positional** because their position defines their function."
   ]
  },
  {
   "cell_type": "markdown",
   "id": "b3972712",
   "metadata": {},
   "source": [
    "For example, consider the `cp` command on Linux (or the `copy` command in Windows). Here’s the standard usage:"
   ]
  },
  {
   "cell_type": "markdown",
   "id": "cad32b67",
   "metadata": {},
   "source": [
    "```sh\n",
    "$ cp [OPTION]... [-T] SOURCE DEST\n",
    "```"
   ]
  },
  {
   "cell_type": "markdown",
   "id": "e5732780",
   "metadata": {},
   "source": [
    "The first positional argument after the `cp` command is the source of the file you’re going to copy. The second one is the destination where you want to copy it."
   ]
  },
  {
   "cell_type": "markdown",
   "id": "9cffc18b",
   "metadata": {},
   "source": [
    "**Optional** arguments are not mandatory, and when they are used they can modify the behavior of the command at runtime. In the `cp` example, an optional argument is, for example, the `-r` flag, which makes the command copy directories [recursively](https://realpython.com/python-thinking-recursively/)."
   ]
  },
  {
   "cell_type": "markdown",
   "id": "a6c78d08",
   "metadata": {},
   "source": [
    "Syntactically, the difference between positional and optional arguments is that optional arguments start with `-` or `--`, while positional arguments don’t."
   ]
  },
  {
   "cell_type": "markdown",
   "id": "ca46a0c3",
   "metadata": {},
   "source": [
    "To add an optional argument, you just need to call `.add_argument()` again and name the new argument with a starting `-`."
   ]
  },
  {
   "cell_type": "markdown",
   "id": "c222ae9a",
   "metadata": {},
   "source": [
    "For example, try to modify the `myls.py` like this:"
   ]
  },
  {
   "cell_type": "code",
   "execution_count": null,
   "id": "dad63344",
   "metadata": {},
   "outputs": [],
   "source": [
    "# myls.py\n",
    "# Import the argparse library\n",
    "import argparse\n",
    "\n",
    "import os\n",
    "import sys\n",
    "\n",
    "# Create the parser\n",
    "my_parser = argparse.ArgumentParser(description='List the content of a folder')\n",
    "\n",
    "# Add the arguments\n",
    "my_parser.add_argument(\n",
    "    'Path', metavar='path',\n",
    "    type=str, help='the path to list'\n",
    ")\n",
    "my_parser.add_argument(\n",
    "    '-l', '--long',\n",
    "    action='store_true', help='enable the long listing format'\n",
    ")\n",
    "\n",
    "# Execute parse_args()\n",
    "args = my_parser.parse_args()\n",
    "\n",
    "input_path = args.Path\n",
    "\n",
    "if not os.path.isdir(input_path):\n",
    "    print('The path specified does not exist')\n",
    "    sys.exit()\n",
    "\n",
    "for line in os.listdir(input_path):\n",
    "    if args.long:  # Simplified long listing\n",
    "        size = os.stat(os.path.join(input_path, line)).st_size\n",
    "        line = '{size}  {line}'\n",
    "    print(line)"
   ]
  },
  {
   "cell_type": "markdown",
   "id": "c6824536",
   "metadata": {},
   "source": [
    "Now, try to execute this program to see if the new `-l` option is accepted:"
   ]
  },
  {
   "cell_type": "markdown",
   "id": "09e96933",
   "metadata": {},
   "source": [
    "```sh\n",
    "$ python myls.py -h\n",
    "usage: myls.py [-h] [-l] path\n",
    "\n",
    "List the content of a folder\n",
    "\n",
    "positional arguments:\n",
    "path        the path to list\n",
    "\n",
    "optional arguments:\n",
    "-h, --help  show this help message and exit\n",
    "-l, --long  enable the long listing format\n",
    "```"
   ]
  },
  {
   "cell_type": "markdown",
   "id": "a8c6fb9e",
   "metadata": {},
   "source": [
    "As you can see, now the program also accepts (but doesn’t require) the `-l` option, which allows the user to get a long listing format for the directory content."
   ]
  },
  {
   "cell_type": "markdown",
   "id": "2bc86dfd",
   "metadata": {},
   "source": [
    "<a class=\"anchor\" id=\"setting_the_action_to_be_taken_for_an_argument\"></a>\n",
    "\n",
    "### Setting the Action to Be Taken for an Argument"
   ]
  },
  {
   "cell_type": "markdown",
   "id": "6b377882",
   "metadata": {},
   "source": [
    "When you add an optional argument to your command line interface, you can also define what kind of action to take when the argument is specified. This means that you usually need to specify how to store the value to the `Namespace` object you will get when `.parse_args()` is executed."
   ]
  },
  {
   "cell_type": "markdown",
   "id": "91d2b160",
   "metadata": {},
   "source": [
    "There are several actions that are already defined and ready to be used. Let’s analyze them in detail:"
   ]
  },
  {
   "cell_type": "markdown",
   "id": "2b384a56",
   "metadata": {},
   "source": [
    "- **`store`** stores the input value to the `Namespace` object. (This is the default action.)\n",
    "- **`store_const`** stores a constant value when the corresponding optional arguments are specified.\n",
    "- **`store_true`** stores the [Boolean value](https://realpython.com/python-boolean/) `True` when the corresponding optional argument is specified and stores a `False` elsewhere.\n",
    "- **`store_false`** stores the Boolean value `False` when the corresponding optional argument is specified and stores `True` elsewhere.\n",
    "- **`append`** stores a list, appending a value to the list each time the option is provided.\n",
    "- **`append_const`** stores a [list](https://realpython.com/python-lists-tuples/) appending a constant value to the list each time the option is provided.\n",
    "- **`count`** stores an `int` that is equal to the times the option has been provided.\n",
    "- **`help`** shows a help text and exits.\n",
    "- **`version`** shows the version of the program and exits.\n"
   ]
  },
  {
   "cell_type": "markdown",
   "id": "d1fe8f42",
   "metadata": {},
   "source": [
    "Let’s create an example to test all the actions we have seen so far:"
   ]
  },
  {
   "cell_type": "code",
   "execution_count": null,
   "id": "43d8aeb0",
   "metadata": {},
   "outputs": [],
   "source": [
    "# actions_example.py\n",
    "import argparse\n",
    "\n",
    "my_parser = argparse.ArgumentParser()\n",
    "my_parser.version = '1.0'\n",
    "my_parser.add_argument('-a', action='store')\n",
    "my_parser.add_argument('-b', action='store_const', const=42)\n",
    "my_parser.add_argument('-c', action='store_true')\n",
    "my_parser.add_argument('-d', action='store_false')\n",
    "my_parser.add_argument('-e', action='append')\n",
    "my_parser.add_argument('-f', action='append_const', const=42)\n",
    "my_parser.add_argument('-g', action='count')\n",
    "my_parser.add_argument('-i', action='help')\n",
    "my_parser.add_argument('-j', action='version')\n",
    "\n",
    "args = my_parser.parse_args()\n",
    "\n",
    "print(vars(args))"
   ]
  },
  {
   "cell_type": "markdown",
   "id": "31b1f6a5",
   "metadata": {},
   "source": [
    "This script accepts an optional argument for each type of action discussed and then prints the value of the arguments read from the command line. Test it by executing this example:"
   ]
  },
  {
   "cell_type": "markdown",
   "id": "388cc998",
   "metadata": {},
   "source": [
    "```sh\n",
    "$ python actions_example.py\n",
    "{'a': None, 'b': None, 'c': False, 'd': True, 'e': None, 'f': None, 'g': None}\n",
    "```"
   ]
  },
  {
   "cell_type": "markdown",
   "id": "1aafc14b",
   "metadata": {},
   "source": [
    "As you can see, if we do not specify any arguments, then the default values are generally [`None`](https://realpython.com/null-in-python/), at least for the actions that do not store a Boolean value."
   ]
  },
  {
   "cell_type": "markdown",
   "id": "3e400d4f",
   "metadata": {},
   "source": [
    "The use of the `store` action, instead, stores the value we pass without any further consideration:"
   ]
  },
  {
   "cell_type": "markdown",
   "id": "cbac6b71",
   "metadata": {},
   "source": [
    "```sh\n",
    "$ python actions_example.py -a 42\n",
    "{'a': '42', 'b': None, 'c': False, 'd': True, 'e': None, 'f': None, 'g': None}\n",
    "\n",
    "$ python actions_example.py -a \"test\"\n",
    "{'a': 'test', 'b': None, 'c': False, 'd': True, 'e': None, 'f': None, 'g': None}\n",
    "```"
   ]
  },
  {
   "cell_type": "markdown",
   "id": "0ef8b407",
   "metadata": {},
   "source": [
    "The `store_const` action, stores the defined const when the arguments are provided. In our test, we provided just the `b` argument and the value of `args.b` is now `42`:"
   ]
  },
  {
   "cell_type": "markdown",
   "id": "e1d48e09",
   "metadata": {},
   "source": [
    "```sh\n",
    "$ python actions_example.py -b\n",
    "{'a': None, 'b': 42, 'c': False, 'd': True, 'e': None, 'f': None, 'g': None}\n",
    "```"
   ]
  },
  {
   "cell_type": "markdown",
   "id": "d25cc6a0",
   "metadata": {},
   "source": [
    "The `store_true` action stores a `True` Boolean when the argument is passed and store a `False` Boolean elsewhere. If you need the opposite behavior, just use the `store_false` action:"
   ]
  },
  {
   "cell_type": "markdown",
   "id": "8c4b283a",
   "metadata": {},
   "source": [
    "```sh\n",
    "$ python actions_example.py\n",
    "{'a': None, 'b': None, 'c': False, 'd': True, 'e': None, 'f': None, 'g': None}\n",
    "$ python actions_example.py -c\n",
    "{'a': None, 'b': None, 'c': True, 'd': True, 'e': None, 'f': None, 'g': None}\n",
    "$ python actions_example.py -d\n",
    "{'a': None, 'b': None, 'c': False, 'd': False, 'e': None, 'f': None, 'g': None}\n",
    "```"
   ]
  },
  {
   "cell_type": "markdown",
   "id": "20c97107",
   "metadata": {},
   "source": [
    "The `append` action lets you create a list of all the values passed to the CLI with the same argument:"
   ]
  },
  {
   "cell_type": "markdown",
   "id": "3b427bdf",
   "metadata": {},
   "source": [
    "```sh\n",
    "$ python actions_example.py -e me -e you -e us\n",
    "{'a': None, 'b': None, 'c': False, 'd': True, 'e': ['me', 'you', 'us'], 'f': None, 'g': None}\n",
    "```"
   ]
  },
  {
   "cell_type": "markdown",
   "id": "a9561b9e",
   "metadata": {},
   "source": [
    "The `append_const` action is similar to the `append` one, but it always appends the same constant value:"
   ]
  },
  {
   "cell_type": "markdown",
   "id": "981c0cb4",
   "metadata": {},
   "source": [
    "```sh\n",
    "$ python actions_example.py -f -f\n",
    "{'a': None, 'b': None, 'c': False, 'd': True, 'e': None, 'f': [42, 42], 'g': None}\n",
    "```"
   ]
  },
  {
   "cell_type": "markdown",
   "id": "e8fa90ee",
   "metadata": {},
   "source": [
    "The `count` action counts how many time an argument is passed. It’s quite useful when you want to implement a verbosity level for your program, since you can define a level where `-v` is less verbose than `-vvv`:"
   ]
  },
  {
   "cell_type": "markdown",
   "id": "759fc38b",
   "metadata": {},
   "source": [
    "```sh\n",
    "$ python actions_example.py -ggg\n",
    "{'a': None, 'b': None, 'c': False, 'd': True, 'e': None, 'f': None, 'g': 3}\n",
    "$ python actions_example.py -ggggg\n",
    "{'a': None, 'b': None, 'c': False, 'd': True, 'e': None, 'f': None, 'g': 5}\n",
    "```"
   ]
  },
  {
   "cell_type": "markdown",
   "id": "31fd9001",
   "metadata": {},
   "source": [
    "The `help` action is the one you already saw at the beginning of the article. It’s enabled for the `-h` flag by default, but you can use it for another flag if you want:"
   ]
  },
  {
   "cell_type": "markdown",
   "id": "90c1ac52",
   "metadata": {},
   "source": [
    "```sh\n",
    "$ python actions_example.py -i\n",
    "usage: actions_example.py [-h] [-a A] [-b] [-c] [-d] [-e E] [-f] [-g] [-i]\n",
    "[-j]\n",
    "\n",
    "optional arguments:\n",
    "-h, --help  show this help message and exit\n",
    "-a A\n",
    "-b\n",
    "-c\n",
    "-d\n",
    "-e E\n",
    "-f\n",
    "-g\n",
    "-i\n",
    "-j          show program's version number and exit\n",
    "```"
   ]
  },
  {
   "cell_type": "markdown",
   "id": "a3baa658",
   "metadata": {},
   "source": [
    "The `version` action is the last one you can use. It just shows the version of the program (defined by assigning a value to the `.version` property of the parser) and then ends the execution of the script:"
   ]
  },
  {
   "cell_type": "markdown",
   "id": "eb14480c",
   "metadata": {},
   "source": [
    "```sh\n",
    "$ python actions_example.py -j\n",
    "1.0\n",
    "```"
   ]
  },
  {
   "cell_type": "markdown",
   "id": "32fb5de2",
   "metadata": {},
   "source": [
    "Another possibility you have is to create a custom action. That’s done by subclassing the `argparse.Action` class and implementing a couple of methods."
   ]
  },
  {
   "cell_type": "markdown",
   "id": "e2ea7dc6",
   "metadata": {},
   "source": [
    "Look at the following example, which is a custom `store` action that is just a little bit more verbose than the standard one:"
   ]
  },
  {
   "cell_type": "code",
   "execution_count": null,
   "id": "49e11d8a",
   "metadata": {},
   "outputs": [],
   "source": [
    "# custom_action.py\n",
    "import argparse\n",
    "\n",
    "class VerboseStore(argparse.Action):\n",
    "    def __init__(self, option_strings, dest, nargs=None, **kwargs):\n",
    "        if nargs is not None:\n",
    "            raise ValueError('nargs not allowed')\n",
    "        super(VerboseStore, self).__init__(option_strings, dest, **kwargs)\n",
    "\n",
    "    def __call__(self, parser, namespace, values, option_string=None):\n",
    "        print('Here I am, setting the ' \\\n",
    "              'values %r for the %r option...' % (values, option_string))\n",
    "        setattr(namespace, self.dest, values)\n",
    "\n",
    "my_parser = argparse.ArgumentParser()\n",
    "my_parser.add_argument('-i', '--input', action=VerboseStore, type=int)\n",
    "\n",
    "args = my_parser.parse_args()\n",
    "\n",
    "print(vars(args))"
   ]
  },
  {
   "cell_type": "markdown",
   "id": "fdb84be6",
   "metadata": {},
   "source": [
    "This example defines a custom action that is just like the `store` action but a little bit more verbose. Try to execute it to test how it works:"
   ]
  },
  {
   "cell_type": "markdown",
   "id": "9b47c421",
   "metadata": {},
   "source": [
    "```sh\n",
    "$ python custom_action.py -i 42\n",
    "Here I am, setting the values 42 for the '-i' option...\n",
    "{'input': 42}\n",
    "```"
   ]
  },
  {
   "cell_type": "markdown",
   "id": "d010635d",
   "metadata": {},
   "source": [
    "As you can see, the program has printed out a line before setting the value `42` for the `-i` parameter."
   ]
  },
  {
   "cell_type": "markdown",
   "id": "e1d563c7",
   "metadata": {},
   "source": [
    "<a class=\"anchor\" id=\"setting_the_number_of_values_that_should_be_consumed_by_the_option\"></a>\n",
    "\n",
    "### Setting the Number of Values That Should Be Consumed by the Option"
   ]
  },
  {
   "cell_type": "markdown",
   "id": "798f5f72",
   "metadata": {},
   "source": [
    "The parser, by default, assumes that you’ll consume a single parameter for each argument, but you can modify this default behavior by specifying a different number of values with the `nargs` keyword."
   ]
  },
  {
   "cell_type": "markdown",
   "id": "5f1754ed",
   "metadata": {},
   "source": [
    "For example, if you want to create an optional argument that consumes exactly three values, then you can specify the number `3` as the value for the `nargs` keyword while adding the parameter to the parser:"
   ]
  },
  {
   "cell_type": "code",
   "execution_count": null,
   "id": "b157bd26",
   "metadata": {},
   "outputs": [],
   "source": [
    "# nargs_example.py\n",
    "import argparse\n",
    "\n",
    "my_parser = argparse.ArgumentParser()\n",
    "my_parser.add_argument('--input', action='store', type=int, nargs=3)\n",
    "\n",
    "args = my_parser.parse_args()\n",
    "\n",
    "print(args.input)"
   ]
  },
  {
   "cell_type": "markdown",
   "id": "1482a9c3",
   "metadata": {},
   "source": [
    "Now, the program accepts three values for the `--input` parameter:"
   ]
  },
  {
   "cell_type": "markdown",
   "id": "c9e85104",
   "metadata": {},
   "source": [
    "```sh\n",
    "$ python nargs_example.py --input 42\n",
    "usage: nargs_example.py [-h] [--input INPUT INPUT INPUT]\n",
    "nargs_example.py: error: argument --input: expected 3 arguments\n",
    "\n",
    "$ python nargs_example.py --input 42 42 42\n",
    "[42, 42, 42]\n",
    "```"
   ]
  },
  {
   "cell_type": "markdown",
   "id": "edc54e85",
   "metadata": {},
   "source": [
    "As you can see, the value of the `args.input` variable is now a list that contains three values."
   ]
  },
  {
   "cell_type": "markdown",
   "id": "3748d400",
   "metadata": {},
   "source": [
    "However, the `nargs` keyword can also accept the following:"
   ]
  },
  {
   "cell_type": "markdown",
   "id": "326160ac",
   "metadata": {},
   "source": [
    "- **`?`:** a single value, which can be optional\n",
    "- **`*`:** a flexible number of values, which will be gathered into a list\n",
    "- **`+`:** like `*`, but requiring *at least* one value\n",
    "- **`argparse.REMAINDER`:** all the values that are remaining in the command line\n"
   ]
  },
  {
   "cell_type": "markdown",
   "id": "8631ebbc",
   "metadata": {},
   "source": [
    "So, for example, in the following program, the positional argument `input` takes a single value when provided, but if the value is not provided, then the one specified by the `default` keyword is used:"
   ]
  },
  {
   "cell_type": "code",
   "execution_count": null,
   "id": "80e4cd63",
   "metadata": {},
   "outputs": [],
   "source": [
    "# nargs_example.py\n",
    "import argparse\n",
    "\n",
    "my_parser = argparse.ArgumentParser()\n",
    "my_parser.add_argument(\n",
    "    'input',                   \n",
    "    action='store',                   \n",
    "    nargs='?',                   \n",
    "    default='my default value'\n",
    ")\n",
    "args = my_parser.parse_args()\n",
    "\n",
    "print(args.input)"
   ]
  },
  {
   "cell_type": "markdown",
   "id": "2db62100",
   "metadata": {},
   "source": [
    "Now you can choose to set a specific value for the `input` argument or not. In this case, the default value will be used:"
   ]
  },
  {
   "cell_type": "markdown",
   "id": "57207159",
   "metadata": {},
   "source": [
    "```sh\n",
    "$ python nargs_example.py 'my custom value'\n",
    "my custom value\n",
    "\n",
    "$ python nargs_example.py\n",
    "my default value\n",
    "```"
   ]
  },
  {
   "cell_type": "markdown",
   "id": "b1db896a",
   "metadata": {},
   "source": [
    "To take a flexible number of values and gather them all into a single list, you need to specify the `*` value for the `nargs` keyword like this:"
   ]
  },
  {
   "cell_type": "code",
   "execution_count": null,
   "id": "5c866ffd",
   "metadata": {},
   "outputs": [],
   "source": [
    "# nargs_example.py\n",
    "import argparse\n",
    "\n",
    "my_parser = argparse.ArgumentParser()\n",
    "my_parser.add_argument(\n",
    "    'input',\n",
    "    action='store',\n",
    "    nargs='*',\n",
    "    default='my default value'\n",
    ")\n",
    "\n",
    "args = my_parser.parse_args()\n",
    "\n",
    "print(args.input)"
   ]
  },
  {
   "cell_type": "markdown",
   "id": "7a8498b6",
   "metadata": {},
   "source": [
    "See how this code allows the user to set a flexible number of values for the expected argument:"
   ]
  },
  {
   "cell_type": "markdown",
   "id": "23800654",
   "metadata": {},
   "source": [
    "```sh\n",
    "$ python nargs_example.py me you us\n",
    "['me', 'you', 'us']\n",
    "\n",
    "$ python nargs_example.py\n",
    "my default value\n",
    "```"
   ]
  },
  {
   "cell_type": "markdown",
   "id": "6e0395bd",
   "metadata": {},
   "source": [
    "If you need to take a variable number of values, but you have to be sure that at least one value is specified, then you can use the `+` value for the `nargs` keyword like this:"
   ]
  },
  {
   "cell_type": "code",
   "execution_count": null,
   "id": "63fdd9cd",
   "metadata": {},
   "outputs": [],
   "source": [
    "# nargs_example.py\n",
    "import argparse\n",
    "\n",
    "my_parser = argparse.ArgumentParser()\n",
    "my_parser.add_argument('input', action='store', nargs='+')\n",
    "\n",
    "args = my_parser.parse_args()\n",
    "\n",
    "print(args.input)"
   ]
  },
  {
   "cell_type": "markdown",
   "id": "cced6c28",
   "metadata": {},
   "source": [
    "In this case, if you execute the program with no positional arguments, then you will receive an explicit error message:"
   ]
  },
  {
   "cell_type": "markdown",
   "id": "953c80a3",
   "metadata": {},
   "source": [
    "```sh\n",
    "$ python nargs_example.py me you us\n",
    "['me', 'you', 'us']\n",
    "\n",
    "$ python nargs_example.py\n",
    "usage: nargs_example.py [-h] input [input ...]\n",
    "nargs_example.py: error: the following arguments are required: input\n",
    "```"
   ]
  },
  {
   "cell_type": "markdown",
   "id": "9b4045db",
   "metadata": {},
   "source": [
    "Lastly, if you need to grab all the remaining arguments that have been specified on the command line and put them all in a list, then the `nargs` keyword has to be set to `argparse.REMAINDER` like this:"
   ]
  },
  {
   "cell_type": "code",
   "execution_count": null,
   "id": "36ddef0b",
   "metadata": {},
   "outputs": [],
   "source": [
    "# nargs_example.py\n",
    "import argparse\n",
    "\n",
    "my_parser = argparse.ArgumentParser()\n",
    "my_parser.add_argument('first', action='store')\n",
    "my_parser.add_argument('others', action='store', nargs=argparse.REMAINDER)\n",
    "\n",
    "args = my_parser.parse_args()\n",
    "\n",
    "print('first = %r' % args.first)\n",
    "print('others = %r' % args.others)"
   ]
  },
  {
   "cell_type": "markdown",
   "id": "662a3315",
   "metadata": {},
   "source": [
    "Now if you execute this program, you will see that the first value will be associated with the first parameters, while all the other values provided will be associated with the second one:"
   ]
  },
  {
   "cell_type": "markdown",
   "id": "f0e17480",
   "metadata": {},
   "source": [
    "```sh\n",
    "$ python nargs_example.py me you us\n",
    "first = 'me'\n",
    "others = ['you', 'us']\n",
    "```"
   ]
  },
  {
   "cell_type": "markdown",
   "id": "44b2dbae",
   "metadata": {},
   "source": [
    "Note how all the remaining values are put in a single list."
   ]
  },
  {
   "cell_type": "markdown",
   "id": "9af12f10",
   "metadata": {},
   "source": [
    "<a class=\"anchor\" id=\"setting_a_default_value_produced_if_the_argument_is_missing\"></a>\n",
    "\n",
    "### Setting a Default Value Produced if the Argument Is Missing"
   ]
  },
  {
   "cell_type": "markdown",
   "id": "d58e12a1",
   "metadata": {},
   "source": [
    "You already know that the user can decide whether or not to specify optional arguments in the command line. When arguments are not specified, the corresponding value is generally set to `None`."
   ]
  },
  {
   "cell_type": "markdown",
   "id": "d2c01dc7",
   "metadata": {},
   "source": [
    "However, it is possible to define a default value for an argument when it’s not provided:"
   ]
  },
  {
   "cell_type": "code",
   "execution_count": null,
   "id": "518fa300",
   "metadata": {},
   "outputs": [],
   "source": [
    "# default_example.py\n",
    "import argparse\n",
    "\n",
    "my_parser = argparse.ArgumentParser()\n",
    "my_parser.add_argument('-a', action='store', default='42')\n",
    "\n",
    "args = my_parser.parse_args()\n",
    "\n",
    "print(vars(args))"
   ]
  },
  {
   "cell_type": "markdown",
   "id": "49bf66f4",
   "metadata": {},
   "source": [
    "If you execute this example without passing the `-a` option, then this is the output you get:"
   ]
  },
  {
   "cell_type": "markdown",
   "id": "9d9a866f",
   "metadata": {},
   "source": [
    "```sh\n",
    "$ python default_example.py\n",
    "{'a': '42'}\n",
    "```"
   ]
  },
  {
   "cell_type": "markdown",
   "id": "8ba7e207",
   "metadata": {},
   "source": [
    "You can see that now the option `-a` is set to `42`, even if you didn’t explicitly set the value on the command line."
   ]
  },
  {
   "cell_type": "markdown",
   "id": "a3b18a0e",
   "metadata": {},
   "source": [
    "<a class=\"anchor\" id=\"setting_the_type_of_the_argument\"></a>\n",
    "\n",
    "### Setting the Type of the Argument"
   ]
  },
  {
   "cell_type": "markdown",
   "id": "312afee4",
   "metadata": {},
   "source": [
    "By default, all the input argument values are treated as if they were strings. However, it’s possible to define the type for the corresponding property of the `Namespace` [object](https://realpython.com/learning-paths/object-oriented-programming-oop-python/) you get after `.parse_args()` is invoked just by defining it with the `type` keyword like this:"
   ]
  },
  {
   "cell_type": "code",
   "execution_count": null,
   "id": "ba89f6a9",
   "metadata": {},
   "outputs": [],
   "source": [
    "# type_example.py\n",
    "import argparse\n",
    "\n",
    "my_parser = argparse.ArgumentParser()\n",
    "my_parser.add_argument('-a', action='store', type=int)\n",
    "\n",
    "args = my_parser.parse_args()\n",
    "\n",
    "print(vars(args))"
   ]
  },
  {
   "cell_type": "markdown",
   "id": "db58a606",
   "metadata": {},
   "source": [
    "Specifying the int value for the argument, you are telling `argparse` that the `.a` property of your `Namespace` object has to be an `int` (instead of a string):"
   ]
  },
  {
   "cell_type": "markdown",
   "id": "56a223a4",
   "metadata": {},
   "source": [
    "```sh\n",
    "$ python type_example.py -a 42\n",
    "{'a': 42}\n",
    "```"
   ]
  },
  {
   "cell_type": "markdown",
   "id": "d2ea7aa8",
   "metadata": {},
   "source": [
    "Besides, now the value of the argument is checked at runtime, and if there’s a problem with the type of the value provided at the command line, then the execution is interrupted with a clear error message:"
   ]
  },
  {
   "cell_type": "markdown",
   "id": "896d5045",
   "metadata": {},
   "source": [
    "```sh\n",
    "$ python type_example.py -a \"that's a string\"\n",
    "usage: type_example.py [-h] [-a A]\n",
    "type_example.py: error: argument -a: invalid int value: \"that's a string\"\n",
    "```"
   ]
  },
  {
   "cell_type": "markdown",
   "id": "4e13548f",
   "metadata": {},
   "source": [
    "In this case, the error message is very clear because it states that you were expected to pass an `int` instead of a [string](https://realpython.com/python-strings/)."
   ]
  },
  {
   "cell_type": "markdown",
   "id": "50177ccb",
   "metadata": {},
   "source": [
    "<a class=\"anchor\" id=\"setting_a_domain_of_allowed_values_for_a_specific_argument\"></a>\n",
    "\n",
    "### Setting a Domain of Allowed Values for a Specific Argument"
   ]
  },
  {
   "cell_type": "markdown",
   "id": "6a2b5fb1",
   "metadata": {},
   "source": [
    "Another interesting possibility with the Python `argparse` library creating a domain of allowed values for specific arguments. You can do this by providing a list of accepted values while adding the new option:"
   ]
  },
  {
   "cell_type": "code",
   "execution_count": null,
   "id": "84b854fc",
   "metadata": {},
   "outputs": [],
   "source": [
    "# choices_ex.py\n",
    "import argparse\n",
    "\n",
    "my_parser = argparse.ArgumentParser()\n",
    "my_parser.add_argument('-a', action='store', choices=['head', 'tail'])\n",
    "\n",
    "args = my_parser.parse_args()"
   ]
  },
  {
   "cell_type": "markdown",
   "id": "7c4a6035",
   "metadata": {},
   "source": [
    "Please note that if you are accepting numeric values, then you can even use [`range()`](https://realpython.com/python-range/) to specify a range of accepted values:"
   ]
  },
  {
   "cell_type": "code",
   "execution_count": null,
   "id": "86f8c5cf",
   "metadata": {},
   "outputs": [],
   "source": [
    "# choices_ex.py\n",
    "import argparse\n",
    "\n",
    "my_parser = argparse.ArgumentParser()\n",
    "my_parser.add_argument('-a', action='store', type=int, choices=range(1, 5))\n",
    "\n",
    "args = my_parser.parse_args()\n",
    "\n",
    "print(vars(args))"
   ]
  },
  {
   "cell_type": "markdown",
   "id": "b53a63e1",
   "metadata": {},
   "source": [
    "In this case, the value provided on the command line will be automatically checked against the range defined:"
   ]
  },
  {
   "cell_type": "markdown",
   "id": "0bf666d2",
   "metadata": {},
   "source": [
    "```sh\n",
    "$ python choices_ex.py -a 4\n",
    "{'a': 4}\n",
    "\n",
    "$ python choices_ex.py -a 40\n",
    "usage: choices_ex.py [-h] [-a {1,2,3,4}]\n",
    "choices_ex.py: error: argument -a: invalid choice: 40 (choose from 1, 2, 3, 4)\n",
    "```"
   ]
  },
  {
   "cell_type": "markdown",
   "id": "bea4af7c",
   "metadata": {},
   "source": [
    "If the input number is outside the defined range, then you’ll get an error message."
   ]
  },
  {
   "cell_type": "markdown",
   "id": "10259f5a",
   "metadata": {},
   "source": [
    "<a class=\"anchor\" id=\"setting_whether_the_argument_is_required\"></a>\n",
    "\n",
    "### Setting Whether the Argument Is Required"
   ]
  },
  {
   "cell_type": "markdown",
   "id": "7c855233",
   "metadata": {},
   "source": [
    "If you want to force your user to specify the value for an optional argument, then you can use the `required` keyword:"
   ]
  },
  {
   "cell_type": "code",
   "execution_count": null,
   "id": "e1e57597",
   "metadata": {},
   "outputs": [],
   "source": [
    "# required_example.py\n",
    "import argparse\n",
    "\n",
    "my_parser = argparse.ArgumentParser()\n",
    "my_parser.add_argument('-a',\n",
    "                       action='store',\n",
    "                       choices=['head', 'tail'],\n",
    "                       required=True)\n",
    "\n",
    "args = my_parser.parse_args()\n",
    "\n",
    "print(vars(args))"
   ]
  },
  {
   "cell_type": "markdown",
   "id": "9067cfc9",
   "metadata": {},
   "source": [
    "If you use the `required` keyword set to `True` for an optional argument, then the user will be forced to set a value for that argument:"
   ]
  },
  {
   "cell_type": "markdown",
   "id": "5d2c98da",
   "metadata": {},
   "source": [
    "```sh\n",
    "$ python required_example.py\n",
    "usage: required_example.py [-h] -a {head,tail}\n",
    "required_example.py: error: the following arguments are required: -a\n",
    "\n",
    "$ python required_example.py -a head\n",
    "{'a': 'head'}\n",
    "```"
   ]
  },
  {
   "cell_type": "markdown",
   "id": "cb383f02",
   "metadata": {},
   "source": [
    "That said, please bear in mind that **requiring an optional argument is usually considered bad practice** since the user wouldn’t expect to have to set a value for an argument that should be optional."
   ]
  },
  {
   "cell_type": "markdown",
   "id": "fabb9714",
   "metadata": {},
   "source": [
    "<a class=\"anchor\" id=\"showing_a_brief_description_of_what_an_argument_does\"></a>\n",
    "\n",
    "### Showing a Brief Description of What an Argument Does"
   ]
  },
  {
   "cell_type": "markdown",
   "id": "15e3b447",
   "metadata": {},
   "source": [
    "A great feature of the Python `argparse` library is that, by default, you have the ability to ask for help just by adding the `-h` flag to your command line."
   ]
  },
  {
   "cell_type": "markdown",
   "id": "ae9a15a4",
   "metadata": {},
   "source": [
    "To make it even better, you can add help text to your arguments, so as to give the users even more help when they execute your program with the `-h` flag:"
   ]
  },
  {
   "cell_type": "code",
   "execution_count": null,
   "id": "545248b1",
   "metadata": {},
   "outputs": [],
   "source": [
    "# help_example.py\n",
    "import argparse\n",
    "\n",
    "my_parser = argparse.ArgumentParser()\n",
    "my_parser.add_argument('-a',\n",
    "                       action='store',\n",
    "                       choices=['head', 'tail'],\n",
    "                       help='set the user choice to head or tail')\n",
    "\n",
    "args = my_parser.parse_args()\n",
    "\n",
    "print(vars(args))"
   ]
  },
  {
   "cell_type": "markdown",
   "id": "56d24b58",
   "metadata": {},
   "source": [
    "This example shows you how to define a custom help text for the `-a` argument, and now the help text will be more clear for the user:"
   ]
  },
  {
   "cell_type": "markdown",
   "id": "613dcfd5",
   "metadata": {},
   "source": [
    "```sh\n",
    "$ python help_example.py -h\n",
    "usage: help_example.py [-h] [-a {head,tail}]\n",
    "\n",
    "optional arguments:\n",
    "-h, --help      show this help message and exit\n",
    "-a {head, tail}  set the user choice to head or tail\n",
    "```"
   ]
  },
  {
   "cell_type": "markdown",
   "id": "feca39b7",
   "metadata": {},
   "source": [
    "Defining a help text for all the arguments is a really good idea because it makes the usage of your program more clear to the user."
   ]
  },
  {
   "cell_type": "markdown",
   "id": "1fcf0ce6",
   "metadata": {},
   "source": [
    "<a class=\"anchor\" id=\"defining_mutually_exclusive_groups\"></a>\n",
    "\n",
    "### Defining Mutually Exclusive Groups"
   ]
  },
  {
   "cell_type": "markdown",
   "id": "6ffba197",
   "metadata": {},
   "source": [
    "Another interesting option you have when working with the Python `argparse` library is the ability to create a mutually exclusive group for options that cannot coexist in the same command line:"
   ]
  },
  {
   "cell_type": "code",
   "execution_count": null,
   "id": "14c93abd",
   "metadata": {},
   "outputs": [],
   "source": [
    "# groups.py\n",
    "import argparse\n",
    "\n",
    "my_parser = argparse.ArgumentParser()\n",
    "my_group = my_parser.add_mutually_exclusive_group(required=True)\n",
    "\n",
    "my_group.add_argument('-v', '--verbose', action='store_true')\n",
    "my_group.add_argument('-s', '--silent', action='store_true')\n",
    "\n",
    "args = my_parser.parse_args()\n",
    "\n",
    "print(vars(args))"
   ]
  },
  {
   "cell_type": "markdown",
   "id": "d06d8a58",
   "metadata": {},
   "source": [
    "You can specify the `-v` or the `-s` flags, unless they aren’t on the same command line, and also the help text that `argparse` provides reflects this constraint:"
   ]
  },
  {
   "cell_type": "markdown",
   "id": "d111833f",
   "metadata": {},
   "source": [
    "```sh\n",
    "$ python groups.py -h\n",
    "usage: groups.py [-h] (-v | -s)\n",
    "\n",
    "optional arguments:\n",
    "  -h, --help     show this help message and exit\n",
    "  -v, --verbose\n",
    "  -s, --silent\n",
    "\n",
    "$ python groups.py -v -s\n",
    "usage: groups.py [-h] (-v | -s)\n",
    "groups.py: error: argument -s/--silent: not allowed with argument -v/--verbose\n",
    "```"
   ]
  },
  {
   "cell_type": "markdown",
   "id": "485fcf80",
   "metadata": {},
   "source": [
    "If you specify all the options of a mutually exclusive group on the same command line you will get an error."
   ]
  },
  {
   "cell_type": "markdown",
   "id": "d29ab917",
   "metadata": {},
   "source": [
    "<a class=\"anchor\" id=\"setting_the_argument_name_in_usage_messages\"></a>\n",
    "\n",
    "### Setting the Argument Name in Usage Messages"
   ]
  },
  {
   "cell_type": "markdown",
   "id": "c2b824ae",
   "metadata": {},
   "source": [
    "If an argument accepts an input value, it can be useful to give this value a name that the parser can use to generate the help message, and this can be done by using the `metavar` keyword.\n",
    "In the following example, you can see how you can use the `metavar` keyword to specify a name for the value of the `-v` flag:"
   ]
  },
  {
   "cell_type": "code",
   "execution_count": null,
   "id": "5bd1163b",
   "metadata": {},
   "outputs": [],
   "source": [
    "# metavar_example.py\n",
    "import argparse\n",
    "\n",
    "my_parser = argparse.ArgumentParser()\n",
    "my_parser.add_argument('-v',\n",
    "                       '--verbosity',\n",
    "                       action='store',\n",
    "                       type=int,\n",
    "                       metavar='LEVEL')\n",
    "\n",
    "args = my_parser.parse_args()\n",
    "\n",
    "print(vars(args))"
   ]
  },
  {
   "cell_type": "markdown",
   "id": "aa3ca82b",
   "metadata": {},
   "source": [
    "Now, if you run your program with the `-h` flag, the help text assigns the name `LEVEL` to the value of the `-v` flag:"
   ]
  },
  {
   "cell_type": "markdown",
   "id": "c805cfc3",
   "metadata": {},
   "source": [
    "```sh\n",
    "$ python metavar_example.py -h\n",
    "usage: metavar_example.py [-h] [-v LEVEL]\n",
    "\n",
    "optional arguments:\n",
    "  -h, --help            show this help message and exit\n",
    "  -v LEVEL, --verbosity LEVEL\n",
    "```"
   ]
  },
  {
   "cell_type": "markdown",
   "id": "6e38c7f9",
   "metadata": {},
   "source": [
    "Please note that, in the help message, the value accepted for the `-v` flag is now named `LEVEL`."
   ]
  },
  {
   "cell_type": "markdown",
   "id": "c4683cec",
   "metadata": {},
   "source": [
    "<a class=\"anchor\" id=\"setting_the_name_of_the_attribute_to_be_added_to_the_object_once_parsed\"></a>\n",
    "\n",
    "### Setting the Name of the Attribute to Be Added to the Object Once Parsed"
   ]
  },
  {
   "cell_type": "markdown",
   "id": "d4f3d4a0",
   "metadata": {},
   "source": [
    "As you have already seen, when you add an argument to the parser, the value of this argument is stored in a property of the `Namespace` object. This property is named by default as the first argument passed to `.add_argument()` for the positional argument and as the long option string for optional arguments. "
   ]
  },
  {
   "cell_type": "markdown",
   "id": "d68f5e10",
   "metadata": {},
   "source": [
    "If an option uses dashes (as is fairly common), they will be converted to underscores in the property name:"
   ]
  },
  {
   "cell_type": "code",
   "execution_count": null,
   "id": "2a673106",
   "metadata": {},
   "outputs": [],
   "source": [
    "import argparse\n",
    "\n",
    "my_parser = argparse.ArgumentParser()\n",
    "my_parser.add_argument('-v',\n",
    "                       '--verbosity-level',\n",
    "                       action='store',\n",
    "                       type=int)\n",
    "\n",
    "args = my_parser.parse_args()\n",
    "print(args.verbosity_level)"
   ]
  },
  {
   "cell_type": "markdown",
   "id": "89fed337",
   "metadata": {},
   "source": [
    "However, it’s possible to specify the name of this property just by using the keyword `dest` when you’re adding an argument to the parser:"
   ]
  },
  {
   "cell_type": "code",
   "execution_count": null,
   "id": "776ddb7e",
   "metadata": {},
   "outputs": [],
   "source": [
    "# dest_example.py\n",
    "import argparse\n",
    "\n",
    "my_parser = argparse.ArgumentParser()\n",
    "my_parser.add_argument('-v',\n",
    "                       '--verbosity',\n",
    "                       action='store',\n",
    "                       type=int,\n",
    "                       dest='my_verbosity_level')\n",
    "\n",
    "args = my_parser.parse_args()\n",
    "\n",
    "print(vars(args))"
   ]
  },
  {
   "cell_type": "markdown",
   "id": "4d7c5170",
   "metadata": {},
   "source": [
    "By running this program, you’ll see that now the `args` variable contains a `.my_verbosity_level` property, even if by default the name of the property should have been `.verbosity`:"
   ]
  },
  {
   "cell_type": "markdown",
   "id": "26703f51",
   "metadata": {},
   "source": [
    "```sh\n",
    "$ python dest_example.py -v 42\n",
    "{'my_verbosity_level': 42}\n",
    "```"
   ]
  },
  {
   "cell_type": "markdown",
   "id": "3f51e024",
   "metadata": {},
   "source": [
    "The default name of this property would have been `.verbosity`, but since a different name has been specified by the `dest` keyword, `.my_verbosity_level` has been used."
   ]
  },
  {
   "attachments": {},
   "cell_type": "markdown",
   "id": "ea2e02d0",
   "metadata": {},
   "source": [
    "<a class=\"anchor\" id=\"conclusion\"></a>\n",
    "\n",
    "## <img src=\"../../images/logos/checkmark.png\" width=\"20\"/> Conclusion"
   ]
  },
  {
   "cell_type": "markdown",
   "id": "1939efd4",
   "metadata": {},
   "source": [
    "Now you know what a command line interface is and how you can create one in Python by using the Python `argparse` library. "
   ]
  },
  {
   "cell_type": "markdown",
   "id": "98c0e7d5",
   "metadata": {},
   "source": [
    "In this article, you’ve learned:"
   ]
  },
  {
   "cell_type": "markdown",
   "id": "5b63234b",
   "metadata": {},
   "source": [
    "- What the Python `argparse` library is, and why it’s important to use it if you need to write command line scripts in Python\n",
    "- How to use the Python `argparse` library to quickly create a simple CLI in Python\n",
    "- What the advanced usage of the Python `argparse` library is\n"
   ]
  },
  {
   "cell_type": "markdown",
   "id": "8a3bec89",
   "metadata": {},
   "source": [
    "Writing a good command line interface is a good way to create self-explanatory programs and give users a means of interacting with your application."
   ]
  },
  {
   "cell_type": "markdown",
   "id": "cce32bf9",
   "metadata": {},
   "source": [
    "If you still have questions, don’t hesitate to reach out in the comment section below and take a look at the [official documentation](https://docs.python.org/3/library/argparse.html) and the [Tshepang Lekhonkhobe tutorial](https://docs.python.org/3/howto/argparse.html) that is part of the official Python 3 HOWTO documentation."
   ]
  }
 ],
 "metadata": {
  "kernelspec": {
   "display_name": "Python 3 (ipykernel)",
   "language": "python",
   "name": "python3"
  },
  "language_info": {
   "codemirror_mode": {
    "name": "ipython",
    "version": 3
   },
   "file_extension": ".py",
   "mimetype": "text/x-python",
   "name": "python",
   "nbconvert_exporter": "python",
   "pygments_lexer": "ipython3",
   "version": "3.7.12"
  }
 },
 "nbformat": 4,
 "nbformat_minor": 5
}
