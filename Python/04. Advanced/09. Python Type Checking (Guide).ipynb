{
 "cells": [
  {
   "cell_type": "markdown",
   "id": "38bf9dfd",
   "metadata": {},
   "source": [
    "<img src=\"../../images/banners/python-advanced.png\" width=\"600\"/>"
   ]
  },
  {
   "cell_type": "markdown",
   "id": "afbb566c",
   "metadata": {},
   "source": [
    "# <img src=\"../../images/logos/python.png\" width=\"23\"/> Python Type Checking (Guide) \n"
   ]
  },
  {
   "cell_type": "markdown",
   "id": "1e125da0",
   "metadata": {},
   "source": [
    "## <img src=\"../../images/logos/toc.png\" width=\"20\"/> Table of Contents \n",
    "* [Type Systems](#type_systems)\n",
    "    * [Dynamic Typing](#dynamic_typing)\n",
    "    * [Static Typing](#static_typing)\n",
    "    * [Duck Typing](#duck_typing)\n",
    "* [Hello Types](#hello_types)\n",
    "* [Pros and Cons](#pros_and_cons)\n",
    "* [Annotations](#annotations)\n",
    "    * [Function Annotations](#function_annotations)\n",
    "    * [Variable Annotations](#variable_annotations)\n",
    "    * [Type Comments](#type_comments)\n",
    "    * [So, Type Annotations or Type Comments?](#so,_type_annotations_or_type_comments?)\n",
    "* [Playing With Python Types, Part 1](#playing_with_python_types,_part_1)\n",
    "    * [Example: A Deck of Cards](#example:_a_deck_of_cards)\n",
    "    * [Sequences and Mappings](#sequences_and_mappings)\n",
    "    * [Type Aliases](#type_aliases)\n",
    "    * [Functions Without Return Values](#functions_without_return_values)\n",
    "    * [Example: Play Some Cards](#example:_play_some_cards)\n",
    "    * [The `Any` Type](#the_`any`_type)\n",
    "* [Type Theory](#type_theory)\n",
    "    * [Subtypes](#subtypes)\n",
    "    * [Covariant, Contravariant, and Invariant](#covariant,_contravariant,_and_invariant)\n",
    "    * [Gradual Typing and Consistent Types](#gradual_typing_and_consistent_types)\n",
    "* [Playing With Python Types, Part 2](#playing_with_python_types,_part_2)\n",
    "    * [Type Variables](#type_variables)\n",
    "    * [Duck Types and Protocols](#duck_types_and_protocols)\n",
    "    * [The `Optional` Type](#the_`optional`_type)\n",
    "    * [Example: The Object(ive) of the Game](#example:_the_object(ive)_of_the_game)\n",
    "    * [Type Hints for Methods](#type_hints_for_methods)\n",
    "    * [Classes as Types](#classes_as_types)\n",
    "    * [Returning `self` or `cls`](#returning_`self`_or_`cls`)\n",
    "    * [Annotating `*args` and `**kwargs`](#annotating_`*args`_and_`**kwargs`)\n",
    "    * [Callables](#callables)\n",
    "    * [Example: Hearts](#example:_hearts)\n",
    "* [Static Type Checking](#static_type_checking)\n",
    "    * [The Mypy Project](#the_mypy_project)\n",
    "    * [Running Mypy](#running_mypy)\n",
    "    * [Adding Stubs](#adding_stubs)\n",
    "    * [Typeshed](#typeshed)\n",
    "    * [Other Static Type Checkers](#other_static_type_checkers)\n",
    "    * [Using Types at Runtime](#using_types_at_runtime)\n",
    "* [Conclusion](#conclusion)\n",
    "\n",
    "---"
   ]
  },
  {
   "cell_type": "markdown",
   "id": "bfbedc15",
   "metadata": {},
   "source": [
    "In this guide, you will get a look into Python type checking. Traditionally, types have been handled by the Python interpreter in a flexible but implicit way. Recent versions of Python allow you to specify explicit type hints that can be used by different tools to help you develop your code more efficiently."
   ]
  },
  {
   "cell_type": "markdown",
   "id": "d2e2d05c",
   "metadata": {},
   "source": [
    "**In this tutorial, you’ll learn about the following:**"
   ]
  },
  {
   "cell_type": "markdown",
   "id": "9a918787",
   "metadata": {},
   "source": [
    "- Type annotations and type hints\n",
    "- Adding static types to code, both your code and the code of others\n",
    "- Running a static type checker\n",
    "- Enforcing types at runtime\n"
   ]
  },
  {
   "cell_type": "markdown",
   "id": "6eb4d095",
   "metadata": {},
   "source": [
    "This is a comprehensive guide that will cover a lot of ground. If you want to just get a quick glimpse of how type hints work in Python, and see whether type checking is something you would include in your code, you don’t need to read all of it. The two sections [Hello Types](#hello-types) and [Pros and Cons](#pros-and-cons) will give you a taste of how type checking works and recommendations about when it’ll be useful."
   ]
  },
  {
   "cell_type": "markdown",
   "id": "f30759ca",
   "metadata": {},
   "source": [
    "All programming languages include some kind of [type system](https://en.wikipedia.org/wiki/Type_system) that formalizes which categories of objects it can work with and how those categories are treated. For instance, a type system can define a numerical type, with `42` as one example of an object of numerical type."
   ]
  },
  {
   "cell_type": "markdown",
   "id": "81c491de",
   "metadata": {},
   "source": [
    "<a class=\"anchor\" id=\"dynamic_typing\"></a>\n",
    "\n",
    "### Dynamic Typing"
   ]
  },
  {
   "cell_type": "markdown",
   "id": "93ca1d90",
   "metadata": {},
   "source": [
    "Python is a dynamically typed language. This means that the Python interpreter does type checking only as code runs, and that the type of a variable is allowed to change over its lifetime. The following dummy examples demonstrate that Python has dynamic typing:"
   ]
  },
  {
   "cell_type": "code",
   "execution_count": 2,
   "id": "4fcfde44-7d1f-47c1-af1f-1f7726f9d57e",
   "metadata": {},
   "outputs": [],
   "source": [
    "if False:\n",
    "    1 + \"two\"  # This line never runs, so no TypeError is raised\n",
    "else:\n",
    "    1 + 2"
   ]
  },
  {
   "cell_type": "code",
   "execution_count": 3,
   "id": "eef59092-7f01-463e-93a3-5b06de8c857d",
   "metadata": {},
   "outputs": [
    {
     "ename": "TypeError",
     "evalue": "unsupported operand type(s) for +: 'int' and 'str'",
     "output_type": "error",
     "traceback": [
      "\u001b[0;31m---------------------------------------------------------------------------\u001b[0m",
      "\u001b[0;31mTypeError\u001b[0m                                 Traceback (most recent call last)",
      "\u001b[0;32m/var/folders/b4/tsp68dlx1gz9xlnpgbx21ytc0000gn/T/ipykernel_27012/3001920628.py\u001b[0m in \u001b[0;36m<module>\u001b[0;34m\u001b[0m\n\u001b[0;32m----> 1\u001b[0;31m \u001b[0;36m1\u001b[0m \u001b[0;34m+\u001b[0m \u001b[0;34m\"two\"\u001b[0m  \u001b[0;31m# Now this is type checked, and a TypeError is raised\u001b[0m\u001b[0;34m\u001b[0m\u001b[0;34m\u001b[0m\u001b[0m\n\u001b[0m",
      "\u001b[0;31mTypeError\u001b[0m: unsupported operand type(s) for +: 'int' and 'str'"
     ]
    }
   ],
   "source": [
    "1 + \"two\"  # Now this is type checked, and a TypeError is raised"
   ]
  },
  {
   "cell_type": "markdown",
   "id": "aba1eacc",
   "metadata": {},
   "source": [
    "In the first example, the branch `1 + \"two\"` never runs so it’s never type checked. The second example shows that when `1 + \"two\"` is evaluated it raises a `TypeError` since you can’t add an integer and a string in Python."
   ]
  },
  {
   "cell_type": "markdown",
   "id": "5619cb77",
   "metadata": {},
   "source": [
    "Next, let’s see if variables can change type:"
   ]
  },
  {
   "cell_type": "code",
   "execution_count": 4,
   "id": "35209bbc-1c35-4179-b31c-c3cf7850fe48",
   "metadata": {},
   "outputs": [],
   "source": [
    "thing = \"Hello\""
   ]
  },
  {
   "cell_type": "code",
   "execution_count": 5,
   "id": "2343c01b-12c4-463a-bbc1-d0e064ac0d00",
   "metadata": {},
   "outputs": [
    {
     "data": {
      "text/plain": [
       "str"
      ]
     },
     "execution_count": 5,
     "metadata": {},
     "output_type": "execute_result"
    }
   ],
   "source": [
    "type(thing)"
   ]
  },
  {
   "cell_type": "code",
   "execution_count": 6,
   "id": "d0274f87-4efe-488a-a758-14a206530e7d",
   "metadata": {},
   "outputs": [],
   "source": [
    "thing = 28.1"
   ]
  },
  {
   "cell_type": "code",
   "execution_count": 7,
   "id": "7538bc30-b004-4f46-89b1-c6d71039dbcc",
   "metadata": {},
   "outputs": [
    {
     "data": {
      "text/plain": [
       "float"
      ]
     },
     "execution_count": 7,
     "metadata": {},
     "output_type": "execute_result"
    }
   ],
   "source": [
    "type(thing)"
   ]
  },
  {
   "cell_type": "markdown",
   "id": "76146aaa",
   "metadata": {},
   "source": [
    "`type()` returns the type of an object. These examples confirm that the type of `thing` is allowed to change, and Python correctly infers the type as it changes."
   ]
  },
  {
   "cell_type": "markdown",
   "id": "4c34d209",
   "metadata": {},
   "source": [
    "<a class=\"anchor\" id=\"static_typing\"></a>\n",
    "\n",
    "### Static Typing"
   ]
  },
  {
   "cell_type": "markdown",
   "id": "2fb19368",
   "metadata": {},
   "source": [
    "The opposite of dynamic typing is static typing. Static type checks are performed without running the program. In most statically typed languages, for instance [C](https://realpython.com/c-for-python-programmers/) and [Java](https://realpython.com/oop-in-python-vs-java/), this is done as your program is compiled."
   ]
  },
  {
   "cell_type": "markdown",
   "id": "b36dae64",
   "metadata": {},
   "source": [
    "With static typing, variables generally are not allowed to change types, although mechanisms for casting a variable to a different type may exist."
   ]
  },
  {
   "cell_type": "markdown",
   "id": "fd629f73",
   "metadata": {},
   "source": [
    "Let’s look at a quick example from a statically typed language. Consider the following Java snippet:"
   ]
  },
  {
   "cell_type": "markdown",
   "id": "3eb83865",
   "metadata": {},
   "source": [
    "```java\n",
    "String thing;\n",
    "thing = \"Hello\";\n",
    "```"
   ]
  },
  {
   "cell_type": "markdown",
   "id": "60638e78",
   "metadata": {},
   "source": [
    "The first line declares that the variable name `thing` is bound to the `String` type at compile time. The name can never be rebound to another type. In the second line, `thing` is assigned a value. It can never be assigned a value that is not a `String` object. For instance, if you were to later say `thing = 28.1f` the compiler would raise an error because of incompatible types."
   ]
  },
  {
   "cell_type": "markdown",
   "id": "f86f52ee",
   "metadata": {},
   "source": [
    "Python will always [remain a dynamically typed language](https://www.python.org/dev/peps/pep-0484/#non-goals). However, [PEP 484](https://www.python.org/dev/peps/pep-0484/) introduced type hints, which make it possible to also do static type checking of Python code."
   ]
  },
  {
   "cell_type": "markdown",
   "id": "c7a64b3d",
   "metadata": {},
   "source": [
    "Unlike how types work in most other statically typed languages, type hints by themselves don’t cause Python to enforce types. As the name says, type hints just suggest types. There are other tools, which [you’ll see later](#static-type-checking), that perform static type checking using type hints."
   ]
  },
  {
   "cell_type": "markdown",
   "id": "e1d62af3",
   "metadata": {},
   "source": [
    "<a class=\"anchor\" id=\"duck_typing\"></a>\n",
    "\n",
    "### Duck Typing"
   ]
  },
  {
   "cell_type": "markdown",
   "id": "9aee94f1",
   "metadata": {},
   "source": [
    "Another term that is often used when talking about Python is [duck typing](https://en.wikipedia.org/wiki/Duck_typing). This moniker comes from the phrase “if it walks like a duck and it quacks like a duck, then it must be a duck” (or [any of its variations](https://en.wikipedia.org/wiki/Duck_test#History))."
   ]
  },
  {
   "cell_type": "markdown",
   "id": "eb6a73a5",
   "metadata": {},
   "source": [
    "Duck typing is a concept related to dynamic typing, where the type or the class of an object is less important than the methods it defines. Using duck typing you do not check types at all. Instead you check for the presence of a given method or attribute."
   ]
  },
  {
   "cell_type": "markdown",
   "id": "29578be2",
   "metadata": {},
   "source": [
    "As an example, you can call `len()` on any Python object that defines a `.__len__()` method:"
   ]
  },
  {
   "cell_type": "code",
   "execution_count": 8,
   "id": "81714653-e9f9-4ac6-9525-d8bcde18c896",
   "metadata": {},
   "outputs": [],
   "source": [
    "class TheHobbit:\n",
    "    def __len__(self):\n",
    "        return 95022"
   ]
  },
  {
   "cell_type": "code",
   "execution_count": 9,
   "id": "426a8c03-9a58-4a48-8a02-a948c6b0ed5b",
   "metadata": {},
   "outputs": [],
   "source": [
    "the_hobbit = TheHobbit()"
   ]
  },
  {
   "cell_type": "code",
   "execution_count": 10,
   "id": "5038d743-57a9-46f7-949f-b973b4c95510",
   "metadata": {},
   "outputs": [
    {
     "data": {
      "text/plain": [
       "95022"
      ]
     },
     "execution_count": 10,
     "metadata": {},
     "output_type": "execute_result"
    }
   ],
   "source": [
    "len(the_hobbit)"
   ]
  },
  {
   "cell_type": "markdown",
   "id": "79ffd223",
   "metadata": {},
   "source": [
    "Note that the call to `len()` gives the return value of the `.__len__()` method. In fact, the implementation of `len()` is essentially equivalent to the following:"
   ]
  },
  {
   "cell_type": "code",
   "execution_count": null,
   "id": "295a8cd2",
   "metadata": {},
   "outputs": [],
   "source": [
    "def len(obj):\n",
    "    return obj.__len__()"
   ]
  },
  {
   "cell_type": "markdown",
   "id": "ece64b16",
   "metadata": {},
   "source": [
    "In order to call `len(obj)`, the only real constraint on `obj` is that it must define a `.__len__()` method. Otherwise, the object can be of types as different as `str`, `list`, `dict`, or `TheHobbit`."
   ]
  },
  {
   "cell_type": "markdown",
   "id": "e2694e6b",
   "metadata": {},
   "source": [
    "Duck typing is somewhat supported when doing static type checking of Python code, using [structural subtyping](https://en.wikipedia.org/wiki/Structural_type_system). You’ll learn [more about duck typing](#duck-types-and-protocols) later."
   ]
  },
  {
   "cell_type": "markdown",
   "id": "71419bfd",
   "metadata": {},
   "source": [
    "<a class=\"anchor\" id=\"hello_types\"></a>\n",
    "\n",
    "## Hello Types"
   ]
  },
  {
   "cell_type": "markdown",
   "id": "b64f8a92",
   "metadata": {},
   "source": [
    "In this section you’ll see how to add type hints to a function. The following function turns a text string into a headline by adding proper capitalization and a decorative line:"
   ]
  },
  {
   "cell_type": "code",
   "execution_count": 11,
   "id": "e93b1b4f",
   "metadata": {},
   "outputs": [],
   "source": [
    "def headline(text, align=True):\n",
    "    if align:\n",
    "        return f\"{text.title()}\\n{'-' * len(text)}\"\n",
    "    else:\n",
    "        return f\" {text.title()} \".center(50, \"o\")"
   ]
  },
  {
   "cell_type": "markdown",
   "id": "48033d24",
   "metadata": {},
   "source": [
    "By default the function returns the headline left aligned with an underline. By setting the `align` flag to `False` you can alternatively have the headline be centered with a surrounding line of `o`:"
   ]
  },
  {
   "cell_type": "code",
   "execution_count": 12,
   "id": "7f44eb7d-aecb-4eb7-8766-dc58b5a90930",
   "metadata": {},
   "outputs": [
    {
     "name": "stdout",
     "output_type": "stream",
     "text": [
      "Python Type Checking\n",
      "--------------------\n"
     ]
    }
   ],
   "source": [
    "print(headline(\"python type checking\"))"
   ]
  },
  {
   "cell_type": "code",
   "execution_count": 13,
   "id": "2176a2a9-d45f-4d6b-8bc7-b93eb0e166ab",
   "metadata": {},
   "outputs": [
    {
     "name": "stdout",
     "output_type": "stream",
     "text": [
      "oooooooooooooo Python Type Checking oooooooooooooo\n"
     ]
    }
   ],
   "source": [
    "print(headline(\"python type checking\", align=False))"
   ]
  },
  {
   "cell_type": "markdown",
   "id": "03f98b83",
   "metadata": {},
   "source": [
    "It’s time for our first type hints! To add information about types to the function, you simply annotate its arguments and return value as follows:"
   ]
  },
  {
   "cell_type": "code",
   "execution_count": 14,
   "id": "a88c6968",
   "metadata": {},
   "outputs": [],
   "source": [
    "def headline(text: str, align: bool = True) -> str:\n",
    "    ..."
   ]
  },
  {
   "cell_type": "markdown",
   "id": "288dd200",
   "metadata": {},
   "source": [
    "The `text: str` syntax says that the `text` argument should be of type `str`. Similarly, the optional `align` argument should have type `bool` with the default value `True`. Finally, the `-> str` notation specifies that `headline()` will return a string."
   ]
  },
  {
   "cell_type": "markdown",
   "id": "fa213905",
   "metadata": {},
   "source": [
    "In [terms of style](https://realpython.com/python-pep8/), [PEP 8](https://www.python.org/dev/peps/pep-0008/#other-recommendations) recommends the following:"
   ]
  },
  {
   "cell_type": "markdown",
   "id": "9176ce9c",
   "metadata": {},
   "source": [
    "- Use normal rules for colons, that is, no space before and one space after a colon: `text: str`.\n",
    "- Use spaces around the `=` sign when combining an argument annotation with a default value: `align: bool = True`.\n",
    "- Use spaces around the `->` arrow: `def headline(...) -> str`.\n"
   ]
  },
  {
   "cell_type": "markdown",
   "id": "4bbda086",
   "metadata": {},
   "source": [
    "Adding type hints like this has no runtime effect: they are only hints and are not enforced on their own. For instance, if we use a wrong type for the (admittedly badly named) `align` argument, the code still runs without any problems or warnings:"
   ]
  },
  {
   "cell_type": "code",
   "execution_count": 15,
   "id": "60b93737",
   "metadata": {},
   "outputs": [
    {
     "name": "stdout",
     "output_type": "stream",
     "text": [
      "None\n"
     ]
    }
   ],
   "source": [
    "print(headline(\"python type checking\", align=\"left\"))"
   ]
  },
  {
   "cell_type": "markdown",
   "id": "5b72b7b2",
   "metadata": {},
   "source": [
    "To catch this kind of error you can use a static type checker. That is, a tool that checks the types of your code without actually running it in the traditional sense."
   ]
  },
  {
   "cell_type": "markdown",
   "id": "8f477ec3",
   "metadata": {},
   "source": [
    "You might already have such a type checker built into your editor. For instance [PyCharm](https://www.jetbrains.com/pycharm/) immediately gives you a warning:"
   ]
  },
  {
   "cell_type": "markdown",
   "id": "ba042f4c",
   "metadata": {},
   "source": [
    "<img src=\"images/python-type-checking-(guide)/pycharm_type_error.76a49b9d4ff1.png\" width=\"600px\">"
   ]
  },
  {
   "cell_type": "markdown",
   "id": "6fbc115c",
   "metadata": {},
   "source": [
    "The most common tool for doing type checking is [Mypy](http://mypy-lang.org/) though. You’ll get a short introduction to Mypy in a moment, while you can learn much more about how it works [later](#the-mypy-project)."
   ]
  },
  {
   "cell_type": "markdown",
   "id": "6a30636f",
   "metadata": {},
   "source": [
    "If you don’t already have Mypy on your system, you can install it using `pip`:"
   ]
  },
  {
   "cell_type": "markdown",
   "id": "778a1d97",
   "metadata": {},
   "source": [
    "```sh\n",
    "$ pip install mypy\n",
    "```"
   ]
  },
  {
   "cell_type": "markdown",
   "id": "cd12e856",
   "metadata": {},
   "source": [
    "Put the following code in a file called `headlines.py`:"
   ]
  },
  {
   "cell_type": "code",
   "execution_count": null,
   "id": "373cb868",
   "metadata": {},
   "outputs": [],
   "source": [
    "# headlines.py\n",
    "\n",
    "def headline(text: str, align: bool = True) -> str:\n",
    "    if align:\n",
    "        return f\"{text.title()}\\n{'-' * len(text)}\"\n",
    "    else:\n",
    "        return f\" {text.title()} \".center(50, \"o\")\n",
    "\n",
    "print(headline(\"python type checking\"))\n",
    "print(headline(\"use mypy\", align=\"center\"))"
   ]
  },
  {
   "cell_type": "markdown",
   "id": "c60deb04",
   "metadata": {},
   "source": [
    "This is essentially the same code you saw earlier: the definition of `headline()` and two examples that are using it."
   ]
  },
  {
   "cell_type": "markdown",
   "id": "faf92180",
   "metadata": {},
   "source": [
    "Now run Mypy on this code:"
   ]
  },
  {
   "cell_type": "markdown",
   "id": "dbf78c24",
   "metadata": {},
   "source": [
    "```sh\n",
    "$ mypy headlines.py\n",
    "headlines.py:10: error: Argument \"align\" to \"headline\" has incompatible\n",
    "                        type \"str\"; expected \"bool\"\n",
    "```"
   ]
  },
  {
   "cell_type": "markdown",
   "id": "7f980549",
   "metadata": {},
   "source": [
    "Based on the type hints, Mypy is able to tell us that we are using the wrong type on line 10."
   ]
  },
  {
   "cell_type": "markdown",
   "id": "47f417d1",
   "metadata": {},
   "source": [
    "To fix the issue in the code you should change the value of the `align` argument you are passing in. You might also rename the `align` flag to something less confusing:"
   ]
  },
  {
   "cell_type": "code",
   "execution_count": null,
   "id": "074dbe46",
   "metadata": {},
   "outputs": [],
   "source": [
    "# headlines.py\n",
    "\n",
    "def headline(text: str, centered: bool = False) -> str:\n",
    "    if not centered:\n",
    "        return f\"{text.title()}\\n{'-' * len(text)}\"\n",
    "    else:\n",
    "        return f\" {text.title()} \".center(50, \"o\")\n",
    "\n",
    "print(headline(\"python type checking\"))\n",
    "print(headline(\"use mypy\", centered=True))"
   ]
  },
  {
   "cell_type": "markdown",
   "id": "5e43f811",
   "metadata": {},
   "source": [
    "Here you’ve changed `align` to `centered`, and correctly used a [Boolean value](https://realpython.com/python-boolean/) for `centered` when calling `headline()`. The code now passes Mypy:"
   ]
  },
  {
   "cell_type": "markdown",
   "id": "a01f550e",
   "metadata": {},
   "source": [
    "```sh\n",
    "$ mypy headlines.py\n",
    "Success: no issues found in 1 source file\n",
    "```"
   ]
  },
  {
   "cell_type": "markdown",
   "id": "7607cc0e",
   "metadata": {},
   "source": [
    "The success message confirms there were no type errors detected. Older versions of Mypy used to indicate this by showing no output at all. Furthermore, when you run the code you see the expected output:"
   ]
  },
  {
   "cell_type": "markdown",
   "id": "0c781c47",
   "metadata": {},
   "source": [
    "```sh\n",
    "$ python headlines.py\n",
    "Python Type Checking\n",
    "--------------------\n",
    "oooooooooooooooooooo Use Mypy oooooooooooooooooooo\n",
    "```"
   ]
  },
  {
   "cell_type": "markdown",
   "id": "2d0a036b",
   "metadata": {},
   "source": [
    "The first headline is aligned to the left, while the second one is centered."
   ]
  },
  {
   "cell_type": "markdown",
   "id": "12162623",
   "metadata": {},
   "source": [
    "<a class=\"anchor\" id=\"pros_and_cons\"></a>\n",
    "\n",
    "## Pros and Cons"
   ]
  },
  {
   "cell_type": "markdown",
   "id": "aff8a47f",
   "metadata": {},
   "source": [
    "The previous section gave you a little taste of what type checking in Python looks like. You also saw an example of one of the advantages of adding types to your code: type hints help **catch certain errors**. Other advantages include:"
   ]
  },
  {
   "cell_type": "markdown",
   "id": "60e09f36",
   "metadata": {},
   "source": [
    "- \n",
    "Type hints help **document your code**. Traditionally, you would use [docstrings](https://realpython.com/documenting-python-code/) if you wanted to document the expected types of a function’s arguments. This works, but as there is no standard for docstrings (despite [PEP 257](https://www.python.org/dev/peps/pep-0257/) they can’t be easily used for automatic checks.\n",
    "\n",
    "\n",
    "\n",
    "- \n",
    "Type hints **improve IDEs and linters**. They make it much easier to statically reason about your code. This in turn allows IDEs to offer better code completion and similar features. With the type annotation, PyCharm knows that `text` is a string, and can give specific suggestions based on this:\n",
    "\n",
    "\n",
    "[![Code completion in PyCharm on a typed variable](https://files.realpython.com/media/pycharm_code_completion.82857c2750f6.png)](https://files.realpython.com/media/pycharm_code_completion.82857c2750f6.png)\n",
    "\n",
    "\n",
    "\n",
    "- \n",
    "Type hints help you **build and maintain a cleaner architecture**. The act of writing type hints forces you to think about the types in your program. While the dynamic nature of Python is one of its great assets, being conscious about relying on duck typing, overloaded methods, or multiple return types is a good thing.\n",
    "\n",
    "\n",
    "\n"
   ]
  },
  {
   "cell_type": "markdown",
   "id": "307ecf16",
   "metadata": {},
   "source": [
    "Of course, static type checking is not all peaches and cream. There are also some downsides you should consider:"
   ]
  },
  {
   "cell_type": "markdown",
   "id": "c64b087e",
   "metadata": {},
   "source": [
    "- \n",
    "Type hints **take developer time and effort to add**. Even though it probably pays off in spending less time [debugging](https://realpython.com/python-debugging-pdb/), you will spend more time entering code.\n",
    "\n",
    "\n",
    "\n",
    "- \n",
    "Type hints **work best in modern Pythons**. Annotations were introduced in Python 3.0, and it’s possible to use [type comments](#type-comments) in Python 2.7. Still, improvements like [variable annotations](#variable-annotations) and [postponed evaluation of type hints](https://www.python.org/dev/peps/pep-0563/) mean that you’ll have a better experience doing type checks using Python 3.6 or even [Python 3.7](https://realpython.com/python37-new-features/).\n",
    "\n",
    "\n",
    "\n",
    "- \n",
    "Type hints **introduce a slight penalty in start-up time**. If you need to use the [`typing` module](#sequences-and-mappings) the [import](https://realpython.com/absolute-vs-relative-python-imports/) time may be significant, especially in short scripts.\n",
    "\n",
    "\n",
    "\n"
   ]
  },
  {
   "cell_type": "markdown",
   "id": "9f9c03f0",
   "metadata": {},
   "source": [
    "So, should you use static type checking in your own code? Well, it’s not an all-or-nothing question. Luckily, Python supports the concept of [gradual typing](https://www.python.org/dev/peps/pep-0483/). This means that you can gradually introduce types into your code. Code without type hints will be ignored by the static type checker. Therefore, you can start adding types to critical components, and continue as long as it adds value to you."
   ]
  },
  {
   "cell_type": "markdown",
   "id": "c759be9c",
   "metadata": {},
   "source": [
    "Looking at the lists above of pros and cons you’ll notice that adding types will have no effect on your running program or the users of your program. Type checking is meant to make your life as a developer better and more convenient."
   ]
  },
  {
   "cell_type": "markdown",
   "id": "a2175ceb",
   "metadata": {},
   "source": [
    "A few rules of thumb on whether to add types to your project are:"
   ]
  },
  {
   "cell_type": "markdown",
   "id": "d461f110",
   "metadata": {},
   "source": [
    "- \n",
    "If you are just beginning to learn Python, you can safely wait with type hints until you have more experience.\n",
    "\n",
    "\n",
    "\n",
    "- \n",
    "Type hints add little value in [short throw-away scripts](https://www.youtube.com/watch?v=Jd8ulMb6_ls).\n",
    "\n",
    "\n",
    "\n",
    "- \n",
    "In libraries that will be used by others, especially ones [published on PyPI](https://realpython.com/pypi-publish-python-package/), type hints add a lot of value. Other code using your libraries need these type hints to be properly type checked itself. For examples of projects using type hints see [`cursive_re`](https://github.com/Bogdanp/cursive_re/blob/master/cursive_re/exprs.py), [`black`](https://github.com/realpython/reader/blob/master/reader/feed.py), and [Mypy](https://github.com/python/mypy/blob/master/mypy/build.py) itself.\n",
    "\n",
    "\n",
    "\n",
    "- \n",
    "In bigger projects, type hints help you understand how types flow through your code, and are highly recommended. Even more so in projects where you cooperate with others.\n",
    "\n",
    "\n",
    "\n"
   ]
  },
  {
   "cell_type": "markdown",
   "id": "09e25493",
   "metadata": {},
   "source": [
    "In his excellent article [The State of Type Hints in Python](https://bernat.tech/posts/the-state-of-type-hints-in-python/) Bernát Gábor recommends that “**type hints should be used whenever unit tests are worth writing**.” Indeed, type hints play a similar role as [tests](https://realpython.com/python-testing/) in your code: they help you as a developer write better code."
   ]
  },
  {
   "cell_type": "markdown",
   "id": "0a61942a",
   "metadata": {},
   "source": [
    "Hopefully you now have an idea about how type checking works in Python and whether it’s something you would like to employ in your own projects."
   ]
  },
  {
   "cell_type": "markdown",
   "id": "a410de37",
   "metadata": {},
   "source": [
    "In the rest of this guide, we’ll go into more detail about the Python type system, including how you run static type checkers (with particular focus on Mypy), how you type check code that uses libraries without type hints, and how you use annotations at runtime."
   ]
  },
  {
   "cell_type": "markdown",
   "id": "a8e5640f",
   "metadata": {},
   "source": [
    "<a class=\"anchor\" id=\"annotations\"></a>\n",
    "\n",
    "## Annotations"
   ]
  },
  {
   "cell_type": "markdown",
   "id": "0e2c3fa5",
   "metadata": {},
   "source": [
    "**Annotations were [introduced in Python 3.0](https://www.python.org/dev/peps/pep-3107/), originally without any specific purpose**. They were simply a way to associate arbitrary expressions to function arguments and return values."
   ]
  },
  {
   "cell_type": "markdown",
   "id": "26c1e7fd",
   "metadata": {},
   "source": [
    "Years later, [PEP 484](https://www.python.org/dev/peps/pep-0484/) defined how to add type hints to your Python code, based off work that Jukka Lehtosalo had done on his Ph.D. project—Mypy. The main way to add type hints is using annotations. As type checking is becoming more and more common, this also means that annotations should mainly be reserved for type hints."
   ]
  },
  {
   "cell_type": "markdown",
   "id": "14c5d34b",
   "metadata": {},
   "source": [
    "The next sections explain how annotations work in the context of type hints."
   ]
  },
  {
   "cell_type": "markdown",
   "id": "7baa438f",
   "metadata": {},
   "source": [
    "<a class=\"anchor\" id=\"function_annotations\"></a>\n",
    "\n",
    "### Function Annotations"
   ]
  },
  {
   "cell_type": "markdown",
   "id": "fe2a6074",
   "metadata": {},
   "source": [
    "For functions, you can annotate arguments and the return value. This is done as follows:"
   ]
  },
  {
   "cell_type": "code",
   "execution_count": null,
   "id": "64967db3",
   "metadata": {},
   "outputs": [],
   "source": [
    "def func(arg: arg_type, optarg: arg_type = default) -> return_type:\n",
    "    ..."
   ]
  },
  {
   "cell_type": "markdown",
   "id": "70e017fe",
   "metadata": {},
   "source": [
    "For arguments the syntax is `argument: annotation`, while the return type is annotated using `-> annotation`. Note that the annotation must be a valid Python expression."
   ]
  },
  {
   "cell_type": "markdown",
   "id": "0e0133a9",
   "metadata": {},
   "source": [
    "The following simple example adds annotations to a function that calculates the circumference of a circle:"
   ]
  },
  {
   "cell_type": "code",
   "execution_count": 16,
   "id": "513a8cb7",
   "metadata": {},
   "outputs": [],
   "source": [
    "import math\n",
    "\n",
    "def circumference(radius: float) -> float:\n",
    "    return 2 * math.pi * radius"
   ]
  },
  {
   "cell_type": "markdown",
   "id": "38532553",
   "metadata": {},
   "source": [
    "When running the code, you can also inspect the annotations. They are stored in a special `.__annotations__` attribute on the function:"
   ]
  },
  {
   "cell_type": "code",
   "execution_count": 17,
   "id": "50ef50b5-52e6-45e2-9779-066e73ee73fa",
   "metadata": {},
   "outputs": [
    {
     "data": {
      "text/plain": [
       "7.728317927830891"
      ]
     },
     "execution_count": 17,
     "metadata": {},
     "output_type": "execute_result"
    }
   ],
   "source": [
    "circumference(1.23)"
   ]
  },
  {
   "cell_type": "code",
   "execution_count": 18,
   "id": "86a48cbb-9fda-48f8-9530-45096eed5021",
   "metadata": {},
   "outputs": [
    {
     "data": {
      "text/plain": [
       "{'radius': float, 'return': float}"
      ]
     },
     "execution_count": 18,
     "metadata": {},
     "output_type": "execute_result"
    }
   ],
   "source": [
    "circumference.__annotations__"
   ]
  },
  {
   "cell_type": "markdown",
   "id": "6a6532b5",
   "metadata": {},
   "source": [
    "Sometimes you might be confused by how Mypy is interpreting your type hints. For those cases there are special Mypy expressions: `reveal_type()` and `reveal_locals()`. You can add these to your code before running Mypy, and Mypy will dutifully report which types it has inferred. As an example, save the following code to `reveal.py`:\n",
    "\n",
    "```python\n",
    "# reveal.py\n",
    "\n",
    "import math\n",
    "reveal_type(math.pi)\n",
    "\n",
    "radius = 1\n",
    "circumference = 2 * math.pi * radius\n",
    "reveal_locals()\n",
    "```"
   ]
  },
  {
   "cell_type": "markdown",
   "id": "39e72fde",
   "metadata": {},
   "source": [
    "Next, run this code through Mypy:"
   ]
  },
  {
   "cell_type": "markdown",
   "id": "587a86a3",
   "metadata": {},
   "source": [
    "```sh\n",
    "$ mypy reveal.py\n",
    "reveal.py:4: error: Revealed type is 'builtins.float'\n",
    "\n",
    "reveal.py:8: error: Revealed local types are:\n",
    "reveal.py:8: error: circumference: builtins.float\n",
    "reveal.py:8: error: radius: builtins.int\n",
    "```"
   ]
  },
  {
   "cell_type": "markdown",
   "id": "86208947",
   "metadata": {},
   "source": [
    "Even without any annotations Mypy has correctly inferred the types of the built-in `math.pi`, as well as our local variables `radius` and `circumference`."
   ]
  },
  {
   "cell_type": "markdown",
   "id": "1de36bd7",
   "metadata": {},
   "source": [
    "If Mypy says that “Name ‘`reveal_locals`‘ is not defined” you might need to update your Mypy installation. The `reveal_locals()` expression is available in [Mypy version 0.610](http://mypy-lang.blogspot.com/2018/06/mypy-0610-released.html) and later."
   ]
  },
  {
   "cell_type": "markdown",
   "id": "b6f2592f",
   "metadata": {},
   "source": [
    "<a class=\"anchor\" id=\"variable_annotations\"></a>\n",
    "\n",
    "### Variable Annotations"
   ]
  },
  {
   "cell_type": "markdown",
   "id": "34f1d566",
   "metadata": {},
   "source": [
    "In the definition of `circumference()` in the previous section, you only annotated the arguments and the return value. You did not add any annotations inside the function body. More often than not, this is enough."
   ]
  },
  {
   "cell_type": "markdown",
   "id": "b25dca4f",
   "metadata": {},
   "source": [
    "However, sometimes the type checker needs help in figuring out the types of variables as well. Variable annotations were defined in [PEP 526](https://www.python.org/dev/peps/pep-0526/) and introduced in Python 3.6. The syntax is the same as for function argument annotations:"
   ]
  },
  {
   "cell_type": "code",
   "execution_count": 20,
   "id": "fb1b21fe",
   "metadata": {},
   "outputs": [],
   "source": [
    "pi: float = 3.142\n",
    "\n",
    "def circumference(radius: float) -> float:\n",
    "    return 2 * pi * radius"
   ]
  },
  {
   "cell_type": "markdown",
   "id": "2126e96d",
   "metadata": {},
   "source": [
    "The variable `pi` has been annotated with the `float` type hint."
   ]
  },
  {
   "cell_type": "markdown",
   "id": "536231c3",
   "metadata": {},
   "source": [
    "Annotations of variables are stored in the module level `__annotations__` dictionary:"
   ]
  },
  {
   "cell_type": "code",
   "execution_count": 21,
   "id": "9231771e-97e6-4239-b8e1-718266536f29",
   "metadata": {},
   "outputs": [
    {
     "data": {
      "text/plain": [
       "6.284"
      ]
     },
     "execution_count": 21,
     "metadata": {},
     "output_type": "execute_result"
    }
   ],
   "source": [
    "circumference(1)"
   ]
  },
  {
   "cell_type": "code",
   "execution_count": 23,
   "id": "daf731db-9bc4-4d88-94f7-295cbab6d0c7",
   "metadata": {},
   "outputs": [
    {
     "data": {
      "text/plain": [
       "{'pi': float}"
      ]
     },
     "execution_count": 23,
     "metadata": {},
     "output_type": "execute_result"
    }
   ],
   "source": [
    "__annotations__"
   ]
  },
  {
   "cell_type": "markdown",
   "id": "1ec44a66",
   "metadata": {},
   "source": [
    "You’re allowed to annotate a variable without giving it a value. This adds the annotation to the `__annotations__` dictionary, while the variable remains undefined:"
   ]
  },
  {
   "cell_type": "code",
   "execution_count": 24,
   "id": "e3d57bd9-dae3-4535-a7e9-b0c9d057977c",
   "metadata": {},
   "outputs": [
    {
     "ename": "NameError",
     "evalue": "name 'nothing' is not defined",
     "output_type": "error",
     "traceback": [
      "\u001b[0;31m---------------------------------------------------------------------------\u001b[0m",
      "\u001b[0;31mNameError\u001b[0m                                 Traceback (most recent call last)",
      "\u001b[0;32m/var/folders/b4/tsp68dlx1gz9xlnpgbx21ytc0000gn/T/ipykernel_27012/4121522746.py\u001b[0m in \u001b[0;36m<module>\u001b[0;34m\u001b[0m\n\u001b[1;32m      1\u001b[0m \u001b[0mnothing\u001b[0m\u001b[0;34m:\u001b[0m \u001b[0mstr\u001b[0m\u001b[0;34m\u001b[0m\u001b[0;34m\u001b[0m\u001b[0m\n\u001b[0;32m----> 2\u001b[0;31m \u001b[0mnothing\u001b[0m\u001b[0;34m\u001b[0m\u001b[0;34m\u001b[0m\u001b[0m\n\u001b[0m",
      "\u001b[0;31mNameError\u001b[0m: name 'nothing' is not defined"
     ]
    }
   ],
   "source": [
    "nothing: str\n",
    "nothing"
   ]
  },
  {
   "cell_type": "code",
   "execution_count": 25,
   "id": "ec8682cd-01bd-42d9-bff0-d6bd2e321f49",
   "metadata": {},
   "outputs": [
    {
     "data": {
      "text/plain": [
       "{'pi': float, 'nothing': str}"
      ]
     },
     "execution_count": 25,
     "metadata": {},
     "output_type": "execute_result"
    }
   ],
   "source": [
    "__annotations__"
   ]
  },
  {
   "cell_type": "markdown",
   "id": "3beda3e2",
   "metadata": {},
   "source": [
    "Since no value was assigned to `nothing`, the name `nothing` is not yet defined."
   ]
  },
  {
   "cell_type": "markdown",
   "id": "45cc4635",
   "metadata": {},
   "source": [
    "<a class=\"anchor\" id=\"type_comments\"></a>\n",
    "\n",
    "### Type Comments"
   ]
  },
  {
   "cell_type": "markdown",
   "id": "15e6e7a8",
   "metadata": {},
   "source": [
    "As mentioned, annotations were introduced in Python 3, and they’ve not been backported to Python 2. This means that if you’re writing code that needs to support [legacy Python](https://pythonclock.org/), you can’t use annotations."
   ]
  },
  {
   "cell_type": "markdown",
   "id": "4ae8518b",
   "metadata": {},
   "source": [
    "Instead, you can use type comments. These are specially formatted comments that can be used to add type hints compatible with older code. To add type comments to a function you do something like this:"
   ]
  },
  {
   "cell_type": "code",
   "execution_count": null,
   "id": "7d455710",
   "metadata": {},
   "outputs": [],
   "source": [
    "import math\n",
    "\n",
    "def circumference(radius):\n",
    "    # type: (float) -> float\n",
    "    return 2 * math.pi * radius"
   ]
  },
  {
   "cell_type": "markdown",
   "id": "49b206f0",
   "metadata": {},
   "source": [
    "The type comments are just comments, so they can be used in any version of Python."
   ]
  },
  {
   "cell_type": "markdown",
   "id": "f52d0f92",
   "metadata": {},
   "source": [
    "Type comments are handled directly by the type checker, so these types are not available in the `__annotations__` dictionary:"
   ]
  },
  {
   "cell_type": "code",
   "execution_count": 26,
   "id": "36247acf",
   "metadata": {},
   "outputs": [
    {
     "data": {
      "text/plain": [
       "{'radius': float, 'return': float}"
      ]
     },
     "execution_count": 26,
     "metadata": {},
     "output_type": "execute_result"
    }
   ],
   "source": [
    "circumference.__annotations__"
   ]
  },
  {
   "cell_type": "markdown",
   "id": "4ae8445e",
   "metadata": {},
   "source": [
    "A type comment must start with the `type:` literal, and be on the same or the following line as the function definition. If you want to annotate a function with several arguments, you write each type separated by comma:"
   ]
  },
  {
   "cell_type": "code",
   "execution_count": 27,
   "id": "6f2eeee7",
   "metadata": {},
   "outputs": [
    {
     "name": "stdout",
     "output_type": "stream",
     "text": [
      "---------- Type Comments Work ----------\n"
     ]
    }
   ],
   "source": [
    "def headline(text, width=80, fill_char=\"-\"):\n",
    "    # type: (str, int, str) -> str\n",
    "    return f\" {text.title()} \".center(width, fill_char)\n",
    "\n",
    "print(headline(\"type comments work\", width=40))"
   ]
  },
  {
   "cell_type": "markdown",
   "id": "c1f8958d",
   "metadata": {},
   "source": [
    "You are also allowed to write each argument on a separate line with its own annotation:"
   ]
  },
  {
   "cell_type": "code",
   "execution_count": null,
   "id": "a0bf63c7",
   "metadata": {},
   "outputs": [],
   "source": [
    "# headlines.py\n",
    "\n",
    "def headline(\n",
    "    text,           # type: str\n",
    "    width=80,       # type: int\n",
    "    fill_char=\"-\",  # type: str\n",
    "):                  # type: (...) -> str\n",
    "    return f\" {text.title()} \".center(width, fill_char)\n",
    "\n",
    "print(headline(\"type comments work\", width=40))"
   ]
  },
  {
   "cell_type": "markdown",
   "id": "116d34b7",
   "metadata": {},
   "source": [
    "Run the example through Python and Mypy:"
   ]
  },
  {
   "cell_type": "markdown",
   "id": "740e624a",
   "metadata": {},
   "source": [
    "```sh\n",
    "$  python headlines.py\n",
    "---------- Type Comments Work ----------\n",
    "\n",
    "$ mypy headlines.py\n",
    "Success: no issues found in 1 source file\n",
    "```"
   ]
  },
  {
   "cell_type": "markdown",
   "id": "82ed5bea",
   "metadata": {},
   "source": [
    "If you have errors, for instance if you happened to call `headline()` with `width=\"full\"` on line 10, Mypy will tell you:"
   ]
  },
  {
   "cell_type": "markdown",
   "id": "54e3780c",
   "metadata": {},
   "source": [
    "```sh\n",
    "$ mypy headline.py\n",
    "headline.py:10: error: Argument \"width\" to \"headline\" has incompatible\n",
    "                       type \"str\"; expected \"int\"\n",
    "```"
   ]
  },
  {
   "cell_type": "markdown",
   "id": "b9c6a012",
   "metadata": {},
   "source": [
    "You can also add type comments to variables. This is done similarly to how you add type comments to arguments:"
   ]
  },
  {
   "cell_type": "code",
   "execution_count": 28,
   "id": "cb20d370",
   "metadata": {},
   "outputs": [],
   "source": [
    "pi = 3.142  # type: float"
   ]
  },
  {
   "cell_type": "markdown",
   "id": "7364b6ff",
   "metadata": {},
   "source": [
    "In this example, `pi` will be type checked as a float variable."
   ]
  },
  {
   "cell_type": "markdown",
   "id": "eb069ce6",
   "metadata": {},
   "source": [
    "<a class=\"anchor\" id=\"so,_type_annotations_or_type_comments?\"></a>\n",
    "\n",
    "### So, Type Annotations or Type Comments?"
   ]
  },
  {
   "cell_type": "markdown",
   "id": "66a24037",
   "metadata": {},
   "source": [
    "Should you use annotations or type comments when adding type hints to your own code? In short: **Use annotations if you can, use type comments if you must.**"
   ]
  },
  {
   "cell_type": "markdown",
   "id": "f1e34de8",
   "metadata": {},
   "source": [
    "Annotations provide a cleaner syntax keeping type information closer to your code. They are also the [officially recommended way](https://www.python.org/dev/peps/pep-0484/) of writing type hints, and will be further developed and properly maintained in the future."
   ]
  },
  {
   "cell_type": "markdown",
   "id": "1c3a1637",
   "metadata": {},
   "source": [
    "Type comments are more verbose and might conflict with other kinds of comments in your code like [linter directives](https://realpython.com/python-code-quality/). However, they can be used in code bases that don’t support annotations."
   ]
  },
  {
   "cell_type": "markdown",
   "id": "b5285ed5",
   "metadata": {},
   "source": [
    "There is also hidden option number three: [stub files](https://github.com/python/mypy/wiki/Creating-Stubs-For-Python-Modules). You will learn about these later, when we discuss [adding types to third party libraries](#adding-stubs)."
   ]
  },
  {
   "cell_type": "markdown",
   "id": "3a87d02c",
   "metadata": {},
   "source": [
    "Stub files will work in any version of Python, at the expense of having to maintain a second set of files. In general, you only want to use stub files if you can’t change the original source code."
   ]
  },
  {
   "cell_type": "markdown",
   "id": "9d3da89b",
   "metadata": {},
   "source": [
    "<a class=\"anchor\" id=\"playing_with_python_types,_part_1\"></a>\n",
    "\n",
    "## Playing With Python Types, Part 1"
   ]
  },
  {
   "cell_type": "markdown",
   "id": "c339bc9b",
   "metadata": {},
   "source": [
    "Up until now you’ve only used basic types like `str`, `float`, and `bool` in your type hints. The Python type system is quite powerful, and supports many kinds of more complex types. This is necessary as it needs to be able to reasonably model Python’s dynamic duck typing nature."
   ]
  },
  {
   "cell_type": "markdown",
   "id": "aab1981e",
   "metadata": {},
   "source": [
    "In this section you will learn more about this type system, while implementing a simple card game. You will see how to specify:"
   ]
  },
  {
   "cell_type": "markdown",
   "id": "1f988764",
   "metadata": {},
   "source": [
    "- The type of [sequences and mappings](#sequences-and-mappings) like tuples, lists and dictionaries\n",
    "- [Type aliases](#type-aliases) that make code easier to read\n",
    "- That functions and methods [do not return anything](#functions-without-return-values)\n",
    "- Objects that may be of [any type](#the-any-type)\n"
   ]
  },
  {
   "cell_type": "markdown",
   "id": "5f55f529",
   "metadata": {},
   "source": [
    "After a short detour into some [type theory](#type-theory) you will then see [even more ways to specify types in Python](#playing-with-python-types-part-2)."
   ]
  },
  {
   "cell_type": "markdown",
   "id": "a3cef317",
   "metadata": {},
   "source": [
    "<a class=\"anchor\" id=\"example:_a_deck_of_cards\"></a>\n",
    "\n",
    "### Example: A Deck of Cards"
   ]
  },
  {
   "cell_type": "markdown",
   "id": "501a5101",
   "metadata": {},
   "source": [
    "The following example shows an implementation of a [regular (French) deck of cards](https://en.wikipedia.org/wiki/French_playing_cards):"
   ]
  },
  {
   "cell_type": "code",
   "execution_count": 30,
   "id": "e9a41c79-e96a-4b4e-87fd-ef5f5fe48a95",
   "metadata": {},
   "outputs": [],
   "source": [
    "# game.py\n",
    "\n",
    "import random\n",
    "\n",
    "SUITS = \"♠ ♡ ♢ ♣\".split()\n",
    "RANKS = \"2 3 4 5 6 7 8 9 10 J Q K A\".split()\n",
    "\n",
    "def create_deck(shuffle=False):\n",
    "    \"\"\"Create a new deck of 52 cards\"\"\"\n",
    "    deck = [(s, r) for r in RANKS for s in SUITS]\n",
    "    if shuffle:\n",
    "        random.shuffle(deck)\n",
    "    return deck\n",
    "\n",
    "def deal_hands(deck):\n",
    "    \"\"\"Deal the cards in the deck into four hands\"\"\"\n",
    "    return (deck[0::4], deck[1::4], deck[2::4], deck[3::4])\n",
    "\n",
    "def play():\n",
    "    \"\"\"Play a 4-player card game\"\"\"\n",
    "    deck = create_deck(shuffle=True)\n",
    "    names = \"P1 P2 P3 P4\".split()\n",
    "    hands = {n: h for n, h in zip(names, deal_hands(deck))}\n",
    "\n",
    "    for name, cards in hands.items():\n",
    "        card_str = \" \".join(f\"{s}{r}\" for (s, r) in cards)\n",
    "        print(f\"{name}: {card_str}\")"
   ]
  },
  {
   "cell_type": "code",
   "execution_count": 31,
   "id": "0b53e662-815c-4713-aadf-416775553686",
   "metadata": {},
   "outputs": [
    {
     "name": "stdout",
     "output_type": "stream",
     "text": [
      "P1: ♡9 ♣10 ♢2 ♣5 ♢A ♡8 ♣7 ♠2 ♢Q ♣2 ♡5 ♢J ♠7\n",
      "P2: ♠8 ♡6 ♢5 ♢K ♣4 ♠J ♡A ♢8 ♠5 ♣3 ♡J ♣8 ♣J\n",
      "P3: ♣9 ♢6 ♢3 ♢7 ♡4 ♠6 ♠K ♣Q ♣A ♡Q ♠A ♠9 ♠4\n",
      "P4: ♡10 ♡K ♣6 ♠3 ♢4 ♡7 ♡2 ♢10 ♠Q ♡3 ♠10 ♣K ♢9\n"
     ]
    }
   ],
   "source": [
    "play()"
   ]
  },
  {
   "cell_type": "markdown",
   "id": "61f7036a",
   "metadata": {},
   "source": [
    "Each card is represented as a tuple of strings denoting the suit and rank. The deck is represented as a list of cards. `create_deck()` creates a regular deck of 52 playing cards, and optionally shuffles the cards. `deal_hands()` deals the deck of cards to four players."
   ]
  },
  {
   "cell_type": "markdown",
   "id": "7d627eef",
   "metadata": {},
   "source": [
    "Finally, `play()` plays the game. As of now, it only prepares for a card game by constructing a shuffled deck and dealing cards to each player. The following is a typical output:"
   ]
  },
  {
   "cell_type": "markdown",
   "id": "529459d4",
   "metadata": {},
   "source": [
    "```sh\n",
    "$ python game.py\n",
    "P4: ♣9 ♢9 ♡2 ♢7 ♡7 ♣A ♠6 ♡K ♡5 ♢6 ♢3 ♣3 ♣Q\n",
    "P1: ♡A ♠2 ♠10 ♢J ♣10 ♣4 ♠5 ♡Q ♢5 ♣6 ♠A ♣5 ♢4\n",
    "P2: ♢2 ♠7 ♡8 ♢K ♠3 ♡3 ♣K ♠J ♢A ♣7 ♡6 ♡10 ♠K\n",
    "P3: ♣2 ♣8 ♠8 ♣J ♢Q ♡9 ♡J ♠4 ♢8 ♢10 ♠9 ♡4 ♠Q\n",
    "```"
   ]
  },
  {
   "cell_type": "markdown",
   "id": "1c2ea7ea",
   "metadata": {},
   "source": [
    "You will see how to extend this example into a more interesting game as we move along."
   ]
  },
  {
   "cell_type": "markdown",
   "id": "16752630",
   "metadata": {},
   "source": [
    "<a class=\"anchor\" id=\"sequences_and_mappings\"></a>\n",
    "\n",
    "### Sequences and Mappings"
   ]
  },
  {
   "cell_type": "markdown",
   "id": "3abdb6b0",
   "metadata": {},
   "source": [
    "Let’s add type hints to our card game. In other words, let’s annotate the functions `create_deck()`, `deal_hands()`, and `play()`. The first challenge is that you need to annotate composite types like the list used to represent the deck of cards and the tuples used to represent the cards themselves."
   ]
  },
  {
   "cell_type": "markdown",
   "id": "0b18c0ce",
   "metadata": {},
   "source": [
    "With simple types like `str`, `float`, and `bool`, adding type hints is as easy as using the type itself:"
   ]
  },
  {
   "cell_type": "code",
   "execution_count": 32,
   "id": "f219a310",
   "metadata": {},
   "outputs": [],
   "source": [
    "name: str = \"Guido\"\n",
    "pi: float = 3.142\n",
    "centered: bool = False"
   ]
  },
  {
   "cell_type": "markdown",
   "id": "a0f24e2d",
   "metadata": {},
   "source": [
    "With composite types, you are allowed to do the same:"
   ]
  },
  {
   "cell_type": "code",
   "execution_count": 33,
   "id": "8566e43e",
   "metadata": {},
   "outputs": [],
   "source": [
    "names: list = [\"Guido\", \"Jukka\", \"Ivan\"]\n",
    "version: tuple = (3, 7, 1)\n",
    "options: dict = {\"centered\": False, \"capitalize\": True}"
   ]
  },
  {
   "cell_type": "markdown",
   "id": "13b4c3ca",
   "metadata": {},
   "source": [
    "However, this does not really tell the full story. What will be the types of `names[2]`, `version[0]`, and `options[\"centered\"]`? In this concrete case you can see that they are `str`, `int`, and `bool`, respectively. However, the type hints themselves give no information about this."
   ]
  },
  {
   "cell_type": "markdown",
   "id": "243fc06a",
   "metadata": {},
   "source": [
    "Instead, you should use the special types defined in the [`typing` module](https://docs.python.org/library/typing.html). These types add syntax for specifying the types of elements of composite types. You can write the following:"
   ]
  },
  {
   "cell_type": "code",
   "execution_count": 1,
   "id": "2b26bd89",
   "metadata": {},
   "outputs": [],
   "source": [
    "from typing import Dict, List, Tuple\n",
    "\n",
    "names: List[str] = [\"Guido\", \"Jukka\", \"Ivan\"]\n",
    "version: Tuple[int, int, int] = (3, 7, 1)\n",
    "options: Dict[str, bool] = {\"centered\": False, \"capitalize\": True}"
   ]
  },
  {
   "cell_type": "markdown",
   "id": "70275b08",
   "metadata": {},
   "source": [
    "Note that each of these types start with a capital letter and that they all use square brackets to define item types:"
   ]
  },
  {
   "cell_type": "markdown",
   "id": "c3652595",
   "metadata": {},
   "source": [
    "- **`names`** is a list of strings\n",
    "- **`version`** is a 3-tuple consisting of three integers\n",
    "- **`options`** is a dictionary mapping strings to Boolean values\n"
   ]
  },
  {
   "cell_type": "markdown",
   "id": "c890e804",
   "metadata": {},
   "source": [
    "The `typing` module contains many more composite types, including `Counter`, `Deque`, `FrozenSet`, `NamedTuple`, and `Set`. In addition, the module includes other kinds of types that you’ll see in later sections."
   ]
  },
  {
   "cell_type": "markdown",
   "id": "eca0a800",
   "metadata": {},
   "source": [
    "Let’s return to the card game. A card is represented by a tuple of two strings. You can write this as `Tuple[str, str]`, so the type of the deck of cards becomes `List[Tuple[str, str]]`. Therefore you can annotate `create_deck()` as follows:"
   ]
  },
  {
   "cell_type": "code",
   "execution_count": null,
   "id": "f4145f21",
   "metadata": {},
   "outputs": [],
   "source": [
    "def create_deck(shuffle: bool = False) -> List[Tuple[str, str]]:\n",
    "    \"\"\"Create a new deck of 52 cards\"\"\"\n",
    "    deck = [(s, r) for r in RANKS for s in SUITS]\n",
    "    if shuffle:\n",
    "        random.shuffle(deck)\n",
    "    return deck"
   ]
  },
  {
   "cell_type": "markdown",
   "id": "de94513c",
   "metadata": {},
   "source": [
    "In addition to the return value, you’ve also added the `bool` type to the optional `shuffle` argument."
   ]
  },
  {
   "cell_type": "markdown",
   "id": "686e1268",
   "metadata": {},
   "source": [
    "In many cases your functions will expect some kind of [sequence](https://docs.python.org/glossary.html#term-sequence), and not really care whether it is a list or a tuple. In these cases you should use `typing.Sequence` when annotating the function argument:"
   ]
  },
  {
   "cell_type": "code",
   "execution_count": null,
   "id": "0101ee62",
   "metadata": {},
   "outputs": [],
   "source": [
    "from typing import List, Sequence\n",
    "\n",
    "def square(elems: Sequence[float]) -> List[float]:\n",
    "    return [x**2 for x in elems]"
   ]
  },
  {
   "cell_type": "markdown",
   "id": "c2bdf084",
   "metadata": {},
   "source": [
    "Using `Sequence` is an example of using duck typing. A `Sequence` is anything that supports `len()` and `.__getitem__()`, independent of its actual type."
   ]
  },
  {
   "cell_type": "markdown",
   "id": "e01bedf9",
   "metadata": {},
   "source": [
    "<a class=\"anchor\" id=\"type_aliases\"></a>\n",
    "\n",
    "### Type Aliases"
   ]
  },
  {
   "cell_type": "markdown",
   "id": "cd07d294",
   "metadata": {},
   "source": [
    "The type hints might become quite oblique when working with nested types like the deck of cards. You may need to stare at `List[Tuple[str, str]]` a bit before figuring out that it matches our representation of a deck of cards."
   ]
  },
  {
   "cell_type": "markdown",
   "id": "1425d3d7",
   "metadata": {},
   "source": [
    "Now consider how you would annotate `deal_hands()`:"
   ]
  },
  {
   "cell_type": "code",
   "execution_count": null,
   "id": "f47188f5",
   "metadata": {},
   "outputs": [],
   "source": [
    "def deal_hands(\n",
    "    deck: List[Tuple[str, str]]\n",
    ") -> Tuple[\n",
    "    List[Tuple[str, str]],\n",
    "    List[Tuple[str, str]],\n",
    "    List[Tuple[str, str]],\n",
    "    List[Tuple[str, str]],\n",
    "]:\n",
    "    \"\"\"Deal the cards in the deck into four hands\"\"\"\n",
    "    return (deck[0::4], deck[1::4], deck[2::4], deck[3::4])"
   ]
  },
  {
   "cell_type": "markdown",
   "id": "062510eb",
   "metadata": {},
   "source": [
    "That’s just terrible!"
   ]
  },
  {
   "cell_type": "markdown",
   "id": "396b47c1",
   "metadata": {},
   "source": [
    "Recall that type annotations are regular Python expressions. That means that you can define your own type aliases by assigning them to new variables. You can for instance create `Card` and `Deck` type aliases:"
   ]
  },
  {
   "cell_type": "code",
   "execution_count": null,
   "id": "d0057d88",
   "metadata": {},
   "outputs": [],
   "source": [
    "from typing import List, Tuple\n",
    "\n",
    "Card = Tuple[str, str]\n",
    "Deck = List[Card]"
   ]
  },
  {
   "cell_type": "markdown",
   "id": "1b04e337",
   "metadata": {},
   "source": [
    "`Card` can now be used in type hints or in the definition of new type aliases, like `Deck` in the example above."
   ]
  },
  {
   "cell_type": "markdown",
   "id": "532f2d92",
   "metadata": {},
   "source": [
    "Using these aliases, the annotations of `deal_hands()` become much more readable:"
   ]
  },
  {
   "cell_type": "code",
   "execution_count": null,
   "id": "50b5af79",
   "metadata": {},
   "outputs": [],
   "source": [
    "def deal_hands(deck: Deck) -> Tuple[Deck, Deck, Deck, Deck]:\n",
    "    \"\"\"Deal the cards in the deck into four hands\"\"\"\n",
    "    return (deck[0::4], deck[1::4], deck[2::4], deck[3::4])"
   ]
  },
  {
   "cell_type": "markdown",
   "id": "531861ae",
   "metadata": {},
   "source": [
    "Type aliases are great for making your code and its intent clearer. At the same time, these aliases can be inspected to see what they represent:"
   ]
  },
  {
   "cell_type": "code",
   "execution_count": 2,
   "id": "44b195e7-e70e-415d-9021-314b986dd06f",
   "metadata": {},
   "outputs": [],
   "source": [
    "from typing import List, Tuple\n",
    "Card = Tuple[str, str]\n",
    "Deck = List[Card]"
   ]
  },
  {
   "cell_type": "code",
   "execution_count": 3,
   "id": "4d26936a-d876-4860-b7bc-da5c876088ae",
   "metadata": {},
   "outputs": [
    {
     "data": {
      "text/plain": [
       "typing.List[typing.Tuple[str, str]]"
      ]
     },
     "execution_count": 3,
     "metadata": {},
     "output_type": "execute_result"
    }
   ],
   "source": [
    "Deck"
   ]
  },
  {
   "cell_type": "markdown",
   "id": "b3cc98a3",
   "metadata": {},
   "source": [
    "Note that when printing `Deck`, it shows that it’s an alias for a list of 2-tuples of strings."
   ]
  },
  {
   "cell_type": "markdown",
   "id": "5198152e",
   "metadata": {},
   "source": [
    "<a class=\"anchor\" id=\"functions_without_return_values\"></a>\n",
    "\n",
    "### Functions Without Return Values"
   ]
  },
  {
   "cell_type": "markdown",
   "id": "5a8ba748",
   "metadata": {},
   "source": [
    "You may know that functions without an explicit return still return [`None`](https://realpython.com/null-in-python/):"
   ]
  },
  {
   "cell_type": "code",
   "execution_count": 4,
   "id": "ad634f77-8579-4e57-bda1-27cfcda716a3",
   "metadata": {},
   "outputs": [],
   "source": [
    "def play(player_name):\n",
    "    print(f\"{player_name} plays\")"
   ]
  },
  {
   "cell_type": "code",
   "execution_count": 5,
   "id": "d5540795-d3b1-45bd-a1ef-894e420ddece",
   "metadata": {},
   "outputs": [
    {
     "name": "stdout",
     "output_type": "stream",
     "text": [
      "Jacob plays\n"
     ]
    }
   ],
   "source": [
    "ret_val = play(\"Jacob\")"
   ]
  },
  {
   "cell_type": "code",
   "execution_count": 6,
   "id": "3b056750-1e24-4a3f-829a-172b6fee9c03",
   "metadata": {},
   "outputs": [
    {
     "name": "stdout",
     "output_type": "stream",
     "text": [
      "None\n"
     ]
    }
   ],
   "source": [
    "print(ret_val)"
   ]
  },
  {
   "cell_type": "markdown",
   "id": "8811c942",
   "metadata": {},
   "source": [
    "While such functions technically return something, that return value is not useful. You should add type hints saying as much by using `None` also as the return type:"
   ]
  },
  {
   "cell_type": "code",
   "execution_count": null,
   "id": "3dac4bc7",
   "metadata": {},
   "outputs": [],
   "source": [
    "# play.py\n",
    "\n",
    "def play(player_name: str) -> None:\n",
    "    print(f\"{player_name} plays\")\n",
    "\n",
    "ret_val = play(\"Filip\")"
   ]
  },
  {
   "cell_type": "markdown",
   "id": "38fc85be",
   "metadata": {},
   "source": [
    "The annotations help catch the kinds of subtle bugs where you are trying to use a meaningless return value. Mypy will give you a helpful warning:"
   ]
  },
  {
   "cell_type": "markdown",
   "id": "7f299660",
   "metadata": {},
   "source": [
    "```sh\n",
    "$ mypy play.py\n",
    "play.py:6: error: \"play\" does not return a value\n",
    "```"
   ]
  },
  {
   "cell_type": "markdown",
   "id": "5054f878",
   "metadata": {},
   "source": [
    "Note that being explicit about a function not returning anything is different from not adding a type hint about the return value:"
   ]
  },
  {
   "cell_type": "code",
   "execution_count": null,
   "id": "372380fd",
   "metadata": {},
   "outputs": [],
   "source": [
    "# play.py\n",
    "\n",
    "def play(player_name: str):\n",
    "    print(f\"{player_name} plays\")\n",
    "\n",
    "ret_val = play(\"Henrik\")"
   ]
  },
  {
   "cell_type": "markdown",
   "id": "3bffdcae",
   "metadata": {},
   "source": [
    "In this latter case Mypy has no information about the return value so it will not generate any warning:"
   ]
  },
  {
   "cell_type": "markdown",
   "id": "f7389eb8",
   "metadata": {},
   "source": [
    "```sh\n",
    "$ mypy play.py\n",
    "Success: no issues found in 1 source file\n",
    "```"
   ]
  },
  {
   "cell_type": "markdown",
   "id": "e5500658",
   "metadata": {},
   "source": [
    "As a more exotic case, note that you can also annotate functions that are never expected to return normally. This is done using [`NoReturn`](https://mypy.readthedocs.io/en/latest/more_types.html#the-noreturn-type):"
   ]
  },
  {
   "cell_type": "code",
   "execution_count": null,
   "id": "1a67bd94",
   "metadata": {},
   "outputs": [],
   "source": [
    "from typing import NoReturn\n",
    "\n",
    "def black_hole() -> NoReturn:\n",
    "    raise Exception(\"There is no going back ...\")"
   ]
  },
  {
   "cell_type": "markdown",
   "id": "afba2cf2",
   "metadata": {},
   "source": [
    "Since `black_hole()` always raises an exception, it will never return properly."
   ]
  },
  {
   "cell_type": "markdown",
   "id": "f9eeb882",
   "metadata": {},
   "source": [
    "<a class=\"anchor\" id=\"example:_play_some_cards\"></a>\n",
    "\n",
    "### Example: Play Some Cards"
   ]
  },
  {
   "cell_type": "markdown",
   "id": "72c0478e",
   "metadata": {},
   "source": [
    "Let’s return to our [card game example](#example-a-deck-of-cards). In this second version of the game, we deal a hand of cards to each player as before. Then a start player is chosen and the players take turns playing their cards. There are not really any rules in the game though, so the players will just play random cards:"
   ]
  },
  {
   "cell_type": "code",
   "execution_count": null,
   "id": "9fbc3e17",
   "metadata": {},
   "outputs": [],
   "source": [
    "# game.py\n",
    "\n",
    "import random\n",
    "from typing import List, Tuple\n",
    "\n",
    "SUITS = \"♠ ♡ ♢ ♣\".split()\n",
    "RANKS = \"2 3 4 5 6 7 8 9 10 J Q K A\".split()\n",
    "\n",
    "Card = Tuple[str, str]\n",
    "Deck = List[Card]\n",
    "\n",
    "def create_deck(shuffle: bool = False) -> Deck:\n",
    "    \"\"\"Create a new deck of 52 cards\"\"\"\n",
    "    deck = [(s, r) for r in RANKS for s in SUITS]\n",
    "    if shuffle:\n",
    "        random.shuffle(deck)\n",
    "    return deck\n",
    "\n",
    "def deal_hands(deck: Deck) -> Tuple[Deck, Deck, Deck, Deck]:\n",
    "    \"\"\"Deal the cards in the deck into four hands\"\"\"\n",
    "    return (deck[0::4], deck[1::4], deck[2::4], deck[3::4])\n",
    "\n",
    "def choose(items):\n",
    "    \"\"\"Choose and return a random item\"\"\"\n",
    "    return random.choice(items)\n",
    "\n",
    "def player_order(names, start=None):\n",
    "    \"\"\"Rotate player order so that start goes first\"\"\"\n",
    "    if start is None:\n",
    "        start = choose(names)\n",
    "    start_idx = names.index(start)\n",
    "    return names[start_idx:] + names[:start_idx]\n",
    "\n",
    "def play() -> None:\n",
    "    \"\"\"Play a 4-player card game\"\"\"\n",
    "    deck = create_deck(shuffle=True)\n",
    "    names = \"P1 P2 P3 P4\".split()\n",
    "    hands = {n: h for n, h in zip(names, deal_hands(deck))}\n",
    "    start_player = choose(names)\n",
    "    turn_order = player_order(names, start=start_player)\n",
    "\n",
    "    # Randomly play cards from each player's hand until empty\n",
    "    while hands[start_player]:\n",
    "        for name in turn_order:\n",
    "            card = choose(hands[name])\n",
    "            hands[name].remove(card)\n",
    "            print(f\"{name}: {card[0] + card[1]:<3}  \", end=\"\")\n",
    "        print()\n",
    "\n",
    "if __name__ == \"__main__\":\n",
    "    play()"
   ]
  },
  {
   "cell_type": "markdown",
   "id": "7f9c38a2",
   "metadata": {},
   "source": [
    "Note that in addition to changing `play()`, we have added two new functions that need type hints: `choose()` and `player_order()`. Before discussing how we’ll add type hints to them, here is an example output from running the game:"
   ]
  },
  {
   "cell_type": "markdown",
   "id": "29d07c64",
   "metadata": {},
   "source": [
    "```sh\n",
    "$ python game.py\n",
    "P3: ♢10  P4: ♣4   P1: ♡8   P2: ♡Q\n",
    "P3: ♣8   P4: ♠6   P1: ♠5   P2: ♡K\n",
    "P3: ♢9   P4: ♡J   P1: ♣A   P2: ♡A\n",
    "P3: ♠Q   P4: ♠3   P1: ♠7   P2: ♠A\n",
    "P3: ♡4   P4: ♡6   P1: ♣2   P2: ♠K\n",
    "P3: ♣K   P4: ♣7   P1: ♡7   P2: ♠2\n",
    "P3: ♣10  P4: ♠4   P1: ♢5   P2: ♡3\n",
    "P3: ♣Q   P4: ♢K   P1: ♣J   P2: ♡9\n",
    "P3: ♢2   P4: ♢4   P1: ♠9   P2: ♠10\n",
    "P3: ♢A   P4: ♡5   P1: ♠J   P2: ♢Q\n",
    "P3: ♠8   P4: ♢7   P1: ♢3   P2: ♢J\n",
    "P3: ♣3   P4: ♡10  P1: ♣9   P2: ♡2\n",
    "P3: ♢6   P4: ♣6   P1: ♣5   P2: ♢8\n",
    "```"
   ]
  },
  {
   "cell_type": "markdown",
   "id": "42791064",
   "metadata": {},
   "source": [
    "In this example, player `P3` was randomly chosen as the starting player. In turn, each player plays a card: first `P3`, then `P4`, then `P1`, and finally `P2`. The players keep playing cards as long as they have any left in their hand."
   ]
  },
  {
   "cell_type": "markdown",
   "id": "ea1bc5fb",
   "metadata": {},
   "source": [
    "<a class=\"anchor\" id=\"the_`any`_type\"></a>\n",
    "\n",
    "### The `Any` Type"
   ]
  },
  {
   "cell_type": "markdown",
   "id": "53e326ad",
   "metadata": {},
   "source": [
    "`choose()` works for both lists of names and lists of cards (and any other sequence for that matter). One way to add type hints for this would be the following:"
   ]
  },
  {
   "cell_type": "code",
   "execution_count": null,
   "id": "d04117fa",
   "metadata": {},
   "outputs": [],
   "source": [
    "import random\n",
    "from typing import Any, Sequence\n",
    "\n",
    "def choose(items: Sequence[Any]) -> Any:\n",
    "    return random.choice(items)"
   ]
  },
  {
   "cell_type": "markdown",
   "id": "afe818c3",
   "metadata": {},
   "source": [
    "This means more or less what it says: `items` is a sequence that can contain items of any type and `choose()` will return one such item of any type. Unfortunately, this is not that useful. Consider the following example:"
   ]
  },
  {
   "cell_type": "code",
   "execution_count": null,
   "id": "07f43bf0",
   "metadata": {},
   "outputs": [],
   "source": [
    "# choose.py\n",
    "\n",
    "import random\n",
    "from typing import Any, Sequence\n",
    "\n",
    "def choose(items: Sequence[Any]) -> Any:\n",
    "    return random.choice(items)\n",
    "\n",
    "names = [\"Guido\", \"Jukka\", \"Ivan\"]\n",
    "reveal_type(names)\n",
    "\n",
    "name = choose(names)\n",
    "reveal_type(name)"
   ]
  },
  {
   "cell_type": "markdown",
   "id": "28f2f563",
   "metadata": {},
   "source": [
    "While Mypy will correctly infer that `names` is a list of strings, that information is lost after the call to `choose()` because of the use of the `Any` type:"
   ]
  },
  {
   "cell_type": "markdown",
   "id": "047ca761",
   "metadata": {},
   "source": [
    "```sh\n",
    "$ mypy choose.py\n",
    "choose.py:10: note: Revealed type is 'builtins.list[builtins.str*]'\n",
    "choose.py:13: note: Revealed type is 'Any'\n",
    "```"
   ]
  },
  {
   "cell_type": "markdown",
   "id": "52448106",
   "metadata": {},
   "source": [
    "You’ll see a better way shortly. First though, let’s have a more theoretical look at the Python type system, and the special role `Any` plays."
   ]
  },
  {
   "cell_type": "markdown",
   "id": "b85aa167",
   "metadata": {},
   "source": [
    "<a class=\"anchor\" id=\"type_theory\"></a>\n",
    "\n",
    "## Type Theory"
   ]
  },
  {
   "cell_type": "markdown",
   "id": "a7f661cc",
   "metadata": {},
   "source": [
    "This tutorial is mainly a practical guide and we will only scratch the surface of the theory underpinning Python type hints. For more details [PEP 483](https://www.python.org/dev/peps/pep-0483/) is a good starting point. If you want to get back to the practical examples, feel free to [skip to the next section](#playing-with-python-types-part-2)."
   ]
  },
  {
   "cell_type": "markdown",
   "id": "d44a390c",
   "metadata": {},
   "source": [
    "<a class=\"anchor\" id=\"subtypes\"></a>\n",
    "\n",
    "### Subtypes"
   ]
  },
  {
   "cell_type": "markdown",
   "id": "52402498",
   "metadata": {},
   "source": [
    "One important concept is that of **subtypes**. Formally, we say that a type `T` is a subtype of `U` if the following two conditions hold:"
   ]
  },
  {
   "cell_type": "markdown",
   "id": "9370051b",
   "metadata": {},
   "source": [
    "- Every value from `T` is also in the set of values of `U` type.\n",
    "- Every function from `U` type is also in the set of functions of `T` type.\n"
   ]
  },
  {
   "cell_type": "markdown",
   "id": "2d8be729",
   "metadata": {},
   "source": [
    "These two conditions guarantees that even if type `T` is different from `U`, variables of type `T` can always pretend to be `U`."
   ]
  },
  {
   "cell_type": "markdown",
   "id": "f058d5d8",
   "metadata": {},
   "source": [
    "For a concrete example, consider `T = bool` and `U = int`. The `bool` type takes only two values. Usually these are denoted `True` and `False`, but these names are just aliases for the integer values `1` and `0`, respectively:"
   ]
  },
  {
   "cell_type": "code",
   "execution_count": 8,
   "id": "4768c581-ec39-486b-a242-c237731a61d0",
   "metadata": {},
   "outputs": [
    {
     "data": {
      "text/plain": [
       "0"
      ]
     },
     "execution_count": 8,
     "metadata": {},
     "output_type": "execute_result"
    }
   ],
   "source": [
    "int(False)"
   ]
  },
  {
   "cell_type": "code",
   "execution_count": 9,
   "id": "2ee2e91f-549b-4718-9500-c8511decf622",
   "metadata": {},
   "outputs": [
    {
     "data": {
      "text/plain": [
       "1"
      ]
     },
     "execution_count": 9,
     "metadata": {},
     "output_type": "execute_result"
    }
   ],
   "source": [
    "int(True)"
   ]
  },
  {
   "cell_type": "code",
   "execution_count": 10,
   "id": "e8d97538-efb5-4efc-b4e0-22de33bfa252",
   "metadata": {},
   "outputs": [
    {
     "data": {
      "text/plain": [
       "2"
      ]
     },
     "execution_count": 10,
     "metadata": {},
     "output_type": "execute_result"
    }
   ],
   "source": [
    "True + True"
   ]
  },
  {
   "cell_type": "code",
   "execution_count": 11,
   "id": "ce47eb3a-1f8f-4cb5-a916-310b6658efe6",
   "metadata": {},
   "outputs": [
    {
     "data": {
      "text/plain": [
       "True"
      ]
     },
     "execution_count": 11,
     "metadata": {},
     "output_type": "execute_result"
    }
   ],
   "source": [
    "issubclass(bool, int)"
   ]
  },
  {
   "cell_type": "markdown",
   "id": "b6447f01",
   "metadata": {},
   "source": [
    "Since 0 and 1 are both integers, the first condition holds. Above you can see that Booleans can be added together, but they can also do anything else integers can. This is the second condition above. In other words, `bool` is a subtype of `int`."
   ]
  },
  {
   "cell_type": "markdown",
   "id": "181ba817",
   "metadata": {},
   "source": [
    "The importance of subtypes is that a subtype can always pretend to be its supertype. For instance, the following code type checks as correct:"
   ]
  },
  {
   "cell_type": "code",
   "execution_count": 7,
   "id": "6c703639",
   "metadata": {},
   "outputs": [
    {
     "name": "stdout",
     "output_type": "stream",
     "text": [
      "2\n"
     ]
    }
   ],
   "source": [
    "def double(number: int) -> int:\n",
    "    return number * 2\n",
    "\n",
    "print(double(True))  # Passing in bool instead of int"
   ]
  },
  {
   "cell_type": "markdown",
   "id": "f6c6a20d",
   "metadata": {},
   "source": [
    "Subtypes are somewhat related to subclasses. In fact all subclasses corresponds to subtypes, and `bool` is a subtype of `int` because `bool` is a subclass of `int`. However, there are also subtypes that do not correspond to subclasses. For instance `int` is a subtype of `float`, but `int` is not a subclass of `float`."
   ]
  },
  {
   "cell_type": "markdown",
   "id": "c84777e4",
   "metadata": {},
   "source": [
    "<a class=\"anchor\" id=\"covariant,_contravariant,_and_invariant\"></a>\n",
    "\n",
    "### Covariant, Contravariant, and Invariant"
   ]
  },
  {
   "cell_type": "markdown",
   "id": "f294bbd7",
   "metadata": {},
   "source": [
    "What happens when you use subtypes inside composite types? For instance, is `Tuple[bool]` a subtype of `Tuple[int]`? The answer depends on the composite type, and whether that type is [covariant, contravariant, or invariant](https://en.wikipedia.org/wiki/Covariance_and_contravariance_%28computer_science%29). This gets technical fast, so let’s just give a few examples:"
   ]
  },
  {
   "cell_type": "markdown",
   "id": "0ac6044e",
   "metadata": {},
   "source": [
    "- \n",
    "`Tuple` is covariant. This means that it preserves the type hierarchy of its item types: `Tuple[bool]` is a subtype of `Tuple[int]` because `bool` is a subtype of `int`.\n",
    "\n",
    "\n",
    "\n",
    "- \n",
    "`List` is invariant. Invariant types give no guarantee about subtypes. While all values of `List[bool]` are values of `List[int]`, you can append an `int` to `List[int]` and not to `List[bool]`. In other words, the second condition for subtypes does not hold, and `List[bool]` is not a subtype of `List[int]`.\n",
    "\n",
    "\n",
    "\n",
    "- \n",
    "`Callable` is contravariant in its arguments. This means that it reverses the type hierarchy. You will see how `Callable` works [later](#callables), but for now think of `Callable[[T], ...]` as a function with its only argument being of type `T`. An example of a `Callable[[int], ...]` is the `double()` function defined above. Being contravariant means that if a function operating on a `bool` is expected, then a function operating on an `int` would be acceptable.\n",
    "\n",
    "\n",
    "\n"
   ]
  },
  {
   "cell_type": "markdown",
   "id": "a78fa68e",
   "metadata": {},
   "source": [
    "In general, you don’t need to keep these expression straight. However, you should be aware that subtypes and composite types may not be simple and intuitive."
   ]
  },
  {
   "cell_type": "markdown",
   "id": "103fd191",
   "metadata": {},
   "source": [
    "<a class=\"anchor\" id=\"gradual_typing_and_consistent_types\"></a>\n",
    "\n",
    "### Gradual Typing and Consistent Types"
   ]
  },
  {
   "cell_type": "markdown",
   "id": "32415c42",
   "metadata": {},
   "source": [
    "Earlier we mentioned that Python supports [gradual typing](http://wphomes.soic.indiana.edu/jsiek/what-is-gradual-typing/), where you can gradually add type hints to your Python code. Gradual typing is essentially made possible by the `Any` type."
   ]
  },
  {
   "cell_type": "markdown",
   "id": "dd101b1e",
   "metadata": {},
   "source": [
    "Somehow `Any` sits both at the top and at the bottom of the type hierarchy of subtypes. Any type behaves as if it is a subtype of `Any`, and `Any` behaves as if it is a subtype of any other type. Looking at the definition of subtypes above this is not really possible. Instead we talk about **consistent types**."
   ]
  },
  {
   "cell_type": "markdown",
   "id": "3465d9ee",
   "metadata": {},
   "source": [
    "The type `T` is consistent with the type `U` if `T` is a subtype of `U` or either `T` or `U` is `Any`."
   ]
  },
  {
   "cell_type": "markdown",
   "id": "09e76acd",
   "metadata": {},
   "source": [
    "The type checker only complains about inconsistent types. The takeaway is therefore that you will never see type errors arising from the `Any` type."
   ]
  },
  {
   "cell_type": "markdown",
   "id": "af9b521a",
   "metadata": {},
   "source": [
    "This means that you can use `Any` to explicitly fall back to dynamic typing, describe types that are too complex to describe in the Python type system, or describe items in composite types. For instance, a dictionary with string keys that can take any type as its values can be annotated `Dict[str, Any]`."
   ]
  },
  {
   "cell_type": "markdown",
   "id": "e277bb12",
   "metadata": {},
   "source": [
    "Do remember, though, if you use `Any` the static type checker will effectively not do any type any checking."
   ]
  },
  {
   "cell_type": "markdown",
   "id": "3d11c31b",
   "metadata": {},
   "source": [
    "<a class=\"anchor\" id=\"playing_with_python_types,_part_2\"></a>\n",
    "\n",
    "## Playing With Python Types, Part 2"
   ]
  },
  {
   "cell_type": "markdown",
   "id": "b72a6d02",
   "metadata": {},
   "source": [
    "Let’s return to our practical examples. Recall that you were trying to annotate the general `choose()` function:"
   ]
  },
  {
   "cell_type": "code",
   "execution_count": null,
   "id": "9615a93c",
   "metadata": {},
   "outputs": [],
   "source": [
    "import random\n",
    "from typing import Any, Sequence\n",
    "\n",
    "def choose(items: Sequence[Any]) -> Any:\n",
    "    return random.choice(items)"
   ]
  },
  {
   "cell_type": "markdown",
   "id": "c0fcdf90",
   "metadata": {},
   "source": [
    "The problem with using `Any` is that you are needlessly losing type information. You know that if you pass a list of strings to `choose()`, it will return a string. Below you’ll see how to express this using type variables, as well as how to work with:"
   ]
  },
  {
   "cell_type": "markdown",
   "id": "be0c3a22",
   "metadata": {},
   "source": [
    "- [Duck types and protocols](#duck-types-and-protocols)\n",
    "- Arguments with [`None` as default value](#the-optional-type)\n",
    "- [Class methods](#type-hints-for-methods)\n",
    "- [The type of your own classes](#classes-as-types)\n",
    "- [Variable number of arguments](#annotating-args-and-kwargs)\n"
   ]
  },
  {
   "cell_type": "markdown",
   "id": "69caebc4",
   "metadata": {},
   "source": [
    "<a class=\"anchor\" id=\"type_variables\"></a>\n",
    "\n",
    "### Type Variables"
   ]
  },
  {
   "cell_type": "markdown",
   "id": "86ee9295",
   "metadata": {},
   "source": [
    "A type variable is a special variable that can take on any type, depending on the situation."
   ]
  },
  {
   "cell_type": "markdown",
   "id": "49eb0901",
   "metadata": {},
   "source": [
    "Let’s create a type variable that will effectively encapsulate the behavior of `choose()`:"
   ]
  },
  {
   "cell_type": "code",
   "execution_count": null,
   "id": "ded25afb",
   "metadata": {},
   "outputs": [],
   "source": [
    "# choose.py\n",
    "\n",
    "import random\n",
    "from typing import Sequence, TypeVar\n",
    "\n",
    "Choosable = TypeVar(\"Choosable\")\n",
    "\n",
    "def choose(items: Sequence[Choosable]) -> Choosable:\n",
    "    return random.choice(items)\n",
    "\n",
    "names = [\"Guido\", \"Jukka\", \"Ivan\"]\n",
    "reveal_type(names)\n",
    "\n",
    "name = choose(names)\n",
    "reveal_type(name)"
   ]
  },
  {
   "cell_type": "markdown",
   "id": "ed857da2",
   "metadata": {},
   "source": [
    "A type variable must be defined using `TypeVar` from the `typing` module. When used, a type variable ranges over all possible types and takes the most specific type possible. In the example, `name` is now a `str`:"
   ]
  },
  {
   "cell_type": "markdown",
   "id": "e9227c75",
   "metadata": {},
   "source": [
    "```sh\n",
    "$ mypy choose.py\n",
    "choose.py:12: note: Revealed type is 'builtins.list[builtins.str*]'\n",
    "choose.py:15: note: Revealed type is 'builtins.str*'\n",
    "```"
   ]
  },
  {
   "cell_type": "markdown",
   "id": "35c79345",
   "metadata": {},
   "source": [
    "Consider a few other examples:"
   ]
  },
  {
   "cell_type": "code",
   "execution_count": null,
   "id": "d9654064",
   "metadata": {},
   "outputs": [],
   "source": [
    "# choose_examples.py\n",
    "\n",
    "from choose import choose\n",
    "\n",
    "reveal_type(choose([\"Guido\", \"Jukka\", \"Ivan\"]))\n",
    "reveal_type(choose([1, 2, 3]))\n",
    "reveal_type(choose([True, 42, 3.14]))\n",
    "reveal_type(choose([\"Python\", 3, 7])"
   ]
  },
  {
   "cell_type": "markdown",
   "id": "0b8792cf",
   "metadata": {},
   "source": [
    "The first two examples should have type `str` and `int`, but what about the last two? The individual list items have different types, and in that case the `Choosable` type variable does its best to accommodate:"
   ]
  },
  {
   "cell_type": "markdown",
   "id": "d738a12d",
   "metadata": {},
   "source": [
    "```sh\n",
    "$ mypy choose_examples.py\n",
    "choose_examples.py:5: note: Revealed type is 'builtins.str*'\n",
    "choose_examples.py:6: note: Revealed type is 'builtins.int*'\n",
    "choose_examples.py:7: note: Revealed type is 'builtins.float*'\n",
    "choose_examples.py:8: note: Revealed type is 'builtins.object*'\n",
    "```"
   ]
  },
  {
   "cell_type": "markdown",
   "id": "68db5d8f",
   "metadata": {},
   "source": [
    "As you’ve already seen `bool` is a subtype of `int`, which again is a subtype of `float`. So in the third example the return value of `choose()` is guaranteed to be something that can be thought of as a `float`. In the last example, there is no subtype relationship between `str` and `int`, so the best that can be said about the return value is that it is an object."
   ]
  },
  {
   "cell_type": "markdown",
   "id": "8dd14c05",
   "metadata": {},
   "source": [
    "Note that none of these examples raised a type error. Is there a way to tell the type checker that `choose()` should accept both strings and numbers, but not both at the same time?"
   ]
  },
  {
   "cell_type": "markdown",
   "id": "c9c068d4",
   "metadata": {},
   "source": [
    "You can constrain type variables by listing the acceptable types:"
   ]
  },
  {
   "cell_type": "code",
   "execution_count": null,
   "id": "e51c4ffa",
   "metadata": {},
   "outputs": [],
   "source": [
    "# choose.py\n",
    "\n",
    "import random\n",
    "from typing import Sequence, TypeVar\n",
    "\n",
    "Choosable = TypeVar(\"Choosable\", str, float)\n",
    "\n",
    "def choose(items: Sequence[Choosable]) -> Choosable:\n",
    "    return random.choice(items)\n",
    "\n",
    "reveal_type(choose([\"Guido\", \"Jukka\", \"Ivan\"]))\n",
    "reveal_type(choose([1, 2, 3]))\n",
    "reveal_type(choose([True, 42, 3.14]))\n",
    "reveal_type(choose([\"Python\", 3, 7]))"
   ]
  },
  {
   "cell_type": "markdown",
   "id": "e6bab0f0",
   "metadata": {},
   "source": [
    "Now `Choosable` can only be either `str` or `float`, and Mypy will note that the last example is an error:"
   ]
  },
  {
   "cell_type": "markdown",
   "id": "0ccd8e7b",
   "metadata": {},
   "source": [
    "```sh\n",
    "$ mypy choose.py\n",
    "choose.py:11: error: Revealed type is 'builtins.str*'\n",
    "choose.py:12: error: Revealed type is 'builtins.float*'\n",
    "choose.py:13: error: Revealed type is 'builtins.float*'\n",
    "choose.py:14: error: Revealed type is 'builtins.object*'\n",
    "choose.py:14: error: Value of type variable \"Choosable\" of \"choose\"\n",
    "                     cannot be \"object\"\n",
    "```"
   ]
  },
  {
   "cell_type": "markdown",
   "id": "c748a6d6",
   "metadata": {},
   "source": [
    "Also note that in the second example the type is considered `float` even though the input list only contains `int` objects. This is because `Choosable` was restricted to strings and floats and `int` is a subtype of `float`."
   ]
  },
  {
   "cell_type": "markdown",
   "id": "a82a7803",
   "metadata": {},
   "source": [
    "In our card game we want to restrict `choose()` to be used for `str` and `Card`:"
   ]
  },
  {
   "cell_type": "code",
   "execution_count": null,
   "id": "f216d6f9",
   "metadata": {},
   "outputs": [],
   "source": [
    "Choosable = TypeVar(\"Choosable\", str, Card)\n",
    "\n",
    "def choose(items: Sequence[Choosable]) -> Choosable:\n",
    "    ..."
   ]
  },
  {
   "cell_type": "markdown",
   "id": "350e2f31",
   "metadata": {},
   "source": [
    "We briefly mentioned that `Sequence` represents both lists and tuples. As we noted, a `Sequence` can be thought of as a duck type, since it can be any object with `.__len__()` and `.__getitem__()` implemented."
   ]
  },
  {
   "cell_type": "markdown",
   "id": "0de5d9fc",
   "metadata": {},
   "source": [
    "<a class=\"anchor\" id=\"duck_types_and_protocols\"></a>\n",
    "\n",
    "### Duck Types and Protocols"
   ]
  },
  {
   "cell_type": "markdown",
   "id": "c0afb90d",
   "metadata": {},
   "source": [
    "Recall the following example from [the introduction](#duck-typing):"
   ]
  },
  {
   "cell_type": "code",
   "execution_count": null,
   "id": "1805aca2",
   "metadata": {},
   "outputs": [],
   "source": [
    "def len(obj):\n",
    "    return obj.__len__()"
   ]
  },
  {
   "cell_type": "markdown",
   "id": "bbbdf516",
   "metadata": {},
   "source": [
    "`len()` can return the length of any object that has implemented the `.__len__()` method. How can we add type hints to `len()`, and in particular the `obj` argument?"
   ]
  },
  {
   "cell_type": "markdown",
   "id": "423892c9",
   "metadata": {},
   "source": [
    "The answer hides behind the academic sounding term [structural subtyping](https://en.wikipedia.org/wiki/Structural_type_system). One way to categorize type systems is by whether they are **nominal** or **structural**:"
   ]
  },
  {
   "cell_type": "markdown",
   "id": "5778bcf9",
   "metadata": {},
   "source": [
    "- \n",
    "In a **nominal** system, comparisons between types are based on names and declarations. The Python type system is mostly nominal, where an `int` can be used in place of a `float` because of their subtype relationship.\n",
    "\n",
    "\n",
    "\n",
    "- \n",
    "In a **structural** system, comparisons between types are based on structure. You could define a structural type `Sized` that includes all instances that define `.__len__()`, irrespective of their nominal type.\n",
    "\n",
    "\n",
    "\n"
   ]
  },
  {
   "cell_type": "markdown",
   "id": "e7eb8c54",
   "metadata": {},
   "source": [
    "There is ongoing work to bring a full-fledged structural type system to Python through [PEP 544](https://www.python.org/dev/peps/pep-0544/) which aims at adding a concept called protocols. Most of PEP 544 is already [implemented in Mypy](https://mypy.readthedocs.io/en/latest/protocols.html) though."
   ]
  },
  {
   "cell_type": "markdown",
   "id": "37897dac",
   "metadata": {},
   "source": [
    "A protocol specifies one or more methods that must be implemented. For example, all classes defining `.__len__()` fulfill the `typing.Sized` protocol. We can therefore annotate `len()` as follows:"
   ]
  },
  {
   "cell_type": "code",
   "execution_count": null,
   "id": "f6c6ad70",
   "metadata": {},
   "outputs": [],
   "source": [
    "from typing import Sized\n",
    "\n",
    "def len(obj: Sized) -> int:\n",
    "    return obj.__len__()"
   ]
  },
  {
   "cell_type": "markdown",
   "id": "f6ec8712",
   "metadata": {},
   "source": [
    "Other [examples of protocols](https://mypy.readthedocs.io/en/latest/protocols.html#predefined-protocols) defined in the `typing` module include `Container`, `Iterable`, `Awaitable`, and `ContextManager`."
   ]
  },
  {
   "cell_type": "markdown",
   "id": "e7ae1102",
   "metadata": {},
   "source": [
    "You can also define your own protocols. This is done by inheriting from `Protocol` and defining the function signatures (with empty function bodies) that the protocol expects. The following example shows how `len()` and `Sized` could have been implemented:"
   ]
  },
  {
   "cell_type": "code",
   "execution_count": null,
   "id": "e79fbef6",
   "metadata": {},
   "outputs": [],
   "source": [
    "from typing_extensions import Protocol\n",
    "\n",
    "class Sized(Protocol):\n",
    "    def __len__(self) -> int: ...\n",
    "\n",
    "def len(obj: Sized) -> int:\n",
    "    return obj.__len__()"
   ]
  },
  {
   "cell_type": "markdown",
   "id": "d61036c7",
   "metadata": {},
   "source": [
    "At the time of writing the support for self-defined protocols is still experimental and only available through the `typing_extensions` module. This module must be explicitly installed from [PyPI](https://pypi.org/project/typing-extensions/) by doing `pip install typing-extensions`."
   ]
  },
  {
   "cell_type": "markdown",
   "id": "a88c58ad",
   "metadata": {},
   "source": [
    "<a class=\"anchor\" id=\"the_`optional`_type\"></a>\n",
    "\n",
    "### The `Optional` Type"
   ]
  },
  {
   "cell_type": "markdown",
   "id": "04a9a5cf",
   "metadata": {},
   "source": [
    "A common pattern in Python is to use `None` as a default value for an argument. This is usually done either to avoid problems with [mutable default values](https://docs.quantifiedcode.com/python-anti-patterns/correctness/mutable_default_value_as_argument.html) or to have a sentinel value flagging special behavior."
   ]
  },
  {
   "cell_type": "markdown",
   "id": "ed643fb2",
   "metadata": {},
   "source": [
    "In the card example, the `player_order()` function uses `None` as a sentinel value for `start` saying that if no start player is given it should be chosen randomly:"
   ]
  },
  {
   "cell_type": "code",
   "execution_count": null,
   "id": "6c1a3234",
   "metadata": {},
   "outputs": [],
   "source": [
    "def player_order(names, start=None):\n",
    "    \"\"\"Rotate player order so that start goes first\"\"\"\n",
    "    if start is None:\n",
    "        start = choose(names)\n",
    "    start_idx = names.index(start)\n",
    "    return names[start_idx:] + names[:start_idx]"
   ]
  },
  {
   "cell_type": "markdown",
   "id": "6895138b",
   "metadata": {},
   "source": [
    "The challenge this creates for type hinting is that in general `start` should be a string. However, it may also take the special non-string value `None`."
   ]
  },
  {
   "cell_type": "markdown",
   "id": "6f4cab01",
   "metadata": {},
   "source": [
    "In order to annotate such arguments you can use the `Optional` type:"
   ]
  },
  {
   "cell_type": "code",
   "execution_count": null,
   "id": "baad2dce",
   "metadata": {},
   "outputs": [],
   "source": [
    "from typing import Sequence, Optional\n",
    "\n",
    "def player_order(\n",
    "    names: Sequence[str], start: Optional[str] = None\n",
    ") -> Sequence[str]:\n",
    "    ..."
   ]
  },
  {
   "cell_type": "markdown",
   "id": "dc09a239",
   "metadata": {},
   "source": [
    "The `Optional` type simply says that a variable either has the type specified or is `None`. An equivalent way of specifying the same would be using the `Union` type: `Union[None, str]`"
   ]
  },
  {
   "cell_type": "markdown",
   "id": "7d886bb8",
   "metadata": {},
   "source": [
    "Note that when using either `Optional` or `Union` you must take care that the variable has the correct type when you operate on it. This is done in the example by testing whether `start is None`. Not doing so would cause both static type errors as well as possible runtime errors:"
   ]
  },
  {
   "cell_type": "code",
   "execution_count": null,
   "id": "63cabeac",
   "metadata": {},
   "outputs": [],
   "source": [
    "# player_order.py\n",
    "\n",
    "from typing import Sequence, Optional\n",
    "\n",
    "def player_order(\n",
    "    names: Sequence[str], start: Optional[str] = None\n",
    ") -> Sequence[str]:\n",
    "    start_idx = names.index(start)\n",
    "    return names[start_idx:] + names[:start_idx]"
   ]
  },
  {
   "cell_type": "markdown",
   "id": "128e1c22",
   "metadata": {},
   "source": [
    "Mypy tells you that you have not taken care of the case where `start` is `None`:"
   ]
  },
  {
   "cell_type": "markdown",
   "id": "e96432c0",
   "metadata": {},
   "source": [
    "```sh\n",
    "$ mypy player_order.py\n",
    "player_order.py:8: error: Argument 1 to \"index\" of \"list\" has incompatible\n",
    "                          type \"Optional[str]\"; expected \"str\"\n",
    "```"
   ]
  },
  {
   "cell_type": "markdown",
   "id": "9a2f2f57",
   "metadata": {},
   "source": [
    "<a class=\"anchor\" id=\"example:_the_object(ive)_of_the_game\"></a>\n",
    "\n",
    "### Example: The Object(ive) of the Game"
   ]
  },
  {
   "cell_type": "markdown",
   "id": "6a0a7268",
   "metadata": {},
   "source": [
    "Let’s rewrite the card game to be more [object-oriented](https://realpython.com/python3-object-oriented-programming/). This will allow us to discuss how to properly annotate classes and methods."
   ]
  },
  {
   "cell_type": "markdown",
   "id": "a3c7e00c",
   "metadata": {},
   "source": [
    "A more or less direct translation of our card game into code that uses classes for `Card`, `Deck`, `Player`, and `Game` looks something like the following:"
   ]
  },
  {
   "cell_type": "code",
   "execution_count": null,
   "id": "d154e424",
   "metadata": {},
   "outputs": [],
   "source": [
    "# game.py\n",
    "\n",
    "import random\n",
    "import sys\n",
    "\n",
    "class Card:\n",
    "    SUITS = \"♠ ♡ ♢ ♣\".split()\n",
    "    RANKS = \"2 3 4 5 6 7 8 9 10 J Q K A\".split()\n",
    "\n",
    "    def __init__(self, suit, rank):\n",
    "        self.suit = suit\n",
    "        self.rank = rank\n",
    "\n",
    "    def __repr__(self):\n",
    "        return f\"{self.suit}{self.rank}\"\n",
    "\n",
    "class Deck:\n",
    "    def __init__(self, cards):\n",
    "        self.cards = cards\n",
    "\n",
    "    @classmethod\n",
    "    def create(cls, shuffle=False):\n",
    "        \"\"\"Create a new deck of 52 cards\"\"\"\n",
    "        cards = [Card(s, r) for r in Card.RANKS for s in Card.SUITS]\n",
    "        if shuffle:\n",
    "            random.shuffle(cards)\n",
    "        return cls(cards)\n",
    "\n",
    "    def deal(self, num_hands):\n",
    "        \"\"\"Deal the cards in the deck into a number of hands\"\"\"\n",
    "        cls = self.__class__\n",
    "        return tuple(cls(self.cards[i::num_hands]) for i in range(num_hands))\n",
    "\n",
    "class Player:\n",
    "    def __init__(self, name, hand):\n",
    "        self.name = name\n",
    "        self.hand = hand\n",
    "\n",
    "    def play_card(self):\n",
    "        \"\"\"Play a card from the player's hand\"\"\"\n",
    "        card = random.choice(self.hand.cards)\n",
    "        self.hand.cards.remove(card)\n",
    "        print(f\"{self.name}: {card!r:<3}  \", end=\"\")\n",
    "        return card\n",
    "\n",
    "class Game:\n",
    "    def __init__(self, *names):\n",
    "        \"\"\"Set up the deck and deal cards to 4 players\"\"\"\n",
    "        deck = Deck.create(shuffle=True)\n",
    "        self.names = (list(names) + \"P1 P2 P3 P4\".split())[:4]\n",
    "        self.hands = {\n",
    "            n: Player(n, h) for n, h in zip(self.names, deck.deal(4))\n",
    "        }\n",
    "\n",
    "    def play(self):\n",
    "        \"\"\"Play a card game\"\"\"\n",
    "        start_player = random.choice(self.names)\n",
    "        turn_order = self.player_order(start=start_player)\n",
    "\n",
    "        # Play cards from each player's hand until empty\n",
    "        while self.hands[start_player].hand.cards:\n",
    "            for name in turn_order:\n",
    "                self.hands[name].play_card()\n",
    "            print()\n",
    "\n",
    "    def player_order(self, start=None):\n",
    "        \"\"\"Rotate player order so that start goes first\"\"\"\n",
    "        if start is None:\n",
    "            start = random.choice(self.names)\n",
    "        start_idx = self.names.index(start)\n",
    "        return self.names[start_idx:] + self.names[:start_idx]\n",
    "\n",
    "if __name__ == \"__main__\":\n",
    "    # Read player names from command line\n",
    "    player_names = sys.argv[1:]\n",
    "    game = Game(*player_names)\n",
    "    game.play()"
   ]
  },
  {
   "cell_type": "markdown",
   "id": "dbed953b",
   "metadata": {},
   "source": [
    "Now let’s add types to this code."
   ]
  },
  {
   "cell_type": "markdown",
   "id": "3a7fe936",
   "metadata": {},
   "source": [
    "<a class=\"anchor\" id=\"type_hints_for_methods\"></a>\n",
    "\n",
    "### Type Hints for Methods"
   ]
  },
  {
   "cell_type": "markdown",
   "id": "4082dce7",
   "metadata": {},
   "source": [
    "First of all type hints for methods work much the same as type hints for functions. The only difference is that the `self` argument need not be annotated, as it always will be a class instance. The types of the `Card` class are easy to add:"
   ]
  },
  {
   "cell_type": "code",
   "execution_count": null,
   "id": "e4c217cd",
   "metadata": {},
   "outputs": [],
   "source": [
    "class Card:\n",
    "    SUITS = \"♠ ♡ ♢ ♣\".split()\n",
    "    RANKS = \"2 3 4 5 6 7 8 9 10 J Q K A\".split()\n",
    "\n",
    "    def __init__(self, suit: str, rank: str) -> None:\n",
    "        self.suit = suit\n",
    "        self.rank = rank\n",
    "\n",
    "    def __repr__(self) -> str:\n",
    "        return f\"{self.suit}{self.rank}\""
   ]
  },
  {
   "cell_type": "markdown",
   "id": "b1693592",
   "metadata": {},
   "source": [
    "Note that the `.__init__()` method always should have `None` as its return type."
   ]
  },
  {
   "cell_type": "markdown",
   "id": "a6ea78c1",
   "metadata": {},
   "source": [
    "<a class=\"anchor\" id=\"classes_as_types\"></a>\n",
    "\n",
    "### Classes as Types"
   ]
  },
  {
   "cell_type": "markdown",
   "id": "30165620",
   "metadata": {},
   "source": [
    "There is a correspondence between classes and types. For example, all instances of the `Card` class together form the `Card` type. To use classes as types you simply use the name of the class."
   ]
  },
  {
   "cell_type": "markdown",
   "id": "9b9be403",
   "metadata": {},
   "source": [
    "For example, a `Deck` essentially consists of a list of `Card` objects. You can annotate this as follows:"
   ]
  },
  {
   "cell_type": "code",
   "execution_count": null,
   "id": "b79619bf",
   "metadata": {},
   "outputs": [],
   "source": [
    "class Deck:\n",
    "    def __init__(self, cards: List[Card]) -> None:\n",
    "        self.cards = cards"
   ]
  },
  {
   "cell_type": "markdown",
   "id": "bd7a0d64",
   "metadata": {},
   "source": [
    "Mypy is able to connect your use of `Card` in the annotation with the definition of the `Card` class."
   ]
  },
  {
   "cell_type": "markdown",
   "id": "977c1a71",
   "metadata": {},
   "source": [
    "This doesn’t work as cleanly though when you need to refer to the class currently being defined. For example, the `Deck.create()` [class method](https://realpython.com/instance-class-and-static-methods-demystified/) returns an object with type `Deck`. However, you can’t simply add `-> Deck` as the `Deck` class is not yet fully defined."
   ]
  },
  {
   "cell_type": "markdown",
   "id": "19e402fd",
   "metadata": {},
   "source": [
    "Instead, you are allowed to use string literals in annotations. These strings will only be evaluated by the type checker later, and can therefore contain self and forward references. The `.create()` method should use such string literals for its types:"
   ]
  },
  {
   "cell_type": "code",
   "execution_count": null,
   "id": "b0d35ca0",
   "metadata": {},
   "outputs": [],
   "source": [
    "class Deck:\n",
    "    @classmethod\n",
    "    def create(cls, shuffle: bool = False) -> \"Deck\":\n",
    "        \"\"\"Create a new deck of 52 cards\"\"\"\n",
    "        cards = [Card(s, r) for r in Card.RANKS for s in Card.SUITS]\n",
    "        if shuffle:\n",
    "            random.shuffle(cards)\n",
    "        return cls(cards)"
   ]
  },
  {
   "cell_type": "markdown",
   "id": "2587c974",
   "metadata": {},
   "source": [
    "Note that the `Player` class also will reference the `Deck` class. This is however no problem, since `Deck` is defined before `Player`:"
   ]
  },
  {
   "cell_type": "code",
   "execution_count": null,
   "id": "178d8633",
   "metadata": {},
   "outputs": [],
   "source": [
    "class Player:\n",
    "    def __init__(self, name: str, hand: Deck) -> None:\n",
    "        self.name = name\n",
    "        self.hand = hand"
   ]
  },
  {
   "cell_type": "markdown",
   "id": "44d0fd60",
   "metadata": {},
   "source": [
    "Usually annotations are not used at runtime. This has given wings to the idea of [postponing the evaluation of annotations](https://www.python.org/dev/peps/pep-0563/). Instead of evaluating annotations as Python expressions and storing their value, the proposal is to store the string representation of the annotation and only evaluate it when needed."
   ]
  },
  {
   "cell_type": "markdown",
   "id": "5c3ebf0c",
   "metadata": {},
   "source": [
    "Such functionality is planned to become standard in the still mythical [Python 4.0](http://www.curiousefficiency.org/posts/2014/08/python-4000.html). However, in [Python 3.7](https://realpython.com/python37-new-features/) and later, forward references are available through a `__future__` import:"
   ]
  },
  {
   "cell_type": "code",
   "execution_count": null,
   "id": "7920bb1d",
   "metadata": {},
   "outputs": [],
   "source": [
    "from __future__ import annotations\n",
    "\n",
    "class Deck:\n",
    "    @classmethod\n",
    "    def create(cls, shuffle: bool = False) -> Deck:\n",
    "        ..."
   ]
  },
  {
   "cell_type": "markdown",
   "id": "23a1ff06",
   "metadata": {},
   "source": [
    "With the `__future__` import you can use `Deck` instead of `\"Deck\"` even before `Deck` is defined."
   ]
  },
  {
   "cell_type": "markdown",
   "id": "686696a7",
   "metadata": {},
   "source": [
    "<a class=\"anchor\" id=\"returning_`self`_or_`cls`\"></a>\n",
    "\n",
    "### Returning `self` or `cls`"
   ]
  },
  {
   "cell_type": "markdown",
   "id": "f6114c49",
   "metadata": {},
   "source": [
    "As noted, you should typically not annotate the `self` or `cls` arguments. Partly, this is not necessary as `self` points to an instance of the class, so it will have the type of the class. In the `Card` example, `self` has the implicit type `Card`. Also, adding this type explicitly would be cumbersome since the class is not defined yet. You would have to use the string literal syntax, `self: \"Card\"`."
   ]
  },
  {
   "cell_type": "markdown",
   "id": "e2c108e7",
   "metadata": {},
   "source": [
    "There is one case where you might want to annotate `self` or `cls`, though. Consider what happens if you have a superclass that other classes inherit from, and which has methods that return `self` or `cls`:"
   ]
  },
  {
   "cell_type": "code",
   "execution_count": null,
   "id": "8bb6271d",
   "metadata": {},
   "outputs": [],
   "source": [
    "# dogs.py\n",
    "\n",
    "from datetime import date\n",
    "\n",
    "class Animal:\n",
    "    def __init__(self, name: str, birthday: date) -> None:\n",
    "        self.name = name\n",
    "        self.birthday = birthday\n",
    "\n",
    "    @classmethod\n",
    "    def newborn(cls, name: str) -> \"Animal\":\n",
    "        return cls(name, date.today())\n",
    "\n",
    "    def twin(self, name: str) -> \"Animal\":\n",
    "        cls = self.__class__\n",
    "        return cls(name, self.birthday)\n",
    "\n",
    "class Dog(Animal):\n",
    "    def bark(self) -> None:\n",
    "        print(f\"{self.name} says woof!\")\n",
    "\n",
    "fido = Dog.newborn(\"Fido\")\n",
    "pluto = fido.twin(\"Pluto\")\n",
    "fido.bark()\n",
    "pluto.bark()"
   ]
  },
  {
   "cell_type": "markdown",
   "id": "a530bf47",
   "metadata": {},
   "source": [
    "While the code runs without problems, Mypy will flag a problem:"
   ]
  },
  {
   "cell_type": "markdown",
   "id": "ccea145d",
   "metadata": {},
   "source": [
    "```sh\n",
    "$ mypy dogs.py\n",
    "dogs.py:24: error: \"Animal\" has no attribute \"bark\"\n",
    "dogs.py:25: error: \"Animal\" has no attribute \"bark\"\n",
    "```"
   ]
  },
  {
   "cell_type": "markdown",
   "id": "f8877716",
   "metadata": {},
   "source": [
    "The issue is that even though the inherited `Dog.newborn()` and `Dog.twin()` methods will return a `Dog` the annotation says that they return an `Animal`."
   ]
  },
  {
   "cell_type": "markdown",
   "id": "9a5c8b20",
   "metadata": {},
   "source": [
    "In cases like this you want to be more careful to make sure the annotation is correct. The return type should match the type of `self` or the instance type of `cls`. This can be done using type variables that keep track of what is actually passed to `self` and `cls`:"
   ]
  },
  {
   "cell_type": "code",
   "execution_count": null,
   "id": "8f0893d6",
   "metadata": {},
   "outputs": [],
   "source": [
    "# dogs.py\n",
    "\n",
    "from datetime import date\n",
    "from typing import Type, TypeVar\n",
    "\n",
    "TAnimal = TypeVar(\"TAnimal\", bound=\"Animal\")\n",
    "\n",
    "class Animal:\n",
    "    def __init__(self, name: str, birthday: date) -> None:\n",
    "        self.name = name\n",
    "        self.birthday = birthday\n",
    "\n",
    "    @classmethod\n",
    "    def newborn(cls: Type[TAnimal], name: str) -> TAnimal:\n",
    "        return cls(name, date.today())\n",
    "\n",
    "    def twin(self: TAnimal, name: str) -> TAnimal:\n",
    "        cls = self.__class__\n",
    "        return cls(name, self.birthday)\n",
    "\n",
    "class Dog(Animal):\n",
    "    def bark(self) -> None:\n",
    "        print(f\"{self.name} says woof!\")\n",
    "\n",
    "fido = Dog.newborn(\"Fido\")\n",
    "pluto = fido.twin(\"Pluto\")\n",
    "fido.bark()\n",
    "pluto.bark()"
   ]
  },
  {
   "cell_type": "markdown",
   "id": "19d6c079",
   "metadata": {},
   "source": [
    "There are a few things to note in this example:"
   ]
  },
  {
   "cell_type": "markdown",
   "id": "bd695ebd",
   "metadata": {},
   "source": [
    "- \n",
    "The type variable `TAnimal` is used to denote that return values might be instances of subclasses of `Animal`.\n",
    "\n",
    "\n",
    "\n",
    "- \n",
    "We specify that `Animal` is an upper bound for `TAnimal`. Specifying `bound` means that `TAnimal` will only be `Animal` or one of its subclasses. This is needed to properly restrict the types that are allowed.\n",
    "\n",
    "\n",
    "\n",
    "- \n",
    "The `typing.Type[]` construct is the typing equivalent of `type()`. You need it to note that the class method expects a class and returns an instance of that class.\n",
    "\n",
    "\n",
    "\n"
   ]
  },
  {
   "cell_type": "markdown",
   "id": "6e254ac3",
   "metadata": {},
   "source": [
    "<a class=\"anchor\" id=\"annotating_`*args`_and_`**kwargs`\"></a>\n",
    "\n",
    "### Annotating `*args` and `**kwargs`"
   ]
  },
  {
   "cell_type": "markdown",
   "id": "c14bac8a",
   "metadata": {},
   "source": [
    "In the [object oriented version](#example-the-objective-of-the-game) of the game, we added the option to name the players on the command line. This is done by listing player names after the name of the program:"
   ]
  },
  {
   "cell_type": "markdown",
   "id": "47a09f92",
   "metadata": {},
   "source": [
    "```sh\n",
    "$ python game.py GeirArne Dan Joanna\n",
    "Dan: ♢A   Joanna: ♡9   P1: ♣A   GeirArne: ♣2\n",
    "Dan: ♡A   Joanna: ♡6   P1: ♠4   GeirArne: ♢8\n",
    "Dan: ♢K   Joanna: ♢Q   P1: ♣K   GeirArne: ♠5\n",
    "Dan: ♡2   Joanna: ♡J   P1: ♠7   GeirArne: ♡K\n",
    "Dan: ♢10  Joanna: ♣3   P1: ♢4   GeirArne: ♠8\n",
    "Dan: ♣6   Joanna: ♡Q   P1: ♣Q   GeirArne: ♢J\n",
    "Dan: ♢2   Joanna: ♡4   P1: ♣8   GeirArne: ♡7\n",
    "Dan: ♡10  Joanna: ♢3   P1: ♡3   GeirArne: ♠2\n",
    "Dan: ♠K   Joanna: ♣5   P1: ♣7   GeirArne: ♠J\n",
    "Dan: ♠6   Joanna: ♢9   P1: ♣J   GeirArne: ♣10\n",
    "Dan: ♠3   Joanna: ♡5   P1: ♣9   GeirArne: ♠Q\n",
    "Dan: ♠A   Joanna: ♠9   P1: ♠10  GeirArne: ♡8\n",
    "Dan: ♢6   Joanna: ♢5   P1: ♢7   GeirArne: ♣4\n",
    "```"
   ]
  },
  {
   "cell_type": "markdown",
   "id": "e696ffaf",
   "metadata": {},
   "source": [
    "This is implemented by unpacking and passing in `sys.argv` to `Game()` when it’s instantiated. The `.__init__()` method uses `*names` to pack the given names into a tuple."
   ]
  },
  {
   "cell_type": "markdown",
   "id": "1f72d1f8",
   "metadata": {},
   "source": [
    "Regarding type annotations: even though `names` will be a tuple of strings, you should only annotate the type of each name. In other words, you should use `str` and not `Tuple[str]`:"
   ]
  },
  {
   "cell_type": "code",
   "execution_count": null,
   "id": "0d35bb68",
   "metadata": {},
   "outputs": [],
   "source": [
    "class Game:\n",
    "    def __init__(self, *names: str) -> None:\n",
    "        \"\"\"Set up the deck and deal cards to 4 players\"\"\"\n",
    "        deck = Deck.create(shuffle=True)\n",
    "        self.names = (list(names) + \"P1 P2 P3 P4\".split())[:4]\n",
    "        self.hands = {\n",
    "            n: Player(n, h) for n, h in zip(self.names, deck.deal(4))\n",
    "        }"
   ]
  },
  {
   "cell_type": "markdown",
   "id": "d3fc6b50",
   "metadata": {},
   "source": [
    "Similarly, if you have a function or method accepting [`**kwargs`](https://realpython.com/python-kwargs-and-args/), then you should only annotate the type of each possible keyword argument."
   ]
  },
  {
   "cell_type": "markdown",
   "id": "22ea3981",
   "metadata": {},
   "source": [
    "<a class=\"anchor\" id=\"callables\"></a>\n",
    "\n",
    "### Callables"
   ]
  },
  {
   "cell_type": "markdown",
   "id": "bdde2a95",
   "metadata": {},
   "source": [
    "Functions are [first-class objects](https://dbader.org/blog/python-first-class-functions) in Python. This means that you can use functions as arguments to other functions. That also means that you need to be able to add type hints representing functions."
   ]
  },
  {
   "cell_type": "markdown",
   "id": "d101ff1b",
   "metadata": {},
   "source": [
    "Functions, as well as lambdas, methods and classes, are [represented by `typing.Callable`](https://mypy.readthedocs.io/en/latest/kinds_of_types.html#callable-types-and-lambdas). The types of the arguments and the return value are usually also represented. For instance, `Callable[[A1, A2, A3], Rt]` represents a function with three arguments with types `A1`, `A2`, and `A3`, respectively. The return type of the function is `Rt`."
   ]
  },
  {
   "cell_type": "markdown",
   "id": "00435ae6",
   "metadata": {},
   "source": [
    "In the following example, the function `do_twice()` calls a given function twice and prints the return values:"
   ]
  },
  {
   "cell_type": "code",
   "execution_count": null,
   "id": "e6bad206",
   "metadata": {},
   "outputs": [],
   "source": [
    "# do_twice.py\n",
    "\n",
    "from typing import Callable\n",
    "\n",
    "def do_twice(func: Callable[[str], str], argument: str) -> None:\n",
    "    print(func(argument))\n",
    "    print(func(argument))\n",
    "\n",
    "def create_greeting(name: str) -> str:\n",
    "    return f\"Hello {name}\"\n",
    "\n",
    "do_twice(create_greeting, \"Jekyll\")"
   ]
  },
  {
   "cell_type": "markdown",
   "id": "534abd99",
   "metadata": {},
   "source": [
    "Note the annotation of the `func` argument to `do_twice()` on line 5. It says that `func` should be a callable with one string argument, that also returns a string. One example of such a callable is `create_greeting()` defined on line 9."
   ]
  },
  {
   "cell_type": "markdown",
   "id": "fcb3793c",
   "metadata": {},
   "source": [
    "Most callable types can be annotated in a similar manner. However, if you need more flexibility, check out [callback protocols](https://mypy.readthedocs.io/en/latest/protocols.html#callback-protocols) and [extended callable types](https://mypy.readthedocs.io/en/latest/additional_features.html#extended-callable-types)."
   ]
  },
  {
   "cell_type": "markdown",
   "id": "875d340f",
   "metadata": {},
   "source": [
    "<a class=\"anchor\" id=\"example:_hearts\"></a>\n",
    "\n",
    "### Example: Hearts"
   ]
  },
  {
   "cell_type": "markdown",
   "id": "b4764ee5",
   "metadata": {},
   "source": [
    "Let’s end with a full example of the game of [Hearts](https://en.wikipedia.org/wiki/Hearts). You might already know this game from other computer simulations. Here is a quick recap of the rules:"
   ]
  },
  {
   "cell_type": "markdown",
   "id": "27ee048c",
   "metadata": {},
   "source": [
    "- \n",
    "Four players play with a hand of 13 cards each.\n",
    "\n",
    "\n",
    "\n",
    "- \n",
    "The player holding the ♣2 starts the first round, and must play ♣2.\n",
    "\n",
    "\n",
    "\n",
    "- \n",
    "Players take turns playing cards, following the leading suit if possible.\n",
    "\n",
    "\n",
    "\n",
    "- \n",
    "The player playing the highest card in the leading suit wins the trick, and becomes start player in the next turn.\n",
    "\n",
    "\n",
    "\n",
    "- \n",
    "A player can not lead with a ♡ until a ♡ has already been played in an earlier trick.\n",
    "\n",
    "\n",
    "\n",
    "- \n",
    "After all cards are played, players get points if they take certain cards:\n",
    "\n",
    "\n",
    "* 13 points for the ♠Q\n",
    "* 1 point for each ♡\n",
    "\n",
    "\n",
    "\n",
    "- \n",
    "A game lasts several rounds, until one player has 100 points or more. The player with the least points wins.\n",
    "\n",
    "\n",
    "\n"
   ]
  },
  {
   "cell_type": "markdown",
   "id": "44de299e",
   "metadata": {},
   "source": [
    "More details can be found [found online](https://www.bicyclecards.com/how-to-play/hearts)."
   ]
  },
  {
   "cell_type": "markdown",
   "id": "5bf4fd93",
   "metadata": {},
   "source": [
    "There are not many new typing concepts in this example that you have not already seen. We’ll therefore not go through this code in detail, but leave it as an example of annotated code."
   ]
  },
  {
   "cell_type": "markdown",
   "id": "0afbd715",
   "metadata": {},
   "source": [
    "Here are a few points to note in the code:"
   ]
  },
  {
   "cell_type": "markdown",
   "id": "2b48d7b0",
   "metadata": {},
   "source": [
    "- \n",
    "For type relationships that are hard to express using `Union` or type variables, you can use the `@overload` decorator. See `Deck.__getitem__()` for an example and [the documentation](https://mypy.readthedocs.io/en/latest/more_types.html#function-overloading) for more information.\n",
    "\n",
    "\n",
    "\n",
    "- \n",
    "Subclasses correspond to subtypes, so that a `HumanPlayer` can be used wherever a `Player` is expected.\n",
    "\n",
    "\n",
    "\n",
    "- \n",
    "When a subclass reimplements a method from a superclass, the type annotations must match. See `HumanPlayer.play_card()` for an example.\n",
    "\n",
    "\n",
    "\n"
   ]
  },
  {
   "cell_type": "markdown",
   "id": "18144731",
   "metadata": {},
   "source": [
    "When starting the game, you control the first player. Enter numbers to choose which cards to play. The following is an example of game play, with the highlighted lines showing where the player made a choice:"
   ]
  },
  {
   "cell_type": "markdown",
   "id": "2bae7b7c",
   "metadata": {},
   "source": [
    "```sh\n",
    "$ python hearts.py GeirArne Aldren Joanna Brad\n",
    "\n",
    "Starting new round:\n",
    "Brad -> ♣2\n",
    "  0: ♣5  1: ♣Q  2: ♣K  (Rest: ♢6 ♡10 ♡6 ♠J ♡3 ♡9 ♢10 ♠7 ♠K ♠4)\n",
    "  GeirArne, choose card: 2\n",
    "GeirArne => ♣K\n",
    "Aldren -> ♣10\n",
    "Joanna -> ♣9\n",
    "GeirArne wins the trick\n",
    "\n",
    "  0: ♠4  1: ♣5  2: ♢6  3: ♠7  4: ♢10  5: ♠J  6: ♣Q  7: ♠K  (Rest: ♡10 ♡6 ♡3 ♡9)\n",
    "  GeirArne, choose card: 0\n",
    "GeirArne => ♠4\n",
    "Aldren -> ♠5\n",
    "Joanna -> ♠3\n",
    "Brad -> ♠2\n",
    "Aldren wins the trick\n",
    "\n",
    "...\n",
    "\n",
    "Joanna -> ♡J\n",
    "Brad -> ♡2\n",
    "  0: ♡6  1: ♡9  (Rest: )\n",
    "  GeirArne, choose card: 1\n",
    "GeirArne => ♡9\n",
    "Aldren -> ♡A\n",
    "Aldren wins the trick\n",
    "\n",
    "Aldren -> ♣A\n",
    "Joanna -> ♡Q\n",
    "Brad -> ♣J\n",
    "  0: ♡6  (Rest: )\n",
    "  GeirArne, choose card: 0\n",
    "GeirArne => ♡6\n",
    "Aldren wins the trick\n",
    "\n",
    "Scores:\n",
    "Brad             14  14\n",
    "Aldren           10  10\n",
    "GeirArne          1   1\n",
    "Joanna            1   1\n",
    "```"
   ]
  },
  {
   "cell_type": "markdown",
   "id": "5625ea9d",
   "metadata": {},
   "source": [
    "<a class=\"anchor\" id=\"static_type_checking\"></a>\n",
    "\n",
    "## Static Type Checking"
   ]
  },
  {
   "cell_type": "markdown",
   "id": "21af12d0",
   "metadata": {},
   "source": [
    "So far you have seen how to add type hints to your code. In this section you’ll learn more about how to actually perform static type checking of Python code."
   ]
  },
  {
   "cell_type": "markdown",
   "id": "73d48263",
   "metadata": {},
   "source": [
    "<a class=\"anchor\" id=\"the_mypy_project\"></a>\n",
    "\n",
    "### The Mypy Project"
   ]
  },
  {
   "cell_type": "markdown",
   "id": "29f03395",
   "metadata": {},
   "source": [
    "Mypy was started by Jukka Lehtosalo during his Ph.D. studies at Cambridge around 2012. Mypy was originally envisioned as a Python variant with seamless dynamic and static typing. See [Jukka’s slides from PyCon Finland 2012](https://www.slideshare.net/jukkaleh/mypy-pyconfi2012) for examples of the original vision of Mypy."
   ]
  },
  {
   "cell_type": "markdown",
   "id": "397fcd7d",
   "metadata": {},
   "source": [
    "Most of those original ideas still play a big part in the Mypy project. In fact, the slogan “Seamless dynamic and static typing” is still [prominently visible on Mypy’s home page](http://mypy-lang.org) and describes the motivation for using type hints in Python well."
   ]
  },
  {
   "cell_type": "markdown",
   "id": "769e57dd",
   "metadata": {},
   "source": [
    "The biggest change since 2012 is that Mypy is no longer a *variant* of Python. In its first versions Mypy was a stand-alone language that was compatible with Python except for its type declarations. Following a [suggestion by Guido van Rossum](https://twitter.com/gvanrossum/status/700741601966985216), Mypy was rewritten to use annotations instead. Today Mypy is a static type checker for *regular* Python code."
   ]
  },
  {
   "cell_type": "markdown",
   "id": "a3b7e049",
   "metadata": {},
   "source": [
    "<a class=\"anchor\" id=\"running_mypy\"></a>\n",
    "\n",
    "### Running Mypy"
   ]
  },
  {
   "cell_type": "markdown",
   "id": "830b12ff",
   "metadata": {},
   "source": [
    "Before running Mypy for the first time, you must install the program. This is most easily done using `pip`:"
   ]
  },
  {
   "cell_type": "markdown",
   "id": "b9869084",
   "metadata": {},
   "source": [
    "```sh\n",
    "$ pip install mypy\n",
    "```"
   ]
  },
  {
   "cell_type": "markdown",
   "id": "51877c91",
   "metadata": {},
   "source": [
    "With Mypy installed, you can run it as a regular command line program:"
   ]
  },
  {
   "cell_type": "markdown",
   "id": "dfd64e53",
   "metadata": {},
   "source": [
    "```sh\n",
    "$ mypy my_program.py\n",
    "```"
   ]
  },
  {
   "cell_type": "markdown",
   "id": "bb705ed9",
   "metadata": {},
   "source": [
    "Running Mypy on your `my_program.py` Python file will check it for type errors without actually executing the code."
   ]
  },
  {
   "cell_type": "markdown",
   "id": "0e9845f3",
   "metadata": {},
   "source": [
    "There are many available options when type checking your code. As Mypy is still under very active development, command line options are liable to change between versions. You should refer to Mypy’s help to see which settings are default on your version:"
   ]
  },
  {
   "cell_type": "markdown",
   "id": "b0de6f4a",
   "metadata": {},
   "source": [
    "```sh\n",
    "$ mypy --help\n",
    "usage: mypy [-h] [-v] [-V] [more options; see below]\n",
    "            [-m MODULE] [-p PACKAGE] [-c PROGRAM_TEXT] [files ...]\n",
    "\n",
    "Mypy is a program that will type check your Python code.\n",
    "\n",
    "[... The rest of the help hidden for brevity ...]\n",
    "```"
   ]
  },
  {
   "cell_type": "markdown",
   "id": "828673e4",
   "metadata": {},
   "source": [
    "Additionally, the [Mypy command line documentation online](https://mypy.readthedocs.io/en/stable/command_line.html#command-line) has a lot of information."
   ]
  },
  {
   "cell_type": "markdown",
   "id": "48f98e59",
   "metadata": {},
   "source": [
    "Let’s look at some of the most common options. First of all, if you are using third-party packages without type hints, you may want to silence Mypy’s warnings about these. This can be done with the `--ignore-missing-imports` option."
   ]
  },
  {
   "cell_type": "markdown",
   "id": "9b303a06",
   "metadata": {},
   "source": [
    "The following example uses [Numpy](https://realpython.com/numpy-array-programming/) to calculate and print the cosine of several numbers:"
   ]
  },
  {
   "cell_type": "code",
   "execution_count": null,
   "id": "f9c7e269",
   "metadata": {},
   "outputs": [],
   "source": [
    "# cosine.py\n",
    "\n",
    "import numpy as np\n",
    "\n",
    "def print_cosine(x: np.ndarray) -> None:\n",
    "    with np.printoptions(precision=3, suppress=True):\n",
    "        print(np.cos(x))\n",
    "\n",
    "x = np.linspace(0, 2 * np.pi, 9)\n",
    "print_cosine(x)"
   ]
  },
  {
   "cell_type": "markdown",
   "id": "1db2a47f",
   "metadata": {},
   "source": [
    "Note that [`np.printoptions()`](https://docs.scipy.org/doc/numpy/reference/generated/numpy.printoptions.html) is only available in version 1.15 and later of Numpy. Running this example prints some numbers to the console:"
   ]
  },
  {
   "cell_type": "markdown",
   "id": "2e670951",
   "metadata": {},
   "source": [
    "```sh\n",
    "$ python cosine.py\n",
    "[ 1.     0.707  0.    -0.707 -1.    -0.707 -0.     0.707  1.   ]\n",
    "```"
   ]
  },
  {
   "cell_type": "markdown",
   "id": "00ed725f",
   "metadata": {},
   "source": [
    "The actual output of this example is not important. However, you should note that the argument `x` is annotated with `np.ndarray` on line 5, as we want to print the cosine of a full array of numbers."
   ]
  },
  {
   "cell_type": "markdown",
   "id": "8af80301",
   "metadata": {},
   "source": [
    "You can run Mypy on this file as usual:"
   ]
  },
  {
   "cell_type": "markdown",
   "id": "55f78cbd",
   "metadata": {},
   "source": [
    "```sh\n",
    "$ mypy cosine.py \n",
    "cosine.py:3: error: No library stub file for module 'numpy'\n",
    "cosine.py:3: note: (Stub files are from https://github.com/python/typeshed)\n",
    "```"
   ]
  },
  {
   "cell_type": "markdown",
   "id": "d2536074",
   "metadata": {},
   "source": [
    "These warnings may not immediately make much sense to you, but you’ll learn about [stubs](#adding-stubs) and [typeshed](#typeshed) soon. You can essentially read the warnings as Mypy saying that the Numpy package does not contain type hints."
   ]
  },
  {
   "cell_type": "markdown",
   "id": "93dfc477",
   "metadata": {},
   "source": [
    "In most cases, missing type hints in third-party packages is not something you want to be bothered with so you can silence these messages:"
   ]
  },
  {
   "cell_type": "markdown",
   "id": "355cadee",
   "metadata": {},
   "source": [
    "```sh\n",
    "$ mypy --ignore-missing-imports cosine.py \n",
    "Success: no issues found in 1 source file\n",
    "```"
   ]
  },
  {
   "cell_type": "markdown",
   "id": "52f82208",
   "metadata": {},
   "source": [
    "If you use the `--ignore-missing-import` command line option, Mypy will [not try to follow or warn about any missing imports](https://mypy.readthedocs.io/en/stable/running_mypy.html#how-mypy-handles-imports). This might be a bit heavy-handed though, as it also ignores actual mistakes, like misspelling the name of a package."
   ]
  },
  {
   "cell_type": "markdown",
   "id": "c83675f3",
   "metadata": {},
   "source": [
    "Two less intrusive ways of handling third-party packages are using type comments or configuration files."
   ]
  },
  {
   "cell_type": "markdown",
   "id": "3b403e12",
   "metadata": {},
   "source": [
    "In a simple example as the one above, you can silence the `numpy` warning by adding a type comment to the line containing the import:"
   ]
  },
  {
   "cell_type": "code",
   "execution_count": null,
   "id": "c71ae7b2",
   "metadata": {},
   "outputs": [],
   "source": [
    "import numpy as np  # type: ignore"
   ]
  },
  {
   "cell_type": "markdown",
   "id": "3a2d2880",
   "metadata": {},
   "source": [
    "The literal `# type: ignore` tells Mypy to ignore the import of Numpy."
   ]
  },
  {
   "cell_type": "markdown",
   "id": "10b8def7",
   "metadata": {},
   "source": [
    "If you have several files, it might be easier to keep track of which imports to ignore in a configuration file. Mypy reads a file called `mypy.ini` in the current directory if it is present. This configuration file must contain a section called `[mypy]` and may contain module specific sections of the form `[mypy-module]`."
   ]
  },
  {
   "cell_type": "markdown",
   "id": "120a7912",
   "metadata": {},
   "source": [
    "The following configuration file will ignore that Numpy is missing type hints:"
   ]
  },
  {
   "cell_type": "markdown",
   "id": "90ad5f84",
   "metadata": {},
   "source": [
    "```ini\n",
    "# mypy.ini\n",
    "\n",
    "[mypy]\n",
    "\n",
    "[mypy-numpy]\n",
    "ignore_missing_imports = True\n",
    "```"
   ]
  },
  {
   "cell_type": "markdown",
   "id": "ee30d79f",
   "metadata": {},
   "source": [
    "There are many options that can be specified in the configuration file. It is also possible to specify a global configuration file. See the [documentation](https://mypy.readthedocs.io/en/stable/config_file.html) for more information."
   ]
  },
  {
   "cell_type": "markdown",
   "id": "4029f866",
   "metadata": {},
   "source": [
    "<a class=\"anchor\" id=\"adding_stubs\"></a>\n",
    "\n",
    "### Adding Stubs"
   ]
  },
  {
   "cell_type": "markdown",
   "id": "31cf2686",
   "metadata": {},
   "source": [
    "Type hints are available for all the packages in the Python standard library. However, if you are using third-party packages you’ve already seen that the situation can be different."
   ]
  },
  {
   "cell_type": "markdown",
   "id": "61e2d09e",
   "metadata": {},
   "source": [
    "The following example uses the [Parse package](https://pypi.org/project/parse/) to do simple text parsing. To follow along you should first install Parse:"
   ]
  },
  {
   "cell_type": "markdown",
   "id": "ab692944",
   "metadata": {},
   "source": [
    "```sh\n",
    "$ pip install parse\n",
    "```"
   ]
  },
  {
   "cell_type": "markdown",
   "id": "71b830c2",
   "metadata": {},
   "source": [
    "Parse can be used to recognize simple patterns. Here is a small program that tries its best to figure out your name:"
   ]
  },
  {
   "cell_type": "code",
   "execution_count": null,
   "id": "9d3eaddc",
   "metadata": {},
   "outputs": [],
   "source": [
    "# parse_name.py\n",
    "\n",
    "import parse\n",
    "\n",
    "def parse_name(text: str) -> str:\n",
    "    patterns = (\n",
    "        \"my name is {name}\",\n",
    "        \"i'm {name}\",\n",
    "        \"i am {name}\",\n",
    "        \"call me {name}\",\n",
    "        \"{name}\",\n",
    "    )\n",
    "    for pattern in patterns:\n",
    "        result = parse.parse(pattern, text)\n",
    "        if result:\n",
    "            return result[\"name\"]\n",
    "    return \"\"\n",
    "\n",
    "answer = input(\"What is your name? \")\n",
    "name = parse_name(answer)\n",
    "print(f\"Hi {name}, nice to meet you!\")"
   ]
  },
  {
   "cell_type": "markdown",
   "id": "e3bd81dc",
   "metadata": {},
   "source": [
    "The main flow is defined in the last three lines: ask for your name, parse the answer, and print a greeting. The `parse` package is called on line 14 in order to try to find a name based on one of the patterns listed on lines 7-11."
   ]
  },
  {
   "cell_type": "markdown",
   "id": "0e37e7ac",
   "metadata": {},
   "source": [
    "The program can be used as follows:"
   ]
  },
  {
   "cell_type": "markdown",
   "id": "e288eb96",
   "metadata": {},
   "source": [
    "```sh\n",
    "$ python parse_name.py\n",
    "What is your name? I am Geir Arne\n",
    "Hi Geir Arne, nice to meet you!\n",
    "```"
   ]
  },
  {
   "cell_type": "markdown",
   "id": "44632cb2",
   "metadata": {},
   "source": [
    "Note that even though I answer `I am Geir Arne`, the program figures out that `I am` is not part of my name."
   ]
  },
  {
   "cell_type": "markdown",
   "id": "a3bbfd1a",
   "metadata": {},
   "source": [
    "Let’s add a small bug to the program, and see if Mypy is able to help us detect it. Change line 16 from `return result[\"name\"]` to `return result`. This will return a `parse.Result` object instead of the string containing the name."
   ]
  },
  {
   "cell_type": "markdown",
   "id": "b4c9a6da",
   "metadata": {},
   "source": [
    "Next run Mypy on the program:"
   ]
  },
  {
   "cell_type": "markdown",
   "id": "b7534352",
   "metadata": {},
   "source": [
    "```sh\n",
    "$ mypy parse_name.py \n",
    "parse_name.py:3: error: Cannot find module named 'parse'\n",
    "parse_name.py:3: note: (Perhaps setting MYPYPATH or using the\n",
    "                       \"--ignore-missing-imports\" flag would help)\n",
    "```"
   ]
  },
  {
   "cell_type": "markdown",
   "id": "5bdec468",
   "metadata": {},
   "source": [
    "Mypy prints a similar error to the one you saw in the previous section: It doesn’t know about the `parse` package. You could try to ignore the import:"
   ]
  },
  {
   "cell_type": "markdown",
   "id": "2272e345",
   "metadata": {},
   "source": [
    "```sh\n",
    "$ mypy parse_name.py --ignore-missing-imports\n",
    "Success: no issues found in 1 source file\n",
    "```"
   ]
  },
  {
   "cell_type": "markdown",
   "id": "04f4544a",
   "metadata": {},
   "source": [
    "Unfortunately, ignoring the import means that Mypy has no way of discovering the bug in our program. A better solution would be to add type hints to the Parse package itself. As [Parse is open source](https://github.com/r1chardj0n3s/parse) you can actually add types to the source code and send a pull request."
   ]
  },
  {
   "cell_type": "markdown",
   "id": "6b2902ad",
   "metadata": {},
   "source": [
    "Alternatively, you can add the types in a [stub file](https://mypy.readthedocs.io/en/latest/stubs.html). A stub file is a text file that contains the signatures of methods and functions, but not their implementations. Their main function is to add type hints to code that you for some reason can’t change. To show how this works, we will add some stubs for the Parse package."
   ]
  },
  {
   "cell_type": "markdown",
   "id": "9f021726",
   "metadata": {},
   "source": [
    "First of all, you should put all your stub files inside one common directory, and set the `MYPYPATH` environment variable to point to this directory. On Mac and Linux you can set `MYPYPATH` as follows:"
   ]
  },
  {
   "cell_type": "markdown",
   "id": "68703f1a",
   "metadata": {},
   "source": [
    "```sh\n",
    "$ export MYPYPATH=/home/gahjelle/python/stubs\n",
    "```"
   ]
  },
  {
   "cell_type": "markdown",
   "id": "1890eb71",
   "metadata": {},
   "source": [
    "You can set the variable permanently by adding the line to your `.bashrc` file. On Windows you can click the start menu and search for *environment variables* to set `MYPYPATH`."
   ]
  },
  {
   "cell_type": "markdown",
   "id": "e8bfa9ca",
   "metadata": {},
   "source": [
    "Next, create a file inside your stubs directory that you call `parse.pyi`. It must be named for the package that you are adding type hints for, with a `.pyi` suffix. Leave this file empty for now. Then run Mypy again:"
   ]
  },
  {
   "cell_type": "markdown",
   "id": "367e8487",
   "metadata": {},
   "source": [
    "```sh\n",
    "$ mypy parse_name.py\n",
    "parse_name.py:14: error: Module has no attribute \"parse\"\n",
    "```"
   ]
  },
  {
   "cell_type": "markdown",
   "id": "22f4d957",
   "metadata": {},
   "source": [
    "If you have set everything up correctly, you should see this new error message. Mypy uses the new `parse.pyi` file to figure out which functions are available in the `parse` package. Since the stub file is empty, Mypy assumes that `parse.parse()` does not exist, and then gives the error you see above."
   ]
  },
  {
   "cell_type": "markdown",
   "id": "825fa408",
   "metadata": {},
   "source": [
    "The following example does not add types for the whole `parse` package. Instead it shows the type hints you need to add in order for Mypy to type check your use of `parse.parse()`:"
   ]
  },
  {
   "cell_type": "code",
   "execution_count": null,
   "id": "41808585",
   "metadata": {},
   "outputs": [],
   "source": [
    "# parse.pyi\n",
    "\n",
    "from typing import Any, Mapping, Optional, Sequence, Tuple, Union\n",
    "\n",
    "class Result:\n",
    "    def __init__(\n",
    "        self,\n",
    "        fixed: Sequence[str],\n",
    "        named: Mapping[str, str],\n",
    "        spans: Mapping[int, Tuple[int, int]],\n",
    "    ) -> None: ...\n",
    "    def __getitem__(self, item: Union[int, str]) -> str: ...\n",
    "    def __repr__(self) -> str: ...\n",
    "\n",
    "def parse(\n",
    "    format: str,\n",
    "    string: str,\n",
    "    evaluate_result: bool = ...,\n",
    "    case_sensitive: bool = ...,\n",
    ") -> Optional[Result]: ..."
   ]
  },
  {
   "cell_type": "markdown",
   "id": "ee4a80c2",
   "metadata": {},
   "source": [
    "The ellipsis `...` are part of the file, and should be written exactly as above. The stub file should only contain type hints for variables, attributes, functions, and methods, so the implementations should be left out and replaced by `...` markers."
   ]
  },
  {
   "cell_type": "markdown",
   "id": "8f83b7e7",
   "metadata": {},
   "source": [
    "Finally Mypy is able to spot the bug we introduced:"
   ]
  },
  {
   "cell_type": "markdown",
   "id": "2c216953",
   "metadata": {},
   "source": [
    "```sh\n",
    "$ mypy parse_name.py\n",
    "parse_name.py:16: error: Incompatible return value type (got\n",
    "                         \"Result\", expected \"str\")\n",
    "```"
   ]
  },
  {
   "cell_type": "markdown",
   "id": "9438a2f7",
   "metadata": {},
   "source": [
    "This points straight to line 16 and the fact that we return a `Result` object and not the name string. Change `return result` back to `return result[\"name\"]`, and run Mypy again to see that it’s happy."
   ]
  },
  {
   "cell_type": "markdown",
   "id": "5950e3c3",
   "metadata": {},
   "source": [
    "<a class=\"anchor\" id=\"typeshed\"></a>\n",
    "\n",
    "### Typeshed"
   ]
  },
  {
   "cell_type": "markdown",
   "id": "e49792c6",
   "metadata": {},
   "source": [
    "You’ve seen how to use stubs to add type hints without changing the source code itself. In the previous section we added some type hints to the third-party Parse package. Now, it wouldn’t be very effective if everybody needs to create their own stubs files for all third-party packages they are using."
   ]
  },
  {
   "cell_type": "markdown",
   "id": "b27a829c",
   "metadata": {},
   "source": [
    "[Typeshed](https://github.com/python/typeshed) is a Github repository that contains type hints for the Python standard library, as well as many third-party packages. Typeshed comes included with Mypy so if you are using a package that already has type hints defined in Typeshed, the type checking will just work."
   ]
  },
  {
   "cell_type": "markdown",
   "id": "b173887b",
   "metadata": {},
   "source": [
    "You can also [contribute type hints to Typeshed](https://github.com/python/typeshed/blob/master/CONTRIBUTING.md). Make sure to get the permission of the owner of the package first though, especially because they might be working on adding type hints into the source code itself—which is the [preferred approach](https://github.com/python/typeshed/blob/master/CONTRIBUTING.md#adding-a-new-library)."
   ]
  },
  {
   "cell_type": "markdown",
   "id": "80cca9b0",
   "metadata": {},
   "source": [
    "<a class=\"anchor\" id=\"other_static_type_checkers\"></a>\n",
    "\n",
    "### Other Static Type Checkers"
   ]
  },
  {
   "cell_type": "markdown",
   "id": "6a4f799d",
   "metadata": {},
   "source": [
    "In this tutorial, we have mainly focused on type checking using Mypy. However, there are other static type checkers in the Python ecosystem."
   ]
  },
  {
   "cell_type": "markdown",
   "id": "da6623ca",
   "metadata": {},
   "source": [
    "The [**PyCharm**](https://realpython.com/python-ides-code-editors-guide/#pycharm) editor comes with its own type checker included. If you are using PyCharm to write your Python code, it will be automatically type checked."
   ]
  },
  {
   "cell_type": "markdown",
   "id": "93d50548",
   "metadata": {},
   "source": [
    "Facebook has developed [**Pyre**](https://pyre-check.org/). One of its stated goals is to be fast and performant. While there are some differences, Pyre functions mostly similar to Mypy. See the [documentation](https://pyre-check.org/docs/overview.html) if you’re interested in trying out Pyre."
   ]
  },
  {
   "cell_type": "markdown",
   "id": "a5fe9a1e",
   "metadata": {},
   "source": [
    "Furthermore, Google has created [**Pytype**](https://github.com/google/pytype). This type checker also works mostly the same as Mypy. In addition to checking annotated code, Pytype has some support for running type checks on unannotated code and even adding annotations to code automatically. See the [quickstart](https://github.com/google/pytype/blob/master/docs/quickstart.md) document for more information."
   ]
  },
  {
   "cell_type": "markdown",
   "id": "796be4de",
   "metadata": {},
   "source": [
    "<a class=\"anchor\" id=\"using_types_at_runtime\"></a>\n",
    "\n",
    "### Using Types at Runtime"
   ]
  },
  {
   "cell_type": "markdown",
   "id": "014fa7a4",
   "metadata": {},
   "source": [
    "As a final note, it’s possible to use type hints also at runtime during execution of your Python program. Runtime type checking will probably never be natively supported in Python."
   ]
  },
  {
   "cell_type": "markdown",
   "id": "a3141c56",
   "metadata": {},
   "source": [
    "However, the type hints are available at runtime in the `__annotations__` dictionary, and you can use those to do type checks if you desire. Before you run off and write your own package for enforcing types, you should know that there are already several packages doing this for you. Have a look at [**Enforce**](https://pypi.org/project/enforce/), [**Pydantic**](https://pypi.org/project/pydantic/), or [**Pytypes**](https://pypi.org/project/pytypes/) for some examples."
   ]
  },
  {
   "cell_type": "markdown",
   "id": "7fd6041a",
   "metadata": {},
   "source": [
    "Another use of type hints is for translating your Python code to C and compiling it for optimization. The popular [**Cython** project](https://cython.org/) uses a hybrid C/Python language to write statically typed Python code. However, since version 0.27 Cython has also supported type annotations. Recently, the [**Mypyc** project](https://github.com/mypyc/mypyc) has become available. While not yet ready for general use, it can compile some type annotated Python code to C extensions."
   ]
  },
  {
   "attachments": {},
   "cell_type": "markdown",
   "id": "a74b6f60",
   "metadata": {},
   "source": [
    "<a class=\"anchor\" id=\"conclusion\"></a>\n",
    "\n",
    "## <img src=\"../../images/logos/checkmark.png\" width=\"20\"/> Conclusion "
   ]
  },
  {
   "cell_type": "markdown",
   "id": "753068e8",
   "metadata": {},
   "source": [
    "Type hinting in Python is a very useful feature that you can happily live without. Type hints don’t make you capable of writing any code you can’t write without using type hints. Instead, using type hints makes it easier for you to reason about code, find subtle bugs, and maintain a clean architecture."
   ]
  },
  {
   "cell_type": "markdown",
   "id": "ccee8957",
   "metadata": {},
   "source": [
    "In this tutorial you have learned how type hinting works in Python, and how gradual typing makes type checks in Python more flexible than in many other languages. You’ve seen some of the pros and cons of using type hints, and how they can be added to code using annotations or type comments. Finally you saw many of the different types that Python supports, as well as how to perform static type checking."
   ]
  },
  {
   "cell_type": "markdown",
   "id": "337f2d17",
   "metadata": {},
   "source": [
    "There are many resources to learn more about static type checking in Python. [PEP 483](https://www.python.org/dev/peps/pep-0483/) and [PEP 484](https://www.python.org/dev/peps/pep-0484/) give a lot of background about how type checking is implemented in Python. The [Mypy documentation](https://mypy.readthedocs.io/) has a great [reference section](https://mypy.readthedocs.io/en/stable/builtin_types.html) detailing all the different types available."
   ]
  }
 ],
 "metadata": {
  "kernelspec": {
   "display_name": "Python 3",
   "language": "python",
   "name": "python3"
  },
  "language_info": {
   "codemirror_mode": {
    "name": "ipython",
    "version": 3
   },
   "file_extension": ".py",
   "mimetype": "text/x-python",
   "name": "python",
   "nbconvert_exporter": "python",
   "pygments_lexer": "ipython3",
   "version": "3.8.11"
  }
 },
 "nbformat": 4,
 "nbformat_minor": 5
}
