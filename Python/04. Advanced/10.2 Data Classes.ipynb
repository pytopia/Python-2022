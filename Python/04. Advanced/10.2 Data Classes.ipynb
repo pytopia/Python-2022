{
 "cells": [
  {
   "cell_type": "markdown",
   "id": "1d38fed8",
   "metadata": {},
   "source": [
    "<img src=\"../../images/banners/python-advanced.png\" width=\"600\"/>"
   ]
  },
  {
   "cell_type": "markdown",
   "id": "3cd77709",
   "metadata": {},
   "source": [
    "# <img src=\"../../images/logos/python.png\" width=\"23\"/> Data Classes in Python 3.7+\n"
   ]
  },
  {
   "attachments": {},
   "cell_type": "markdown",
   "id": "b51ea059",
   "metadata": {},
   "source": [
    "## <img src=\"../../images/logos/toc.png\" width=\"20\"/> Table of Contents \n",
    "* [Alternatives to Data Classes](#alternatives_to_data_classes)\n",
    "* [Basic Data Classes](#basic_data_classes)\n",
    "    * [Default Values](#default_values)\n",
    "    * [Type Hints](#type_hints)\n",
    "    * [Adding Methods](#adding_methods)\n",
    "* [More Flexible Data Classes](#more_flexible_data_classes)\n",
    "    * [Advanced Default Values](#advanced_default_values)\n",
    "    * [You Need Representation?](#you_need_representation?)\n",
    "    * [Comparing Cards](#comparing_cards)\n",
    "* [Immutable Data Classes](#immutable_data_classes)\n",
    "* [Inheritance](#inheritance)\n",
    "* [Optimizing Data Classes](#optimizing_data_classes)\n",
    "* [Conclusion & Further Reading](#conclusion_&_further_reading)\n",
    "\n",
    "---"
   ]
  },
  {
   "cell_type": "markdown",
   "id": "236549cb",
   "metadata": {},
   "source": [
    "One [new and exciting feature coming in Python 3.7](https://realpython.com/python37-new-features/) is the data class. A data class is a class typically containing mainly data, although there aren’t really any restrictions. It is created using the new `@dataclass` decorator, as follows:"
   ]
  },
  {
   "cell_type": "code",
   "execution_count": 1,
   "id": "8ab026a0",
   "metadata": {},
   "outputs": [],
   "source": [
    "from dataclasses import dataclass\n",
    "\n",
    "@dataclass\n",
    "class DataClassCard:\n",
    "    rank: str\n",
    "    suit: str"
   ]
  },
  {
   "cell_type": "markdown",
   "id": "8503410c",
   "metadata": {},
   "source": [
    "A data class comes with basic functionality already implemented. For instance, you can instantiate, print, and compare data class instances straight out of the box:"
   ]
  },
  {
   "cell_type": "code",
   "execution_count": 2,
   "id": "7ffee1b3-e2b6-4445-9997-09052c9eaf9d",
   "metadata": {},
   "outputs": [
    {
     "data": {
      "text/plain": [
       "'Q'"
      ]
     },
     "execution_count": 2,
     "metadata": {},
     "output_type": "execute_result"
    }
   ],
   "source": [
    "queen_of_hearts = DataClassCard('Q', 'Hearts')\n",
    "queen_of_hearts.rank"
   ]
  },
  {
   "cell_type": "code",
   "execution_count": 3,
   "id": "7644bfe9-850d-452a-85a3-4f5cb2056262",
   "metadata": {},
   "outputs": [
    {
     "data": {
      "text/plain": [
       "DataClassCard(rank='Q', suit='Hearts')"
      ]
     },
     "execution_count": 3,
     "metadata": {},
     "output_type": "execute_result"
    }
   ],
   "source": [
    "queen_of_hearts"
   ]
  },
  {
   "cell_type": "code",
   "execution_count": 4,
   "id": "c186e911-a783-4417-8fc5-fd1a331eb7ff",
   "metadata": {},
   "outputs": [
    {
     "data": {
      "text/plain": [
       "True"
      ]
     },
     "execution_count": 4,
     "metadata": {},
     "output_type": "execute_result"
    }
   ],
   "source": [
    "queen_of_hearts == DataClassCard('Q', 'Hearts')"
   ]
  },
  {
   "cell_type": "markdown",
   "id": "63437630",
   "metadata": {},
   "source": [
    "Compare that to a regular class. A minimal regular class would look something like this:"
   ]
  },
  {
   "cell_type": "code",
   "execution_count": 8,
   "id": "6fc26ca8",
   "metadata": {},
   "outputs": [],
   "source": [
    "class RegularCard:\n",
    "    def __init__(self, rank, suit):\n",
    "        self.rank = rank\n",
    "        self.suit = suit"
   ]
  },
  {
   "cell_type": "markdown",
   "id": "4e019ef5",
   "metadata": {},
   "source": [
    "While this is not much more code to write, you can already see signs of the boilerplate pain: `rank` and `suit` are both repeated three times simply to initialize an object. Furthermore, if you try to use this plain class, you’ll notice that the representation of the objects is not very descriptive, and for some reason a queen of hearts is not the same as a queen of hearts:"
   ]
  },
  {
   "cell_type": "code",
   "execution_count": 9,
   "id": "9855dc74-4964-4797-afb1-5652ff66d2de",
   "metadata": {},
   "outputs": [
    {
     "data": {
      "text/plain": [
       "'Q'"
      ]
     },
     "execution_count": 9,
     "metadata": {},
     "output_type": "execute_result"
    }
   ],
   "source": [
    "queen_of_hearts = RegularCard('Q', 'Hearts')\n",
    "queen_of_hearts.rank"
   ]
  },
  {
   "cell_type": "code",
   "execution_count": 10,
   "id": "0e198f4a-31d4-4951-bd41-54d21569c477",
   "metadata": {},
   "outputs": [
    {
     "data": {
      "text/plain": [
       "<__main__.RegularCard at 0x7f7f690d6250>"
      ]
     },
     "execution_count": 10,
     "metadata": {},
     "output_type": "execute_result"
    }
   ],
   "source": [
    "queen_of_hearts"
   ]
  },
  {
   "cell_type": "code",
   "execution_count": 11,
   "id": "949cce79-e8a2-4387-a561-4ca0c2977b8f",
   "metadata": {},
   "outputs": [
    {
     "data": {
      "text/plain": [
       "False"
      ]
     },
     "execution_count": 11,
     "metadata": {},
     "output_type": "execute_result"
    }
   ],
   "source": [
    "queen_of_hearts == RegularCard('Q', 'Hearts')"
   ]
  },
  {
   "cell_type": "markdown",
   "id": "d29336f9",
   "metadata": {},
   "source": [
    "Seems like data classes are helping us out behind the scenes. By default, data classes implement a [`.__repr__()` method](https://realpython.com/operator-function-overloading/) to provide a nice string representation and an `.__eq__()` method that can do basic object comparisons. For the `RegularCard` class to imitate the data class above, you need to add these methods as well:"
   ]
  },
  {
   "cell_type": "code",
   "execution_count": null,
   "id": "e4940330",
   "metadata": {},
   "outputs": [],
   "source": [
    "class RegularCard\n",
    "    def __init__(self, rank, suit):\n",
    "        self.rank = rank\n",
    "        self.suit = suit\n",
    "\n",
    "    def __repr__(self):\n",
    "        return (f'{self.__class__.__name__}'\n",
    "                f'(rank={self.rank!r}, suit={self.suit!r})')\n",
    "\n",
    "    def __eq__(self, other):\n",
    "        if other.__class__ is not self.__class__:\n",
    "            return NotImplemented\n",
    "        return (self.rank, self.suit) == (other.rank, other.suit)"
   ]
  },
  {
   "cell_type": "markdown",
   "id": "96719d1a",
   "metadata": {},
   "source": [
    "In this tutorial, you will learn exactly which conveniences data classes provide. In addition to nice representations and comparisons, you’ll see:"
   ]
  },
  {
   "cell_type": "markdown",
   "id": "4bed4b3e",
   "metadata": {},
   "source": [
    "- How to add default values to data class fields\n",
    "- How data classes allow for ordering of objects\n",
    "- How to represent immutable data\n",
    "- How data classes handle inheritance\n"
   ]
  },
  {
   "cell_type": "markdown",
   "id": "09d97591",
   "metadata": {},
   "source": [
    "We will soon dive deeper into those features of data classes. However, you might be thinking that you have already seen something like this before."
   ]
  },
  {
   "cell_type": "markdown",
   "id": "1ea8a686",
   "metadata": {},
   "source": [
    "<a class=\"anchor\" id=\"alternatives_to_data_classes\"></a>\n",
    "\n",
    "## Alternatives to Data Classes"
   ]
  },
  {
   "cell_type": "markdown",
   "id": "61b8dea2",
   "metadata": {},
   "source": [
    "For simple data structures, you have probably already used [a `tuple` or a `dict`](https://dbader.org/blog/records-structs-and-data-transfer-objects-in-python). You could represent the queen of hearts card in either of the following ways:"
   ]
  },
  {
   "cell_type": "code",
   "execution_count": 12,
   "id": "69d9d678",
   "metadata": {},
   "outputs": [],
   "source": [
    "queen_of_hearts_tuple = ('Q', 'Hearts')\n",
    "queen_of_hearts_dict = {'rank': 'Q', 'suit': 'Hearts'}"
   ]
  },
  {
   "cell_type": "markdown",
   "id": "e191ec25",
   "metadata": {},
   "source": [
    "It works. However, it puts a lot of responsibility on you as a programmer:"
   ]
  },
  {
   "cell_type": "markdown",
   "id": "47483fc2",
   "metadata": {},
   "source": [
    "- You need to remember that the `queen_of_hearts_...` [variable](https://realpython.com/python-variables/) represents a card.\n",
    "- For the `tuple` version, you need to remember the order of the attributes. Writing `('Spades', 'A')` will mess up your program but probably not give you an easily understandable error message.\n",
    "- If you use the `dict` version, you must make sure the names of the attributes are consistent. For instance `{'value': 'A', 'suit': 'Spades'}` will not work as expected.\n"
   ]
  },
  {
   "cell_type": "markdown",
   "id": "5dcf6c6f",
   "metadata": {},
   "source": [
    "Furthermore, using these structures is not ideal:"
   ]
  },
  {
   "cell_type": "code",
   "execution_count": 13,
   "id": "d082b2e4-a135-4956-84f8-e41566a8e2bc",
   "metadata": {},
   "outputs": [
    {
     "data": {
      "text/plain": [
       "'Q'"
      ]
     },
     "execution_count": 13,
     "metadata": {},
     "output_type": "execute_result"
    }
   ],
   "source": [
    "queen_of_hearts_tuple[0]  # No named access"
   ]
  },
  {
   "cell_type": "code",
   "execution_count": 14,
   "id": "7178ca20-5ce4-4111-8cdd-4765b36749a4",
   "metadata": {},
   "outputs": [
    {
     "data": {
      "text/plain": [
       "'Hearts'"
      ]
     },
     "execution_count": 14,
     "metadata": {},
     "output_type": "execute_result"
    }
   ],
   "source": [
    "queen_of_hearts_dict['suit']  # Would be nicer with .suit"
   ]
  },
  {
   "cell_type": "markdown",
   "id": "fbd4fe24",
   "metadata": {},
   "source": [
    "A better alternative is the [`namedtuple`](https://dbader.org/blog/writing-clean-python-with-namedtuples). It has long been used to create readable small data structures. We can in fact recreate the data class example above using a `namedtuple` like this:"
   ]
  },
  {
   "cell_type": "code",
   "execution_count": 15,
   "id": "38747ba5",
   "metadata": {},
   "outputs": [],
   "source": [
    "from collections import namedtuple\n",
    "\n",
    "NamedTupleCard = namedtuple('NamedTupleCard', ['rank', 'suit'])"
   ]
  },
  {
   "cell_type": "markdown",
   "id": "f6553e59",
   "metadata": {},
   "source": [
    "This definition of `NamedTupleCard` will give the exact same output as our `DataClassCard` example did:"
   ]
  },
  {
   "cell_type": "code",
   "execution_count": 16,
   "id": "f52293ff-5ec9-4e61-a8dd-6bbbcf80319f",
   "metadata": {},
   "outputs": [
    {
     "data": {
      "text/plain": [
       "'Q'"
      ]
     },
     "execution_count": 16,
     "metadata": {},
     "output_type": "execute_result"
    }
   ],
   "source": [
    "queen_of_hearts = NamedTupleCard('Q', 'Hearts')\n",
    "queen_of_hearts.rank"
   ]
  },
  {
   "cell_type": "code",
   "execution_count": 17,
   "id": "51e30fef-2834-4246-b9bb-c740560d6ad1",
   "metadata": {},
   "outputs": [
    {
     "data": {
      "text/plain": [
       "NamedTupleCard(rank='Q', suit='Hearts')"
      ]
     },
     "execution_count": 17,
     "metadata": {},
     "output_type": "execute_result"
    }
   ],
   "source": [
    "queen_of_hearts"
   ]
  },
  {
   "cell_type": "code",
   "execution_count": 18,
   "id": "304daad1-5542-4d80-8bbb-6626b0020448",
   "metadata": {},
   "outputs": [
    {
     "data": {
      "text/plain": [
       "True"
      ]
     },
     "execution_count": 18,
     "metadata": {},
     "output_type": "execute_result"
    }
   ],
   "source": [
    "queen_of_hearts == NamedTupleCard('Q', 'Hearts')"
   ]
  },
  {
   "cell_type": "markdown",
   "id": "90a1b44c",
   "metadata": {},
   "source": [
    "So why even bother with data classes? First of all, data classes come with many more features than you have seen so far. At the same time, the `namedtuple` has some other features that are not necessarily desirable. By design, a `namedtuple` is a regular tuple. This can be seen in comparisons, for instance:"
   ]
  },
  {
   "cell_type": "code",
   "execution_count": 19,
   "id": "e31649e9",
   "metadata": {},
   "outputs": [
    {
     "data": {
      "text/plain": [
       "True"
      ]
     },
     "execution_count": 19,
     "metadata": {},
     "output_type": "execute_result"
    }
   ],
   "source": [
    "queen_of_hearts == ('Q', 'Hearts')"
   ]
  },
  {
   "cell_type": "markdown",
   "id": "73b2f050",
   "metadata": {},
   "source": [
    "While this might seem like a good thing, this lack of awareness about its own type can lead to subtle and hard-to-find bugs, especially since it will also happily compare two different `namedtuple` classes:"
   ]
  },
  {
   "cell_type": "code",
   "execution_count": 21,
   "id": "f59dcd15",
   "metadata": {},
   "outputs": [
    {
     "data": {
      "text/plain": [
       "True"
      ]
     },
     "execution_count": 21,
     "metadata": {},
     "output_type": "execute_result"
    }
   ],
   "source": [
    "Person = namedtuple('Person', ['first_initial', 'last_name'])\n",
    "ace_of_spades = NamedTupleCard('A', 'Spades')\n",
    "ace_of_spades == Person('A', 'Spades')"
   ]
  },
  {
   "cell_type": "markdown",
   "id": "de9f70d4",
   "metadata": {},
   "source": [
    "The `namedtuple` also comes with some restrictions. For instance, it is hard to add default values to some of the fields in a `namedtuple`. A `namedtuple` is also by nature immutable. That is, the value of a `namedtuple` can never change. In some applications, this is an awesome feature, but in other settings, it would be nice to have more flexibility:"
   ]
  },
  {
   "cell_type": "code",
   "execution_count": 22,
   "id": "d9580cf9",
   "metadata": {},
   "outputs": [
    {
     "ename": "AttributeError",
     "evalue": "can't set attribute",
     "output_type": "error",
     "traceback": [
      "\u001b[0;31m---------------------------------------------------------------------------\u001b[0m",
      "\u001b[0;31mAttributeError\u001b[0m                            Traceback (most recent call last)",
      "\u001b[0;32m/var/folders/b4/tsp68dlx1gz9xlnpgbx21ytc0000gn/T/ipykernel_49897/3145096726.py\u001b[0m in \u001b[0;36m<module>\u001b[0;34m\u001b[0m\n\u001b[1;32m      1\u001b[0m \u001b[0mcard\u001b[0m \u001b[0;34m=\u001b[0m \u001b[0mNamedTupleCard\u001b[0m\u001b[0;34m(\u001b[0m\u001b[0;34m'7'\u001b[0m\u001b[0;34m,\u001b[0m \u001b[0;34m'Diamonds'\u001b[0m\u001b[0;34m)\u001b[0m\u001b[0;34m\u001b[0m\u001b[0;34m\u001b[0m\u001b[0m\n\u001b[0;32m----> 2\u001b[0;31m \u001b[0mcard\u001b[0m\u001b[0;34m.\u001b[0m\u001b[0mrank\u001b[0m \u001b[0;34m=\u001b[0m \u001b[0;34m'9'\u001b[0m\u001b[0;34m\u001b[0m\u001b[0;34m\u001b[0m\u001b[0m\n\u001b[0m",
      "\u001b[0;31mAttributeError\u001b[0m: can't set attribute"
     ]
    }
   ],
   "source": [
    "card = NamedTupleCard('7', 'Diamonds')\n",
    "card.rank = '9'"
   ]
  },
  {
   "cell_type": "markdown",
   "id": "bb48d7a8",
   "metadata": {},
   "source": [
    "Data classes will not replace all uses of `namedtuple`. For instance, if you need your data structure to behave like a tuple, then a named tuple is a great alternative!"
   ]
  },
  {
   "cell_type": "markdown",
   "id": "fed7f6d9",
   "metadata": {},
   "source": [
    "Another alternative, and one of the [inspirations for data classes](https://mail.python.org/pipermail/python-dev/2017-December/151034.html), is the [`attrs` project](http://www.attrs.org). With `attrs` installed (`pip install attrs`), you can write a card class as follows:"
   ]
  },
  {
   "cell_type": "code",
   "execution_count": null,
   "id": "bde5ceea",
   "metadata": {},
   "outputs": [],
   "source": [
    "import attr\n",
    "\n",
    "@attr.s\n",
    "class AttrsCard:\n",
    "    rank = attr.ib()\n",
    "    suit = attr.ib()"
   ]
  },
  {
   "cell_type": "markdown",
   "id": "c306c722",
   "metadata": {},
   "source": [
    "This can be used in exactly the same way as the `DataClassCard` and `NamedTupleCard` examples earlier. The `attrs` project is great and does support some features that data classes do not, including converters and validators. Furthermore, `attrs` has been around for a while and is supported in Python 2.7 as well as Python 3.4 and up. However, as `attrs` is not a part of the standard library, it does add an external [dependency](https://realpython.com/courses/managing-python-dependencies/) to your projects. Through data classes, similar functionality will be available everywhere."
   ]
  },
  {
   "cell_type": "markdown",
   "id": "7f119064",
   "metadata": {},
   "source": [
    "In addition to `tuple`, `dict`, `namedtuple`, and `attrs`, there are [many other similar projects](https://www.python.org/dev/peps/pep-0557/#rationale), including [`typing.NamedTuple`](https://docs.python.org/library/typing.html#typing.NamedTuple), [`namedlist`](https://pypi.org/project/namedlist/), [`attrdict`](https://pypi.org/project/attrdict/), [`plumber`](https://pypi.org/project/plumber/), and [`fields`](https://pypi.org/project/fields/). While data classes are a great new alternative, there are still use cases where one of the older variants fits better. For instance, if you need compatibility with a specific API expecting tuples or need functionality not supported in data classes."
   ]
  },
  {
   "cell_type": "markdown",
   "id": "c05bb711",
   "metadata": {},
   "source": [
    "<a class=\"anchor\" id=\"basic_data_classes\"></a>\n",
    "\n",
    "## Basic Data Classes"
   ]
  },
  {
   "cell_type": "markdown",
   "id": "dcef78f8",
   "metadata": {},
   "source": [
    "Let us get back to data classes. As an example, we will create a `Position` class that will represent geographic positions with a name as well as the latitude and longitude:"
   ]
  },
  {
   "cell_type": "code",
   "execution_count": 25,
   "id": "e6ef2b2e",
   "metadata": {},
   "outputs": [],
   "source": [
    "from dataclasses import dataclass\n",
    "\n",
    "@dataclass\n",
    "class Position:\n",
    "    name: str\n",
    "    lon: float\n",
    "    lat: float"
   ]
  },
  {
   "cell_type": "markdown",
   "id": "0e6e9f0d",
   "metadata": {},
   "source": [
    "What makes this a data class is the [`@dataclass` decorator](https://realpython.com/primer-on-python-decorators/) just above the class definition. Beneath the `class Position:` line, you simply list the fields you want in your data class. The `:` notation used for the fields is using a new feature in Python 3.6 called [variable annotations](https://www.python.org/dev/peps/pep-0526/) which was discussed in Python Type Checking section."
   ]
  },
  {
   "cell_type": "markdown",
   "id": "3ae61115",
   "metadata": {},
   "source": [
    "Those few lines of code are all you need. The new class is ready for use:"
   ]
  },
  {
   "cell_type": "code",
   "execution_count": 26,
   "id": "ac7e8cb3-9368-4e24-bc8b-a5851056de86",
   "metadata": {},
   "outputs": [
    {
     "name": "stdout",
     "output_type": "stream",
     "text": [
      "Position(name='Oslo', lon=10.8, lat=59.9)\n"
     ]
    }
   ],
   "source": [
    "pos = Position('Oslo', 10.8, 59.9)\n",
    "print(pos)"
   ]
  },
  {
   "cell_type": "code",
   "execution_count": 27,
   "id": "8d7cb806-91c0-4ee9-8fe9-8161e018bb96",
   "metadata": {},
   "outputs": [
    {
     "data": {
      "text/plain": [
       "59.9"
      ]
     },
     "execution_count": 27,
     "metadata": {},
     "output_type": "execute_result"
    }
   ],
   "source": [
    "pos.lat"
   ]
  },
  {
   "cell_type": "code",
   "execution_count": 28,
   "id": "31fa9346-397a-45c6-b531-4a4c86050339",
   "metadata": {},
   "outputs": [
    {
     "name": "stdout",
     "output_type": "stream",
     "text": [
      "Oslo is at 59.9°N, 10.8°E\n"
     ]
    }
   ],
   "source": [
    "print(f'{pos.name} is at {pos.lat}°N, {pos.lon}°E')"
   ]
  },
  {
   "cell_type": "markdown",
   "id": "feeeb63d",
   "metadata": {},
   "source": [
    "You can also create data classes similarly to how named tuples are created. The following is (almost) equivalent to the definition of `Position` above:"
   ]
  },
  {
   "cell_type": "code",
   "execution_count": null,
   "id": "dc772d53",
   "metadata": {},
   "outputs": [],
   "source": [
    "from dataclasses import make_dataclass\n",
    "\n",
    "Position = make_dataclass('Position', ['name', 'lat', 'lon'])"
   ]
  },
  {
   "cell_type": "markdown",
   "id": "92cf569f",
   "metadata": {},
   "source": [
    "A data class is a regular Python class. The only thing that sets it apart is that it has basic [data model methods](https://docs.python.org/reference/datamodel.html#basic-customization) like `.__init__()`, `.__repr__()`, and `.__eq__()` implemented for you."
   ]
  },
  {
   "cell_type": "markdown",
   "id": "156e64e3",
   "metadata": {},
   "source": [
    "<a class=\"anchor\" id=\"default_values\"></a>\n",
    "\n",
    "### Default Values"
   ]
  },
  {
   "cell_type": "markdown",
   "id": "15c0bfc6",
   "metadata": {},
   "source": [
    "It is easy to add default values to the fields of your data class:"
   ]
  },
  {
   "cell_type": "code",
   "execution_count": 30,
   "id": "fc245c2e",
   "metadata": {},
   "outputs": [],
   "source": [
    "from dataclasses import dataclass\n",
    "\n",
    "@dataclass\n",
    "class Position:\n",
    "    name: str\n",
    "    lon: float = 0.0\n",
    "    lat: float = 0.0"
   ]
  },
  {
   "cell_type": "markdown",
   "id": "938cfd9d",
   "metadata": {},
   "source": [
    "This works exactly as if you had specified the default values in the definition of the `.__init__()` method of a regular class:"
   ]
  },
  {
   "cell_type": "code",
   "execution_count": 31,
   "id": "8156f72c-0efe-4fd9-bf55-d8652ee04300",
   "metadata": {},
   "outputs": [
    {
     "data": {
      "text/plain": [
       "Position(name='Null Island', lon=0.0, lat=0.0)"
      ]
     },
     "execution_count": 31,
     "metadata": {},
     "output_type": "execute_result"
    }
   ],
   "source": [
    "Position('Null Island')"
   ]
  },
  {
   "cell_type": "code",
   "execution_count": 32,
   "id": "c1c3c0ea-d3fc-4cbb-be71-692498c1475c",
   "metadata": {},
   "outputs": [
    {
     "data": {
      "text/plain": [
       "Position(name='Greenwich', lon=0.0, lat=51.8)"
      ]
     },
     "execution_count": 32,
     "metadata": {},
     "output_type": "execute_result"
    }
   ],
   "source": [
    "Position('Greenwich', lat=51.8)"
   ]
  },
  {
   "cell_type": "code",
   "execution_count": 33,
   "id": "7f482f4b-ff76-432c-b6f6-c0cfeb605fef",
   "metadata": {},
   "outputs": [
    {
     "data": {
      "text/plain": [
       "Position(name='Vancouver', lon=-123.1, lat=49.3)"
      ]
     },
     "execution_count": 33,
     "metadata": {},
     "output_type": "execute_result"
    }
   ],
   "source": [
    "Position('Vancouver', -123.1, 49.3)"
   ]
  },
  {
   "cell_type": "markdown",
   "id": "7d13357f",
   "metadata": {},
   "source": [
    "[Later](#advanced-default-values) you will learn about `default_factory`, which gives a way to provide more complicated default values."
   ]
  },
  {
   "cell_type": "markdown",
   "id": "faccc727",
   "metadata": {},
   "source": [
    "<a class=\"anchor\" id=\"type_hints\"></a>\n",
    "\n",
    "### Type Hints"
   ]
  },
  {
   "cell_type": "markdown",
   "id": "c129bec6",
   "metadata": {},
   "source": [
    "So far, we have not made a big fuss of the fact that data classes support [typing](https://realpython.com/python-type-checking/) out of the box. You have probably noticed that we defined the fields with a type hint: `name: str` says that `name` should be a [text string](https://realpython.com/python-strings/) (`str` type)."
   ]
  },
  {
   "cell_type": "markdown",
   "id": "dfa63ae9",
   "metadata": {},
   "source": [
    "In fact, adding some kind of type hint is mandatory when defining the fields in your data class. Without a type hint, the field will not be a part of the data class. However, if you do not want to add explicit types to your data class, use `typing.Any`:"
   ]
  },
  {
   "cell_type": "code",
   "execution_count": 35,
   "id": "9d7220de",
   "metadata": {},
   "outputs": [],
   "source": [
    "from dataclasses import dataclass\n",
    "from typing import Any\n",
    "\n",
    "@dataclass\n",
    "class WithoutExplicitTypes:\n",
    "    name: Any\n",
    "    value: Any = 42"
   ]
  },
  {
   "cell_type": "markdown",
   "id": "59363ba2",
   "metadata": {},
   "source": [
    "While you need to add type hints in some form when using data classes, these types are not enforced at runtime. The following code runs without any problems:"
   ]
  },
  {
   "cell_type": "code",
   "execution_count": 34,
   "id": "8919b8c7",
   "metadata": {},
   "outputs": [
    {
     "data": {
      "text/plain": [
       "Position(name=3.14, lon='pi day', lat=2018)"
      ]
     },
     "execution_count": 34,
     "metadata": {},
     "output_type": "execute_result"
    }
   ],
   "source": [
    "Position(3.14, 'pi day', 2018)"
   ]
  },
  {
   "cell_type": "markdown",
   "id": "d08bb494",
   "metadata": {},
   "source": [
    "This is how typing in Python usually works: [Python is and will always be a dynamically typed language](https://www.python.org/dev/peps/pep-0484/#non-goals). To actually catch type errors, type checkers like [Mypy](http://mypy-lang.org) can be run on your source code."
   ]
  },
  {
   "cell_type": "markdown",
   "id": "a6e3785f",
   "metadata": {},
   "source": [
    "<a class=\"anchor\" id=\"adding_methods\"></a>\n",
    "\n",
    "### Adding Methods"
   ]
  },
  {
   "cell_type": "markdown",
   "id": "ba78d5c5",
   "metadata": {},
   "source": [
    "You already know that a data class is just a regular class. That means that you can freely add your own methods to a data class. As an example, let us calculate the distance between one position and another, along the Earth’s surface. One way to do this is by using [the haversine formula](https://en.wikipedia.org/wiki/Haversine_formula):"
   ]
  },
  {
   "cell_type": "markdown",
   "id": "961c10c5",
   "metadata": {},
   "source": [
    "<img src=\"images/data-classes-in-python-3.7+-(guide)/haversine_formula_150.fb2b87d122a4.png\" width=\"600px\">"
   ]
  },
  {
   "cell_type": "markdown",
   "id": "2470e7c8",
   "metadata": {},
   "source": [
    "You can add a `.distance_to()` method to your data class just like you can with normal classes:"
   ]
  },
  {
   "cell_type": "code",
   "execution_count": 36,
   "id": "c67044cd",
   "metadata": {},
   "outputs": [],
   "source": [
    "from dataclasses import dataclass\n",
    "from math import asin, cos, radians, sin, sqrt\n",
    "\n",
    "@dataclass\n",
    "class Position:\n",
    "    name: str\n",
    "    lon: float = 0.0\n",
    "    lat: float = 0.0\n",
    "\n",
    "    def distance_to(self, other):\n",
    "        r = 6371  # Earth radius in kilometers\n",
    "        lam_1, lam_2 = radians(self.lon), radians(other.lon)\n",
    "        phi_1, phi_2 = radians(self.lat), radians(other.lat)\n",
    "        h = (sin((phi_2 - phi_1) / 2)**2\n",
    "             + cos(phi_1) * cos(phi_2) * sin((lam_2 - lam_1) / 2)**2)\n",
    "        return 2 * r * asin(sqrt(h))"
   ]
  },
  {
   "cell_type": "markdown",
   "id": "dd9a8ead",
   "metadata": {},
   "source": [
    "It works as you would expect:"
   ]
  },
  {
   "cell_type": "code",
   "execution_count": 37,
   "id": "c42988eb",
   "metadata": {},
   "outputs": [
    {
     "data": {
      "text/plain": [
       "7181.784122942119"
      ]
     },
     "execution_count": 37,
     "metadata": {},
     "output_type": "execute_result"
    }
   ],
   "source": [
    "oslo = Position('Oslo', 10.8, 59.9)\n",
    "vancouver = Position('Vancouver', -123.1, 49.3)\n",
    "oslo.distance_to(vancouver)"
   ]
  },
  {
   "cell_type": "markdown",
   "id": "0d6db1d2",
   "metadata": {},
   "source": [
    "<a class=\"anchor\" id=\"more_flexible_data_classes\"></a>\n",
    "\n",
    "## More Flexible Data Classes"
   ]
  },
  {
   "cell_type": "markdown",
   "id": "987d6f09",
   "metadata": {},
   "source": [
    "So far, you have seen some of the basic features of the data class: it gives you some convenience methods, and you can still add default values and other methods. Now you will learn about some more advanced features like parameters to the `@dataclass` decorator and the `field()` function. Together, they give you more control when creating a data class."
   ]
  },
  {
   "cell_type": "markdown",
   "id": "6238a3e7",
   "metadata": {},
   "source": [
    "Let us return to the playing card example you saw at the beginning of the tutorial and add a class containing a deck of cards while we are at it:"
   ]
  },
  {
   "cell_type": "code",
   "execution_count": 39,
   "id": "8879a065",
   "metadata": {},
   "outputs": [],
   "source": [
    "from dataclasses import dataclass\n",
    "from typing import List\n",
    "\n",
    "@dataclass\n",
    "class PlayingCard:\n",
    "    rank: str\n",
    "    suit: str\n",
    "\n",
    "@dataclass\n",
    "class Deck:\n",
    "    cards: List[PlayingCard]"
   ]
  },
  {
   "cell_type": "markdown",
   "id": "164e82b5",
   "metadata": {},
   "source": [
    "A simple deck containing only two cards can be created like this:"
   ]
  },
  {
   "cell_type": "code",
   "execution_count": 40,
   "id": "d9286403-9eed-47b2-afe4-4b434abe0e94",
   "metadata": {},
   "outputs": [],
   "source": [
    "queen_of_hearts = PlayingCard('Q', 'Hearts')\n",
    "ace_of_spades = PlayingCard('A', 'Spades')\n",
    "two_cards = Deck([queen_of_hearts, ace_of_spades])"
   ]
  },
  {
   "cell_type": "markdown",
   "id": "a7e26f54",
   "metadata": {},
   "source": [
    "<a class=\"anchor\" id=\"advanced_default_values\"></a>\n",
    "\n",
    "### Advanced Default Values"
   ]
  },
  {
   "cell_type": "markdown",
   "id": "d7b3781a",
   "metadata": {},
   "source": [
    "Say that you want to give a default value to the `Deck`. It would for example be convenient if `Deck()` created a [regular (French) deck](https://en.wikipedia.org/wiki/French_playing_cards) of 52 playing cards. First, specify the different ranks and suits. Then, add a function `make_french_deck()` that creates a [list](https://realpython.com/python-lists-tuples/) of instances of `PlayingCard`:"
   ]
  },
  {
   "cell_type": "code",
   "execution_count": 9,
   "id": "9d19aad8",
   "metadata": {},
   "outputs": [],
   "source": [
    "RANKS = '2 3 4 5 6 7 8 9 10 J Q K A'.split()\n",
    "SUITS = '♣ ♢ ♡ ♠'.split()\n",
    "\n",
    "def make_french_deck():\n",
    "    return [PlayingCard(r, s) for s in SUITS for r in RANKS]"
   ]
  },
  {
   "cell_type": "markdown",
   "id": "4a5b8603",
   "metadata": {},
   "source": [
    "For fun, the four different suits are specified using their [Unicode symbols](https://en.wikipedia.org/wiki/Playing_cards_in_Unicode)."
   ]
  },
  {
   "cell_type": "markdown",
   "id": "12c9a001",
   "metadata": {},
   "source": [
    "To simplify comparisons of cards later, the ranks and suits are also listed in their usual order."
   ]
  },
  {
   "cell_type": "code",
   "execution_count": 10,
   "id": "b5729f91",
   "metadata": {},
   "outputs": [
    {
     "data": {
      "text/plain": [
       "[PlayingCard(rank='2', suit='♣'),\n",
       " PlayingCard(rank='3', suit='♣'),\n",
       " PlayingCard(rank='4', suit='♣'),\n",
       " PlayingCard(rank='5', suit='♣'),\n",
       " PlayingCard(rank='6', suit='♣'),\n",
       " PlayingCard(rank='7', suit='♣'),\n",
       " PlayingCard(rank='8', suit='♣'),\n",
       " PlayingCard(rank='9', suit='♣'),\n",
       " PlayingCard(rank='10', suit='♣'),\n",
       " PlayingCard(rank='J', suit='♣'),\n",
       " PlayingCard(rank='Q', suit='♣'),\n",
       " PlayingCard(rank='K', suit='♣'),\n",
       " PlayingCard(rank='A', suit='♣'),\n",
       " PlayingCard(rank='2', suit='♢'),\n",
       " PlayingCard(rank='3', suit='♢'),\n",
       " PlayingCard(rank='4', suit='♢'),\n",
       " PlayingCard(rank='5', suit='♢'),\n",
       " PlayingCard(rank='6', suit='♢'),\n",
       " PlayingCard(rank='7', suit='♢'),\n",
       " PlayingCard(rank='8', suit='♢'),\n",
       " PlayingCard(rank='9', suit='♢'),\n",
       " PlayingCard(rank='10', suit='♢'),\n",
       " PlayingCard(rank='J', suit='♢'),\n",
       " PlayingCard(rank='Q', suit='♢'),\n",
       " PlayingCard(rank='K', suit='♢'),\n",
       " PlayingCard(rank='A', suit='♢'),\n",
       " PlayingCard(rank='2', suit='♡'),\n",
       " PlayingCard(rank='3', suit='♡'),\n",
       " PlayingCard(rank='4', suit='♡'),\n",
       " PlayingCard(rank='5', suit='♡'),\n",
       " PlayingCard(rank='6', suit='♡'),\n",
       " PlayingCard(rank='7', suit='♡'),\n",
       " PlayingCard(rank='8', suit='♡'),\n",
       " PlayingCard(rank='9', suit='♡'),\n",
       " PlayingCard(rank='10', suit='♡'),\n",
       " PlayingCard(rank='J', suit='♡'),\n",
       " PlayingCard(rank='Q', suit='♡'),\n",
       " PlayingCard(rank='K', suit='♡'),\n",
       " PlayingCard(rank='A', suit='♡'),\n",
       " PlayingCard(rank='2', suit='♠'),\n",
       " PlayingCard(rank='3', suit='♠'),\n",
       " PlayingCard(rank='4', suit='♠'),\n",
       " PlayingCard(rank='5', suit='♠'),\n",
       " PlayingCard(rank='6', suit='♠'),\n",
       " PlayingCard(rank='7', suit='♠'),\n",
       " PlayingCard(rank='8', suit='♠'),\n",
       " PlayingCard(rank='9', suit='♠'),\n",
       " PlayingCard(rank='10', suit='♠'),\n",
       " PlayingCard(rank='J', suit='♠'),\n",
       " PlayingCard(rank='Q', suit='♠'),\n",
       " PlayingCard(rank='K', suit='♠'),\n",
       " PlayingCard(rank='A', suit='♠')]"
      ]
     },
     "execution_count": 10,
     "metadata": {},
     "output_type": "execute_result"
    }
   ],
   "source": [
    "make_french_deck()"
   ]
  },
  {
   "cell_type": "markdown",
   "id": "42fa53fe",
   "metadata": {},
   "source": [
    "In theory, you could now use this function to specify a default value for `Deck.cards`:"
   ]
  },
  {
   "cell_type": "code",
   "execution_count": 44,
   "id": "a7bb7388",
   "metadata": {},
   "outputs": [
    {
     "ename": "ValueError",
     "evalue": "mutable default <class 'list'> for field cards is not allowed: use default_factory",
     "output_type": "error",
     "traceback": [
      "\u001b[0;31m---------------------------------------------------------------------------\u001b[0m",
      "\u001b[0;31mValueError\u001b[0m                                Traceback (most recent call last)",
      "\u001b[0;32m/var/folders/b4/tsp68dlx1gz9xlnpgbx21ytc0000gn/T/ipykernel_49897/2480207496.py\u001b[0m in \u001b[0;36m<module>\u001b[0;34m\u001b[0m\n\u001b[1;32m      2\u001b[0m \u001b[0;32mfrom\u001b[0m \u001b[0mtyping\u001b[0m \u001b[0;32mimport\u001b[0m \u001b[0mList\u001b[0m\u001b[0;34m\u001b[0m\u001b[0;34m\u001b[0m\u001b[0m\n\u001b[1;32m      3\u001b[0m \u001b[0;34m\u001b[0m\u001b[0m\n\u001b[0;32m----> 4\u001b[0;31m \u001b[0;34m@\u001b[0m\u001b[0mdataclass\u001b[0m\u001b[0;34m\u001b[0m\u001b[0;34m\u001b[0m\u001b[0m\n\u001b[0m\u001b[1;32m      5\u001b[0m \u001b[0;32mclass\u001b[0m \u001b[0mDeck\u001b[0m\u001b[0;34m:\u001b[0m  \u001b[0;31m# Will NOT work\u001b[0m\u001b[0;34m\u001b[0m\u001b[0;34m\u001b[0m\u001b[0m\n\u001b[1;32m      6\u001b[0m     \u001b[0mcards\u001b[0m\u001b[0;34m:\u001b[0m \u001b[0mList\u001b[0m\u001b[0;34m[\u001b[0m\u001b[0mPlayingCard\u001b[0m\u001b[0;34m]\u001b[0m \u001b[0;34m=\u001b[0m \u001b[0mmake_french_deck\u001b[0m\u001b[0;34m(\u001b[0m\u001b[0;34m)\u001b[0m\u001b[0;34m\u001b[0m\u001b[0;34m\u001b[0m\u001b[0m\n",
      "\u001b[0;32m~/opt/anaconda3/envs/py37/lib-python/3/dataclasses.py\u001b[0m in \u001b[0;36mdataclass\u001b[0;34m(_cls, init, repr, eq, order, unsafe_hash, frozen)\u001b[0m\n\u001b[1;32m   1008\u001b[0m \u001b[0;34m\u001b[0m\u001b[0m\n\u001b[1;32m   1009\u001b[0m     \u001b[0;31m# We're called as @dataclass without parens.\u001b[0m\u001b[0;34m\u001b[0m\u001b[0;34m\u001b[0m\u001b[0;34m\u001b[0m\u001b[0m\n\u001b[0;32m-> 1010\u001b[0;31m     \u001b[0;32mreturn\u001b[0m \u001b[0mwrap\u001b[0m\u001b[0;34m(\u001b[0m\u001b[0m_cls\u001b[0m\u001b[0;34m)\u001b[0m\u001b[0;34m\u001b[0m\u001b[0;34m\u001b[0m\u001b[0m\n\u001b[0m\u001b[1;32m   1011\u001b[0m \u001b[0;34m\u001b[0m\u001b[0m\n\u001b[1;32m   1012\u001b[0m \u001b[0;34m\u001b[0m\u001b[0m\n",
      "\u001b[0;32m~/opt/anaconda3/envs/py37/lib-python/3/dataclasses.py\u001b[0m in \u001b[0;36mwrap\u001b[0;34m(cls)\u001b[0m\n\u001b[1;32m   1000\u001b[0m \u001b[0;34m\u001b[0m\u001b[0m\n\u001b[1;32m   1001\u001b[0m     \u001b[0;32mdef\u001b[0m \u001b[0mwrap\u001b[0m\u001b[0;34m(\u001b[0m\u001b[0mcls\u001b[0m\u001b[0;34m)\u001b[0m\u001b[0;34m:\u001b[0m\u001b[0;34m\u001b[0m\u001b[0;34m\u001b[0m\u001b[0m\n\u001b[0;32m-> 1002\u001b[0;31m         \u001b[0;32mreturn\u001b[0m \u001b[0m_process_class\u001b[0m\u001b[0;34m(\u001b[0m\u001b[0mcls\u001b[0m\u001b[0;34m,\u001b[0m \u001b[0minit\u001b[0m\u001b[0;34m,\u001b[0m \u001b[0mrepr\u001b[0m\u001b[0;34m,\u001b[0m \u001b[0meq\u001b[0m\u001b[0;34m,\u001b[0m \u001b[0morder\u001b[0m\u001b[0;34m,\u001b[0m \u001b[0munsafe_hash\u001b[0m\u001b[0;34m,\u001b[0m \u001b[0mfrozen\u001b[0m\u001b[0;34m)\u001b[0m\u001b[0;34m\u001b[0m\u001b[0;34m\u001b[0m\u001b[0m\n\u001b[0m\u001b[1;32m   1003\u001b[0m \u001b[0;34m\u001b[0m\u001b[0m\n\u001b[1;32m   1004\u001b[0m     \u001b[0;31m# See if we're being called as @dataclass or @dataclass().\u001b[0m\u001b[0;34m\u001b[0m\u001b[0;34m\u001b[0m\u001b[0;34m\u001b[0m\u001b[0m\n",
      "\u001b[0;32m~/opt/anaconda3/envs/py37/lib-python/3/dataclasses.py\u001b[0m in \u001b[0;36m_process_class\u001b[0;34m(cls, init, repr, eq, order, unsafe_hash, frozen)\u001b[0m\n\u001b[1;32m    848\u001b[0m     \u001b[0;31m# we can.\u001b[0m\u001b[0;34m\u001b[0m\u001b[0;34m\u001b[0m\u001b[0;34m\u001b[0m\u001b[0m\n\u001b[1;32m    849\u001b[0m     cls_fields = [_get_field(cls, name, type)\n\u001b[0;32m--> 850\u001b[0;31m                   for name, type in cls_annotations.items()]\n\u001b[0m\u001b[1;32m    851\u001b[0m     \u001b[0;32mfor\u001b[0m \u001b[0mf\u001b[0m \u001b[0;32min\u001b[0m \u001b[0mcls_fields\u001b[0m\u001b[0;34m:\u001b[0m\u001b[0;34m\u001b[0m\u001b[0;34m\u001b[0m\u001b[0m\n\u001b[1;32m    852\u001b[0m         \u001b[0mfields\u001b[0m\u001b[0;34m[\u001b[0m\u001b[0mf\u001b[0m\u001b[0;34m.\u001b[0m\u001b[0mname\u001b[0m\u001b[0;34m]\u001b[0m \u001b[0;34m=\u001b[0m \u001b[0mf\u001b[0m\u001b[0;34m\u001b[0m\u001b[0;34m\u001b[0m\u001b[0m\n",
      "\u001b[0;32m~/opt/anaconda3/envs/py37/lib-python/3/dataclasses.py\u001b[0m in \u001b[0;36m<listcomp>\u001b[0;34m(.0)\u001b[0m\n\u001b[1;32m    848\u001b[0m     \u001b[0;31m# we can.\u001b[0m\u001b[0;34m\u001b[0m\u001b[0;34m\u001b[0m\u001b[0;34m\u001b[0m\u001b[0m\n\u001b[1;32m    849\u001b[0m     cls_fields = [_get_field(cls, name, type)\n\u001b[0;32m--> 850\u001b[0;31m                   for name, type in cls_annotations.items()]\n\u001b[0m\u001b[1;32m    851\u001b[0m     \u001b[0;32mfor\u001b[0m \u001b[0mf\u001b[0m \u001b[0;32min\u001b[0m \u001b[0mcls_fields\u001b[0m\u001b[0;34m:\u001b[0m\u001b[0;34m\u001b[0m\u001b[0;34m\u001b[0m\u001b[0m\n\u001b[1;32m    852\u001b[0m         \u001b[0mfields\u001b[0m\u001b[0;34m[\u001b[0m\u001b[0mf\u001b[0m\u001b[0;34m.\u001b[0m\u001b[0mname\u001b[0m\u001b[0;34m]\u001b[0m \u001b[0;34m=\u001b[0m \u001b[0mf\u001b[0m\u001b[0;34m\u001b[0m\u001b[0;34m\u001b[0m\u001b[0m\n",
      "\u001b[0;32m~/opt/anaconda3/envs/py37/lib-python/3/dataclasses.py\u001b[0m in \u001b[0;36m_get_field\u001b[0;34m(cls, a_name, a_type)\u001b[0m\n\u001b[1;32m    732\u001b[0m     \u001b[0;32mif\u001b[0m \u001b[0mf\u001b[0m\u001b[0;34m.\u001b[0m\u001b[0m_field_type\u001b[0m \u001b[0;32mis\u001b[0m \u001b[0m_FIELD\u001b[0m \u001b[0;32mand\u001b[0m \u001b[0misinstance\u001b[0m\u001b[0;34m(\u001b[0m\u001b[0mf\u001b[0m\u001b[0;34m.\u001b[0m\u001b[0mdefault\u001b[0m\u001b[0;34m,\u001b[0m \u001b[0;34m(\u001b[0m\u001b[0mlist\u001b[0m\u001b[0;34m,\u001b[0m \u001b[0mdict\u001b[0m\u001b[0;34m,\u001b[0m \u001b[0mset\u001b[0m\u001b[0;34m)\u001b[0m\u001b[0;34m)\u001b[0m\u001b[0;34m:\u001b[0m\u001b[0;34m\u001b[0m\u001b[0;34m\u001b[0m\u001b[0m\n\u001b[1;32m    733\u001b[0m         raise ValueError(f'mutable default {type(f.default)} for field '\n\u001b[0;32m--> 734\u001b[0;31m                          f'{f.name} is not allowed: use default_factory')\n\u001b[0m\u001b[1;32m    735\u001b[0m \u001b[0;34m\u001b[0m\u001b[0m\n\u001b[1;32m    736\u001b[0m     \u001b[0;32mreturn\u001b[0m \u001b[0mf\u001b[0m\u001b[0;34m\u001b[0m\u001b[0;34m\u001b[0m\u001b[0m\n",
      "\u001b[0;31mValueError\u001b[0m: mutable default <class 'list'> for field cards is not allowed: use default_factory"
     ]
    }
   ],
   "source": [
    "from dataclasses import dataclass\n",
    "from typing import List\n",
    "\n",
    "@dataclass\n",
    "class Deck:  # Will NOT work\n",
    "    cards: List[PlayingCard] = make_french_deck()"
   ]
  },
  {
   "cell_type": "markdown",
   "id": "b1637778",
   "metadata": {},
   "source": [
    "Don’t do this! This introduces one of the most common anti-patterns in Python: [using mutable default arguments](http://docs.python-guide.org/en/latest/writing/gotchas/#mutable-default-arguments). The problem is that all instances of `Deck` will use the same list object as the default value of the `.cards` property. This means that if, say, one card is removed from one `Deck`, then it disappears from all other instances of `Deck` as well. Actually, data classes try to [prevent you from doing this](https://www.python.org/dev/peps/pep-0557/#mutable-default-values), and the code above will raise a `ValueError`."
   ]
  },
  {
   "cell_type": "markdown",
   "id": "5c0b3906",
   "metadata": {},
   "source": [
    "Instead, data classes use something called a `default_factory` to handle mutable default values. To use `default_factory` (and many other cool features of data classes), you need to use the `field()` specifier:"
   ]
  },
  {
   "cell_type": "code",
   "execution_count": 11,
   "id": "c998bd71",
   "metadata": {},
   "outputs": [],
   "source": [
    "from dataclasses import dataclass, field\n",
    "from typing import List\n",
    "\n",
    "@dataclass\n",
    "class Deck:\n",
    "    cards: List[PlayingCard] = field(default_factory=make_french_deck)"
   ]
  },
  {
   "cell_type": "markdown",
   "id": "0b67042b",
   "metadata": {},
   "source": [
    "The argument to `default_factory` can be any zero parameter callable. Now it is easy to create a full deck of playing cards:"
   ]
  },
  {
   "cell_type": "code",
   "execution_count": 12,
   "id": "baf024c3",
   "metadata": {},
   "outputs": [
    {
     "data": {
      "text/plain": [
       "Deck(cards=[PlayingCard(rank='2', suit='♣'), PlayingCard(rank='3', suit='♣'), PlayingCard(rank='4', suit='♣'), PlayingCard(rank='5', suit='♣'), PlayingCard(rank='6', suit='♣'), PlayingCard(rank='7', suit='♣'), PlayingCard(rank='8', suit='♣'), PlayingCard(rank='9', suit='♣'), PlayingCard(rank='10', suit='♣'), PlayingCard(rank='J', suit='♣'), PlayingCard(rank='Q', suit='♣'), PlayingCard(rank='K', suit='♣'), PlayingCard(rank='A', suit='♣'), PlayingCard(rank='2', suit='♢'), PlayingCard(rank='3', suit='♢'), PlayingCard(rank='4', suit='♢'), PlayingCard(rank='5', suit='♢'), PlayingCard(rank='6', suit='♢'), PlayingCard(rank='7', suit='♢'), PlayingCard(rank='8', suit='♢'), PlayingCard(rank='9', suit='♢'), PlayingCard(rank='10', suit='♢'), PlayingCard(rank='J', suit='♢'), PlayingCard(rank='Q', suit='♢'), PlayingCard(rank='K', suit='♢'), PlayingCard(rank='A', suit='♢'), PlayingCard(rank='2', suit='♡'), PlayingCard(rank='3', suit='♡'), PlayingCard(rank='4', suit='♡'), PlayingCard(rank='5', suit='♡'), PlayingCard(rank='6', suit='♡'), PlayingCard(rank='7', suit='♡'), PlayingCard(rank='8', suit='♡'), PlayingCard(rank='9', suit='♡'), PlayingCard(rank='10', suit='♡'), PlayingCard(rank='J', suit='♡'), PlayingCard(rank='Q', suit='♡'), PlayingCard(rank='K', suit='♡'), PlayingCard(rank='A', suit='♡'), PlayingCard(rank='2', suit='♠'), PlayingCard(rank='3', suit='♠'), PlayingCard(rank='4', suit='♠'), PlayingCard(rank='5', suit='♠'), PlayingCard(rank='6', suit='♠'), PlayingCard(rank='7', suit='♠'), PlayingCard(rank='8', suit='♠'), PlayingCard(rank='9', suit='♠'), PlayingCard(rank='10', suit='♠'), PlayingCard(rank='J', suit='♠'), PlayingCard(rank='Q', suit='♠'), PlayingCard(rank='K', suit='♠'), PlayingCard(rank='A', suit='♠')])"
      ]
     },
     "execution_count": 12,
     "metadata": {},
     "output_type": "execute_result"
    }
   ],
   "source": [
    "Deck()"
   ]
  },
  {
   "cell_type": "markdown",
   "id": "ae30e743",
   "metadata": {},
   "source": [
    "The `field()` specifier is used to customize each field of a data class individually. You will see some other examples later. For reference, these are the parameters `field()` supports:"
   ]
  },
  {
   "cell_type": "markdown",
   "id": "04361c8c",
   "metadata": {},
   "source": [
    "- `default`: Default value of the field\n",
    "- `default_factory`: Function that returns the initial value of the field\n",
    "- `init`: Use field in `.__init__()` method? (Default is `True`.)\n",
    "- `repr`: Use field in `repr` of the object? (Default is `True`.)\n",
    "- `compare`: Include the field in comparisons? (Default is `True`.)\n",
    "- `hash`: Include the field when calculating `hash()`? (Default is to use the same as for `compare`.)\n",
    "- `metadata`: A mapping with information about the field\n"
   ]
  },
  {
   "cell_type": "markdown",
   "id": "ebd55cd4",
   "metadata": {},
   "source": [
    "In the `Position` example, you saw how to add simple default values by writing `lat: float = 0.0`. However, if you also want to customize the field, for instance to hide it in the `repr`, you need to use the `default` parameter: `lat: float = field(default=0.0, repr=False)`. You may not specify both `default` and `default_factory`."
   ]
  },
  {
   "cell_type": "markdown",
   "id": "fa07870c",
   "metadata": {},
   "source": [
    "The `metadata` parameter is not used by the data classes themselves but is available for you (or third party packages) to attach information to fields. In the `Position` example, you could for instance specify that latitude and longitude should be given in degrees:"
   ]
  },
  {
   "cell_type": "code",
   "execution_count": 13,
   "id": "4ef5dd97",
   "metadata": {},
   "outputs": [],
   "source": [
    "from dataclasses import dataclass, field\n",
    "\n",
    "@dataclass\n",
    "class Position:\n",
    "    name: str\n",
    "    lon: float = field(default=0.0, metadata={'unit': 'degrees'})\n",
    "    lat: float = field(default=0.0, metadata={'unit': 'degrees'})"
   ]
  },
  {
   "cell_type": "markdown",
   "id": "ac0ecdee",
   "metadata": {},
   "source": [
    "The metadata (and other information about a field) can be retrieved using the `fields()` function (note the plural *s*):"
   ]
  },
  {
   "cell_type": "code",
   "execution_count": 14,
   "id": "d01dd300-f95f-449f-9204-44ccaae5119c",
   "metadata": {},
   "outputs": [
    {
     "data": {
      "text/plain": [
       "(Field(name='name',type=<class 'str'>,default=<dataclasses._MISSING_TYPE object at 0x7fc9105e3490>,default_factory=<dataclasses._MISSING_TYPE object at 0x7fc9105e3490>,init=True,repr=True,hash=None,compare=True,metadata=mappingproxy({}),_field_type=_FIELD),\n",
       " Field(name='lon',type=<class 'float'>,default=0.0,default_factory=<dataclasses._MISSING_TYPE object at 0x7fc9105e3490>,init=True,repr=True,hash=None,compare=True,metadata=mappingproxy({'unit': 'degrees'}),_field_type=_FIELD),\n",
       " Field(name='lat',type=<class 'float'>,default=0.0,default_factory=<dataclasses._MISSING_TYPE object at 0x7fc9105e3490>,init=True,repr=True,hash=None,compare=True,metadata=mappingproxy({'unit': 'degrees'}),_field_type=_FIELD))"
      ]
     },
     "execution_count": 14,
     "metadata": {},
     "output_type": "execute_result"
    }
   ],
   "source": [
    "from dataclasses import fields\n",
    "fields(Position)"
   ]
  },
  {
   "cell_type": "code",
   "execution_count": 15,
   "id": "d8849c50-14db-43bf-a9cf-5eb1bedeae8f",
   "metadata": {},
   "outputs": [
    {
     "data": {
      "text/plain": [
       "'degrees'"
      ]
     },
     "execution_count": 15,
     "metadata": {},
     "output_type": "execute_result"
    }
   ],
   "source": [
    "lat_unit = fields(Position)[2].metadata['unit']\n",
    "lat_unit"
   ]
  },
  {
   "cell_type": "markdown",
   "id": "5f08141b",
   "metadata": {},
   "source": [
    "<a class=\"anchor\" id=\"you_need_representation?\"></a>\n",
    "\n",
    "### You Need Representation?"
   ]
  },
  {
   "cell_type": "markdown",
   "id": "86ac30c7",
   "metadata": {},
   "source": [
    "Recall that we can create decks of cards out of thin air:"
   ]
  },
  {
   "cell_type": "code",
   "execution_count": 16,
   "id": "a0162aa5",
   "metadata": {},
   "outputs": [
    {
     "data": {
      "text/plain": [
       "Deck(cards=[PlayingCard(rank='2', suit='♣'), PlayingCard(rank='3', suit='♣'), PlayingCard(rank='4', suit='♣'), PlayingCard(rank='5', suit='♣'), PlayingCard(rank='6', suit='♣'), PlayingCard(rank='7', suit='♣'), PlayingCard(rank='8', suit='♣'), PlayingCard(rank='9', suit='♣'), PlayingCard(rank='10', suit='♣'), PlayingCard(rank='J', suit='♣'), PlayingCard(rank='Q', suit='♣'), PlayingCard(rank='K', suit='♣'), PlayingCard(rank='A', suit='♣'), PlayingCard(rank='2', suit='♢'), PlayingCard(rank='3', suit='♢'), PlayingCard(rank='4', suit='♢'), PlayingCard(rank='5', suit='♢'), PlayingCard(rank='6', suit='♢'), PlayingCard(rank='7', suit='♢'), PlayingCard(rank='8', suit='♢'), PlayingCard(rank='9', suit='♢'), PlayingCard(rank='10', suit='♢'), PlayingCard(rank='J', suit='♢'), PlayingCard(rank='Q', suit='♢'), PlayingCard(rank='K', suit='♢'), PlayingCard(rank='A', suit='♢'), PlayingCard(rank='2', suit='♡'), PlayingCard(rank='3', suit='♡'), PlayingCard(rank='4', suit='♡'), PlayingCard(rank='5', suit='♡'), PlayingCard(rank='6', suit='♡'), PlayingCard(rank='7', suit='♡'), PlayingCard(rank='8', suit='♡'), PlayingCard(rank='9', suit='♡'), PlayingCard(rank='10', suit='♡'), PlayingCard(rank='J', suit='♡'), PlayingCard(rank='Q', suit='♡'), PlayingCard(rank='K', suit='♡'), PlayingCard(rank='A', suit='♡'), PlayingCard(rank='2', suit='♠'), PlayingCard(rank='3', suit='♠'), PlayingCard(rank='4', suit='♠'), PlayingCard(rank='5', suit='♠'), PlayingCard(rank='6', suit='♠'), PlayingCard(rank='7', suit='♠'), PlayingCard(rank='8', suit='♠'), PlayingCard(rank='9', suit='♠'), PlayingCard(rank='10', suit='♠'), PlayingCard(rank='J', suit='♠'), PlayingCard(rank='Q', suit='♠'), PlayingCard(rank='K', suit='♠'), PlayingCard(rank='A', suit='♠')])"
      ]
     },
     "execution_count": 16,
     "metadata": {},
     "output_type": "execute_result"
    }
   ],
   "source": [
    "Deck()"
   ]
  },
  {
   "cell_type": "markdown",
   "id": "a829a73e",
   "metadata": {},
   "source": [
    "While this representation of a `Deck` is explicit and readable, it is also very verbose. I have deleted 48 of the 52 cards in the deck in the output above. On an 80-column display, simply printing the full `Deck` takes up 22 lines! Let us add a more concise representation. In general, a Python object has [two different string representations](https://dbader.org/blog/python-repr-vs-str):"
   ]
  },
  {
   "cell_type": "markdown",
   "id": "35ae0f72",
   "metadata": {},
   "source": [
    "- \n",
    "`repr(obj)` is defined by `obj.__repr__()` and should return a developer-friendly representation of `obj`. If possible, this should be code that can recreate `obj`. Data classes do this.\n",
    "\n",
    "\n",
    "\n",
    "- \n",
    "`str(obj)` is defined by `obj.__str__()` and should return a user-friendly representation of `obj`. Data classes do not implement a `.__str__()` method, so Python will fall back to the `.__repr__()` method.\n",
    "\n",
    "\n",
    "\n"
   ]
  },
  {
   "cell_type": "markdown",
   "id": "18091b5e",
   "metadata": {},
   "source": [
    "Let us implement a user-friendly representation of a `PlayingCard`:"
   ]
  },
  {
   "cell_type": "code",
   "execution_count": 17,
   "id": "ce4ba536",
   "metadata": {},
   "outputs": [],
   "source": [
    "from dataclasses import dataclass\n",
    "\n",
    "@dataclass\n",
    "class PlayingCard:\n",
    "    rank: str\n",
    "    suit: str\n",
    "\n",
    "    def __str__(self):\n",
    "        return f'{self.suit}{self.rank}'"
   ]
  },
  {
   "cell_type": "markdown",
   "id": "b825d7c9",
   "metadata": {},
   "source": [
    "The cards now look much nicer, but the deck is still as verbose as ever:"
   ]
  },
  {
   "cell_type": "code",
   "execution_count": 18,
   "id": "f7689efe-33ac-423d-a12a-2117aa91c800",
   "metadata": {},
   "outputs": [
    {
     "data": {
      "text/plain": [
       "PlayingCard(rank='A', suit='♠')"
      ]
     },
     "execution_count": 18,
     "metadata": {},
     "output_type": "execute_result"
    }
   ],
   "source": [
    "ace_of_spades = PlayingCard('A', '♠')\n",
    "ace_of_spades"
   ]
  },
  {
   "cell_type": "code",
   "execution_count": 19,
   "id": "f589ed9f-9f9d-480c-8ff4-9e987ddfa44c",
   "metadata": {},
   "outputs": [
    {
     "name": "stdout",
     "output_type": "stream",
     "text": [
      "♠A\n"
     ]
    }
   ],
   "source": [
    "print(ace_of_spades)"
   ]
  },
  {
   "cell_type": "code",
   "execution_count": 20,
   "id": "56bf7b20-1fdd-49ab-9496-25e1c23bef49",
   "metadata": {},
   "outputs": [
    {
     "name": "stdout",
     "output_type": "stream",
     "text": [
      "Deck(cards=[PlayingCard(rank='2', suit='♣'), PlayingCard(rank='3', suit='♣'), PlayingCard(rank='4', suit='♣'), PlayingCard(rank='5', suit='♣'), PlayingCard(rank='6', suit='♣'), PlayingCard(rank='7', suit='♣'), PlayingCard(rank='8', suit='♣'), PlayingCard(rank='9', suit='♣'), PlayingCard(rank='10', suit='♣'), PlayingCard(rank='J', suit='♣'), PlayingCard(rank='Q', suit='♣'), PlayingCard(rank='K', suit='♣'), PlayingCard(rank='A', suit='♣'), PlayingCard(rank='2', suit='♢'), PlayingCard(rank='3', suit='♢'), PlayingCard(rank='4', suit='♢'), PlayingCard(rank='5', suit='♢'), PlayingCard(rank='6', suit='♢'), PlayingCard(rank='7', suit='♢'), PlayingCard(rank='8', suit='♢'), PlayingCard(rank='9', suit='♢'), PlayingCard(rank='10', suit='♢'), PlayingCard(rank='J', suit='♢'), PlayingCard(rank='Q', suit='♢'), PlayingCard(rank='K', suit='♢'), PlayingCard(rank='A', suit='♢'), PlayingCard(rank='2', suit='♡'), PlayingCard(rank='3', suit='♡'), PlayingCard(rank='4', suit='♡'), PlayingCard(rank='5', suit='♡'), PlayingCard(rank='6', suit='♡'), PlayingCard(rank='7', suit='♡'), PlayingCard(rank='8', suit='♡'), PlayingCard(rank='9', suit='♡'), PlayingCard(rank='10', suit='♡'), PlayingCard(rank='J', suit='♡'), PlayingCard(rank='Q', suit='♡'), PlayingCard(rank='K', suit='♡'), PlayingCard(rank='A', suit='♡'), PlayingCard(rank='2', suit='♠'), PlayingCard(rank='3', suit='♠'), PlayingCard(rank='4', suit='♠'), PlayingCard(rank='5', suit='♠'), PlayingCard(rank='6', suit='♠'), PlayingCard(rank='7', suit='♠'), PlayingCard(rank='8', suit='♠'), PlayingCard(rank='9', suit='♠'), PlayingCard(rank='10', suit='♠'), PlayingCard(rank='J', suit='♠'), PlayingCard(rank='Q', suit='♠'), PlayingCard(rank='K', suit='♠'), PlayingCard(rank='A', suit='♠')])\n"
     ]
    }
   ],
   "source": [
    "print(Deck())"
   ]
  },
  {
   "cell_type": "markdown",
   "id": "6d6f657e",
   "metadata": {},
   "source": [
    "To show that it is possible to add your own `.__repr__()` method as well, we will violate the principle that it should return code that can recreate an object. [Practicality beats purity](https://www.python.org/dev/peps/pep-0020/) after all. The following code adds a more concise representation of the `Deck`:"
   ]
  },
  {
   "cell_type": "code",
   "execution_count": 22,
   "id": "d1a9f75c",
   "metadata": {},
   "outputs": [],
   "source": [
    "from dataclasses import dataclass, field\n",
    "from typing import List\n",
    "\n",
    "@dataclass\n",
    "class Deck:\n",
    "    cards: List[PlayingCard] = field(default_factory=make_french_deck)\n",
    "\n",
    "    def __repr__(self):\n",
    "        cards = ', '.join(f'{c!s}' for c in self.cards)\n",
    "        return f'{self.__class__.__name__}({cards})'"
   ]
  },
  {
   "cell_type": "markdown",
   "id": "3f8d1c67",
   "metadata": {},
   "source": [
    "Note the `!s` specifier in the `{c!s}` format string. It means that we explicitly want to use the `str()` representation of each `PlayingCard`. With the new `.__repr__()`, the representation of `Deck` is easier on the eyes:"
   ]
  },
  {
   "cell_type": "code",
   "execution_count": 23,
   "id": "1f5a89b1",
   "metadata": {},
   "outputs": [
    {
     "data": {
      "text/plain": [
       "Deck(♣2, ♣3, ♣4, ♣5, ♣6, ♣7, ♣8, ♣9, ♣10, ♣J, ♣Q, ♣K, ♣A, ♢2, ♢3, ♢4, ♢5, ♢6, ♢7, ♢8, ♢9, ♢10, ♢J, ♢Q, ♢K, ♢A, ♡2, ♡3, ♡4, ♡5, ♡6, ♡7, ♡8, ♡9, ♡10, ♡J, ♡Q, ♡K, ♡A, ♠2, ♠3, ♠4, ♠5, ♠6, ♠7, ♠8, ♠9, ♠10, ♠J, ♠Q, ♠K, ♠A)"
      ]
     },
     "execution_count": 23,
     "metadata": {},
     "output_type": "execute_result"
    }
   ],
   "source": [
    "Deck()"
   ]
  },
  {
   "cell_type": "markdown",
   "id": "604f2531",
   "metadata": {},
   "source": [
    "<a class=\"anchor\" id=\"comparing_cards\"></a>\n",
    "\n",
    "### Comparing Cards"
   ]
  },
  {
   "cell_type": "markdown",
   "id": "ab8489b7",
   "metadata": {},
   "source": [
    "In many card games, cards are compared to each other. For instance in a typical trick taking game, the highest card takes the trick. As it is currently implemented, the `PlayingCard` class does not support this kind of comparison:"
   ]
  },
  {
   "cell_type": "code",
   "execution_count": 24,
   "id": "8028c3c1",
   "metadata": {},
   "outputs": [
    {
     "ename": "TypeError",
     "evalue": "'>' not supported between instances of 'PlayingCard' and 'PlayingCard'",
     "output_type": "error",
     "traceback": [
      "\u001b[0;31m---------------------------------------------------------------------------\u001b[0m",
      "\u001b[0;31mTypeError\u001b[0m                                 Traceback (most recent call last)",
      "\u001b[0;32m<ipython-input-24-400fb2b5fb73>\u001b[0m in \u001b[0;36m<module>\u001b[0;34m\u001b[0m\n\u001b[1;32m      1\u001b[0m \u001b[0mqueen_of_hearts\u001b[0m \u001b[0;34m=\u001b[0m \u001b[0mPlayingCard\u001b[0m\u001b[0;34m(\u001b[0m\u001b[0;34m'Q'\u001b[0m\u001b[0;34m,\u001b[0m \u001b[0;34m'♡'\u001b[0m\u001b[0;34m)\u001b[0m\u001b[0;34m\u001b[0m\u001b[0;34m\u001b[0m\u001b[0m\n\u001b[1;32m      2\u001b[0m \u001b[0mace_of_spades\u001b[0m \u001b[0;34m=\u001b[0m \u001b[0mPlayingCard\u001b[0m\u001b[0;34m(\u001b[0m\u001b[0;34m'A'\u001b[0m\u001b[0;34m,\u001b[0m \u001b[0;34m'♠'\u001b[0m\u001b[0;34m)\u001b[0m\u001b[0;34m\u001b[0m\u001b[0;34m\u001b[0m\u001b[0m\n\u001b[0;32m----> 3\u001b[0;31m \u001b[0mace_of_spades\u001b[0m \u001b[0;34m>\u001b[0m \u001b[0mqueen_of_hearts\u001b[0m\u001b[0;34m\u001b[0m\u001b[0;34m\u001b[0m\u001b[0m\n\u001b[0m",
      "\u001b[0;31mTypeError\u001b[0m: '>' not supported between instances of 'PlayingCard' and 'PlayingCard'"
     ]
    }
   ],
   "source": [
    "queen_of_hearts = PlayingCard('Q', '♡')\n",
    "ace_of_spades = PlayingCard('A', '♠')\n",
    "ace_of_spades > queen_of_hearts"
   ]
  },
  {
   "cell_type": "markdown",
   "id": "d101f558",
   "metadata": {},
   "source": [
    "This is, however, (seemingly) easy to rectify:"
   ]
  },
  {
   "cell_type": "code",
   "execution_count": 25,
   "id": "7f9c6250",
   "metadata": {},
   "outputs": [],
   "source": [
    "from dataclasses import dataclass\n",
    "\n",
    "@dataclass(order=True)\n",
    "class PlayingCard:\n",
    "    rank: str\n",
    "    suit: str\n",
    "\n",
    "    def __str__(self):\n",
    "        return f'{self.suit}{self.rank}'"
   ]
  },
  {
   "cell_type": "markdown",
   "id": "42612194",
   "metadata": {},
   "source": [
    "The `@dataclass` decorator has two forms. So far you have seen the simple form where `@dataclass` is specified without any parentheses and parameters. However, you can also give parameters to the `@dataclass()` decorator in parentheses. The following parameters are supported:"
   ]
  },
  {
   "cell_type": "markdown",
   "id": "a3684d9b",
   "metadata": {},
   "source": [
    "- `init`: Add `.__init__()` method? (Default is `True`.)\n",
    "- `repr`: Add `.__repr__()` method? (Default is `True`.)\n",
    "- `eq`: Add `.__eq__()` method? (Default is `True`.)\n",
    "- `order`: Add ordering methods? (Default is `False`.)\n",
    "- `unsafe_hash`: Force the addition of a `.__hash__()` method? (Default is `False`.)\n",
    "- `frozen`: If `True`, assigning to fields raise an exception. (Default is `False`.)\n"
   ]
  },
  {
   "cell_type": "markdown",
   "id": "f82cf21e",
   "metadata": {},
   "source": [
    "See [the original PEP](https://www.python.org/dev/peps/pep-0557/#id7) for more information about each parameter. After setting `order=True`, instances of `PlayingCard` can be compared:"
   ]
  },
  {
   "cell_type": "code",
   "execution_count": 26,
   "id": "df23acca",
   "metadata": {},
   "outputs": [
    {
     "data": {
      "text/plain": [
       "False"
      ]
     },
     "execution_count": 26,
     "metadata": {},
     "output_type": "execute_result"
    }
   ],
   "source": [
    "queen_of_hearts = PlayingCard('Q', '♡')\n",
    "ace_of_spades = PlayingCard('A', '♠')\n",
    "ace_of_spades > queen_of_hearts"
   ]
  },
  {
   "cell_type": "markdown",
   "id": "c503e1e2",
   "metadata": {},
   "source": [
    "How are the two cards compared though? You have not specified how the ordering should be done, and for some reason Python seems to believe that a Queen is higher than an Ace…"
   ]
  },
  {
   "cell_type": "markdown",
   "id": "196dc832",
   "metadata": {},
   "source": [
    "It turns out that data classes compare objects as if they were tuples of their fields. In other words, a Queen is higher than an Ace because `'Q'` comes after `'A'` in the alphabet:"
   ]
  },
  {
   "cell_type": "code",
   "execution_count": 27,
   "id": "face16d7",
   "metadata": {},
   "outputs": [
    {
     "data": {
      "text/plain": [
       "False"
      ]
     },
     "execution_count": 27,
     "metadata": {},
     "output_type": "execute_result"
    }
   ],
   "source": [
    "('A', '♠') > ('Q', '♡')"
   ]
  },
  {
   "cell_type": "markdown",
   "id": "9c447d0b",
   "metadata": {},
   "source": [
    "That does not really work for us. Instead, we need to define some kind of sort index that uses the order of `RANKS` and `SUITS`. Something like this:"
   ]
  },
  {
   "cell_type": "code",
   "execution_count": 28,
   "id": "82b6299c",
   "metadata": {},
   "outputs": [
    {
     "data": {
      "text/plain": [
       "42"
      ]
     },
     "execution_count": 28,
     "metadata": {},
     "output_type": "execute_result"
    }
   ],
   "source": [
    "RANKS = '2 3 4 5 6 7 8 9 10 J Q K A'.split()\n",
    "SUITS = '♣ ♢ ♡ ♠'.split()\n",
    "card = PlayingCard('Q', '♡')\n",
    "RANKS.index(card.rank) * len(SUITS) + SUITS.index(card.suit)"
   ]
  },
  {
   "cell_type": "markdown",
   "id": "92bec1a8",
   "metadata": {},
   "source": [
    "For `PlayingCard` to use this sort index for comparisons, we need to add a field `.sort_index` to the class. However, this field should be calculated from the other fields `.rank` and `.suit` automatically. This is exactly what the special method `.__post_init__()` is for. It allows for special processing after the regular `.__init__()` method is called:"
   ]
  },
  {
   "cell_type": "code",
   "execution_count": null,
   "id": "a577f40c",
   "metadata": {},
   "outputs": [],
   "source": [
    "from dataclasses import dataclass, field\n",
    "\n",
    "RANKS = '2 3 4 5 6 7 8 9 10 J Q K A'.split()\n",
    "SUITS = '♣ ♢ ♡ ♠'.split()\n",
    "\n",
    "@dataclass(order=True)\n",
    "class PlayingCard:\n",
    "    sort_index: int = field(init=False, repr=False)\n",
    "    rank: str\n",
    "    suit: str\n",
    "\n",
    "    def __post_init__(self):\n",
    "        self.sort_index = (\n",
    "            RANKS.index(self.rank) * len(SUITS) + SUITS.index(self.suit)\n",
    "        )\n",
    "\n",
    "    def __str__(self):\n",
    "        return f'{self.suit}{self.rank}'"
   ]
  },
  {
   "cell_type": "markdown",
   "id": "bfb76e75",
   "metadata": {},
   "source": [
    "Note that `.sort_index` is added as the first field of the class. That way, the comparison is first done using `.sort_index` and only if there are ties are the other fields used. Using `field()`, you must also specify that `.sort_index` should not be included as a parameter in the `.__init__()` method (because it is calculated from the `.rank` and `.suit` fields). To avoid confusing the user about this implementation detail, it is probably also a good idea to remove `.sort_index` from the `repr` of the class."
   ]
  },
  {
   "cell_type": "markdown",
   "id": "11de2ba6",
   "metadata": {},
   "source": [
    "Finally, aces are high:"
   ]
  },
  {
   "cell_type": "code",
   "execution_count": 29,
   "id": "6ae15d12",
   "metadata": {},
   "outputs": [
    {
     "data": {
      "text/plain": [
       "False"
      ]
     },
     "execution_count": 29,
     "metadata": {},
     "output_type": "execute_result"
    }
   ],
   "source": [
    "queen_of_hearts = PlayingCard('Q', '♡')\n",
    "ace_of_spades = PlayingCard('A', '♠')\n",
    "ace_of_spades > queen_of_hearts"
   ]
  },
  {
   "cell_type": "markdown",
   "id": "57ed9ea4",
   "metadata": {},
   "source": [
    "You can now easily create a sorted deck:"
   ]
  },
  {
   "cell_type": "code",
   "execution_count": 30,
   "id": "afb500c7",
   "metadata": {},
   "outputs": [
    {
     "data": {
      "text/plain": [
       "Deck(♠10, ♡10, ♢10, ♣10, ♠2, ♡2, ♢2, ♣2, ♠3, ♡3, ♢3, ♣3, ♠4, ♡4, ♢4, ♣4, ♠5, ♡5, ♢5, ♣5, ♠6, ♡6, ♢6, ♣6, ♠7, ♡7, ♢7, ♣7, ♠8, ♡8, ♢8, ♣8, ♠9, ♡9, ♢9, ♣9, ♠A, ♡A, ♢A, ♣A, ♠J, ♡J, ♢J, ♣J, ♠K, ♡K, ♢K, ♣K, ♠Q, ♡Q, ♢Q, ♣Q)"
      ]
     },
     "execution_count": 30,
     "metadata": {},
     "output_type": "execute_result"
    }
   ],
   "source": [
    "Deck(sorted(make_french_deck()))"
   ]
  },
  {
   "cell_type": "markdown",
   "id": "4fc77bf0",
   "metadata": {},
   "source": [
    "Or, if you don’t care about [sorting](https://realpython.com/sorting-algorithms-python/), this is how you draw a random hand of 10 cards:"
   ]
  },
  {
   "cell_type": "code",
   "execution_count": 31,
   "id": "4cf4765f",
   "metadata": {},
   "outputs": [
    {
     "data": {
      "text/plain": [
       "Deck(♢A, ♠A, ♡6, ♣J, ♣2, ♡J, ♠3, ♣10, ♣Q, ♡8)"
      ]
     },
     "execution_count": 31,
     "metadata": {},
     "output_type": "execute_result"
    }
   ],
   "source": [
    "from random import sample\n",
    "Deck(sample(make_french_deck(), k=10))"
   ]
  },
  {
   "cell_type": "markdown",
   "id": "7d687aaf",
   "metadata": {},
   "source": [
    "Of course, you don’t need `order=True` for that…"
   ]
  },
  {
   "cell_type": "markdown",
   "id": "8f3cf436",
   "metadata": {},
   "source": [
    "<a class=\"anchor\" id=\"immutable_data_classes\"></a>\n",
    "\n",
    "## Immutable Data Classes"
   ]
  },
  {
   "cell_type": "markdown",
   "id": "dde70549",
   "metadata": {},
   "source": [
    "One of the defining features of the `namedtuple` you saw earlier is that it is [immutable](https://medium.com/@meghamohan/mutable-and-immutable-side-of-python-c2145cf72747). That is, the value of its fields may never change. For many types of data classes, this is a great idea! To make a data class immutable, set `frozen=True` when you create it. For example, the following is an immutable version of the `Position` class [you saw earlier](#basic-data-classes):"
   ]
  },
  {
   "cell_type": "code",
   "execution_count": 34,
   "id": "126294c4",
   "metadata": {},
   "outputs": [],
   "source": [
    "from dataclasses import dataclass\n",
    "\n",
    "@dataclass(frozen=True)\n",
    "class Position:\n",
    "    name: str\n",
    "    lon: float = 0.0\n",
    "    lat: float = 0.0"
   ]
  },
  {
   "cell_type": "markdown",
   "id": "203bfcc1",
   "metadata": {},
   "source": [
    "In a frozen data class, you can not assign values to the fields after creation:"
   ]
  },
  {
   "cell_type": "code",
   "execution_count": 35,
   "id": "7bf91395-cc8c-4f44-8790-d22ac6aab209",
   "metadata": {},
   "outputs": [
    {
     "data": {
      "text/plain": [
       "'Oslo'"
      ]
     },
     "execution_count": 35,
     "metadata": {},
     "output_type": "execute_result"
    }
   ],
   "source": [
    "pos = Position('Oslo', 10.8, 59.9)\n",
    "pos.name"
   ]
  },
  {
   "cell_type": "code",
   "execution_count": 36,
   "id": "35d8c560-1601-4376-8348-73162719bc41",
   "metadata": {},
   "outputs": [
    {
     "ename": "FrozenInstanceError",
     "evalue": "cannot assign to field 'name'",
     "output_type": "error",
     "traceback": [
      "\u001b[0;31m---------------------------------------------------------------------------\u001b[0m",
      "\u001b[0;31mFrozenInstanceError\u001b[0m                       Traceback (most recent call last)",
      "\u001b[0;32m<ipython-input-36-14379eacf0ea>\u001b[0m in \u001b[0;36m<module>\u001b[0;34m\u001b[0m\n\u001b[0;32m----> 1\u001b[0;31m \u001b[0mpos\u001b[0m\u001b[0;34m.\u001b[0m\u001b[0mname\u001b[0m \u001b[0;34m=\u001b[0m \u001b[0;34m'Stockholm'\u001b[0m\u001b[0;34m\u001b[0m\u001b[0;34m\u001b[0m\u001b[0m\n\u001b[0m",
      "\u001b[0;32m<string>\u001b[0m in \u001b[0;36m__setattr__\u001b[0;34m(self, name, value)\u001b[0m\n",
      "\u001b[0;31mFrozenInstanceError\u001b[0m: cannot assign to field 'name'"
     ]
    }
   ],
   "source": [
    "pos.name = 'Stockholm'"
   ]
  },
  {
   "cell_type": "markdown",
   "id": "614a4a02",
   "metadata": {},
   "source": [
    "Be aware though that if your data class contains mutable fields, those might still change. This is true for all nested data structures in Python (see [this video for further info](https://www.youtube.com/watch?v=p9ppfvHv2Us)):"
   ]
  },
  {
   "cell_type": "code",
   "execution_count": 38,
   "id": "8ebdd8e7",
   "metadata": {},
   "outputs": [],
   "source": [
    "from dataclasses import dataclass\n",
    "from typing import List\n",
    "\n",
    "@dataclass(frozen=True)\n",
    "class ImmutableCard:\n",
    "    rank: str\n",
    "    suit: str\n",
    "\n",
    "@dataclass(frozen=True)\n",
    "class ImmutableDeck:\n",
    "    cards: List[ImmutableCard]"
   ]
  },
  {
   "cell_type": "markdown",
   "id": "0fa03f08",
   "metadata": {},
   "source": [
    "Even though both `ImmutableCard` and `ImmutableDeck` are immutable, the list holding `cards` is not. You can therefore still change the cards in the deck:"
   ]
  },
  {
   "cell_type": "code",
   "execution_count": 39,
   "id": "d4894309-29f8-44f7-8512-fba4095ab571",
   "metadata": {},
   "outputs": [
    {
     "data": {
      "text/plain": [
       "ImmutableDeck(cards=[ImmutableCard(rank='Q', suit='♡'), ImmutableCard(rank='A', suit='♠')])"
      ]
     },
     "execution_count": 39,
     "metadata": {},
     "output_type": "execute_result"
    }
   ],
   "source": [
    "queen_of_hearts = ImmutableCard('Q', '♡')\n",
    "ace_of_spades = ImmutableCard('A', '♠')\n",
    "deck = ImmutableDeck([queen_of_hearts, ace_of_spades])\n",
    "deck"
   ]
  },
  {
   "cell_type": "code",
   "execution_count": 40,
   "id": "03bbeba0-0a36-4fd3-ba32-55221da77bad",
   "metadata": {},
   "outputs": [
    {
     "data": {
      "text/plain": [
       "ImmutableDeck(cards=[ImmutableCard(rank='7', suit='♢'), ImmutableCard(rank='A', suit='♠')])"
      ]
     },
     "execution_count": 40,
     "metadata": {},
     "output_type": "execute_result"
    }
   ],
   "source": [
    "deck.cards[0] = ImmutableCard('7', '♢')\n",
    "deck"
   ]
  },
  {
   "cell_type": "markdown",
   "id": "9f20afe1",
   "metadata": {},
   "source": [
    "To avoid this, make sure all fields of an immutable data class use immutable types (but remember that types are not enforced at runtime). The `ImmutableDeck` should be implemented using a tuple instead of a list:"
   ]
  },
  {
   "cell_type": "code",
   "execution_count": 42,
   "id": "96a9db2e-cb26-4e6d-8dcb-9284f85dc103",
   "metadata": {},
   "outputs": [
    {
     "data": {
      "text/plain": [
       "ImmutableDeck(cards=(ImmutableCard(rank='Q', suit='♡'), ImmutableCard(rank='A', suit='♠')))"
      ]
     },
     "execution_count": 42,
     "metadata": {},
     "output_type": "execute_result"
    }
   ],
   "source": [
    "deck = ImmutableDeck((queen_of_hearts, ace_of_spades))\n",
    "deck"
   ]
  },
  {
   "cell_type": "code",
   "execution_count": 43,
   "id": "60a48aa6-2123-448a-8df5-9ed7ee39a94e",
   "metadata": {},
   "outputs": [
    {
     "ename": "TypeError",
     "evalue": "'tuple' object does not support item assignment",
     "output_type": "error",
     "traceback": [
      "\u001b[0;31m---------------------------------------------------------------------------\u001b[0m",
      "\u001b[0;31mTypeError\u001b[0m                                 Traceback (most recent call last)",
      "\u001b[0;32m<ipython-input-43-9232a61d3d36>\u001b[0m in \u001b[0;36m<module>\u001b[0;34m\u001b[0m\n\u001b[0;32m----> 1\u001b[0;31m \u001b[0mdeck\u001b[0m\u001b[0;34m.\u001b[0m\u001b[0mcards\u001b[0m\u001b[0;34m[\u001b[0m\u001b[0;36m0\u001b[0m\u001b[0;34m]\u001b[0m \u001b[0;34m=\u001b[0m \u001b[0mImmutableCard\u001b[0m\u001b[0;34m(\u001b[0m\u001b[0;34m'7'\u001b[0m\u001b[0;34m,\u001b[0m \u001b[0;34m'♢'\u001b[0m\u001b[0;34m)\u001b[0m\u001b[0;34m\u001b[0m\u001b[0;34m\u001b[0m\u001b[0m\n\u001b[0m",
      "\u001b[0;31mTypeError\u001b[0m: 'tuple' object does not support item assignment"
     ]
    }
   ],
   "source": [
    "deck.cards[0] = ImmutableCard('7', '♢')"
   ]
  },
  {
   "cell_type": "markdown",
   "id": "592d353c",
   "metadata": {},
   "source": [
    "<a class=\"anchor\" id=\"inheritance\"></a>\n",
    "\n",
    "## Inheritance"
   ]
  },
  {
   "cell_type": "markdown",
   "id": "cbfcfd31",
   "metadata": {},
   "source": [
    "You can [subclass](https://realpython.com/python3-object-oriented-programming/) data classes quite freely. As an example, we will extend our `Position` example with a `country` field and use it to record capitals:"
   ]
  },
  {
   "cell_type": "code",
   "execution_count": 44,
   "id": "dd8a145f",
   "metadata": {},
   "outputs": [],
   "source": [
    "from dataclasses import dataclass\n",
    "\n",
    "@dataclass\n",
    "class Position:\n",
    "    name: str\n",
    "    lon: float\n",
    "    lat: float\n",
    "\n",
    "@dataclass\n",
    "class Capital(Position):\n",
    "    country: str"
   ]
  },
  {
   "cell_type": "markdown",
   "id": "30ee6f8d",
   "metadata": {},
   "source": [
    "In this simple example, everything works without a hitch:"
   ]
  },
  {
   "cell_type": "code",
   "execution_count": 45,
   "id": "9fc4a02b",
   "metadata": {},
   "outputs": [
    {
     "data": {
      "text/plain": [
       "Capital(name='Oslo', lon=10.8, lat=59.9, country='Norway')"
      ]
     },
     "execution_count": 45,
     "metadata": {},
     "output_type": "execute_result"
    }
   ],
   "source": [
    "Capital('Oslo', 10.8, 59.9, 'Norway')"
   ]
  },
  {
   "cell_type": "markdown",
   "id": "fa74bd10",
   "metadata": {},
   "source": [
    "The `country` field of `Capital` is added after the three original fields in `Position`. Things get a little more complicated if any fields in the base class have default values:"
   ]
  },
  {
   "cell_type": "code",
   "execution_count": 46,
   "id": "d13fa3a5",
   "metadata": {},
   "outputs": [
    {
     "ename": "TypeError",
     "evalue": "non-default argument 'country' follows default argument",
     "output_type": "error",
     "traceback": [
      "\u001b[0;31m---------------------------------------------------------------------------\u001b[0m",
      "\u001b[0;31mTypeError\u001b[0m                                 Traceback (most recent call last)",
      "\u001b[0;32m<ipython-input-46-dc69835dae33>\u001b[0m in \u001b[0;36m<module>\u001b[0;34m\u001b[0m\n\u001b[1;32m      8\u001b[0m \u001b[0;34m\u001b[0m\u001b[0m\n\u001b[1;32m      9\u001b[0m \u001b[0;34m@\u001b[0m\u001b[0mdataclass\u001b[0m\u001b[0;34m\u001b[0m\u001b[0;34m\u001b[0m\u001b[0m\n\u001b[0;32m---> 10\u001b[0;31m \u001b[0;32mclass\u001b[0m \u001b[0mCapital\u001b[0m\u001b[0;34m(\u001b[0m\u001b[0mPosition\u001b[0m\u001b[0;34m)\u001b[0m\u001b[0;34m:\u001b[0m\u001b[0;34m\u001b[0m\u001b[0;34m\u001b[0m\u001b[0m\n\u001b[0m\u001b[1;32m     11\u001b[0m     \u001b[0mcountry\u001b[0m\u001b[0;34m:\u001b[0m \u001b[0mstr\u001b[0m  \u001b[0;31m# Does NOT work\u001b[0m\u001b[0;34m\u001b[0m\u001b[0;34m\u001b[0m\u001b[0m\n",
      "\u001b[0;32m~/opt/anaconda3/envs/py38/lib/python3.8/dataclasses.py\u001b[0m in \u001b[0;36mdataclass\u001b[0;34m(cls, init, repr, eq, order, unsafe_hash, frozen)\u001b[0m\n\u001b[1;32m   1017\u001b[0m \u001b[0;34m\u001b[0m\u001b[0m\n\u001b[1;32m   1018\u001b[0m     \u001b[0;31m# We're called as @dataclass without parens.\u001b[0m\u001b[0;34m\u001b[0m\u001b[0;34m\u001b[0m\u001b[0;34m\u001b[0m\u001b[0m\n\u001b[0;32m-> 1019\u001b[0;31m     \u001b[0;32mreturn\u001b[0m \u001b[0mwrap\u001b[0m\u001b[0;34m(\u001b[0m\u001b[0mcls\u001b[0m\u001b[0;34m)\u001b[0m\u001b[0;34m\u001b[0m\u001b[0;34m\u001b[0m\u001b[0m\n\u001b[0m\u001b[1;32m   1020\u001b[0m \u001b[0;34m\u001b[0m\u001b[0m\n\u001b[1;32m   1021\u001b[0m \u001b[0;34m\u001b[0m\u001b[0m\n",
      "\u001b[0;32m~/opt/anaconda3/envs/py38/lib/python3.8/dataclasses.py\u001b[0m in \u001b[0;36mwrap\u001b[0;34m(cls)\u001b[0m\n\u001b[1;32m   1009\u001b[0m \u001b[0;34m\u001b[0m\u001b[0m\n\u001b[1;32m   1010\u001b[0m     \u001b[0;32mdef\u001b[0m \u001b[0mwrap\u001b[0m\u001b[0;34m(\u001b[0m\u001b[0mcls\u001b[0m\u001b[0;34m)\u001b[0m\u001b[0;34m:\u001b[0m\u001b[0;34m\u001b[0m\u001b[0;34m\u001b[0m\u001b[0m\n\u001b[0;32m-> 1011\u001b[0;31m         \u001b[0;32mreturn\u001b[0m \u001b[0m_process_class\u001b[0m\u001b[0;34m(\u001b[0m\u001b[0mcls\u001b[0m\u001b[0;34m,\u001b[0m \u001b[0minit\u001b[0m\u001b[0;34m,\u001b[0m \u001b[0mrepr\u001b[0m\u001b[0;34m,\u001b[0m \u001b[0meq\u001b[0m\u001b[0;34m,\u001b[0m \u001b[0morder\u001b[0m\u001b[0;34m,\u001b[0m \u001b[0munsafe_hash\u001b[0m\u001b[0;34m,\u001b[0m \u001b[0mfrozen\u001b[0m\u001b[0;34m)\u001b[0m\u001b[0;34m\u001b[0m\u001b[0;34m\u001b[0m\u001b[0m\n\u001b[0m\u001b[1;32m   1012\u001b[0m \u001b[0;34m\u001b[0m\u001b[0m\n\u001b[1;32m   1013\u001b[0m     \u001b[0;31m# See if we're being called as @dataclass or @dataclass().\u001b[0m\u001b[0;34m\u001b[0m\u001b[0;34m\u001b[0m\u001b[0;34m\u001b[0m\u001b[0m\n",
      "\u001b[0;32m~/opt/anaconda3/envs/py38/lib/python3.8/dataclasses.py\u001b[0m in \u001b[0;36m_process_class\u001b[0;34m(cls, init, repr, eq, order, unsafe_hash, frozen)\u001b[0m\n\u001b[1;32m    923\u001b[0m                 if f._field_type in (_FIELD, _FIELD_INITVAR)]\n\u001b[1;32m    924\u001b[0m         _set_new_attribute(cls, '__init__',\n\u001b[0;32m--> 925\u001b[0;31m                            _init_fn(flds,\n\u001b[0m\u001b[1;32m    926\u001b[0m                                     \u001b[0mfrozen\u001b[0m\u001b[0;34m,\u001b[0m\u001b[0;34m\u001b[0m\u001b[0;34m\u001b[0m\u001b[0m\n\u001b[1;32m    927\u001b[0m                                     \u001b[0mhas_post_init\u001b[0m\u001b[0;34m,\u001b[0m\u001b[0;34m\u001b[0m\u001b[0;34m\u001b[0m\u001b[0m\n",
      "\u001b[0;32m~/opt/anaconda3/envs/py38/lib/python3.8/dataclasses.py\u001b[0m in \u001b[0;36m_init_fn\u001b[0;34m(fields, frozen, has_post_init, self_name, globals)\u001b[0m\n\u001b[1;32m    500\u001b[0m                 \u001b[0mseen_default\u001b[0m \u001b[0;34m=\u001b[0m \u001b[0;32mTrue\u001b[0m\u001b[0;34m\u001b[0m\u001b[0;34m\u001b[0m\u001b[0m\n\u001b[1;32m    501\u001b[0m             \u001b[0;32melif\u001b[0m \u001b[0mseen_default\u001b[0m\u001b[0;34m:\u001b[0m\u001b[0;34m\u001b[0m\u001b[0;34m\u001b[0m\u001b[0m\n\u001b[0;32m--> 502\u001b[0;31m                 raise TypeError(f'non-default argument {f.name!r} '\n\u001b[0m\u001b[1;32m    503\u001b[0m                                 'follows default argument')\n\u001b[1;32m    504\u001b[0m \u001b[0;34m\u001b[0m\u001b[0m\n",
      "\u001b[0;31mTypeError\u001b[0m: non-default argument 'country' follows default argument"
     ]
    }
   ],
   "source": [
    "from dataclasses import dataclass\n",
    "\n",
    "@dataclass\n",
    "class Position:\n",
    "    name: str\n",
    "    lon: float = 0.0\n",
    "    lat: float = 0.0\n",
    "\n",
    "@dataclass\n",
    "class Capital(Position):\n",
    "    country: str  # Does NOT work"
   ]
  },
  {
   "cell_type": "markdown",
   "id": "1114323a",
   "metadata": {},
   "source": [
    "This code will immediately crash with a `TypeError` complaining that “non-default argument ‘country’ follows default argument.” The problem is that our new `country` field has no default value, while the `lon` and `lat` fields have default values. The data class will try to write an `.__init__()` method with the following signature:"
   ]
  },
  {
   "cell_type": "code",
   "execution_count": 47,
   "id": "6c911f7e",
   "metadata": {},
   "outputs": [
    {
     "ename": "SyntaxError",
     "evalue": "non-default argument follows default argument (<ipython-input-47-823de51086e6>, line 1)",
     "output_type": "error",
     "traceback": [
      "\u001b[0;36m  File \u001b[0;32m\"<ipython-input-47-823de51086e6>\"\u001b[0;36m, line \u001b[0;32m1\u001b[0m\n\u001b[0;31m    def __init__(name: str, lon: float = 0.0, lat: float = 0.0, country: str):\u001b[0m\n\u001b[0m                 ^\u001b[0m\n\u001b[0;31mSyntaxError\u001b[0m\u001b[0;31m:\u001b[0m non-default argument follows default argument\n"
     ]
    }
   ],
   "source": [
    "def __init__(name: str, lon: float = 0.0, lat: float = 0.0, country: str):\n",
    "    ..."
   ]
  },
  {
   "cell_type": "markdown",
   "id": "26f13c01",
   "metadata": {},
   "source": [
    "However, this is not valid Python. [If a parameter has a default value, all following parameters must also have a default value](https://docs.python.org/reference/compound_stmts.html#function-definitions). In other words, if a field in a base class has a default value, then all new fields added in a subclass must have default values as well."
   ]
  },
  {
   "cell_type": "markdown",
   "id": "a7b3b50b",
   "metadata": {},
   "source": [
    "Another thing to be aware of is how fields are ordered in a subclass. Starting with the base class, fields are ordered in the order in which they are first defined. If a field is redefined in a subclass, its order does not change. For example, if you define `Position` and `Capital` as follows:"
   ]
  },
  {
   "cell_type": "code",
   "execution_count": 48,
   "id": "fda4006b",
   "metadata": {},
   "outputs": [],
   "source": [
    "from dataclasses import dataclass\n",
    "\n",
    "@dataclass\n",
    "class Position:\n",
    "    name: str\n",
    "    lon: float = 0.0\n",
    "    lat: float = 0.0\n",
    "\n",
    "@dataclass\n",
    "class Capital(Position):\n",
    "    country: str = 'Unknown'\n",
    "    lat: float = 40.0"
   ]
  },
  {
   "cell_type": "markdown",
   "id": "c1763599",
   "metadata": {},
   "source": [
    "Then the order of the fields in `Capital` will still be `name`, `lon`, `lat`, `country`. However, the default value of `lat` will be `40.0`."
   ]
  },
  {
   "cell_type": "code",
   "execution_count": 49,
   "id": "a7e96f6b",
   "metadata": {},
   "outputs": [
    {
     "data": {
      "text/plain": [
       "Capital(name='Madrid', lon=0.0, lat=40.0, country='Spain')"
      ]
     },
     "execution_count": 49,
     "metadata": {},
     "output_type": "execute_result"
    }
   ],
   "source": [
    "Capital('Madrid', country='Spain')"
   ]
  },
  {
   "cell_type": "markdown",
   "id": "510e1d61",
   "metadata": {},
   "source": [
    "<a class=\"anchor\" id=\"optimizing_data_classes\"></a>\n",
    "\n",
    "## Optimizing Data Classes"
   ]
  },
  {
   "cell_type": "markdown",
   "id": "48145d96",
   "metadata": {},
   "source": [
    "I’m going to end this tutorial with a few words about [slots](https://docs.python.org/reference/datamodel.html#slots). Slots can be used to make classes faster and use less memory. Data classes have no explicit syntax for working with slots, but the normal way of creating slots works for data classes as well. (They really are just regular classes!)"
   ]
  },
  {
   "cell_type": "code",
   "execution_count": 1,
   "id": "9984378b",
   "metadata": {},
   "outputs": [],
   "source": [
    "from dataclasses import dataclass\n",
    "\n",
    "@dataclass\n",
    "class SimplePosition:\n",
    "    name: str\n",
    "    lon: float\n",
    "    lat: float\n",
    "\n",
    "@dataclass\n",
    "class SlotPosition:\n",
    "    __slots__ = ['name', 'lon', 'lat']\n",
    "    name: str\n",
    "    lon: float\n",
    "    lat: float\n",
    "    "
   ]
  },
  {
   "cell_type": "markdown",
   "id": "136f041c",
   "metadata": {},
   "source": [
    "Essentially, slots are defined using `.__slots__` to list the variables on a class. Variables or attributes not present in `.__slots__` may not be defined. Furthermore, a slots class may not have default values."
   ]
  },
  {
   "cell_type": "markdown",
   "id": "fa8111ef",
   "metadata": {},
   "source": [
    "The benefit of adding such restrictions is that certain optimizations may be done. For instance, slots classes take up less memory, as can be measured using [Pympler](https://pythonhosted.org/Pympler/):"
   ]
  },
  {
   "cell_type": "code",
   "execution_count": 53,
   "id": "0134d30e-effe-4ab1-9b7e-a0011424d512",
   "metadata": {},
   "outputs": [
    {
     "name": "stdout",
     "output_type": "stream",
     "text": [
      "Collecting pympler\n",
      "  Downloading Pympler-1.0.1-py3-none-any.whl (164 kB)\n",
      "\u001b[K     |████████████████████████████████| 164 kB 1.8 MB/s eta 0:00:01\n",
      "\u001b[?25hInstalling collected packages: pympler\n",
      "Successfully installed pympler-1.0.1\n"
     ]
    }
   ],
   "source": [
    "!pip install pympler"
   ]
  },
  {
   "cell_type": "code",
   "execution_count": 54,
   "id": "72ee1452",
   "metadata": {},
   "outputs": [
    {
     "data": {
      "text/plain": [
       "(424, 160)"
      ]
     },
     "execution_count": 54,
     "metadata": {},
     "output_type": "execute_result"
    }
   ],
   "source": [
    "from pympler import asizeof\n",
    "simple = SimplePosition('London', -0.1, 51.5)\n",
    "slot = SlotPosition('Madrid', -3.7, 40.4)\n",
    "asizeof.asizesof(simple, slot)"
   ]
  },
  {
   "cell_type": "markdown",
   "id": "7c1c83e9",
   "metadata": {},
   "source": [
    "Similarly, slots classes are typically faster to work with. The following example measures the speed of attribute access on a slots data class and a regular data class using [timeit](https://docs.python.org/library/timeit.html) from the standard library."
   ]
  },
  {
   "cell_type": "markdown",
   "id": "5bfb3bbd-ead7-4fa1-b2ac-de39d29f828b",
   "metadata": {},
   "source": [
    "```python\n",
    ">>> from timeit import timeit\n",
    ">>> timeit('slot.name', setup=\"slot=SlotPosition('Oslo', 10.8, 59.9)\", globals=globals())\n",
    "0.05882283499886398\n",
    ">>> timeit('simple.name', setup=\"simple=SimplePosition('Oslo', 10.8, 59.9)\", globals=globals())\n",
    "0.09207444800267695\n",
    "```"
   ]
  },
  {
   "cell_type": "markdown",
   "id": "ae846a84",
   "metadata": {},
   "source": [
    "In this particular example, the slot class is about 35% faster."
   ]
  },
  {
   "attachments": {},
   "cell_type": "markdown",
   "id": "b952aabd",
   "metadata": {},
   "source": [
    "<a class=\"anchor\" id=\"conclusion_&_further_reading\"></a>\n",
    "\n",
    "## <img src=\"../../images/logos/checkmark.png\" width=\"20\"/> Conclusion  & Further Reading"
   ]
  },
  {
   "cell_type": "markdown",
   "id": "eef5ab22",
   "metadata": {},
   "source": [
    "Data classes are one of the new features of Python 3.7. With data classes, you do not have to write boilerplate code to get proper initialization, representation, and comparisons for your objects. "
   ]
  },
  {
   "cell_type": "markdown",
   "id": "aa322991",
   "metadata": {},
   "source": [
    "You have seen how to define your own data classes, as well as:"
   ]
  },
  {
   "cell_type": "markdown",
   "id": "e9e8db15",
   "metadata": {},
   "source": [
    "- How to add default values to the fields in your data class\n",
    "- How to customize the ordering of data class objects\n",
    "- How to work with immutable data classes\n",
    "- How inheritance works for data classes\n"
   ]
  },
  {
   "cell_type": "markdown",
   "id": "9f6ff563",
   "metadata": {},
   "source": [
    "If you want to dive into all the details of data classes, have a look at [PEP 557](https://www.python.org/dev/peps/pep-0557/) as well as the discussions in the original [GitHub repo](https://github.com/ericvsmith/dataclasses/issues?utf8=%E2%9C%93&q=)."
   ]
  },
  {
   "cell_type": "markdown",
   "id": "841aead6",
   "metadata": {},
   "source": [
    "In addition, Raymond Hettinger’s PyCon 2018 talk [Dataclasses: The code generator to end all code generators](https://www.youtube.com/watch?v=T-TwcmT6Rcw) is well worth watching."
   ]
  },
  {
   "cell_type": "markdown",
   "id": "9001280b",
   "metadata": {},
   "source": [
    "If you do not yet have Python 3.7, there is also a [data classes backport for Python 3.6](https://github.com/ericvsmith/dataclasses). And now, go forth and write less code!"
   ]
  }
 ],
 "metadata": {
  "kernelspec": {
   "display_name": "Python 3",
   "language": "python",
   "name": "python3"
  },
  "language_info": {
   "codemirror_mode": {
    "name": "ipython",
    "version": 3
   },
   "file_extension": ".py",
   "mimetype": "text/x-python",
   "name": "python",
   "nbconvert_exporter": "python",
   "pygments_lexer": "ipython3",
   "version": "3.8.2 (default, Mar 13 2020, 10:14:16) \n[GCC 9.3.0]"
  },
  "vscode": {
   "interpreter": {
    "hash": "916dbcbb3f70747c44a77c7bcd40155683ae19c65e1c03b4aa3499c5328201f1"
   }
  }
 },
 "nbformat": 4,
 "nbformat_minor": 5
}
