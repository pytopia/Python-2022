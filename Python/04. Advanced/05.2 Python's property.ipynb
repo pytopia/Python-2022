{
 "cells": [
  {
   "cell_type": "markdown",
   "id": "911a2ead",
   "metadata": {},
   "source": [
    "<img src=\"../../images/banners/python-advanced.png\" width=\"600\"/>"
   ]
  },
  {
   "cell_type": "markdown",
   "id": "2dafb3d5",
   "metadata": {},
   "source": [
    "# <img src=\"../../images/logos/python.png\" width=\"23\"/> Python's property(): Add Managed Attributes to Your Classes \n"
   ]
  },
  {
   "cell_type": "markdown",
   "id": "31a0d24a",
   "metadata": {},
   "source": [
    "## <img src=\"../../images/logos/toc.png\" width=\"20\"/> Table of Contents \n",
    "* [Managing Attributes in Your Classes](#managing_attributes_in_your_classes)\n",
    "    * [The Getter and Setter Approach in Python](#the_getter_and_setter_approach_in_python)\n",
    "    * [The Pythonic Approach](#the_pythonic_approach)\n",
    "* [Getting Started With Python’s `property()`](#getting_started_with_python’s_`property()`)\n",
    "    * [Creating Attributes With `property()`](#creating_attributes_with_`property()`)\n",
    "    * [Using `property()` as a Decorator](#using_`property()`_as_a_decorator)\n",
    "* [Providing Read-Only Attributes](#providing_read-only_attributes)\n",
    "* [Creating Read-Write Attributes](#creating_read-write_attributes)\n",
    "* [Providing Write-Only Attributes](#providing_write-only_attributes)\n",
    "* [Putting Python’s `property()` Into Action](#putting_python’s_`property()`_into_action)\n",
    "    * [Validating Input Values](#validating_input_values)\n",
    "    * [Providing Computed Attributes](#providing_computed_attributes)\n",
    "    * [Caching Computed Attributes](#caching_computed_attributes)\n",
    "    * [Logging Attribute Access and Mutation](#logging_attribute_access_and_mutation)\n",
    "    * [Managing Attribute Deletion](#managing_attribute_deletion)\n",
    "    * [Creating Backward-Compatible Class APIs](#creating_backward-compatible_class_apis)\n",
    "* [Overriding Properties in Subclasses](#overriding_properties_in_subclasses)\n",
    "* [Conclusion](#conclusion)\n",
    "\n",
    "---"
   ]
  },
  {
   "cell_type": "markdown",
   "id": "23967661",
   "metadata": {},
   "source": [
    "With Python’s [`property()`](https://docs.python.org/3/library/functions.html#property), you can create **managed attributes** in your classes. You can use managed attributes, also known as **properties**, when you need to modify their internal implementation without changing the public [API](https://en.wikipedia.org/wiki/API) of the class. Providing stable APIs can help you avoid breaking your users’ code when they rely on your classes and objects."
   ]
  },
  {
   "cell_type": "markdown",
   "id": "865ac59c",
   "metadata": {},
   "source": [
    "Properties are arguably the most popular way to create managed attributes quickly and in the purest [Pythonic](https://realpython.com/learning-paths/writing-pythonic-code/) style."
   ]
  },
  {
   "cell_type": "markdown",
   "id": "048c5e85",
   "metadata": {},
   "source": [
    "**In this tutorial, you’ll learn how to:**"
   ]
  },
  {
   "cell_type": "markdown",
   "id": "4face9ea",
   "metadata": {},
   "source": [
    "- Create **managed attributes** or **properties** in your classes\n",
    "- Perform **lazy attribute evaluation** and provide **computed attributes**\n",
    "- Avoid **setter** and **getter** methods to make your classes more Pythonic\n",
    "- Create **read-only**, **read-write**, and **write-only** properties\n",
    "- Create consistent and **backward-compatible APIs** for your classes\n"
   ]
  },
  {
   "cell_type": "markdown",
   "id": "f0fdee26",
   "metadata": {},
   "source": [
    "You’ll also write a few practical examples that use `property()` for validating input data, computing attribute values dynamically, logging your code, and more. To get the most out of this tutorial, you should know the basics of [object-oriented](https://realpython.com/python3-object-oriented-programming/) programming and [decorators](https://realpython.com/primer-on-python-decorators/) in Python."
   ]
  },
  {
   "cell_type": "markdown",
   "id": "6eba7272",
   "metadata": {},
   "source": [
    "<a class=\"anchor\" id=\"managing_attributes_in_your_classes\"></a>\n",
    "\n",
    "## Managing Attributes in Your Classes"
   ]
  },
  {
   "cell_type": "markdown",
   "id": "56a44585",
   "metadata": {},
   "source": [
    "When you define a class in an [object-oriented](https://en.wikipedia.org/wiki/Object-oriented_programming) programming language, you’ll probably end up with some instance and class [attributes](https://realpython.com/python3-object-oriented-programming/#class-and-instance-attributes). In other words, you’ll end up with variables that are accessible through the instance, class, or even both, depending on the language. Attributes represent or hold the internal [state](https://en.wikipedia.org/wiki/State_(computer_science)) of a given object, which you’ll often need to access and mutate."
   ]
  },
  {
   "cell_type": "markdown",
   "id": "437f020a",
   "metadata": {},
   "source": [
    "Typically, you have at least two ways to manage an attribute. Either you can access and mutate the attribute directly or you can use **methods**. Methods are functions attached to a given class. They provide the behaviors and actions that an object can perform with its internal data and attributes."
   ]
  },
  {
   "cell_type": "markdown",
   "id": "c1f830a3",
   "metadata": {},
   "source": [
    "If you expose your attributes to the user, then they become part of the public [API](https://en.wikipedia.org/wiki/API) of your classes. Your user will access and mutate them directly in their code. The problem comes when you need to change the internal implementation of a given attribute."
   ]
  },
  {
   "cell_type": "markdown",
   "id": "8e92c16c",
   "metadata": {},
   "source": [
    "Say you’re working on a `Circle` class. The initial implementation has a single attribute called `.radius`. You finish coding the class and make it available to your end users. They start using `Circle` in their code to create a lot of awesome projects and applications. Good job!"
   ]
  },
  {
   "cell_type": "markdown",
   "id": "b047bac6",
   "metadata": {},
   "source": [
    "Now suppose that you have an important user that comes to you with a new requirement. They don’t want `Circle` to store the radius any longer. They need a public `.diameter` attribute."
   ]
  },
  {
   "cell_type": "markdown",
   "id": "dc031ebe",
   "metadata": {},
   "source": [
    "At this point, removing `.radius` to start using `.diameter` could break the code of some of your end users. You need to manage this situation in a way other than removing `.radius`."
   ]
  },
  {
   "cell_type": "markdown",
   "id": "e1431e9b",
   "metadata": {},
   "source": [
    "Programming languages such as [Java](https://realpython.com/oop-in-python-vs-java/) and [C++](https://en.wikipedia.org/wiki/C%2B%2B) encourage you to never expose your attributes to avoid this kind of problem. Instead, you should provide **getter** and **setter** methods, also known as [accessors](https://en.wikipedia.org/wiki/Accessor_method) and [mutators](https://en.wikipedia.org/wiki/Mutator_method), respectively. These methods offer a way to change the internal implementation of your attributes without changing your public API."
   ]
  },
  {
   "cell_type": "markdown",
   "id": "5bd708d0",
   "metadata": {},
   "source": [
    "In the end, these languages need getter and setter methods because they don’t provide a suitable way to change the internal implementation of an attribute if a given requirement changes. Changing the internal implementation would require an API modification, which can break your end users’ code."
   ]
  },
  {
   "cell_type": "markdown",
   "id": "7e33fff2",
   "metadata": {},
   "source": [
    "<a class=\"anchor\" id=\"the_getter_and_setter_approach_in_python\"></a>\n",
    "\n",
    "### The Getter and Setter Approach in Python"
   ]
  },
  {
   "cell_type": "markdown",
   "id": "ce80ae27",
   "metadata": {},
   "source": [
    "Technically, there’s nothing that stops you from using getter and setter [methods](https://realpython.com/python3-object-oriented-programming/#instance-methods) in Python. Here’s how this approach would look:"
   ]
  },
  {
   "cell_type": "code",
   "execution_count": 3,
   "id": "2e8f4124",
   "metadata": {},
   "outputs": [],
   "source": [
    "# point.py\n",
    "\n",
    "class Point:\n",
    "    def __init__(self, x, y):\n",
    "        self._x = x\n",
    "        self._y = y\n",
    "\n",
    "    def get_x(self):\n",
    "        return self._x\n",
    "\n",
    "    def set_x(self, value):\n",
    "        self._x = value\n",
    "\n",
    "    def get_y(self):\n",
    "        return self._y\n",
    "\n",
    "    def set_y(self, value):\n",
    "        self._y = value"
   ]
  },
  {
   "cell_type": "markdown",
   "id": "9bd5059f",
   "metadata": {},
   "source": [
    "In this example, you create `Point` with two **non-public attributes** `._x` and `._y` to hold the [Cartesian coordinates](https://en.wikipedia.org/wiki/Cartesian_coordinate_system) of the point at hand."
   ]
  },
  {
   "cell_type": "markdown",
   "id": "aae3d116",
   "metadata": {},
   "source": [
    "To access and mutate the value of either `._x` or `._y`, you can use the corresponding getter and setter methods. Go ahead and save the above definition of `Point` in a Python [module](https://realpython.com/python-modules-packages/) and [import](https://realpython.com/python-import/) the class into your [interactive shell](https://realpython.com/interacting-with-python/)."
   ]
  },
  {
   "cell_type": "markdown",
   "id": "3dfe65da",
   "metadata": {},
   "source": [
    "Here’s how you can work with `Point` in your code:"
   ]
  },
  {
   "cell_type": "code",
   "execution_count": 7,
   "id": "57886fd9-ea99-4ced-871e-44f092f08c39",
   "metadata": {},
   "outputs": [
    {
     "data": {
      "text/plain": [
       "12"
      ]
     },
     "execution_count": 7,
     "metadata": {},
     "output_type": "execute_result"
    }
   ],
   "source": [
    "point = Point(12, 5)\n",
    "point.get_x()"
   ]
  },
  {
   "cell_type": "code",
   "execution_count": 8,
   "id": "553488ba-4810-4d4e-a23a-0bac80a7df3c",
   "metadata": {},
   "outputs": [
    {
     "data": {
      "text/plain": [
       "5"
      ]
     },
     "execution_count": 8,
     "metadata": {},
     "output_type": "execute_result"
    }
   ],
   "source": [
    "point.get_y()"
   ]
  },
  {
   "cell_type": "code",
   "execution_count": 9,
   "id": "eaf2e2cf-cfb3-48a2-84d2-953c083a6cc8",
   "metadata": {},
   "outputs": [
    {
     "data": {
      "text/plain": [
       "42"
      ]
     },
     "execution_count": 9,
     "metadata": {},
     "output_type": "execute_result"
    }
   ],
   "source": [
    "point.set_x(42)\n",
    "point.get_x()"
   ]
  },
  {
   "cell_type": "code",
   "execution_count": 10,
   "id": "c5a9a614-c198-4f19-b537-fca112e62b48",
   "metadata": {},
   "outputs": [
    {
     "data": {
      "text/plain": [
       "42"
      ]
     },
     "execution_count": 10,
     "metadata": {},
     "output_type": "execute_result"
    }
   ],
   "source": [
    "# Non-public attributes are still accessible\n",
    "point._x"
   ]
  },
  {
   "cell_type": "code",
   "execution_count": 11,
   "id": "3bff0863-ede3-443c-aa56-2d7f4e79cf5d",
   "metadata": {},
   "outputs": [
    {
     "data": {
      "text/plain": [
       "5"
      ]
     },
     "execution_count": 11,
     "metadata": {},
     "output_type": "execute_result"
    }
   ],
   "source": [
    "point._y"
   ]
  },
  {
   "cell_type": "markdown",
   "id": "1b97e05e",
   "metadata": {},
   "source": [
    "With `.get_x()` and `.get_y()`, you can access the current values of `._x` and `._y`. You can use the setter method to store a new value in the corresponding managed attribute. From this code, you can confirm that Python doesn’t restrict access to non-public attributes. Whether or not you do so is up to you."
   ]
  },
  {
   "cell_type": "markdown",
   "id": "41dea4ce",
   "metadata": {},
   "source": [
    "<a class=\"anchor\" id=\"the_pythonic_approach\"></a>\n",
    "\n",
    "### The Pythonic Approach"
   ]
  },
  {
   "cell_type": "markdown",
   "id": "960642c6",
   "metadata": {},
   "source": [
    "Even though the example you just saw uses the Python coding style, it doesn’t look Pythonic. In the example, the getter and setter methods don’t perform any further processing with `._x` and `._y`. You can rewrite `Point` in a more concise and Pythonic way:"
   ]
  },
  {
   "cell_type": "code",
   "execution_count": 12,
   "id": "28ee5b5e-aed5-4fe3-9b81-05f4eaa903d2",
   "metadata": {},
   "outputs": [],
   "source": [
    "class Point:\n",
    "    def __init__(self, x, y):\n",
    "        self.x = x\n",
    "        self.y = y"
   ]
  },
  {
   "cell_type": "code",
   "execution_count": 13,
   "id": "4447a3f8-771d-4e47-b5e2-a435b90fa629",
   "metadata": {},
   "outputs": [
    {
     "data": {
      "text/plain": [
       "12"
      ]
     },
     "execution_count": 13,
     "metadata": {},
     "output_type": "execute_result"
    }
   ],
   "source": [
    "point = Point(12, 5)\n",
    "point.x"
   ]
  },
  {
   "cell_type": "code",
   "execution_count": 14,
   "id": "f7ebaf67-c382-4e9b-bf94-4dd29f319344",
   "metadata": {},
   "outputs": [
    {
     "data": {
      "text/plain": [
       "5"
      ]
     },
     "execution_count": 14,
     "metadata": {},
     "output_type": "execute_result"
    }
   ],
   "source": [
    "point.y"
   ]
  },
  {
   "cell_type": "code",
   "execution_count": 15,
   "id": "adfb257b-7896-4739-873b-13673fbd637d",
   "metadata": {},
   "outputs": [
    {
     "data": {
      "text/plain": [
       "42"
      ]
     },
     "execution_count": 15,
     "metadata": {},
     "output_type": "execute_result"
    }
   ],
   "source": [
    "point.x = 42\n",
    "point.x"
   ]
  },
  {
   "cell_type": "markdown",
   "id": "54206cdf",
   "metadata": {},
   "source": [
    "This code uncovers a fundamental principle. Exposing attributes to the end user is normal and common in Python. You don’t need to clutter your classes with getter and setter methods all the time, which sounds pretty cool! However, how can you handle requirement changes that would seem to involve API changes?"
   ]
  },
  {
   "cell_type": "markdown",
   "id": "ec0812cc",
   "metadata": {},
   "source": [
    "Unlike Java and C++, Python provides handy tools that allow you to change the underlying implementation of your attributes without changing your public API. The most popular approach is to turn your attributes into **properties**."
   ]
  },
  {
   "cell_type": "markdown",
   "id": "3034d2d2",
   "metadata": {},
   "source": [
    "[Properties](https://en.wikipedia.org/wiki/Property_(programming)) represent an intermediate functionality between a plain attribute (or field) and a method. In other words, they allow you to create methods that behave like attributes. With properties, you can change how you compute the target attribute whenever you need to do so."
   ]
  },
  {
   "cell_type": "markdown",
   "id": "fcb71d4f",
   "metadata": {},
   "source": [
    "For example, you can turn both `.x` and `.y` into properties. With this change, you can continue accessing them as attributes. You’ll also have an underlying method holding `.x` and `.y` that will allow you to modify their internal implementation and perform actions on them right before your users access and mutate them."
   ]
  },
  {
   "cell_type": "markdown",
   "id": "5f16817f",
   "metadata": {},
   "source": [
    "The main advantage of Python properties is that they allow you to expose your attributes as part of your public API. If you ever need to change the underlying implementation, then you can turn the attribute into a property at any time without much pain. "
   ]
  },
  {
   "cell_type": "markdown",
   "id": "2e347d9c",
   "metadata": {},
   "source": [
    "In the following sections, you’ll learn how to create properties in Python."
   ]
  },
  {
   "cell_type": "markdown",
   "id": "336302a6",
   "metadata": {},
   "source": [
    "<a class=\"anchor\" id=\"getting_started_with_python’s_`property()`\"></a>\n",
    "\n",
    "## Getting Started With Python’s `property()`"
   ]
  },
  {
   "cell_type": "markdown",
   "id": "54bf4000",
   "metadata": {},
   "source": [
    "Python’s [`property()`](https://docs.python.org/3/library/functions.html#property) is the Pythonic way to avoid formal getter and setter methods in your code. This function allows you to turn [class attributes](https://realpython.com/python3-object-oriented-programming/#class-and-instance-attributes) into **properties** or **managed attributes**. Since `property()` is a built-in function, you can use it without importing anything. Additionally, `property()` was [implemented in C](https://github.com/python/cpython/blob/main/Objects/descrobject.c#L1460) to ensure optimal performance."
   ]
  },
  {
   "cell_type": "markdown",
   "id": "38b11845",
   "metadata": {},
   "source": [
    "With `property()`, you can attach getter and setter methods to given class attributes. This way, you can handle the internal implementation for that attribute without exposing getter and setter methods in your API. You can also specify a way to handle attribute deletion and provide an appropriate [docstring](https://realpython.com/documenting-python-code/) for your properties."
   ]
  },
  {
   "cell_type": "markdown",
   "id": "687bf41f",
   "metadata": {},
   "source": [
    "Here’s the full signature of `property()`:"
   ]
  },
  {
   "cell_type": "code",
   "execution_count": null,
   "id": "a5a8bfd9",
   "metadata": {},
   "outputs": [],
   "source": [
    "property(fget=None, fset=None, fdel=None, doc=None)"
   ]
  },
  {
   "cell_type": "markdown",
   "id": "fe208d65",
   "metadata": {},
   "source": [
    "The first two arguments take function objects that will play the role of getter (`fget`) and setter (`fset`) methods. Here’s a summary of what each argument does:"
   ]
  },
  {
   "cell_type": "markdown",
   "id": "02bbac05",
   "metadata": {},
   "source": [
    "|Argument|Description|\n",
    "|:--|:--|\n",
    "|`fget`|Function that returns the value of the managed attribute|\n",
    "|`fset`|Function that allows you to set the value of the managed attribute|\n",
    "|`fdel`|Function to define how the managed attribute handles deletion|\n",
    "|`doc`|String representing the property’s docstring|\n"
   ]
  },
  {
   "cell_type": "markdown",
   "id": "24dfdd44",
   "metadata": {},
   "source": [
    "The [return](https://realpython.com/python-return-statement/) value of `property()` is the managed attribute itself. If you access the managed attribute, as in `obj.attr`, then Python automatically calls `fget()`. If you assign a new value to the attribute, as in `obj.attr = value`, then Python calls `fset()` using the input `value` as an argument. Finally, if you run a `del obj.attr` statement, then Python automatically calls `fdel()`."
   ]
  },
  {
   "cell_type": "markdown",
   "id": "37277702",
   "metadata": {},
   "source": [
    "You can use `doc` to provide an appropriate docstring for your properties. You and your fellow programmers will be able to read that docstring using Python’s [`help()`](https://docs.python.org/3/library/functions.html#help). The `doc` argument is also useful when you’re working with [code editors and IDEs](https://realpython.com/python-ides-code-editors-guide/) that support docstring access."
   ]
  },
  {
   "cell_type": "markdown",
   "id": "86c20c7a",
   "metadata": {},
   "source": [
    "You can use `property()` either as a [function](https://realpython.com/defining-your-own-python-function/) or a [decorator](https://realpython.com/primer-on-python-decorators/) to build your properties. In the following two sections, you’ll learn how to use both approaches. However, you should know up front that the decorator approach is more popular in the Python community."
   ]
  },
  {
   "cell_type": "markdown",
   "id": "94e2e20a",
   "metadata": {},
   "source": [
    "<a class=\"anchor\" id=\"creating_attributes_with_`property()`\"></a>\n",
    "\n",
    "### Creating Attributes With `property()`"
   ]
  },
  {
   "cell_type": "markdown",
   "id": "00bd007c",
   "metadata": {},
   "source": [
    "You can create a property by calling `property()` with an appropriate set of arguments and assigning its return value to a class attribute. All the arguments to `property()` are optional. However, you typically provide at least a **setter function**."
   ]
  },
  {
   "cell_type": "markdown",
   "id": "a12c6e77",
   "metadata": {},
   "source": [
    "The following example shows how to create a `Circle` class with a handy property to manage its radius:"
   ]
  },
  {
   "cell_type": "code",
   "execution_count": 16,
   "id": "92bc1168",
   "metadata": {},
   "outputs": [],
   "source": [
    "# circle.py\n",
    "\n",
    "class Circle:\n",
    "    def __init__(self, radius):\n",
    "        self._radius = radius\n",
    "\n",
    "    def _get_radius(self):\n",
    "        print(\"Get radius\")\n",
    "        return self._radius\n",
    "\n",
    "    def _set_radius(self, value):\n",
    "        print(\"Set radius\")\n",
    "        self._radius = value\n",
    "\n",
    "    def _del_radius(self):\n",
    "        print(\"Delete radius\")\n",
    "        del self._radius\n",
    "\n",
    "    radius = property(\n",
    "        fget=_get_radius,\n",
    "        fset=_set_radius,\n",
    "        fdel=_del_radius,\n",
    "        doc=\"The radius property.\"\n",
    "    )"
   ]
  },
  {
   "cell_type": "markdown",
   "id": "1e274e1a",
   "metadata": {},
   "source": [
    "In this code snippet, you create `Circle`. The class initializer, `.__init__()`, takes `radius` as an argument and stores it in a non-public attribute called `._radius`. Then you define three non-public methods:"
   ]
  },
  {
   "cell_type": "markdown",
   "id": "9189aef5",
   "metadata": {},
   "source": [
    "1. **`._get_radius()`** returns the current value of `._radius`\n",
    "2. **`._set_radius()`** takes `value` as an argument and assigns it to `._radius`\n",
    "3. **`._del_radius()`** deletes the instance attribute `._radius`\n"
   ]
  },
  {
   "cell_type": "markdown",
   "id": "05b3a3ad",
   "metadata": {},
   "source": [
    "Once you have these three methods in place, you create a class attribute called `.radius` to store the property object. To initialize the property, you pass the three methods as arguments to `property()`. You also pass a suitable docstring for your property."
   ]
  },
  {
   "cell_type": "markdown",
   "id": "75cc4ed0",
   "metadata": {},
   "source": [
    "In this example, you use [keyword arguments](https://realpython.com/defining-your-own-python-function/#keyword-arguments) to improve the code readability and prevent confusion. That way, you know exactly which method goes into each argument."
   ]
  },
  {
   "cell_type": "markdown",
   "id": "6563cb6d",
   "metadata": {},
   "source": [
    "To give `Circle` a try, run the following code:"
   ]
  },
  {
   "cell_type": "code",
   "execution_count": 17,
   "id": "0c436061-bbcd-4c77-b392-3fe01f8f28d8",
   "metadata": {},
   "outputs": [
    {
     "name": "stdout",
     "output_type": "stream",
     "text": [
      "Get radius\n"
     ]
    },
    {
     "data": {
      "text/plain": [
       "42.0"
      ]
     },
     "execution_count": 17,
     "metadata": {},
     "output_type": "execute_result"
    }
   ],
   "source": [
    "circle = Circle(42.0)\n",
    "\n",
    "circle.radius"
   ]
  },
  {
   "cell_type": "code",
   "execution_count": 18,
   "id": "d3e5d5bd-8841-4508-bc1b-d205791ca73a",
   "metadata": {},
   "outputs": [
    {
     "name": "stdout",
     "output_type": "stream",
     "text": [
      "Set radius\n",
      "Get radius\n"
     ]
    },
    {
     "data": {
      "text/plain": [
       "100.0"
      ]
     },
     "execution_count": 18,
     "metadata": {},
     "output_type": "execute_result"
    }
   ],
   "source": [
    "circle.radius = 100.0\n",
    "\n",
    "circle.radius"
   ]
  },
  {
   "cell_type": "code",
   "execution_count": 19,
   "id": "dba311ba-68bb-4858-96f3-5aca1c89fa8c",
   "metadata": {},
   "outputs": [
    {
     "name": "stdout",
     "output_type": "stream",
     "text": [
      "Delete radius\n",
      "Get radius\n"
     ]
    },
    {
     "ename": "AttributeError",
     "evalue": "'Circle' object has no attribute '_radius'",
     "output_type": "error",
     "traceback": [
      "\u001b[0;31m---------------------------------------------------------------------------\u001b[0m",
      "\u001b[0;31mAttributeError\u001b[0m                            Traceback (most recent call last)",
      "\u001b[0;32m<ipython-input-19-c95c6d69db62>\u001b[0m in \u001b[0;36m<module>\u001b[0;34m\u001b[0m\n\u001b[1;32m      1\u001b[0m \u001b[0;32mdel\u001b[0m \u001b[0mcircle\u001b[0m\u001b[0;34m.\u001b[0m\u001b[0mradius\u001b[0m\u001b[0;34m\u001b[0m\u001b[0;34m\u001b[0m\u001b[0m\n\u001b[1;32m      2\u001b[0m \u001b[0;34m\u001b[0m\u001b[0m\n\u001b[0;32m----> 3\u001b[0;31m \u001b[0mcircle\u001b[0m\u001b[0;34m.\u001b[0m\u001b[0mradius\u001b[0m\u001b[0;34m\u001b[0m\u001b[0;34m\u001b[0m\u001b[0m\n\u001b[0m",
      "\u001b[0;32m<ipython-input-16-a0ecc9726151>\u001b[0m in \u001b[0;36m_get_radius\u001b[0;34m(self)\u001b[0m\n\u001b[1;32m      7\u001b[0m     \u001b[0;32mdef\u001b[0m \u001b[0m_get_radius\u001b[0m\u001b[0;34m(\u001b[0m\u001b[0mself\u001b[0m\u001b[0;34m)\u001b[0m\u001b[0;34m:\u001b[0m\u001b[0;34m\u001b[0m\u001b[0;34m\u001b[0m\u001b[0m\n\u001b[1;32m      8\u001b[0m         \u001b[0mprint\u001b[0m\u001b[0;34m(\u001b[0m\u001b[0;34m\"Get radius\"\u001b[0m\u001b[0;34m)\u001b[0m\u001b[0;34m\u001b[0m\u001b[0;34m\u001b[0m\u001b[0m\n\u001b[0;32m----> 9\u001b[0;31m         \u001b[0;32mreturn\u001b[0m \u001b[0mself\u001b[0m\u001b[0;34m.\u001b[0m\u001b[0m_radius\u001b[0m\u001b[0;34m\u001b[0m\u001b[0;34m\u001b[0m\u001b[0m\n\u001b[0m\u001b[1;32m     10\u001b[0m \u001b[0;34m\u001b[0m\u001b[0m\n\u001b[1;32m     11\u001b[0m     \u001b[0;32mdef\u001b[0m \u001b[0m_set_radius\u001b[0m\u001b[0;34m(\u001b[0m\u001b[0mself\u001b[0m\u001b[0;34m,\u001b[0m \u001b[0mvalue\u001b[0m\u001b[0;34m)\u001b[0m\u001b[0;34m:\u001b[0m\u001b[0;34m\u001b[0m\u001b[0;34m\u001b[0m\u001b[0m\n",
      "\u001b[0;31mAttributeError\u001b[0m: 'Circle' object has no attribute '_radius'"
     ]
    }
   ],
   "source": [
    "del circle.radius\n",
    "\n",
    "circle.radius"
   ]
  },
  {
   "cell_type": "code",
   "execution_count": 20,
   "id": "c4557706-7ee3-4584-ba1d-2cb26ec0c0fc",
   "metadata": {},
   "outputs": [
    {
     "name": "stdout",
     "output_type": "stream",
     "text": [
      "Help on Circle in module __main__ object:\n",
      "\n",
      "class Circle(builtins.object)\n",
      " |  Circle(radius)\n",
      " |  \n",
      " |  Methods defined here:\n",
      " |  \n",
      " |  __init__(self, radius)\n",
      " |      Initialize self.  See help(type(self)) for accurate signature.\n",
      " |  \n",
      " |  ----------------------------------------------------------------------\n",
      " |  Data descriptors defined here:\n",
      " |  \n",
      " |  __dict__\n",
      " |      dictionary for instance variables (if defined)\n",
      " |  \n",
      " |  __weakref__\n",
      " |      list of weak references to the object (if defined)\n",
      " |  \n",
      " |  radius\n",
      " |      The radius property.\n",
      "\n"
     ]
    }
   ],
   "source": [
    "help(circle)"
   ]
  },
  {
   "cell_type": "markdown",
   "id": "11e38cf7",
   "metadata": {},
   "source": [
    "The `.radius` property hides the non-public instance attribute `._radius`, which is now your managed attribute in this example. You can access and assign `.radius` directly. Internally, Python automatically calls `._get_radius()` and `._set_radius()` when needed. When you execute `del circle.radius`, Python calls `._del_radius()`, which deletes the underlying `._radius`."
   ]
  },
  {
   "cell_type": "markdown",
   "id": "89fc7ffb-f131-4a69-831a-c34dccc9f2fa",
   "metadata": {},
   "source": [
    "<div class=\"alert alert-success\" role=\"alert\">\n",
    "    Properties are <strong>class attributes</strong> that manage <strong>instance attributes</strong>.\n",
    "</div>"
   ]
  },
  {
   "cell_type": "markdown",
   "id": "a5161a10-9c8b-49ab-ab9f-f11b7cf9692c",
   "metadata": {},
   "source": [
    "You can think of a property as a collection of methods bundled together. If you inspect `.radius` carefully, then you can find the raw methods you provided as the `fget`, `fset`, and `fdel` arguments:"
   ]
  },
  {
   "cell_type": "code",
   "execution_count": 21,
   "id": "c56101f7-0a39-42d4-b1aa-fdf0202d0203",
   "metadata": {},
   "outputs": [
    {
     "data": {
      "text/plain": [
       "<function __main__.Circle._get_radius(self)>"
      ]
     },
     "execution_count": 21,
     "metadata": {},
     "output_type": "execute_result"
    }
   ],
   "source": [
    "Circle.radius.fget"
   ]
  },
  {
   "cell_type": "code",
   "execution_count": 22,
   "id": "df45530a-36a4-4743-802c-3211a97aee7a",
   "metadata": {},
   "outputs": [
    {
     "data": {
      "text/plain": [
       "<function __main__.Circle._set_radius(self, value)>"
      ]
     },
     "execution_count": 22,
     "metadata": {},
     "output_type": "execute_result"
    }
   ],
   "source": [
    "Circle.radius.fset"
   ]
  },
  {
   "cell_type": "code",
   "execution_count": 23,
   "id": "0724947c-8b7d-4f59-b06b-43390913b988",
   "metadata": {},
   "outputs": [
    {
     "data": {
      "text/plain": [
       "<function __main__.Circle._del_radius(self)>"
      ]
     },
     "execution_count": 23,
     "metadata": {},
     "output_type": "execute_result"
    }
   ],
   "source": [
    "Circle.radius.fdel"
   ]
  },
  {
   "cell_type": "code",
   "execution_count": 24,
   "id": "47d6106e-0f14-4188-a21a-0be52cdeb9b4",
   "metadata": {},
   "outputs": [
    {
     "data": {
      "text/plain": [
       "['__class__',\n",
       " '__delattr__',\n",
       " '__delete__',\n",
       " '__dir__',\n",
       " '__doc__',\n",
       " '__eq__',\n",
       " '__format__',\n",
       " '__ge__',\n",
       " '__get__',\n",
       " '__getattribute__',\n",
       " '__gt__',\n",
       " '__hash__',\n",
       " '__init__',\n",
       " '__init_subclass__',\n",
       " '__isabstractmethod__',\n",
       " '__le__',\n",
       " '__lt__',\n",
       " '__ne__',\n",
       " '__new__',\n",
       " '__reduce__',\n",
       " '__reduce_ex__',\n",
       " '__repr__',\n",
       " '__set__',\n",
       " '__setattr__',\n",
       " '__sizeof__',\n",
       " '__str__',\n",
       " '__subclasshook__',\n",
       " 'deleter',\n",
       " 'fdel',\n",
       " 'fget',\n",
       " 'fset',\n",
       " 'getter',\n",
       " 'setter']"
      ]
     },
     "execution_count": 24,
     "metadata": {},
     "output_type": "execute_result"
    }
   ],
   "source": [
    "dir(Circle.radius)"
   ]
  },
  {
   "cell_type": "markdown",
   "id": "5e879e21",
   "metadata": {},
   "source": [
    "You can access the getter, setter, and deleter methods in a given property through the corresponding `.fget`, `.fset`, and `.fdel`."
   ]
  },
  {
   "cell_type": "markdown",
   "id": "ca29f6a2",
   "metadata": {},
   "source": [
    "Properties are also **overriding descriptors**. If you use [`dir()`](https://realpython.com/python-scope-legb-rule/#dir) to check the internal members of a given property, then you’ll find `.__set__()` and `.__get__()` in the list. These methods provide a default implementation of the [descriptor protocol](https://docs.python.org/3/howto/descriptor.html#descriptor-protocol)."
   ]
  },
  {
   "cell_type": "markdown",
   "id": "b47aacd5",
   "metadata": {},
   "source": [
    "The default implementation of `.__set__()`, for example, runs when you don’t provide a custom setter method. In this case, you get an `AttributeError` because there’s no way to set the underlying property."
   ]
  },
  {
   "cell_type": "markdown",
   "id": "27bf7788",
   "metadata": {},
   "source": [
    "<a class=\"anchor\" id=\"using_`property()`_as_a_decorator\"></a>\n",
    "\n",
    "### Using `property()` as a Decorator"
   ]
  },
  {
   "cell_type": "markdown",
   "id": "7d717acc",
   "metadata": {},
   "source": [
    "Decorators are everywhere in Python. They’re functions that take another function as an argument and return a new function with added functionality. With a decorator, you can attach pre- and post-processing operations to an existing function."
   ]
  },
  {
   "cell_type": "markdown",
   "id": "bc16c374",
   "metadata": {},
   "source": [
    "When [Python 2.2](https://docs.python.org/3/whatsnew/2.2.html#attribute-access) introduced `property()`, the decorator syntax wasn’t available. The only way to define properties was to pass getter, setter, and deleter methods, as you learned before. The decorator syntax was added in [Python 2.4](https://docs.python.org/3/whatsnew/2.4.html#pep-318-decorators-for-functions-and-methods), and nowadays, using `property()` as a decorator is the most popular practice in the Python community."
   ]
  },
  {
   "cell_type": "markdown",
   "id": "0181402d",
   "metadata": {},
   "source": [
    "The decorator syntax consists of placing the name of the decorator function with a leading `@` symbol right before the definition of the function you want to decorate:"
   ]
  },
  {
   "cell_type": "code",
   "execution_count": null,
   "id": "f4d2ffdc",
   "metadata": {},
   "outputs": [],
   "source": [
    "@decorator\n",
    "def func(a):\n",
    "    return a"
   ]
  },
  {
   "cell_type": "markdown",
   "id": "f1fb330a",
   "metadata": {},
   "source": [
    "In this code fragment, `@decorator` can be a function or class intended to decorate `func()`. This syntax is equivalent to the following:"
   ]
  },
  {
   "cell_type": "code",
   "execution_count": null,
   "id": "6d01e80e",
   "metadata": {},
   "outputs": [],
   "source": [
    "def func(a):\n",
    "    return a\n",
    "\n",
    "func = decorator(func)"
   ]
  },
  {
   "cell_type": "markdown",
   "id": "7641b6a8",
   "metadata": {},
   "source": [
    "The final line of code reassigns the name `func` to hold the result of calling `decorator(func)`. Note that this is the same syntax you used to create a property in the section above."
   ]
  },
  {
   "cell_type": "markdown",
   "id": "42e4e185",
   "metadata": {},
   "source": [
    "Python’s `property()` can also work as a decorator, so you can use the `@property` syntax to create your properties quickly:"
   ]
  },
  {
   "cell_type": "code",
   "execution_count": 8,
   "id": "7d0858f6",
   "metadata": {},
   "outputs": [],
   "source": [
    "# circle.py\n",
    "\n",
    "class Circle:\n",
    "    def __init__(self, radius):\n",
    "        self._radius = radius\n",
    "\n",
    "    @property\n",
    "    def radius(self):\n",
    "        \"\"\"The radius property.\"\"\"\n",
    "        print(\"Get radius\")\n",
    "        return self._radius\n",
    "\n",
    "    @radius.setter\n",
    "    def radius(self, value):\n",
    "        print(\"Set radius\")\n",
    "        self._radius = value\n",
    "\n",
    "    @radius.deleter\n",
    "    def radius(self):\n",
    "        print(\"Delete radius\")\n",
    "        del self._radius"
   ]
  },
  {
   "cell_type": "markdown",
   "id": "9a471e2d",
   "metadata": {},
   "source": [
    "This code looks pretty different from the getter and setter methods approach. `Circle` now looks more Pythonic and clean. You don’t need to use method names such as `._get_radius()`, `._set_radius()`, and `._del_radius()` anymore. Now you have three methods with the same clean and descriptive attribute-like name. How is that possible?"
   ]
  },
  {
   "cell_type": "markdown",
   "id": "3d476f3f",
   "metadata": {},
   "source": [
    "The decorator approach for creating properties requires defining a first method using the public name for the underlying managed attribute, which is `.radius` in this case. This method should implement the getter logic."
   ]
  },
  {
   "cell_type": "markdown",
   "id": "1f1c2741",
   "metadata": {},
   "source": [
    "Then you define the setter method for `.radius`. In this case, the syntax is fairly different. Instead of using `@property` again, you use `@radius.setter`. Why do you need to do that? Take another look at the `dir()` output:"
   ]
  },
  {
   "cell_type": "code",
   "execution_count": 3,
   "id": "5b048bde",
   "metadata": {},
   "outputs": [
    {
     "data": {
      "text/plain": [
       "['__class__',\n",
       " '__delattr__',\n",
       " '__delete__',\n",
       " '__dir__',\n",
       " '__doc__',\n",
       " '__eq__',\n",
       " '__format__',\n",
       " '__ge__',\n",
       " '__get__',\n",
       " '__getattribute__',\n",
       " '__gt__',\n",
       " '__hash__',\n",
       " '__init__',\n",
       " '__init_subclass__',\n",
       " '__isabstractmethod__',\n",
       " '__le__',\n",
       " '__lt__',\n",
       " '__ne__',\n",
       " '__new__',\n",
       " '__reduce__',\n",
       " '__reduce_ex__',\n",
       " '__repr__',\n",
       " '__set__',\n",
       " '__setattr__',\n",
       " '__sizeof__',\n",
       " '__str__',\n",
       " '__subclasshook__',\n",
       " 'deleter',\n",
       " 'fdel',\n",
       " 'fget',\n",
       " 'fset',\n",
       " 'getter',\n",
       " 'setter']"
      ]
     },
     "execution_count": 3,
     "metadata": {},
     "output_type": "execute_result"
    }
   ],
   "source": [
    "dir(Circle.radius)"
   ]
  },
  {
   "cell_type": "markdown",
   "id": "514fb523",
   "metadata": {},
   "source": [
    "Besides `.fget`, `.fset`, `.fdel`, and a bunch of other special attributes and methods, `property` also provides `.deleter()`, `.getter()`, and `.setter()`. These three methods each return a new property."
   ]
  },
  {
   "cell_type": "markdown",
   "id": "02200314",
   "metadata": {},
   "source": [
    "When you decorate the second `.radius()` method with `@radius.setter`, you create a new property and reassign the class-level name `.radius` (line 8) to hold it. This new property contains the same set of methods of the initial property at line 8 with the addition of the new setter method provided on line 14. Finally, the decorator syntax reassigns the new property to the `.radius` class-level name."
   ]
  },
  {
   "cell_type": "markdown",
   "id": "5f44b704",
   "metadata": {},
   "source": [
    "The mechanism to define the deleter method is similar. This time, you need to use the `@radius.deleter` decorator. At the end of the process, you get a full-fledged property with the getter, setter, and deleter methods."
   ]
  },
  {
   "cell_type": "markdown",
   "id": "86d99d2c",
   "metadata": {},
   "source": [
    "Finally, how can you provide suitable docstrings for your properties when you use the decorator approach? If you check `Circle` again, you’ll note that you already did so by adding a docstring to the getter method on line 9."
   ]
  },
  {
   "cell_type": "markdown",
   "id": "13aaf7db",
   "metadata": {},
   "source": [
    "The new `Circle` implementation works the same as the example in the section above:"
   ]
  },
  {
   "cell_type": "code",
   "execution_count": 9,
   "id": "8930285c-e317-4132-acf3-4d5d26c95777",
   "metadata": {},
   "outputs": [
    {
     "name": "stdout",
     "output_type": "stream",
     "text": [
      "Get radius\n"
     ]
    },
    {
     "data": {
      "text/plain": [
       "42.0"
      ]
     },
     "execution_count": 9,
     "metadata": {},
     "output_type": "execute_result"
    }
   ],
   "source": [
    "circle = Circle(42.0)\n",
    "\n",
    "circle.radius"
   ]
  },
  {
   "cell_type": "code",
   "execution_count": 10,
   "id": "447dcacd-526d-477e-ae40-8406b7302ed5",
   "metadata": {},
   "outputs": [
    {
     "name": "stdout",
     "output_type": "stream",
     "text": [
      "Set radius\n",
      "Get radius\n"
     ]
    },
    {
     "data": {
      "text/plain": [
       "100.0"
      ]
     },
     "execution_count": 10,
     "metadata": {},
     "output_type": "execute_result"
    }
   ],
   "source": [
    "circle.radius = 100.0\n",
    "\n",
    "circle.radius"
   ]
  },
  {
   "cell_type": "code",
   "execution_count": 11,
   "id": "fc364b48-b1fd-4e57-91a0-3d760ff012bc",
   "metadata": {},
   "outputs": [
    {
     "name": "stdout",
     "output_type": "stream",
     "text": [
      "Delete radius\n"
     ]
    }
   ],
   "source": [
    "del circle.radius"
   ]
  },
  {
   "cell_type": "code",
   "execution_count": 14,
   "id": "5de53acb-e189-41e3-bea2-cdd33f70f6da",
   "metadata": {},
   "outputs": [
    {
     "name": "stdout",
     "output_type": "stream",
     "text": [
      "Get radius\n"
     ]
    },
    {
     "ename": "AttributeError",
     "evalue": "'Circle' object has no attribute '_radius'",
     "output_type": "error",
     "traceback": [
      "\u001b[0;31m---------------------------------------------------------------------------\u001b[0m",
      "\u001b[0;31mAttributeError\u001b[0m                            Traceback (most recent call last)",
      "\u001b[0;32m<ipython-input-14-21c26d4917d4>\u001b[0m in \u001b[0;36m<module>\u001b[0;34m\u001b[0m\n\u001b[1;32m      1\u001b[0m \u001b[0;31m# This should raise AttributeError cause we deleted circle.radius above\u001b[0m\u001b[0;34m\u001b[0m\u001b[0;34m\u001b[0m\u001b[0;34m\u001b[0m\u001b[0m\n\u001b[0;32m----> 2\u001b[0;31m \u001b[0mcircle\u001b[0m\u001b[0;34m.\u001b[0m\u001b[0mradius\u001b[0m\u001b[0;34m\u001b[0m\u001b[0;34m\u001b[0m\u001b[0m\n\u001b[0m",
      "\u001b[0;32m<ipython-input-8-925b2e0e2e94>\u001b[0m in \u001b[0;36mradius\u001b[0;34m(self)\u001b[0m\n\u001b[1;32m      9\u001b[0m         \u001b[0;34m\"\"\"The radius property.\"\"\"\u001b[0m\u001b[0;34m\u001b[0m\u001b[0;34m\u001b[0m\u001b[0m\n\u001b[1;32m     10\u001b[0m         \u001b[0mprint\u001b[0m\u001b[0;34m(\u001b[0m\u001b[0;34m\"Get radius\"\u001b[0m\u001b[0;34m)\u001b[0m\u001b[0;34m\u001b[0m\u001b[0;34m\u001b[0m\u001b[0m\n\u001b[0;32m---> 11\u001b[0;31m         \u001b[0;32mreturn\u001b[0m \u001b[0mself\u001b[0m\u001b[0;34m.\u001b[0m\u001b[0m_radius\u001b[0m\u001b[0;34m\u001b[0m\u001b[0;34m\u001b[0m\u001b[0m\n\u001b[0m\u001b[1;32m     12\u001b[0m \u001b[0;34m\u001b[0m\u001b[0m\n\u001b[1;32m     13\u001b[0m     \u001b[0;34m@\u001b[0m\u001b[0mradius\u001b[0m\u001b[0;34m.\u001b[0m\u001b[0msetter\u001b[0m\u001b[0;34m\u001b[0m\u001b[0;34m\u001b[0m\u001b[0m\n",
      "\u001b[0;31mAttributeError\u001b[0m: 'Circle' object has no attribute '_radius'"
     ]
    }
   ],
   "source": [
    "# This should raise AttributeError cause we deleted circle.radius above\n",
    "circle.radius"
   ]
  },
  {
   "cell_type": "code",
   "execution_count": 13,
   "id": "27be6e34-0119-4388-8c77-00556e1328cb",
   "metadata": {},
   "outputs": [
    {
     "name": "stdout",
     "output_type": "stream",
     "text": [
      "Help on Circle in module __main__ object:\n",
      "\n",
      "class Circle(builtins.object)\n",
      " |  Circle(radius)\n",
      " |  \n",
      " |  Methods defined here:\n",
      " |  \n",
      " |  __init__(self, radius)\n",
      " |      Initialize self.  See help(type(self)) for accurate signature.\n",
      " |  \n",
      " |  ----------------------------------------------------------------------\n",
      " |  Data descriptors defined here:\n",
      " |  \n",
      " |  __dict__\n",
      " |      dictionary for instance variables (if defined)\n",
      " |  \n",
      " |  __weakref__\n",
      " |      list of weak references to the object (if defined)\n",
      " |  \n",
      " |  radius\n",
      " |      The radius property.\n",
      "\n"
     ]
    }
   ],
   "source": [
    "help(circle)"
   ]
  },
  {
   "cell_type": "markdown",
   "id": "aa84905a",
   "metadata": {},
   "source": [
    "You don’t need to use a pair of parentheses for calling `.radius()` as a method. Instead, you can access `.radius` as you would access a regular attribute, which is the primary use of properties. They allow you to treat methods as attributes, and they take care of calling the underlying set of methods automatically."
   ]
  },
  {
   "cell_type": "markdown",
   "id": "cee40788",
   "metadata": {},
   "source": [
    "Here’s a recap of some important points to remember when you’re creating properties with the decorator approach:\n",
    "\n",
    "- The `@property` decorator must decorate the **getter method**.\n",
    "- The docstring must go in the **getter method**.\n",
    "- The **setter and deleter methods** must be decorated with the name of the getter method plus `.setter` and `.deleter`, respectively."
   ]
  },
  {
   "cell_type": "markdown",
   "id": "7e62f98b",
   "metadata": {},
   "source": [
    "Up to this point, you’ve created managed attributes using `property()` as a function and as a decorator. If you check your `Circle` implementations so far, then you’ll note that their getter and setter methods don’t add any real extra processing on top of your attributes."
   ]
  },
  {
   "cell_type": "markdown",
   "id": "cdfe14d9",
   "metadata": {},
   "source": [
    "In general, you should avoid turning attributes that don’t require extra processing into properties. Using properties in those situations can make your code:"
   ]
  },
  {
   "cell_type": "markdown",
   "id": "d6676e33",
   "metadata": {},
   "source": [
    "- Unnecessarily verbose\n",
    "- Confusing to other developers\n",
    "- Slower than code based on regular attributes\n"
   ]
  },
  {
   "cell_type": "markdown",
   "id": "c6848db5",
   "metadata": {},
   "source": [
    "Unless you need something more than bare attribute access, don’t write properties. They’re a waste of [CPU](https://en.wikipedia.org/wiki/Central_processing_unit) time, and more importantly, they’re a waste of *your* time. Finally, you should avoid writing explicit getter and setter methods and then wrapping them in a property. Instead, use the `@property` decorator. That’s currently the most Pythonic way to go."
   ]
  },
  {
   "cell_type": "markdown",
   "id": "fd37e6af",
   "metadata": {},
   "source": [
    "<a class=\"anchor\" id=\"providing_read-only_attributes\"></a>\n",
    "\n",
    "## Providing Read-Only Attributes"
   ]
  },
  {
   "cell_type": "markdown",
   "id": "b4999c39",
   "metadata": {},
   "source": [
    "Probably the most elementary use case of `property()` is to provide **read-only attributes** in your classes. Say you need an [immutable](https://docs.python.org/3/glossary.html#term-immutable) `Point` class that doesn’t allow the user to mutate the original value of its coordinates, `x` and `y`. To achieve this goal, you can create `Point` like in the following example:"
   ]
  },
  {
   "cell_type": "code",
   "execution_count": 16,
   "id": "bc124a26",
   "metadata": {},
   "outputs": [],
   "source": [
    "# point.py\n",
    "\n",
    "class Point:\n",
    "    def __init__(self, x, y):\n",
    "        self._x = x\n",
    "        self._y = y\n",
    "\n",
    "    @property\n",
    "    def x(self):\n",
    "        return self._x\n",
    "\n",
    "    @property\n",
    "    def y(self):\n",
    "        return self._y"
   ]
  },
  {
   "cell_type": "markdown",
   "id": "abf47f27",
   "metadata": {},
   "source": [
    "Here, you store the input arguments in the attributes `._x` and `._y`. As you already learned, using the leading underscore (`_`) in names tells other developers that they’re non-public attributes and shouldn’t be accessed using dot notation, such as in `point._x`. Finally, you define two getter methods and decorate them with `@property`."
   ]
  },
  {
   "cell_type": "markdown",
   "id": "3815dd8e",
   "metadata": {},
   "source": [
    "Now you have two read-only properties, `.x` and `.y`, as your coordinates:"
   ]
  },
  {
   "cell_type": "code",
   "execution_count": 17,
   "id": "6cf2a103-c3df-4944-93f2-461af3af0fef",
   "metadata": {},
   "outputs": [],
   "source": [
    "point = Point(12, 5)"
   ]
  },
  {
   "cell_type": "code",
   "execution_count": 18,
   "id": "b87e59dc-a9ed-4985-ad8f-8d4b9b169ad9",
   "metadata": {},
   "outputs": [
    {
     "data": {
      "text/plain": [
       "12"
      ]
     },
     "execution_count": 18,
     "metadata": {},
     "output_type": "execute_result"
    }
   ],
   "source": [
    "# Read coordinates\n",
    "point.x"
   ]
  },
  {
   "cell_type": "code",
   "execution_count": 19,
   "id": "24e1dd1c-f1e0-4116-8787-dcfe9e45c256",
   "metadata": {},
   "outputs": [
    {
     "data": {
      "text/plain": [
       "5"
      ]
     },
     "execution_count": 19,
     "metadata": {},
     "output_type": "execute_result"
    }
   ],
   "source": [
    "point.y"
   ]
  },
  {
   "cell_type": "code",
   "execution_count": 20,
   "id": "cedcb164-bac0-4c8d-b7dc-6e538b239ad6",
   "metadata": {},
   "outputs": [
    {
     "ename": "AttributeError",
     "evalue": "can't set attribute",
     "output_type": "error",
     "traceback": [
      "\u001b[0;31m---------------------------------------------------------------------------\u001b[0m",
      "\u001b[0;31mAttributeError\u001b[0m                            Traceback (most recent call last)",
      "\u001b[0;32m<ipython-input-20-2e46d7d143c2>\u001b[0m in \u001b[0;36m<module>\u001b[0;34m\u001b[0m\n\u001b[1;32m      1\u001b[0m \u001b[0;31m# Write coordinates\u001b[0m\u001b[0;34m\u001b[0m\u001b[0;34m\u001b[0m\u001b[0;34m\u001b[0m\u001b[0m\n\u001b[0;32m----> 2\u001b[0;31m \u001b[0mpoint\u001b[0m\u001b[0;34m.\u001b[0m\u001b[0mx\u001b[0m \u001b[0;34m=\u001b[0m \u001b[0;36m42\u001b[0m\u001b[0;34m\u001b[0m\u001b[0;34m\u001b[0m\u001b[0m\n\u001b[0m",
      "\u001b[0;31mAttributeError\u001b[0m: can't set attribute"
     ]
    }
   ],
   "source": [
    "# Write coordinates\n",
    "point.x = 42"
   ]
  },
  {
   "cell_type": "markdown",
   "id": "c8e61992",
   "metadata": {},
   "source": [
    "Here, `point.x` and `point.y` are bare-bone examples of read-only properties. Their behavior relies on the underlying descriptor that `property` provides. As you already saw, the default `.__set__()` implementation raises an `AttributeError` when you don’t define a proper setter method."
   ]
  },
  {
   "cell_type": "markdown",
   "id": "b7a78a3f",
   "metadata": {},
   "source": [
    "You can take this implementation of `Point` a little bit further and provide explicit setter methods that raise a custom exception with more elaborate and specific messages:"
   ]
  },
  {
   "cell_type": "code",
   "execution_count": 21,
   "id": "cc2aa1e4",
   "metadata": {},
   "outputs": [],
   "source": [
    "# point.py\n",
    "\n",
    "class WriteCoordinateError(Exception):\n",
    "    pass\n",
    "\n",
    "class Point:\n",
    "    def __init__(self, x, y):\n",
    "        self._x = x\n",
    "        self._y = y\n",
    "\n",
    "    @property\n",
    "    def x(self):\n",
    "        return self._x\n",
    "\n",
    "    @x.setter\n",
    "    def x(self, value):\n",
    "        raise WriteCoordinateError(\"x coordinate is read-only\")\n",
    "\n",
    "    @property\n",
    "    def y(self):\n",
    "        return self._y\n",
    "\n",
    "    @y.setter\n",
    "    def y(self, value):\n",
    "        raise WriteCoordinateError(\"y coordinate is read-only\")"
   ]
  },
  {
   "cell_type": "markdown",
   "id": "4f3b1903",
   "metadata": {},
   "source": [
    "In this example, you define a custom exception called `WriteCoordinateError`. This exception allows you to customize the way you implement your immutable `Point` class. Now, both setter methods raise your custom exception with a more explicit message. Go ahead and give your improved `Point` a try!"
   ]
  },
  {
   "cell_type": "markdown",
   "id": "f9cf6558",
   "metadata": {},
   "source": [
    "<a class=\"anchor\" id=\"creating_read-write_attributes\"></a>\n",
    "\n",
    "## Creating Read-Write Attributes"
   ]
  },
  {
   "cell_type": "markdown",
   "id": "be3fa89a",
   "metadata": {},
   "source": [
    "You can also use `property()` to provide managed attributes with **read-write** capabilities. In practice, you just need to provide the appropriate getter method (“read”) and setter method (“write”) to your properties in order to create read-write managed attributes."
   ]
  },
  {
   "cell_type": "markdown",
   "id": "dff14226",
   "metadata": {},
   "source": [
    "Say you want your `Circle` class to have a `.diameter` attribute. However, taking the radius and the diameter in the class initializer seems unnecessary because you can compute the one using the other. Here’s a `Circle` that manages `.radius` and `.diameter` as read-write attributes:"
   ]
  },
  {
   "cell_type": "code",
   "execution_count": 22,
   "id": "f1dcdebf",
   "metadata": {},
   "outputs": [],
   "source": [
    "# circle.py\n",
    "\n",
    "import math\n",
    "\n",
    "class Circle:\n",
    "    def __init__(self, radius):\n",
    "        self.radius = radius\n",
    "\n",
    "    @property\n",
    "    def radius(self):\n",
    "        return self._radius\n",
    "\n",
    "    @radius.setter\n",
    "    def radius(self, value):\n",
    "        self._radius = float(value)\n",
    "\n",
    "    @property\n",
    "    def diameter(self):\n",
    "        return self.radius * 2\n",
    "\n",
    "    @diameter.setter\n",
    "    def diameter(self, value):\n",
    "        self.radius = value / 2"
   ]
  },
  {
   "cell_type": "markdown",
   "id": "bc267015",
   "metadata": {},
   "source": [
    "Here, you create a `Circle` class with a read-write `.radius`. In this case, the getter method just returns the radius value. The setter method converts the input value for the radius and assigns it to the non-public `._radius`, which is the variable you use to store the final data."
   ]
  },
  {
   "cell_type": "markdown",
   "id": "3fdb4a56",
   "metadata": {},
   "source": [
    "> **Note:** There is a subtle detail to note in this new implementation of `Circle` and its `.radius` attribute. In this case, the class initializer assigns the input value to the `.radius` property directly instead of storing it in a dedicated non-public attribute, such as `._radius`."
   ]
  },
  {
   "cell_type": "markdown",
   "id": "8fb6213d",
   "metadata": {},
   "source": [
    "Why? Because you need to make sure that every value provided as a radius, including the initialization value, goes through the setter method and gets converted to a floating-point number."
   ]
  },
  {
   "cell_type": "markdown",
   "id": "3dba04a6",
   "metadata": {},
   "source": [
    "`Circle` also implements a `.diameter` attribute as a property. The getter method computes the diameter using the radius. The setter method does something curious. Instead of storing the input diameter `value` in a dedicated attribute, it calculates the radius and writes the result into `.radius`."
   ]
  },
  {
   "cell_type": "markdown",
   "id": "7d8e7bea",
   "metadata": {},
   "source": [
    "Here’s how your `Circle` works:"
   ]
  },
  {
   "cell_type": "code",
   "execution_count": 23,
   "id": "52557978-20bf-4cfa-b3fb-395636fe952c",
   "metadata": {},
   "outputs": [
    {
     "data": {
      "text/plain": [
       "42.0"
      ]
     },
     "execution_count": 23,
     "metadata": {},
     "output_type": "execute_result"
    }
   ],
   "source": [
    "circle = Circle(42)\n",
    "circle.radius"
   ]
  },
  {
   "cell_type": "code",
   "execution_count": 24,
   "id": "d4a04e38-8969-471c-9cef-643ee62991b8",
   "metadata": {},
   "outputs": [
    {
     "data": {
      "text/plain": [
       "84.0"
      ]
     },
     "execution_count": 24,
     "metadata": {},
     "output_type": "execute_result"
    }
   ],
   "source": [
    "circle.diameter"
   ]
  },
  {
   "cell_type": "code",
   "execution_count": 25,
   "id": "f03bf047-1076-45b1-9fe6-efc8070e8178",
   "metadata": {},
   "outputs": [
    {
     "data": {
      "text/plain": [
       "100.0"
      ]
     },
     "execution_count": 25,
     "metadata": {},
     "output_type": "execute_result"
    }
   ],
   "source": [
    "circle.diameter = 100\n",
    "circle.diameter"
   ]
  },
  {
   "cell_type": "code",
   "execution_count": 26,
   "id": "e38b0b75-43d9-47cd-b993-103c655ef832",
   "metadata": {},
   "outputs": [
    {
     "data": {
      "text/plain": [
       "50.0"
      ]
     },
     "execution_count": 26,
     "metadata": {},
     "output_type": "execute_result"
    }
   ],
   "source": [
    "circle.radius"
   ]
  },
  {
   "cell_type": "markdown",
   "id": "68d88a30",
   "metadata": {},
   "source": [
    "Both `.radius` and `.diameter` work as normal attributes in these examples, providing a clean and Pythonic public API for your `Circle` class."
   ]
  },
  {
   "cell_type": "markdown",
   "id": "ef166e11",
   "metadata": {},
   "source": [
    "<a class=\"anchor\" id=\"providing_write-only_attributes\"></a>\n",
    "\n",
    "## Providing Write-Only Attributes"
   ]
  },
  {
   "cell_type": "markdown",
   "id": "8a5d0780",
   "metadata": {},
   "source": [
    "You can also create **write-only** attributes by tweaking how you implement the getter method of your properties. For example, you can make your getter method raise an exception every time a user accesses the underlying attribute value."
   ]
  },
  {
   "cell_type": "markdown",
   "id": "7bb11bbf",
   "metadata": {},
   "source": [
    "Here’s an example of handling passwords with a write-only property:"
   ]
  },
  {
   "cell_type": "code",
   "execution_count": 30,
   "id": "18fc03e8",
   "metadata": {},
   "outputs": [],
   "source": [
    "# users.py\n",
    "\n",
    "import hashlib\n",
    "import os\n",
    "\n",
    "class User:\n",
    "    def __init__(self, name, password):\n",
    "        self.name = name\n",
    "        self.password = password\n",
    "\n",
    "    @property\n",
    "    def password(self):\n",
    "        raise AttributeError(\"Password is write-only\")\n",
    "\n",
    "    @password.setter\n",
    "    def password(self, plaintext):\n",
    "        salt = os.urandom(32)\n",
    "        self._hashed_password = hashlib.pbkdf2_hmac(\n",
    "            \"sha256\", plaintext.encode(\"utf-8\"), salt, 100_000\n",
    "        )"
   ]
  },
  {
   "cell_type": "markdown",
   "id": "e22f710f",
   "metadata": {},
   "source": [
    "The initializer of `User` takes a username and a password as arguments and stores them in `.name` and `.password`, respectively. You use a property to manage how your class processes the input password. The getter method raises an `AttributeError` whenever a user tries to retrieve the current password. This turns `.password` into a write-only attribute:"
   ]
  },
  {
   "cell_type": "code",
   "execution_count": 31,
   "id": "d1eee100-5e15-439a-8f30-ba556cca35e3",
   "metadata": {},
   "outputs": [
    {
     "data": {
      "text/plain": [
       "b'\\xf7K\\x05\\x1d\\x0b%\\xa7pP\\x0c\\x7fFV\\xb7\\xe1\\x0b\\xf3\\xd7\\xe0\\x0b\"v\\xd6\\xb3\\xf2\\xa6\\x8d\\x8b\\x88\\x99\\xe1Z'"
      ]
     },
     "execution_count": 31,
     "metadata": {},
     "output_type": "execute_result"
    }
   ],
   "source": [
    "john = User(\"John\", \"secret\")\n",
    "\n",
    "john._hashed_password"
   ]
  },
  {
   "cell_type": "code",
   "execution_count": 32,
   "id": "0d34170a-73c9-4766-ad0a-1b1a8e40418c",
   "metadata": {},
   "outputs": [
    {
     "ename": "AttributeError",
     "evalue": "Password is write-only",
     "output_type": "error",
     "traceback": [
      "\u001b[0;31m---------------------------------------------------------------------------\u001b[0m",
      "\u001b[0;31mAttributeError\u001b[0m                            Traceback (most recent call last)",
      "\u001b[0;32m<ipython-input-32-aca8bb507c73>\u001b[0m in \u001b[0;36m<module>\u001b[0;34m\u001b[0m\n\u001b[0;32m----> 1\u001b[0;31m \u001b[0mjohn\u001b[0m\u001b[0;34m.\u001b[0m\u001b[0mpassword\u001b[0m\u001b[0;34m\u001b[0m\u001b[0;34m\u001b[0m\u001b[0m\n\u001b[0m",
      "\u001b[0;32m<ipython-input-30-77a705a8d138>\u001b[0m in \u001b[0;36mpassword\u001b[0;34m(self)\u001b[0m\n\u001b[1;32m     11\u001b[0m     \u001b[0;34m@\u001b[0m\u001b[0mproperty\u001b[0m\u001b[0;34m\u001b[0m\u001b[0;34m\u001b[0m\u001b[0m\n\u001b[1;32m     12\u001b[0m     \u001b[0;32mdef\u001b[0m \u001b[0mpassword\u001b[0m\u001b[0;34m(\u001b[0m\u001b[0mself\u001b[0m\u001b[0;34m)\u001b[0m\u001b[0;34m:\u001b[0m\u001b[0;34m\u001b[0m\u001b[0;34m\u001b[0m\u001b[0m\n\u001b[0;32m---> 13\u001b[0;31m         \u001b[0;32mraise\u001b[0m \u001b[0mAttributeError\u001b[0m\u001b[0;34m(\u001b[0m\u001b[0;34m\"Password is write-only\"\u001b[0m\u001b[0;34m)\u001b[0m\u001b[0;34m\u001b[0m\u001b[0;34m\u001b[0m\u001b[0m\n\u001b[0m\u001b[1;32m     14\u001b[0m \u001b[0;34m\u001b[0m\u001b[0m\n\u001b[1;32m     15\u001b[0m     \u001b[0;34m@\u001b[0m\u001b[0mpassword\u001b[0m\u001b[0;34m.\u001b[0m\u001b[0msetter\u001b[0m\u001b[0;34m\u001b[0m\u001b[0;34m\u001b[0m\u001b[0m\n",
      "\u001b[0;31mAttributeError\u001b[0m: Password is write-only"
     ]
    }
   ],
   "source": [
    "john.password"
   ]
  },
  {
   "cell_type": "code",
   "execution_count": 33,
   "id": "bac59ae2-3225-473c-bdbf-ef07ce850e9d",
   "metadata": {},
   "outputs": [
    {
     "data": {
      "text/plain": [
       "b'\\xect1\\x1b\\x19\\x8b\\xac`<\\xb1\\xa9\\xee\\xff\\x11\\xfd*\\xaa\\x98\\xe9\\xac\\x7f\\x91&\\xff\\xddV\\xdc\\xb9\\x10G\\xbdz'"
      ]
     },
     "execution_count": 33,
     "metadata": {},
     "output_type": "execute_result"
    }
   ],
   "source": [
    "john.password = \"supersecret\"\n",
    "john._hashed_password"
   ]
  },
  {
   "cell_type": "markdown",
   "id": "eea432cd",
   "metadata": {},
   "source": [
    "In this example, you create `john` as a `User` instance with an initial password. The setter method hashes the password and stores it in `._hashed_password`. Note that when you try to access `.password` directly, you get an `AttributeError`. Finally, assigning a new value to `.password` triggers the setter method and creates a new hashed password."
   ]
  },
  {
   "cell_type": "markdown",
   "id": "4812e083",
   "metadata": {},
   "source": [
    "In the setter method of `.password`, you use `os.urandom()` to generate a 32-byte random [string](https://realpython.com/python-strings/) as your hashing function’s [salt](https://en.wikipedia.org/wiki/Salt_(cryptography)). To generate the hashed password, you use [`hashlib.pbkdf2_hmac()`](https://docs.python.org/3/library/hashlib.html#hashlib.pbkdf2_hmac). Then you store the resulting hashed password in the non-public attribute `._hashed_password`. Doing so ensures that you never save the plaintext password in any retrievable attribute."
   ]
  },
  {
   "cell_type": "markdown",
   "id": "bd0b08ff",
   "metadata": {},
   "source": [
    "<a class=\"anchor\" id=\"putting_python’s_`property()`_into_action\"></a>\n",
    "\n",
    "## Putting Python’s `property()` Into Action"
   ]
  },
  {
   "cell_type": "markdown",
   "id": "1544a770",
   "metadata": {},
   "source": [
    "So far, you’ve learned how to use Python’s `property()` built-in function to create managed attributes in your classes. You used `property()` as a function and as a decorator and learned about the differences between these two approaches. You also learned how to create read-only, read-write, and write-only attributes."
   ]
  },
  {
   "cell_type": "markdown",
   "id": "dd743119",
   "metadata": {},
   "source": [
    "In the following sections, you’ll code a few examples that will help you get a better practical understanding of common use cases of `property()`."
   ]
  },
  {
   "cell_type": "markdown",
   "id": "eb21123b",
   "metadata": {},
   "source": [
    "<a class=\"anchor\" id=\"validating_input_values\"></a>\n",
    "\n",
    "### Validating Input Values"
   ]
  },
  {
   "cell_type": "markdown",
   "id": "006626c6",
   "metadata": {},
   "source": [
    "One of the most common use cases of `property()` is building managed attributes that validate the input data before storing or even accepting it as a secure input. [Data validation](https://en.wikipedia.org/wiki/Data_validation) is a common requirement in code that takes input from users or other information sources that you consider untrusted."
   ]
  },
  {
   "cell_type": "markdown",
   "id": "dcbf60c6",
   "metadata": {
    "tags": []
   },
   "source": [
    "Python’s `property()` provides a quick and reliable tool for dealing with input data validation. For example, thinking back to the `Point` example, you may require the values of `.x` and `.y` to be valid [numbers](https://realpython.com/python-numbers/). Since your users are free to enter any type of data, you need to make sure that your point only accepts numbers."
   ]
  },
  {
   "cell_type": "markdown",
   "id": "2d4bf2fd",
   "metadata": {},
   "source": [
    "Here’s an implementation of `Point` that manages this requirement:"
   ]
  },
  {
   "cell_type": "code",
   "execution_count": 35,
   "id": "284df9ad",
   "metadata": {},
   "outputs": [],
   "source": [
    "# point.py\n",
    "\n",
    "class Point:\n",
    "    def __init__(self, x, y):\n",
    "        self.x = x\n",
    "        self.y = y\n",
    "\n",
    "    @property\n",
    "    def x(self):\n",
    "        return self._x\n",
    "\n",
    "    @x.setter\n",
    "    def x(self, value):\n",
    "        try:\n",
    "            self._x = float(value)\n",
    "            print(\"Validated!\")\n",
    "        except ValueError:\n",
    "            raise ValueError('\"x\" must be a number') from None\n",
    "\n",
    "    @property\n",
    "    def y(self):\n",
    "        return self._y\n",
    "\n",
    "    @y.setter\n",
    "    def y(self, value):\n",
    "        try:\n",
    "            self._y = float(value)\n",
    "            print(\"Validated!\")\n",
    "        except ValueError:\n",
    "            raise ValueError('\"y\" must be a number') from None"
   ]
  },
  {
   "cell_type": "markdown",
   "id": "de059853",
   "metadata": {},
   "source": [
    "The setter methods of `.x` and `.y` use [`try` … `except`](https://realpython.com/python-exceptions/#the-try-and-except-block-handling-exceptions) blocks that validate input data using the Python [EAFP](https://docs.python.org/3/glossary.html#term-eafp) style. If the call to `float()` succeeds, then the input data is valid, and you get `Validated!` on your screen. If `float()` raises a `ValueError`, then the user gets a `ValueError` with a more specific message."
   ]
  },
  {
   "cell_type": "markdown",
   "id": "84a3fd16",
   "metadata": {},
   "source": [
    "It’s important to note that assigning the `.x` and `.y` properties directly in `.__init__()` ensures that the validation also occurs during object initialization. Not doing so is a common mistake when using `property()` for data validation."
   ]
  },
  {
   "cell_type": "markdown",
   "id": "a5290d88",
   "metadata": {},
   "source": [
    "Here’s how your `Point` class works now:"
   ]
  },
  {
   "cell_type": "code",
   "execution_count": 36,
   "id": "3c1f8d5c-3de8-4dd2-8378-e36970e55da7",
   "metadata": {
    "tags": []
   },
   "outputs": [
    {
     "name": "stdout",
     "output_type": "stream",
     "text": [
      "Validated!\n",
      "Validated!\n"
     ]
    }
   ],
   "source": [
    "point = Point(12, 5)"
   ]
  },
  {
   "cell_type": "code",
   "execution_count": 37,
   "id": "f6e35aff-73e2-48fd-a01a-0cf9f59c0da9",
   "metadata": {},
   "outputs": [
    {
     "data": {
      "text/plain": [
       "12.0"
      ]
     },
     "execution_count": 37,
     "metadata": {},
     "output_type": "execute_result"
    }
   ],
   "source": [
    "point.x"
   ]
  },
  {
   "cell_type": "code",
   "execution_count": 38,
   "id": "8b5fb1cd-fe65-4446-919c-8e6b3aebe5d9",
   "metadata": {},
   "outputs": [
    {
     "data": {
      "text/plain": [
       "5.0"
      ]
     },
     "execution_count": 38,
     "metadata": {},
     "output_type": "execute_result"
    }
   ],
   "source": [
    "point.y"
   ]
  },
  {
   "cell_type": "code",
   "execution_count": 39,
   "id": "06e29233-7428-460f-bb02-6e175ebd3647",
   "metadata": {},
   "outputs": [
    {
     "name": "stdout",
     "output_type": "stream",
     "text": [
      "Validated!\n"
     ]
    },
    {
     "data": {
      "text/plain": [
       "42.0"
      ]
     },
     "execution_count": 39,
     "metadata": {},
     "output_type": "execute_result"
    }
   ],
   "source": [
    "point.x = 42\n",
    "\n",
    "point.x"
   ]
  },
  {
   "cell_type": "code",
   "execution_count": 40,
   "id": "2f2c6081-472d-4623-b089-64c36f0f1be5",
   "metadata": {},
   "outputs": [
    {
     "name": "stdout",
     "output_type": "stream",
     "text": [
      "Validated!\n"
     ]
    },
    {
     "data": {
      "text/plain": [
       "100.0"
      ]
     },
     "execution_count": 40,
     "metadata": {},
     "output_type": "execute_result"
    }
   ],
   "source": [
    "point.y = 100.0\n",
    "\n",
    "point.y"
   ]
  },
  {
   "cell_type": "code",
   "execution_count": 41,
   "id": "e17e25e6-4b23-4287-9450-9150ae4c8b26",
   "metadata": {},
   "outputs": [
    {
     "ename": "ValueError",
     "evalue": "\"x\" must be a number",
     "output_type": "error",
     "traceback": [
      "\u001b[0;31m---------------------------------------------------------------------------\u001b[0m",
      "\u001b[0;31mValueError\u001b[0m                                Traceback (most recent call last)",
      "\u001b[0;32m<ipython-input-41-e705d42d9ed7>\u001b[0m in \u001b[0;36m<module>\u001b[0;34m\u001b[0m\n\u001b[0;32m----> 1\u001b[0;31m \u001b[0mpoint\u001b[0m\u001b[0;34m.\u001b[0m\u001b[0mx\u001b[0m \u001b[0;34m=\u001b[0m \u001b[0;34m\"one\"\u001b[0m\u001b[0;34m\u001b[0m\u001b[0;34m\u001b[0m\u001b[0m\n\u001b[0m",
      "\u001b[0;32m<ipython-input-35-e0c9169eb3a2>\u001b[0m in \u001b[0;36mx\u001b[0;34m(self, value)\u001b[0m\n\u001b[1;32m     16\u001b[0m             \u001b[0mprint\u001b[0m\u001b[0;34m(\u001b[0m\u001b[0;34m\"Validated!\"\u001b[0m\u001b[0;34m)\u001b[0m\u001b[0;34m\u001b[0m\u001b[0;34m\u001b[0m\u001b[0m\n\u001b[1;32m     17\u001b[0m         \u001b[0;32mexcept\u001b[0m \u001b[0mValueError\u001b[0m\u001b[0;34m:\u001b[0m\u001b[0;34m\u001b[0m\u001b[0;34m\u001b[0m\u001b[0m\n\u001b[0;32m---> 18\u001b[0;31m             \u001b[0;32mraise\u001b[0m \u001b[0mValueError\u001b[0m\u001b[0;34m(\u001b[0m\u001b[0;34m'\"x\" must be a number'\u001b[0m\u001b[0;34m)\u001b[0m \u001b[0;32mfrom\u001b[0m \u001b[0;32mNone\u001b[0m\u001b[0;34m\u001b[0m\u001b[0;34m\u001b[0m\u001b[0m\n\u001b[0m\u001b[1;32m     19\u001b[0m \u001b[0;34m\u001b[0m\u001b[0m\n\u001b[1;32m     20\u001b[0m     \u001b[0;34m@\u001b[0m\u001b[0mproperty\u001b[0m\u001b[0;34m\u001b[0m\u001b[0;34m\u001b[0m\u001b[0m\n",
      "\u001b[0;31mValueError\u001b[0m: \"x\" must be a number"
     ]
    }
   ],
   "source": [
    "point.x = \"one\""
   ]
  },
  {
   "cell_type": "code",
   "execution_count": 42,
   "id": "9e59a703-173d-4912-92c4-6f1a78e84deb",
   "metadata": {},
   "outputs": [
    {
     "ename": "ValueError",
     "evalue": "\"y\" must be a number",
     "output_type": "error",
     "traceback": [
      "\u001b[0;31m---------------------------------------------------------------------------\u001b[0m",
      "\u001b[0;31mValueError\u001b[0m                                Traceback (most recent call last)",
      "\u001b[0;32m<ipython-input-42-4efc2aae71d3>\u001b[0m in \u001b[0;36m<module>\u001b[0;34m\u001b[0m\n\u001b[0;32m----> 1\u001b[0;31m \u001b[0mpoint\u001b[0m\u001b[0;34m.\u001b[0m\u001b[0my\u001b[0m \u001b[0;34m=\u001b[0m \u001b[0;34m\"1o\"\u001b[0m\u001b[0;34m\u001b[0m\u001b[0;34m\u001b[0m\u001b[0m\n\u001b[0m",
      "\u001b[0;32m<ipython-input-35-e0c9169eb3a2>\u001b[0m in \u001b[0;36my\u001b[0;34m(self, value)\u001b[0m\n\u001b[1;32m     28\u001b[0m             \u001b[0mprint\u001b[0m\u001b[0;34m(\u001b[0m\u001b[0;34m\"Validated!\"\u001b[0m\u001b[0;34m)\u001b[0m\u001b[0;34m\u001b[0m\u001b[0;34m\u001b[0m\u001b[0m\n\u001b[1;32m     29\u001b[0m         \u001b[0;32mexcept\u001b[0m \u001b[0mValueError\u001b[0m\u001b[0;34m:\u001b[0m\u001b[0;34m\u001b[0m\u001b[0;34m\u001b[0m\u001b[0m\n\u001b[0;32m---> 30\u001b[0;31m             \u001b[0;32mraise\u001b[0m \u001b[0mValueError\u001b[0m\u001b[0;34m(\u001b[0m\u001b[0;34m'\"y\" must be a number'\u001b[0m\u001b[0;34m)\u001b[0m \u001b[0;32mfrom\u001b[0m \u001b[0;32mNone\u001b[0m\u001b[0;34m\u001b[0m\u001b[0;34m\u001b[0m\u001b[0m\n\u001b[0m",
      "\u001b[0;31mValueError\u001b[0m: \"y\" must be a number"
     ]
    }
   ],
   "source": [
    "point.y = \"1o\""
   ]
  },
  {
   "cell_type": "markdown",
   "id": "963449aa",
   "metadata": {},
   "source": [
    "If you assign `.x` and `.y` values that `float()` can turn into floating-point numbers, then the validation is successful, and the value is accepted. Otherwise, you get a `ValueError`."
   ]
  },
  {
   "cell_type": "markdown",
   "id": "90415e19",
   "metadata": {},
   "source": [
    "This implementation of `Point` uncovers a fundamental weakness of `property()`. Did you spot it?"
   ]
  },
  {
   "cell_type": "markdown",
   "id": "8a989ac5",
   "metadata": {},
   "source": [
    "That’s it! You have repetitive code that follows specific patterns. This repetition breaks the [DRY (Don’t Repeat Yourself)](https://en.wikipedia.org/wiki/Don%27t_repeat_yourself) principle, so you would want to [refactor](https://realpython.com/python-refactoring/) this code to avoid it. To do so, you can abstract out the repetitive logic using a descriptor:"
   ]
  },
  {
   "cell_type": "code",
   "execution_count": null,
   "id": "74d82bb6",
   "metadata": {},
   "outputs": [],
   "source": [
    "# point.py\n",
    "\n",
    "class Coordinate:\n",
    "    def __set_name__(self, owner, name):\n",
    "        self._name = name\n",
    "\n",
    "    def __get__(self, instance, owner):\n",
    "        return instance.__dict__[self._name]\n",
    "\n",
    "    def __set__(self, instance, value):\n",
    "        try:\n",
    "            instance.__dict__[self._name] = float(value)\n",
    "            print(\"Validated!\")\n",
    "        except ValueError:\n",
    "            raise ValueError(f'\"{self._name}\" must be a number') from None\n",
    "\n",
    "class Point:\n",
    "    x = Coordinate()\n",
    "    y = Coordinate()\n",
    "\n",
    "    def __init__(self, x, y):\n",
    "        self.x = x\n",
    "        self.y = y"
   ]
  },
  {
   "cell_type": "markdown",
   "id": "7284fc0a",
   "metadata": {},
   "source": [
    "Now your code is a bit shorter. You managed to remove repetitive code by defining `Coordinate` as a [descriptor](https://realpython.com/python-descriptors/) that manages your data validation in a single place. The code works just like your earlier implementation. Go ahead and give it a try!"
   ]
  },
  {
   "cell_type": "markdown",
   "id": "347a9a04",
   "metadata": {},
   "source": [
    "In general, if you find yourself copying and pasting property definitions all around your code or if you spot repetitive code like in the example above, then you should consider using a proper descriptor."
   ]
  },
  {
   "cell_type": "markdown",
   "id": "2cc82163",
   "metadata": {},
   "source": [
    "<a class=\"anchor\" id=\"providing_computed_attributes\"></a>\n",
    "\n",
    "### Providing Computed Attributes"
   ]
  },
  {
   "cell_type": "markdown",
   "id": "4e202df8",
   "metadata": {},
   "source": [
    "If you need an attribute that builds its value dynamically whenever you access it, then `property()` is the way to go. These kinds of attributes are commonly known as **computed attributes**. They’re handy when you need them to look like [eager](https://en.wikipedia.org/wiki/Eager_evaluation) attributes, but you want them to be [lazy](https://en.wikipedia.org/wiki/Lazy_evaluation)."
   ]
  },
  {
   "cell_type": "markdown",
   "id": "dafe6114",
   "metadata": {},
   "source": [
    "The main reason for creating eager attributes is to optimize computation costs when you access the attribute often. On the other hand, if you rarely use a given attribute, then a lazy property can postpone its computation until needed, which can make your programs more efficient."
   ]
  },
  {
   "cell_type": "markdown",
   "id": "09951f9a",
   "metadata": {},
   "source": [
    "Here’s an example of how to use `property()` to create a computed attribute `.area` in a `Rectangle` class:"
   ]
  },
  {
   "cell_type": "code",
   "execution_count": null,
   "id": "93a39226",
   "metadata": {},
   "outputs": [],
   "source": [
    "class Rectangle:\n",
    "    def __init__(self, width, height):\n",
    "        self.width = width\n",
    "        self.height = height\n",
    "\n",
    "    @property\n",
    "    def area(self):\n",
    "        return self.width * self.height"
   ]
  },
  {
   "cell_type": "markdown",
   "id": "3cac5c05",
   "metadata": {},
   "source": [
    "In this example, the `Rectangle` initializer takes `width` and `height` as arguments and stores them in regular instance attributes. The read-only property `.area` computes and returns the area of the current rectangle every time you access it."
   ]
  },
  {
   "cell_type": "markdown",
   "id": "0d2739b5",
   "metadata": {},
   "source": [
    "Another common use case of properties is to provide an auto-formatted value for a given attribute:"
   ]
  },
  {
   "cell_type": "code",
   "execution_count": 1,
   "id": "560fb171",
   "metadata": {},
   "outputs": [],
   "source": [
    "class Product:\n",
    "    def __init__(self, name, price):\n",
    "        self._name = name\n",
    "        self._price = float(price)\n",
    "\n",
    "    @property\n",
    "    def price(self):\n",
    "        return f\"${self._price:,.2f}\""
   ]
  },
  {
   "cell_type": "markdown",
   "id": "17699e1c",
   "metadata": {},
   "source": [
    "In this example, `.price` is a property that formats and returns the price of a particular product. To provide a currency-like format, you use an [f-string](https://realpython.com/python-f-strings/) with appropriate formatting options."
   ]
  },
  {
   "cell_type": "markdown",
   "id": "b3d97f20",
   "metadata": {},
   "source": [
    "As a final example of computed attributes, say you have a `Point` class that uses `.x` and `.y` as Cartesian coordinates. You want to provide [polar coordinates](https://en.wikipedia.org/wiki/Polar_coordinate_system) for your point so that you can use them in a few computations. The polar coordinate system represents each point using the distance to the origin and the angle with the horizontal coordinate axis."
   ]
  },
  {
   "cell_type": "markdown",
   "id": "5bb275e4",
   "metadata": {},
   "source": [
    "Here’s a Cartesian coordinates `Point` class that also provides computed polar coordinates:"
   ]
  },
  {
   "cell_type": "code",
   "execution_count": 5,
   "id": "ca984a24",
   "metadata": {},
   "outputs": [],
   "source": [
    "# point.py\n",
    "\n",
    "import math\n",
    "\n",
    "class Point:\n",
    "    def __init__(self, x, y):\n",
    "        self.x = x\n",
    "        self.y = y\n",
    "\n",
    "    @property\n",
    "    def distance(self):\n",
    "        return round(math.dist((0, 0), (self.x, self.y)))\n",
    "\n",
    "    @property\n",
    "    def angle(self):\n",
    "        return round(math.degrees(math.atan(self.y / self.x)), 1)\n",
    "\n",
    "    def as_cartesian(self):\n",
    "        return self.x, self.y\n",
    "\n",
    "    def as_polar(self):\n",
    "        return self.distance, self.angle"
   ]
  },
  {
   "cell_type": "markdown",
   "id": "fbf88012",
   "metadata": {},
   "source": [
    "This example shows how to compute the distance and angle of a given `Point` object using its `.x` and `.y` Cartesian coordinates. Here’s how this code works in practice:"
   ]
  },
  {
   "cell_type": "code",
   "execution_count": 44,
   "id": "ab312627-099c-40c5-a32d-028d5f995907",
   "metadata": {},
   "outputs": [],
   "source": [
    "point = Point(12, 5)"
   ]
  },
  {
   "cell_type": "code",
   "execution_count": 45,
   "id": "00c6182a-4fc5-4e5d-b44f-febfd5fae080",
   "metadata": {},
   "outputs": [
    {
     "data": {
      "text/plain": [
       "12"
      ]
     },
     "execution_count": 45,
     "metadata": {},
     "output_type": "execute_result"
    }
   ],
   "source": [
    "point.x"
   ]
  },
  {
   "cell_type": "code",
   "execution_count": 46,
   "id": "d8de43e4-238a-481f-a8b0-3755e3938666",
   "metadata": {},
   "outputs": [
    {
     "data": {
      "text/plain": [
       "5"
      ]
     },
     "execution_count": 46,
     "metadata": {},
     "output_type": "execute_result"
    }
   ],
   "source": [
    "point.y"
   ]
  },
  {
   "cell_type": "code",
   "execution_count": 47,
   "id": "bf5c14d8-fa6e-4d0f-9716-a8c25ee62def",
   "metadata": {},
   "outputs": [
    {
     "data": {
      "text/plain": [
       "13"
      ]
     },
     "execution_count": 47,
     "metadata": {},
     "output_type": "execute_result"
    }
   ],
   "source": [
    "point.distance"
   ]
  },
  {
   "cell_type": "code",
   "execution_count": 48,
   "id": "0695f7c5-e5bb-4026-a8d1-fe3026c06f08",
   "metadata": {},
   "outputs": [
    {
     "data": {
      "text/plain": [
       "22.6"
      ]
     },
     "execution_count": 48,
     "metadata": {},
     "output_type": "execute_result"
    }
   ],
   "source": [
    "point.angle"
   ]
  },
  {
   "cell_type": "code",
   "execution_count": 49,
   "id": "a34f928c-9c37-4149-9bd8-22ed8f788859",
   "metadata": {},
   "outputs": [
    {
     "data": {
      "text/plain": [
       "(12, 5)"
      ]
     },
     "execution_count": 49,
     "metadata": {},
     "output_type": "execute_result"
    }
   ],
   "source": [
    "point.as_cartesian()"
   ]
  },
  {
   "cell_type": "code",
   "execution_count": 50,
   "id": "d0737cc7-86c5-4461-a2ea-9a64ee5205a2",
   "metadata": {},
   "outputs": [
    {
     "data": {
      "text/plain": [
       "(13, 22.6)"
      ]
     },
     "execution_count": 50,
     "metadata": {},
     "output_type": "execute_result"
    }
   ],
   "source": [
    "point.as_polar()"
   ]
  },
  {
   "cell_type": "markdown",
   "id": "9e2da42d",
   "metadata": {},
   "source": [
    "When it comes to providing computed or lazy attributes, `property()` is a pretty handy tool. However, if you’re creating an attribute that you use frequently, then computing it every time can be costly and wasteful. A good strategy is to [cache](https://realpython.com/lru-cache-python/) them once the computation is done."
   ]
  },
  {
   "cell_type": "markdown",
   "id": "eabfc7a4",
   "metadata": {},
   "source": [
    "<a class=\"anchor\" id=\"caching_computed_attributes\"></a>\n",
    "\n",
    "### Caching Computed Attributes"
   ]
  },
  {
   "cell_type": "markdown",
   "id": "15c519f1",
   "metadata": {},
   "source": [
    "Sometimes you have a given computed attribute that you use frequently. Constantly repeating the same computation may be unnecessary and expensive. To work around this problem, you can cache the computed value and save it in a non-public dedicated attribute for further reuse."
   ]
  },
  {
   "cell_type": "markdown",
   "id": "a75c57be",
   "metadata": {},
   "source": [
    "To prevent unexpected behaviors, you need to think of the mutability of the input data. If you have a property that computes its value from constant input values, then the result will never change. In that case, you can compute the value just once:"
   ]
  },
  {
   "cell_type": "code",
   "execution_count": 50,
   "id": "4fc8167f",
   "metadata": {},
   "outputs": [],
   "source": [
    "# circle.py\n",
    "\n",
    "from time import sleep\n",
    "\n",
    "class Circle:\n",
    "    def __init__(self, radius):\n",
    "        self.radius = radius\n",
    "        self._diameter = None\n",
    "\n",
    "    @property\n",
    "    def diameter(self):\n",
    "        if self._diameter is None:\n",
    "            sleep(0.5)  # Simulate a costly computation\n",
    "            self._diameter = self.radius * 2\n",
    "        return self._diameter"
   ]
  },
  {
   "cell_type": "markdown",
   "id": "b670b9bb",
   "metadata": {},
   "source": [
    "Even though this implementation of `Circle` properly caches the computed diameter, it has the drawback that if you ever change the value of `.radius`, then `.diameter` won’t return a correct value:"
   ]
  },
  {
   "cell_type": "code",
   "execution_count": 54,
   "id": "f23ee5c2-79ae-42c1-b0b0-7456b88bdac5",
   "metadata": {},
   "outputs": [
    {
     "data": {
      "text/plain": [
       "42.0"
      ]
     },
     "execution_count": 54,
     "metadata": {},
     "output_type": "execute_result"
    }
   ],
   "source": [
    "circle = Circle(42.0)\n",
    "circle.radius"
   ]
  },
  {
   "cell_type": "code",
   "execution_count": 53,
   "id": "fc627e71-8a59-4bee-8249-9fae942f6591",
   "metadata": {},
   "outputs": [
    {
     "data": {
      "text/plain": [
       "84.0"
      ]
     },
     "execution_count": 53,
     "metadata": {},
     "output_type": "execute_result"
    }
   ],
   "source": [
    "circle.diameter  # With delay"
   ]
  },
  {
   "cell_type": "code",
   "execution_count": 54,
   "id": "5d454e31-871e-41a5-b999-9373a65b3c4e",
   "metadata": {},
   "outputs": [
    {
     "data": {
      "text/plain": [
       "84.0"
      ]
     },
     "execution_count": 54,
     "metadata": {},
     "output_type": "execute_result"
    }
   ],
   "source": [
    "circle.diameter  # Without delay"
   ]
  },
  {
   "cell_type": "code",
   "execution_count": 55,
   "id": "665fb46d-8712-4cc4-b371-115c2495acc3",
   "metadata": {},
   "outputs": [
    {
     "data": {
      "text/plain": [
       "84.0"
      ]
     },
     "execution_count": 55,
     "metadata": {},
     "output_type": "execute_result"
    }
   ],
   "source": [
    "circle.radius = 100.0\n",
    "circle.diameter  # Wrong diameter"
   ]
  },
  {
   "cell_type": "markdown",
   "id": "754f7f9a",
   "metadata": {},
   "source": [
    "In these examples, you create a circle with a radius equal to `42.0`. The `.diameter` property computes its value only the first time you access it. That’s why you see a delay in the first execution and no delay in the second. Note that even though you change the value of the radius, the diameter stays the same."
   ]
  },
  {
   "cell_type": "markdown",
   "id": "ffc03796",
   "metadata": {},
   "source": [
    "If the input data for a computed attribute mutates, then you need to recalculate the attribute:"
   ]
  },
  {
   "cell_type": "code",
   "execution_count": 61,
   "id": "4bb307ab",
   "metadata": {},
   "outputs": [],
   "source": [
    "# circle.py\n",
    "\n",
    "from time import sleep\n",
    "\n",
    "class Circle:\n",
    "    def __init__(self, radius):\n",
    "        self.radius = radius\n",
    "\n",
    "    @property\n",
    "    def radius(self):\n",
    "        return self._radius\n",
    "\n",
    "    @radius.setter\n",
    "    def radius(self, value):\n",
    "        self._diameter = None\n",
    "        self._radius = value\n",
    "\n",
    "    @property\n",
    "    def diameter(self):\n",
    "        if self._diameter is None:\n",
    "            sleep(0.5)  # Simulate a costly computation\n",
    "            self._diameter = self._radius * 2\n",
    "        return self._diameter"
   ]
  },
  {
   "cell_type": "markdown",
   "id": "33d37fd5",
   "metadata": {},
   "source": [
    "The setter method of the `.radius` property resets `._diameter` to [`None`](https://realpython.com/null-in-python/) every time you change the value of the radius. With this little update, `.diameter` recalculates its value the first time you access it after every mutation of `.radius`:"
   ]
  },
  {
   "cell_type": "code",
   "execution_count": 56,
   "id": "f5c5d832-f91a-4f28-bd13-21b5826f7fc5",
   "metadata": {},
   "outputs": [],
   "source": [
    "circle = Circle(42.0)"
   ]
  },
  {
   "cell_type": "code",
   "execution_count": 57,
   "id": "275406fc-2d2a-4c40-84c3-de2eae7a4f06",
   "metadata": {},
   "outputs": [
    {
     "data": {
      "text/plain": [
       "42.0"
      ]
     },
     "execution_count": 57,
     "metadata": {},
     "output_type": "execute_result"
    }
   ],
   "source": [
    "circle.radius"
   ]
  },
  {
   "cell_type": "code",
   "execution_count": 58,
   "id": "e347ded4-db1f-4521-aa2d-3b9b0e90526e",
   "metadata": {},
   "outputs": [
    {
     "data": {
      "text/plain": [
       "84.0"
      ]
     },
     "execution_count": 58,
     "metadata": {},
     "output_type": "execute_result"
    }
   ],
   "source": [
    "circle.diameter  # With delay"
   ]
  },
  {
   "cell_type": "code",
   "execution_count": 59,
   "id": "b0c1e0c7-a121-44ae-abcc-3ece131898b5",
   "metadata": {},
   "outputs": [
    {
     "data": {
      "text/plain": [
       "84.0"
      ]
     },
     "execution_count": 59,
     "metadata": {},
     "output_type": "execute_result"
    }
   ],
   "source": [
    "circle.diameter  # Without delay"
   ]
  },
  {
   "cell_type": "code",
   "execution_count": 60,
   "id": "94f8101d-0187-4bdf-ad2b-5ee97525149e",
   "metadata": {},
   "outputs": [
    {
     "data": {
      "text/plain": [
       "84.0"
      ]
     },
     "execution_count": 60,
     "metadata": {},
     "output_type": "execute_result"
    }
   ],
   "source": [
    "circle.radius = 100.0\n",
    "circle.diameter  # With delay"
   ]
  },
  {
   "cell_type": "code",
   "execution_count": 61,
   "id": "77bea7ff-a7ce-4493-8c5c-d5364ffee3d4",
   "metadata": {},
   "outputs": [
    {
     "data": {
      "text/plain": [
       "84.0"
      ]
     },
     "execution_count": 61,
     "metadata": {},
     "output_type": "execute_result"
    }
   ],
   "source": [
    "circle.diameter  # Without delay"
   ]
  },
  {
   "cell_type": "markdown",
   "id": "b036dbef",
   "metadata": {},
   "source": [
    "Cool! `Circle` works correctly now! It computes the diameter the first time you access it and also every time you change the radius."
   ]
  },
  {
   "cell_type": "markdown",
   "id": "cc003540",
   "metadata": {},
   "source": [
    "Another option to create cached properties is to use [`functools.cached_property()`](https://docs.python.org/3/library/functools.html#functools.cached_property) from the standard library. This function works as a decorator that allows you to transform a method into a cached property. The property computes its value only once and caches it as a normal attribute during the lifetime of the instance:"
   ]
  },
  {
   "cell_type": "code",
   "execution_count": 62,
   "id": "391e4707",
   "metadata": {},
   "outputs": [],
   "source": [
    "# circle.py\n",
    "\n",
    "from functools import cached_property\n",
    "from time import sleep\n",
    "\n",
    "class Circle:\n",
    "    def __init__(self, radius):\n",
    "        self.radius = radius\n",
    "\n",
    "    @cached_property\n",
    "    def diameter(self):\n",
    "        sleep(0.5)  # Simulate a costly computation\n",
    "        return self.radius * 2"
   ]
  },
  {
   "cell_type": "markdown",
   "id": "bfb168f9",
   "metadata": {},
   "source": [
    "Here, `.diameter` computes and caches its value the first time you access it. This kind of implementation is suitable for those computations in which the input values don’t mutate. Here’s how it works:"
   ]
  },
  {
   "cell_type": "code",
   "execution_count": 63,
   "id": "d9ca3cfe-c10d-4f29-bfb7-de5cfbe62970",
   "metadata": {},
   "outputs": [
    {
     "data": {
      "text/plain": [
       "84.0"
      ]
     },
     "execution_count": 63,
     "metadata": {},
     "output_type": "execute_result"
    }
   ],
   "source": [
    "circle = Circle(42.0)\n",
    "circle.diameter  # With delay"
   ]
  },
  {
   "cell_type": "code",
   "execution_count": 64,
   "id": "ad165291-0c74-4edf-acbd-bfb49783da97",
   "metadata": {},
   "outputs": [
    {
     "data": {
      "text/plain": [
       "84.0"
      ]
     },
     "execution_count": 64,
     "metadata": {},
     "output_type": "execute_result"
    }
   ],
   "source": [
    "circle.diameter  # Without delay"
   ]
  },
  {
   "cell_type": "code",
   "execution_count": 65,
   "id": "84d69b8e-6afe-4555-93a2-33635f975152",
   "metadata": {},
   "outputs": [
    {
     "data": {
      "text/plain": [
       "84.0"
      ]
     },
     "execution_count": 65,
     "metadata": {},
     "output_type": "execute_result"
    }
   ],
   "source": [
    "circle.radius = 100\n",
    "circle.diameter  # Wrong diameter"
   ]
  },
  {
   "cell_type": "code",
   "execution_count": 66,
   "id": "879fc589-b14e-4b78-8d74-c0b2c9efb747",
   "metadata": {},
   "outputs": [
    {
     "data": {
      "text/plain": [
       "200"
      ]
     },
     "execution_count": 66,
     "metadata": {},
     "output_type": "execute_result"
    }
   ],
   "source": [
    "# Allow direct assignment\n",
    "circle.diameter = 200\n",
    "circle.diameter  # Cached value"
   ]
  },
  {
   "cell_type": "markdown",
   "id": "4418e438",
   "metadata": {},
   "source": [
    "When you access `.diameter`, you get its computed value. That value remains the same from this point on. However, unlike `property()`, `cached_property()` doesn’t block attribute mutations unless you provide a proper setter method. That’s why you can update the diameter to `200` in the last couple of lines."
   ]
  },
  {
   "cell_type": "markdown",
   "id": "838a49af",
   "metadata": {},
   "source": [
    "If you want to create a cached property that doesn’t allow modification, then you can use `property()` and [`functools.cache()`](https://docs.python.org/3/library/functools.html#functools.cache) like in the following example:"
   ]
  },
  {
   "cell_type": "code",
   "execution_count": 1,
   "id": "1cd91cab",
   "metadata": {},
   "outputs": [],
   "source": [
    "# circle.py\n",
    "\n",
    "# this import works in python 3.9+\n",
    "from functools import cache\n",
    "from time import sleep\n",
    "\n",
    "class Circle:\n",
    "    def __init__(self, radius):\n",
    "        self.radius = radius\n",
    "\n",
    "    @property\n",
    "    @cache\n",
    "    def diameter(self):\n",
    "        sleep(0.5) # Simulate a costly computation\n",
    "        return self.radius * 2"
   ]
  },
  {
   "cell_type": "markdown",
   "id": "78c2f0d2",
   "metadata": {},
   "source": [
    "This code stacks `@property` on top of `@cache`. The combination of both decorators builds a cached property that prevents mutations:"
   ]
  },
  {
   "cell_type": "code",
   "execution_count": 2,
   "id": "593247e5-94c8-4d25-9167-6a013fcf90a4",
   "metadata": {},
   "outputs": [],
   "source": [
    "circle = Circle(42.0)"
   ]
  },
  {
   "cell_type": "code",
   "execution_count": 3,
   "id": "5364097d-a74d-447b-9514-44d1d44ebbaa",
   "metadata": {},
   "outputs": [
    {
     "data": {
      "text/plain": [
       "84.0"
      ]
     },
     "execution_count": 3,
     "metadata": {},
     "output_type": "execute_result"
    }
   ],
   "source": [
    "circle.diameter  # With delay"
   ]
  },
  {
   "cell_type": "code",
   "execution_count": 4,
   "id": "aa5d8268-e0dd-400d-b1a4-369807b5ca13",
   "metadata": {},
   "outputs": [
    {
     "data": {
      "text/plain": [
       "84.0"
      ]
     },
     "execution_count": 4,
     "metadata": {},
     "output_type": "execute_result"
    }
   ],
   "source": [
    "circle.diameter  # Without delay"
   ]
  },
  {
   "cell_type": "code",
   "execution_count": 5,
   "id": "0b59aea2-4ccf-4f7d-8e69-8fc199501894",
   "metadata": {},
   "outputs": [
    {
     "data": {
      "text/plain": [
       "84.0"
      ]
     },
     "execution_count": 5,
     "metadata": {},
     "output_type": "execute_result"
    }
   ],
   "source": [
    "circle.radius = 100\n",
    "circle.diameter"
   ]
  },
  {
   "cell_type": "code",
   "execution_count": 6,
   "id": "085e3727-d50d-413b-936e-94d1f5d80278",
   "metadata": {},
   "outputs": [
    {
     "ename": "AttributeError",
     "evalue": "can't set attribute",
     "output_type": "error",
     "traceback": [
      "\u001b[0;31m---------------------------------------------------------------------------\u001b[0m",
      "\u001b[0;31mAttributeError\u001b[0m                            Traceback (most recent call last)",
      "Input \u001b[0;32mIn [6]\u001b[0m, in \u001b[0;36m<module>\u001b[0;34m\u001b[0m\n\u001b[0;32m----> 1\u001b[0m circle\u001b[38;5;241m.\u001b[39mdiameter \u001b[38;5;241m=\u001b[39m \u001b[38;5;241m200\u001b[39m\n",
      "\u001b[0;31mAttributeError\u001b[0m: can't set attribute"
     ]
    }
   ],
   "source": [
    "circle.diameter = 200"
   ]
  },
  {
   "cell_type": "markdown",
   "id": "feb19803",
   "metadata": {},
   "source": [
    "In these examples, when you try to assign a new value to `.diameter`, you get an `AttributeError` because the setter functionality comes from the internal descriptor of `property`."
   ]
  },
  {
   "cell_type": "markdown",
   "id": "f9f4ed9c",
   "metadata": {},
   "source": [
    "<a class=\"anchor\" id=\"logging_attribute_access_and_mutation\"></a>\n",
    "\n",
    "### Logging Attribute Access and Mutation"
   ]
  },
  {
   "cell_type": "markdown",
   "id": "1778546a",
   "metadata": {},
   "source": [
    "Sometimes you need to keep track of what your code does and how your programs flow. A way to do that in Python is to use [`logging`](https://realpython.com/python-logging/). This module provides all the functionality you would require for logging your code. It’ll allow you to constantly watch the code and generate useful information about how it works."
   ]
  },
  {
   "cell_type": "markdown",
   "id": "35e8505b",
   "metadata": {},
   "source": [
    "If you ever need to keep track of how and when you access and mutate a given attribute, then you can take advantage of `property()` for that, too:"
   ]
  },
  {
   "cell_type": "code",
   "execution_count": 8,
   "id": "f9cd6ab7",
   "metadata": {},
   "outputs": [],
   "source": [
    "# circle.py\n",
    "\n",
    "import logging\n",
    "\n",
    "logging.basicConfig(\n",
    "    format=\"%(asctime)s: %(message)s\",\n",
    "    level=logging.INFO,\n",
    "    datefmt=\"%H:%M:%S\"\n",
    ")\n",
    "\n",
    "class Circle:\n",
    "    def __init__(self, radius):\n",
    "        self._msg = '\"radius\" was {state}. Current value: {value}'\n",
    "        self.radius = radius\n",
    "\n",
    "    @property\n",
    "    def radius(self):\n",
    "        \"\"\"The radius property.\"\"\"\n",
    "        logging.info(self._msg.format(state=\"accessed\", value=str(self._radius)))\n",
    "        return self._radius\n",
    "\n",
    "    @radius.setter\n",
    "    def radius(self, value):\n",
    "        try:\n",
    "            self._radius = float(value)\n",
    "            logging.info(self._msg.format(state=\"mutated\", value=str(self._radius)))\n",
    "        except ValueError:\n",
    "            logging.info('validation error while mutating \"radius\"')"
   ]
  },
  {
   "cell_type": "markdown",
   "id": "f23721c9",
   "metadata": {},
   "source": [
    "Here, you first import `logging` and define a basic configuration. Then you implement `Circle` with a managed attribute `.radius`. The getter method generates log information every time you access `.radius` in your code. The setter method logs each mutation that you perform on `.radius`. It also logs those situations in which you get an error because of bad input data."
   ]
  },
  {
   "cell_type": "markdown",
   "id": "05da0372",
   "metadata": {},
   "source": [
    "Here’s how you can use `Circle` in your code:"
   ]
  },
  {
   "cell_type": "code",
   "execution_count": 9,
   "id": "a0e4f253-695e-428c-b1c9-e9006c006dc5",
   "metadata": {},
   "outputs": [
    {
     "name": "stderr",
     "output_type": "stream",
     "text": [
      "17:25:24: \"radius\" was mutated. Current value: 42.0\n",
      "17:25:24: \"radius\" was accessed. Current value: 42.0\n"
     ]
    },
    {
     "data": {
      "text/plain": [
       "42.0"
      ]
     },
     "execution_count": 9,
     "metadata": {},
     "output_type": "execute_result"
    }
   ],
   "source": [
    "circle = Circle(42.0)\n",
    "\n",
    "circle.radius"
   ]
  },
  {
   "cell_type": "code",
   "execution_count": 10,
   "id": "f2100ac6-e4a3-41c9-86e4-fcacea4ad262",
   "metadata": {},
   "outputs": [
    {
     "name": "stderr",
     "output_type": "stream",
     "text": [
      "17:25:24: \"radius\" was mutated. Current value: 100.0\n"
     ]
    }
   ],
   "source": [
    "circle.radius = 100"
   ]
  },
  {
   "cell_type": "code",
   "execution_count": 11,
   "id": "5c09e315-88e2-4dea-b010-3706fe818875",
   "metadata": {},
   "outputs": [
    {
     "name": "stderr",
     "output_type": "stream",
     "text": [
      "17:25:25: \"radius\" was accessed. Current value: 100.0\n"
     ]
    },
    {
     "data": {
      "text/plain": [
       "100.0"
      ]
     },
     "execution_count": 11,
     "metadata": {},
     "output_type": "execute_result"
    }
   ],
   "source": [
    "circle.radius"
   ]
  },
  {
   "cell_type": "code",
   "execution_count": 12,
   "id": "8c902cc2-96d4-4327-9cf8-139501cfcd75",
   "metadata": {},
   "outputs": [
    {
     "name": "stderr",
     "output_type": "stream",
     "text": [
      "17:25:25: validation error while mutating \"radius\"\n"
     ]
    }
   ],
   "source": [
    "circle.radius = \"value\""
   ]
  },
  {
   "cell_type": "markdown",
   "id": "d79f760a",
   "metadata": {},
   "source": [
    "Logging useful data from attribute access and mutation can help you debug your code. Logging can also help you identify sources of problematic data input, analyze the performance of your code, spot usage patterns, and more."
   ]
  },
  {
   "cell_type": "markdown",
   "id": "1238ffa3",
   "metadata": {},
   "source": [
    "<a class=\"anchor\" id=\"managing_attribute_deletion\"></a>\n",
    "\n",
    "### Managing Attribute Deletion"
   ]
  },
  {
   "cell_type": "markdown",
   "id": "d3fbcafe",
   "metadata": {},
   "source": [
    "You can also create properties that implement deleting functionality. This might be a rare use case of `property()`, but having a way to delete an attribute can be handy in some situations."
   ]
  },
  {
   "cell_type": "markdown",
   "id": "7bfc9b42",
   "metadata": {},
   "source": [
    "Say you’re implementing your own [tree](https://en.wikipedia.org/wiki/Tree_(data_structure)) data type. A tree is an [abstract data type](https://en.wikipedia.org/wiki/Abstract_data_type) that stores elements in a hierarchy. The tree components are commonly known as **nodes**. Each node in a tree has a parent node, except for the root node. Nodes can have zero or more children."
   ]
  },
  {
   "cell_type": "markdown",
   "id": "3035e68a",
   "metadata": {},
   "source": [
    "Now suppose you need to provide a way to delete or clear the list of children of a given node. Here’s an example that implements a tree node that uses `property()` to provide most of its functionality, including the ability to clear the list of children of the node at hand:"
   ]
  },
  {
   "cell_type": "code",
   "execution_count": 14,
   "id": "c74e3a5b",
   "metadata": {},
   "outputs": [],
   "source": [
    "# tree.py\n",
    "\n",
    "class TreeNode:\n",
    "    def __init__(self, data):\n",
    "        self._data = data\n",
    "        self._children = []\n",
    "\n",
    "    @property\n",
    "    def children(self):\n",
    "        return self._children\n",
    "\n",
    "    @children.setter\n",
    "    def children(self, value):\n",
    "        if isinstance(value, list):\n",
    "            self._children = value\n",
    "        else:\n",
    "            del self.children\n",
    "            self._children.append(value)\n",
    "\n",
    "    @children.deleter\n",
    "    def children(self):\n",
    "        self._children.clear()\n",
    "\n",
    "    def __repr__(self):\n",
    "        return f'{self.__class__.__name__}(\"{self._data}\")'"
   ]
  },
  {
   "cell_type": "markdown",
   "id": "95e77aaa",
   "metadata": {},
   "source": [
    "In this example, `TreeNode` represents a node in your custom tree data type. Each node stores its children in a Python [list](https://realpython.com/python-lists-tuples/). Then you implement `.children` as a property to manage the underlying list of children. The deleter method calls `.clear()` on the list of children to remove them all:"
   ]
  },
  {
   "cell_type": "code",
   "execution_count": 15,
   "id": "81443d8c-3de5-4083-87f2-92c9d3265032",
   "metadata": {},
   "outputs": [],
   "source": [
    "root = TreeNode(\"root\")\n",
    "child1 = TreeNode(\"child 1\")\n",
    "child2 = TreeNode(\"child 2\")"
   ]
  },
  {
   "cell_type": "code",
   "execution_count": 16,
   "id": "5c0ad528-e6fd-4c01-8b57-37eea176e854",
   "metadata": {},
   "outputs": [],
   "source": [
    "root.children = [child1, child2]"
   ]
  },
  {
   "cell_type": "code",
   "execution_count": 17,
   "id": "45e0d010-0832-49c7-9e9b-09755c57e9fd",
   "metadata": {},
   "outputs": [
    {
     "data": {
      "text/plain": [
       "[TreeNode(\"child 1\"), TreeNode(\"child 2\")]"
      ]
     },
     "execution_count": 17,
     "metadata": {},
     "output_type": "execute_result"
    }
   ],
   "source": [
    "root.children"
   ]
  },
  {
   "cell_type": "code",
   "execution_count": 18,
   "id": "dc8aadf4-5c77-427c-b39b-16aa43fdb98d",
   "metadata": {},
   "outputs": [
    {
     "data": {
      "text/plain": [
       "[]"
      ]
     },
     "execution_count": 18,
     "metadata": {},
     "output_type": "execute_result"
    }
   ],
   "source": [
    "del root.children\n",
    "root.children"
   ]
  },
  {
   "cell_type": "markdown",
   "id": "1ac7f5a5",
   "metadata": {},
   "source": [
    "Here, you first create a `root` node to start populating the tree. Then you create two new nodes and assign them to `.children` using a list. The [`del`](https://realpython.com/python-keywords/#the-del-keyword) statement triggers the internal deleter method of `.children` and clears the list."
   ]
  },
  {
   "cell_type": "markdown",
   "id": "c149d6b3",
   "metadata": {},
   "source": [
    "<a class=\"anchor\" id=\"creating_backward-compatible_class_apis\"></a>\n",
    "\n",
    "### Creating Backward-Compatible Class APIs"
   ]
  },
  {
   "cell_type": "markdown",
   "id": "b1bf99a0",
   "metadata": {},
   "source": [
    "As you already know, properties turn method calls into direct attribute lookups. This feature allows you to create clean and Pythonic APIs for your classes. You can expose your attributes publicly without the need for getter and setter methods."
   ]
  },
  {
   "cell_type": "markdown",
   "id": "7f5dfac1",
   "metadata": {},
   "source": [
    "If you ever need to modify how you compute a given public attribute, then you can turn it into a property. Properties make it possible to perform extra processing, such as data validation, without having to modify your public APIs."
   ]
  },
  {
   "cell_type": "markdown",
   "id": "d8c2a383",
   "metadata": {},
   "source": [
    "Suppose you’re creating an accounting application and you need a base class to manage currencies. To this end, you create a `Currency` class that exposes two attributes, `.units` and `.cents`:"
   ]
  },
  {
   "cell_type": "code",
   "execution_count": null,
   "id": "fb10591b",
   "metadata": {},
   "outputs": [],
   "source": [
    "class Currency:\n",
    "    def __init__(self, units, cents):\n",
    "        self.units = units\n",
    "        self.cents = cents\n",
    "\n",
    "    # Currency implementation..."
   ]
  },
  {
   "cell_type": "markdown",
   "id": "eba524c0",
   "metadata": {},
   "source": [
    "This class looks clean and Pythonic. Now say that your requirements change, and you decide to store the total number of cents instead of the units and cents. Removing `.units` and `.cents` from your public API to use something like `.total_cents` would break more than one client’s code."
   ]
  },
  {
   "cell_type": "markdown",
   "id": "03b5d12b",
   "metadata": {},
   "source": [
    "In this situation, `property()` can be an excellent option to keep your current API unchanged. Here’s how you can work around the problem and avoid breaking your clients’ code:"
   ]
  },
  {
   "cell_type": "code",
   "execution_count": null,
   "id": "d9b1001f",
   "metadata": {},
   "outputs": [],
   "source": [
    "# currency.py\n",
    "\n",
    "CENTS_PER_UNIT = 100\n",
    "\n",
    "class Currency:\n",
    "    def __init__(self, units, cents):\n",
    "        self._total_cents = units * CENTS_PER_UNIT + cents\n",
    "\n",
    "    @property\n",
    "    def units(self):\n",
    "        return self._total_cents // CENTS_PER_UNIT\n",
    "\n",
    "    @units.setter\n",
    "    def units(self, value):\n",
    "        self._total_cents = self.cents + value * CENTS_PER_UNIT\n",
    "\n",
    "    @property\n",
    "    def cents(self):\n",
    "        return self._total_cents % CENTS_PER_UNIT\n",
    "\n",
    "    @cents.setter\n",
    "    def cents(self, value):\n",
    "        self._total_cents = self.units * CENTS_PER_UNIT + value\n",
    "\n",
    "    # Currency implementation..."
   ]
  },
  {
   "cell_type": "markdown",
   "id": "8de9567b",
   "metadata": {},
   "source": [
    "Now your class stores the total number of cents instead of independent units and cents. However, your users can still access and mutate `.units` and `.cents` in their code and get the same result as before. Go ahead and give it a try!"
   ]
  },
  {
   "cell_type": "markdown",
   "id": "2c3d7342",
   "metadata": {},
   "source": [
    "When you write something upon which many people are going to build, you need to guarantee that modifications to the internal implementation don’t affect how end users work with your classes."
   ]
  },
  {
   "cell_type": "markdown",
   "id": "0894e78b",
   "metadata": {},
   "source": [
    "<a class=\"anchor\" id=\"overriding_properties_in_subclasses\"></a>\n",
    "\n",
    "## Overriding Properties in Subclasses"
   ]
  },
  {
   "cell_type": "markdown",
   "id": "6e7dff70",
   "metadata": {},
   "source": [
    "When you create Python classes that include properties and release them in a package or library, you should expect your users to do a lot of different things with them. One of those things could be **subclassing** them to customize their functionalities. In these cases, your users have to be careful and be aware of a subtle gotcha. If you partially override a property, then you lose the non-overridden functionality."
   ]
  },
  {
   "cell_type": "markdown",
   "id": "e83c0069",
   "metadata": {},
   "source": [
    "For example, suppose you’re coding an `Employee` class to manage employee information in your company’s internal accounting system. You already have a class called `Person`, and you think about subclassing it to reuse its functionalities."
   ]
  },
  {
   "cell_type": "markdown",
   "id": "aaf6501f",
   "metadata": {},
   "source": [
    "`Person` has a `.name` attribute implemented as a property. The current implementation of `.name` doesn’t meet the requirement of returning the name in uppercase letters. Here’s how you end up solving this:"
   ]
  },
  {
   "cell_type": "code",
   "execution_count": 19,
   "id": "919c4aa8",
   "metadata": {},
   "outputs": [],
   "source": [
    "# persons.py\n",
    "\n",
    "class Person:\n",
    "    def __init__(self, name):\n",
    "        self._name = name\n",
    "\n",
    "    @property\n",
    "    def name(self):\n",
    "        return self._name\n",
    "\n",
    "    @name.setter\n",
    "    def name(self, value):\n",
    "        self._name = value\n",
    "\n",
    "    # Person implementation...\n",
    "\n",
    "class Employee(Person):\n",
    "    @property\n",
    "    def name(self):\n",
    "        return super().name.upper()\n",
    "\n",
    "    # Employee implementation..."
   ]
  },
  {
   "cell_type": "markdown",
   "id": "25a0c486",
   "metadata": {},
   "source": [
    "In `Employee`, you override `.name` to make sure that when you access the attribute, you get the employee name in uppercase:"
   ]
  },
  {
   "cell_type": "code",
   "execution_count": 20,
   "id": "23bead12-beee-4a19-9ae3-564e77d08741",
   "metadata": {},
   "outputs": [
    {
     "data": {
      "text/plain": [
       "'John'"
      ]
     },
     "execution_count": 20,
     "metadata": {},
     "output_type": "execute_result"
    }
   ],
   "source": [
    "person = Person(\"John\")\n",
    "person.name"
   ]
  },
  {
   "cell_type": "code",
   "execution_count": 21,
   "id": "57a7f7ee-d795-4b10-a254-331b3c2aa53c",
   "metadata": {},
   "outputs": [
    {
     "data": {
      "text/plain": [
       "'John Doe'"
      ]
     },
     "execution_count": 21,
     "metadata": {},
     "output_type": "execute_result"
    }
   ],
   "source": [
    "person.name = \"John Doe\"\n",
    "person.name"
   ]
  },
  {
   "cell_type": "code",
   "execution_count": 22,
   "id": "ade4c5c8-0364-443d-8f6a-b0b6ae6d747b",
   "metadata": {},
   "outputs": [
    {
     "data": {
      "text/plain": [
       "'JOHN'"
      ]
     },
     "execution_count": 22,
     "metadata": {},
     "output_type": "execute_result"
    }
   ],
   "source": [
    "employee = Employee(\"John\")\n",
    "employee.name"
   ]
  },
  {
   "cell_type": "markdown",
   "id": "f42933ab",
   "metadata": {},
   "source": [
    "Great! `Employee` works as you need! It returns the name using uppercase letters. However, subsequent tests uncover an unexpected behavior:"
   ]
  },
  {
   "cell_type": "code",
   "execution_count": 24,
   "id": "3a56adda",
   "metadata": {},
   "outputs": [
    {
     "ename": "AttributeError",
     "evalue": "can't set attribute",
     "output_type": "error",
     "traceback": [
      "\u001b[0;31m---------------------------------------------------------------------------\u001b[0m",
      "\u001b[0;31mAttributeError\u001b[0m                            Traceback (most recent call last)",
      "Input \u001b[0;32mIn [24]\u001b[0m, in \u001b[0;36m<module>\u001b[0;34m\u001b[0m\n\u001b[1;32m      1\u001b[0m \u001b[38;5;66;03m# this should raise AttributeError\u001b[39;00m\n\u001b[0;32m----> 2\u001b[0m employee\u001b[38;5;241m.\u001b[39mname \u001b[38;5;241m=\u001b[39m \u001b[38;5;124m\"\u001b[39m\u001b[38;5;124mJohn Doe\u001b[39m\u001b[38;5;124m\"\u001b[39m\n",
      "\u001b[0;31mAttributeError\u001b[0m: can't set attribute"
     ]
    }
   ],
   "source": [
    "# this should raise AttributeError\n",
    "employee.name = \"John Doe\""
   ]
  },
  {
   "cell_type": "markdown",
   "id": "3a2d7e00",
   "metadata": {},
   "source": [
    "What happened? Well, when you override an existing property from a parent class, you override the whole functionality of that property. In this example, you reimplemented the getter method only. Because of that, `.name` lost the rest of the functionality from the base class. You don’t have a setter method any longer."
   ]
  },
  {
   "cell_type": "markdown",
   "id": "06c7eeeb",
   "metadata": {},
   "source": [
    "The idea is that if you ever need to override a property in a subclass, then you should provide all the functionality you need in the new version of the property at hand."
   ]
  },
  {
   "attachments": {},
   "cell_type": "markdown",
   "id": "63c25d6f",
   "metadata": {},
   "source": [
    "<a class=\"anchor\" id=\"conclusion\"></a>\n",
    "\n",
    "## <img src=\"../../images/logos/checkmark.png\" width=\"20\"/> Conclusion "
   ]
  },
  {
   "cell_type": "markdown",
   "id": "cf8181c5",
   "metadata": {},
   "source": [
    "A **property** is a special type of class member that provides functionality that’s somewhere in between regular attributes and methods. Properties allow you to modify the implementation of instance attributes without changing the public API of the class. Being able to keep your APIs unchanged helps you avoid breaking code your users wrote on top of older versions of your classes."
   ]
  },
  {
   "cell_type": "markdown",
   "id": "f0e1621e",
   "metadata": {},
   "source": [
    "Properties are the [Pythonic](https://realpython.com/learning-paths/writing-pythonic-code/) way to create **managed attributes** in your classes. They have several use cases in real-world programming, making them a great addition to your skill set as a Python developer."
   ]
  },
  {
   "cell_type": "markdown",
   "id": "5fe44ed1",
   "metadata": {},
   "source": [
    "**In this tutorial, you learned how to:**"
   ]
  },
  {
   "cell_type": "markdown",
   "id": "378ccc3e",
   "metadata": {},
   "source": [
    "- Create **managed attributes** with Python’s `property()`\n",
    "- Perform **lazy attribute evaluation** and provide **computed attributes**\n",
    "- Avoid **setter** and **getter** methods with properties\n",
    "- Create **read-only**, **read-write**, and **write-only** attributes\n",
    "- Create consistent and **backward-compatible APIs** for your classes\n"
   ]
  },
  {
   "cell_type": "markdown",
   "id": "015f068d",
   "metadata": {},
   "source": [
    "You also wrote several practical examples that walked you through the most common use cases of `property()`. Those examples include input [data validation](#validating-input-values), computed attributes, [logging](https://realpython.com/python-logging/) your code, and more."
   ]
  }
 ],
 "metadata": {
  "kernelspec": {
   "display_name": "Python 3 (ipykernel)",
   "language": "python",
   "name": "python3"
  },
  "language_info": {
   "codemirror_mode": {
    "name": "ipython",
    "version": 3
   },
   "file_extension": ".py",
   "mimetype": "text/x-python",
   "name": "python",
   "nbconvert_exporter": "python",
   "pygments_lexer": "ipython3",
   "version": "3.9.7"
  }
 },
 "nbformat": 4,
 "nbformat_minor": 5
}
