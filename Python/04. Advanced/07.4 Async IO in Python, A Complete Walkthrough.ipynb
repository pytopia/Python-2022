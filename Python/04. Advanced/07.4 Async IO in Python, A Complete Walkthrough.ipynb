{
 "cells": [
  {
   "cell_type": "markdown",
   "id": "2f182db4",
   "metadata": {},
   "source": [
    "<img src=\"../../images/banners/python-advanced.png\" width=\"600\"/>"
   ]
  },
  {
   "cell_type": "markdown",
   "id": "2b737807",
   "metadata": {},
   "source": [
    "# <img src=\"../../images/logos/python.png\" width=\"23\"/> Async IO in Python: A Complete Walkthrough \n"
   ]
  },
  {
   "cell_type": "markdown",
   "id": "0b245c19",
   "metadata": {},
   "source": [
    "## <img src=\"../../images/logos/toc.png\" width=\"20\"/> Table of Contents \n",
    "* [Setting Up Your Environment](#setting_up_your_environment)\n",
    "* [The 10,000-Foot View of Async IO](#the_10,000-foot_view_of_async_io)\n",
    "    * [Where Does Async IO Fit In?](#where_does_async_io_fit_in?)\n",
    "    * [Async IO Explained](#async_io_explained)\n",
    "    * [Async IO Is Not Easy](#async_io_is_not_easy)\n",
    "* [The `asyncio` Package and `async`/`await`](#the_`asyncio`_package_and_`async`/`await`)\n",
    "    * [The `async`/`await` Syntax and Native Coroutines](#the_`async`/`await`_syntax_and_native_coroutines)\n",
    "    * [The Rules of Async IO](#the_rules_of_async_io)\n",
    "* [Async IO Design Patterns](#async_io_design_patterns)\n",
    "    * [Chaining Coroutines](#chaining_coroutines)\n",
    "    * [Using a Queue](#using_a_queue)\n",
    "* [Async IO’s Roots in Generators](#async_io’s_roots_in_generators)\n",
    "    * [Other Features: `async for` and Async Generators + Comprehensions](#other_features:_`async_for`_and_async_generators_+_comprehensions)\n",
    "    * [The Event Loop and `asyncio.run()`](#the_event_loop_and_`asyncio.run()`)\n",
    "* [A Full Program: Asynchronous Requests](#a_full_program:_asynchronous_requests)\n",
    "* [Async IO in Context](#async_io_in_context)\n",
    "    * [When and Why Is Async IO the Right Choice?](#when_and_why_is_async_io_the_right_choice?)\n",
    "    * [Async IO It Is, but Which One?](#async_io_it_is,_but_which_one?)\n",
    "* [Odds and Ends](#odds_and_ends)\n",
    "    * [Other Top-Level `asyncio` Functions](#other_top-level_`asyncio`_functions)\n",
    "    * [The Precedence of `await`](#the_precedence_of_`await`)\n",
    "* [Conclusion](#conclusion)\n",
    "* [Resources](#resources)\n",
    "    * [Python Version Specifics](#python_version_specifics)\n",
    "    * [Articles](#articles)\n",
    "    * [Related PEPs](#related_peps)\n",
    "    * [Libraries That Work With `async`/`await`](#libraries_that_work_with_`async`/`await`)\n",
    "\n",
    "---"
   ]
  },
  {
   "cell_type": "markdown",
   "id": "ab5d45c6",
   "metadata": {},
   "source": [
    "Async IO is a concurrent programming design that has received dedicated support in Python, evolving rapidly from Python 3.4 through 3.7, and [probably beyond](https://twitter.com/1st1/status/1041855365745455104)."
   ]
  },
  {
   "cell_type": "markdown",
   "id": "2630631c",
   "metadata": {},
   "source": [
    "You may be thinking with dread, “Concurrency, parallelism, threading, multiprocessing. That’s a lot to grasp already. Where does async IO fit in?”"
   ]
  },
  {
   "cell_type": "markdown",
   "id": "9631326e",
   "metadata": {},
   "source": [
    "This tutorial is built to help you answer that question, giving you a firmer grasp of Python’s approach to async IO."
   ]
  },
  {
   "cell_type": "markdown",
   "id": "d7dededd",
   "metadata": {},
   "source": [
    "**Here’s what you’ll cover:**"
   ]
  },
  {
   "cell_type": "markdown",
   "id": "8d3739dd",
   "metadata": {},
   "source": [
    "- **Asynchronous IO (async IO)**: a language-agnostic paradigm (model) that has implementations across a host of programming languages\n",
    "- **`async`/`await`**: two new [Python keywords](https://realpython.com/python-keywords/) that are used to define coroutines\n",
    "-  **`asyncio`**: the Python package that provides a foundation and API for running and managing coroutines"
   ]
  },
  {
   "cell_type": "markdown",
   "id": "fc2b9f0d",
   "metadata": {},
   "source": [
    "Coroutines (specialized generator functions) are the heart of async IO in Python, and we’ll dive into them later on."
   ]
  },
  {
   "cell_type": "markdown",
   "id": "af470e8f",
   "metadata": {},
   "source": [
    "Before you get started, you’ll need to make sure you’re set up to use `asyncio` and other libraries found in this tutorial."
   ]
  },
  {
   "cell_type": "markdown",
   "id": "a106c7ed",
   "metadata": {},
   "source": [
    "<a class=\"anchor\" id=\"setting_up_your_environment\"></a>\n",
    "\n",
    "## Setting Up Your Environment"
   ]
  },
  {
   "cell_type": "markdown",
   "id": "f8aec84a",
   "metadata": {},
   "source": [
    "You’ll need Python 3.7 or above to follow this article in its entirety, as well as the `aiohttp` and `aiofiles` packages:"
   ]
  },
  {
   "cell_type": "markdown",
   "id": "87158180",
   "metadata": {},
   "source": [
    "```sh\n",
    "$ python3.7 -m venv ./py37async\n",
    "$ source ./py37async/bin/activate  # Windows: .\\py37async\\Scripts\\activate.bat\n",
    "$ pip install --upgrade pip aiohttp aiofiles  # Optional: aiodns\n",
    "```"
   ]
  },
  {
   "cell_type": "markdown",
   "id": "338f7957",
   "metadata": {},
   "source": [
    "For help with installing Python 3.7 and setting up a virtual environment, check out [Python 3 Installation & Setup Guide](https://realpython.com/installing-python/) or [Virtual Environments Primer](https://realpython.com/python-virtual-environments-a-primer/)."
   ]
  },
  {
   "cell_type": "markdown",
   "id": "e9eeee44",
   "metadata": {},
   "source": [
    "With that, let’s jump in."
   ]
  },
  {
   "cell_type": "markdown",
   "id": "d8d70d28",
   "metadata": {},
   "source": [
    "<a class=\"anchor\" id=\"the_10,000-foot_view_of_async_io\"></a>\n",
    "\n",
    "## The 10,000-Foot View of Async IO"
   ]
  },
  {
   "cell_type": "markdown",
   "id": "8eb55ff7",
   "metadata": {},
   "source": [
    "Async IO is a bit lesser known than its tried-and-true cousins, multiprocessing and [threading](https://realpython.com/intro-to-python-threading/). This section will give you a fuller picture of what async IO is and how it fits into its surrounding landscape."
   ]
  },
  {
   "cell_type": "markdown",
   "id": "efd12662",
   "metadata": {},
   "source": [
    "<a class=\"anchor\" id=\"where_does_async_io_fit_in?\"></a>\n",
    "\n",
    "### Where Does Async IO Fit In?"
   ]
  },
  {
   "cell_type": "markdown",
   "id": "4df46bff",
   "metadata": {},
   "source": [
    "Concurrency and parallelism are expansive subjects that are not easy to wade into. While this article focuses on async IO and its implementation in Python, it’s worth taking a minute to compare async IO to its counterparts in order to have context about how async IO fits into the larger, sometimes dizzying puzzle."
   ]
  },
  {
   "cell_type": "markdown",
   "id": "61451a3b",
   "metadata": {},
   "source": [
    "**Parallelism** consists of performing multiple operations at the same time. **Multiprocessing** is a means to effect parallelism, and it entails spreading tasks over a computer’s central processing units (CPUs, or cores). Multiprocessing is well-suited for CPU-bound tasks: tightly bound [`for` loops](https://realpython.com/python-for-loop/) and mathematical computations usually fall into this category."
   ]
  },
  {
   "cell_type": "markdown",
   "id": "cc5623d1",
   "metadata": {},
   "source": [
    "**Concurrency** is a slightly broader term than parallelism. It suggests that multiple tasks have the ability to run in an overlapping manner. (There’s a saying that concurrency does not imply parallelism.)"
   ]
  },
  {
   "cell_type": "markdown",
   "id": "07706f51",
   "metadata": {},
   "source": [
    "**Threading** is a concurrent execution model whereby multiple [threads](https://en.wikipedia.org/wiki/Thread_(computing)) take turns executing tasks. One process can contain multiple threads. Python has a complicated relationship with threading thanks to its [GIL](https://realpython.com/python-gil/), but that’s beyond the scope of this article."
   ]
  },
  {
   "cell_type": "markdown",
   "id": "a5856827",
   "metadata": {},
   "source": [
    "What’s important to know about threading is that it’s better for IO-bound tasks. While a CPU-bound task is characterized by the computer’s cores continually working hard from start to finish, an IO-bound job is dominated by a lot of waiting on input/output to complete."
   ]
  },
  {
   "cell_type": "markdown",
   "id": "428689a4",
   "metadata": {},
   "source": [
    "To recap the above, concurrency encompasses both multiprocessing (ideal for CPU-bound tasks) and threading (suited for IO-bound tasks). Multiprocessing is a form of parallelism, with parallelism being a specific type (subset) of concurrency. The Python standard library has offered longstanding [support for both of these](https://docs.python.org/3/library/concurrency.html) through its `multiprocessing`, `threading`, and `concurrent.futures` packages."
   ]
  },
  {
   "cell_type": "markdown",
   "id": "2c5a9d71",
   "metadata": {},
   "source": [
    "Now it’s time to bring a new member to the mix. Over the last few years, a separate design has been more comprehensively built into [CPython](https://realpython.com/cpython-source-code-guide/): asynchronous IO, enabled through the standard library’s `asyncio` package and the new `async` and `await` language keywords. To be clear, async IO is not a newly invented concept, and it has existed or is being built into other languages and runtime environments, such as [Go](https://gobyexample.com/goroutines), [C#](https://docs.microsoft.com/en-us/dotnet/csharp/async), or [Scala](https://docs.scala-lang.org/sips/async.html)."
   ]
  },
  {
   "cell_type": "markdown",
   "id": "b4e0860a",
   "metadata": {},
   "source": [
    "The `asyncio` package is billed by the Python documentation as [a library to write concurrent code](https://docs.python.org/3/library/asyncio.html). However, async IO is not threading, nor is it multiprocessing. It is not built on top of either of these."
   ]
  },
  {
   "cell_type": "markdown",
   "id": "1562d225",
   "metadata": {},
   "source": [
    "In fact, async IO is a single-threaded, single-process design: it uses **cooperative multitasking**, a term that you’ll flesh out by the end of this tutorial. It has been said in other words that async IO gives a feeling of concurrency despite using a single thread in a single process. Coroutines (a central feature of async IO) can be scheduled concurrently, but they are not inherently concurrent."
   ]
  },
  {
   "cell_type": "markdown",
   "id": "3a39732e",
   "metadata": {},
   "source": [
    "To reiterate, async IO is a style of concurrent programming, but it is not parallelism. It’s more closely aligned with threading than with multiprocessing but is very much distinct from both of these and is a standalone member in concurrency’s bag of tricks."
   ]
  },
  {
   "cell_type": "markdown",
   "id": "579816b7",
   "metadata": {},
   "source": [
    "That leaves one more term. What does it mean for something to be **asynchronous**? This isn’t a rigorous definition, but for our purposes here, I can think of two properties:"
   ]
  },
  {
   "cell_type": "markdown",
   "id": "9079954d",
   "metadata": {},
   "source": [
    "- Asynchronous routines are able to “pause” while waiting on their ultimate result and let other routines run in the meantime.\n",
    "- [Asynchronous code](https://realpython.com/python-async-features/), through the mechanism above, facilitates concurrent execution. To put it differently, asynchronous code gives the look and feel of concurrency.\n"
   ]
  },
  {
   "cell_type": "markdown",
   "id": "b96b22f4",
   "metadata": {},
   "source": [
    "Here’s a diagram to put it all together. The white terms represent concepts, and the green terms represent ways in which they are implemented or effected:"
   ]
  },
  {
   "cell_type": "markdown",
   "id": "676349d0",
   "metadata": {},
   "source": [
    "<img src=\"images/async-io-in-python:-a-complete-walkthrough/Screen_Shot_2018-10-17_at_3.18.44_PM.c02792872031.jpg\" width=\"600px\">"
   ]
  },
  {
   "cell_type": "markdown",
   "id": "3e5e352f",
   "metadata": {},
   "source": [
    "I’ll stop there on the comparisons between concurrent programming models. This tutorial is focused on the subcomponent that is async IO, how to use it, and the [APIs](https://realpython.com/python-api/) that have sprung up around it. For a thorough exploration of threading versus multiprocessing versus async IO, pause here and check out Jim Anderson’s [overview of concurrency in Python](https://realpython.com/python-concurrency/). Jim is way funnier than me and has sat in more meetings than me, to boot."
   ]
  },
  {
   "cell_type": "markdown",
   "id": "fc69debe",
   "metadata": {},
   "source": [
    "<a class=\"anchor\" id=\"async_io_explained\"></a>\n",
    "\n",
    "### Async IO Explained"
   ]
  },
  {
   "cell_type": "markdown",
   "id": "7b697c17",
   "metadata": {},
   "source": [
    "Async IO may at first seem counterintuitive and paradoxical. How does something that facilitates concurrent code use a single thread and a single CPU core? I’ve never been very good at conjuring up examples, so I’d like to paraphrase one from Miguel Grinberg’s 2017 PyCon talk, which explains everything quite beautifully:"
   ]
  },
  {
   "cell_type": "markdown",
   "id": "cc83a8b3",
   "metadata": {},
   "source": [
    "There is only one Judit Polgár, who has only two hands and makes only one move at a time by herself. But playing asynchronously cuts the exhibition time down from 12 hours to one. So, cooperative multitasking is a fancy way of saying that a program’s event loop (more on that later) communicates with multiple tasks to let each take turns running at the optimal time."
   ]
  },
  {
   "cell_type": "markdown",
   "id": "5d2b80fb",
   "metadata": {},
   "source": [
    "Async IO takes long waiting periods in which functions would otherwise be blocking and allows other functions to run during that downtime. (A function that blocks effectively forbids others from running from the time that it starts until the time that it returns.)"
   ]
  },
  {
   "cell_type": "markdown",
   "id": "56827f0a",
   "metadata": {},
   "source": [
    "<a class=\"anchor\" id=\"async_io_is_not_easy\"></a>\n",
    "\n",
    "### Async IO Is Not Easy"
   ]
  },
  {
   "cell_type": "markdown",
   "id": "b7651855",
   "metadata": {},
   "source": [
    "I’ve heard it said, “Use async IO when you can; use threading when you must.” The truth is that building durable multithreaded code can be hard and error-prone. Async IO avoids some of the potential speedbumps that you might otherwise encounter with a threaded design."
   ]
  },
  {
   "cell_type": "markdown",
   "id": "80a29cbe",
   "metadata": {},
   "source": [
    "But that’s not to say that async IO in Python is easy. Be warned: when you venture a bit below the surface level, async programming can be difficult too! Python’s async model is built around concepts such as callbacks, events, transports, protocols, and futures—just the terminology can be intimidating. The fact that its API has been changing continually makes it no easier."
   ]
  },
  {
   "cell_type": "markdown",
   "id": "8e76afd4",
   "metadata": {},
   "source": [
    "Luckily, `asyncio` has matured to a point where most of its features are no longer provisional, while its documentation has received a huge overhaul and some quality resources on the subject are starting to emerge as well."
   ]
  },
  {
   "cell_type": "markdown",
   "id": "ae15b470",
   "metadata": {},
   "source": [
    "<a class=\"anchor\" id=\"the_`asyncio`_package_and_`async`/`await`\"></a>\n",
    "\n",
    "## The `asyncio` Package and `async`/`await`"
   ]
  },
  {
   "cell_type": "markdown",
   "id": "2fb37d86",
   "metadata": {},
   "source": [
    "Now that you have some background on async IO as a design, let’s explore Python’s implementation. Python’s `asyncio` package (introduced in Python 3.4) and its two keywords, `async` and `await`, serve different purposes but come together to help you declare, build, execute, and manage asynchronous code."
   ]
  },
  {
   "cell_type": "markdown",
   "id": "8c14c6cb",
   "metadata": {},
   "source": [
    "<a class=\"anchor\" id=\"the_`async`/`await`_syntax_and_native_coroutines\"></a>\n",
    "\n",
    "### The `async`/`await` Syntax and Native Coroutines"
   ]
  },
  {
   "cell_type": "markdown",
   "id": "b1383381",
   "metadata": {},
   "source": [
    "At the heart of async IO are coroutines. **A coroutine is a specialized version of a Python generator function**. Let’s start with a baseline definition and then build off of it as you progress here: a coroutine is a function that can suspend its execution before reaching `return`, and it can indirectly pass control to another coroutine for some time."
   ]
  },
  {
   "cell_type": "markdown",
   "id": "de76c9ce",
   "metadata": {},
   "source": [
    "Later, you’ll dive a lot deeper into how exactly the traditional generator is repurposed into a coroutine. For now, the easiest way to pick up how coroutines work is to start making some."
   ]
  },
  {
   "cell_type": "markdown",
   "id": "cd6d9034",
   "metadata": {},
   "source": [
    "Let’s take the immersive approach and write some async IO code. This short program is the `Hello World` of async IO but goes a long way towards illustrating its core functionality:"
   ]
  },
  {
   "cell_type": "code",
   "execution_count": 4,
   "id": "4c04fab0",
   "metadata": {},
   "outputs": [
    {
     "name": "stdout",
     "output_type": "stream",
     "text": [
      "One\n",
      "One\n",
      "One\n",
      "Two\n",
      "Two\n",
      "Two\n",
      "__main__ executed in 1.00 seconds.\n"
     ]
    }
   ],
   "source": [
    "import re\n",
    "import asyncio\n",
    "\n",
    "async def count():\n",
    "    print(\"One\")\n",
    "    await asyncio.sleep(1)\n",
    "    print(\"Two\")\n",
    "\n",
    "async def main():\n",
    "    await asyncio.gather(count(), count(), count())\n",
    "\n",
    "if __name__ == \"__main__\":\n",
    "    import time\n",
    "    s = time.perf_counter()\n",
    "    \n",
    "    # Note: if you run this peice of code in jupyter lab/notebook you have to use await main()\n",
    "    # as jupyter notebook itself runs an event loop\n",
    "    # see here: https://stackoverflow.com/questions/55409641/asyncio-run-cannot-be-called-from-a-running-event-loop\n",
    "    # however if you run it through a script, you have to run it with asysncio.run(main()) to create\n",
    "    # an event loop first\n",
    "    \n",
    "    # asyncio.run(main()) # does not work in jupyter notebook\n",
    "    await main()          # does not work in a python script\n",
    "    elapsed = time.perf_counter() - s\n",
    "    print(f\"{__name__} executed in {elapsed:0.2f} seconds.\")"
   ]
  },
  {
   "cell_type": "markdown",
   "id": "ee0e7507",
   "metadata": {},
   "source": [
    "When you execute this file, take note of what looks different than if you were to define the functions with just `def` and `time.sleep()`:"
   ]
  },
  {
   "cell_type": "markdown",
   "id": "cc8f57cc",
   "metadata": {},
   "source": [
    "```sh\n",
    "$ python3 countasync.py\n",
    "One\n",
    "One\n",
    "One\n",
    "Two\n",
    "Two\n",
    "Two\n",
    "countasync.py executed in 1.01 seconds.\n",
    "```"
   ]
  },
  {
   "cell_type": "markdown",
   "id": "0071c729",
   "metadata": {},
   "source": [
    "The order of this output is the heart of async IO. Talking to each of the calls to `count()` is a single event loop, or coordinator. When each task reaches `await asyncio.sleep(1)`, the function yells up to the event loop and gives control back to it, saying, “I’m going to be sleeping for 1 second. Go ahead and let something else meaningful be done in the meantime.”"
   ]
  },
  {
   "cell_type": "markdown",
   "id": "aa0dc58e",
   "metadata": {},
   "source": [
    "Contrast this to the synchronous version:"
   ]
  },
  {
   "cell_type": "code",
   "execution_count": null,
   "id": "81283540",
   "metadata": {},
   "outputs": [],
   "source": [
    "#!/usr/bin/env python3\n",
    "# countsync.py\n",
    "\n",
    "import time\n",
    "\n",
    "def count():\n",
    "    print(\"One\")\n",
    "    time.sleep(1)\n",
    "    print(\"Two\")\n",
    "\n",
    "def main():\n",
    "    for _ in range(3):\n",
    "        count()\n",
    "\n",
    "if __name__ == \"__main__\":\n",
    "    s = time.perf_counter()\n",
    "    main()\n",
    "    elapsed = time.perf_counter() - s\n",
    "    print(f\"{__file__} executed in {elapsed:0.2f} seconds.\")"
   ]
  },
  {
   "cell_type": "markdown",
   "id": "8245a5c2",
   "metadata": {},
   "source": [
    "When executed, there is a slight but critical change in order and execution time:"
   ]
  },
  {
   "cell_type": "markdown",
   "id": "07c4a7ec",
   "metadata": {},
   "source": [
    "```sh\n",
    "$ python3 countsync.py\n",
    "One\n",
    "Two\n",
    "One\n",
    "Two\n",
    "One\n",
    "Two\n",
    "countsync.py executed in 3.01 seconds.\n",
    "```"
   ]
  },
  {
   "cell_type": "markdown",
   "id": "05a2cbd2",
   "metadata": {},
   "source": [
    "While using `time.sleep()` and `asyncio.sleep()` may seem banal, they are used as stand-ins for any time-intensive processes that involve wait time. (The most mundane thing you can wait on is a `sleep()` call that does basically nothing.) That is, `time.sleep()` can represent any time-consuming blocking function call, while `asyncio.sleep()` is used to stand in for a non-blocking call (but one that also takes some time to complete)."
   ]
  },
  {
   "cell_type": "markdown",
   "id": "6b90204f",
   "metadata": {},
   "source": [
    "As you’ll see in the next section, the benefit of awaiting something, including `asyncio.sleep()`, is that the surrounding function can temporarily cede control to another function that’s more readily able to do something immediately. In contrast, `time.sleep()` or any other blocking call is incompatible with asynchronous Python code, because it will stop everything in its tracks for the duration of the sleep time."
   ]
  },
  {
   "cell_type": "markdown",
   "id": "10079f73",
   "metadata": {},
   "source": [
    "<a class=\"anchor\" id=\"the_rules_of_async_io\"></a>\n",
    "\n",
    "### The Rules of Async IO"
   ]
  },
  {
   "cell_type": "markdown",
   "id": "ca21ea60",
   "metadata": {},
   "source": [
    "At this point, a more formal definition of `async`, `await`, and the coroutine functions that they create are in order. This section is a little dense, but getting a hold of `async`/`await` is instrumental, so come back to this if you need to:"
   ]
  },
  {
   "cell_type": "markdown",
   "id": "625f3e2f",
   "metadata": {},
   "source": [
    "- \n",
    "The syntax `async def` introduces either a **native coroutine** or an **asynchronous generator**. The expressions `async with` and `async for` are also valid, and you’ll see them later on.\n",
    "\n",
    "\n",
    "\n",
    "- \n",
    "The keyword `await` passes function control back to the event loop. (It suspends the execution of the surrounding coroutine.) If Python encounters an `await f()` expression in the scope of `g()`, this is how `await` tells the event loop, “Suspend execution of `g()` until whatever I’m waiting on—the result of `f()`—is returned. In the meantime, go let something else run.”\n",
    "\n",
    "\n",
    "\n"
   ]
  },
  {
   "cell_type": "markdown",
   "id": "b66ad5b1",
   "metadata": {},
   "source": [
    "In code, that second bullet point looks roughly like this:"
   ]
  },
  {
   "cell_type": "code",
   "execution_count": null,
   "id": "0fba4ef1",
   "metadata": {},
   "outputs": [],
   "source": [
    "async def g():\n",
    "    # Pause here and come back to g() when f() is ready\n",
    "    r = await f()\n",
    "    return r"
   ]
  },
  {
   "cell_type": "markdown",
   "id": "0a9592c1",
   "metadata": {},
   "source": [
    "There’s also a strict set of rules around when and how you can and cannot use `async`/`await`. These can be handy whether you are still picking up the syntax or already have exposure to using `async`/`await`:"
   ]
  },
  {
   "cell_type": "markdown",
   "id": "7e955926",
   "metadata": {},
   "source": [
    "- \n",
    "A function that you introduce with `async def` is a coroutine. It may use `await`, `return`, or `yield`, but all of these are optional. Declaring `async def noop(): pass` is valid:\n",
    "\n",
    "\n",
    "* Using `await` and/or `return` creates a coroutine function. To call a coroutine function, you must `await` it to get its results.\n",
    "* It is less common (and only recently legal in Python) to use `yield` in an `async def` block. This creates an [asynchronous generator](https://www.python.org/dev/peps/pep-0525/), which you iterate over with `async for`. Forget about async generators for the time being and focus on getting down the syntax for coroutine functions, which use `await` and/or `return`.\n",
    "* Anything defined with `async def` may not use `yield from`, which will raise a [`SyntaxError`](https://realpython.com/invalid-syntax-python/).\n",
    "\n",
    "\n",
    "\n",
    "- \n",
    "Just like it’s a `SyntaxError` to use `yield` outside of a `def` function, it is a `SyntaxError` to use `await` outside of an `async def` coroutine. You can only use `await` in the body of coroutines.\n",
    "\n",
    "\n",
    "\n"
   ]
  },
  {
   "cell_type": "markdown",
   "id": "cc8a2eed",
   "metadata": {},
   "source": [
    "Here are some terse examples meant to summarize the above few rules:"
   ]
  },
  {
   "cell_type": "code",
   "execution_count": null,
   "id": "d5295bbc",
   "metadata": {},
   "outputs": [],
   "source": [
    "async def f(x):\n",
    "    y = await z(x)  # OK - `await` and `return` allowed in coroutines\n",
    "    return y\n",
    "\n",
    "async def g(x):\n",
    "    yield x  # OK - this is an async generator\n",
    "\n",
    "async def m(x):\n",
    "    yield from gen(x)  # No - SyntaxError\n",
    "\n",
    "def m(x):\n",
    "    y = await z(x)  # Still no - SyntaxError (no `async def` here)\n",
    "    return y"
   ]
  },
  {
   "cell_type": "markdown",
   "id": "ee3a41de",
   "metadata": {},
   "source": [
    "Finally, when you use `await f()`, it’s required that `f()` be an object that is [awaitable](https://docs.python.org/3/reference/datamodel.html#awaitable-objects). Well, that’s not very helpful, is it? For now, just know that an awaitable object is either (1) another coroutine or (2) an object defining an `.__await__()` dunder method that returns an iterator. If you’re writing a program, for the large majority of purposes, you should only need to worry about case #1."
   ]
  },
  {
   "cell_type": "markdown",
   "id": "8bbd26b9",
   "metadata": {},
   "source": [
    "That brings us to one more technical distinction that you may see pop up: an older way of marking a function as a coroutine is to decorate a normal `def` function with `@asyncio.coroutine`. The result is a **generator-based coroutine**. This construction has been outdated since the `async`/`await` syntax was put in place in Python 3.5."
   ]
  },
  {
   "cell_type": "markdown",
   "id": "916807da",
   "metadata": {},
   "source": [
    "These two coroutines are essentially equivalent (both are awaitable), but the first is **generator-based**, while the second is a **native coroutine**:"
   ]
  },
  {
   "cell_type": "code",
   "execution_count": null,
   "id": "6c938621",
   "metadata": {},
   "outputs": [],
   "source": [
    "import asyncio\n",
    "\n",
    "@asyncio.coroutine\n",
    "def py34_coro():\n",
    "    \"\"\"Generator-based coroutine, older syntax\"\"\"\n",
    "    yield from stuff()\n",
    "\n",
    "async def py35_coro():\n",
    "    \"\"\"Native coroutine, modern syntax\"\"\"\n",
    "    await stuff()"
   ]
  },
  {
   "cell_type": "markdown",
   "id": "a667ea30",
   "metadata": {},
   "source": [
    "If you’re writing any code yourself, prefer native coroutines for the sake of being explicit rather than implicit. Generator-based coroutines will be [removed](https://docs.python.org/3/library/asyncio-task.html#generator-based-coroutines) in Python 3.10."
   ]
  },
  {
   "cell_type": "markdown",
   "id": "c9d0f0b1",
   "metadata": {},
   "source": [
    "Towards the latter half of this tutorial, we’ll touch on generator-based coroutines for explanation’s sake only. The reason that `async`/`await` were introduced is to make coroutines a standalone feature of Python that can be easily differentiated from a normal generator function, thus reducing ambiguity."
   ]
  },
  {
   "cell_type": "markdown",
   "id": "86a7b3a7",
   "metadata": {},
   "source": [
    "Don’t get bogged down in generator-based coroutines, which have been [deliberately outdated](https://www.python.org/dev/peps/pep-0492/#rationale-and-goals) by `async`/`await`. They have their own small set of rules (for instance, `await` cannot be used in a generator-based coroutine) that are largely irrelevant if you stick to the `async`/`await` syntax."
   ]
  },
  {
   "cell_type": "markdown",
   "id": "caf795ad",
   "metadata": {},
   "source": [
    "Without further ado, let’s take on a few more involved examples."
   ]
  },
  {
   "cell_type": "markdown",
   "id": "34040161",
   "metadata": {},
   "source": [
    "Here’s one example of how async IO cuts down on wait time: given a coroutine `makerandom()` that keeps producing random integers in the range [0, 10], until one of them exceeds a threshold, you want to let multiple calls of this coroutine not need to wait for each other to complete in succession. You can largely follow the patterns from the two scripts above, with slight changes:"
   ]
  },
  {
   "cell_type": "code",
   "execution_count": 39,
   "id": "f4430825",
   "metadata": {},
   "outputs": [
    {
     "name": "stdout",
     "output_type": "stream",
     "text": [
      "\u001b[36mInitiated makerandom(0).\n",
      "\u001b[36mmakerandom(0) == 4 too low; retrying.\n",
      "\u001b[91mInitiated makerandom(1).\n",
      "\u001b[91mmakerandom(1) == 4 too low; retrying.\n",
      "\u001b[35mInitiated makerandom(2).\n",
      "\u001b[35mmakerandom(2) == 0 too low; retrying.\n",
      "\u001b[36mmakerandom(0) == 4 too low; retrying.\n",
      "\u001b[91mmakerandom(1) == 7 too low; retrying.\n",
      "\u001b[36mmakerandom(0) == 4 too low; retrying.\n",
      "\u001b[35mmakerandom(2) == 4 too low; retrying.\n",
      "\u001b[36mmakerandom(0) == 8 too low; retrying.\n",
      "\u001b[91m---> Finished: makerandom(1) == 10\u001b[0m\n",
      "\u001b[36mmakerandom(0) == 7 too low; retrying.\n",
      "\u001b[36mmakerandom(0) == 8 too low; retrying.\n",
      "\u001b[35mmakerandom(2) == 4 too low; retrying.\n",
      "\u001b[36mmakerandom(0) == 7 too low; retrying.\n",
      "\u001b[36mmakerandom(0) == 1 too low; retrying.\n",
      "\u001b[36mmakerandom(0) == 6 too low; retrying.\n",
      "\u001b[35m---> Finished: makerandom(2) == 9\u001b[0m\n",
      "\u001b[36mmakerandom(0) == 3 too low; retrying.\n",
      "\u001b[36mmakerandom(0) == 9 too low; retrying.\n",
      "\u001b[36mmakerandom(0) == 7 too low; retrying.\n",
      "\u001b[36m---> Finished: makerandom(0) == 10\u001b[0m\n",
      "\n",
      "r1: 10, r2: 10, r3: 9\n"
     ]
    }
   ],
   "source": [
    "#!/usr/bin/env python3\n",
    "# rand.py\n",
    "\n",
    "import asyncio\n",
    "import random\n",
    "\n",
    "# ANSI colors\n",
    "c = (\n",
    "    \"\\033[0m\",   # End of color\n",
    "    \"\\033[36m\",  # Cyan\n",
    "    \"\\033[91m\",  # Red\n",
    "    \"\\033[35m\",  # Magenta\n",
    ")\n",
    "\n",
    "async def makerandom(idx: int, threshold: int = 6) -> int:\n",
    "    print(c[idx + 1] + f\"Initiated makerandom({idx}).\")\n",
    "    i = random.randint(0, 10)\n",
    "    while i <= threshold:\n",
    "        print(c[idx + 1] + f\"makerandom({idx}) == {i} too low; retrying.\")\n",
    "        await asyncio.sleep(idx + 1)\n",
    "        i = random.randint(0, 10)\n",
    "    print(c[idx + 1] + f\"---> Finished: makerandom({idx}) == {i}\" + c[0])\n",
    "    return i\n",
    "\n",
    "async def main():\n",
    "    res = await asyncio.gather(*(makerandom(i, 10 - i - 1) for i in range(3)))\n",
    "    return res\n",
    "\n",
    "if __name__ == \"__main__\":\n",
    "    random.seed(444)\n",
    "    # r1, r2, r3 = asyncio.run(main()) # again not valid in jupyter notebook\n",
    "    r1, r2, r3 = await main()\n",
    "    print()\n",
    "    print(f\"r1: {r1}, r2: {r2}, r3: {r3}\")"
   ]
  },
  {
   "cell_type": "markdown",
   "id": "929ec61a",
   "metadata": {},
   "source": [
    "The colorized output says a lot more than I can and gives you a sense for how this script is carried out:"
   ]
  },
  {
   "cell_type": "markdown",
   "id": "5ce0fa6a",
   "metadata": {},
   "source": [
    "<img src=\"images/async-io-in-python:-a-complete-walkthrough/asyncio-rand.dffdd83b4256.gif\" width=\"600px\">"
   ]
  },
  {
   "cell_type": "markdown",
   "id": "d110c67e",
   "metadata": {},
   "source": [
    "This program uses one main coroutine, `makerandom()`, and runs it concurrently across 3 different inputs. Most programs will contain small, modular coroutines and one wrapper function that serves to chain each of the smaller coroutines together. [`main()`](https://realpython.com/python-main-function/) is then used to gather tasks (futures) by mapping the central coroutine across some iterable or pool."
   ]
  },
  {
   "cell_type": "markdown",
   "id": "dba49668",
   "metadata": {},
   "source": [
    "In this miniature example, the pool is `range(3)`. In a fuller example presented later, it is a set of URLs that need to be requested, parsed, and processed concurrently, and `main()` encapsulates that entire routine for each URL."
   ]
  },
  {
   "cell_type": "markdown",
   "id": "5d0e1185",
   "metadata": {},
   "source": [
    "While “making random integers” (which is CPU-bound more than anything) is maybe not the greatest choice as a candidate for `asyncio`, it’s the presence of `asyncio.sleep()` in the example that is designed to mimic an IO-bound process where there is uncertain wait time involved. For example, the `asyncio.sleep()` call might represent sending and receiving not-so-random integers between two clients in a message application."
   ]
  },
  {
   "cell_type": "markdown",
   "id": "267294cb-2cc3-4ed7-8da1-62f9c9ce80f8",
   "metadata": {},
   "source": [
    "> Better Colorized Print Example Code\n",
    "> ```python\n",
    "from colorama import Fore\n",
    "import asyncio\n",
    "import time\n",
    "import random\n",
    ">\n",
    "> async def print_random():    \n",
    "    for _ in range(5):\n",
    "        color = random.choice([\n",
    "            Fore.YELLOW, Fore.BLUE,\n",
    "            Fore.GREEN, Fore.RED\n",
    "        ])\n",
    "        print(color + f'This is a text in color!')\n",
    "        await asyncio.sleep(1)\n",
    ">       \n",
    "async def main():\n",
    "    await asyncio.gather(print_random(), print_random(), print_random())\n",
    ">   \n",
    "await main() # in jupyter notebook or asyncio.run(main()) in script\n",
    "```"
   ]
  },
  {
   "cell_type": "markdown",
   "id": "cb398381",
   "metadata": {},
   "source": [
    "<a class=\"anchor\" id=\"async_io_design_patterns\"></a>\n",
    "\n",
    "## Async IO Design Patterns"
   ]
  },
  {
   "cell_type": "markdown",
   "id": "14825272",
   "metadata": {},
   "source": [
    "Async IO comes with its own set of possible script designs, which you’ll get introduced to in this section."
   ]
  },
  {
   "cell_type": "markdown",
   "id": "686fc1d6",
   "metadata": {},
   "source": [
    "<a class=\"anchor\" id=\"chaining_coroutines\"></a>\n",
    "\n",
    "### Chaining Coroutines"
   ]
  },
  {
   "cell_type": "markdown",
   "id": "963ed04e",
   "metadata": {},
   "source": [
    "A key feature of coroutines is that they can be chained together. (Remember, a coroutine object is awaitable, so another coroutine can `await` it.) This allows you to break programs into smaller, manageable, recyclable coroutines:"
   ]
  },
  {
   "cell_type": "code",
   "execution_count": null,
   "id": "dfcfe0e9",
   "metadata": {},
   "outputs": [],
   "source": [
    "#!/usr/bin/env python3\n",
    "# chained.py\n",
    "\n",
    "import asyncio\n",
    "import random\n",
    "import time\n",
    "\n",
    "async def part1(n: int) -> str:\n",
    "    i = random.randint(0, 10)\n",
    "    print(f\"Part 1 ({n}) sleeping for {i} seconds.\")\n",
    "    await asyncio.sleep(i)\n",
    "    result = f\"result{n}-1\"\n",
    "    print(f\"Returning part1({n}) == {result}.\")\n",
    "    return result\n",
    "\n",
    "async def part2(n: int, arg: str) -> str:\n",
    "    i = random.randint(0, 10)\n",
    "    print(f\"part 2 {n, arg} sleeping for {i} seconds.\")\n",
    "    await asyncio.sleep(i)\n",
    "    result = f\"result{n}-2 derived from {arg}\"\n",
    "    print(f\"Returning part2{n, arg} == {result}.\")\n",
    "    return result\n",
    "\n",
    "async def chain(n: int) -> None:\n",
    "    start = time.perf_counter()\n",
    "    p1 = await part1(n)\n",
    "    p2 = await part2(n, p1)\n",
    "    end = time.perf_counter() - start\n",
    "    print(f\"--> Chained result {n} => {p2} (took {end:0.2f} seconds).\")\n",
    "\n",
    "async def main(*args):\n",
    "    await asyncio.gather(*(chain(n) for n in args))\n",
    "\n",
    "if __name__ == \"__main__\":\n",
    "    import sys\n",
    "    random.seed(444)\n",
    "    args = [1, 2, 3] if len(sys.argv) == 1 else map(int, sys.argv[1:])\n",
    "    start = time.perf_counter()\n",
    "    asyncio.run(main(*args))\n",
    "    end = time.perf_counter() - start\n",
    "    print(f\"Program finished in {end:0.2f} seconds.\")"
   ]
  },
  {
   "cell_type": "markdown",
   "id": "339a5e9c",
   "metadata": {},
   "source": [
    "Pay careful attention to the output, where `part1()` sleeps for a variable amount of time, and `part2()` begins working with the results as they become available:"
   ]
  },
  {
   "cell_type": "markdown",
   "id": "827c16da",
   "metadata": {},
   "source": [
    "```sh\n",
    "$ python3 chained.py 9 6 3\n",
    "part1(9) sleeping for 4 seconds.\n",
    "part1(6) sleeping for 4 seconds.\n",
    "part1(3) sleeping for 0 seconds.\n",
    "Returning part1(3) == result3-1.\n",
    "part2(3, 'result3-1') sleeping for 4 seconds.\n",
    "Returning part1(9) == result9-1.\n",
    "part2(9, 'result9-1') sleeping for 7 seconds.\n",
    "Returning part1(6) == result6-1.\n",
    "part2(6, 'result6-1') sleeping for 4 seconds.\n",
    "Returning part2(3, 'result3-1') == result3-2 derived from result3-1.\n",
    "-->Chained result3 => result3-2 derived from result3-1 (took 4.00 seconds).\n",
    "Returning part2(6, 'result6-1') == result6-2 derived from result6-1.\n",
    "-->Chained result6 => result6-2 derived from result6-1 (took 8.01 seconds).\n",
    "Returning part2(9, 'result9-1') == result9-2 derived from result9-1.\n",
    "-->Chained result9 => result9-2 derived from result9-1 (took 11.01 seconds).\n",
    "Program finished in 11.01 seconds.\n",
    "```"
   ]
  },
  {
   "cell_type": "markdown",
   "id": "48c80dd2",
   "metadata": {},
   "source": [
    "In this setup, the runtime of `main()` will be equal to the maximum runtime of the tasks that it gathers together and schedules."
   ]
  },
  {
   "cell_type": "markdown",
   "id": "8aa8b176",
   "metadata": {},
   "source": [
    "<a class=\"anchor\" id=\"using_a_queue\"></a>\n",
    "\n",
    "### Using a Queue"
   ]
  },
  {
   "cell_type": "markdown",
   "id": "2e898003",
   "metadata": {},
   "source": [
    "The `asyncio` package provides [queue classes](https://docs.python.org/3/library/asyncio-queue.html) that are designed to be similar to classes of the [`queue`](https://docs.python.org/3/library/queue.html#module-queue) module. In our examples so far, we haven’t really had a need for a queue structure. In `chained.py`, each task (future) is composed of a set of coroutines that explicitly await each other and pass through a single input per chain."
   ]
  },
  {
   "cell_type": "markdown",
   "id": "c3691bad",
   "metadata": {},
   "source": [
    "There is an alternative structure that can also work with async IO: a number of producers, which are not associated with each other, add items to a queue. Each producer may add multiple items to the queue at staggered, random, unannounced times. A group of consumers pull items from the queue as they show up, greedily and without waiting for any other signal."
   ]
  },
  {
   "cell_type": "markdown",
   "id": "a841d21f",
   "metadata": {},
   "source": [
    "In this design, there is no chaining of any individual consumer to a producer. The consumers don’t know the number of producers, or even the cumulative number of items that will be added to the queue, in advance."
   ]
  },
  {
   "cell_type": "markdown",
   "id": "557e246f",
   "metadata": {},
   "source": [
    "It takes an individual producer or consumer a variable amount of time to put and extract items from the queue, respectively. The queue serves as a throughput that can communicate with the producers and consumers without them talking to each other directly."
   ]
  },
  {
   "cell_type": "markdown",
   "id": "2746cd2a",
   "metadata": {},
   "source": [
    "The synchronous version of this program would look pretty dismal: a group of blocking producers serially add items to the queue, one producer at a time. Only after all producers are done can the queue be processed, by one consumer at a time processing item-by-item. There is a ton of latency in this design. Items may sit idly in the queue rather than be picked up and processed immediately."
   ]
  },
  {
   "cell_type": "markdown",
   "id": "fdfbfe2c",
   "metadata": {},
   "source": [
    "An asynchronous version, `asyncq.py`, is below. The challenging part of this workflow is that there needs to be a signal to the consumers that production is done. Otherwise, `await q.get()` will hang indefinitely, because the queue will have been fully processed, but consumers won’t have any idea that production is complete."
   ]
  },
  {
   "cell_type": "markdown",
   "id": "6a2c03b8",
   "metadata": {},
   "source": [
    "(Big thanks for some help from a StackOverflow [user](https://stackoverflow.com/a/52615705/7954504) for helping to straighten out `main()`: the key is to `await q.join()`, which blocks until all items in the queue have been received and processed, and then to cancel the consumer tasks, which would otherwise hang up and wait endlessly for additional queue items to appear.)"
   ]
  },
  {
   "cell_type": "markdown",
   "id": "dee87f6f",
   "metadata": {},
   "source": [
    "Here is the full script:"
   ]
  },
  {
   "cell_type": "code",
   "execution_count": 40,
   "id": "8db2f821",
   "metadata": {},
   "outputs": [
    {
     "name": "stdout",
     "output_type": "stream",
     "text": [
      "Producer 1 sleeping for 0 seconds.\n",
      "Producer 2 sleeping for 9 seconds.\n",
      "Consumer 0 sleeping for 0 seconds.\n",
      "Consumer 1 sleeping for 5 seconds.\n",
      "Consumer 2 sleeping for 10 seconds.\n",
      "Producer 1 added <b8946c8345> to queue.\n",
      "Consumer 0 got element <b8946c8345> in 0.00005 seconds.\n",
      "Consumer 0 sleeping for 5 seconds.\n",
      "Producer 2 added <20cb16cfac> to queue.\n",
      "Consumer 1 got element <20cb16cfac> in 0.00030 seconds.\n",
      "Consumer 1 sleeping for 8 seconds.\n",
      "Program completed in 9.00136 seconds.\n"
     ]
    }
   ],
   "source": [
    "#!/usr/bin/env python3\n",
    "# asyncq.py\n",
    "\n",
    "import asyncio\n",
    "import itertools as it\n",
    "import os\n",
    "import random\n",
    "import time\n",
    "\n",
    "async def makeitem(size: int = 5) -> str:\n",
    "    return os.urandom(size).hex()\n",
    "\n",
    "async def randsleep(caller=None) -> None:\n",
    "    i = random.randint(0, 10)\n",
    "    if caller:\n",
    "        print(f\"{caller} sleeping for {i} seconds.\")\n",
    "    await asyncio.sleep(i)\n",
    "\n",
    "async def produce(name: int, q: asyncio.Queue) -> None:\n",
    "    n = random.randint(0, 10)\n",
    "    for _ in it.repeat(None, n):  # Synchronous loop for each single producer\n",
    "        await randsleep(caller=f\"Producer {name}\")\n",
    "        i = await makeitem()\n",
    "        t = time.perf_counter()\n",
    "        await q.put((i, t))\n",
    "        print(f\"Producer {name} added <{i}> to queue.\")\n",
    "\n",
    "async def consume(name: int, q: asyncio.Queue) -> None:\n",
    "    while True:\n",
    "        await randsleep(caller=f\"Consumer {name}\")\n",
    "        i, t = await q.get()\n",
    "        now = time.perf_counter()\n",
    "        print(f\"Consumer {name} got element <{i}>\"\n",
    "              f\" in {now-t:0.5f} seconds.\")\n",
    "        q.task_done()\n",
    "\n",
    "async def main(nprod: int, ncon: int):\n",
    "    q = asyncio.Queue()\n",
    "    producers = [asyncio.create_task(produce(n, q)) for n in range(nprod)]\n",
    "    consumers = [asyncio.create_task(consume(n, q)) for n in range(ncon)]\n",
    "    await asyncio.gather(*producers)\n",
    "    await q.join()  # Implicitly awaits consumers, too\n",
    "    for c in consumers:\n",
    "        c.cancel()\n",
    "\n",
    "if __name__ == \"__main__\":\n",
    "    # import argparse\n",
    "    # random.seed(444)\n",
    "    # parser = argparse.ArgumentParser()\n",
    "    # parser.add_argument(\"-p\", \"--nprod\", type=int, default=5)\n",
    "    # parser.add_argument(\"-c\", \"--ncon\", type=int, default=10)\n",
    "    # ns = parser.parse_args()\n",
    "    start = time.perf_counter()\n",
    "    # asyncio.run(main(**ns.__dict__))\n",
    "    await main(nprod=3, ncon=3)\n",
    "    elapsed = time.perf_counter() - start\n",
    "    print(f\"Program completed in {elapsed:0.5f} seconds.\")"
   ]
  },
  {
   "cell_type": "markdown",
   "id": "6f04691f",
   "metadata": {},
   "source": [
    "The first few coroutines are helper functions that return a random string, a fractional-second performance counter, and a random integer. A producer puts anywhere from 1 to 5 items into the queue. Each item is a tuple of `(i, t)` where `i` is a random string and `t` is the time at which the producer attempts to put the tuple into the queue."
   ]
  },
  {
   "cell_type": "markdown",
   "id": "6dd7d530",
   "metadata": {},
   "source": [
    "When a consumer pulls an item out, it simply calculates the elapsed time that the item sat in the queue using the timestamp that the item was put in with."
   ]
  },
  {
   "cell_type": "markdown",
   "id": "d0056d3c",
   "metadata": {},
   "source": [
    "Keep in mind that `asyncio.sleep()` is used to mimic some other, more complex coroutine that would eat up time and block all other execution if it were a regular blocking function."
   ]
  },
  {
   "cell_type": "markdown",
   "id": "3bb9fca8",
   "metadata": {},
   "source": [
    "Here is a test run with two producers and five consumers:"
   ]
  },
  {
   "cell_type": "markdown",
   "id": "606f98a1",
   "metadata": {},
   "source": [
    "```sh\n",
    "$ python3 asyncq.py -p 2 -c 5\n",
    "Producer 0 sleeping for 3 seconds.\n",
    "Producer 1 sleeping for 3 seconds.\n",
    "Consumer 0 sleeping for 4 seconds.\n",
    "Consumer 1 sleeping for 3 seconds.\n",
    "Consumer 2 sleeping for 3 seconds.\n",
    "Consumer 3 sleeping for 5 seconds.\n",
    "Consumer 4 sleeping for 4 seconds.\n",
    "Producer 0 added <377b1e8f82> to queue.\n",
    "Producer 0 sleeping for 5 seconds.\n",
    "Producer 1 added <413b8802f8> to queue.\n",
    "Consumer 1 got element <377b1e8f82> in 0.00013 seconds.\n",
    "Consumer 1 sleeping for 3 seconds.\n",
    "Consumer 2 got element <413b8802f8> in 0.00009 seconds.\n",
    "Consumer 2 sleeping for 4 seconds.\n",
    "Producer 0 added <06c055b3ab> to queue.\n",
    "Producer 0 sleeping for 1 seconds.\n",
    "Consumer 0 got element <06c055b3ab> in 0.00021 seconds.\n",
    "Consumer 0 sleeping for 4 seconds.\n",
    "Producer 0 added <17a8613276> to queue.\n",
    "Consumer 4 got element <17a8613276> in 0.00022 seconds.\n",
    "Consumer 4 sleeping for 5 seconds.\n",
    "Program completed in 9.00954 seconds.\n",
    "```"
   ]
  },
  {
   "cell_type": "markdown",
   "id": "569a550e",
   "metadata": {},
   "source": [
    "In this case, the items process in fractions of a second. A delay can be due to two reasons:"
   ]
  },
  {
   "cell_type": "markdown",
   "id": "b87d0155",
   "metadata": {},
   "source": [
    "- Standard, largely unavoidable overhead\n",
    "- Situations where all consumers are sleeping when an item appears in the queue\n"
   ]
  },
  {
   "cell_type": "markdown",
   "id": "5015e7a6",
   "metadata": {},
   "source": [
    "With regards to the second reason, luckily, it is perfectly normal to scale to hundreds or thousands of consumers. You should have no problem with `python3 asyncq.py -p 5 -c 100`. The point here is that, theoretically, you could have different users on different systems controlling the management of producers and consumers, with the queue serving as the central throughput."
   ]
  },
  {
   "cell_type": "markdown",
   "id": "d3c114b4",
   "metadata": {},
   "source": [
    "So far, you’ve been thrown right into the fire and seen three related examples of `asyncio` calling coroutines defined with `async` and `await`. If you’re not completely following or just want to get deeper into the mechanics of how modern coroutines came to be in Python, you’ll start from square one with the next section."
   ]
  },
  {
   "cell_type": "markdown",
   "id": "9fcbfb55",
   "metadata": {},
   "source": [
    "<a class=\"anchor\" id=\"async_io’s_roots_in_generators\"></a>\n",
    "\n",
    "## Async IO’s Roots in Generators"
   ]
  },
  {
   "cell_type": "markdown",
   "id": "efea8264",
   "metadata": {},
   "source": [
    "Earlier, you saw an example of the old-style generator-based coroutines, which have been outdated by more explicit native coroutines. The example is worth re-showing with a small tweak:"
   ]
  },
  {
   "cell_type": "code",
   "execution_count": null,
   "id": "457b6206",
   "metadata": {},
   "outputs": [],
   "source": [
    "import asyncio\n",
    "\n",
    "@asyncio.coroutine\n",
    "def py34_coro():\n",
    "    \"\"\"Generator-based coroutine\"\"\"\n",
    "    # No need to build these yourself, but be aware of what they are\n",
    "    s = yield from stuff()\n",
    "    return s\n",
    "\n",
    "async def py35_coro():\n",
    "    \"\"\"Native coroutine, modern syntax\"\"\"\n",
    "    s = await stuff()\n",
    "    return s\n",
    "\n",
    "async def stuff():\n",
    "    return 0x10, 0x20, 0x30"
   ]
  },
  {
   "cell_type": "markdown",
   "id": "7044a477",
   "metadata": {},
   "source": [
    "As an experiment, what happens if you call `py34_coro()` or `py35_coro()` on its own, without `await`, or without any calls to `asyncio.run()` or other `asyncio` “porcelain” functions? Calling a coroutine in isolation returns a coroutine object:"
   ]
  },
  {
   "cell_type": "code",
   "execution_count": null,
   "id": "9c80dc0a",
   "metadata": {},
   "outputs": [],
   "source": [
    ">>> py35_coro()\n",
    "<coroutine object py35_coro at 0x10126dcc8>"
   ]
  },
  {
   "cell_type": "markdown",
   "id": "610e56d7",
   "metadata": {},
   "source": [
    "This isn’t very interesting on its surface. The result of calling a coroutine on its own is an awaitable **coroutine object**."
   ]
  },
  {
   "cell_type": "markdown",
   "id": "99ff407d",
   "metadata": {},
   "source": [
    "Time for a quiz: what other feature of Python looks like this? (What feature of Python doesn’t actually “do much” when it’s called on its own?)"
   ]
  },
  {
   "cell_type": "markdown",
   "id": "12e45b62",
   "metadata": {},
   "source": [
    "Hopefully you’re thinking of **generators** as an answer to this question, because coroutines are enhanced generators under the hood. The behavior is similar in this regard:"
   ]
  },
  {
   "cell_type": "code",
   "execution_count": null,
   "id": "66291fea",
   "metadata": {},
   "outputs": [],
   "source": [
    ">>> def gen():\n",
    "...     yield 0x10, 0x20, 0x30\n",
    "...\n",
    ">>> g = gen()\n",
    ">>> g  # Nothing much happens - need to iterate with `.__next__()`\n",
    "<generator object gen at 0x1012705e8>\n",
    ">>> next(g)\n",
    "(16, 32, 48)"
   ]
  },
  {
   "cell_type": "markdown",
   "id": "24dd12cd",
   "metadata": {},
   "source": [
    "Generator functions are, as it so happens, the foundation of async IO (regardless of whether you declare coroutines with `async def` rather than the older `@asyncio.coroutine` wrapper). Technically, `await` is more closely analogous to `yield from` than it is to `yield`. (But remember that `yield from x()` is just syntactic sugar to replace `for i in x(): yield i`.)"
   ]
  },
  {
   "cell_type": "markdown",
   "id": "a1ce49c7",
   "metadata": {},
   "source": [
    "One critical feature of generators as it pertains to async IO is that they can effectively be stopped and restarted at will. For example, you can `break` out of iterating over a generator object and then resume iteration on the remaining values later. When a [generator function reaches `yield`](https://realpython.com/introduction-to-python-generators/), it yields that value, but then it sits idle until it is told to yield its subsequent value."
   ]
  },
  {
   "cell_type": "markdown",
   "id": "f8906a52",
   "metadata": {},
   "source": [
    "This can be fleshed out through an example:"
   ]
  },
  {
   "cell_type": "code",
   "execution_count": null,
   "id": "39cb8956",
   "metadata": {},
   "outputs": [],
   "source": [
    ">>> from itertools import cycle\n",
    ">>> def endless():\n",
    "...     \"\"\"Yields 9, 8, 7, 6, 9, 8, 7, 6, ... forever\"\"\"\n",
    "...     yield from cycle((9, 8, 7, 6))\n",
    "\n",
    ">>> e = endless()\n",
    ">>> total = 0\n",
    ">>> for i in e:\n",
    "...     if total < 30:\n",
    "...         print(i, end=\" \")\n",
    "...         total += i\n",
    "...     else:\n",
    "...         print()\n",
    "...         # Pause execution. We can resume later.\n",
    "...         break\n",
    "9 8 7 6 9 8 7 6 9 8 7 6 9 8\n",
    "\n",
    ">>> # Resume\n",
    ">>> next(e), next(e), next(e)\n",
    "(6, 9, 8)"
   ]
  },
  {
   "cell_type": "markdown",
   "id": "449f6f93",
   "metadata": {},
   "source": [
    "The `await` keyword behaves similarly, marking a break point at which the coroutine suspends itself and lets other coroutines work. “Suspended,” in this case, means a coroutine that has temporarily ceded control but not totally exited or finished. Keep in mind that `yield`, and by extension `yield from` and `await`, mark a break point in a generator’s execution."
   ]
  },
  {
   "cell_type": "markdown",
   "id": "59c08920",
   "metadata": {},
   "source": [
    "This is the fundamental difference between functions and generators. A function is all-or-nothing. Once it starts, it won’t stop until it hits a `return`, then pushes that value to the caller (the function that calls it). A generator, on the other hand, pauses each time it hits a `yield` and goes no further. Not only can it push this value to calling stack, but it can keep a hold of its local variables when you resume it by calling `next()` on it."
   ]
  },
  {
   "cell_type": "markdown",
   "id": "b362b235",
   "metadata": {},
   "source": [
    "There’s a second and lesser-known feature of generators that also matters. You can send a value into a generator as well through its `.send()` method. This allows generators (and coroutines) to call (`await`) each other without blocking. I won’t get any further into the nuts and bolts of this feature, because it matters mainly for the implementation of coroutines behind the scenes, but you shouldn’t ever really need to use it directly yourself."
   ]
  },
  {
   "cell_type": "markdown",
   "id": "7154899d",
   "metadata": {},
   "source": [
    "If you’re interested in exploring more, you can start at [PEP 342](https://www.python.org/dev/peps/pep-0342/), where coroutines were formally introduced. Brett Cannon’s [How the Heck Does Async-Await Work in Python](https://snarky.ca/how-the-heck-does-async-await-work-in-python-3-5/) is also a good read, as is the [PYMOTW writeup on `asyncio`](https://pymotw.com/3/asyncio/coroutines.html). Lastly, there’s David Beazley’s [Curious Course on Coroutines and Concurrency](http://www.dabeaz.com/coroutines/), which dives deep into the mechanism by which coroutines run."
   ]
  },
  {
   "cell_type": "markdown",
   "id": "1142d011",
   "metadata": {},
   "source": [
    "Let’s try to condense all of the above articles into a few sentences: there is a particularly unconventional mechanism by which these coroutines actually get run. Their result is an attribute of the exception object that gets thrown when their `.send()` method is called. There’s some more wonky detail to all of this, but it probably won’t help you use this part of the language in practice, so let’s move on for now."
   ]
  },
  {
   "cell_type": "markdown",
   "id": "50493e56",
   "metadata": {},
   "source": [
    "To tie things together, here are some key points on the topic of coroutines as generators:"
   ]
  },
  {
   "cell_type": "markdown",
   "id": "eb87a3ce",
   "metadata": {},
   "source": [
    "- \n",
    "Coroutines are [repurposed generators](https://www.python.org/dev/peps/pep-0492/#differences-from-generators) that take advantage of the peculiarities of generator methods.\n",
    "\n",
    "\n",
    "\n",
    "- \n",
    "Old generator-based coroutines use `yield from` to wait for a coroutine result. Modern Python syntax in native coroutines simply replaces `yield from` with `await` as the means of waiting on a coroutine result. The `await` is analogous to `yield from`, and it often helps to think of it as such.\n",
    "\n",
    "\n",
    "\n",
    "- \n",
    "The use of `await` is a signal that marks a break point. It lets a coroutine temporarily suspend execution and permits the program to come back to it later.\n",
    "\n",
    "\n",
    "\n"
   ]
  },
  {
   "cell_type": "markdown",
   "id": "7b61922d",
   "metadata": {},
   "source": [
    "<a class=\"anchor\" id=\"other_features:_`async_for`_and_async_generators_+_comprehensions\"></a>\n",
    "\n",
    "### Other Features: `async for` and Async Generators + Comprehensions"
   ]
  },
  {
   "cell_type": "markdown",
   "id": "6e191d81",
   "metadata": {},
   "source": [
    "Along with plain `async`/`await`, Python also enables `async for` to iterate over an **asynchronous iterator**. The purpose of an asynchronous iterator is for it to be able to call asynchronous code at each stage when it is iterated over."
   ]
  },
  {
   "cell_type": "markdown",
   "id": "1c0d1512",
   "metadata": {},
   "source": [
    "A natural extension of this concept is an **asynchronous generator**. Recall that you can use `await`, `return`, or `yield` in a native coroutine. Using `yield` within a coroutine became possible in Python 3.6 (via PEP 525), which introduced asynchronous generators with the purpose of allowing `await` and `yield` to be used in the same coroutine function body:"
   ]
  },
  {
   "cell_type": "code",
   "execution_count": 31,
   "id": "f262a0e0",
   "metadata": {},
   "outputs": [],
   "source": [
    "async def mygen(u: int = 10):\n",
    "    \"\"\"Yield powers of 2.\"\"\"\n",
    "    i = 0\n",
    "    while i < u:\n",
    "        yield 2 ** i\n",
    "        i += 1\n",
    "        await asyncio.sleep(0.1)"
   ]
  },
  {
   "cell_type": "markdown",
   "id": "697c5cab",
   "metadata": {},
   "source": [
    "Last but not least, Python enables **asynchronous comprehension** with `async for`. Like its synchronous cousin, this is largely syntactic sugar:"
   ]
  },
  {
   "cell_type": "code",
   "execution_count": 32,
   "id": "4487d518-b969-403a-9076-9db35c0c7ba7",
   "metadata": {},
   "outputs": [],
   "source": [
    "async def main():\n",
    "    # This does *not* introduce concurrent execution\n",
    "    # It is meant to show syntax only\n",
    "    g = [i async for i in mygen()]\n",
    "    f = [j async for j in mygen() if not (j // 3 % 5)]\n",
    "    return g, f"
   ]
  },
  {
   "cell_type": "code",
   "execution_count": 33,
   "id": "8e0ab290-932c-4bf5-ab58-fe59a48bb6ca",
   "metadata": {},
   "outputs": [
    {
     "data": {
      "text/plain": [
       "2.017199191000145"
      ]
     },
     "execution_count": 33,
     "metadata": {},
     "output_type": "execute_result"
    }
   ],
   "source": [
    "# g, f = asyncio.run(main())\n",
    "t1 = time.perf_counter()\n",
    "g, f = await main()\n",
    "t2 = time.perf_counter()\n",
    "\n",
    "t2 - t1"
   ]
  },
  {
   "cell_type": "code",
   "execution_count": 19,
   "id": "488f2cd6-5c07-4695-ab0f-fd23fb2d1e06",
   "metadata": {},
   "outputs": [
    {
     "data": {
      "text/plain": [
       "[1, 2, 4, 8, 16, 32, 64, 128, 256, 512]"
      ]
     },
     "execution_count": 19,
     "metadata": {},
     "output_type": "execute_result"
    }
   ],
   "source": [
    "g"
   ]
  },
  {
   "cell_type": "code",
   "execution_count": 20,
   "id": "52f16c14-cef8-4565-8016-c41c50c2fd45",
   "metadata": {},
   "outputs": [
    {
     "data": {
      "text/plain": [
       "[1, 2, 16, 32, 256, 512]"
      ]
     },
     "execution_count": 20,
     "metadata": {},
     "output_type": "execute_result"
    }
   ],
   "source": [
    "f"
   ]
  },
  {
   "cell_type": "markdown",
   "id": "fd27736d",
   "metadata": {},
   "source": [
    "This is a crucial distinction: **neither asynchronous generators nor comprehensions make the iteration concurrent**. All that they do is provide the look-and-feel of their synchronous counterparts, but with the ability for the loop in question to give up control to the event loop for some other coroutine to run."
   ]
  },
  {
   "cell_type": "markdown",
   "id": "a0a81b9c",
   "metadata": {},
   "source": [
    "In other words, asynchronous iterators and asynchronous generators are not designed to concurrently map some function over a sequence or iterator. They’re merely designed to let the enclosing coroutine allow other tasks to take their turn. The `async for` and `async with` statements are only needed to the extent that using plain `for` or `with` would “break” the nature of `await` in the coroutine. This distinction between asynchronicity and concurrency is a key one to grasp."
   ]
  },
  {
   "cell_type": "markdown",
   "id": "a08c6e14",
   "metadata": {},
   "source": [
    "<a class=\"anchor\" id=\"the_event_loop_and_`asyncio.run()`\"></a>\n",
    "\n",
    "### The Event Loop and `asyncio.run()`"
   ]
  },
  {
   "cell_type": "markdown",
   "id": "64bfab12",
   "metadata": {},
   "source": [
    "You can think of an event loop as something like a `while True` loop that monitors coroutines, taking feedback on what’s idle, and looking around for things that can be executed in the meantime. It is able to wake up an idle coroutine when whatever that coroutine is waiting on becomes available."
   ]
  },
  {
   "cell_type": "markdown",
   "id": "09833153",
   "metadata": {},
   "source": [
    "Thus far, the entire management of the event loop has been implicitly handled by one function call:"
   ]
  },
  {
   "cell_type": "code",
   "execution_count": null,
   "id": "bde6cb7e",
   "metadata": {},
   "outputs": [],
   "source": [
    "asyncio.run(main())  # Python 3.7+"
   ]
  },
  {
   "cell_type": "markdown",
   "id": "61dd14d5",
   "metadata": {},
   "source": [
    "[`asyncio.run()`](https://github.com/python/cpython/blob/d4c76d960b8b286b75c933780416ace9cda682fd/Lib/asyncio/runners.py#L8), introduced in Python 3.7, is responsible for getting the event loop, running tasks until they are marked as complete, and then closing the event loop."
   ]
  },
  {
   "cell_type": "markdown",
   "id": "d93258da",
   "metadata": {},
   "source": [
    "There’s a more long-winded way of managing the `asyncio` event loop, with `get_event_loop()`. The typical pattern looks like this:"
   ]
  },
  {
   "cell_type": "code",
   "execution_count": null,
   "id": "ce43b177",
   "metadata": {},
   "outputs": [],
   "source": [
    "loop = asyncio.get_event_loop()\n",
    "try:\n",
    "    loop.run_until_complete(main())\n",
    "finally:\n",
    "    loop.close()"
   ]
  },
  {
   "cell_type": "markdown",
   "id": "1f149deb",
   "metadata": {},
   "source": [
    "You’ll probably see `loop.get_event_loop()` floating around in older examples, but unless you have a specific need to fine-tune control over the event loop management, `asyncio.run()` should be sufficient for most programs."
   ]
  },
  {
   "cell_type": "markdown",
   "id": "0bf6c846",
   "metadata": {},
   "source": [
    "If you do need to interact with the event loop within a Python program, `loop` is a good-old-fashioned Python object that supports introspection with `loop.is_running()` and `loop.is_closed()`. You can manipulate it if you need to get more fine-tuned control, such as in [scheduling a callback](https://docs.python.org/3/library/asyncio-eventloop.html#asyncio-example-lowlevel-helloworld) by passing the loop as an argument."
   ]
  },
  {
   "cell_type": "markdown",
   "id": "2c0ade06",
   "metadata": {},
   "source": [
    "What is more crucial is understanding a bit beneath the surface about the mechanics of the event loop. Here are a few points worth stressing about the event loop."
   ]
  },
  {
   "cell_type": "markdown",
   "id": "f55601ab",
   "metadata": {},
   "source": [
    "**#1:** Coroutines don’t do much on their own until they are tied to the event loop."
   ]
  },
  {
   "cell_type": "markdown",
   "id": "1c8c31ae",
   "metadata": {},
   "source": [
    "You saw this point before in the explanation on generators, but it’s worth restating. If you have a main coroutine that awaits others, simply calling it in isolation has little effect:"
   ]
  },
  {
   "cell_type": "code",
   "execution_count": 34,
   "id": "a2da2251-c29a-4015-9f05-87e5ad03abae",
   "metadata": {},
   "outputs": [],
   "source": [
    "import asyncio\n",
    "\n",
    "async def main():\n",
    "    print(\"Hello ...\")\n",
    "    await asyncio.sleep(1)\n",
    "    print(\"World!\")"
   ]
  },
  {
   "cell_type": "code",
   "execution_count": 35,
   "id": "66277ae6-6234-4ced-9712-e28f783af99a",
   "metadata": {},
   "outputs": [
    {
     "data": {
      "text/plain": [
       "<coroutine object main at 0x7f8a60225050>"
      ]
     },
     "execution_count": 35,
     "metadata": {},
     "output_type": "execute_result"
    }
   ],
   "source": [
    "routine = main()\n",
    "routine"
   ]
  },
  {
   "cell_type": "markdown",
   "id": "e805dfab",
   "metadata": {},
   "source": [
    "Remember to use `asyncio.run()` to actually force execution by scheduling the `main()` coroutine (future object) for execution on the event loop:"
   ]
  },
  {
   "cell_type": "code",
   "execution_count": 37,
   "id": "47739727",
   "metadata": {},
   "outputs": [
    {
     "name": "stdout",
     "output_type": "stream",
     "text": [
      "Hello ...\n",
      "World!\n"
     ]
    }
   ],
   "source": [
    "# asyncio.run(routine)\n",
    "await routine\n",
    "\n",
    "# Again, in notebook you have to run await, but in a normal script,\n",
    "# you must use asyncio.run(routine)"
   ]
  },
  {
   "cell_type": "markdown",
   "id": "7ffdab2b",
   "metadata": {},
   "source": [
    "(Other coroutines can be executed with `await`. It is typical to wrap just `main()` in `asyncio.run()`, and chained coroutines with `await` will be called from there.)"
   ]
  },
  {
   "cell_type": "markdown",
   "id": "706ccb95",
   "metadata": {},
   "source": [
    "**#2:** By default, an async IO event loop runs in a single thread and on a single CPU core. Usually, running one single-threaded event loop in one CPU core is more than sufficient. It is also possible to run event loops across multiple cores. Check out this [talk by John Reese](https://youtu.be/0kXaLh8Fz3k?t=10m30s) for more, and be warned that your laptop may spontaneously combust."
   ]
  },
  {
   "cell_type": "markdown",
   "id": "af6e0bb5",
   "metadata": {},
   "source": [
    "**#3.** Event loops are pluggable. That is, you could, if you really wanted, write your own event loop implementation and have it run tasks just the same. This is wonderfully demonstrated in the [`uvloop`](https://github.com/MagicStack/uvloop) package, which is an implementation of the event loop in Cython."
   ]
  },
  {
   "cell_type": "markdown",
   "id": "c3fa6536",
   "metadata": {},
   "source": [
    "That is what is meant by the term “pluggable event loop”: you can use any working implementation of an event loop, unrelated to the structure of the coroutines themselves. The `asyncio` package itself ships with [two different event loop implementations](https://docs.python.org/3/library/asyncio-eventloop.html#event-loop-implementations), with the default being based on the [`selectors`](https://docs.python.org/3/library/selectors.html#module-selectors) module. (The second implementation is built for Windows only.)"
   ]
  },
  {
   "cell_type": "markdown",
   "id": "9a9e68f6",
   "metadata": {},
   "source": [
    "<a class=\"anchor\" id=\"a_full_program:_asynchronous_requests\"></a>\n",
    "\n",
    "## A Full Program: Asynchronous Requests"
   ]
  },
  {
   "cell_type": "markdown",
   "id": "b1c138bb",
   "metadata": {},
   "source": [
    "You’ve made it this far, and now it’s time for the fun and painless part. In this section, you’ll build a web-scraping URL collector, `areq.py`, using `aiohttp`, a blazingly fast async HTTP client/server framework. (We just need the client part.) Such a tool could be used to map connections between a cluster of sites, with the links forming a [directed graph](https://en.wikipedia.org/wiki/Directed_graph)."
   ]
  },
  {
   "cell_type": "markdown",
   "id": "272297c6",
   "metadata": {},
   "source": [
    "The high-level program structure will look like this:"
   ]
  },
  {
   "cell_type": "markdown",
   "id": "3a865819",
   "metadata": {},
   "source": [
    "1. \n",
    "Read a sequence of URLs from a local file, `urls.txt`.\n",
    "\n",
    "\n",
    "\n",
    "2. \n",
    "Send GET requests for the URLs and decode the resulting content. If this fails, stop there for a URL.\n",
    "\n",
    "\n",
    "\n",
    "3. \n",
    "Search for the URLs within `href` tags in the HTML of the responses.\n",
    "\n",
    "\n",
    "\n",
    "4. \n",
    "Write the results to `foundurls.txt`.\n",
    "\n",
    "\n",
    "\n",
    "5. \n",
    "Do all of the above as asynchronously and concurrently as possible. (Use `aiohttp` for the requests, and `aiofiles` for the file-appends. These are two primary examples of IO that are well-suited for the async IO model.)\n",
    "\n",
    "\n",
    "\n"
   ]
  },
  {
   "cell_type": "markdown",
   "id": "e47bfa9a",
   "metadata": {},
   "source": [
    "Here are the contents of `urls.txt`. It’s not huge, and contains mostly highly trafficked sites:"
   ]
  },
  {
   "cell_type": "markdown",
   "id": "84f26cb1",
   "metadata": {},
   "source": [
    "```sh\n",
    "$ cat urls.txt\n",
    "https://regex101.com/\n",
    "https://docs.python.org/3/this-url-will-404.html\n",
    "https://www.nytimes.com/guides/\n",
    "https://www.mediamatters.org/\n",
    "https://1.1.1.1/\n",
    "https://www.politico.com/tipsheets/morning-money\n",
    "https://www.bloomberg.com/markets/economics\n",
    "https://www.ietf.org/rfc/rfc2616.txt\n",
    "```"
   ]
  },
  {
   "cell_type": "markdown",
   "id": "99a0bf8b",
   "metadata": {},
   "source": [
    "The second URL in the list should return a 404 response, which you’ll need to handle gracefully. If you’re running an expanded version of this program, you’ll probably need to deal with much hairier problems than this, such a server disconnections and endless redirects."
   ]
  },
  {
   "cell_type": "markdown",
   "id": "26a4fb85",
   "metadata": {},
   "source": [
    "The requests themselves should be made using a single session, to take advantage of reusage of the session’s internal connection pool."
   ]
  },
  {
   "cell_type": "markdown",
   "id": "fae04e4b",
   "metadata": {},
   "source": [
    "Let’s take a look at the full program. We’ll walk through things step-by-step after:"
   ]
  },
  {
   "cell_type": "code",
   "execution_count": null,
   "id": "dad5bc3a",
   "metadata": {},
   "outputs": [],
   "source": [
    "#!/usr/bin/env python3\n",
    "# areq.py\n",
    "\n",
    "\"\"\"Asynchronously get links embedded in multiple pages' HMTL.\"\"\"\n",
    "\n",
    "import asyncio\n",
    "import logging\n",
    "import re\n",
    "import sys\n",
    "from typing import IO\n",
    "import urllib.error\n",
    "import urllib.parse\n",
    "\n",
    "import aiofiles\n",
    "import aiohttp\n",
    "from aiohttp import ClientSession\n",
    "\n",
    "logging.basicConfig(\n",
    "    format=\"%(asctime)s %(levelname)s:%(name)s: %(message)s\",\n",
    "    level=logging.DEBUG,\n",
    "    datefmt=\"%H:%M:%S\",\n",
    "    stream=sys.stderr,\n",
    ")\n",
    "logger = logging.getLogger(\"areq\")\n",
    "logging.getLogger(\"chardet.charsetprober\").disabled = True\n",
    "\n",
    "HREF_RE = re.compile(r'href=\"(.*?)\"')\n",
    "\n",
    "async def fetch_html(url: str, session: ClientSession, **kwargs) -> str:\n",
    "    \"\"\"GET request wrapper to fetch page HTML.\n",
    "\n",
    "    kwargs are passed to `session.request()`.\n",
    "    \"\"\"\n",
    "\n",
    "    resp = await session.request(method=\"GET\", url=url, **kwargs)\n",
    "    resp.raise_for_status()\n",
    "    logger.info(\"Got response [%s] for URL: %s\", resp.status, url)\n",
    "    html = await resp.text()\n",
    "    return html\n",
    "\n",
    "async def parse(url: str, session: ClientSession, **kwargs) -> set:\n",
    "    \"\"\"Find HREFs in the HTML of `url`.\"\"\"\n",
    "    found = set()\n",
    "    try:\n",
    "        html = await fetch_html(url=url, session=session, **kwargs)\n",
    "    except (\n",
    "        aiohttp.ClientError,\n",
    "        aiohttp.http_exceptions.HttpProcessingError,\n",
    "    ) as e:\n",
    "        logger.error(\n",
    "            \"aiohttp exception for %s [%s]: %s\",\n",
    "            url,\n",
    "            getattr(e, \"status\", None),\n",
    "            getattr(e, \"message\", None),\n",
    "        )\n",
    "        return found\n",
    "    except Exception as e:\n",
    "        logger.exception(\n",
    "            \"Non-aiohttp exception occured:  %s\", getattr(e, \"__dict__\", {})\n",
    "        )\n",
    "        return found\n",
    "    else:\n",
    "        for link in HREF_RE.findall(html):\n",
    "            try:\n",
    "                abslink = urllib.parse.urljoin(url, link)\n",
    "            except (urllib.error.URLError, ValueError):\n",
    "                logger.exception(\"Error parsing URL: %s\", link)\n",
    "                pass\n",
    "            else:\n",
    "                found.add(abslink)\n",
    "        logger.info(\"Found %d links for %s\", len(found), url)\n",
    "        return found\n",
    "\n",
    "async def write_one(file: IO, url: str, **kwargs) -> None:\n",
    "    \"\"\"Write the found HREFs from `url` to `file`.\"\"\"\n",
    "    res = await parse(url=url, **kwargs)\n",
    "    if not res:\n",
    "        return None\n",
    "    async with aiofiles.open(file, \"a\") as f:\n",
    "        for p in res:\n",
    "            await f.write(f\"{url}\\t{p}\\n\")\n",
    "        logger.info(\"Wrote results for source URL: %s\", url)\n",
    "\n",
    "async def bulk_crawl_and_write(file: IO, urls: set, **kwargs) -> None:\n",
    "    \"\"\"Crawl & write concurrently to `file` for multiple `urls`.\"\"\"\n",
    "    async with ClientSession() as session:\n",
    "        tasks = []\n",
    "        for url in urls:\n",
    "            tasks.append(\n",
    "                write_one(file=file, url=url, session=session, **kwargs)\n",
    "            )\n",
    "        await asyncio.gather(*tasks)\n",
    "\n",
    "if __name__ == \"__main__\":\n",
    "    import pathlib\n",
    "    import sys\n",
    "\n",
    "    assert sys.version_info >= (3, 7), \"Script requires Python 3.7+.\"\n",
    "    here = pathlib.Path(__file__).parent\n",
    "\n",
    "    with open(here.joinpath(\"urls.txt\")) as infile:\n",
    "        urls = set(map(str.strip, infile))\n",
    "\n",
    "    outpath = here.joinpath(\"foundurls.txt\")\n",
    "    with open(outpath, \"w\") as outfile:\n",
    "        outfile.write(\"source_url\\tparsed_url\\n\")\n",
    "\n",
    "    asyncio.run(bulk_crawl_and_write(file=outpath, urls=urls))"
   ]
  },
  {
   "cell_type": "markdown",
   "id": "bb92daa0",
   "metadata": {},
   "source": [
    "This script is longer than our initial toy programs, so let’s break it down."
   ]
  },
  {
   "cell_type": "markdown",
   "id": "4ae4c669",
   "metadata": {},
   "source": [
    "The constant `HREF_RE` is a [regular expression](https://realpython.com/regex-python/) to extract what we’re ultimately searching for, `href` tags within HTML:"
   ]
  },
  {
   "cell_type": "code",
   "execution_count": null,
   "id": "6d1cc0f1",
   "metadata": {},
   "outputs": [],
   "source": [
    ">>> HREF_RE.search('Go to <a href=\"https://realpython.com/\">Real Python</a>')\n",
    "<re.Match object; span=(15, 45), match='href=\"https://realpython.com/\"'>"
   ]
  },
  {
   "cell_type": "markdown",
   "id": "94240600",
   "metadata": {},
   "source": [
    "The coroutine `fetch_html()` is a wrapper around a GET request to make the request and decode the resulting page HTML. It makes the request, awaits the response, and raises right away in the case of a non-200 status:"
   ]
  },
  {
   "cell_type": "code",
   "execution_count": null,
   "id": "b328e2aa",
   "metadata": {},
   "outputs": [],
   "source": [
    "resp = await session.request(method=\"GET\", url=url, **kwargs)\n",
    "resp.raise_for_status()"
   ]
  },
  {
   "cell_type": "markdown",
   "id": "96bb0628",
   "metadata": {},
   "source": [
    "If the status is okay, `fetch_html()` returns the page HTML (a `str`). Notably, there is no exception handling done in this function. The logic is to propagate that exception to the caller and let it be handled there:"
   ]
  },
  {
   "cell_type": "code",
   "execution_count": null,
   "id": "de4e50d3",
   "metadata": {},
   "outputs": [],
   "source": [
    "html = await resp.text()"
   ]
  },
  {
   "cell_type": "markdown",
   "id": "5fa532e8",
   "metadata": {},
   "source": [
    "We `await` `session.request()` and `resp.text()` because they’re awaitable coroutines. The request/response cycle would otherwise be the long-tailed, time-hogging portion of the application, but with async IO, `fetch_html()` lets the event loop work on other readily available jobs such as parsing and writing URLs that have already been fetched."
   ]
  },
  {
   "cell_type": "markdown",
   "id": "ac6eab3f",
   "metadata": {},
   "source": [
    "Next in the chain of coroutines comes `parse()`, which waits on `fetch_html()` for a given URL, and then extracts all of the `href` tags from that page’s HTML, making sure that each is valid and formatting it as an absolute path."
   ]
  },
  {
   "cell_type": "markdown",
   "id": "d6f52596",
   "metadata": {},
   "source": [
    "Admittedly, the second portion of `parse()` is blocking, but it consists of a quick regex match and ensuring that the links discovered are made into absolute paths."
   ]
  },
  {
   "cell_type": "markdown",
   "id": "0c3224f6",
   "metadata": {},
   "source": [
    "In this specific case, this synchronous code should be quick and inconspicuous. But just remember that any line within a given coroutine will block other coroutines unless that line uses `yield`, `await`, or `return`. If the parsing was a more intensive process, you might want to consider running this portion in its own process with [`loop.run_in_executor()`](https://docs.python.org/3/library/asyncio-eventloop.html#executing-code-in-thread-or-process-pools)."
   ]
  },
  {
   "cell_type": "markdown",
   "id": "19559559",
   "metadata": {},
   "source": [
    "Next, the coroutine `write()` takes a file object and a single URL, and waits on `parse()` to return a `set` of the parsed URLs, writing each to the file asynchronously along with its source URL through use of `aiofiles`, a package for async file IO."
   ]
  },
  {
   "cell_type": "markdown",
   "id": "31a1a13a",
   "metadata": {},
   "source": [
    "Lastly, `bulk_crawl_and_write()` serves as the main entry point into the script’s chain of coroutines. It uses a single session, and a task is created for each URL that is ultimately read from `urls.txt`."
   ]
  },
  {
   "cell_type": "markdown",
   "id": "2806f90d",
   "metadata": {},
   "source": [
    "Here are a few additional points that deserve mention:"
   ]
  },
  {
   "cell_type": "markdown",
   "id": "c82220f8",
   "metadata": {},
   "source": [
    "- \n",
    "The default `ClientSession` has an [adapter](https://aiohttp.readthedocs.io/en/stable/client_reference.html#connectors) with a maximum of 100 open connections. To change that, pass an instance of `asyncio.connector.TCPConnector` to `ClientSession`. You can also specify limits on a per-host basis.\n",
    "\n",
    "\n",
    "\n",
    "- \n",
    "You can specify max [timeouts](https://aiohttp.readthedocs.io/en/stable/client_quickstart.html#timeouts) for both the session as a whole and for individual requests.\n",
    "\n",
    "\n",
    "\n",
    "- \n",
    "This script also uses `async with`, which works with an [asynchronous context manager](https://www.python.org/dev/peps/pep-0492/#asynchronous-context-managers-and-async-with). I haven’t devoted a whole section to this concept because the transition from synchronous to asynchronous context managers is fairly straightforward. The latter has to define `.__aenter__()` and `.__aexit__()` rather than `.__exit__()` and `.__enter__()`. As you might expect, `async with` can only be used inside a coroutine function declared with `async def`.\n",
    "\n",
    "\n",
    "\n"
   ]
  },
  {
   "cell_type": "markdown",
   "id": "28d8f373",
   "metadata": {},
   "source": [
    "If you’d like to explore a bit more, the [companion files](https://github.com/realpython/materials/tree/master/asyncio-walkthrough) for this tutorial up at GitHub have comments and docstrings attached as well."
   ]
  },
  {
   "cell_type": "markdown",
   "id": "26d28253",
   "metadata": {},
   "source": [
    "Here’s the execution in all of its glory, as `areq.py` gets, parses, and saves results for 9 URLs in under a second:"
   ]
  },
  {
   "cell_type": "markdown",
   "id": "be0b86f9",
   "metadata": {},
   "source": [
    "```sh\n",
    "$ python3 areq.py\n",
    "21:33:22 DEBUG:asyncio: Using selector: KqueueSelector\n",
    "21:33:22 INFO:areq: Got response [200] for URL: https://www.mediamatters.org/\n",
    "21:33:22 INFO:areq: Found 115 links for https://www.mediamatters.org/\n",
    "21:33:22 INFO:areq: Got response [200] for URL: https://www.nytimes.com/guides/\n",
    "21:33:22 INFO:areq: Got response [200] for URL: https://www.politico.com/tipsheets/morning-money\n",
    "21:33:22 INFO:areq: Got response [200] for URL: https://www.ietf.org/rfc/rfc2616.txt\n",
    "21:33:22 ERROR:areq: aiohttp exception for https://docs.python.org/3/this-url-will-404.html [404]: Not Found\n",
    "21:33:22 INFO:areq: Found 120 links for https://www.nytimes.com/guides/\n",
    "21:33:22 INFO:areq: Found 143 links for https://www.politico.com/tipsheets/morning-money\n",
    "21:33:22 INFO:areq: Wrote results for source URL: https://www.mediamatters.org/\n",
    "21:33:22 INFO:areq: Found 0 links for https://www.ietf.org/rfc/rfc2616.txt\n",
    "21:33:22 INFO:areq: Got response [200] for URL: https://1.1.1.1/\n",
    "21:33:22 INFO:areq: Wrote results for source URL: https://www.nytimes.com/guides/\n",
    "21:33:22 INFO:areq: Wrote results for source URL: https://www.politico.com/tipsheets/morning-money\n",
    "21:33:22 INFO:areq: Got response [200] for URL: https://www.bloomberg.com/markets/economics\n",
    "21:33:22 INFO:areq: Found 3 links for https://www.bloomberg.com/markets/economics\n",
    "21:33:22 INFO:areq: Wrote results for source URL: https://www.bloomberg.com/markets/economics\n",
    "21:33:23 INFO:areq: Found 36 links for https://1.1.1.1/\n",
    "21:33:23 INFO:areq: Got response [200] for URL: https://regex101.com/\n",
    "21:33:23 INFO:areq: Found 23 links for https://regex101.com/\n",
    "21:33:23 INFO:areq: Wrote results for source URL: https://regex101.com/\n",
    "21:33:23 INFO:areq: Wrote results for source URL: https://1.1.1.1/\n",
    "```"
   ]
  },
  {
   "cell_type": "markdown",
   "id": "6acaeae3",
   "metadata": {},
   "source": [
    "That’s not too shabby! As a sanity check, you can check the line-count on the output. In my case, it’s 626, though keep in mind this may fluctuate:"
   ]
  },
  {
   "cell_type": "markdown",
   "id": "ce081ad3",
   "metadata": {},
   "source": [
    "```sh\n",
    "$ wc -l foundurls.txt\n",
    "     626 foundurls.txt\n",
    "\n",
    "$ head -n 3 foundurls.txt\n",
    "source_url  parsed_url\n",
    "https://www.bloomberg.com/markets/economics https://www.bloomberg.com/feedback\n",
    "https://www.bloomberg.com/markets/economics https://www.bloomberg.com/notices/tos\n",
    "```"
   ]
  },
  {
   "cell_type": "markdown",
   "id": "2e883174",
   "metadata": {},
   "source": [
    "<a class=\"anchor\" id=\"async_io_in_context\"></a>\n",
    "\n",
    "## Async IO in Context"
   ]
  },
  {
   "cell_type": "markdown",
   "id": "861d8aad",
   "metadata": {},
   "source": [
    "Now that you’ve seen a healthy dose of code, let’s step back for a minute and consider when async IO is an ideal option and how you can make the comparison to arrive at that conclusion or otherwise choose a different model of concurrency."
   ]
  },
  {
   "cell_type": "markdown",
   "id": "420dd065",
   "metadata": {},
   "source": [
    "<a class=\"anchor\" id=\"when_and_why_is_async_io_the_right_choice?\"></a>\n",
    "\n",
    "### When and Why Is Async IO the Right Choice?"
   ]
  },
  {
   "cell_type": "markdown",
   "id": "eb313223",
   "metadata": {},
   "source": [
    "This tutorial is no place for an extended treatise on async IO versus threading versus multiprocessing. However, it’s useful to have an idea of when async IO is probably the best candidate of the three."
   ]
  },
  {
   "cell_type": "markdown",
   "id": "ff331af3",
   "metadata": {},
   "source": [
    "The battle over async IO versus multiprocessing is not really a battle at all. In fact, they can be [used in concert](https://youtu.be/0kXaLh8Fz3k?t=10m30s). If you have multiple, fairly uniform CPU-bound tasks (a great example is a [grid search](http://scikit-learn.org/stable/modules/grid_search.html#parallelism) in libraries such as `scikit-learn` or `keras`), multiprocessing should be an obvious choice."
   ]
  },
  {
   "cell_type": "markdown",
   "id": "2700405d",
   "metadata": {},
   "source": [
    "Simply putting `async` before every function is a bad idea if all of the functions use blocking calls. (This can actually slow down your code.) But as mentioned previously, there are places where async IO and multiprocessing can [live in harmony](https://youtu.be/0kXaLh8Fz3k?t=10m30s)."
   ]
  },
  {
   "cell_type": "markdown",
   "id": "49d92ee8",
   "metadata": {},
   "source": [
    "The contest between async IO and threading is a little bit more direct. I mentioned in the introduction that “threading is hard.” The full story is that, even in cases where threading seems easy to implement, it can still lead to infamous impossible-to-trace bugs due to race conditions and memory usage, among other things."
   ]
  },
  {
   "cell_type": "markdown",
   "id": "b216d462",
   "metadata": {},
   "source": [
    "Threading also tends to scale less elegantly than async IO, because threads are a system resource with a finite availability. Creating thousands of threads will fail on many machines, and I don’t recommend trying it in the first place. Creating thousands of async IO tasks is completely feasible."
   ]
  },
  {
   "cell_type": "markdown",
   "id": "ad72102e",
   "metadata": {},
   "source": [
    "Async IO shines when you have multiple IO-bound tasks where the tasks would otherwise be dominated by blocking IO-bound wait time, such as:"
   ]
  },
  {
   "cell_type": "markdown",
   "id": "480dc9c8",
   "metadata": {},
   "source": [
    "- \n",
    "Network IO, whether your program is the server or the client side\n",
    "\n",
    "\n",
    "\n",
    "- \n",
    "Serverless designs, such as a peer-to-peer, multi-user network like a group chatroom\n",
    "\n",
    "\n",
    "\n",
    "- \n",
    "Read/write operations where you want to mimic a “fire-and-forget” style but worry less about holding a lock on whatever you’re reading and writing to\n",
    "\n",
    "\n",
    "\n"
   ]
  },
  {
   "cell_type": "markdown",
   "id": "86643197",
   "metadata": {},
   "source": [
    "The biggest reason not to use it is that `await` only supports a specific set of objects that define a specific set of methods. If you want to do async read operations with a certain DBMS, you’ll need to find not just a Python wrapper for that DBMS, but one that supports the `async`/`await` syntax. Coroutines that contain synchronous calls block other coroutines and tasks from running."
   ]
  },
  {
   "cell_type": "markdown",
   "id": "351bb250",
   "metadata": {},
   "source": [
    "For a shortlist of libraries that work with `async`/`await`, see the [list](#libraries-that-work-with-asyncawait) at the end of this tutorial."
   ]
  },
  {
   "cell_type": "markdown",
   "id": "cb07f7f9",
   "metadata": {},
   "source": [
    "<a class=\"anchor\" id=\"async_io_it_is,_but_which_one?\"></a>\n",
    "\n",
    "### Async IO It Is, but Which One?"
   ]
  },
  {
   "cell_type": "markdown",
   "id": "ce592779",
   "metadata": {},
   "source": [
    "This tutorial focuses on async IO, the `async`/`await` syntax, and using `asyncio` for event-loop management and specifying tasks. `asyncio` certainly isn’t the only async IO library out there. This observation from Nathaniel J. Smith says a lot:"
   ]
  },
  {
   "cell_type": "markdown",
   "id": "32fe4486",
   "metadata": {},
   "source": [
    "To that end, a few big-name alternatives that do what `asyncio` does, albeit with different APIs and different approaches, are [`curio`](https://github.com/dabeaz/curio) and [`trio`](https://github.com/python-trio/trio). Personally, I think that if you’re building a moderately sized, straightforward program, just using `asyncio` is plenty sufficient and understandable, and lets you avoid adding yet another large dependency outside of Python’s standard library."
   ]
  },
  {
   "cell_type": "markdown",
   "id": "d613648a",
   "metadata": {},
   "source": [
    "But by all means, check out `curio` and `trio`, and you might find that they get the same thing done in a way that’s more intuitive for you as the user. Many of the package-agnostic concepts presented here should permeate to alternative async IO packages as well."
   ]
  },
  {
   "cell_type": "markdown",
   "id": "65b4fc81",
   "metadata": {},
   "source": [
    "<a class=\"anchor\" id=\"odds_and_ends\"></a>\n",
    "\n",
    "## Odds and Ends"
   ]
  },
  {
   "cell_type": "markdown",
   "id": "de3d211a",
   "metadata": {},
   "source": [
    "In these next few sections, you’ll cover some miscellaneous parts of `asyncio` and `async`/`await` that haven’t fit neatly into the tutorial thus far, but are still important for building and understanding a full program."
   ]
  },
  {
   "cell_type": "markdown",
   "id": "ac51c543",
   "metadata": {},
   "source": [
    "<a class=\"anchor\" id=\"other_top-level_`asyncio`_functions\"></a>\n",
    "\n",
    "### Other Top-Level `asyncio` Functions"
   ]
  },
  {
   "cell_type": "markdown",
   "id": "f966d48b",
   "metadata": {},
   "source": [
    "In addition to `asyncio.run()`, you’ve seen a few other package-level functions such as `asyncio.create_task()` and `asyncio.gather()`."
   ]
  },
  {
   "cell_type": "markdown",
   "id": "6edd4d6e",
   "metadata": {},
   "source": [
    "You can use `create_task()` to schedule the execution of a coroutine object, followed by `asyncio.run()`:"
   ]
  },
  {
   "cell_type": "code",
   "execution_count": null,
   "id": "cff1d5b8",
   "metadata": {},
   "outputs": [],
   "source": [
    ">>>>>> import asyncio\n",
    "\n",
    ">>> async def coro(seq) -> list:\n",
    "...     \"\"\"'IO' wait time is proportional to the max element.\"\"\"\n",
    "...     await asyncio.sleep(max(seq))\n",
    "...     return list(reversed(seq))\n",
    "...\n",
    ">>> async def main():\n",
    "...     # This is a bit redundant in the case of one task\n",
    "...     # We could use `await coro([3, 2, 1])` on its own\n",
    "...     t = asyncio.create_task(coro([3, 2, 1]))  # Python 3.7+\n",
    "...     await t\n",
    "...     print(f't: type {type(t)}')\n",
    "...     print(f't done: {t.done()}')\n",
    "...\n",
    ">>> t = asyncio.run(main())\n",
    "t: type <class '_asyncio.Task'>\n",
    "t done: True"
   ]
  },
  {
   "cell_type": "markdown",
   "id": "fc43cf09",
   "metadata": {},
   "source": [
    "There’s a subtlety to this pattern: if you don’t `await t` within `main()`, it may finish before `main()` itself signals that it is complete. Because `asyncio.run(main())` [calls `loop.run_until_complete(main())`](https://github.com/python/cpython/blob/7e18deef652a9d413d5dbd19d61073ba7eb5460e/Lib/asyncio/runners.py#L43), the event loop is only concerned (without `await t` present) that `main()` is done, not that the tasks that get created within `main()` are done. Without `await t`, the loop’s other tasks [will be cancelled](https://github.com/python/cpython/blob/7e18deef652a9d413d5dbd19d61073ba7eb5460e/Lib/asyncio/runners.py#L46), possibly before they are completed. If you need to get a list of currently pending tasks, you can use `asyncio.Task.all_tasks()`."
   ]
  },
  {
   "cell_type": "markdown",
   "id": "d993d5f1",
   "metadata": {},
   "source": [
    "Separately, there’s `asyncio.gather()`. While it doesn’t do anything tremendously special, `gather()` is meant to neatly put a collection of coroutines (futures) into a single future. As a result, it returns a single future object, and, if you `await asyncio.gather()` and specify multiple tasks or coroutines, you’re waiting for all of them to be completed. (This somewhat parallels `queue.join()` from our earlier example.) The result of `gather()` will be a list of the results across the inputs:"
   ]
  },
  {
   "cell_type": "code",
   "execution_count": null,
   "id": "4aaf05e9",
   "metadata": {},
   "outputs": [],
   "source": [
    ">>> import time\n",
    ">>> async def main():\n",
    "...     t = asyncio.create_task(coro([3, 2, 1]))\n",
    "...     t2 = asyncio.create_task(coro([10, 5, 0]))  # Python 3.7+\n",
    "...     print('Start:', time.strftime('%X'))\n",
    "...     a = await asyncio.gather(t, t2)\n",
    "...     print('End:', time.strftime('%X'))  # Should be 10 seconds\n",
    "...     print(f'Both tasks done: {all((t.done(), t2.done()))}')\n",
    "...     return a\n",
    "...\n",
    ">>> a = asyncio.run(main())\n",
    "Start: 16:20:11\n",
    "End: 16:20:21\n",
    "Both tasks done: True\n",
    ">>> a\n",
    "[[1, 2, 3], [0, 5, 10]]"
   ]
  },
  {
   "cell_type": "markdown",
   "id": "abcb7519",
   "metadata": {},
   "source": [
    "You probably noticed that `gather()` waits on the entire result set of the Futures or coroutines that you pass it. Alternatively, you can loop over `asyncio.as_completed()` to get tasks as they are completed, in the order of completion. The function returns an iterator that yields tasks as they finish. Below, the result of `coro([3, 2, 1])` will be available before `coro([10, 5, 0])` is complete, which is not the case with `gather()`:"
   ]
  },
  {
   "cell_type": "code",
   "execution_count": null,
   "id": "77636d77",
   "metadata": {},
   "outputs": [],
   "source": [
    ">>> async def main():\n",
    "...     t = asyncio.create_task(coro([3, 2, 1]))\n",
    "...     t2 = asyncio.create_task(coro([10, 5, 0]))\n",
    "...     print('Start:', time.strftime('%X'))\n",
    "...     for res in asyncio.as_completed((t, t2)):\n",
    "...         compl = await res\n",
    "...         print(f'res: {compl} completed at {time.strftime(\"%X\")}')\n",
    "...     print('End:', time.strftime('%X'))\n",
    "...     print(f'Both tasks done: {all((t.done(), t2.done()))}')\n",
    "...\n",
    ">>> a = asyncio.run(main())\n",
    "Start: 09:49:07\n",
    "res: [1, 2, 3] completed at 09:49:10\n",
    "res: [0, 5, 10] completed at 09:49:17\n",
    "End: 09:49:17\n",
    "Both tasks done: True"
   ]
  },
  {
   "cell_type": "markdown",
   "id": "c3113b8f",
   "metadata": {},
   "source": [
    "Lastly, you may also see `asyncio.ensure_future()`. You should rarely need it, because it’s a lower-level plumbing API and largely replaced by `create_task()`, which was introduced later."
   ]
  },
  {
   "cell_type": "markdown",
   "id": "b82c4a28",
   "metadata": {},
   "source": [
    "<a class=\"anchor\" id=\"the_precedence_of_`await`\"></a>\n",
    "\n",
    "### The Precedence of `await`"
   ]
  },
  {
   "cell_type": "markdown",
   "id": "b035f3ae",
   "metadata": {},
   "source": [
    "While they behave somewhat similarly, the `await` keyword has significantly higher precedence than `yield`. This means that, because it is more tightly bound, there are a number of instances where you’d need parentheses in a `yield from` statement that are not required in an analogous `await` statement. For more information, see [examples of `await` expressions](https://www.python.org/dev/peps/pep-0492/#examples-of-await-expressions) from PEP 492."
   ]
  },
  {
   "attachments": {},
   "cell_type": "markdown",
   "id": "a7452d85",
   "metadata": {},
   "source": [
    "<a class=\"anchor\" id=\"conclusion\"></a>\n",
    "\n",
    "## <img src=\"../../images/logos/checkmark.png\" width=\"20\"/> Conclusion "
   ]
  },
  {
   "cell_type": "markdown",
   "id": "8260906c",
   "metadata": {},
   "source": [
    "You’re now equipped to use `async`/`await` and the libraries built off of it. Here’s a recap of what you’ve covered:"
   ]
  },
  {
   "cell_type": "markdown",
   "id": "332030af",
   "metadata": {},
   "source": [
    "- \n",
    "Asynchronous IO as a language-agnostic model and a way to effect concurrency by letting coroutines indirectly communicate with each other\n",
    "\n",
    "\n",
    "\n",
    "- \n",
    "The specifics of Python’s new `async` and `await` keywords, used to mark and define coroutines\n",
    "\n",
    "\n",
    "\n",
    "- \n",
    "`asyncio`, the Python package that provides the API to run and manage coroutines\n",
    "\n",
    "\n",
    "\n"
   ]
  },
  {
   "cell_type": "markdown",
   "id": "1795bde2",
   "metadata": {},
   "source": [
    "<a class=\"anchor\" id=\"resources\"></a>\n",
    "\n",
    "## Resources"
   ]
  },
  {
   "cell_type": "markdown",
   "id": "f3e89789",
   "metadata": {},
   "source": [
    "<a class=\"anchor\" id=\"python_version_specifics\"></a>\n",
    "\n",
    "### Python Version Specifics"
   ]
  },
  {
   "cell_type": "markdown",
   "id": "b47000b5",
   "metadata": {},
   "source": [
    "Async IO in Python has evolved swiftly, and it can be hard to keep track of what came when. Here’s a list of Python minor-version changes and introductions related to `asyncio`:"
   ]
  },
  {
   "cell_type": "markdown",
   "id": "1af205c2",
   "metadata": {},
   "source": [
    "- 3.3: The `yield from` expression allows for generator delegation.\n",
    "- 3.4: `asyncio` was introduced in the Python standard library with provisional API status.\n",
    "- 3.5: `async` and `await` became a part of the Python grammar, used to signify and wait on coroutines. They were not yet reserved keywords. (You could still define functions or variables named `async` and `await`.)\n",
    "- 3.6: Asynchronous generators and asynchronous comprehensions were introduced. The API of `asyncio` was declared stable rather than provisional.\n",
    "- 3.7: `async` and `await` became reserved keywords. (They cannot be used as identifiers.) They are intended to replace the `asyncio.coroutine()` decorator. `asyncio.run()` was introduced to the `asyncio` package, among [a bunch of other features](https://docs.python.org/3/whatsnew/3.7.html#whatsnew37-asyncio)."
   ]
  },
  {
   "cell_type": "markdown",
   "id": "af1ce96b",
   "metadata": {},
   "source": [
    "If you want to be safe (and be able to use `asyncio.run()`), go with Python 3.7 or above to get the full set of features."
   ]
  },
  {
   "cell_type": "markdown",
   "id": "721db5ae",
   "metadata": {},
   "source": [
    "<a class=\"anchor\" id=\"articles\"></a>\n",
    "\n",
    "### Articles"
   ]
  },
  {
   "cell_type": "markdown",
   "id": "673bcbab",
   "metadata": {},
   "source": [
    "Here’s a curated list of additional resources:"
   ]
  },
  {
   "cell_type": "markdown",
   "id": "ece35133",
   "metadata": {},
   "source": [
    "- Real Python: [Speed up your Python Program with Concurrency](https://realpython.com/python-concurrency/)\n",
    "- Real Python: [What is the Python Global Interpreter Lock?](https://realpython.com/python-gil/)\n",
    "- CPython: The `asyncio` package [source](https://github.com/python/cpython/tree/master/Lib/asyncio)\n",
    "- Python docs: [Data model > Coroutines](https://docs.python.org/3/reference/datamodel.html#coroutines)\n",
    "- TalkPython: [Async Techniques and Examples in Python](https://training.talkpython.fm/courses/details/async-in-python-with-threading-and-multiprocessing) \n",
    "- Brett Cannon: [How the Heck Does Async-Await Work in Python 3.5?](https://snarky.ca/how-the-heck-does-async-await-work-in-python-3-5/)\n",
    "- PYMOTW: [`asyncio`](https://pymotw.com/3/asyncio/)\n",
    "- A. Jesse Jiryu Davis and Guido van Rossum: [A Web Crawler With asyncio Coroutines](http://aosabook.org/en/500L/a-web-crawler-with-asyncio-coroutines.html)\n",
    "- Andy Pearce: [The State of Python Coroutines: `yield from`](http://www.andy-pearce.com/blog/posts/2016/Jun/the-state-of-python-coroutines-yield-from/)\n",
    "- Nathaniel J. Smith: [Some Thoughts on Asynchronous API Design in a Post-`async`/`await` World](https://vorpus.org/blog/some-thoughts-on-asynchronous-api-design-in-a-post-asyncawait-world/)\n",
    "- Armin Ronacher: [I don’t understand Python’s Asyncio](http://lucumr.pocoo.org/2016/10/30/i-dont-understand-asyncio/)\n",
    "- Andy Balaam: [series on `asyncio`](http://www.artificialworlds.net/blog/2017/05/31/basic-ideas-of-python-3-asyncio-concurrency/) (4 posts)\n",
    "- Stack Overflow: [Python `asyncio.semaphore` in `async`-`await` function](https://stackoverflow.com/q/40836800/7954504)\n",
    "- Yeray Diaz:* [AsyncIO for the Working Python Developer](https://hackernoon.com/asyncio-for-the-working-python-developer-5c468e6e2e8e)\n",
    "* [Asyncio Coroutine Patterns: Beyond `await`](https://medium.com/python-pandemonium/asyncio-coroutine-patterns-beyond-await-a6121486656f)\n",
    "\n",
    "\n",
    "\n"
   ]
  },
  {
   "cell_type": "markdown",
   "id": "9bd2d79f",
   "metadata": {},
   "source": [
    "A few Python *What’s New* sections explain the motivation behind language changes in more detail:"
   ]
  },
  {
   "cell_type": "markdown",
   "id": "6d79dd9e",
   "metadata": {},
   "source": [
    "- [What’s New in Python 3.3](https://docs.python.org/3/whatsnew/3.3.html#pep-380) (`yield from` and PEP 380)\n",
    "- [What’s New in Python 3.6](https://docs.python.org/3/whatsnew/3.6.html#whatsnew36-pep525) (PEP 525 & 530)\n"
   ]
  },
  {
   "cell_type": "markdown",
   "id": "b7ba7341",
   "metadata": {},
   "source": [
    "From David Beazley:"
   ]
  },
  {
   "cell_type": "markdown",
   "id": "94781f70",
   "metadata": {},
   "source": [
    "- [Generator: Tricks for Systems Programmers](http://www.dabeaz.com/generators/)\n",
    "- [A Curious Course on Coroutines and Concurrency](http://www.dabeaz.com/coroutines/)\n",
    "- [Generators: The Final Frontier](http://dabeaz.com/finalgenerator/index.html)\n"
   ]
  },
  {
   "cell_type": "markdown",
   "id": "5c476644",
   "metadata": {},
   "source": [
    "YouTube talks:"
   ]
  },
  {
   "cell_type": "markdown",
   "id": "f3e63b3f",
   "metadata": {},
   "source": [
    "- [John Reese - Thinking Outside the GIL with AsyncIO and Multiprocessing - PyCon 2018](https://youtu.be/0kXaLh8Fz3k)\n",
    "- [Keynote David Beazley - Topics of Interest (Python Asyncio)](https://youtu.be/ZzfHjytDceU)\n",
    "- [David Beazley - Python Concurrency From the Ground Up: LIVE! - PyCon 2015](https://youtu.be/MCs5OvhV9S4)\n",
    "- [Raymond Hettinger, Keynote on Concurrency, PyBay 2017](https://youtu.be/9zinZmE3Ogk)\n",
    "- [Thinking about Concurrency, Raymond Hettinger, Python core developer](https://youtu.be/Bv25Dwe84g0)\n",
    "- [Miguel Grinberg Asynchronous Python for the Complete Beginner PyCon 2017](https://youtu.be/iG6fr81xHKA)\n",
    "- [Yury Selivanov asyncawait and asyncio in Python 3 6 and beyond PyCon 2017](https://youtu.be/2ZFFv-wZ8_g)\n",
    "- [Fear and Awaiting in Async: A Savage Journey to the Heart of the Coroutine Dream](https://youtu.be/E-1Y4kSsAFc)\n",
    "- [What Is Async, How Does It Work, and When Should I Use It? (PyCon APAC 2014)](https://youtu.be/kdzL3r-yJZY)\n"
   ]
  },
  {
   "cell_type": "markdown",
   "id": "855c97c8",
   "metadata": {},
   "source": [
    "<a class=\"anchor\" id=\"related_peps\"></a>\n",
    "\n",
    "### Related PEPs"
   ]
  },
  {
   "cell_type": "markdown",
   "id": "aa5ea2ba",
   "metadata": {},
   "source": [
    "|PEP|Date Created|\n",
    "|:--|:--|\n",
    "|[PEP 342 – Coroutines via Enhanced Generators](https://www.python.org/dev/peps/pep-0342/)|2005-05|\n",
    "|[PEP 380 – Syntax for Delegating to a Subgenerator](https://www.python.org/dev/peps/pep-0380/)|2009-02|\n",
    "|[PEP 3153 – Asynchronous IO support](https://www.python.org/dev/peps/pep-3153/)|2011-05|\n",
    "|[PEP 3156 – Asynchronous IO Support Rebooted: the “asyncio” Module](https://www.python.org/dev/peps/pep-3156/)|2012-12|\n",
    "|[PEP 492 – Coroutines with async and await syntax](https://www.python.org/dev/peps/pep-0492/)|2015-04|\n",
    "|[PEP 525 – Asynchronous Generators](https://www.python.org/dev/peps/pep-0525/)|2016-07|\n",
    "|[PEP 530 – Asynchronous Comprehensions](https://www.python.org/dev/peps/pep-0530/)|2016-09|\n"
   ]
  },
  {
   "cell_type": "markdown",
   "id": "10789b1d",
   "metadata": {},
   "source": [
    "<a class=\"anchor\" id=\"libraries_that_work_with_`async`/`await`\"></a>\n",
    "\n",
    "### Libraries That Work With `async`/`await`"
   ]
  },
  {
   "cell_type": "markdown",
   "id": "2fcd408f",
   "metadata": {},
   "source": [
    "From [aio-libs](https://github.com/aio-libs):"
   ]
  },
  {
   "cell_type": "markdown",
   "id": "48ce3dac",
   "metadata": {},
   "source": [
    "- [`aiohttp`](https://github.com/aio-libs/aiohttp): Asynchronous HTTP client/server framework\n",
    "- [`aioredis`](https://github.com/aio-libs/aioredis): Async IO Redis support\n",
    "- [`aiopg`](https://github.com/aio-libs/aiopg): Async IO PostgreSQL support\n",
    "- [`aiomcache`](https://github.com/aio-libs/aiomcache): Async IO memcached client\n",
    "- [`aiokafka`](https://github.com/aio-libs/aiokafka): Async IO Kafka client\n",
    "- [`aiozmq`](https://github.com/aio-libs/aiozmq): Async IO ZeroMQ support\n",
    "- [`aiojobs`](https://github.com/aio-libs/aiojobs): Jobs scheduler for managing background tasks\n",
    "- [`async_lru`](https://github.com/aio-libs/async_lru): Simple [LRU cache](https://realpython.com/lru-cache-python/) for async IO\n"
   ]
  },
  {
   "cell_type": "markdown",
   "id": "fbd6531c",
   "metadata": {},
   "source": [
    "From [magicstack](https://magic.io/):"
   ]
  },
  {
   "cell_type": "markdown",
   "id": "0c4518f3",
   "metadata": {},
   "source": [
    "- [`uvloop`](https://github.com/MagicStack/uvloop): Ultra fast async IO event loop\n",
    "- [`asyncpg`](https://github.com/MagicStack/asyncpg): (Also very fast) async IO PostgreSQL support\n"
   ]
  },
  {
   "cell_type": "markdown",
   "id": "6bcd2c05",
   "metadata": {},
   "source": [
    "From other hosts:"
   ]
  },
  {
   "cell_type": "markdown",
   "id": "a0343b51",
   "metadata": {},
   "source": [
    "- [`trio`](https://github.com/python-trio/trio): Friendlier `asyncio` intended to showcase a radically simpler design\n",
    "- [`aiofiles`](https://github.com/Tinche/aiofiles): Async file IO\n",
    "- [`asks`](https://github.com/theelous3/asks): Async requests-like http library\n",
    "- [`asyncio-redis`](https://github.com/jonathanslenders/asyncio-redis): Async IO Redis support\n",
    "- [`aioprocessing`](https://github.com/dano/aioprocessing): Integrates `multiprocessing` module with `asyncio`\n",
    "- [`umongo`](https://github.com/Scille/umongo): Async IO MongoDB client\n",
    "- [`unsync`](https://github.com/alex-sherman/unsync): Unsynchronize `asyncio`\n",
    "- [`aiostream`](https://github.com/vxgmichel/aiostream): Like `itertools`, but async\n"
   ]
  }
 ],
 "metadata": {
  "kernelspec": {
   "display_name": "Python 3",
   "language": "python",
   "name": "python3"
  },
  "language_info": {
   "codemirror_mode": {
    "name": "ipython",
    "version": 3
   },
   "file_extension": ".py",
   "mimetype": "text/x-python",
   "name": "python",
   "nbconvert_exporter": "python",
   "pygments_lexer": "ipython3",
   "version": "3.8.11"
  }
 },
 "nbformat": 4,
 "nbformat_minor": 5
}
